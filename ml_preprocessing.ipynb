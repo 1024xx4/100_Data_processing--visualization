{
 "cells": [
  {
   "cell_type": "markdown",
   "source": [
    "# 機械学習の前処理を行なう"
   ],
   "metadata": {
    "collapsed": false,
    "pycharm": {
     "name": "#%% md\n"
    }
   }
  },
  {
   "cell_type": "markdown",
   "source": [
    "## 機械学習で予測する Data を設定しよう"
   ],
   "metadata": {
    "collapsed": false,
    "pycharm": {
     "name": "#%% md\n"
    }
   }
  },
  {
   "cell_type": "code",
   "execution_count": 1,
   "outputs": [
    {
     "data": {
      "text/plain": "     survived  pclass     sex   age  sibsp  parch     fare embarked   class  \\\n0           0       3    male  22.0      1      0   7.2500        S   Third   \n1           1       1  female  38.0      1      0  71.2833        C   First   \n2           1       3  female  26.0      0      0   7.9250        S   Third   \n3           1       1  female  35.0      1      0  53.1000        S   First   \n4           0       3    male  35.0      0      0   8.0500        S   Third   \n..        ...     ...     ...   ...    ...    ...      ...      ...     ...   \n886         0       2    male  27.0      0      0  13.0000        S  Second   \n887         1       1  female  19.0      0      0  30.0000        S   First   \n888         0       3  female   NaN      1      2  23.4500        S   Third   \n889         1       1    male  26.0      0      0  30.0000        C   First   \n890         0       3    male  32.0      0      0   7.7500        Q   Third   \n\n       who  adult_male deck  embark_town alive  alone  \n0      man        True  NaN  Southampton    no  False  \n1    woman       False    C    Cherbourg   yes  False  \n2    woman       False  NaN  Southampton   yes   True  \n3    woman       False    C  Southampton   yes  False  \n4      man        True  NaN  Southampton    no   True  \n..     ...         ...  ...          ...   ...    ...  \n886    man        True  NaN  Southampton    no   True  \n887  woman       False    B  Southampton   yes   True  \n888  woman       False  NaN  Southampton    no  False  \n889    man        True    C    Cherbourg   yes   True  \n890    man        True  NaN   Queenstown    no   True  \n\n[891 rows x 15 columns]",
      "text/html": "<div>\n<style scoped>\n    .dataframe tbody tr th:only-of-type {\n        vertical-align: middle;\n    }\n\n    .dataframe tbody tr th {\n        vertical-align: top;\n    }\n\n    .dataframe thead th {\n        text-align: right;\n    }\n</style>\n<table border=\"1\" class=\"dataframe\">\n  <thead>\n    <tr style=\"text-align: right;\">\n      <th></th>\n      <th>survived</th>\n      <th>pclass</th>\n      <th>sex</th>\n      <th>age</th>\n      <th>sibsp</th>\n      <th>parch</th>\n      <th>fare</th>\n      <th>embarked</th>\n      <th>class</th>\n      <th>who</th>\n      <th>adult_male</th>\n      <th>deck</th>\n      <th>embark_town</th>\n      <th>alive</th>\n      <th>alone</th>\n    </tr>\n  </thead>\n  <tbody>\n    <tr>\n      <th>0</th>\n      <td>0</td>\n      <td>3</td>\n      <td>male</td>\n      <td>22.0</td>\n      <td>1</td>\n      <td>0</td>\n      <td>7.2500</td>\n      <td>S</td>\n      <td>Third</td>\n      <td>man</td>\n      <td>True</td>\n      <td>NaN</td>\n      <td>Southampton</td>\n      <td>no</td>\n      <td>False</td>\n    </tr>\n    <tr>\n      <th>1</th>\n      <td>1</td>\n      <td>1</td>\n      <td>female</td>\n      <td>38.0</td>\n      <td>1</td>\n      <td>0</td>\n      <td>71.2833</td>\n      <td>C</td>\n      <td>First</td>\n      <td>woman</td>\n      <td>False</td>\n      <td>C</td>\n      <td>Cherbourg</td>\n      <td>yes</td>\n      <td>False</td>\n    </tr>\n    <tr>\n      <th>2</th>\n      <td>1</td>\n      <td>3</td>\n      <td>female</td>\n      <td>26.0</td>\n      <td>0</td>\n      <td>0</td>\n      <td>7.9250</td>\n      <td>S</td>\n      <td>Third</td>\n      <td>woman</td>\n      <td>False</td>\n      <td>NaN</td>\n      <td>Southampton</td>\n      <td>yes</td>\n      <td>True</td>\n    </tr>\n    <tr>\n      <th>3</th>\n      <td>1</td>\n      <td>1</td>\n      <td>female</td>\n      <td>35.0</td>\n      <td>1</td>\n      <td>0</td>\n      <td>53.1000</td>\n      <td>S</td>\n      <td>First</td>\n      <td>woman</td>\n      <td>False</td>\n      <td>C</td>\n      <td>Southampton</td>\n      <td>yes</td>\n      <td>False</td>\n    </tr>\n    <tr>\n      <th>4</th>\n      <td>0</td>\n      <td>3</td>\n      <td>male</td>\n      <td>35.0</td>\n      <td>0</td>\n      <td>0</td>\n      <td>8.0500</td>\n      <td>S</td>\n      <td>Third</td>\n      <td>man</td>\n      <td>True</td>\n      <td>NaN</td>\n      <td>Southampton</td>\n      <td>no</td>\n      <td>True</td>\n    </tr>\n    <tr>\n      <th>...</th>\n      <td>...</td>\n      <td>...</td>\n      <td>...</td>\n      <td>...</td>\n      <td>...</td>\n      <td>...</td>\n      <td>...</td>\n      <td>...</td>\n      <td>...</td>\n      <td>...</td>\n      <td>...</td>\n      <td>...</td>\n      <td>...</td>\n      <td>...</td>\n      <td>...</td>\n    </tr>\n    <tr>\n      <th>886</th>\n      <td>0</td>\n      <td>2</td>\n      <td>male</td>\n      <td>27.0</td>\n      <td>0</td>\n      <td>0</td>\n      <td>13.0000</td>\n      <td>S</td>\n      <td>Second</td>\n      <td>man</td>\n      <td>True</td>\n      <td>NaN</td>\n      <td>Southampton</td>\n      <td>no</td>\n      <td>True</td>\n    </tr>\n    <tr>\n      <th>887</th>\n      <td>1</td>\n      <td>1</td>\n      <td>female</td>\n      <td>19.0</td>\n      <td>0</td>\n      <td>0</td>\n      <td>30.0000</td>\n      <td>S</td>\n      <td>First</td>\n      <td>woman</td>\n      <td>False</td>\n      <td>B</td>\n      <td>Southampton</td>\n      <td>yes</td>\n      <td>True</td>\n    </tr>\n    <tr>\n      <th>888</th>\n      <td>0</td>\n      <td>3</td>\n      <td>female</td>\n      <td>NaN</td>\n      <td>1</td>\n      <td>2</td>\n      <td>23.4500</td>\n      <td>S</td>\n      <td>Third</td>\n      <td>woman</td>\n      <td>False</td>\n      <td>NaN</td>\n      <td>Southampton</td>\n      <td>no</td>\n      <td>False</td>\n    </tr>\n    <tr>\n      <th>889</th>\n      <td>1</td>\n      <td>1</td>\n      <td>male</td>\n      <td>26.0</td>\n      <td>0</td>\n      <td>0</td>\n      <td>30.0000</td>\n      <td>C</td>\n      <td>First</td>\n      <td>man</td>\n      <td>True</td>\n      <td>C</td>\n      <td>Cherbourg</td>\n      <td>yes</td>\n      <td>True</td>\n    </tr>\n    <tr>\n      <th>890</th>\n      <td>0</td>\n      <td>3</td>\n      <td>male</td>\n      <td>32.0</td>\n      <td>0</td>\n      <td>0</td>\n      <td>7.7500</td>\n      <td>Q</td>\n      <td>Third</td>\n      <td>man</td>\n      <td>True</td>\n      <td>NaN</td>\n      <td>Queenstown</td>\n      <td>no</td>\n      <td>True</td>\n    </tr>\n  </tbody>\n</table>\n<p>891 rows × 15 columns</p>\n</div>"
     },
     "execution_count": 1,
     "metadata": {},
     "output_type": "execute_result"
    }
   ],
   "source": [
    "import seaborn as sns\n",
    "dataset = sns.load_dataset('titanic')\n",
    "dataset"
   ],
   "metadata": {
    "collapsed": false,
    "pycharm": {
     "name": "#%%\n"
    }
   }
  },
  {
   "cell_type": "markdown",
   "source": [
    "- 先頭の survived が生還したのかの情報。\n",
    "- 機械学習は、実際に起きた過去の情報をもとに、こういった場合は生還できるのかを予測することになる。\n",
    "- もし海難事故にあった場合どういった顧客が生存できるのかを予測する Model を作る。\n",
    "- 目的変数（予測する対象）: survived\n",
    "- 説明変数（予測するために使う Data）: 中身を分析しながら目的変数に寄与する変数を選定していく"
   ],
   "metadata": {
    "collapsed": false,
    "pycharm": {
     "name": "#%% md\n"
    }
   }
  },
  {
   "cell_type": "code",
   "execution_count": 2,
   "outputs": [
    {
     "data": {
      "text/plain": "0      0\n1      1\n2      1\n3      1\n4      0\n      ..\n886    0\n887    1\n888    0\n889    1\n890    0\nName: survived, Length: 891, dtype: int64"
     },
     "execution_count": 2,
     "metadata": {},
     "output_type": "execute_result"
    }
   ],
   "source": [
    "# 目的変数を Label として分ける\n",
    "label = dataset.pop('survived')  # DataFrame.pop() を使って１列のみ取り出す\n",
    "label"
   ],
   "metadata": {
    "collapsed": false,
    "pycharm": {
     "name": "#%%\n"
    }
   }
  },
  {
   "cell_type": "markdown",
   "source": [
    "- 目的変数を明確に分けておくことで、説明変数の吟味がよりやりやすくなる。\n",
    "- 目的変数を y と定義し、説明変数を x と定義することもある。\n",
    "- 目的変数を分けるという作業は教師あり学習特有の作業になる。\n",
    "- 分類では label という名前を使うことが多く、回帰では y　を使うことが多い。"
   ],
   "metadata": {
    "collapsed": false,
    "pycharm": {
     "name": "#%% md\n"
    }
   }
  },
  {
   "cell_type": "markdown",
   "source": [
    "## Train data と Test data に分割しよう"
   ],
   "metadata": {
    "collapsed": false,
    "pycharm": {
     "name": "#%% md\n"
    }
   }
  },
  {
   "cell_type": "markdown",
   "source": [
    "- 機械学習では、Train data のみで学習を行ない、Test data で精度の評価を行なうことが多い。\n",
    "- Data の分割も教師あり学習特有の Task.\n",
    "- Data の分割方法は多岐にわたり、Data の件数や機械学習Model の要件等によっても変わってくる。\n",
    "    - Train / Test の２分割\n",
    "    - Train / Test / Validation の３分割を Random に抽出\n",
    "    - 交差検証法（５分割したうえで１つずつ Test data をずらしながら、学習、評価を実施していく）\n",
    "\n",
    "今回は、最も Simple な２分割に分けていく。"
   ],
   "metadata": {
    "collapsed": false,
    "pycharm": {
     "name": "#%% md\n"
    }
   }
  },
  {
   "cell_type": "code",
   "execution_count": 3,
   "outputs": [],
   "source": [
    "from sklearn.model_selection import train_test_split\n",
    "train_ds, test_ds, train_label, test_label = train_test_split(dataset, label, random_state=2021, stratify=label)"
   ],
   "metadata": {
    "collapsed": false,
    "pycharm": {
     "name": "#%%\n"
    }
   }
  },
  {
   "cell_type": "markdown",
   "source": [
    "train_test_split() で Data分割が可能。Default で train:test = 7:3 となるようになっている。\n",
    "- random_state=: Random Data の値を固定\n",
    "- stratify=: 均等に分割したい Data を指定。多くは目的変数にすることが多い。"
   ],
   "metadata": {
    "collapsed": false,
    "pycharm": {
     "name": "#%% md\n"
    }
   }
  },
  {
   "cell_type": "code",
   "execution_count": 4,
   "outputs": [
    {
     "data": {
      "text/plain": "     pclass     sex   age  sibsp  parch     fare embarked   class    who  \\\n293       3  female  24.0      0      0   8.8500        S   Third  woman   \n201       3    male   NaN      8      2  69.5500        S   Third    man   \n322       2  female  30.0      0      0  12.3500        Q  Second  woman   \n266       3    male  16.0      4      1  39.6875        S   Third    man   \n540       1  female  36.0      0      2  71.0000        S   First  woman   \n..      ...     ...   ...    ...    ...      ...      ...     ...    ...   \n218       1  female  32.0      0      0  76.2917        C   First  woman   \n800       2    male  34.0      0      0  13.0000        S  Second    man   \n68        3  female  17.0      4      2   7.9250        S   Third  woman   \n92        1    male  46.0      1      0  61.1750        S   First    man   \n480       3    male   9.0      5      2  46.9000        S   Third  child   \n\n     adult_male deck  embark_town alive  alone  \n293       False  NaN  Southampton    no   True  \n201        True  NaN  Southampton    no  False  \n322       False  NaN   Queenstown   yes   True  \n266        True  NaN  Southampton    no  False  \n540       False    B  Southampton   yes  False  \n..          ...  ...          ...   ...    ...  \n218       False    D    Cherbourg   yes   True  \n800        True  NaN  Southampton    no   True  \n68        False  NaN  Southampton   yes  False  \n92         True    E  Southampton    no  False  \n480       False  NaN  Southampton    no  False  \n\n[668 rows x 14 columns]",
      "text/html": "<div>\n<style scoped>\n    .dataframe tbody tr th:only-of-type {\n        vertical-align: middle;\n    }\n\n    .dataframe tbody tr th {\n        vertical-align: top;\n    }\n\n    .dataframe thead th {\n        text-align: right;\n    }\n</style>\n<table border=\"1\" class=\"dataframe\">\n  <thead>\n    <tr style=\"text-align: right;\">\n      <th></th>\n      <th>pclass</th>\n      <th>sex</th>\n      <th>age</th>\n      <th>sibsp</th>\n      <th>parch</th>\n      <th>fare</th>\n      <th>embarked</th>\n      <th>class</th>\n      <th>who</th>\n      <th>adult_male</th>\n      <th>deck</th>\n      <th>embark_town</th>\n      <th>alive</th>\n      <th>alone</th>\n    </tr>\n  </thead>\n  <tbody>\n    <tr>\n      <th>293</th>\n      <td>3</td>\n      <td>female</td>\n      <td>24.0</td>\n      <td>0</td>\n      <td>0</td>\n      <td>8.8500</td>\n      <td>S</td>\n      <td>Third</td>\n      <td>woman</td>\n      <td>False</td>\n      <td>NaN</td>\n      <td>Southampton</td>\n      <td>no</td>\n      <td>True</td>\n    </tr>\n    <tr>\n      <th>201</th>\n      <td>3</td>\n      <td>male</td>\n      <td>NaN</td>\n      <td>8</td>\n      <td>2</td>\n      <td>69.5500</td>\n      <td>S</td>\n      <td>Third</td>\n      <td>man</td>\n      <td>True</td>\n      <td>NaN</td>\n      <td>Southampton</td>\n      <td>no</td>\n      <td>False</td>\n    </tr>\n    <tr>\n      <th>322</th>\n      <td>2</td>\n      <td>female</td>\n      <td>30.0</td>\n      <td>0</td>\n      <td>0</td>\n      <td>12.3500</td>\n      <td>Q</td>\n      <td>Second</td>\n      <td>woman</td>\n      <td>False</td>\n      <td>NaN</td>\n      <td>Queenstown</td>\n      <td>yes</td>\n      <td>True</td>\n    </tr>\n    <tr>\n      <th>266</th>\n      <td>3</td>\n      <td>male</td>\n      <td>16.0</td>\n      <td>4</td>\n      <td>1</td>\n      <td>39.6875</td>\n      <td>S</td>\n      <td>Third</td>\n      <td>man</td>\n      <td>True</td>\n      <td>NaN</td>\n      <td>Southampton</td>\n      <td>no</td>\n      <td>False</td>\n    </tr>\n    <tr>\n      <th>540</th>\n      <td>1</td>\n      <td>female</td>\n      <td>36.0</td>\n      <td>0</td>\n      <td>2</td>\n      <td>71.0000</td>\n      <td>S</td>\n      <td>First</td>\n      <td>woman</td>\n      <td>False</td>\n      <td>B</td>\n      <td>Southampton</td>\n      <td>yes</td>\n      <td>False</td>\n    </tr>\n    <tr>\n      <th>...</th>\n      <td>...</td>\n      <td>...</td>\n      <td>...</td>\n      <td>...</td>\n      <td>...</td>\n      <td>...</td>\n      <td>...</td>\n      <td>...</td>\n      <td>...</td>\n      <td>...</td>\n      <td>...</td>\n      <td>...</td>\n      <td>...</td>\n      <td>...</td>\n    </tr>\n    <tr>\n      <th>218</th>\n      <td>1</td>\n      <td>female</td>\n      <td>32.0</td>\n      <td>0</td>\n      <td>0</td>\n      <td>76.2917</td>\n      <td>C</td>\n      <td>First</td>\n      <td>woman</td>\n      <td>False</td>\n      <td>D</td>\n      <td>Cherbourg</td>\n      <td>yes</td>\n      <td>True</td>\n    </tr>\n    <tr>\n      <th>800</th>\n      <td>2</td>\n      <td>male</td>\n      <td>34.0</td>\n      <td>0</td>\n      <td>0</td>\n      <td>13.0000</td>\n      <td>S</td>\n      <td>Second</td>\n      <td>man</td>\n      <td>True</td>\n      <td>NaN</td>\n      <td>Southampton</td>\n      <td>no</td>\n      <td>True</td>\n    </tr>\n    <tr>\n      <th>68</th>\n      <td>3</td>\n      <td>female</td>\n      <td>17.0</td>\n      <td>4</td>\n      <td>2</td>\n      <td>7.9250</td>\n      <td>S</td>\n      <td>Third</td>\n      <td>woman</td>\n      <td>False</td>\n      <td>NaN</td>\n      <td>Southampton</td>\n      <td>yes</td>\n      <td>False</td>\n    </tr>\n    <tr>\n      <th>92</th>\n      <td>1</td>\n      <td>male</td>\n      <td>46.0</td>\n      <td>1</td>\n      <td>0</td>\n      <td>61.1750</td>\n      <td>S</td>\n      <td>First</td>\n      <td>man</td>\n      <td>True</td>\n      <td>E</td>\n      <td>Southampton</td>\n      <td>no</td>\n      <td>False</td>\n    </tr>\n    <tr>\n      <th>480</th>\n      <td>3</td>\n      <td>male</td>\n      <td>9.0</td>\n      <td>5</td>\n      <td>2</td>\n      <td>46.9000</td>\n      <td>S</td>\n      <td>Third</td>\n      <td>child</td>\n      <td>False</td>\n      <td>NaN</td>\n      <td>Southampton</td>\n      <td>no</td>\n      <td>False</td>\n    </tr>\n  </tbody>\n</table>\n<p>668 rows × 14 columns</p>\n</div>"
     },
     "execution_count": 4,
     "metadata": {},
     "output_type": "execute_result"
    }
   ],
   "source": [
    "train_ds"
   ],
   "metadata": {
    "collapsed": false,
    "pycharm": {
     "name": "#%%\n"
    }
   }
  },
  {
   "cell_type": "code",
   "execution_count": 5,
   "outputs": [
    {
     "data": {
      "text/plain": "     pclass     sex   age  sibsp  parch     fare embarked   class    who  \\\n404       3  female  20.0      0      0   8.6625        S   Third  woman   \n521       3    male  22.0      0      0   7.8958        S   Third    man   \n130       3    male  33.0      0      0   7.8958        C   Third    man   \n14        3  female  14.0      0      0   7.8542        S   Third  child   \n610       3  female  39.0      1      5  31.2750        S   Third  woman   \n..      ...     ...   ...    ...    ...      ...      ...     ...    ...   \n833       3    male  23.0      0      0   7.8542        S   Third    man   \n238       2    male  19.0      0      0  10.5000        S  Second    man   \n824       3    male   2.0      4      1  39.6875        S   Third  child   \n486       1  female  35.0      1      0  90.0000        S   First  woman   \n879       1  female  56.0      0      1  83.1583        C   First  woman   \n\n     adult_male deck  embark_town alive  alone  \n404       False  NaN  Southampton    no   True  \n521        True  NaN  Southampton    no   True  \n130        True  NaN    Cherbourg    no   True  \n14        False  NaN  Southampton    no   True  \n610       False  NaN  Southampton    no  False  \n..          ...  ...          ...   ...    ...  \n833        True  NaN  Southampton    no   True  \n238        True  NaN  Southampton    no   True  \n824       False  NaN  Southampton    no  False  \n486       False    C  Southampton   yes  False  \n879       False    C    Cherbourg   yes  False  \n\n[223 rows x 14 columns]",
      "text/html": "<div>\n<style scoped>\n    .dataframe tbody tr th:only-of-type {\n        vertical-align: middle;\n    }\n\n    .dataframe tbody tr th {\n        vertical-align: top;\n    }\n\n    .dataframe thead th {\n        text-align: right;\n    }\n</style>\n<table border=\"1\" class=\"dataframe\">\n  <thead>\n    <tr style=\"text-align: right;\">\n      <th></th>\n      <th>pclass</th>\n      <th>sex</th>\n      <th>age</th>\n      <th>sibsp</th>\n      <th>parch</th>\n      <th>fare</th>\n      <th>embarked</th>\n      <th>class</th>\n      <th>who</th>\n      <th>adult_male</th>\n      <th>deck</th>\n      <th>embark_town</th>\n      <th>alive</th>\n      <th>alone</th>\n    </tr>\n  </thead>\n  <tbody>\n    <tr>\n      <th>404</th>\n      <td>3</td>\n      <td>female</td>\n      <td>20.0</td>\n      <td>0</td>\n      <td>0</td>\n      <td>8.6625</td>\n      <td>S</td>\n      <td>Third</td>\n      <td>woman</td>\n      <td>False</td>\n      <td>NaN</td>\n      <td>Southampton</td>\n      <td>no</td>\n      <td>True</td>\n    </tr>\n    <tr>\n      <th>521</th>\n      <td>3</td>\n      <td>male</td>\n      <td>22.0</td>\n      <td>0</td>\n      <td>0</td>\n      <td>7.8958</td>\n      <td>S</td>\n      <td>Third</td>\n      <td>man</td>\n      <td>True</td>\n      <td>NaN</td>\n      <td>Southampton</td>\n      <td>no</td>\n      <td>True</td>\n    </tr>\n    <tr>\n      <th>130</th>\n      <td>3</td>\n      <td>male</td>\n      <td>33.0</td>\n      <td>0</td>\n      <td>0</td>\n      <td>7.8958</td>\n      <td>C</td>\n      <td>Third</td>\n      <td>man</td>\n      <td>True</td>\n      <td>NaN</td>\n      <td>Cherbourg</td>\n      <td>no</td>\n      <td>True</td>\n    </tr>\n    <tr>\n      <th>14</th>\n      <td>3</td>\n      <td>female</td>\n      <td>14.0</td>\n      <td>0</td>\n      <td>0</td>\n      <td>7.8542</td>\n      <td>S</td>\n      <td>Third</td>\n      <td>child</td>\n      <td>False</td>\n      <td>NaN</td>\n      <td>Southampton</td>\n      <td>no</td>\n      <td>True</td>\n    </tr>\n    <tr>\n      <th>610</th>\n      <td>3</td>\n      <td>female</td>\n      <td>39.0</td>\n      <td>1</td>\n      <td>5</td>\n      <td>31.2750</td>\n      <td>S</td>\n      <td>Third</td>\n      <td>woman</td>\n      <td>False</td>\n      <td>NaN</td>\n      <td>Southampton</td>\n      <td>no</td>\n      <td>False</td>\n    </tr>\n    <tr>\n      <th>...</th>\n      <td>...</td>\n      <td>...</td>\n      <td>...</td>\n      <td>...</td>\n      <td>...</td>\n      <td>...</td>\n      <td>...</td>\n      <td>...</td>\n      <td>...</td>\n      <td>...</td>\n      <td>...</td>\n      <td>...</td>\n      <td>...</td>\n      <td>...</td>\n    </tr>\n    <tr>\n      <th>833</th>\n      <td>3</td>\n      <td>male</td>\n      <td>23.0</td>\n      <td>0</td>\n      <td>0</td>\n      <td>7.8542</td>\n      <td>S</td>\n      <td>Third</td>\n      <td>man</td>\n      <td>True</td>\n      <td>NaN</td>\n      <td>Southampton</td>\n      <td>no</td>\n      <td>True</td>\n    </tr>\n    <tr>\n      <th>238</th>\n      <td>2</td>\n      <td>male</td>\n      <td>19.0</td>\n      <td>0</td>\n      <td>0</td>\n      <td>10.5000</td>\n      <td>S</td>\n      <td>Second</td>\n      <td>man</td>\n      <td>True</td>\n      <td>NaN</td>\n      <td>Southampton</td>\n      <td>no</td>\n      <td>True</td>\n    </tr>\n    <tr>\n      <th>824</th>\n      <td>3</td>\n      <td>male</td>\n      <td>2.0</td>\n      <td>4</td>\n      <td>1</td>\n      <td>39.6875</td>\n      <td>S</td>\n      <td>Third</td>\n      <td>child</td>\n      <td>False</td>\n      <td>NaN</td>\n      <td>Southampton</td>\n      <td>no</td>\n      <td>False</td>\n    </tr>\n    <tr>\n      <th>486</th>\n      <td>1</td>\n      <td>female</td>\n      <td>35.0</td>\n      <td>1</td>\n      <td>0</td>\n      <td>90.0000</td>\n      <td>S</td>\n      <td>First</td>\n      <td>woman</td>\n      <td>False</td>\n      <td>C</td>\n      <td>Southampton</td>\n      <td>yes</td>\n      <td>False</td>\n    </tr>\n    <tr>\n      <th>879</th>\n      <td>1</td>\n      <td>female</td>\n      <td>56.0</td>\n      <td>0</td>\n      <td>1</td>\n      <td>83.1583</td>\n      <td>C</td>\n      <td>First</td>\n      <td>woman</td>\n      <td>False</td>\n      <td>C</td>\n      <td>Cherbourg</td>\n      <td>yes</td>\n      <td>False</td>\n    </tr>\n  </tbody>\n</table>\n<p>223 rows × 14 columns</p>\n</div>"
     },
     "execution_count": 5,
     "metadata": {},
     "output_type": "execute_result"
    }
   ],
   "source": [
    "test_ds"
   ],
   "metadata": {
    "collapsed": false,
    "pycharm": {
     "name": "#%%\n"
    }
   }
  },
  {
   "cell_type": "markdown",
   "source": [
    "Train data: 668, Test data: 223 と、およそ７対３に分割できている。"
   ],
   "metadata": {
    "collapsed": false,
    "pycharm": {
     "name": "#%% md\n"
    }
   }
  },
  {
   "cell_type": "markdown",
   "source": [
    "## Data を機械学習に適した形式へ変換しよう"
   ],
   "metadata": {
    "collapsed": false,
    "pycharm": {
     "name": "#%% md\n"
    }
   }
  },
  {
   "cell_type": "markdown",
   "source": [
    "- 機械学習をする際には、使用する変数や Data形式に注意が必要し、機械学習に適した Data に変える必要がある。\n",
    "- 機械学習で明らかに使用すべきではない変数\n",
    "    1. 目的変数と直接的に関係のある Data\n",
    "    2. 長さ\\[cm]、長さ\\[m] のように説明変数間で同じ Data である変数。\n",
    "    ※ 特に、目的変数と直接的に関係のある Data は必ず除外する必要がある。\n",
    "\n",
    "今回の Data では、\n",
    "1.): alive\n",
    "2.): emdark_town（emdarked）と同じ事柄を表す Data"
   ],
   "metadata": {
    "collapsed": false,
    "pycharm": {
     "name": "#%% md\n"
    }
   }
  },
  {
   "cell_type": "code",
   "execution_count": 6,
   "outputs": [
    {
     "data": {
      "text/plain": "     pclass     sex   age  sibsp  parch     fare embarked   class    who  \\\n293       3  female  24.0      0      0   8.8500        S   Third  woman   \n201       3    male   NaN      8      2  69.5500        S   Third    man   \n322       2  female  30.0      0      0  12.3500        Q  Second  woman   \n266       3    male  16.0      4      1  39.6875        S   Third    man   \n540       1  female  36.0      0      2  71.0000        S   First  woman   \n\n     adult_male deck  alone  \n293       False  NaN   True  \n201        True  NaN  False  \n322       False  NaN   True  \n266        True  NaN  False  \n540       False    B  False  ",
      "text/html": "<div>\n<style scoped>\n    .dataframe tbody tr th:only-of-type {\n        vertical-align: middle;\n    }\n\n    .dataframe tbody tr th {\n        vertical-align: top;\n    }\n\n    .dataframe thead th {\n        text-align: right;\n    }\n</style>\n<table border=\"1\" class=\"dataframe\">\n  <thead>\n    <tr style=\"text-align: right;\">\n      <th></th>\n      <th>pclass</th>\n      <th>sex</th>\n      <th>age</th>\n      <th>sibsp</th>\n      <th>parch</th>\n      <th>fare</th>\n      <th>embarked</th>\n      <th>class</th>\n      <th>who</th>\n      <th>adult_male</th>\n      <th>deck</th>\n      <th>alone</th>\n    </tr>\n  </thead>\n  <tbody>\n    <tr>\n      <th>293</th>\n      <td>3</td>\n      <td>female</td>\n      <td>24.0</td>\n      <td>0</td>\n      <td>0</td>\n      <td>8.8500</td>\n      <td>S</td>\n      <td>Third</td>\n      <td>woman</td>\n      <td>False</td>\n      <td>NaN</td>\n      <td>True</td>\n    </tr>\n    <tr>\n      <th>201</th>\n      <td>3</td>\n      <td>male</td>\n      <td>NaN</td>\n      <td>8</td>\n      <td>2</td>\n      <td>69.5500</td>\n      <td>S</td>\n      <td>Third</td>\n      <td>man</td>\n      <td>True</td>\n      <td>NaN</td>\n      <td>False</td>\n    </tr>\n    <tr>\n      <th>322</th>\n      <td>2</td>\n      <td>female</td>\n      <td>30.0</td>\n      <td>0</td>\n      <td>0</td>\n      <td>12.3500</td>\n      <td>Q</td>\n      <td>Second</td>\n      <td>woman</td>\n      <td>False</td>\n      <td>NaN</td>\n      <td>True</td>\n    </tr>\n    <tr>\n      <th>266</th>\n      <td>3</td>\n      <td>male</td>\n      <td>16.0</td>\n      <td>4</td>\n      <td>1</td>\n      <td>39.6875</td>\n      <td>S</td>\n      <td>Third</td>\n      <td>man</td>\n      <td>True</td>\n      <td>NaN</td>\n      <td>False</td>\n    </tr>\n    <tr>\n      <th>540</th>\n      <td>1</td>\n      <td>female</td>\n      <td>36.0</td>\n      <td>0</td>\n      <td>2</td>\n      <td>71.0000</td>\n      <td>S</td>\n      <td>First</td>\n      <td>woman</td>\n      <td>False</td>\n      <td>B</td>\n      <td>False</td>\n    </tr>\n  </tbody>\n</table>\n</div>"
     },
     "execution_count": 6,
     "metadata": {},
     "output_type": "execute_result"
    }
   ],
   "source": [
    "train_ds.drop(columns=['embark_town', 'alive'], inplace=True)  # DataFrame.drop() で２つの変数名を指定して削除\n",
    "train_ds.head()"
   ],
   "metadata": {
    "collapsed": false,
    "pycharm": {
     "name": "#%%\n"
    }
   }
  },
  {
   "cell_type": "markdown",
   "source": [
    "- 機械学習においては、通常は文字列をそのまま扱うことはできない為、変数として使用したい場合は何らかの方法で数値Data に変換する必要がある。\n",
    "- One-hot encoding（文字列を横に持たせて Flag を立てる）"
   ],
   "metadata": {
    "collapsed": false,
    "pycharm": {
     "name": "#%% md\n"
    }
   }
  },
  {
   "cell_type": "code",
   "execution_count": 7,
   "outputs": [
    {
     "data": {
      "text/plain": "     pclass   age  sibsp  parch     fare  adult_male  alone  sex_female  \\\n293       3  24.0      0      0   8.8500       False   True           1   \n201       3   NaN      8      2  69.5500        True  False           0   \n322       2  30.0      0      0  12.3500       False   True           1   \n266       3  16.0      4      1  39.6875        True  False           0   \n540       1  36.0      0      2  71.0000       False  False           1   \n\n     sex_male  embarked_C  ...  who_child  who_man  who_woman  deck_A  deck_B  \\\n293         0           0  ...          0        0          1       0       0   \n201         1           0  ...          0        1          0       0       0   \n322         0           0  ...          0        0          1       0       0   \n266         1           0  ...          0        1          0       0       0   \n540         0           0  ...          0        0          1       0       1   \n\n     deck_C  deck_D  deck_E  deck_F  deck_G  \n293       0       0       0       0       0  \n201       0       0       0       0       0  \n322       0       0       0       0       0  \n266       0       0       0       0       0  \n540       0       0       0       0       0  \n\n[5 rows x 25 columns]",
      "text/html": "<div>\n<style scoped>\n    .dataframe tbody tr th:only-of-type {\n        vertical-align: middle;\n    }\n\n    .dataframe tbody tr th {\n        vertical-align: top;\n    }\n\n    .dataframe thead th {\n        text-align: right;\n    }\n</style>\n<table border=\"1\" class=\"dataframe\">\n  <thead>\n    <tr style=\"text-align: right;\">\n      <th></th>\n      <th>pclass</th>\n      <th>age</th>\n      <th>sibsp</th>\n      <th>parch</th>\n      <th>fare</th>\n      <th>adult_male</th>\n      <th>alone</th>\n      <th>sex_female</th>\n      <th>sex_male</th>\n      <th>embarked_C</th>\n      <th>...</th>\n      <th>who_child</th>\n      <th>who_man</th>\n      <th>who_woman</th>\n      <th>deck_A</th>\n      <th>deck_B</th>\n      <th>deck_C</th>\n      <th>deck_D</th>\n      <th>deck_E</th>\n      <th>deck_F</th>\n      <th>deck_G</th>\n    </tr>\n  </thead>\n  <tbody>\n    <tr>\n      <th>293</th>\n      <td>3</td>\n      <td>24.0</td>\n      <td>0</td>\n      <td>0</td>\n      <td>8.8500</td>\n      <td>False</td>\n      <td>True</td>\n      <td>1</td>\n      <td>0</td>\n      <td>0</td>\n      <td>...</td>\n      <td>0</td>\n      <td>0</td>\n      <td>1</td>\n      <td>0</td>\n      <td>0</td>\n      <td>0</td>\n      <td>0</td>\n      <td>0</td>\n      <td>0</td>\n      <td>0</td>\n    </tr>\n    <tr>\n      <th>201</th>\n      <td>3</td>\n      <td>NaN</td>\n      <td>8</td>\n      <td>2</td>\n      <td>69.5500</td>\n      <td>True</td>\n      <td>False</td>\n      <td>0</td>\n      <td>1</td>\n      <td>0</td>\n      <td>...</td>\n      <td>0</td>\n      <td>1</td>\n      <td>0</td>\n      <td>0</td>\n      <td>0</td>\n      <td>0</td>\n      <td>0</td>\n      <td>0</td>\n      <td>0</td>\n      <td>0</td>\n    </tr>\n    <tr>\n      <th>322</th>\n      <td>2</td>\n      <td>30.0</td>\n      <td>0</td>\n      <td>0</td>\n      <td>12.3500</td>\n      <td>False</td>\n      <td>True</td>\n      <td>1</td>\n      <td>0</td>\n      <td>0</td>\n      <td>...</td>\n      <td>0</td>\n      <td>0</td>\n      <td>1</td>\n      <td>0</td>\n      <td>0</td>\n      <td>0</td>\n      <td>0</td>\n      <td>0</td>\n      <td>0</td>\n      <td>0</td>\n    </tr>\n    <tr>\n      <th>266</th>\n      <td>3</td>\n      <td>16.0</td>\n      <td>4</td>\n      <td>1</td>\n      <td>39.6875</td>\n      <td>True</td>\n      <td>False</td>\n      <td>0</td>\n      <td>1</td>\n      <td>0</td>\n      <td>...</td>\n      <td>0</td>\n      <td>1</td>\n      <td>0</td>\n      <td>0</td>\n      <td>0</td>\n      <td>0</td>\n      <td>0</td>\n      <td>0</td>\n      <td>0</td>\n      <td>0</td>\n    </tr>\n    <tr>\n      <th>540</th>\n      <td>1</td>\n      <td>36.0</td>\n      <td>0</td>\n      <td>2</td>\n      <td>71.0000</td>\n      <td>False</td>\n      <td>False</td>\n      <td>1</td>\n      <td>0</td>\n      <td>0</td>\n      <td>...</td>\n      <td>0</td>\n      <td>0</td>\n      <td>1</td>\n      <td>0</td>\n      <td>1</td>\n      <td>0</td>\n      <td>0</td>\n      <td>0</td>\n      <td>0</td>\n      <td>0</td>\n    </tr>\n  </tbody>\n</table>\n<p>5 rows × 25 columns</p>\n</div>"
     },
     "execution_count": 7,
     "metadata": {},
     "output_type": "execute_result"
    }
   ],
   "source": [
    "# One-hot encoding\n",
    "import pandas as pd\n",
    "one_hot_encoded = pd.get_dummies(train_ds)  # pandas.get_dummies()で文字列Data が横\n",
    "one_hot_encoded.head()"
   ],
   "metadata": {
    "collapsed": false,
    "pycharm": {
     "name": "#%%\n"
    }
   }
  },
  {
   "cell_type": "markdown",
   "source": [
    "- このような文字列Data を Categorical変数と呼ぶ\n",
    "- Categorical変数を横持ちにした場合、１つ列を消すことが多い。"
   ],
   "metadata": {
    "collapsed": false,
    "pycharm": {
     "name": "#%% md\n"
    }
   }
  },
  {
   "cell_type": "markdown",
   "source": [
    "- label encoding（単に重複を避けて文字に id を振る方法）"
   ],
   "metadata": {
    "collapsed": false,
    "pycharm": {
     "name": "#%% md\n"
    }
   }
  },
  {
   "cell_type": "code",
   "execution_count": 8,
   "outputs": [
    {
     "data": {
      "text/plain": "     pclass     sex   age  sibsp  parch     fare embarked  class    who  \\\n293       3  female  24.0      0      0   8.8500        S      2  woman   \n201       3    male   NaN      8      2  69.5500        S      2    man   \n322       2  female  30.0      0      0  12.3500        Q      1  woman   \n266       3    male  16.0      4      1  39.6875        S      2    man   \n540       1  female  36.0      0      2  71.0000        S      0  woman   \n\n     adult_male deck  alone  \n293       False  NaN   True  \n201        True  NaN  False  \n322       False  NaN   True  \n266        True  NaN  False  \n540       False    B  False  ",
      "text/html": "<div>\n<style scoped>\n    .dataframe tbody tr th:only-of-type {\n        vertical-align: middle;\n    }\n\n    .dataframe tbody tr th {\n        vertical-align: top;\n    }\n\n    .dataframe thead th {\n        text-align: right;\n    }\n</style>\n<table border=\"1\" class=\"dataframe\">\n  <thead>\n    <tr style=\"text-align: right;\">\n      <th></th>\n      <th>pclass</th>\n      <th>sex</th>\n      <th>age</th>\n      <th>sibsp</th>\n      <th>parch</th>\n      <th>fare</th>\n      <th>embarked</th>\n      <th>class</th>\n      <th>who</th>\n      <th>adult_male</th>\n      <th>deck</th>\n      <th>alone</th>\n    </tr>\n  </thead>\n  <tbody>\n    <tr>\n      <th>293</th>\n      <td>3</td>\n      <td>female</td>\n      <td>24.0</td>\n      <td>0</td>\n      <td>0</td>\n      <td>8.8500</td>\n      <td>S</td>\n      <td>2</td>\n      <td>woman</td>\n      <td>False</td>\n      <td>NaN</td>\n      <td>True</td>\n    </tr>\n    <tr>\n      <th>201</th>\n      <td>3</td>\n      <td>male</td>\n      <td>NaN</td>\n      <td>8</td>\n      <td>2</td>\n      <td>69.5500</td>\n      <td>S</td>\n      <td>2</td>\n      <td>man</td>\n      <td>True</td>\n      <td>NaN</td>\n      <td>False</td>\n    </tr>\n    <tr>\n      <th>322</th>\n      <td>2</td>\n      <td>female</td>\n      <td>30.0</td>\n      <td>0</td>\n      <td>0</td>\n      <td>12.3500</td>\n      <td>Q</td>\n      <td>1</td>\n      <td>woman</td>\n      <td>False</td>\n      <td>NaN</td>\n      <td>True</td>\n    </tr>\n    <tr>\n      <th>266</th>\n      <td>3</td>\n      <td>male</td>\n      <td>16.0</td>\n      <td>4</td>\n      <td>1</td>\n      <td>39.6875</td>\n      <td>S</td>\n      <td>2</td>\n      <td>man</td>\n      <td>True</td>\n      <td>NaN</td>\n      <td>False</td>\n    </tr>\n    <tr>\n      <th>540</th>\n      <td>1</td>\n      <td>female</td>\n      <td>36.0</td>\n      <td>0</td>\n      <td>2</td>\n      <td>71.0000</td>\n      <td>S</td>\n      <td>0</td>\n      <td>woman</td>\n      <td>False</td>\n      <td>B</td>\n      <td>False</td>\n    </tr>\n  </tbody>\n</table>\n</div>"
     },
     "execution_count": 8,
     "metadata": {},
     "output_type": "execute_result"
    }
   ],
   "source": [
    "# Label encoding\n",
    "from sklearn.preprocessing import LabelEncoder\n",
    "label_encoded = train_ds.copy()\n",
    "class_encoder = LabelEncoder()  # LabelEncoder を宣言\n",
    "label_encoded['class'] = class_encoder.fit_transform(label_encoded['class'])  # .fit_transform() を用いて class列を作成\n",
    "label_encoded.head()"
   ],
   "metadata": {
    "collapsed": false,
    "pycharm": {
     "name": "#%%\n"
    }
   }
  },
  {
   "cell_type": "markdown",
   "source": [
    "- label encoding では、もともと文字列だった情報が数値Data に置き換わることで、順番や大小関係の情報が付加されてしまう\n",
    "- 欠損値: { label encoding: その他の文字列と同様に扱われてしまう。, One-hot encoding: 欠損があってもなくても影響は変わらない。 }"
   ],
   "metadata": {
    "collapsed": false,
    "pycharm": {
     "name": "#%% md\n"
    }
   }
  },
  {
   "cell_type": "markdown",
   "source": [
    "pclass は数値 Data だが、Categorical な Data に分類されるため、One-hot encoding を摘要する。"
   ],
   "metadata": {
    "collapsed": false,
    "pycharm": {
     "name": "#%% md\n"
    }
   }
  },
  {
   "cell_type": "code",
   "execution_count": 9,
   "outputs": [
    {
     "data": {
      "text/plain": "      age  sibsp  parch     fare  adult_male  alone  sex_female  sex_male  \\\n293  24.0      0      0   8.8500       False   True           1         0   \n201   NaN      8      2  69.5500        True  False           0         1   \n322  30.0      0      0  12.3500       False   True           1         0   \n266  16.0      4      1  39.6875        True  False           0         1   \n540  36.0      0      2  71.0000       False  False           1         0   \n\n     embarked_C  embarked_Q  ...  deck_A  deck_B  deck_C  deck_D  deck_E  \\\n293           0           0  ...       0       0       0       0       0   \n201           0           0  ...       0       0       0       0       0   \n322           0           1  ...       0       0       0       0       0   \n266           0           0  ...       0       0       0       0       0   \n540           0           0  ...       0       1       0       0       0   \n\n     deck_F  deck_G  pclass_1  pclass_2  pclass_3  \n293       0       0         0         0         1  \n201       0       0         0         0         1  \n322       0       0         0         1         0  \n266       0       0         0         0         1  \n540       0       0         1         0         0  \n\n[5 rows x 27 columns]",
      "text/html": "<div>\n<style scoped>\n    .dataframe tbody tr th:only-of-type {\n        vertical-align: middle;\n    }\n\n    .dataframe tbody tr th {\n        vertical-align: top;\n    }\n\n    .dataframe thead th {\n        text-align: right;\n    }\n</style>\n<table border=\"1\" class=\"dataframe\">\n  <thead>\n    <tr style=\"text-align: right;\">\n      <th></th>\n      <th>age</th>\n      <th>sibsp</th>\n      <th>parch</th>\n      <th>fare</th>\n      <th>adult_male</th>\n      <th>alone</th>\n      <th>sex_female</th>\n      <th>sex_male</th>\n      <th>embarked_C</th>\n      <th>embarked_Q</th>\n      <th>...</th>\n      <th>deck_A</th>\n      <th>deck_B</th>\n      <th>deck_C</th>\n      <th>deck_D</th>\n      <th>deck_E</th>\n      <th>deck_F</th>\n      <th>deck_G</th>\n      <th>pclass_1</th>\n      <th>pclass_2</th>\n      <th>pclass_3</th>\n    </tr>\n  </thead>\n  <tbody>\n    <tr>\n      <th>293</th>\n      <td>24.0</td>\n      <td>0</td>\n      <td>0</td>\n      <td>8.8500</td>\n      <td>False</td>\n      <td>True</td>\n      <td>1</td>\n      <td>0</td>\n      <td>0</td>\n      <td>0</td>\n      <td>...</td>\n      <td>0</td>\n      <td>0</td>\n      <td>0</td>\n      <td>0</td>\n      <td>0</td>\n      <td>0</td>\n      <td>0</td>\n      <td>0</td>\n      <td>0</td>\n      <td>1</td>\n    </tr>\n    <tr>\n      <th>201</th>\n      <td>NaN</td>\n      <td>8</td>\n      <td>2</td>\n      <td>69.5500</td>\n      <td>True</td>\n      <td>False</td>\n      <td>0</td>\n      <td>1</td>\n      <td>0</td>\n      <td>0</td>\n      <td>...</td>\n      <td>0</td>\n      <td>0</td>\n      <td>0</td>\n      <td>0</td>\n      <td>0</td>\n      <td>0</td>\n      <td>0</td>\n      <td>0</td>\n      <td>0</td>\n      <td>1</td>\n    </tr>\n    <tr>\n      <th>322</th>\n      <td>30.0</td>\n      <td>0</td>\n      <td>0</td>\n      <td>12.3500</td>\n      <td>False</td>\n      <td>True</td>\n      <td>1</td>\n      <td>0</td>\n      <td>0</td>\n      <td>1</td>\n      <td>...</td>\n      <td>0</td>\n      <td>0</td>\n      <td>0</td>\n      <td>0</td>\n      <td>0</td>\n      <td>0</td>\n      <td>0</td>\n      <td>0</td>\n      <td>1</td>\n      <td>0</td>\n    </tr>\n    <tr>\n      <th>266</th>\n      <td>16.0</td>\n      <td>4</td>\n      <td>1</td>\n      <td>39.6875</td>\n      <td>True</td>\n      <td>False</td>\n      <td>0</td>\n      <td>1</td>\n      <td>0</td>\n      <td>0</td>\n      <td>...</td>\n      <td>0</td>\n      <td>0</td>\n      <td>0</td>\n      <td>0</td>\n      <td>0</td>\n      <td>0</td>\n      <td>0</td>\n      <td>0</td>\n      <td>0</td>\n      <td>1</td>\n    </tr>\n    <tr>\n      <th>540</th>\n      <td>36.0</td>\n      <td>0</td>\n      <td>2</td>\n      <td>71.0000</td>\n      <td>False</td>\n      <td>False</td>\n      <td>1</td>\n      <td>0</td>\n      <td>0</td>\n      <td>0</td>\n      <td>...</td>\n      <td>0</td>\n      <td>1</td>\n      <td>0</td>\n      <td>0</td>\n      <td>0</td>\n      <td>0</td>\n      <td>0</td>\n      <td>1</td>\n      <td>0</td>\n      <td>0</td>\n    </tr>\n  </tbody>\n</table>\n<p>5 rows × 27 columns</p>\n</div>"
     },
     "execution_count": 9,
     "metadata": {},
     "output_type": "execute_result"
    }
   ],
   "source": [
    "one_hot_encoded = pd.get_dummies(one_hot_encoded, columns=['pclass'])  # get_dummies()は、columns= を指定することで特定の列のみ適用できる\n",
    "one_hot_encoded.head()"
   ],
   "metadata": {
    "collapsed": false,
    "pycharm": {
     "name": "#%%\n"
    }
   }
  },
  {
   "cell_type": "markdown",
   "source": [
    "True, False もそのまま学習することはできないため、それぞれ数字の 1, 0 に変換する。"
   ],
   "metadata": {
    "collapsed": false,
    "pycharm": {
     "name": "#%% md\n"
    }
   }
  },
  {
   "cell_type": "code",
   "execution_count": 10,
   "outputs": [
    {
     "data": {
      "text/plain": "      age  sibsp  parch     fare  adult_male  alone  sex_female  sex_male  \\\n293  24.0      0      0   8.8500           0      1           1         0   \n201   NaN      8      2  69.5500           1      0           0         1   \n322  30.0      0      0  12.3500           0      1           1         0   \n266  16.0      4      1  39.6875           1      0           0         1   \n540  36.0      0      2  71.0000           0      0           1         0   \n\n     embarked_C  embarked_Q  ...  deck_A  deck_B  deck_C  deck_D  deck_E  \\\n293           0           0  ...       0       0       0       0       0   \n201           0           0  ...       0       0       0       0       0   \n322           0           1  ...       0       0       0       0       0   \n266           0           0  ...       0       0       0       0       0   \n540           0           0  ...       0       1       0       0       0   \n\n     deck_F  deck_G  pclass_1  pclass_2  pclass_3  \n293       0       0         0         0         1  \n201       0       0         0         0         1  \n322       0       0         0         1         0  \n266       0       0         0         0         1  \n540       0       0         1         0         0  \n\n[5 rows x 27 columns]",
      "text/html": "<div>\n<style scoped>\n    .dataframe tbody tr th:only-of-type {\n        vertical-align: middle;\n    }\n\n    .dataframe tbody tr th {\n        vertical-align: top;\n    }\n\n    .dataframe thead th {\n        text-align: right;\n    }\n</style>\n<table border=\"1\" class=\"dataframe\">\n  <thead>\n    <tr style=\"text-align: right;\">\n      <th></th>\n      <th>age</th>\n      <th>sibsp</th>\n      <th>parch</th>\n      <th>fare</th>\n      <th>adult_male</th>\n      <th>alone</th>\n      <th>sex_female</th>\n      <th>sex_male</th>\n      <th>embarked_C</th>\n      <th>embarked_Q</th>\n      <th>...</th>\n      <th>deck_A</th>\n      <th>deck_B</th>\n      <th>deck_C</th>\n      <th>deck_D</th>\n      <th>deck_E</th>\n      <th>deck_F</th>\n      <th>deck_G</th>\n      <th>pclass_1</th>\n      <th>pclass_2</th>\n      <th>pclass_3</th>\n    </tr>\n  </thead>\n  <tbody>\n    <tr>\n      <th>293</th>\n      <td>24.0</td>\n      <td>0</td>\n      <td>0</td>\n      <td>8.8500</td>\n      <td>0</td>\n      <td>1</td>\n      <td>1</td>\n      <td>0</td>\n      <td>0</td>\n      <td>0</td>\n      <td>...</td>\n      <td>0</td>\n      <td>0</td>\n      <td>0</td>\n      <td>0</td>\n      <td>0</td>\n      <td>0</td>\n      <td>0</td>\n      <td>0</td>\n      <td>0</td>\n      <td>1</td>\n    </tr>\n    <tr>\n      <th>201</th>\n      <td>NaN</td>\n      <td>8</td>\n      <td>2</td>\n      <td>69.5500</td>\n      <td>1</td>\n      <td>0</td>\n      <td>0</td>\n      <td>1</td>\n      <td>0</td>\n      <td>0</td>\n      <td>...</td>\n      <td>0</td>\n      <td>0</td>\n      <td>0</td>\n      <td>0</td>\n      <td>0</td>\n      <td>0</td>\n      <td>0</td>\n      <td>0</td>\n      <td>0</td>\n      <td>1</td>\n    </tr>\n    <tr>\n      <th>322</th>\n      <td>30.0</td>\n      <td>0</td>\n      <td>0</td>\n      <td>12.3500</td>\n      <td>0</td>\n      <td>1</td>\n      <td>1</td>\n      <td>0</td>\n      <td>0</td>\n      <td>1</td>\n      <td>...</td>\n      <td>0</td>\n      <td>0</td>\n      <td>0</td>\n      <td>0</td>\n      <td>0</td>\n      <td>0</td>\n      <td>0</td>\n      <td>0</td>\n      <td>1</td>\n      <td>0</td>\n    </tr>\n    <tr>\n      <th>266</th>\n      <td>16.0</td>\n      <td>4</td>\n      <td>1</td>\n      <td>39.6875</td>\n      <td>1</td>\n      <td>0</td>\n      <td>0</td>\n      <td>1</td>\n      <td>0</td>\n      <td>0</td>\n      <td>...</td>\n      <td>0</td>\n      <td>0</td>\n      <td>0</td>\n      <td>0</td>\n      <td>0</td>\n      <td>0</td>\n      <td>0</td>\n      <td>0</td>\n      <td>0</td>\n      <td>1</td>\n    </tr>\n    <tr>\n      <th>540</th>\n      <td>36.0</td>\n      <td>0</td>\n      <td>2</td>\n      <td>71.0000</td>\n      <td>0</td>\n      <td>0</td>\n      <td>1</td>\n      <td>0</td>\n      <td>0</td>\n      <td>0</td>\n      <td>...</td>\n      <td>0</td>\n      <td>1</td>\n      <td>0</td>\n      <td>0</td>\n      <td>0</td>\n      <td>0</td>\n      <td>0</td>\n      <td>1</td>\n      <td>0</td>\n      <td>0</td>\n    </tr>\n  </tbody>\n</table>\n<p>5 rows × 27 columns</p>\n</div>"
     },
     "execution_count": 10,
     "metadata": {},
     "output_type": "execute_result"
    }
   ],
   "source": [
    "one_hot_encoded = one_hot_encoded.replace({True: 1, False: 0})\n",
    "one_hot_encoded.head()"
   ],
   "metadata": {
    "collapsed": false,
    "pycharm": {
     "name": "#%%\n"
    }
   }
  },
  {
   "cell_type": "markdown",
   "source": [
    "変数の前処理は終了。最後に変数名を train_ds に戻しておく。"
   ],
   "metadata": {
    "collapsed": false,
    "pycharm": {
     "name": "#%% md\n"
    }
   }
  },
  {
   "cell_type": "code",
   "execution_count": 11,
   "outputs": [],
   "source": [
    "train_ds = one_hot_encoded"
   ],
   "metadata": {
    "collapsed": false,
    "pycharm": {
     "name": "#%%\n"
    }
   }
  },
  {
   "cell_type": "markdown",
   "source": [
    "- Data 形式の変換は、実際には分析も行ないながら変数を選択していく。\n",
    "- 目的変数に寄与しそうな説明変数を選んだり作成するのと同時に、不要な説明変数を省くことが機械学習Model の精度にも影響してくる。\n",
    "- 変数を決定していく作業を特徴量Engineering と言う。\n",
    "- 特徴量Engineering は、機械学習Model においては非常に重要な部分になる。"
   ],
   "metadata": {
    "collapsed": false,
    "pycharm": {
     "name": "#%% md\n"
    }
   }
  },
  {
   "cell_type": "markdown",
   "source": [
    "- 機械学習をする際には、使用する変数や Data形式に注意が必要し、機械学習に適した Data に変える必要がある。\n",
    "- 機械学習で明らかに使用すべきではない変数\n",
    "    1. 目的変数と直接的に関係のある Data\n",
    "    2. 長さ\\[cm]、長さ\\[m] のように説明変数間で同じ Data である変数。\n",
    "    ※ 特に、目的変数と直接的に関係のある Data は必ず除外する必要がある。\n",
    "\n",
    "今回の Data では、\n",
    "1.): alive\n",
    "2.): emdark_town（emdarked）と同じ事柄を表す Data"
   ],
   "metadata": {
    "collapsed": false,
    "pycharm": {
     "name": "#%% md\n"
    }
   }
  },
  {
   "cell_type": "markdown",
   "source": [
    "- label encoding では、もともと文字列だった情報が数値Data に置き換わることで、順番や大小関係の情報が付加されてしまう\n",
    "- 欠損値: { label encoding: その他の文字列と同様に扱われてしまう。, One-hot encoding: 欠損があってもなくても影響は変わらない。 }"
   ],
   "metadata": {
    "collapsed": false,
    "pycharm": {
     "name": "#%% md\n"
    }
   }
  },
  {
   "cell_type": "markdown",
   "source": [
    "## 外れ値の検出をしよう"
   ],
   "metadata": {
    "collapsed": false,
    "pycharm": {
     "name": "#%% md\n"
    }
   }
  },
  {
   "cell_type": "markdown",
   "source": [
    "#### 何をもって外れ値か？\n",
    "- 統計的に標準の Sample とは大きくかけ離れている値を外れ値ということが多い。\n",
    "- Sencer の異常や人的 Miss による明らかに異常な値は異常値という\n",
    "- 人が見てすぐに判断できない場合は、統計的な手法を用いて解析を行う。"
   ],
   "metadata": {
    "collapsed": false,
    "pycharm": {
     "name": "#%% md\n"
    }
   }
  },
  {
   "cell_type": "markdown",
   "source": [
    "#### 機械学習Model における外れ値\n",
    "Data の分布にもよるが、外れ値に引っ張られて精度がでない Case が多いので\n",
    "- 除外\n",
    "- 除外しなまでも把握\n",
    "\n",
    "を行なう。"
   ],
   "metadata": {
    "collapsed": false,
    "pycharm": {
     "name": "#%% md\n"
    }
   }
  },
  {
   "cell_type": "code",
   "execution_count": 12,
   "outputs": [],
   "source": [
    "# 箱ひげIQR を用いた外れ値の検出。\n",
    "# 値が下限を 1/4quantile より1.5IQR小さい値と上限を 3/4quantile より 1.5IQR 大きい値の間に収まっていない値を外れ値とする"
   ],
   "metadata": {
    "collapsed": false,
    "pycharm": {
     "name": "#%%\n"
    }
   }
  },
  {
   "cell_type": "code",
   "execution_count": 13,
   "outputs": [],
   "source": [
    "q = train_ds.quantile([1 / 4, 3 / 4])\n",
    "q1, q3 = q.loc[1 / 4], q.loc[3 / 4]\n",
    "iqr = q3 - q1\n",
    "mx = q3 + 1.5 * iqr\n",
    "mn = q1 - 1.5 * iqr"
   ],
   "metadata": {
    "collapsed": false,
    "pycharm": {
     "name": "#%%\n"
    }
   }
  },
  {
   "cell_type": "code",
   "execution_count": 14,
   "outputs": [
    {
     "data": {
      "text/plain": "age               4\nsibsp            40\nparch           164\nfare             88\nadult_male        0\nalone             0\nsex_female        0\nsex_male          0\nembarked_C      127\nembarked_Q       58\nembarked_S        0\nclass_First     164\nclass_Second    133\nclass_Third       0\nwho_child        64\nwho_man           0\nwho_woman         0\ndeck_A           11\ndeck_B           33\ndeck_C           45\ndeck_D           27\ndeck_E           24\ndeck_F            9\ndeck_G            2\npclass_1        164\npclass_2        133\npclass_3          0\ndtype: int64"
     },
     "execution_count": 14,
     "metadata": {},
     "output_type": "execute_result"
    }
   ],
   "source": [
    "((train_ds > mx) | (train_ds < mn)).sum()"
   ],
   "metadata": {
    "collapsed": false,
    "pycharm": {
     "name": "#%%\n"
    }
   }
  },
  {
   "cell_type": "markdown",
   "source": [
    "#### その他の外れ値の検出方法\n",
    "- 正規化を用いた検出\n",
    "- Clustering による検出\n",
    "- 各変数を毎に外れ値を判断するのではなく、いくつかの変数を複合的に用いて判断する Case."
   ],
   "metadata": {
    "collapsed": false,
    "pycharm": {
     "name": "#%% md\n"
    }
   }
  },
  {
   "cell_type": "markdown",
   "source": [
    "#### 外れ値を検出した後\n",
    "- なんらかの処理を施すか否かを決める\n",
    "  - 処理をする場合\n",
    "    - 外れ値を含む Data を学習 Dataset から除外する。\n",
    "    - 値を補正する。\n",
    "\n",
    "実際の現場では Model の精度を見ながら外れ値を除外する Case もある。"
   ],
   "metadata": {
    "collapsed": false,
    "pycharm": {
     "name": "#%% md\n"
    }
   }
  },
  {
   "cell_type": "markdown",
   "source": [
    "## Data の分布をみて Scaling手法を考えよう"
   ],
   "metadata": {
    "collapsed": false,
    "pycharm": {
     "name": "#%% md\n"
    }
   }
  },
  {
   "cell_type": "markdown",
   "source": [
    "#### Scaling とは？\n",
    "異なる Data を同じ範囲に統一していくこと。\n",
    "Data の範囲を揃える方法は、Data の分布によって違う。"
   ],
   "metadata": {
    "collapsed": false,
    "pycharm": {
     "name": "#%% md\n"
    }
   }
  },
  {
   "cell_type": "code",
   "execution_count": 15,
   "outputs": [
    {
     "data": {
      "text/plain": "              age       sibsp       parch        fare  adult_male       alone  \\\ncount  531.000000  668.000000  668.000000  668.000000  668.000000  668.000000   \nmean    29.694124    0.546407    0.390719   32.485822    0.600299    0.601796   \nstd     14.569037    1.153550    0.807594   49.198142    0.490204    0.489895   \nmin      0.750000    0.000000    0.000000    0.000000    0.000000    0.000000   \n25%     20.250000    0.000000    0.000000    7.925000    0.000000    0.000000   \n50%     28.000000    0.000000    0.000000   15.047900    1.000000    1.000000   \n75%     39.000000    1.000000    0.000000   31.000000    1.000000    1.000000   \nmax     80.000000    8.000000    6.000000  512.329200    1.000000    1.000000   \n\n       sex_female    sex_male  embarked_C  embarked_Q  ...      deck_A  \\\ncount  668.000000  668.000000   668.00000  668.000000  ...  668.000000   \nmean     0.353293    0.646707     0.19012    0.086826  ...    0.016467   \nstd      0.478351    0.478351     0.39269    0.281791  ...    0.127358   \nmin      0.000000    0.000000     0.00000    0.000000  ...    0.000000   \n25%      0.000000    0.000000     0.00000    0.000000  ...    0.000000   \n50%      0.000000    1.000000     0.00000    0.000000  ...    0.000000   \n75%      1.000000    1.000000     0.00000    0.000000  ...    0.000000   \nmax      1.000000    1.000000     1.00000    1.000000  ...    1.000000   \n\n           deck_B      deck_C      deck_D      deck_E      deck_F      deck_G  \\\ncount  668.000000  668.000000  668.000000  668.000000  668.000000  668.000000   \nmean     0.049401    0.067365    0.040419    0.035928    0.013473    0.002994   \nstd      0.216867    0.250841    0.197088    0.186250    0.115375    0.054677   \nmin      0.000000    0.000000    0.000000    0.000000    0.000000    0.000000   \n25%      0.000000    0.000000    0.000000    0.000000    0.000000    0.000000   \n50%      0.000000    0.000000    0.000000    0.000000    0.000000    0.000000   \n75%      0.000000    0.000000    0.000000    0.000000    0.000000    0.000000   \nmax      1.000000    1.000000    1.000000    1.000000    1.000000    1.000000   \n\n         pclass_1    pclass_2    pclass_3  \ncount  668.000000  668.000000  668.000000  \nmean     0.245509    0.199102    0.555389  \nstd      0.430711    0.399624    0.497295  \nmin      0.000000    0.000000    0.000000  \n25%      0.000000    0.000000    0.000000  \n50%      0.000000    0.000000    1.000000  \n75%      0.000000    0.000000    1.000000  \nmax      1.000000    1.000000    1.000000  \n\n[8 rows x 27 columns]",
      "text/html": "<div>\n<style scoped>\n    .dataframe tbody tr th:only-of-type {\n        vertical-align: middle;\n    }\n\n    .dataframe tbody tr th {\n        vertical-align: top;\n    }\n\n    .dataframe thead th {\n        text-align: right;\n    }\n</style>\n<table border=\"1\" class=\"dataframe\">\n  <thead>\n    <tr style=\"text-align: right;\">\n      <th></th>\n      <th>age</th>\n      <th>sibsp</th>\n      <th>parch</th>\n      <th>fare</th>\n      <th>adult_male</th>\n      <th>alone</th>\n      <th>sex_female</th>\n      <th>sex_male</th>\n      <th>embarked_C</th>\n      <th>embarked_Q</th>\n      <th>...</th>\n      <th>deck_A</th>\n      <th>deck_B</th>\n      <th>deck_C</th>\n      <th>deck_D</th>\n      <th>deck_E</th>\n      <th>deck_F</th>\n      <th>deck_G</th>\n      <th>pclass_1</th>\n      <th>pclass_2</th>\n      <th>pclass_3</th>\n    </tr>\n  </thead>\n  <tbody>\n    <tr>\n      <th>count</th>\n      <td>531.000000</td>\n      <td>668.000000</td>\n      <td>668.000000</td>\n      <td>668.000000</td>\n      <td>668.000000</td>\n      <td>668.000000</td>\n      <td>668.000000</td>\n      <td>668.000000</td>\n      <td>668.00000</td>\n      <td>668.000000</td>\n      <td>...</td>\n      <td>668.000000</td>\n      <td>668.000000</td>\n      <td>668.000000</td>\n      <td>668.000000</td>\n      <td>668.000000</td>\n      <td>668.000000</td>\n      <td>668.000000</td>\n      <td>668.000000</td>\n      <td>668.000000</td>\n      <td>668.000000</td>\n    </tr>\n    <tr>\n      <th>mean</th>\n      <td>29.694124</td>\n      <td>0.546407</td>\n      <td>0.390719</td>\n      <td>32.485822</td>\n      <td>0.600299</td>\n      <td>0.601796</td>\n      <td>0.353293</td>\n      <td>0.646707</td>\n      <td>0.19012</td>\n      <td>0.086826</td>\n      <td>...</td>\n      <td>0.016467</td>\n      <td>0.049401</td>\n      <td>0.067365</td>\n      <td>0.040419</td>\n      <td>0.035928</td>\n      <td>0.013473</td>\n      <td>0.002994</td>\n      <td>0.245509</td>\n      <td>0.199102</td>\n      <td>0.555389</td>\n    </tr>\n    <tr>\n      <th>std</th>\n      <td>14.569037</td>\n      <td>1.153550</td>\n      <td>0.807594</td>\n      <td>49.198142</td>\n      <td>0.490204</td>\n      <td>0.489895</td>\n      <td>0.478351</td>\n      <td>0.478351</td>\n      <td>0.39269</td>\n      <td>0.281791</td>\n      <td>...</td>\n      <td>0.127358</td>\n      <td>0.216867</td>\n      <td>0.250841</td>\n      <td>0.197088</td>\n      <td>0.186250</td>\n      <td>0.115375</td>\n      <td>0.054677</td>\n      <td>0.430711</td>\n      <td>0.399624</td>\n      <td>0.497295</td>\n    </tr>\n    <tr>\n      <th>min</th>\n      <td>0.750000</td>\n      <td>0.000000</td>\n      <td>0.000000</td>\n      <td>0.000000</td>\n      <td>0.000000</td>\n      <td>0.000000</td>\n      <td>0.000000</td>\n      <td>0.000000</td>\n      <td>0.00000</td>\n      <td>0.000000</td>\n      <td>...</td>\n      <td>0.000000</td>\n      <td>0.000000</td>\n      <td>0.000000</td>\n      <td>0.000000</td>\n      <td>0.000000</td>\n      <td>0.000000</td>\n      <td>0.000000</td>\n      <td>0.000000</td>\n      <td>0.000000</td>\n      <td>0.000000</td>\n    </tr>\n    <tr>\n      <th>25%</th>\n      <td>20.250000</td>\n      <td>0.000000</td>\n      <td>0.000000</td>\n      <td>7.925000</td>\n      <td>0.000000</td>\n      <td>0.000000</td>\n      <td>0.000000</td>\n      <td>0.000000</td>\n      <td>0.00000</td>\n      <td>0.000000</td>\n      <td>...</td>\n      <td>0.000000</td>\n      <td>0.000000</td>\n      <td>0.000000</td>\n      <td>0.000000</td>\n      <td>0.000000</td>\n      <td>0.000000</td>\n      <td>0.000000</td>\n      <td>0.000000</td>\n      <td>0.000000</td>\n      <td>0.000000</td>\n    </tr>\n    <tr>\n      <th>50%</th>\n      <td>28.000000</td>\n      <td>0.000000</td>\n      <td>0.000000</td>\n      <td>15.047900</td>\n      <td>1.000000</td>\n      <td>1.000000</td>\n      <td>0.000000</td>\n      <td>1.000000</td>\n      <td>0.00000</td>\n      <td>0.000000</td>\n      <td>...</td>\n      <td>0.000000</td>\n      <td>0.000000</td>\n      <td>0.000000</td>\n      <td>0.000000</td>\n      <td>0.000000</td>\n      <td>0.000000</td>\n      <td>0.000000</td>\n      <td>0.000000</td>\n      <td>0.000000</td>\n      <td>1.000000</td>\n    </tr>\n    <tr>\n      <th>75%</th>\n      <td>39.000000</td>\n      <td>1.000000</td>\n      <td>0.000000</td>\n      <td>31.000000</td>\n      <td>1.000000</td>\n      <td>1.000000</td>\n      <td>1.000000</td>\n      <td>1.000000</td>\n      <td>0.00000</td>\n      <td>0.000000</td>\n      <td>...</td>\n      <td>0.000000</td>\n      <td>0.000000</td>\n      <td>0.000000</td>\n      <td>0.000000</td>\n      <td>0.000000</td>\n      <td>0.000000</td>\n      <td>0.000000</td>\n      <td>0.000000</td>\n      <td>0.000000</td>\n      <td>1.000000</td>\n    </tr>\n    <tr>\n      <th>max</th>\n      <td>80.000000</td>\n      <td>8.000000</td>\n      <td>6.000000</td>\n      <td>512.329200</td>\n      <td>1.000000</td>\n      <td>1.000000</td>\n      <td>1.000000</td>\n      <td>1.000000</td>\n      <td>1.00000</td>\n      <td>1.000000</td>\n      <td>...</td>\n      <td>1.000000</td>\n      <td>1.000000</td>\n      <td>1.000000</td>\n      <td>1.000000</td>\n      <td>1.000000</td>\n      <td>1.000000</td>\n      <td>1.000000</td>\n      <td>1.000000</td>\n      <td>1.000000</td>\n      <td>1.000000</td>\n    </tr>\n  </tbody>\n</table>\n<p>8 rows × 27 columns</p>\n</div>"
     },
     "execution_count": 15,
     "metadata": {},
     "output_type": "execute_result"
    }
   ],
   "source": [
    "# Data の分布を確認する前に、各変数の基本統計量を確認しておく。\n",
    "train_ds.describe()"
   ],
   "metadata": {
    "collapsed": false,
    "pycharm": {
     "name": "#%%\n"
    }
   }
  },
  {
   "cell_type": "markdown",
   "source": [
    "train_ds で数値に意味のある Data は\n",
    "- age\n",
    "- sibsp\n",
    "- parch\n",
    "- fare\n",
    "\n",
    "それぞれの数値は値の Scale が異なる。\n",
    "複数の特徴をそのまま Model学習させると、大きい Scale に引っ張られてしまい、小さな Scale の特徴が予測結果に寄与しにくくなるということが起こる。\n",
    "そのため、一般に数値Data は大小関係の情報を保持したまま、小さな値へ Scale するという処理が必要になる。"
   ],
   "metadata": {
    "collapsed": false,
    "pycharm": {
     "name": "#%% md\n"
    }
   }
  },
  {
   "cell_type": "markdown",
   "source": [
    "#### Scaling手法\n",
    "どの手法が適しているか、Data の分布によってある程度は判断することが可能。\n",
    "- 一様分布: 最小値を0, 最大値を1 に収める正規化\n",
    "- 正規分布: 平均を0, 分散を1 にする標準化\n",
    "- 上記分布でもないような分布、外れ値が含まれている分布: Robust scaring（※採用されることが多い）"
   ],
   "metadata": {
    "collapsed": false,
    "pycharm": {
     "name": "#%% md\n"
    }
   }
  },
  {
   "cell_type": "code",
   "execution_count": 16,
   "outputs": [
    {
     "data": {
      "text/plain": "(array([547.,  80.,  25.,   1.,   8.,   5.,   0.,   0.,   0.,   2.]),\n array([  0.     ,  51.23292, 102.46584, 153.69876, 204.93168, 256.1646 ,\n        307.39752, 358.63044, 409.86336, 461.09628, 512.3292 ]),\n <BarContainer object of 10 artists>)"
     },
     "execution_count": 16,
     "metadata": {},
     "output_type": "execute_result"
    },
    {
     "data": {
      "text/plain": "<Figure size 1440x360 with 4 Axes>",
      "image/png": "[encoded data removed]"
     },
     "metadata": {
      "needs_background": "light"
     },
     "output_type": "display_data"
    }
   ],
   "source": [
    "# age, sibsp, parch, fare ４つの変数の分布を可視化\n",
    "import matplotlib .pyplot as plt\n",
    "fig, axes = plt.subplots(ncols=4, figsize=(20, 5))\n",
    "axes[0].hist(train_ds.age)\n",
    "axes[1].hist(train_ds.sibsp)\n",
    "axes[2].hist(train_ds.parch)\n",
    "axes[3].hist(train_ds.fare)"
   ],
   "metadata": {
    "collapsed": false,
    "pycharm": {
     "name": "#%%\n"
    }
   }
  },
  {
   "cell_type": "markdown",
   "source": [
    "fare は視覚的に明らかに正規分布ではないことが判る。\n",
    "正確に判断するために、統計学の検定を使用する\n",
    "- 一様分布の判定: χ二乗検定\n",
    "- 正規分布の判定:  Shapiro-Wilk検定\n",
    "\n",
    "検定によって算出される p値が有意水準を超えるのかどうかで分布の確からしさを判定する。\n",
    "ここでは、有意水準を 0.05 とする"
   ],
   "metadata": {
    "collapsed": false,
    "pycharm": {
     "name": "#%% md\n"
    }
   }
  },
  {
   "cell_type": "code",
   "execution_count": 17,
   "outputs": [
    {
     "data": {
      "text/plain": "'χ二乗検定の p値: 3.4564391399825767e-66'"
     },
     "execution_count": 17,
     "metadata": {},
     "output_type": "execute_result"
    }
   ],
   "source": [
    "# age における χ二乗検定\n",
    "from scipy import stats\n",
    "import numpy as np\n",
    "bins, bin_edges = np.histogram(train_ds['age'].dropna(), bins='auto')\n",
    "stat, p = stats.chisquare(bins)\n",
    "f\"χ二乗検定の p値: {p}\""
   ],
   "metadata": {
    "collapsed": false,
    "pycharm": {
     "name": "#%%\n"
    }
   }
  },
  {
   "cell_type": "markdown",
   "source": [
    "age は、p値 >= 0.05 ではないので一様性はない"
   ],
   "metadata": {
    "collapsed": false,
    "pycharm": {
     "name": "#%% md\n"
    }
   }
  },
  {
   "cell_type": "code",
   "execution_count": 18,
   "outputs": [
    {
     "data": {
      "text/plain": "'Shapiro-Wilk検定の p値: 0.07798287272453308'"
     },
     "execution_count": 18,
     "metadata": {},
     "output_type": "execute_result"
    }
   ],
   "source": [
    "# age における Shapiro-Wilk検定\n",
    "stat, p = stats.shapiro(bins)\n",
    "f\"Shapiro-Wilk検定の p値: {p}\""
   ],
   "metadata": {
    "collapsed": false,
    "pycharm": {
     "name": "#%%\n"
    }
   }
  },
  {
   "cell_type": "markdown",
   "source": [
    "age は、p値 >= 0.05 なので、正規性がある"
   ],
   "metadata": {
    "collapsed": false,
    "pycharm": {
     "name": "#%% md\n"
    }
   }
  },
  {
   "cell_type": "code",
   "execution_count": 19,
   "outputs": [
    {
     "name": "stdout",
     "output_type": "stream",
     "text": [
      "χ二乗検定の p値: 0.0\n",
      "Shapiro-Wilk検定の p値: 3.933027081098883e-12\n"
     ]
    }
   ],
   "source": [
    "# sidsp の検定\n",
    "bins, bin_edges = np.histogram(train_ds['sibsp'].dropna(), bins='auto')\n",
    "stat, p = stats.chisquare(bins)\n",
    "print(f\"χ二乗検定の p値: {p}\")\n",
    "\n",
    "stat, p = stats.shapiro(bins)\n",
    "print(f\"Shapiro-Wilk検定の p値: {p}\")"
   ],
   "metadata": {
    "collapsed": false,
    "pycharm": {
     "name": "#%%\n"
    }
   }
  },
  {
   "cell_type": "markdown",
   "source": [
    "sibsp:\n",
    "- χ二乗検定の p値 >= 0.05 ではないので一様性はない。\n",
    "- Shapiro-Wilk検定の p値 >= 0.05 ではないので正規性はない"
   ],
   "metadata": {
    "collapsed": false,
    "pycharm": {
     "name": "#%% md\n"
    }
   }
  },
  {
   "cell_type": "code",
   "execution_count": 20,
   "outputs": [
    {
     "name": "stdout",
     "output_type": "stream",
     "text": [
      "χ二乗検定の p値: 0.0\n",
      "Shapiro-Wilk検定の p値: 7.424870887007273e-07\n"
     ]
    }
   ],
   "source": [
    "# parch の検定\n",
    "bins, bin_edges = np.histogram(train_ds['parch'].dropna(), bins='auto')\n",
    "stat, p = stats.chisquare(bins)\n",
    "print(f\"χ二乗検定の p値: {p}\")\n",
    "\n",
    "stat, p = stats.shapiro(bins)\n",
    "print(f\"Shapiro-Wilk検定の p値: {p}\")"
   ],
   "metadata": {
    "collapsed": false,
    "pycharm": {
     "name": "#%%\n"
    }
   }
  },
  {
   "cell_type": "markdown",
   "source": [
    "parch:\n",
    "- χ二乗検定の p値 >= 0.05 ではないので一様性はない。\n",
    "- Shapiro-Wilk検定の p値 >= 0.05 ではないので正規性はない。"
   ],
   "metadata": {
    "collapsed": false,
    "pycharm": {
     "name": "#%% md\n"
    }
   }
  },
  {
   "cell_type": "code",
   "execution_count": 21,
   "outputs": [
    {
     "name": "stdout",
     "output_type": "stream",
     "text": [
      "χ二乗検定の p値: 0.0\n",
      "Shapiro-Wilk検定の p値: 5.63639770794382e-20\n"
     ]
    }
   ],
   "source": [
    "# fare の検定\n",
    "bins, bin_edges = np.histogram(train_ds['fare'].dropna(), bins='auto')\n",
    "stat, p = stats.chisquare(bins)\n",
    "print(f\"χ二乗検定の p値: {p}\")\n",
    "\n",
    "stat, p = stats.shapiro(bins)\n",
    "print(f\"Shapiro-Wilk検定の p値: {p}\")"
   ],
   "metadata": {
    "collapsed": false,
    "pycharm": {
     "name": "#%%\n"
    }
   }
  },
  {
   "cell_type": "markdown",
   "source": [
    "fare:\n",
    "- χ二乗検定の p値 >= 0.05 ではないので一様性はない。\n",
    "- Shapiro-Wilk検定の p値 >= 0.05 ではないので正規性はない。"
   ],
   "metadata": {
    "collapsed": false,
    "pycharm": {
     "name": "#%% md\n"
    }
   }
  },
  {
   "cell_type": "markdown",
   "source": [
    "Data の分布を可視化するだけではなく、検定を用いることで客観的に Data の分布をしることができる。"
   ],
   "metadata": {
    "collapsed": false,
    "pycharm": {
     "name": "#%% md\n"
    }
   }
  },
  {
   "cell_type": "code",
   "execution_count": 21,
   "outputs": [],
   "source": [],
   "metadata": {
    "collapsed": false,
    "pycharm": {
     "name": "#%%\n"
    }
   }
  }
 ],
 "metadata": {
  "kernelspec": {
   "display_name": "Python 3",
   "language": "python",
   "name": "python3"
  },
  "language_info": {
   "codemirror_mode": {
    "name": "ipython",
    "version": 2
   },
   "file_extension": ".py",
   "mimetype": "text/x-python",
   "name": "python",
   "nbconvert_exporter": "python",
   "pygments_lexer": "ipython2",
   "version": "2.7.6"
  }
 },
 "nbformat": 4,
 "nbformat_minor": 0
}