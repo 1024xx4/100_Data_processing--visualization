{
 "cells": [
  {
   "cell_type": "markdown",
   "source": [
    "# 特殊な加工・可視化を行なう10本 Knock"
   ],
   "metadata": {
    "collapsed": false,
    "pycharm": {
     "name": "#%% md\n"
    }
   }
  },
  {
   "cell_type": "markdown",
   "source": [
    "## 大容量CSV data を扱ってみよう\n",
    "容量無制限に処理できるものではない為、Memory容量との兼ね合いなどを考慮しつつ工夫する必要がでてくる、\n",
    "\n",
    "※時系列Data を大容量Data と仮定して使用し演習を実施。Data が小さくても Code の書き方と結果を確認し Image を掴む。"
   ],
   "metadata": {
    "collapsed": false,
    "pycharm": {
     "name": "#%% md\n"
    }
   }
  },
  {
   "cell_type": "code",
   "execution_count": 2,
   "outputs": [
    {
     "data": {
      "text/plain": "        id  place             receive_time  sensor_num  in1  out1  state1  \\\n0        0      1  2021-01-15 09:00:00.144           2  508    73       0   \n1        1      1  2021-01-15 09:00:01.146           2  508    73       0   \n2        2      1  2021-01-15 09:00:02.161           2  508    73       0   \n3        3      1  2021-01-15 09:00:03.176           2  508    73       0   \n4        4      1  2021-01-15 09:00:04.192           2  508    73       0   \n...    ...    ...                      ...         ...  ...   ...     ...   \n3535  3535      1  2021-01-15 09:59:55.054           2  782   156       0   \n3536  3536      1   2021-01-15 09:59:56.07           2  782   156       0   \n3537  3537      1  2021-01-15 09:59:57.085           2  782   156       0   \n3538  3538      1  2021-01-15 09:59:58.101           2  782   156       0   \n3539  3539      1  2021-01-15 09:59:59.116           2  782   156       0   \n\n      in2  out2  state2  \n0      73   508       0  \n1      73   508       0  \n2      73   508       0  \n3      73   508       0  \n4      73   508       0  \n...   ...   ...     ...  \n3535  156   782       0  \n3536  156   782       0  \n3537  156   782       0  \n3538  156   782       0  \n3539  156   782       0  \n\n[3540 rows x 10 columns]",
      "text/html": "<div>\n<style scoped>\n    .dataframe tbody tr th:only-of-type {\n        vertical-align: middle;\n    }\n\n    .dataframe tbody tr th {\n        vertical-align: top;\n    }\n\n    .dataframe thead th {\n        text-align: right;\n    }\n</style>\n<table border=\"1\" class=\"dataframe\">\n  <thead>\n    <tr style=\"text-align: right;\">\n      <th></th>\n      <th>id</th>\n      <th>place</th>\n      <th>receive_time</th>\n      <th>sensor_num</th>\n      <th>in1</th>\n      <th>out1</th>\n      <th>state1</th>\n      <th>in2</th>\n      <th>out2</th>\n      <th>state2</th>\n    </tr>\n  </thead>\n  <tbody>\n    <tr>\n      <th>0</th>\n      <td>0</td>\n      <td>1</td>\n      <td>2021-01-15 09:00:00.144</td>\n      <td>2</td>\n      <td>508</td>\n      <td>73</td>\n      <td>0</td>\n      <td>73</td>\n      <td>508</td>\n      <td>0</td>\n    </tr>\n    <tr>\n      <th>1</th>\n      <td>1</td>\n      <td>1</td>\n      <td>2021-01-15 09:00:01.146</td>\n      <td>2</td>\n      <td>508</td>\n      <td>73</td>\n      <td>0</td>\n      <td>73</td>\n      <td>508</td>\n      <td>0</td>\n    </tr>\n    <tr>\n      <th>2</th>\n      <td>2</td>\n      <td>1</td>\n      <td>2021-01-15 09:00:02.161</td>\n      <td>2</td>\n      <td>508</td>\n      <td>73</td>\n      <td>0</td>\n      <td>73</td>\n      <td>508</td>\n      <td>0</td>\n    </tr>\n    <tr>\n      <th>3</th>\n      <td>3</td>\n      <td>1</td>\n      <td>2021-01-15 09:00:03.176</td>\n      <td>2</td>\n      <td>508</td>\n      <td>73</td>\n      <td>0</td>\n      <td>73</td>\n      <td>508</td>\n      <td>0</td>\n    </tr>\n    <tr>\n      <th>4</th>\n      <td>4</td>\n      <td>1</td>\n      <td>2021-01-15 09:00:04.192</td>\n      <td>2</td>\n      <td>508</td>\n      <td>73</td>\n      <td>0</td>\n      <td>73</td>\n      <td>508</td>\n      <td>0</td>\n    </tr>\n    <tr>\n      <th>...</th>\n      <td>...</td>\n      <td>...</td>\n      <td>...</td>\n      <td>...</td>\n      <td>...</td>\n      <td>...</td>\n      <td>...</td>\n      <td>...</td>\n      <td>...</td>\n      <td>...</td>\n    </tr>\n    <tr>\n      <th>3535</th>\n      <td>3535</td>\n      <td>1</td>\n      <td>2021-01-15 09:59:55.054</td>\n      <td>2</td>\n      <td>782</td>\n      <td>156</td>\n      <td>0</td>\n      <td>156</td>\n      <td>782</td>\n      <td>0</td>\n    </tr>\n    <tr>\n      <th>3536</th>\n      <td>3536</td>\n      <td>1</td>\n      <td>2021-01-15 09:59:56.07</td>\n      <td>2</td>\n      <td>782</td>\n      <td>156</td>\n      <td>0</td>\n      <td>156</td>\n      <td>782</td>\n      <td>0</td>\n    </tr>\n    <tr>\n      <th>3537</th>\n      <td>3537</td>\n      <td>1</td>\n      <td>2021-01-15 09:59:57.085</td>\n      <td>2</td>\n      <td>782</td>\n      <td>156</td>\n      <td>0</td>\n      <td>156</td>\n      <td>782</td>\n      <td>0</td>\n    </tr>\n    <tr>\n      <th>3538</th>\n      <td>3538</td>\n      <td>1</td>\n      <td>2021-01-15 09:59:58.101</td>\n      <td>2</td>\n      <td>782</td>\n      <td>156</td>\n      <td>0</td>\n      <td>156</td>\n      <td>782</td>\n      <td>0</td>\n    </tr>\n    <tr>\n      <th>3539</th>\n      <td>3539</td>\n      <td>1</td>\n      <td>2021-01-15 09:59:59.116</td>\n      <td>2</td>\n      <td>782</td>\n      <td>156</td>\n      <td>0</td>\n      <td>156</td>\n      <td>782</td>\n      <td>0</td>\n    </tr>\n  </tbody>\n</table>\n<p>3540 rows × 10 columns</p>\n</div>"
     },
     "execution_count": 2,
     "metadata": {},
     "output_type": "execute_result"
    }
   ],
   "source": [
    "# File を読み込む\n",
    "import pandas as pd\n",
    "df = pd.read_csv('data/chapter8/person_count_out_0001_2021011509.csv')\n",
    "df"
   ],
   "metadata": {
    "collapsed": false,
    "pycharm": {
     "name": "#%%\n"
    }
   }
  },
  {
   "cell_type": "markdown",
   "source": [
    "仮に Data数が 100万~1000万以上の Data になると pandas.read_csv() で一括で読み込もうとすると OOM Error で Program が落ちると想定される。\n",
    "※ OOM Error: Memory不足による Error"
   ],
   "metadata": {
    "collapsed": false,
    "pycharm": {
     "name": "#%% md\n"
    }
   }
  },
  {
   "cell_type": "code",
   "execution_count": 3,
   "outputs": [
    {
     "name": "stdout",
     "output_type": "stream",
     "text": [
      "(512, 10)\n",
      "(512, 10)\n",
      "(512, 10)\n",
      "(512, 10)\n",
      "(512, 10)\n",
      "(512, 10)\n",
      "(468, 10)\n"
     ]
    }
   ],
   "source": [
    "# OOM Error を回避する為に引数で桁数を指定して読み込む\n",
    "for df in pd.read_csv('data/chapter8/person_count_out_0001_2021011509.csv', chunksize=512):\n",
    "    print(df.shape)"
   ],
   "metadata": {
    "collapsed": false,
    "pycharm": {
     "name": "#%%\n"
    }
   }
  },
  {
   "cell_type": "markdown",
   "source": [
    "`chunksize=` 明示的に指定すると指定した行数ごとに CSV File を読み込む"
   ],
   "metadata": {
    "collapsed": false,
    "pycharm": {
     "name": "#%% md\n"
    }
   }
  },
  {
   "cell_type": "code",
   "execution_count": 5,
   "outputs": [],
   "source": [
    "# 読み込んだ Dataに対して何らかの処理を行なった上で、別File に保存してみる\n",
    "i = 0\n",
    "for df in pd.read_csv('data/chapter8/person_count_out_0001_2021011509.csv', chunksize=64):  # Chunksize を指定して読み込み\n",
    "    df['processed_per_chunk'] = True  # column を追加\n",
    "    df.to_csv('data/chapter8/processed_big_data.csv', mode='a', index_label=False, header=i == 0)  # 新しい File に保存していく\n",
    "    # media='a' と指定することで同じ File に対して追記して保存する。（※'a': append の頭文字）\n",
    "    # header=i == 0 とすることで i == 0 の時だけ header ありで出力するようにしている\n",
    "\n",
    "    i += 1"
   ],
   "metadata": {
    "collapsed": false,
    "pycharm": {
     "name": "#%%\n"
    }
   }
  },
  {
   "cell_type": "code",
   "execution_count": 7,
   "outputs": [
    {
     "data": {
      "text/plain": "        id  place             receive_time  sensor_num  in1  out1  state1  \\\n0        0      1  2021-01-15 09:00:00.144           2  508    73       0   \n1        1      1  2021-01-15 09:00:01.146           2  508    73       0   \n2        2      1  2021-01-15 09:00:02.161           2  508    73       0   \n3        3      1  2021-01-15 09:00:03.176           2  508    73       0   \n4        4      1  2021-01-15 09:00:04.192           2  508    73       0   \n...    ...    ...                      ...         ...  ...   ...     ...   \n3535  3535      1  2021-01-15 09:59:55.054           2  782   156       0   \n3536  3536      1   2021-01-15 09:59:56.07           2  782   156       0   \n3537  3537      1  2021-01-15 09:59:57.085           2  782   156       0   \n3538  3538      1  2021-01-15 09:59:58.101           2  782   156       0   \n3539  3539      1  2021-01-15 09:59:59.116           2  782   156       0   \n\n      in2  out2  state2  processed_per_chunk  \n0      73   508       0                 True  \n1      73   508       0                 True  \n2      73   508       0                 True  \n3      73   508       0                 True  \n4      73   508       0                 True  \n...   ...   ...     ...                  ...  \n3535  156   782       0                 True  \n3536  156   782       0                 True  \n3537  156   782       0                 True  \n3538  156   782       0                 True  \n3539  156   782       0                 True  \n\n[3540 rows x 11 columns]",
      "text/html": "<div>\n<style scoped>\n    .dataframe tbody tr th:only-of-type {\n        vertical-align: middle;\n    }\n\n    .dataframe tbody tr th {\n        vertical-align: top;\n    }\n\n    .dataframe thead th {\n        text-align: right;\n    }\n</style>\n<table border=\"1\" class=\"dataframe\">\n  <thead>\n    <tr style=\"text-align: right;\">\n      <th></th>\n      <th>id</th>\n      <th>place</th>\n      <th>receive_time</th>\n      <th>sensor_num</th>\n      <th>in1</th>\n      <th>out1</th>\n      <th>state1</th>\n      <th>in2</th>\n      <th>out2</th>\n      <th>state2</th>\n      <th>processed_per_chunk</th>\n    </tr>\n  </thead>\n  <tbody>\n    <tr>\n      <th>0</th>\n      <td>0</td>\n      <td>1</td>\n      <td>2021-01-15 09:00:00.144</td>\n      <td>2</td>\n      <td>508</td>\n      <td>73</td>\n      <td>0</td>\n      <td>73</td>\n      <td>508</td>\n      <td>0</td>\n      <td>True</td>\n    </tr>\n    <tr>\n      <th>1</th>\n      <td>1</td>\n      <td>1</td>\n      <td>2021-01-15 09:00:01.146</td>\n      <td>2</td>\n      <td>508</td>\n      <td>73</td>\n      <td>0</td>\n      <td>73</td>\n      <td>508</td>\n      <td>0</td>\n      <td>True</td>\n    </tr>\n    <tr>\n      <th>2</th>\n      <td>2</td>\n      <td>1</td>\n      <td>2021-01-15 09:00:02.161</td>\n      <td>2</td>\n      <td>508</td>\n      <td>73</td>\n      <td>0</td>\n      <td>73</td>\n      <td>508</td>\n      <td>0</td>\n      <td>True</td>\n    </tr>\n    <tr>\n      <th>3</th>\n      <td>3</td>\n      <td>1</td>\n      <td>2021-01-15 09:00:03.176</td>\n      <td>2</td>\n      <td>508</td>\n      <td>73</td>\n      <td>0</td>\n      <td>73</td>\n      <td>508</td>\n      <td>0</td>\n      <td>True</td>\n    </tr>\n    <tr>\n      <th>4</th>\n      <td>4</td>\n      <td>1</td>\n      <td>2021-01-15 09:00:04.192</td>\n      <td>2</td>\n      <td>508</td>\n      <td>73</td>\n      <td>0</td>\n      <td>73</td>\n      <td>508</td>\n      <td>0</td>\n      <td>True</td>\n    </tr>\n    <tr>\n      <th>...</th>\n      <td>...</td>\n      <td>...</td>\n      <td>...</td>\n      <td>...</td>\n      <td>...</td>\n      <td>...</td>\n      <td>...</td>\n      <td>...</td>\n      <td>...</td>\n      <td>...</td>\n      <td>...</td>\n    </tr>\n    <tr>\n      <th>3535</th>\n      <td>3535</td>\n      <td>1</td>\n      <td>2021-01-15 09:59:55.054</td>\n      <td>2</td>\n      <td>782</td>\n      <td>156</td>\n      <td>0</td>\n      <td>156</td>\n      <td>782</td>\n      <td>0</td>\n      <td>True</td>\n    </tr>\n    <tr>\n      <th>3536</th>\n      <td>3536</td>\n      <td>1</td>\n      <td>2021-01-15 09:59:56.07</td>\n      <td>2</td>\n      <td>782</td>\n      <td>156</td>\n      <td>0</td>\n      <td>156</td>\n      <td>782</td>\n      <td>0</td>\n      <td>True</td>\n    </tr>\n    <tr>\n      <th>3537</th>\n      <td>3537</td>\n      <td>1</td>\n      <td>2021-01-15 09:59:57.085</td>\n      <td>2</td>\n      <td>782</td>\n      <td>156</td>\n      <td>0</td>\n      <td>156</td>\n      <td>782</td>\n      <td>0</td>\n      <td>True</td>\n    </tr>\n    <tr>\n      <th>3538</th>\n      <td>3538</td>\n      <td>1</td>\n      <td>2021-01-15 09:59:58.101</td>\n      <td>2</td>\n      <td>782</td>\n      <td>156</td>\n      <td>0</td>\n      <td>156</td>\n      <td>782</td>\n      <td>0</td>\n      <td>True</td>\n    </tr>\n    <tr>\n      <th>3539</th>\n      <td>3539</td>\n      <td>1</td>\n      <td>2021-01-15 09:59:59.116</td>\n      <td>2</td>\n      <td>782</td>\n      <td>156</td>\n      <td>0</td>\n      <td>156</td>\n      <td>782</td>\n      <td>0</td>\n      <td>True</td>\n    </tr>\n  </tbody>\n</table>\n<p>3540 rows × 11 columns</p>\n</div>"
     },
     "metadata": {},
     "output_type": "display_data"
    }
   ],
   "source": [
    "# 結果の確認\n",
    "from IPython.display import display\n",
    "df = pd.read_csv('data/chapter8/processed_big_data.csv')\n",
    "display(df)"
   ],
   "metadata": {
    "collapsed": false,
    "pycharm": {
     "name": "#%%\n"
    }
   }
  },
  {
   "cell_type": "markdown",
   "source": [],
   "metadata": {
    "collapsed": false,
    "pycharm": {
     "name": "#%% md\n"
    }
   }
  }
 ],
 "metadata": {
  "kernelspec": {
   "display_name": "Python 3",
   "language": "python",
   "name": "python3"
  },
  "language_info": {
   "codemirror_mode": {
    "name": "ipython",
    "version": 2
   },
   "file_extension": ".py",
   "mimetype": "text/x-python",
   "name": "python",
   "nbconvert_exporter": "python",
   "pygments_lexer": "ipython2",
   "version": "2.7.6"
  }
 },
 "nbformat": 4,
 "nbformat_minor": 0
}