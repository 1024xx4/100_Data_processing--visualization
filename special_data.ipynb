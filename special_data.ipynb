{
 "cells": [
  {
   "cell_type": "markdown",
   "source": [
    "# 特殊な加工・可視化を行なう10本 Knock"
   ],
   "metadata": {
    "collapsed": false,
    "pycharm": {
     "name": "#%% md\n"
    }
   }
  },
  {
   "cell_type": "markdown",
   "source": [
    "## 大容量CSV data を扱ってみよう\n",
    "容量無制限に処理できるものではない為、Memory容量との兼ね合いなどを考慮しつつ工夫する必要がでてくる、\n",
    "\n",
    "※時系列Data を大容量Data と仮定して使用し演習を実施。Data が小さくても Code の書き方と結果を確認し Image を掴む。"
   ],
   "metadata": {
    "collapsed": false,
    "pycharm": {
     "name": "#%% md\n"
    }
   }
  },
  {
   "cell_type": "code",
   "execution_count": 1,
   "outputs": [
    {
     "data": {
      "text/plain": "        id  place             receive_time  sensor_num  in1  out1  state1  \\\n0        0      1  2021-01-15 09:00:00.144           2  508    73       0   \n1        1      1  2021-01-15 09:00:01.146           2  508    73       0   \n2        2      1  2021-01-15 09:00:02.161           2  508    73       0   \n3        3      1  2021-01-15 09:00:03.176           2  508    73       0   \n4        4      1  2021-01-15 09:00:04.192           2  508    73       0   \n...    ...    ...                      ...         ...  ...   ...     ...   \n3535  3535      1  2021-01-15 09:59:55.054           2  782   156       0   \n3536  3536      1   2021-01-15 09:59:56.07           2  782   156       0   \n3537  3537      1  2021-01-15 09:59:57.085           2  782   156       0   \n3538  3538      1  2021-01-15 09:59:58.101           2  782   156       0   \n3539  3539      1  2021-01-15 09:59:59.116           2  782   156       0   \n\n      in2  out2  state2  \n0      73   508       0  \n1      73   508       0  \n2      73   508       0  \n3      73   508       0  \n4      73   508       0  \n...   ...   ...     ...  \n3535  156   782       0  \n3536  156   782       0  \n3537  156   782       0  \n3538  156   782       0  \n3539  156   782       0  \n\n[3540 rows x 10 columns]",
      "text/html": "<div>\n<style scoped>\n    .dataframe tbody tr th:only-of-type {\n        vertical-align: middle;\n    }\n\n    .dataframe tbody tr th {\n        vertical-align: top;\n    }\n\n    .dataframe thead th {\n        text-align: right;\n    }\n</style>\n<table border=\"1\" class=\"dataframe\">\n  <thead>\n    <tr style=\"text-align: right;\">\n      <th></th>\n      <th>id</th>\n      <th>place</th>\n      <th>receive_time</th>\n      <th>sensor_num</th>\n      <th>in1</th>\n      <th>out1</th>\n      <th>state1</th>\n      <th>in2</th>\n      <th>out2</th>\n      <th>state2</th>\n    </tr>\n  </thead>\n  <tbody>\n    <tr>\n      <th>0</th>\n      <td>0</td>\n      <td>1</td>\n      <td>2021-01-15 09:00:00.144</td>\n      <td>2</td>\n      <td>508</td>\n      <td>73</td>\n      <td>0</td>\n      <td>73</td>\n      <td>508</td>\n      <td>0</td>\n    </tr>\n    <tr>\n      <th>1</th>\n      <td>1</td>\n      <td>1</td>\n      <td>2021-01-15 09:00:01.146</td>\n      <td>2</td>\n      <td>508</td>\n      <td>73</td>\n      <td>0</td>\n      <td>73</td>\n      <td>508</td>\n      <td>0</td>\n    </tr>\n    <tr>\n      <th>2</th>\n      <td>2</td>\n      <td>1</td>\n      <td>2021-01-15 09:00:02.161</td>\n      <td>2</td>\n      <td>508</td>\n      <td>73</td>\n      <td>0</td>\n      <td>73</td>\n      <td>508</td>\n      <td>0</td>\n    </tr>\n    <tr>\n      <th>3</th>\n      <td>3</td>\n      <td>1</td>\n      <td>2021-01-15 09:00:03.176</td>\n      <td>2</td>\n      <td>508</td>\n      <td>73</td>\n      <td>0</td>\n      <td>73</td>\n      <td>508</td>\n      <td>0</td>\n    </tr>\n    <tr>\n      <th>4</th>\n      <td>4</td>\n      <td>1</td>\n      <td>2021-01-15 09:00:04.192</td>\n      <td>2</td>\n      <td>508</td>\n      <td>73</td>\n      <td>0</td>\n      <td>73</td>\n      <td>508</td>\n      <td>0</td>\n    </tr>\n    <tr>\n      <th>...</th>\n      <td>...</td>\n      <td>...</td>\n      <td>...</td>\n      <td>...</td>\n      <td>...</td>\n      <td>...</td>\n      <td>...</td>\n      <td>...</td>\n      <td>...</td>\n      <td>...</td>\n    </tr>\n    <tr>\n      <th>3535</th>\n      <td>3535</td>\n      <td>1</td>\n      <td>2021-01-15 09:59:55.054</td>\n      <td>2</td>\n      <td>782</td>\n      <td>156</td>\n      <td>0</td>\n      <td>156</td>\n      <td>782</td>\n      <td>0</td>\n    </tr>\n    <tr>\n      <th>3536</th>\n      <td>3536</td>\n      <td>1</td>\n      <td>2021-01-15 09:59:56.07</td>\n      <td>2</td>\n      <td>782</td>\n      <td>156</td>\n      <td>0</td>\n      <td>156</td>\n      <td>782</td>\n      <td>0</td>\n    </tr>\n    <tr>\n      <th>3537</th>\n      <td>3537</td>\n      <td>1</td>\n      <td>2021-01-15 09:59:57.085</td>\n      <td>2</td>\n      <td>782</td>\n      <td>156</td>\n      <td>0</td>\n      <td>156</td>\n      <td>782</td>\n      <td>0</td>\n    </tr>\n    <tr>\n      <th>3538</th>\n      <td>3538</td>\n      <td>1</td>\n      <td>2021-01-15 09:59:58.101</td>\n      <td>2</td>\n      <td>782</td>\n      <td>156</td>\n      <td>0</td>\n      <td>156</td>\n      <td>782</td>\n      <td>0</td>\n    </tr>\n    <tr>\n      <th>3539</th>\n      <td>3539</td>\n      <td>1</td>\n      <td>2021-01-15 09:59:59.116</td>\n      <td>2</td>\n      <td>782</td>\n      <td>156</td>\n      <td>0</td>\n      <td>156</td>\n      <td>782</td>\n      <td>0</td>\n    </tr>\n  </tbody>\n</table>\n<p>3540 rows × 10 columns</p>\n</div>"
     },
     "execution_count": 1,
     "metadata": {},
     "output_type": "execute_result"
    }
   ],
   "source": [
    "# File を読み込む\n",
    "import pandas as pd\n",
    "df = pd.read_csv('data/chapter8/person_count_out_0001_2021011509.csv')\n",
    "df"
   ],
   "metadata": {
    "collapsed": false,
    "pycharm": {
     "name": "#%%\n"
    }
   }
  },
  {
   "cell_type": "markdown",
   "source": [
    "仮に Data数が 100万~1000万以上の Data になると pandas.read_csv() で一括で読み込もうとすると OOM Error で Program が落ちると想定される。\n",
    "※ OOM Error: Memory不足による Error"
   ],
   "metadata": {
    "collapsed": false,
    "pycharm": {
     "name": "#%% md\n"
    }
   }
  },
  {
   "cell_type": "code",
   "execution_count": 2,
   "outputs": [
    {
     "name": "stdout",
     "output_type": "stream",
     "text": [
      "(512, 10)\n",
      "(512, 10)\n",
      "(512, 10)\n",
      "(512, 10)\n",
      "(512, 10)\n",
      "(512, 10)\n",
      "(468, 10)\n"
     ]
    }
   ],
   "source": [
    "# OOM Error を回避する為に引数で桁数を指定して読み込む\n",
    "for df in pd.read_csv('data/chapter8/person_count_out_0001_2021011509.csv', chunksize=512):\n",
    "    print(df.shape)"
   ],
   "metadata": {
    "collapsed": false,
    "pycharm": {
     "name": "#%%\n"
    }
   }
  },
  {
   "cell_type": "markdown",
   "source": [
    "`chunksize=` 明示的に指定すると指定した行数ごとに CSV File を読み込む"
   ],
   "metadata": {
    "collapsed": false,
    "pycharm": {
     "name": "#%% md\n"
    }
   }
  },
  {
   "cell_type": "code",
   "execution_count": 3,
   "outputs": [],
   "source": [
    "# 読み込んだ Dataに対して何らかの処理を行なった上で、別File に保存してみる\n",
    "i = 0\n",
    "for df in pd.read_csv('data/chapter8/person_count_out_0001_2021011509.csv', chunksize=64):  # Chunksize を指定して読み込み\n",
    "    df['processed_per_chunk'] = True  # column を追加\n",
    "    df.to_csv('data/chapter8/processed_big_data.csv', mode='a', index_label=False, header=i == 0)  # 新しい File に保存していく\n",
    "    # media='a' と指定することで同じ File に対して追記して保存する。（※'a': append の頭文字）\n",
    "    # header=i == 0 とすることで i == 0 の時だけ header ありで出力するようにしている\n",
    "\n",
    "    i += 1"
   ],
   "metadata": {
    "collapsed": false,
    "pycharm": {
     "name": "#%%\n"
    }
   }
  },
  {
   "cell_type": "code",
   "execution_count": 4,
   "outputs": [
    {
     "data": {
      "text/plain": "        id place             receive_time sensor_num  in1 out1 state1  in2  \\\n0        0     1  2021-01-15 09:00:00.144          2  508   73      0   73   \n1        1     1  2021-01-15 09:00:01.146          2  508   73      0   73   \n2        2     1  2021-01-15 09:00:02.161          2  508   73      0   73   \n3        3     1  2021-01-15 09:00:03.176          2  508   73      0   73   \n4        4     1  2021-01-15 09:00:04.192          2  508   73      0   73   \n...    ...   ...                      ...        ...  ...  ...    ...  ...   \n3535  3535     1  2021-01-15 09:59:55.054          2  782  156      0  156   \n3536  3536     1   2021-01-15 09:59:56.07          2  782  156      0  156   \n3537  3537     1  2021-01-15 09:59:57.085          2  782  156      0  156   \n3538  3538     1  2021-01-15 09:59:58.101          2  782  156      0  156   \n3539  3539     1  2021-01-15 09:59:59.116          2  782  156      0  156   \n\n     out2 state2 processed_per_chunk  \n0     508      0                True  \n1     508      0                True  \n2     508      0                True  \n3     508      0                True  \n4     508      0                True  \n...   ...    ...                 ...  \n3535  782      0                True  \n3536  782      0                True  \n3537  782      0                True  \n3538  782      0                True  \n3539  782      0                True  \n\n[10622 rows x 11 columns]",
      "text/html": "<div>\n<style scoped>\n    .dataframe tbody tr th:only-of-type {\n        vertical-align: middle;\n    }\n\n    .dataframe tbody tr th {\n        vertical-align: top;\n    }\n\n    .dataframe thead th {\n        text-align: right;\n    }\n</style>\n<table border=\"1\" class=\"dataframe\">\n  <thead>\n    <tr style=\"text-align: right;\">\n      <th></th>\n      <th>id</th>\n      <th>place</th>\n      <th>receive_time</th>\n      <th>sensor_num</th>\n      <th>in1</th>\n      <th>out1</th>\n      <th>state1</th>\n      <th>in2</th>\n      <th>out2</th>\n      <th>state2</th>\n      <th>processed_per_chunk</th>\n    </tr>\n  </thead>\n  <tbody>\n    <tr>\n      <th>0</th>\n      <td>0</td>\n      <td>1</td>\n      <td>2021-01-15 09:00:00.144</td>\n      <td>2</td>\n      <td>508</td>\n      <td>73</td>\n      <td>0</td>\n      <td>73</td>\n      <td>508</td>\n      <td>0</td>\n      <td>True</td>\n    </tr>\n    <tr>\n      <th>1</th>\n      <td>1</td>\n      <td>1</td>\n      <td>2021-01-15 09:00:01.146</td>\n      <td>2</td>\n      <td>508</td>\n      <td>73</td>\n      <td>0</td>\n      <td>73</td>\n      <td>508</td>\n      <td>0</td>\n      <td>True</td>\n    </tr>\n    <tr>\n      <th>2</th>\n      <td>2</td>\n      <td>1</td>\n      <td>2021-01-15 09:00:02.161</td>\n      <td>2</td>\n      <td>508</td>\n      <td>73</td>\n      <td>0</td>\n      <td>73</td>\n      <td>508</td>\n      <td>0</td>\n      <td>True</td>\n    </tr>\n    <tr>\n      <th>3</th>\n      <td>3</td>\n      <td>1</td>\n      <td>2021-01-15 09:00:03.176</td>\n      <td>2</td>\n      <td>508</td>\n      <td>73</td>\n      <td>0</td>\n      <td>73</td>\n      <td>508</td>\n      <td>0</td>\n      <td>True</td>\n    </tr>\n    <tr>\n      <th>4</th>\n      <td>4</td>\n      <td>1</td>\n      <td>2021-01-15 09:00:04.192</td>\n      <td>2</td>\n      <td>508</td>\n      <td>73</td>\n      <td>0</td>\n      <td>73</td>\n      <td>508</td>\n      <td>0</td>\n      <td>True</td>\n    </tr>\n    <tr>\n      <th>...</th>\n      <td>...</td>\n      <td>...</td>\n      <td>...</td>\n      <td>...</td>\n      <td>...</td>\n      <td>...</td>\n      <td>...</td>\n      <td>...</td>\n      <td>...</td>\n      <td>...</td>\n      <td>...</td>\n    </tr>\n    <tr>\n      <th>3535</th>\n      <td>3535</td>\n      <td>1</td>\n      <td>2021-01-15 09:59:55.054</td>\n      <td>2</td>\n      <td>782</td>\n      <td>156</td>\n      <td>0</td>\n      <td>156</td>\n      <td>782</td>\n      <td>0</td>\n      <td>True</td>\n    </tr>\n    <tr>\n      <th>3536</th>\n      <td>3536</td>\n      <td>1</td>\n      <td>2021-01-15 09:59:56.07</td>\n      <td>2</td>\n      <td>782</td>\n      <td>156</td>\n      <td>0</td>\n      <td>156</td>\n      <td>782</td>\n      <td>0</td>\n      <td>True</td>\n    </tr>\n    <tr>\n      <th>3537</th>\n      <td>3537</td>\n      <td>1</td>\n      <td>2021-01-15 09:59:57.085</td>\n      <td>2</td>\n      <td>782</td>\n      <td>156</td>\n      <td>0</td>\n      <td>156</td>\n      <td>782</td>\n      <td>0</td>\n      <td>True</td>\n    </tr>\n    <tr>\n      <th>3538</th>\n      <td>3538</td>\n      <td>1</td>\n      <td>2021-01-15 09:59:58.101</td>\n      <td>2</td>\n      <td>782</td>\n      <td>156</td>\n      <td>0</td>\n      <td>156</td>\n      <td>782</td>\n      <td>0</td>\n      <td>True</td>\n    </tr>\n    <tr>\n      <th>3539</th>\n      <td>3539</td>\n      <td>1</td>\n      <td>2021-01-15 09:59:59.116</td>\n      <td>2</td>\n      <td>782</td>\n      <td>156</td>\n      <td>0</td>\n      <td>156</td>\n      <td>782</td>\n      <td>0</td>\n      <td>True</td>\n    </tr>\n  </tbody>\n</table>\n<p>10622 rows × 11 columns</p>\n</div>"
     },
     "metadata": {},
     "output_type": "display_data"
    }
   ],
   "source": [
    "# 結果の確認\n",
    "from IPython.display import display\n",
    "df = pd.read_csv('data/chapter8/processed_big_data.csv')\n",
    "display(df)"
   ],
   "metadata": {
    "collapsed": false,
    "pycharm": {
     "name": "#%%\n"
    }
   }
  },
  {
   "cell_type": "markdown",
   "source": [
    "## JSON 形式の File を扱ってみよう"
   ],
   "metadata": {
    "collapsed": false,
    "pycharm": {
     "name": "#%% md\n"
    }
   }
  },
  {
   "cell_type": "code",
   "execution_count": 5,
   "outputs": [
    {
     "data": {
      "text/plain": "   id  value\n0   1      1\n1   2     10\n2   3    100",
      "text/html": "<div>\n<style scoped>\n    .dataframe tbody tr th:only-of-type {\n        vertical-align: middle;\n    }\n\n    .dataframe tbody tr th {\n        vertical-align: top;\n    }\n\n    .dataframe thead th {\n        text-align: right;\n    }\n</style>\n<table border=\"1\" class=\"dataframe\">\n  <thead>\n    <tr style=\"text-align: right;\">\n      <th></th>\n      <th>id</th>\n      <th>value</th>\n    </tr>\n  </thead>\n  <tbody>\n    <tr>\n      <th>0</th>\n      <td>1</td>\n      <td>1</td>\n    </tr>\n    <tr>\n      <th>1</th>\n      <td>2</td>\n      <td>10</td>\n    </tr>\n    <tr>\n      <th>2</th>\n      <td>3</td>\n      <td>100</td>\n    </tr>\n  </tbody>\n</table>\n</div>"
     },
     "execution_count": 5,
     "metadata": {},
     "output_type": "execute_result"
    }
   ],
   "source": [
    "pd.read_json('data/chapter8/column_oriented.json')"
   ],
   "metadata": {
    "collapsed": false,
    "pycharm": {
     "name": "#%%\n"
    }
   }
  },
  {
   "cell_type": "code",
   "execution_count": 6,
   "outputs": [
    {
     "name": "stdout",
     "output_type": "stream",
     "text": [
      "{\"id\":{\"0\":1,\"1\":2,\"2\":3},\"value\":{\"0\":1,\"1\":10,\"2\":100}}\n"
     ]
    }
   ],
   "source": [
    "# Pandas で読み込む前の状態を確認\n",
    "!type data\\chapter8\\column_oriented.json"
   ],
   "metadata": {
    "collapsed": false,
    "pycharm": {
     "name": "#%%\n"
    }
   }
  },
  {
   "cell_type": "markdown",
   "source": [
    "列指向の JSON File という"
   ],
   "metadata": {
    "collapsed": false,
    "pycharm": {
     "name": "#%% md\n"
    }
   }
  },
  {
   "cell_type": "code",
   "execution_count": 7,
   "outputs": [
    {
     "name": "stdout",
     "output_type": "stream",
     "text": [
      "{\"0\":{\"id\":1,\"value\":1},\"1\":{\"id\":2,\"value\":10},\"2\":{\"id\":3,\"value\":100}}\n"
     ]
    }
   ],
   "source": [
    "!type data\\chapter8\\index_oriented.json"
   ],
   "metadata": {
    "collapsed": false,
    "pycharm": {
     "name": "#%%\n"
    }
   }
  },
  {
   "cell_type": "markdown",
   "source": [
    "Index指向の JSON File である"
   ],
   "metadata": {
    "collapsed": false,
    "pycharm": {
     "name": "#%% md\n"
    }
   }
  },
  {
   "cell_type": "code",
   "execution_count": 8,
   "outputs": [
    {
     "data": {
      "text/plain": "       0   1    2\nid     1   2    3\nvalue  1  10  100",
      "text/html": "<div>\n<style scoped>\n    .dataframe tbody tr th:only-of-type {\n        vertical-align: middle;\n    }\n\n    .dataframe tbody tr th {\n        vertical-align: top;\n    }\n\n    .dataframe thead th {\n        text-align: right;\n    }\n</style>\n<table border=\"1\" class=\"dataframe\">\n  <thead>\n    <tr style=\"text-align: right;\">\n      <th></th>\n      <th>0</th>\n      <th>1</th>\n      <th>2</th>\n    </tr>\n  </thead>\n  <tbody>\n    <tr>\n      <th>id</th>\n      <td>1</td>\n      <td>2</td>\n      <td>3</td>\n    </tr>\n    <tr>\n      <th>value</th>\n      <td>1</td>\n      <td>10</td>\n      <td>100</td>\n    </tr>\n  </tbody>\n</table>\n</div>"
     },
     "execution_count": 8,
     "metadata": {},
     "output_type": "execute_result"
    }
   ],
   "source": [
    "pd.read_json('data/chapter8/index_oriented.json')"
   ],
   "metadata": {
    "collapsed": false,
    "pycharm": {
     "name": "#%%\n"
    }
   }
  },
  {
   "cell_type": "markdown",
   "source": [
    "縦横が逆になっている"
   ],
   "metadata": {
    "collapsed": false,
    "pycharm": {
     "name": "#%% md\n"
    }
   }
  },
  {
   "cell_type": "code",
   "execution_count": 9,
   "outputs": [
    {
     "data": {
      "text/plain": "   id  value\n0   1      1\n1   2     10\n2   3    100",
      "text/html": "<div>\n<style scoped>\n    .dataframe tbody tr th:only-of-type {\n        vertical-align: middle;\n    }\n\n    .dataframe tbody tr th {\n        vertical-align: top;\n    }\n\n    .dataframe thead th {\n        text-align: right;\n    }\n</style>\n<table border=\"1\" class=\"dataframe\">\n  <thead>\n    <tr style=\"text-align: right;\">\n      <th></th>\n      <th>id</th>\n      <th>value</th>\n    </tr>\n  </thead>\n  <tbody>\n    <tr>\n      <th>0</th>\n      <td>1</td>\n      <td>1</td>\n    </tr>\n    <tr>\n      <th>1</th>\n      <td>2</td>\n      <td>10</td>\n    </tr>\n    <tr>\n      <th>2</th>\n      <td>3</td>\n      <td>100</td>\n    </tr>\n  </tbody>\n</table>\n</div>"
     },
     "execution_count": 9,
     "metadata": {},
     "output_type": "execute_result"
    }
   ],
   "source": [
    "pd.read_json('data/chapter8/index_oriented.json', orient='index')\n",
    "# 引数 orient='index' を指定することで Index指向のJSON File が正しく読み込める"
   ],
   "metadata": {
    "collapsed": false,
    "pycharm": {
     "name": "#%%\n"
    }
   }
  },
  {
   "cell_type": "code",
   "execution_count": 10,
   "outputs": [
    {
     "name": "stdout",
     "output_type": "stream",
     "text": [
      "{\"schema\":{\"fields\":[{\"name\":\"index\",\"type\":\"integer\"},{\"name\":\"id\",\"type\":\"integer\"},{\"name\":\"value\",\"type\":\"integer\"}],\"primaryKey\":[\"index\"],\"pandas_version\":\"0.20.0\"},\"data\":[{\"index\":0,\"id\":1,\"value\":1},{\"index\":1,\"id\":2,\"value\":10},{\"index\":2,\"id\":3,\"value\":100}]}\n"
     ]
    }
   ],
   "source": [
    "# Table 指向な構造の JSON File（※ RDB の File を JSON File に dump する際に見られる構造）\n",
    "!type data\\chapter8\\table_oriented.json"
   ],
   "metadata": {
    "collapsed": false,
    "pycharm": {
     "name": "#%%\n"
    }
   }
  },
  {
   "cell_type": "code",
   "execution_count": 11,
   "outputs": [
    {
     "ename": "ValueError",
     "evalue": "Mixing dicts with non-Series may lead to ambiguous ordering.",
     "output_type": "error",
     "traceback": [
      "\u001B[1;31m---------------------------------------------------------------------------\u001B[0m",
      "\u001B[1;31mValueError\u001B[0m                                Traceback (most recent call last)",
      "Input \u001B[1;32mIn [11]\u001B[0m, in \u001B[0;36m<cell line: 2>\u001B[1;34m()\u001B[0m\n\u001B[0;32m      1\u001B[0m \u001B[38;5;66;03m# そのまま Pandas で読み込んでみる\u001B[39;00m\n\u001B[1;32m----> 2\u001B[0m \u001B[43mpd\u001B[49m\u001B[38;5;241;43m.\u001B[39;49m\u001B[43mread_json\u001B[49m\u001B[43m(\u001B[49m\u001B[38;5;124;43m'\u001B[39;49m\u001B[38;5;124;43mdata/chapter8/table_oriented.json\u001B[39;49m\u001B[38;5;124;43m'\u001B[39;49m\u001B[43m)\u001B[49m\n",
      "File \u001B[1;32m~\\dsLab\\100_Data_processing-visualization\\.venv\\lib\\site-packages\\pandas\\util\\_decorators.py:207\u001B[0m, in \u001B[0;36mdeprecate_kwarg.<locals>._deprecate_kwarg.<locals>.wrapper\u001B[1;34m(*args, **kwargs)\u001B[0m\n\u001B[0;32m    205\u001B[0m     \u001B[38;5;28;01melse\u001B[39;00m:\n\u001B[0;32m    206\u001B[0m         kwargs[new_arg_name] \u001B[38;5;241m=\u001B[39m new_arg_value\n\u001B[1;32m--> 207\u001B[0m \u001B[38;5;28;01mreturn\u001B[39;00m func(\u001B[38;5;241m*\u001B[39margs, \u001B[38;5;241m*\u001B[39m\u001B[38;5;241m*\u001B[39mkwargs)\n",
      "File \u001B[1;32m~\\dsLab\\100_Data_processing-visualization\\.venv\\lib\\site-packages\\pandas\\util\\_decorators.py:311\u001B[0m, in \u001B[0;36mdeprecate_nonkeyword_arguments.<locals>.decorate.<locals>.wrapper\u001B[1;34m(*args, **kwargs)\u001B[0m\n\u001B[0;32m    305\u001B[0m \u001B[38;5;28;01mif\u001B[39;00m \u001B[38;5;28mlen\u001B[39m(args) \u001B[38;5;241m>\u001B[39m num_allow_args:\n\u001B[0;32m    306\u001B[0m     warnings\u001B[38;5;241m.\u001B[39mwarn(\n\u001B[0;32m    307\u001B[0m         msg\u001B[38;5;241m.\u001B[39mformat(arguments\u001B[38;5;241m=\u001B[39marguments),\n\u001B[0;32m    308\u001B[0m         \u001B[38;5;167;01mFutureWarning\u001B[39;00m,\n\u001B[0;32m    309\u001B[0m         stacklevel\u001B[38;5;241m=\u001B[39mstacklevel,\n\u001B[0;32m    310\u001B[0m     )\n\u001B[1;32m--> 311\u001B[0m \u001B[38;5;28;01mreturn\u001B[39;00m func(\u001B[38;5;241m*\u001B[39margs, \u001B[38;5;241m*\u001B[39m\u001B[38;5;241m*\u001B[39mkwargs)\n",
      "File \u001B[1;32m~\\dsLab\\100_Data_processing-visualization\\.venv\\lib\\site-packages\\pandas\\io\\json\\_json.py:612\u001B[0m, in \u001B[0;36mread_json\u001B[1;34m(path_or_buf, orient, typ, dtype, convert_axes, convert_dates, keep_default_dates, numpy, precise_float, date_unit, encoding, encoding_errors, lines, chunksize, compression, nrows, storage_options)\u001B[0m\n\u001B[0;32m    609\u001B[0m     \u001B[38;5;28;01mreturn\u001B[39;00m json_reader\n\u001B[0;32m    611\u001B[0m \u001B[38;5;28;01mwith\u001B[39;00m json_reader:\n\u001B[1;32m--> 612\u001B[0m     \u001B[38;5;28;01mreturn\u001B[39;00m \u001B[43mjson_reader\u001B[49m\u001B[38;5;241;43m.\u001B[39;49m\u001B[43mread\u001B[49m\u001B[43m(\u001B[49m\u001B[43m)\u001B[49m\n",
      "File \u001B[1;32m~\\dsLab\\100_Data_processing-visualization\\.venv\\lib\\site-packages\\pandas\\io\\json\\_json.py:746\u001B[0m, in \u001B[0;36mJsonReader.read\u001B[1;34m(self)\u001B[0m\n\u001B[0;32m    744\u001B[0m         obj \u001B[38;5;241m=\u001B[39m \u001B[38;5;28mself\u001B[39m\u001B[38;5;241m.\u001B[39m_get_object_parser(\u001B[38;5;28mself\u001B[39m\u001B[38;5;241m.\u001B[39m_combine_lines(data_lines))\n\u001B[0;32m    745\u001B[0m \u001B[38;5;28;01melse\u001B[39;00m:\n\u001B[1;32m--> 746\u001B[0m     obj \u001B[38;5;241m=\u001B[39m \u001B[38;5;28;43mself\u001B[39;49m\u001B[38;5;241;43m.\u001B[39;49m\u001B[43m_get_object_parser\u001B[49m\u001B[43m(\u001B[49m\u001B[38;5;28;43mself\u001B[39;49m\u001B[38;5;241;43m.\u001B[39;49m\u001B[43mdata\u001B[49m\u001B[43m)\u001B[49m\n\u001B[0;32m    747\u001B[0m \u001B[38;5;28mself\u001B[39m\u001B[38;5;241m.\u001B[39mclose()\n\u001B[0;32m    748\u001B[0m \u001B[38;5;28;01mreturn\u001B[39;00m obj\n",
      "File \u001B[1;32m~\\dsLab\\100_Data_processing-visualization\\.venv\\lib\\site-packages\\pandas\\io\\json\\_json.py:768\u001B[0m, in \u001B[0;36mJsonReader._get_object_parser\u001B[1;34m(self, json)\u001B[0m\n\u001B[0;32m    766\u001B[0m obj \u001B[38;5;241m=\u001B[39m \u001B[38;5;28;01mNone\u001B[39;00m\n\u001B[0;32m    767\u001B[0m \u001B[38;5;28;01mif\u001B[39;00m typ \u001B[38;5;241m==\u001B[39m \u001B[38;5;124m\"\u001B[39m\u001B[38;5;124mframe\u001B[39m\u001B[38;5;124m\"\u001B[39m:\n\u001B[1;32m--> 768\u001B[0m     obj \u001B[38;5;241m=\u001B[39m \u001B[43mFrameParser\u001B[49m\u001B[43m(\u001B[49m\u001B[43mjson\u001B[49m\u001B[43m,\u001B[49m\u001B[43m \u001B[49m\u001B[38;5;241;43m*\u001B[39;49m\u001B[38;5;241;43m*\u001B[39;49m\u001B[43mkwargs\u001B[49m\u001B[43m)\u001B[49m\u001B[38;5;241;43m.\u001B[39;49m\u001B[43mparse\u001B[49m\u001B[43m(\u001B[49m\u001B[43m)\u001B[49m\n\u001B[0;32m    770\u001B[0m \u001B[38;5;28;01mif\u001B[39;00m typ \u001B[38;5;241m==\u001B[39m \u001B[38;5;124m\"\u001B[39m\u001B[38;5;124mseries\u001B[39m\u001B[38;5;124m\"\u001B[39m \u001B[38;5;129;01mor\u001B[39;00m obj \u001B[38;5;129;01mis\u001B[39;00m \u001B[38;5;28;01mNone\u001B[39;00m:\n\u001B[0;32m    771\u001B[0m     \u001B[38;5;28;01mif\u001B[39;00m \u001B[38;5;129;01mnot\u001B[39;00m \u001B[38;5;28misinstance\u001B[39m(dtype, \u001B[38;5;28mbool\u001B[39m):\n",
      "File \u001B[1;32m~\\dsLab\\100_Data_processing-visualization\\.venv\\lib\\site-packages\\pandas\\io\\json\\_json.py:880\u001B[0m, in \u001B[0;36mParser.parse\u001B[1;34m(self)\u001B[0m\n\u001B[0;32m    878\u001B[0m     \u001B[38;5;28mself\u001B[39m\u001B[38;5;241m.\u001B[39m_parse_numpy()\n\u001B[0;32m    879\u001B[0m \u001B[38;5;28;01melse\u001B[39;00m:\n\u001B[1;32m--> 880\u001B[0m     \u001B[38;5;28;43mself\u001B[39;49m\u001B[38;5;241;43m.\u001B[39;49m\u001B[43m_parse_no_numpy\u001B[49m\u001B[43m(\u001B[49m\u001B[43m)\u001B[49m\n\u001B[0;32m    882\u001B[0m \u001B[38;5;28;01mif\u001B[39;00m \u001B[38;5;28mself\u001B[39m\u001B[38;5;241m.\u001B[39mobj \u001B[38;5;129;01mis\u001B[39;00m \u001B[38;5;28;01mNone\u001B[39;00m:\n\u001B[0;32m    883\u001B[0m     \u001B[38;5;28;01mreturn\u001B[39;00m \u001B[38;5;28;01mNone\u001B[39;00m\n",
      "File \u001B[1;32m~\\dsLab\\100_Data_processing-visualization\\.venv\\lib\\site-packages\\pandas\\io\\json\\_json.py:1132\u001B[0m, in \u001B[0;36mFrameParser._parse_no_numpy\u001B[1;34m(self)\u001B[0m\n\u001B[0;32m   1129\u001B[0m orient \u001B[38;5;241m=\u001B[39m \u001B[38;5;28mself\u001B[39m\u001B[38;5;241m.\u001B[39morient\n\u001B[0;32m   1131\u001B[0m \u001B[38;5;28;01mif\u001B[39;00m orient \u001B[38;5;241m==\u001B[39m \u001B[38;5;124m\"\u001B[39m\u001B[38;5;124mcolumns\u001B[39m\u001B[38;5;124m\"\u001B[39m:\n\u001B[1;32m-> 1132\u001B[0m     \u001B[38;5;28mself\u001B[39m\u001B[38;5;241m.\u001B[39mobj \u001B[38;5;241m=\u001B[39m \u001B[43mDataFrame\u001B[49m\u001B[43m(\u001B[49m\n\u001B[0;32m   1133\u001B[0m \u001B[43m        \u001B[49m\u001B[43mloads\u001B[49m\u001B[43m(\u001B[49m\u001B[43mjson\u001B[49m\u001B[43m,\u001B[49m\u001B[43m \u001B[49m\u001B[43mprecise_float\u001B[49m\u001B[38;5;241;43m=\u001B[39;49m\u001B[38;5;28;43mself\u001B[39;49m\u001B[38;5;241;43m.\u001B[39;49m\u001B[43mprecise_float\u001B[49m\u001B[43m)\u001B[49m\u001B[43m,\u001B[49m\u001B[43m \u001B[49m\u001B[43mdtype\u001B[49m\u001B[38;5;241;43m=\u001B[39;49m\u001B[38;5;28;43;01mNone\u001B[39;49;00m\n\u001B[0;32m   1134\u001B[0m \u001B[43m    \u001B[49m\u001B[43m)\u001B[49m\n\u001B[0;32m   1135\u001B[0m \u001B[38;5;28;01melif\u001B[39;00m orient \u001B[38;5;241m==\u001B[39m \u001B[38;5;124m\"\u001B[39m\u001B[38;5;124msplit\u001B[39m\u001B[38;5;124m\"\u001B[39m:\n\u001B[0;32m   1136\u001B[0m     decoded \u001B[38;5;241m=\u001B[39m {\n\u001B[0;32m   1137\u001B[0m         \u001B[38;5;28mstr\u001B[39m(k): v\n\u001B[0;32m   1138\u001B[0m         \u001B[38;5;28;01mfor\u001B[39;00m k, v \u001B[38;5;129;01min\u001B[39;00m loads(json, precise_float\u001B[38;5;241m=\u001B[39m\u001B[38;5;28mself\u001B[39m\u001B[38;5;241m.\u001B[39mprecise_float)\u001B[38;5;241m.\u001B[39mitems()\n\u001B[0;32m   1139\u001B[0m     }\n",
      "File \u001B[1;32m~\\dsLab\\100_Data_processing-visualization\\.venv\\lib\\site-packages\\pandas\\core\\frame.py:636\u001B[0m, in \u001B[0;36mDataFrame.__init__\u001B[1;34m(self, data, index, columns, dtype, copy)\u001B[0m\n\u001B[0;32m    630\u001B[0m     mgr \u001B[38;5;241m=\u001B[39m \u001B[38;5;28mself\u001B[39m\u001B[38;5;241m.\u001B[39m_init_mgr(\n\u001B[0;32m    631\u001B[0m         data, axes\u001B[38;5;241m=\u001B[39m{\u001B[38;5;124m\"\u001B[39m\u001B[38;5;124mindex\u001B[39m\u001B[38;5;124m\"\u001B[39m: index, \u001B[38;5;124m\"\u001B[39m\u001B[38;5;124mcolumns\u001B[39m\u001B[38;5;124m\"\u001B[39m: columns}, dtype\u001B[38;5;241m=\u001B[39mdtype, copy\u001B[38;5;241m=\u001B[39mcopy\n\u001B[0;32m    632\u001B[0m     )\n\u001B[0;32m    634\u001B[0m \u001B[38;5;28;01melif\u001B[39;00m \u001B[38;5;28misinstance\u001B[39m(data, \u001B[38;5;28mdict\u001B[39m):\n\u001B[0;32m    635\u001B[0m     \u001B[38;5;66;03m# GH#38939 de facto copy defaults to False only in non-dict cases\u001B[39;00m\n\u001B[1;32m--> 636\u001B[0m     mgr \u001B[38;5;241m=\u001B[39m \u001B[43mdict_to_mgr\u001B[49m\u001B[43m(\u001B[49m\u001B[43mdata\u001B[49m\u001B[43m,\u001B[49m\u001B[43m \u001B[49m\u001B[43mindex\u001B[49m\u001B[43m,\u001B[49m\u001B[43m \u001B[49m\u001B[43mcolumns\u001B[49m\u001B[43m,\u001B[49m\u001B[43m \u001B[49m\u001B[43mdtype\u001B[49m\u001B[38;5;241;43m=\u001B[39;49m\u001B[43mdtype\u001B[49m\u001B[43m,\u001B[49m\u001B[43m \u001B[49m\u001B[43mcopy\u001B[49m\u001B[38;5;241;43m=\u001B[39;49m\u001B[43mcopy\u001B[49m\u001B[43m,\u001B[49m\u001B[43m \u001B[49m\u001B[43mtyp\u001B[49m\u001B[38;5;241;43m=\u001B[39;49m\u001B[43mmanager\u001B[49m\u001B[43m)\u001B[49m\n\u001B[0;32m    637\u001B[0m \u001B[38;5;28;01melif\u001B[39;00m \u001B[38;5;28misinstance\u001B[39m(data, ma\u001B[38;5;241m.\u001B[39mMaskedArray):\n\u001B[0;32m    638\u001B[0m     \u001B[38;5;28;01mimport\u001B[39;00m \u001B[38;5;21;01mnumpy\u001B[39;00m\u001B[38;5;21;01m.\u001B[39;00m\u001B[38;5;21;01mma\u001B[39;00m\u001B[38;5;21;01m.\u001B[39;00m\u001B[38;5;21;01mmrecords\u001B[39;00m \u001B[38;5;28;01mas\u001B[39;00m \u001B[38;5;21;01mmrecords\u001B[39;00m\n",
      "File \u001B[1;32m~\\dsLab\\100_Data_processing-visualization\\.venv\\lib\\site-packages\\pandas\\core\\internals\\construction.py:502\u001B[0m, in \u001B[0;36mdict_to_mgr\u001B[1;34m(data, index, columns, dtype, typ, copy)\u001B[0m\n\u001B[0;32m    494\u001B[0m     arrays \u001B[38;5;241m=\u001B[39m [\n\u001B[0;32m    495\u001B[0m         x\n\u001B[0;32m    496\u001B[0m         \u001B[38;5;28;01mif\u001B[39;00m \u001B[38;5;129;01mnot\u001B[39;00m \u001B[38;5;28mhasattr\u001B[39m(x, \u001B[38;5;124m\"\u001B[39m\u001B[38;5;124mdtype\u001B[39m\u001B[38;5;124m\"\u001B[39m) \u001B[38;5;129;01mor\u001B[39;00m \u001B[38;5;129;01mnot\u001B[39;00m \u001B[38;5;28misinstance\u001B[39m(x\u001B[38;5;241m.\u001B[39mdtype, ExtensionDtype)\n\u001B[0;32m    497\u001B[0m         \u001B[38;5;28;01melse\u001B[39;00m x\u001B[38;5;241m.\u001B[39mcopy()\n\u001B[0;32m    498\u001B[0m         \u001B[38;5;28;01mfor\u001B[39;00m x \u001B[38;5;129;01min\u001B[39;00m arrays\n\u001B[0;32m    499\u001B[0m     ]\n\u001B[0;32m    500\u001B[0m     \u001B[38;5;66;03m# TODO: can we get rid of the dt64tz special case above?\u001B[39;00m\n\u001B[1;32m--> 502\u001B[0m \u001B[38;5;28;01mreturn\u001B[39;00m \u001B[43marrays_to_mgr\u001B[49m\u001B[43m(\u001B[49m\u001B[43marrays\u001B[49m\u001B[43m,\u001B[49m\u001B[43m \u001B[49m\u001B[43mcolumns\u001B[49m\u001B[43m,\u001B[49m\u001B[43m \u001B[49m\u001B[43mindex\u001B[49m\u001B[43m,\u001B[49m\u001B[43m \u001B[49m\u001B[43mdtype\u001B[49m\u001B[38;5;241;43m=\u001B[39;49m\u001B[43mdtype\u001B[49m\u001B[43m,\u001B[49m\u001B[43m \u001B[49m\u001B[43mtyp\u001B[49m\u001B[38;5;241;43m=\u001B[39;49m\u001B[43mtyp\u001B[49m\u001B[43m,\u001B[49m\u001B[43m \u001B[49m\u001B[43mconsolidate\u001B[49m\u001B[38;5;241;43m=\u001B[39;49m\u001B[43mcopy\u001B[49m\u001B[43m)\u001B[49m\n",
      "File \u001B[1;32m~\\dsLab\\100_Data_processing-visualization\\.venv\\lib\\site-packages\\pandas\\core\\internals\\construction.py:120\u001B[0m, in \u001B[0;36marrays_to_mgr\u001B[1;34m(arrays, columns, index, dtype, verify_integrity, typ, consolidate)\u001B[0m\n\u001B[0;32m    117\u001B[0m \u001B[38;5;28;01mif\u001B[39;00m verify_integrity:\n\u001B[0;32m    118\u001B[0m     \u001B[38;5;66;03m# figure out the index, if necessary\u001B[39;00m\n\u001B[0;32m    119\u001B[0m     \u001B[38;5;28;01mif\u001B[39;00m index \u001B[38;5;129;01mis\u001B[39;00m \u001B[38;5;28;01mNone\u001B[39;00m:\n\u001B[1;32m--> 120\u001B[0m         index \u001B[38;5;241m=\u001B[39m \u001B[43m_extract_index\u001B[49m\u001B[43m(\u001B[49m\u001B[43marrays\u001B[49m\u001B[43m)\u001B[49m\n\u001B[0;32m    121\u001B[0m     \u001B[38;5;28;01melse\u001B[39;00m:\n\u001B[0;32m    122\u001B[0m         index \u001B[38;5;241m=\u001B[39m ensure_index(index)\n",
      "File \u001B[1;32m~\\dsLab\\100_Data_processing-visualization\\.venv\\lib\\site-packages\\pandas\\core\\internals\\construction.py:677\u001B[0m, in \u001B[0;36m_extract_index\u001B[1;34m(data)\u001B[0m\n\u001B[0;32m    674\u001B[0m     \u001B[38;5;28;01mraise\u001B[39;00m \u001B[38;5;167;01mValueError\u001B[39;00m(\u001B[38;5;124m\"\u001B[39m\u001B[38;5;124mAll arrays must be of the same length\u001B[39m\u001B[38;5;124m\"\u001B[39m)\n\u001B[0;32m    676\u001B[0m \u001B[38;5;28;01mif\u001B[39;00m have_dicts:\n\u001B[1;32m--> 677\u001B[0m     \u001B[38;5;28;01mraise\u001B[39;00m \u001B[38;5;167;01mValueError\u001B[39;00m(\n\u001B[0;32m    678\u001B[0m         \u001B[38;5;124m\"\u001B[39m\u001B[38;5;124mMixing dicts with non-Series may lead to ambiguous ordering.\u001B[39m\u001B[38;5;124m\"\u001B[39m\n\u001B[0;32m    679\u001B[0m     )\n\u001B[0;32m    681\u001B[0m \u001B[38;5;28;01mif\u001B[39;00m have_series:\n\u001B[0;32m    682\u001B[0m     \u001B[38;5;28;01massert\u001B[39;00m index \u001B[38;5;129;01mis\u001B[39;00m \u001B[38;5;129;01mnot\u001B[39;00m \u001B[38;5;28;01mNone\u001B[39;00m  \u001B[38;5;66;03m# for mypy\u001B[39;00m\n",
      "\u001B[1;31mValueError\u001B[0m: Mixing dicts with non-Series may lead to ambiguous ordering."
     ]
    }
   ],
   "source": [
    "# そのまま Pandas で読み込んでみる\n",
    "pd.read_json('data/chapter8/table_oriented.json')"
   ],
   "metadata": {
    "collapsed": false,
    "pycharm": {
     "name": "#%%\n"
    }
   }
  },
  {
   "cell_type": "markdown",
   "source": [
    "Error になる"
   ],
   "metadata": {
    "collapsed": false,
    "pycharm": {
     "name": "#%% md\n"
    }
   }
  },
  {
   "cell_type": "code",
   "execution_count": 12,
   "outputs": [
    {
     "data": {
      "text/plain": "   id  value\n0   1      1\n1   2     10\n2   3    100",
      "text/html": "<div>\n<style scoped>\n    .dataframe tbody tr th:only-of-type {\n        vertical-align: middle;\n    }\n\n    .dataframe tbody tr th {\n        vertical-align: top;\n    }\n\n    .dataframe thead th {\n        text-align: right;\n    }\n</style>\n<table border=\"1\" class=\"dataframe\">\n  <thead>\n    <tr style=\"text-align: right;\">\n      <th></th>\n      <th>id</th>\n      <th>value</th>\n    </tr>\n  </thead>\n  <tbody>\n    <tr>\n      <th>0</th>\n      <td>1</td>\n      <td>1</td>\n    </tr>\n    <tr>\n      <th>1</th>\n      <td>2</td>\n      <td>10</td>\n    </tr>\n    <tr>\n      <th>2</th>\n      <td>3</td>\n      <td>100</td>\n    </tr>\n  </tbody>\n</table>\n</div>"
     },
     "execution_count": 12,
     "metadata": {},
     "output_type": "execute_result"
    }
   ],
   "source": [
    "pd.read_json('data/chapter8/table_oriented.json', orient='table')\n",
    "# 引数 orient='table' を指定することで Table指向の JSON File も読み込める"
   ],
   "metadata": {
    "collapsed": false,
    "pycharm": {
     "name": "#%%\n"
    }
   }
  },
  {
   "cell_type": "markdown",
   "source": [
    "JSON 形式には様々な構造が存在するため、読み込む際は注意が必要。\n",
    "※今回の演習で登場した構造以外にも pandas.read_json() で読み込める構造がある。"
   ],
   "metadata": {
    "collapsed": false,
    "pycharm": {
     "name": "#%% md\n"
    }
   }
  },
  {
   "cell_type": "markdown",
   "source": [
    "## Web からの Data を取得してみよう\n",
    "Web site に対して Request を http送信した際、Server が Client に結果を送信する Case では、JSON形式が使われる場合が多い。\n",
    "上記の Case の場合の Data の扱う"
   ],
   "metadata": {
    "collapsed": false,
    "pycharm": {
     "name": "#%% md\n"
    }
   }
  },
  {
   "cell_type": "code",
   "execution_count": 14,
   "outputs": [
    {
     "data": {
      "text/plain": "b'{\"abbreviation\":\"JST\",\"client_ip\":\"121.119.11.5\",\"datetime\":\"2022-06-08T15:21:46.893652+09:00\",\"day_of_week\":3,\"day_of_year\":159,\"dst\":false,\"dst_from\":null,\"dst_offset\":0,\"dst_until\":null,\"raw_offset\":32400,\"timezone\":\"Asia/Tokyo\",\"unixtime\":1654669306,\"utc_datetime\":\"2022-06-08T06:21:46.893652+00:00\",\"utc_offset\":\"+09:00\",\"week_number\":23}'"
     },
     "execution_count": 14,
     "metadata": {},
     "output_type": "execute_result"
    }
   ],
   "source": [
    "# worldtimeapi.org という Site に http request を送信し、東京の時刻等の情報を取得して、Contents を表示する\n",
    "import requests  # http request を扱う Package として requests を選択\n",
    "response = requests.get('https://worldtimeapi.org/api/timezone/Asia/Tokyo')\n",
    "response.content"
   ],
   "metadata": {
    "collapsed": false,
    "pycharm": {
     "name": "#%%\n"
    }
   }
  },
  {
   "cell_type": "markdown",
   "source": [
    "Response が JSON形式の Data であることを確認。"
   ],
   "metadata": {
    "collapsed": false,
    "pycharm": {
     "name": "#%% md\n"
    }
   }
  },
  {
   "cell_type": "code",
   "execution_count": 15,
   "outputs": [
    {
     "data": {
      "text/plain": "{'abbreviation': 'JST',\n 'client_ip': '121.119.11.5',\n 'datetime': '2022-06-08T15:21:46.893652+09:00',\n 'day_of_week': 3,\n 'day_of_year': 159,\n 'dst': False,\n 'dst_from': None,\n 'dst_offset': 0,\n 'dst_until': None,\n 'raw_offset': 32400,\n 'timezone': 'Asia/Tokyo',\n 'unixtime': 1654669306,\n 'utc_datetime': '2022-06-08T06:21:46.893652+00:00',\n 'utc_offset': '+09:00',\n 'week_number': 23}"
     },
     "execution_count": 15,
     "metadata": {},
     "output_type": "execute_result"
    }
   ],
   "source": [
    "# JSONのままでは扱いずらいため dict型に変換\n",
    "result = response.json()  # Response.json() で dict型に変換可能\n",
    "result"
   ],
   "metadata": {
    "collapsed": false,
    "pycharm": {
     "name": "#%%\n"
    }
   }
  },
  {
   "cell_type": "markdown",
   "source": [
    "Key と値の関係について視認性が向上した。"
   ],
   "metadata": {
    "collapsed": false,
    "pycharm": {
     "name": "#%% md\n"
    }
   }
  },
  {
   "cell_type": "code",
   "execution_count": 16,
   "outputs": [
    {
     "data": {
      "text/plain": "abbreviation                                 JST\nclient_ip                           121.119.11.5\ndatetime        2022-06-08T15:21:46.893652+09:00\nday_of_week                                    3\nday_of_year                                  159\ndst                                        False\ndst_from                                    None\ndst_offset                                     0\ndst_until                                   None\nraw_offset                                 32400\ntimezone                              Asia/Tokyo\nunixtime                              1654669306\nutc_datetime    2022-06-08T06:21:46.893652+00:00\nutc_offset                                +09:00\nweek_number                                   23\ndtype: object"
     },
     "execution_count": 16,
     "metadata": {},
     "output_type": "execute_result"
    }
   ],
   "source": [
    "# Pandas.Series に変換してみる\n",
    "pd.Series(result)  # Pandas.Series() に引数を渡すことで Series に変換"
   ],
   "metadata": {
    "collapsed": false,
    "pycharm": {
     "name": "#%%\n"
    }
   }
  },
  {
   "cell_type": "code",
   "execution_count": 17,
   "outputs": [],
   "source": [
    "# 取得結果を保存しておく\n",
    "import json  # Json Libray を import\n",
    "\n",
    "with open('dump/response.json', mode='w') as f:  # with open に出力File 名を記載して mode='w'(書き込みMode)で Open.\n",
    "    json.dump(result, f)  # Json.dump() で File に内容を書き込み"
   ],
   "metadata": {
    "collapsed": false,
    "pycharm": {
     "name": "#%%\n"
    }
   }
  },
  {
   "cell_type": "code",
   "execution_count": 19,
   "outputs": [],
   "source": [
    "# 定期的に Request を実行し、結果を１つの File に追記する\n",
    "import time  # time Library を import\n",
    "\n",
    "for _ in range(4):  # renge(4)で４回繰り返し処理\n",
    "    response = requests.get('https://worldtimeapi.org/api/timezone/Asia/Tokyo')\n",
    "    with open('dump/response.txt', mode='a') as f:  # mode='a' で追記Mode で File を Open\n",
    "        res = response.json()  # 変数に response を Response.json() で dict型で格納\n",
    "        f.write(f\"{json.dumps(res)}\\n\")  # File に変数に格納した Data を出力していく\n",
    "    time.sleep(1)  # １秒置く"
   ],
   "metadata": {
    "collapsed": false,
    "pycharm": {
     "name": "#%%\n"
    }
   }
  },
  {
   "cell_type": "code",
   "execution_count": 20,
   "outputs": [
    {
     "name": "stdout",
     "output_type": "stream",
     "text": [
      "{\"abbreviation\": \"JST\", \"client_ip\": \"121.119.11.5\", \"datetime\": \"2022-06-08T15:38:48.264271+09:00\", \"day_of_week\": 3, \"day_of_year\": 159, \"dst\": false, \"dst_from\": null, \"dst_offset\": 0, \"dst_until\": null, \"raw_offset\": 32400, \"timezone\": \"Asia/Tokyo\", \"unixtime\": 1654670328, \"utc_datetime\": \"2022-06-08T06:38:48.264271+00:00\", \"utc_offset\": \"+09:00\", \"week_number\": 23}\n",
      "{\"abbreviation\": \"JST\", \"client_ip\": \"121.119.11.5\", \"datetime\": \"2022-06-08T15:38:49.319286+09:00\", \"day_of_week\": 3, \"day_of_year\": 159, \"dst\": false, \"dst_from\": null, \"dst_offset\": 0, \"dst_until\": null, \"raw_offset\": 32400, \"timezone\": \"Asia/Tokyo\", \"unixtime\": 1654670329, \"utc_datetime\": \"2022-06-08T06:38:49.319286+00:00\", \"utc_offset\": \"+09:00\", \"week_number\": 23}\n",
      "{\"abbreviation\": \"JST\", \"client_ip\": \"121.119.11.5\", \"datetime\": \"2022-06-08T15:38:50.398317+09:00\", \"day_of_week\": 3, \"day_of_year\": 159, \"dst\": false, \"dst_from\": null, \"dst_offset\": 0, \"dst_until\": null, \"raw_offset\": 32400, \"timezone\": \"Asia/Tokyo\", \"unixtime\": 1654670330, \"utc_datetime\": \"2022-06-08T06:38:50.398317+00:00\", \"utc_offset\": \"+09:00\", \"week_number\": 23}\n",
      "{\"abbreviation\": \"JST\", \"client_ip\": \"121.119.11.5\", \"datetime\": \"2022-06-08T15:38:51.462419+09:00\", \"day_of_week\": 3, \"day_of_year\": 159, \"dst\": false, \"dst_from\": null, \"dst_offset\": 0, \"dst_until\": null, \"raw_offset\": 32400, \"timezone\": \"Asia/Tokyo\", \"unixtime\": 1654670331, \"utc_datetime\": \"2022-06-08T06:38:51.462419+00:00\", \"utc_offset\": \"+09:00\", \"week_number\": 23}\n"
     ]
    }
   ],
   "source": [
    "# 出力した Data を確認\n",
    "!type dump\\response.txt"
   ],
   "metadata": {
    "collapsed": false,
    "pycharm": {
     "name": "#%%\n"
    }
   }
  },
  {
   "cell_type": "code",
   "execution_count": null,
   "outputs": [],
   "source": [],
   "metadata": {
    "collapsed": false,
    "pycharm": {
     "name": "#%%\n"
    }
   }
  }
 ],
 "metadata": {
  "kernelspec": {
   "display_name": "Python 3",
   "language": "python",
   "name": "python3"
  },
  "language_info": {
   "codemirror_mode": {
    "name": "ipython",
    "version": 2
   },
   "file_extension": ".py",
   "mimetype": "text/x-python",
   "name": "python",
   "nbconvert_exporter": "python",
   "pygments_lexer": "ipython2",
   "version": "2.7.6"
  }
 },
 "nbformat": 4,
 "nbformat_minor": 0
}