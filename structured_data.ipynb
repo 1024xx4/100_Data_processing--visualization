{
 "cells": [
  {
   "cell_type": "markdown",
   "metadata": {
    "collapsed": true,
    "pycharm": {
     "name": "#%% md\n"
    }
   },
   "source": [
    "# 構造化 Data"
   ]
  },
  {
   "cell_type": "markdown",
   "source": [
    "#### Master data\n",
    "System 上で固定する Data.\n",
    "#### Transaction data\n",
    "中身が一定でない Data."
   ],
   "metadata": {
    "collapsed": false,
    "pycharm": {
     "name": "#%% md\n"
    }
   }
  },
  {
   "cell_type": "markdown",
   "source": [
    "## 法人情報 Data を読み込んでみよう"
   ],
   "metadata": {
    "collapsed": false,
    "pycharm": {
     "name": "#%% md\n"
    }
   }
  },
  {
   "cell_type": "code",
   "execution_count": 1,
   "outputs": [],
   "source": [
    "import warnings\n",
    "\n",
    "warnings.filterwarnings('ignore')\n",
    "\n",
    "import pandas as pd\n",
    "from IPython.display import display\n",
    "\n",
    "pd.set_option('display.max_columns', None)"
   ],
   "metadata": {
    "collapsed": false,
    "pycharm": {
     "name": "#%%\n"
    }
   }
  },
  {
   "cell_type": "code",
   "execution_count": 2,
   "outputs": [],
   "source": [
    "data = pd.read_csv('./sample_file/100knock-process-visualization/chapter-1/data/22_shizuoka_all_20210331.csv', encoding='shift-jis', header=None)"
   ],
   "metadata": {
    "collapsed": false,
    "pycharm": {
     "name": "#%%\n"
    }
   }
  },
  {
   "cell_type": "code",
   "execution_count": 3,
   "outputs": [
    {
     "data": {
      "text/plain": "   0              1   2   3           4           5        6   7    8    9   \\\n0   1  1000013040008   1   1  2018-04-02  2015-10-05  静岡家庭裁判所 NaN  101  静岡県   \n1   2  1000013050072   1   1  2018-04-02  2015-10-05  清水簡易裁判所 NaN  101  静岡県   \n2   3  1000013050080   1   1  2018-04-02  2015-10-05  浜松簡易裁判所 NaN  101  静岡県   \n3   4  1000020222119   1   1  2018-04-05  2015-10-05      磐田市 NaN  201  静岡県   \n4   5  1000020222127   1   1  2018-04-05  2015-10-05      焼津市 NaN  201  静岡県   \n\n       10          11  12  13   14         15  16  17   18  19  20   21  \\\n0   静岡市葵区     城内町１−２０ NaN  22  101  4200854.0 NaN NaN  NaN NaN NaN  NaN   \n1  静岡市清水区   天神１丁目６−１５ NaN  22  103  4240809.0 NaN NaN  NaN NaN NaN  NaN   \n2   浜松市中区   中央１丁目１２−５ NaN  22  131  4300929.0 NaN NaN  NaN NaN NaN  NaN   \n3     磐田市      国府台３−１ NaN  22  211  4380077.0 NaN NaN  NaN NaN NaN  NaN   \n4     焼津市  本町２丁目１６−３２ NaN  22  212  4250022.0 NaN NaN  NaN NaN NaN  NaN   \n\n           22  23                       24        25  \\\n0  2015-10-05   1    Shizuoka Family Court  Shizuoka   \n1  2015-10-05   1    Shimizu Summary Court  Shizuoka   \n2  2015-10-05   1  Hamamatsu Summary Court  Shizuoka   \n3  2015-10-05   1               Iwata City  Shizuoka   \n4  2015-10-05   1               Yaizu city  Shizuoka   \n\n                                         26  27             28  29  \n0      1-20, Jonaicho, Aoi ku, Shizuoka shi NaN  シズオカカテイサイバンショ   0  \n1  1-6-15, Tenjin, Shimizu ku, Shizuoka shi NaN   シミズカンイサイバンショ   0  \n2      1-12-5, Chuo, Naka ku, Hamamatsu shi NaN  ハママツカンイサイバンショ   0  \n3                   3-1,Kounodai, Iwata shi NaN           イワタシ   0  \n4               2-16-32 Honmachi, Yaizu shi NaN           ヤイヅシ   0  ",
      "text/html": "<div>\n<style scoped>\n    .dataframe tbody tr th:only-of-type {\n        vertical-align: middle;\n    }\n\n    .dataframe tbody tr th {\n        vertical-align: top;\n    }\n\n    .dataframe thead th {\n        text-align: right;\n    }\n</style>\n<table border=\"1\" class=\"dataframe\">\n  <thead>\n    <tr style=\"text-align: right;\">\n      <th></th>\n      <th>0</th>\n      <th>1</th>\n      <th>2</th>\n      <th>3</th>\n      <th>4</th>\n      <th>5</th>\n      <th>6</th>\n      <th>7</th>\n      <th>8</th>\n      <th>9</th>\n      <th>10</th>\n      <th>11</th>\n      <th>12</th>\n      <th>13</th>\n      <th>14</th>\n      <th>15</th>\n      <th>16</th>\n      <th>17</th>\n      <th>18</th>\n      <th>19</th>\n      <th>20</th>\n      <th>21</th>\n      <th>22</th>\n      <th>23</th>\n      <th>24</th>\n      <th>25</th>\n      <th>26</th>\n      <th>27</th>\n      <th>28</th>\n      <th>29</th>\n    </tr>\n  </thead>\n  <tbody>\n    <tr>\n      <th>0</th>\n      <td>1</td>\n      <td>1000013040008</td>\n      <td>1</td>\n      <td>1</td>\n      <td>2018-04-02</td>\n      <td>2015-10-05</td>\n      <td>静岡家庭裁判所</td>\n      <td>NaN</td>\n      <td>101</td>\n      <td>静岡県</td>\n      <td>静岡市葵区</td>\n      <td>城内町１−２０</td>\n      <td>NaN</td>\n      <td>22</td>\n      <td>101</td>\n      <td>4200854.0</td>\n      <td>NaN</td>\n      <td>NaN</td>\n      <td>NaN</td>\n      <td>NaN</td>\n      <td>NaN</td>\n      <td>NaN</td>\n      <td>2015-10-05</td>\n      <td>1</td>\n      <td>Shizuoka Family Court</td>\n      <td>Shizuoka</td>\n      <td>1-20, Jonaicho, Aoi ku, Shizuoka shi</td>\n      <td>NaN</td>\n      <td>シズオカカテイサイバンショ</td>\n      <td>0</td>\n    </tr>\n    <tr>\n      <th>1</th>\n      <td>2</td>\n      <td>1000013050072</td>\n      <td>1</td>\n      <td>1</td>\n      <td>2018-04-02</td>\n      <td>2015-10-05</td>\n      <td>清水簡易裁判所</td>\n      <td>NaN</td>\n      <td>101</td>\n      <td>静岡県</td>\n      <td>静岡市清水区</td>\n      <td>天神１丁目６−１５</td>\n      <td>NaN</td>\n      <td>22</td>\n      <td>103</td>\n      <td>4240809.0</td>\n      <td>NaN</td>\n      <td>NaN</td>\n      <td>NaN</td>\n      <td>NaN</td>\n      <td>NaN</td>\n      <td>NaN</td>\n      <td>2015-10-05</td>\n      <td>1</td>\n      <td>Shimizu Summary Court</td>\n      <td>Shizuoka</td>\n      <td>1-6-15, Tenjin, Shimizu ku, Shizuoka shi</td>\n      <td>NaN</td>\n      <td>シミズカンイサイバンショ</td>\n      <td>0</td>\n    </tr>\n    <tr>\n      <th>2</th>\n      <td>3</td>\n      <td>1000013050080</td>\n      <td>1</td>\n      <td>1</td>\n      <td>2018-04-02</td>\n      <td>2015-10-05</td>\n      <td>浜松簡易裁判所</td>\n      <td>NaN</td>\n      <td>101</td>\n      <td>静岡県</td>\n      <td>浜松市中区</td>\n      <td>中央１丁目１２−５</td>\n      <td>NaN</td>\n      <td>22</td>\n      <td>131</td>\n      <td>4300929.0</td>\n      <td>NaN</td>\n      <td>NaN</td>\n      <td>NaN</td>\n      <td>NaN</td>\n      <td>NaN</td>\n      <td>NaN</td>\n      <td>2015-10-05</td>\n      <td>1</td>\n      <td>Hamamatsu Summary Court</td>\n      <td>Shizuoka</td>\n      <td>1-12-5, Chuo, Naka ku, Hamamatsu shi</td>\n      <td>NaN</td>\n      <td>ハママツカンイサイバンショ</td>\n      <td>0</td>\n    </tr>\n    <tr>\n      <th>3</th>\n      <td>4</td>\n      <td>1000020222119</td>\n      <td>1</td>\n      <td>1</td>\n      <td>2018-04-05</td>\n      <td>2015-10-05</td>\n      <td>磐田市</td>\n      <td>NaN</td>\n      <td>201</td>\n      <td>静岡県</td>\n      <td>磐田市</td>\n      <td>国府台３−１</td>\n      <td>NaN</td>\n      <td>22</td>\n      <td>211</td>\n      <td>4380077.0</td>\n      <td>NaN</td>\n      <td>NaN</td>\n      <td>NaN</td>\n      <td>NaN</td>\n      <td>NaN</td>\n      <td>NaN</td>\n      <td>2015-10-05</td>\n      <td>1</td>\n      <td>Iwata City</td>\n      <td>Shizuoka</td>\n      <td>3-1,Kounodai, Iwata shi</td>\n      <td>NaN</td>\n      <td>イワタシ</td>\n      <td>0</td>\n    </tr>\n    <tr>\n      <th>4</th>\n      <td>5</td>\n      <td>1000020222127</td>\n      <td>1</td>\n      <td>1</td>\n      <td>2018-04-05</td>\n      <td>2015-10-05</td>\n      <td>焼津市</td>\n      <td>NaN</td>\n      <td>201</td>\n      <td>静岡県</td>\n      <td>焼津市</td>\n      <td>本町２丁目１６−３２</td>\n      <td>NaN</td>\n      <td>22</td>\n      <td>212</td>\n      <td>4250022.0</td>\n      <td>NaN</td>\n      <td>NaN</td>\n      <td>NaN</td>\n      <td>NaN</td>\n      <td>NaN</td>\n      <td>NaN</td>\n      <td>2015-10-05</td>\n      <td>1</td>\n      <td>Yaizu city</td>\n      <td>Shizuoka</td>\n      <td>2-16-32 Honmachi, Yaizu shi</td>\n      <td>NaN</td>\n      <td>ヤイヅシ</td>\n      <td>0</td>\n    </tr>\n  </tbody>\n</table>\n</div>"
     },
     "execution_count": 3,
     "metadata": {},
     "output_type": "execute_result"
    }
   ],
   "source": [
    "data.head()"
   ],
   "metadata": {
    "collapsed": false,
    "pycharm": {
     "name": "#%%\n"
    }
   }
  },
  {
   "cell_type": "code",
   "execution_count": 4,
   "outputs": [
    {
     "data": {
      "text/plain": "114613"
     },
     "execution_count": 4,
     "metadata": {},
     "output_type": "execute_result"
    }
   ],
   "source": [
    "len(data)"
   ],
   "metadata": {
    "collapsed": false,
    "pycharm": {
     "name": "#%%\n"
    }
   }
  },
  {
   "cell_type": "code",
   "execution_count": 5,
   "outputs": [
    {
     "data": {
      "text/plain": "114613"
     },
     "execution_count": 5,
     "metadata": {},
     "output_type": "execute_result"
    }
   ],
   "source": [
    "len(data)"
   ],
   "metadata": {
    "collapsed": false,
    "pycharm": {
     "name": "#%%\n"
    }
   }
  },
  {
   "cell_type": "markdown",
   "source": [
    "## 読み込んだ Data を確認しよう"
   ],
   "metadata": {
    "collapsed": false,
    "pycharm": {
     "name": "#%% md\n"
    }
   }
  },
  {
   "cell_type": "code",
   "execution_count": 6,
   "outputs": [
    {
     "data": {
      "text/plain": "Int64Index([ 0,  1,  2,  3,  4,  5,  6,  7,  8,  9, 10, 11, 12, 13, 14, 15, 16,\n            17, 18, 19, 20, 21, 22, 23, 24, 25, 26, 27, 28, 29],\n           dtype='int64')"
     },
     "execution_count": 6,
     "metadata": {},
     "output_type": "execute_result"
    }
   ],
   "source": [
    "data.columns\n",
    "# columns は属性。関数や Method ではないので .columns()のように () はつけない。"
   ],
   "metadata": {
    "collapsed": false,
    "pycharm": {
     "name": "#%%\n"
    }
   }
  },
  {
   "cell_type": "code",
   "execution_count": 7,
   "outputs": [
    {
     "data": {
      "text/plain": "30"
     },
     "execution_count": 7,
     "metadata": {},
     "output_type": "execute_result"
    }
   ],
   "source": [
    "len(data.columns)"
   ],
   "metadata": {
    "collapsed": false,
    "pycharm": {
     "name": "#%%\n"
    }
   }
  },
  {
   "cell_type": "code",
   "execution_count": 8,
   "outputs": [
    {
     "name": "stdout",
     "output_type": "stream",
     "text": [
      "0       int64\n",
      "1       int64\n",
      "2       int64\n",
      "3       int64\n",
      "4      object\n",
      "5      object\n",
      "6      object\n",
      "7     float64\n",
      "8       int64\n",
      "9      object\n",
      "10     object\n",
      "11     object\n",
      "12    float64\n",
      "13      int64\n",
      "14      int64\n",
      "15    float64\n",
      "16    float64\n",
      "17    float64\n",
      "18     object\n",
      "19    float64\n",
      "20    float64\n",
      "21     object\n",
      "22     object\n",
      "23      int64\n",
      "24     object\n",
      "25     object\n",
      "26     object\n",
      "27    float64\n",
      "28     object\n",
      "29      int64\n",
      "dtype: object\n"
     ]
    }
   ],
   "source": [
    "print(data.dtypes)"
   ],
   "metadata": {
    "collapsed": false,
    "pycharm": {
     "name": "#%%\n"
    }
   }
  },
  {
   "cell_type": "code",
   "execution_count": 9,
   "outputs": [],
   "source": [
    "data = pd.read_csv('sample_file/100knock-process-visualization/chapter-1/data/22_shizuoka_all_20210331.csv',\n",
    "                   encoding='shift-jis', header=None, dtype=object)"
   ],
   "metadata": {
    "collapsed": false,
    "pycharm": {
     "name": "#%%\n"
    }
   }
  },
  {
   "cell_type": "code",
   "execution_count": 10,
   "outputs": [
    {
     "data": {
      "text/plain": "  0              1   2  3           4           5        6    7    8    9   \\\n0  1  1000013040008  01  1  2018-04-02  2015-10-05  静岡家庭裁判所  NaN  101  静岡県   \n1  2  1000013050072  01  1  2018-04-02  2015-10-05  清水簡易裁判所  NaN  101  静岡県   \n2  3  1000013050080  01  1  2018-04-02  2015-10-05  浜松簡易裁判所  NaN  101  静岡県   \n3  4  1000020222119  01  1  2018-04-05  2015-10-05      磐田市  NaN  201  静岡県   \n4  5  1000020222127  01  1  2018-04-05  2015-10-05      焼津市  NaN  201  静岡県   \n\n       10          11   12  13   14       15   16   17   18   19   20   21  \\\n0   静岡市葵区     城内町１−２０  NaN  22  101  4200854  NaN  NaN  NaN  NaN  NaN  NaN   \n1  静岡市清水区   天神１丁目６−１５  NaN  22  103  4240809  NaN  NaN  NaN  NaN  NaN  NaN   \n2   浜松市中区   中央１丁目１２−５  NaN  22  131  4300929  NaN  NaN  NaN  NaN  NaN  NaN   \n3     磐田市      国府台３−１  NaN  22  211  4380077  NaN  NaN  NaN  NaN  NaN  NaN   \n4     焼津市  本町２丁目１６−３２  NaN  22  212  4250022  NaN  NaN  NaN  NaN  NaN  NaN   \n\n           22 23                       24        25  \\\n0  2015-10-05  1    Shizuoka Family Court  Shizuoka   \n1  2015-10-05  1    Shimizu Summary Court  Shizuoka   \n2  2015-10-05  1  Hamamatsu Summary Court  Shizuoka   \n3  2015-10-05  1               Iwata City  Shizuoka   \n4  2015-10-05  1               Yaizu city  Shizuoka   \n\n                                         26   27             28 29  \n0      1-20, Jonaicho, Aoi ku, Shizuoka shi  NaN  シズオカカテイサイバンショ  0  \n1  1-6-15, Tenjin, Shimizu ku, Shizuoka shi  NaN   シミズカンイサイバンショ  0  \n2      1-12-5, Chuo, Naka ku, Hamamatsu shi  NaN  ハママツカンイサイバンショ  0  \n3                   3-1,Kounodai, Iwata shi  NaN           イワタシ  0  \n4               2-16-32 Honmachi, Yaizu shi  NaN           ヤイヅシ  0  ",
      "text/html": "<div>\n<style scoped>\n    .dataframe tbody tr th:only-of-type {\n        vertical-align: middle;\n    }\n\n    .dataframe tbody tr th {\n        vertical-align: top;\n    }\n\n    .dataframe thead th {\n        text-align: right;\n    }\n</style>\n<table border=\"1\" class=\"dataframe\">\n  <thead>\n    <tr style=\"text-align: right;\">\n      <th></th>\n      <th>0</th>\n      <th>1</th>\n      <th>2</th>\n      <th>3</th>\n      <th>4</th>\n      <th>5</th>\n      <th>6</th>\n      <th>7</th>\n      <th>8</th>\n      <th>9</th>\n      <th>10</th>\n      <th>11</th>\n      <th>12</th>\n      <th>13</th>\n      <th>14</th>\n      <th>15</th>\n      <th>16</th>\n      <th>17</th>\n      <th>18</th>\n      <th>19</th>\n      <th>20</th>\n      <th>21</th>\n      <th>22</th>\n      <th>23</th>\n      <th>24</th>\n      <th>25</th>\n      <th>26</th>\n      <th>27</th>\n      <th>28</th>\n      <th>29</th>\n    </tr>\n  </thead>\n  <tbody>\n    <tr>\n      <th>0</th>\n      <td>1</td>\n      <td>1000013040008</td>\n      <td>01</td>\n      <td>1</td>\n      <td>2018-04-02</td>\n      <td>2015-10-05</td>\n      <td>静岡家庭裁判所</td>\n      <td>NaN</td>\n      <td>101</td>\n      <td>静岡県</td>\n      <td>静岡市葵区</td>\n      <td>城内町１−２０</td>\n      <td>NaN</td>\n      <td>22</td>\n      <td>101</td>\n      <td>4200854</td>\n      <td>NaN</td>\n      <td>NaN</td>\n      <td>NaN</td>\n      <td>NaN</td>\n      <td>NaN</td>\n      <td>NaN</td>\n      <td>2015-10-05</td>\n      <td>1</td>\n      <td>Shizuoka Family Court</td>\n      <td>Shizuoka</td>\n      <td>1-20, Jonaicho, Aoi ku, Shizuoka shi</td>\n      <td>NaN</td>\n      <td>シズオカカテイサイバンショ</td>\n      <td>0</td>\n    </tr>\n    <tr>\n      <th>1</th>\n      <td>2</td>\n      <td>1000013050072</td>\n      <td>01</td>\n      <td>1</td>\n      <td>2018-04-02</td>\n      <td>2015-10-05</td>\n      <td>清水簡易裁判所</td>\n      <td>NaN</td>\n      <td>101</td>\n      <td>静岡県</td>\n      <td>静岡市清水区</td>\n      <td>天神１丁目６−１５</td>\n      <td>NaN</td>\n      <td>22</td>\n      <td>103</td>\n      <td>4240809</td>\n      <td>NaN</td>\n      <td>NaN</td>\n      <td>NaN</td>\n      <td>NaN</td>\n      <td>NaN</td>\n      <td>NaN</td>\n      <td>2015-10-05</td>\n      <td>1</td>\n      <td>Shimizu Summary Court</td>\n      <td>Shizuoka</td>\n      <td>1-6-15, Tenjin, Shimizu ku, Shizuoka shi</td>\n      <td>NaN</td>\n      <td>シミズカンイサイバンショ</td>\n      <td>0</td>\n    </tr>\n    <tr>\n      <th>2</th>\n      <td>3</td>\n      <td>1000013050080</td>\n      <td>01</td>\n      <td>1</td>\n      <td>2018-04-02</td>\n      <td>2015-10-05</td>\n      <td>浜松簡易裁判所</td>\n      <td>NaN</td>\n      <td>101</td>\n      <td>静岡県</td>\n      <td>浜松市中区</td>\n      <td>中央１丁目１２−５</td>\n      <td>NaN</td>\n      <td>22</td>\n      <td>131</td>\n      <td>4300929</td>\n      <td>NaN</td>\n      <td>NaN</td>\n      <td>NaN</td>\n      <td>NaN</td>\n      <td>NaN</td>\n      <td>NaN</td>\n      <td>2015-10-05</td>\n      <td>1</td>\n      <td>Hamamatsu Summary Court</td>\n      <td>Shizuoka</td>\n      <td>1-12-5, Chuo, Naka ku, Hamamatsu shi</td>\n      <td>NaN</td>\n      <td>ハママツカンイサイバンショ</td>\n      <td>0</td>\n    </tr>\n    <tr>\n      <th>3</th>\n      <td>4</td>\n      <td>1000020222119</td>\n      <td>01</td>\n      <td>1</td>\n      <td>2018-04-05</td>\n      <td>2015-10-05</td>\n      <td>磐田市</td>\n      <td>NaN</td>\n      <td>201</td>\n      <td>静岡県</td>\n      <td>磐田市</td>\n      <td>国府台３−１</td>\n      <td>NaN</td>\n      <td>22</td>\n      <td>211</td>\n      <td>4380077</td>\n      <td>NaN</td>\n      <td>NaN</td>\n      <td>NaN</td>\n      <td>NaN</td>\n      <td>NaN</td>\n      <td>NaN</td>\n      <td>2015-10-05</td>\n      <td>1</td>\n      <td>Iwata City</td>\n      <td>Shizuoka</td>\n      <td>3-1,Kounodai, Iwata shi</td>\n      <td>NaN</td>\n      <td>イワタシ</td>\n      <td>0</td>\n    </tr>\n    <tr>\n      <th>4</th>\n      <td>5</td>\n      <td>1000020222127</td>\n      <td>01</td>\n      <td>1</td>\n      <td>2018-04-05</td>\n      <td>2015-10-05</td>\n      <td>焼津市</td>\n      <td>NaN</td>\n      <td>201</td>\n      <td>静岡県</td>\n      <td>焼津市</td>\n      <td>本町２丁目１６−３２</td>\n      <td>NaN</td>\n      <td>22</td>\n      <td>212</td>\n      <td>4250022</td>\n      <td>NaN</td>\n      <td>NaN</td>\n      <td>NaN</td>\n      <td>NaN</td>\n      <td>NaN</td>\n      <td>NaN</td>\n      <td>2015-10-05</td>\n      <td>1</td>\n      <td>Yaizu city</td>\n      <td>Shizuoka</td>\n      <td>2-16-32 Honmachi, Yaizu shi</td>\n      <td>NaN</td>\n      <td>ヤイヅシ</td>\n      <td>0</td>\n    </tr>\n  </tbody>\n</table>\n</div>"
     },
     "execution_count": 10,
     "metadata": {},
     "output_type": "execute_result"
    }
   ],
   "source": [
    "data.head()"
   ],
   "metadata": {
    "collapsed": false,
    "pycharm": {
     "name": "#%%\n"
    }
   }
  },
  {
   "cell_type": "code",
   "execution_count": 11,
   "outputs": [
    {
     "name": "stdout",
     "output_type": "stream",
     "text": [
      "0     object\n",
      "1     object\n",
      "2     object\n",
      "3     object\n",
      "4     object\n",
      "5     object\n",
      "6     object\n",
      "7     object\n",
      "8     object\n",
      "9     object\n",
      "10    object\n",
      "11    object\n",
      "12    object\n",
      "13    object\n",
      "14    object\n",
      "15    object\n",
      "16    object\n",
      "17    object\n",
      "18    object\n",
      "19    object\n",
      "20    object\n",
      "21    object\n",
      "22    object\n",
      "23    object\n",
      "24    object\n",
      "25    object\n",
      "26    object\n",
      "27    object\n",
      "28    object\n",
      "29    object\n",
      "dtype: object\n"
     ]
    }
   ],
   "source": [
    "print(data.dtypes)"
   ],
   "metadata": {
    "collapsed": false,
    "pycharm": {
     "name": "#%%\n"
    }
   }
  },
  {
   "cell_type": "markdown",
   "source": [
    "## Header 用の Text file を読み込もう"
   ],
   "metadata": {
    "collapsed": false,
    "pycharm": {
     "name": "#%% md\n"
    }
   }
  },
  {
   "cell_type": "code",
   "execution_count": 12,
   "outputs": [
    {
     "data": {
      "text/plain": "<bound method NDFrame.head of    column_id\\tcolumn_name_ja\\tcolumn_name_en\n0                    1\\t一連番号\\tsequenceNumber\n1                   2\\t法人番号\\tcorporateNumber\n2                           3\\t処理区分\\tprocess\n3                           4\\t訂正区分\\tcorrect\n4                       5\\t更新年月日\\tupdateDate\n5                       6\\t変更年月日\\tchangeDate\n6                            7\\t商号又は名称\\tname\n7               8\\t商号又は名称イメージID\\tnameImageId\n8                              9\\t法人種別\\tkind\n9            10\\t国内所在地（都道府県）\\tprefectureName\n10                 11\\t国内所在地（市区町村）\\tcityName\n11            12\\t国内所在地（丁目番地等）\\tstreetNumber\n12           13\\t国内所在地イメージID\\taddressImageId\n13               14\\t都道府県コード\\tprefectureCode\n14                     15\\t市区町村コード\\tcityCode\n15                        16\\t郵便番号\\tpostCode\n16                 17\\t国外所在地\\taddressOutside\n17    18\\t国外所在地イメージID\\taddressOutsideImageId\n18                19\\t登記記録の閉鎖等年月日\\tcloseDate\n19               20\\t登記記録の閉鎖等の事由\\tcloseCause\n20     21\\t承継先法人番号\\tsuccessorCorporateNumber\n21                  22\\t変更事由の詳細\\tchangeCause\n22             23\\t法人番号指定年月日\\tassignmentDate\n23                          24\\t最新履歴\\tlatest\n24                  25\\t商号又は名称（英語表記）\\tenName\n25   26\\t国内所在地（都道府県）（英語表記）\\tenPrefectureName\n26     27\\t国内所在地（市町村丁目番地等）（英語表記）\\tenCityName\n27         28\\t国外所在地（英語表記）\\tenAddressOutside\n28                        29\\tフリガナ\\tfurigana\n29                       30\\t検索対象除外\\thihyoji>"
     },
     "execution_count": 12,
     "metadata": {},
     "output_type": "execute_result"
    }
   ],
   "source": [
    "mst = pd.read_csv('./sample_file/100knock-process-visualization/chapter-1/data/mst_column_name.txt', encoding='shift-Jis')\n",
    "mst.head"
   ],
   "metadata": {
    "collapsed": false,
    "pycharm": {
     "name": "#%%\n"
    }
   }
  },
  {
   "cell_type": "code",
   "execution_count": 13,
   "outputs": [
    {
     "data": {
      "text/plain": "   column_id column_name_ja   column_name_en\n0          1           一連番号   sequenceNumber\n1          2           法人番号  corporateNumber\n2          3           処理区分          process\n3          4           訂正区分          correct\n4          5          更新年月日       updateDate",
      "text/html": "<div>\n<style scoped>\n    .dataframe tbody tr th:only-of-type {\n        vertical-align: middle;\n    }\n\n    .dataframe tbody tr th {\n        vertical-align: top;\n    }\n\n    .dataframe thead th {\n        text-align: right;\n    }\n</style>\n<table border=\"1\" class=\"dataframe\">\n  <thead>\n    <tr style=\"text-align: right;\">\n      <th></th>\n      <th>column_id</th>\n      <th>column_name_ja</th>\n      <th>column_name_en</th>\n    </tr>\n  </thead>\n  <tbody>\n    <tr>\n      <th>0</th>\n      <td>1</td>\n      <td>一連番号</td>\n      <td>sequenceNumber</td>\n    </tr>\n    <tr>\n      <th>1</th>\n      <td>2</td>\n      <td>法人番号</td>\n      <td>corporateNumber</td>\n    </tr>\n    <tr>\n      <th>2</th>\n      <td>3</td>\n      <td>処理区分</td>\n      <td>process</td>\n    </tr>\n    <tr>\n      <th>3</th>\n      <td>4</td>\n      <td>訂正区分</td>\n      <td>correct</td>\n    </tr>\n    <tr>\n      <th>4</th>\n      <td>5</td>\n      <td>更新年月日</td>\n      <td>updateDate</td>\n    </tr>\n  </tbody>\n</table>\n</div>"
     },
     "execution_count": 13,
     "metadata": {},
     "output_type": "execute_result"
    }
   ],
   "source": [
    "# \\t で区切った状態で再度読み込む\n",
    "mst = pd.read_csv('./sample_file/100knock-process-visualization/chapter-1/data/mst_column_name.txt', encoding='shift-jis', sep='\\t')\n",
    "mst.head()"
   ],
   "metadata": {
    "collapsed": false,
    "pycharm": {
     "name": "#%%\n"
    }
   }
  },
  {
   "cell_type": "code",
   "execution_count": 14,
   "outputs": [
    {
     "data": {
      "text/plain": "30"
     },
     "execution_count": 14,
     "metadata": {},
     "output_type": "execute_result"
    }
   ],
   "source": [
    "# Data 件数の確認\n",
    "len(mst)"
   ],
   "metadata": {
    "collapsed": false,
    "pycharm": {
     "name": "#%%\n"
    }
   }
  },
  {
   "cell_type": "markdown",
   "source": [
    "`data.columns` （項目数）と同じ件数であることを確認。"
   ],
   "metadata": {
    "collapsed": false,
    "pycharm": {
     "name": "#%% md\n"
    }
   }
  },
  {
   "cell_type": "code",
   "execution_count": 15,
   "outputs": [
    {
     "data": {
      "text/plain": "True"
     },
     "execution_count": 15,
     "metadata": {},
     "output_type": "execute_result"
    }
   ],
   "source": [
    "# 比較演算子で確認\n",
    "len(mst) == len(data.columns)"
   ],
   "metadata": {
    "collapsed": false,
    "pycharm": {
     "name": "#%%\n"
    }
   }
  },
  {
   "cell_type": "markdown",
   "source": [
    "## Header 行を追加しよう"
   ],
   "metadata": {
    "collapsed": false,
    "pycharm": {
     "name": "#%% md\n"
    }
   }
  },
  {
   "cell_type": "code",
   "execution_count": 16,
   "outputs": [],
   "source": [
    "columns = mst.column_name_en.values"
   ],
   "metadata": {
    "collapsed": false,
    "pycharm": {
     "name": "#%%\n"
    }
   }
  },
  {
   "cell_type": "code",
   "execution_count": 17,
   "outputs": [
    {
     "data": {
      "text/plain": "array(['sequenceNumber', 'corporateNumber', 'process', 'correct',\n       'updateDate', 'changeDate', 'name', 'nameImageId', 'kind',\n       'prefectureName', 'cityName', 'streetNumber', 'addressImageId',\n       'prefectureCode', 'cityCode', 'postCode', 'addressOutside',\n       'addressOutsideImageId', 'closeDate', 'closeCause',\n       'successorCorporateNumber', 'changeCause', 'assignmentDate',\n       'latest', 'enName', 'enPrefectureName', 'enCityName',\n       'enAddressOutside', 'furigana', 'hihyoji'], dtype=object)"
     },
     "metadata": {},
     "output_type": "display_data"
    }
   ],
   "source": [
    "display(columns)"
   ],
   "metadata": {
    "collapsed": false,
    "pycharm": {
     "name": "#%%\n"
    }
   }
  },
  {
   "cell_type": "code",
   "execution_count": 18,
   "outputs": [],
   "source": [
    "data.columns = columns"
   ],
   "metadata": {
    "collapsed": false,
    "pycharm": {
     "name": "#%%\n"
    }
   }
  },
  {
   "cell_type": "code",
   "execution_count": 19,
   "outputs": [
    {
     "data": {
      "text/plain": "  sequenceNumber corporateNumber process correct  updateDate  changeDate  \\\n0              1   1000013040008      01       1  2018-04-02  2015-10-05   \n1              2   1000013050072      01       1  2018-04-02  2015-10-05   \n2              3   1000013050080      01       1  2018-04-02  2015-10-05   \n3              4   1000020222119      01       1  2018-04-05  2015-10-05   \n4              5   1000020222127      01       1  2018-04-05  2015-10-05   \n\n      name nameImageId kind prefectureName cityName streetNumber  \\\n0  静岡家庭裁判所         NaN  101            静岡県    静岡市葵区      城内町１−２０   \n1  清水簡易裁判所         NaN  101            静岡県   静岡市清水区    天神１丁目６−１５   \n2  浜松簡易裁判所         NaN  101            静岡県    浜松市中区    中央１丁目１２−５   \n3      磐田市         NaN  201            静岡県      磐田市       国府台３−１   \n4      焼津市         NaN  201            静岡県      焼津市   本町２丁目１６−３２   \n\n  addressImageId prefectureCode cityCode postCode addressOutside  \\\n0            NaN             22      101  4200854            NaN   \n1            NaN             22      103  4240809            NaN   \n2            NaN             22      131  4300929            NaN   \n3            NaN             22      211  4380077            NaN   \n4            NaN             22      212  4250022            NaN   \n\n  addressOutsideImageId closeDate closeCause successorCorporateNumber  \\\n0                   NaN       NaN        NaN                      NaN   \n1                   NaN       NaN        NaN                      NaN   \n2                   NaN       NaN        NaN                      NaN   \n3                   NaN       NaN        NaN                      NaN   \n4                   NaN       NaN        NaN                      NaN   \n\n  changeCause assignmentDate latest                   enName enPrefectureName  \\\n0         NaN     2015-10-05      1    Shizuoka Family Court         Shizuoka   \n1         NaN     2015-10-05      1    Shimizu Summary Court         Shizuoka   \n2         NaN     2015-10-05      1  Hamamatsu Summary Court         Shizuoka   \n3         NaN     2015-10-05      1               Iwata City         Shizuoka   \n4         NaN     2015-10-05      1               Yaizu city         Shizuoka   \n\n                                 enCityName enAddressOutside       furigana  \\\n0      1-20, Jonaicho, Aoi ku, Shizuoka shi              NaN  シズオカカテイサイバンショ   \n1  1-6-15, Tenjin, Shimizu ku, Shizuoka shi              NaN   シミズカンイサイバンショ   \n2      1-12-5, Chuo, Naka ku, Hamamatsu shi              NaN  ハママツカンイサイバンショ   \n3                   3-1,Kounodai, Iwata shi              NaN           イワタシ   \n4               2-16-32 Honmachi, Yaizu shi              NaN           ヤイヅシ   \n\n  hihyoji  \n0       0  \n1       0  \n2       0  \n3       0  \n4       0  ",
      "text/html": "<div>\n<style scoped>\n    .dataframe tbody tr th:only-of-type {\n        vertical-align: middle;\n    }\n\n    .dataframe tbody tr th {\n        vertical-align: top;\n    }\n\n    .dataframe thead th {\n        text-align: right;\n    }\n</style>\n<table border=\"1\" class=\"dataframe\">\n  <thead>\n    <tr style=\"text-align: right;\">\n      <th></th>\n      <th>sequenceNumber</th>\n      <th>corporateNumber</th>\n      <th>process</th>\n      <th>correct</th>\n      <th>updateDate</th>\n      <th>changeDate</th>\n      <th>name</th>\n      <th>nameImageId</th>\n      <th>kind</th>\n      <th>prefectureName</th>\n      <th>cityName</th>\n      <th>streetNumber</th>\n      <th>addressImageId</th>\n      <th>prefectureCode</th>\n      <th>cityCode</th>\n      <th>postCode</th>\n      <th>addressOutside</th>\n      <th>addressOutsideImageId</th>\n      <th>closeDate</th>\n      <th>closeCause</th>\n      <th>successorCorporateNumber</th>\n      <th>changeCause</th>\n      <th>assignmentDate</th>\n      <th>latest</th>\n      <th>enName</th>\n      <th>enPrefectureName</th>\n      <th>enCityName</th>\n      <th>enAddressOutside</th>\n      <th>furigana</th>\n      <th>hihyoji</th>\n    </tr>\n  </thead>\n  <tbody>\n    <tr>\n      <th>0</th>\n      <td>1</td>\n      <td>1000013040008</td>\n      <td>01</td>\n      <td>1</td>\n      <td>2018-04-02</td>\n      <td>2015-10-05</td>\n      <td>静岡家庭裁判所</td>\n      <td>NaN</td>\n      <td>101</td>\n      <td>静岡県</td>\n      <td>静岡市葵区</td>\n      <td>城内町１−２０</td>\n      <td>NaN</td>\n      <td>22</td>\n      <td>101</td>\n      <td>4200854</td>\n      <td>NaN</td>\n      <td>NaN</td>\n      <td>NaN</td>\n      <td>NaN</td>\n      <td>NaN</td>\n      <td>NaN</td>\n      <td>2015-10-05</td>\n      <td>1</td>\n      <td>Shizuoka Family Court</td>\n      <td>Shizuoka</td>\n      <td>1-20, Jonaicho, Aoi ku, Shizuoka shi</td>\n      <td>NaN</td>\n      <td>シズオカカテイサイバンショ</td>\n      <td>0</td>\n    </tr>\n    <tr>\n      <th>1</th>\n      <td>2</td>\n      <td>1000013050072</td>\n      <td>01</td>\n      <td>1</td>\n      <td>2018-04-02</td>\n      <td>2015-10-05</td>\n      <td>清水簡易裁判所</td>\n      <td>NaN</td>\n      <td>101</td>\n      <td>静岡県</td>\n      <td>静岡市清水区</td>\n      <td>天神１丁目６−１５</td>\n      <td>NaN</td>\n      <td>22</td>\n      <td>103</td>\n      <td>4240809</td>\n      <td>NaN</td>\n      <td>NaN</td>\n      <td>NaN</td>\n      <td>NaN</td>\n      <td>NaN</td>\n      <td>NaN</td>\n      <td>2015-10-05</td>\n      <td>1</td>\n      <td>Shimizu Summary Court</td>\n      <td>Shizuoka</td>\n      <td>1-6-15, Tenjin, Shimizu ku, Shizuoka shi</td>\n      <td>NaN</td>\n      <td>シミズカンイサイバンショ</td>\n      <td>0</td>\n    </tr>\n    <tr>\n      <th>2</th>\n      <td>3</td>\n      <td>1000013050080</td>\n      <td>01</td>\n      <td>1</td>\n      <td>2018-04-02</td>\n      <td>2015-10-05</td>\n      <td>浜松簡易裁判所</td>\n      <td>NaN</td>\n      <td>101</td>\n      <td>静岡県</td>\n      <td>浜松市中区</td>\n      <td>中央１丁目１２−５</td>\n      <td>NaN</td>\n      <td>22</td>\n      <td>131</td>\n      <td>4300929</td>\n      <td>NaN</td>\n      <td>NaN</td>\n      <td>NaN</td>\n      <td>NaN</td>\n      <td>NaN</td>\n      <td>NaN</td>\n      <td>2015-10-05</td>\n      <td>1</td>\n      <td>Hamamatsu Summary Court</td>\n      <td>Shizuoka</td>\n      <td>1-12-5, Chuo, Naka ku, Hamamatsu shi</td>\n      <td>NaN</td>\n      <td>ハママツカンイサイバンショ</td>\n      <td>0</td>\n    </tr>\n    <tr>\n      <th>3</th>\n      <td>4</td>\n      <td>1000020222119</td>\n      <td>01</td>\n      <td>1</td>\n      <td>2018-04-05</td>\n      <td>2015-10-05</td>\n      <td>磐田市</td>\n      <td>NaN</td>\n      <td>201</td>\n      <td>静岡県</td>\n      <td>磐田市</td>\n      <td>国府台３−１</td>\n      <td>NaN</td>\n      <td>22</td>\n      <td>211</td>\n      <td>4380077</td>\n      <td>NaN</td>\n      <td>NaN</td>\n      <td>NaN</td>\n      <td>NaN</td>\n      <td>NaN</td>\n      <td>NaN</td>\n      <td>2015-10-05</td>\n      <td>1</td>\n      <td>Iwata City</td>\n      <td>Shizuoka</td>\n      <td>3-1,Kounodai, Iwata shi</td>\n      <td>NaN</td>\n      <td>イワタシ</td>\n      <td>0</td>\n    </tr>\n    <tr>\n      <th>4</th>\n      <td>5</td>\n      <td>1000020222127</td>\n      <td>01</td>\n      <td>1</td>\n      <td>2018-04-05</td>\n      <td>2015-10-05</td>\n      <td>焼津市</td>\n      <td>NaN</td>\n      <td>201</td>\n      <td>静岡県</td>\n      <td>焼津市</td>\n      <td>本町２丁目１６−３２</td>\n      <td>NaN</td>\n      <td>22</td>\n      <td>212</td>\n      <td>4250022</td>\n      <td>NaN</td>\n      <td>NaN</td>\n      <td>NaN</td>\n      <td>NaN</td>\n      <td>NaN</td>\n      <td>NaN</td>\n      <td>2015-10-05</td>\n      <td>1</td>\n      <td>Yaizu city</td>\n      <td>Shizuoka</td>\n      <td>2-16-32 Honmachi, Yaizu shi</td>\n      <td>NaN</td>\n      <td>ヤイヅシ</td>\n      <td>0</td>\n    </tr>\n  </tbody>\n</table>\n</div>"
     },
     "execution_count": 19,
     "metadata": {},
     "output_type": "execute_result"
    }
   ],
   "source": [
    "data.head()"
   ],
   "metadata": {
    "collapsed": false,
    "pycharm": {
     "name": "#%%\n"
    }
   }
  },
  {
   "cell_type": "markdown",
   "source": [
    "## 統計量や欠損値を確認しよう"
   ],
   "metadata": {
    "collapsed": false,
    "pycharm": {
     "name": "#%% md\n"
    }
   }
  },
  {
   "cell_type": "code",
   "execution_count": 20,
   "outputs": [
    {
     "data": {
      "text/plain": "       sequenceNumber corporateNumber process correct  updateDate  changeDate  \\\ncount          114613          114613  114613  114613      114613      114613   \nunique         114613          114613       6       2        1316        1344   \ntop                 1   1000013040008      01       0  2015-11-13  2015-10-05   \nfreq                1               1   94126   80704       55969       83291   \n\n          name nameImageId    kind prefectureName cityName streetNumber  \\\ncount   114613        1243  114613         114613   114613       114596   \nunique  105857        1243       9              1       46        99704   \ntop       八幡神社    00067214     301            静岡県    浜松市中区   新貝町２３９番地の１   \nfreq       171           1   51229         114613     9978           51   \n\n       addressImageId prefectureCode cityCode postCode addressOutside  \\\ncount            1195         114613   114613   114440              0   \nunique           1195              1       48     2772              0   \ntop          00067259             22      131  4100022            NaN   \nfreq                1         114613     9978      732            NaN   \n\n       addressOutsideImageId   closeDate closeCause successorCorporateNumber  \\\ncount                      0       10077      10077                      666   \nunique                     0        1331          4                      572   \ntop                      NaN  2016-02-08         01            8080001004480   \nfreq                     NaN         509       7642                       12   \n\n                                              changeCause assignmentDate  \\\ncount                                                1111         114613   \nunique                                               1051           1328   \ntop     平成２９年１２月１日静岡市駿河区富士見台一丁目２１番２２号富士見工業株式会社（8080001...     2015-10-05   \nfreq                                                   12         101316   \n\n        latest                  enName enPrefectureName  \\\ncount   114613                     232              230   \nunique       1                     231                1   \ntop          1  Kamiide financial ward         Shizuoka   \nfreq    114613                       2              230   \n\n                   enCityName enAddressOutside furigana hihyoji  \ncount                     230                0    46620  114613  \nunique                    129                0    41339       2  \ntop     2-1-1,oohara, Ito shi              NaN   ハチマングウ       0  \nfreq                       10              NaN       30  114388  ",
      "text/html": "<div>\n<style scoped>\n    .dataframe tbody tr th:only-of-type {\n        vertical-align: middle;\n    }\n\n    .dataframe tbody tr th {\n        vertical-align: top;\n    }\n\n    .dataframe thead th {\n        text-align: right;\n    }\n</style>\n<table border=\"1\" class=\"dataframe\">\n  <thead>\n    <tr style=\"text-align: right;\">\n      <th></th>\n      <th>sequenceNumber</th>\n      <th>corporateNumber</th>\n      <th>process</th>\n      <th>correct</th>\n      <th>updateDate</th>\n      <th>changeDate</th>\n      <th>name</th>\n      <th>nameImageId</th>\n      <th>kind</th>\n      <th>prefectureName</th>\n      <th>cityName</th>\n      <th>streetNumber</th>\n      <th>addressImageId</th>\n      <th>prefectureCode</th>\n      <th>cityCode</th>\n      <th>postCode</th>\n      <th>addressOutside</th>\n      <th>addressOutsideImageId</th>\n      <th>closeDate</th>\n      <th>closeCause</th>\n      <th>successorCorporateNumber</th>\n      <th>changeCause</th>\n      <th>assignmentDate</th>\n      <th>latest</th>\n      <th>enName</th>\n      <th>enPrefectureName</th>\n      <th>enCityName</th>\n      <th>enAddressOutside</th>\n      <th>furigana</th>\n      <th>hihyoji</th>\n    </tr>\n  </thead>\n  <tbody>\n    <tr>\n      <th>count</th>\n      <td>114613</td>\n      <td>114613</td>\n      <td>114613</td>\n      <td>114613</td>\n      <td>114613</td>\n      <td>114613</td>\n      <td>114613</td>\n      <td>1243</td>\n      <td>114613</td>\n      <td>114613</td>\n      <td>114613</td>\n      <td>114596</td>\n      <td>1195</td>\n      <td>114613</td>\n      <td>114613</td>\n      <td>114440</td>\n      <td>0</td>\n      <td>0</td>\n      <td>10077</td>\n      <td>10077</td>\n      <td>666</td>\n      <td>1111</td>\n      <td>114613</td>\n      <td>114613</td>\n      <td>232</td>\n      <td>230</td>\n      <td>230</td>\n      <td>0</td>\n      <td>46620</td>\n      <td>114613</td>\n    </tr>\n    <tr>\n      <th>unique</th>\n      <td>114613</td>\n      <td>114613</td>\n      <td>6</td>\n      <td>2</td>\n      <td>1316</td>\n      <td>1344</td>\n      <td>105857</td>\n      <td>1243</td>\n      <td>9</td>\n      <td>1</td>\n      <td>46</td>\n      <td>99704</td>\n      <td>1195</td>\n      <td>1</td>\n      <td>48</td>\n      <td>2772</td>\n      <td>0</td>\n      <td>0</td>\n      <td>1331</td>\n      <td>4</td>\n      <td>572</td>\n      <td>1051</td>\n      <td>1328</td>\n      <td>1</td>\n      <td>231</td>\n      <td>1</td>\n      <td>129</td>\n      <td>0</td>\n      <td>41339</td>\n      <td>2</td>\n    </tr>\n    <tr>\n      <th>top</th>\n      <td>1</td>\n      <td>1000013040008</td>\n      <td>01</td>\n      <td>0</td>\n      <td>2015-11-13</td>\n      <td>2015-10-05</td>\n      <td>八幡神社</td>\n      <td>00067214</td>\n      <td>301</td>\n      <td>静岡県</td>\n      <td>浜松市中区</td>\n      <td>新貝町２３９番地の１</td>\n      <td>00067259</td>\n      <td>22</td>\n      <td>131</td>\n      <td>4100022</td>\n      <td>NaN</td>\n      <td>NaN</td>\n      <td>2016-02-08</td>\n      <td>01</td>\n      <td>8080001004480</td>\n      <td>平成２９年１２月１日静岡市駿河区富士見台一丁目２１番２２号富士見工業株式会社（8080001...</td>\n      <td>2015-10-05</td>\n      <td>1</td>\n      <td>Kamiide financial ward</td>\n      <td>Shizuoka</td>\n      <td>2-1-1,oohara, Ito shi</td>\n      <td>NaN</td>\n      <td>ハチマングウ</td>\n      <td>0</td>\n    </tr>\n    <tr>\n      <th>freq</th>\n      <td>1</td>\n      <td>1</td>\n      <td>94126</td>\n      <td>80704</td>\n      <td>55969</td>\n      <td>83291</td>\n      <td>171</td>\n      <td>1</td>\n      <td>51229</td>\n      <td>114613</td>\n      <td>9978</td>\n      <td>51</td>\n      <td>1</td>\n      <td>114613</td>\n      <td>9978</td>\n      <td>732</td>\n      <td>NaN</td>\n      <td>NaN</td>\n      <td>509</td>\n      <td>7642</td>\n      <td>12</td>\n      <td>12</td>\n      <td>101316</td>\n      <td>114613</td>\n      <td>2</td>\n      <td>230</td>\n      <td>10</td>\n      <td>NaN</td>\n      <td>30</td>\n      <td>114388</td>\n    </tr>\n  </tbody>\n</table>\n</div>"
     },
     "execution_count": 20,
     "metadata": {},
     "output_type": "execute_result"
    }
   ],
   "source": [
    "data.describe()"
   ],
   "metadata": {
    "collapsed": false,
    "pycharm": {
     "name": "#%%\n"
    }
   }
  },
  {
   "cell_type": "markdown",
   "source": [
    "Data が全て Object型で定義しているため、数値の集計ではなく、Data の個数が数えられている。\n",
    "- count: 要素の個数\n",
    "- unique: unique な要素の個数\n",
    "- top: 最頻値\n",
    "- freq: 最頻値の出現回数\n",
    "\n",
    "####### 観点\n",
    "- Unique であるべき Data が、実際にそうなっているか（重複がないか）\n",
    "- 除外されるべき Data が含まれていないか（静岡県以外の Data がないか）\n",
    "- Master で定義されている Code値の種類（unique）が妥当か。\n",
    "\n",
    "###### Data の所感\n",
    "- 重複した Data はない: 「sequenceNumber」, 「corporateNumber」の count と unique が同数。\n",
    "- 静岡県の Data だけ: Master の Code値の種類は未確認だが process や correct の unique数を見る限り妥当と判断。"
   ],
   "metadata": {
    "collapsed": false,
    "pycharm": {
     "name": "#%% md\n"
    }
   }
  },
  {
   "cell_type": "code",
   "execution_count": 21,
   "outputs": [
    {
     "data": {
      "text/plain": "        sequenceNumber  corporateNumber  process  correct  updateDate  \\\n0                False            False    False    False       False   \n1                False            False    False    False       False   \n2                False            False    False    False       False   \n3                False            False    False    False       False   \n4                False            False    False    False       False   \n...                ...              ...      ...      ...         ...   \n114608           False            False    False    False       False   \n114609           False            False    False    False       False   \n114610           False            False    False    False       False   \n114611           False            False    False    False       False   \n114612           False            False    False    False       False   \n\n        changeDate   name  nameImageId   kind  prefectureName  cityName  \\\n0            False  False         True  False           False     False   \n1            False  False         True  False           False     False   \n2            False  False         True  False           False     False   \n3            False  False         True  False           False     False   \n4            False  False         True  False           False     False   \n...            ...    ...          ...    ...             ...       ...   \n114608       False  False         True  False           False     False   \n114609       False  False         True  False           False     False   \n114610       False  False         True  False           False     False   \n114611       False  False         True  False           False     False   \n114612       False  False         True  False           False     False   \n\n        streetNumber  addressImageId  prefectureCode  cityCode  postCode  \\\n0              False            True           False     False     False   \n1              False            True           False     False     False   \n2              False            True           False     False     False   \n3              False            True           False     False     False   \n4              False            True           False     False     False   \n...              ...             ...             ...       ...       ...   \n114608         False            True           False     False     False   \n114609         False            True           False     False     False   \n114610         False            True           False     False     False   \n114611         False            True           False     False     False   \n114612         False            True           False     False     False   \n\n        addressOutside  addressOutsideImageId  closeDate  closeCause  \\\n0                 True                   True       True        True   \n1                 True                   True       True        True   \n2                 True                   True       True        True   \n3                 True                   True       True        True   \n4                 True                   True       True        True   \n...                ...                    ...        ...         ...   \n114608            True                   True       True        True   \n114609            True                   True       True        True   \n114610            True                   True       True        True   \n114611            True                   True       True        True   \n114612            True                   True       True        True   \n\n        successorCorporateNumber  changeCause  assignmentDate  latest  enName  \\\n0                           True         True           False   False   False   \n1                           True         True           False   False   False   \n2                           True         True           False   False   False   \n3                           True         True           False   False   False   \n4                           True         True           False   False   False   \n...                          ...          ...             ...     ...     ...   \n114608                      True         True           False   False    True   \n114609                      True         True           False   False    True   \n114610                      True         True           False   False    True   \n114611                      True         True           False   False    True   \n114612                      True         True           False   False    True   \n\n        enPrefectureName  enCityName  enAddressOutside  furigana  hihyoji  \n0                  False       False              True     False    False  \n1                  False       False              True     False    False  \n2                  False       False              True     False    False  \n3                  False       False              True     False    False  \n4                  False       False              True     False    False  \n...                  ...         ...               ...       ...      ...  \n114608              True        True              True     False    False  \n114609              True        True              True     False    False  \n114610              True        True              True     False    False  \n114611              True        True              True     False    False  \n114612              True        True              True     False    False  \n\n[114613 rows x 30 columns]",
      "text/html": "<div>\n<style scoped>\n    .dataframe tbody tr th:only-of-type {\n        vertical-align: middle;\n    }\n\n    .dataframe tbody tr th {\n        vertical-align: top;\n    }\n\n    .dataframe thead th {\n        text-align: right;\n    }\n</style>\n<table border=\"1\" class=\"dataframe\">\n  <thead>\n    <tr style=\"text-align: right;\">\n      <th></th>\n      <th>sequenceNumber</th>\n      <th>corporateNumber</th>\n      <th>process</th>\n      <th>correct</th>\n      <th>updateDate</th>\n      <th>changeDate</th>\n      <th>name</th>\n      <th>nameImageId</th>\n      <th>kind</th>\n      <th>prefectureName</th>\n      <th>cityName</th>\n      <th>streetNumber</th>\n      <th>addressImageId</th>\n      <th>prefectureCode</th>\n      <th>cityCode</th>\n      <th>postCode</th>\n      <th>addressOutside</th>\n      <th>addressOutsideImageId</th>\n      <th>closeDate</th>\n      <th>closeCause</th>\n      <th>successorCorporateNumber</th>\n      <th>changeCause</th>\n      <th>assignmentDate</th>\n      <th>latest</th>\n      <th>enName</th>\n      <th>enPrefectureName</th>\n      <th>enCityName</th>\n      <th>enAddressOutside</th>\n      <th>furigana</th>\n      <th>hihyoji</th>\n    </tr>\n  </thead>\n  <tbody>\n    <tr>\n      <th>0</th>\n      <td>False</td>\n      <td>False</td>\n      <td>False</td>\n      <td>False</td>\n      <td>False</td>\n      <td>False</td>\n      <td>False</td>\n      <td>True</td>\n      <td>False</td>\n      <td>False</td>\n      <td>False</td>\n      <td>False</td>\n      <td>True</td>\n      <td>False</td>\n      <td>False</td>\n      <td>False</td>\n      <td>True</td>\n      <td>True</td>\n      <td>True</td>\n      <td>True</td>\n      <td>True</td>\n      <td>True</td>\n      <td>False</td>\n      <td>False</td>\n      <td>False</td>\n      <td>False</td>\n      <td>False</td>\n      <td>True</td>\n      <td>False</td>\n      <td>False</td>\n    </tr>\n    <tr>\n      <th>1</th>\n      <td>False</td>\n      <td>False</td>\n      <td>False</td>\n      <td>False</td>\n      <td>False</td>\n      <td>False</td>\n      <td>False</td>\n      <td>True</td>\n      <td>False</td>\n      <td>False</td>\n      <td>False</td>\n      <td>False</td>\n      <td>True</td>\n      <td>False</td>\n      <td>False</td>\n      <td>False</td>\n      <td>True</td>\n      <td>True</td>\n      <td>True</td>\n      <td>True</td>\n      <td>True</td>\n      <td>True</td>\n      <td>False</td>\n      <td>False</td>\n      <td>False</td>\n      <td>False</td>\n      <td>False</td>\n      <td>True</td>\n      <td>False</td>\n      <td>False</td>\n    </tr>\n    <tr>\n      <th>2</th>\n      <td>False</td>\n      <td>False</td>\n      <td>False</td>\n      <td>False</td>\n      <td>False</td>\n      <td>False</td>\n      <td>False</td>\n      <td>True</td>\n      <td>False</td>\n      <td>False</td>\n      <td>False</td>\n      <td>False</td>\n      <td>True</td>\n      <td>False</td>\n      <td>False</td>\n      <td>False</td>\n      <td>True</td>\n      <td>True</td>\n      <td>True</td>\n      <td>True</td>\n      <td>True</td>\n      <td>True</td>\n      <td>False</td>\n      <td>False</td>\n      <td>False</td>\n      <td>False</td>\n      <td>False</td>\n      <td>True</td>\n      <td>False</td>\n      <td>False</td>\n    </tr>\n    <tr>\n      <th>3</th>\n      <td>False</td>\n      <td>False</td>\n      <td>False</td>\n      <td>False</td>\n      <td>False</td>\n      <td>False</td>\n      <td>False</td>\n      <td>True</td>\n      <td>False</td>\n      <td>False</td>\n      <td>False</td>\n      <td>False</td>\n      <td>True</td>\n      <td>False</td>\n      <td>False</td>\n      <td>False</td>\n      <td>True</td>\n      <td>True</td>\n      <td>True</td>\n      <td>True</td>\n      <td>True</td>\n      <td>True</td>\n      <td>False</td>\n      <td>False</td>\n      <td>False</td>\n      <td>False</td>\n      <td>False</td>\n      <td>True</td>\n      <td>False</td>\n      <td>False</td>\n    </tr>\n    <tr>\n      <th>4</th>\n      <td>False</td>\n      <td>False</td>\n      <td>False</td>\n      <td>False</td>\n      <td>False</td>\n      <td>False</td>\n      <td>False</td>\n      <td>True</td>\n      <td>False</td>\n      <td>False</td>\n      <td>False</td>\n      <td>False</td>\n      <td>True</td>\n      <td>False</td>\n      <td>False</td>\n      <td>False</td>\n      <td>True</td>\n      <td>True</td>\n      <td>True</td>\n      <td>True</td>\n      <td>True</td>\n      <td>True</td>\n      <td>False</td>\n      <td>False</td>\n      <td>False</td>\n      <td>False</td>\n      <td>False</td>\n      <td>True</td>\n      <td>False</td>\n      <td>False</td>\n    </tr>\n    <tr>\n      <th>...</th>\n      <td>...</td>\n      <td>...</td>\n      <td>...</td>\n      <td>...</td>\n      <td>...</td>\n      <td>...</td>\n      <td>...</td>\n      <td>...</td>\n      <td>...</td>\n      <td>...</td>\n      <td>...</td>\n      <td>...</td>\n      <td>...</td>\n      <td>...</td>\n      <td>...</td>\n      <td>...</td>\n      <td>...</td>\n      <td>...</td>\n      <td>...</td>\n      <td>...</td>\n      <td>...</td>\n      <td>...</td>\n      <td>...</td>\n      <td>...</td>\n      <td>...</td>\n      <td>...</td>\n      <td>...</td>\n      <td>...</td>\n      <td>...</td>\n      <td>...</td>\n    </tr>\n    <tr>\n      <th>114608</th>\n      <td>False</td>\n      <td>False</td>\n      <td>False</td>\n      <td>False</td>\n      <td>False</td>\n      <td>False</td>\n      <td>False</td>\n      <td>True</td>\n      <td>False</td>\n      <td>False</td>\n      <td>False</td>\n      <td>False</td>\n      <td>True</td>\n      <td>False</td>\n      <td>False</td>\n      <td>False</td>\n      <td>True</td>\n      <td>True</td>\n      <td>True</td>\n      <td>True</td>\n      <td>True</td>\n      <td>True</td>\n      <td>False</td>\n      <td>False</td>\n      <td>True</td>\n      <td>True</td>\n      <td>True</td>\n      <td>True</td>\n      <td>False</td>\n      <td>False</td>\n    </tr>\n    <tr>\n      <th>114609</th>\n      <td>False</td>\n      <td>False</td>\n      <td>False</td>\n      <td>False</td>\n      <td>False</td>\n      <td>False</td>\n      <td>False</td>\n      <td>True</td>\n      <td>False</td>\n      <td>False</td>\n      <td>False</td>\n      <td>False</td>\n      <td>True</td>\n      <td>False</td>\n      <td>False</td>\n      <td>False</td>\n      <td>True</td>\n      <td>True</td>\n      <td>True</td>\n      <td>True</td>\n      <td>True</td>\n      <td>True</td>\n      <td>False</td>\n      <td>False</td>\n      <td>True</td>\n      <td>True</td>\n      <td>True</td>\n      <td>True</td>\n      <td>False</td>\n      <td>False</td>\n    </tr>\n    <tr>\n      <th>114610</th>\n      <td>False</td>\n      <td>False</td>\n      <td>False</td>\n      <td>False</td>\n      <td>False</td>\n      <td>False</td>\n      <td>False</td>\n      <td>True</td>\n      <td>False</td>\n      <td>False</td>\n      <td>False</td>\n      <td>False</td>\n      <td>True</td>\n      <td>False</td>\n      <td>False</td>\n      <td>False</td>\n      <td>True</td>\n      <td>True</td>\n      <td>True</td>\n      <td>True</td>\n      <td>True</td>\n      <td>True</td>\n      <td>False</td>\n      <td>False</td>\n      <td>True</td>\n      <td>True</td>\n      <td>True</td>\n      <td>True</td>\n      <td>False</td>\n      <td>False</td>\n    </tr>\n    <tr>\n      <th>114611</th>\n      <td>False</td>\n      <td>False</td>\n      <td>False</td>\n      <td>False</td>\n      <td>False</td>\n      <td>False</td>\n      <td>False</td>\n      <td>True</td>\n      <td>False</td>\n      <td>False</td>\n      <td>False</td>\n      <td>False</td>\n      <td>True</td>\n      <td>False</td>\n      <td>False</td>\n      <td>False</td>\n      <td>True</td>\n      <td>True</td>\n      <td>True</td>\n      <td>True</td>\n      <td>True</td>\n      <td>True</td>\n      <td>False</td>\n      <td>False</td>\n      <td>True</td>\n      <td>True</td>\n      <td>True</td>\n      <td>True</td>\n      <td>False</td>\n      <td>False</td>\n    </tr>\n    <tr>\n      <th>114612</th>\n      <td>False</td>\n      <td>False</td>\n      <td>False</td>\n      <td>False</td>\n      <td>False</td>\n      <td>False</td>\n      <td>False</td>\n      <td>True</td>\n      <td>False</td>\n      <td>False</td>\n      <td>False</td>\n      <td>False</td>\n      <td>True</td>\n      <td>False</td>\n      <td>False</td>\n      <td>False</td>\n      <td>True</td>\n      <td>True</td>\n      <td>True</td>\n      <td>True</td>\n      <td>True</td>\n      <td>True</td>\n      <td>False</td>\n      <td>False</td>\n      <td>True</td>\n      <td>True</td>\n      <td>True</td>\n      <td>True</td>\n      <td>False</td>\n      <td>False</td>\n    </tr>\n  </tbody>\n</table>\n<p>114613 rows × 30 columns</p>\n</div>"
     },
     "execution_count": 21,
     "metadata": {},
     "output_type": "execute_result"
    }
   ],
   "source": [
    "# 欠損値の確認\n",
    "data.isna()"
   ],
   "metadata": {
    "collapsed": false,
    "pycharm": {
     "name": "#%%\n"
    }
   }
  },
  {
   "cell_type": "code",
   "source": [
    "# 欠損値の数を項目ごとに集計\n",
    "print(data.isna().sum())"
   ],
   "metadata": {
    "collapsed": false,
    "pycharm": {
     "name": "#%%\n"
    }
   },
   "execution_count": 22,
   "outputs": [
    {
     "name": "stdout",
     "output_type": "stream",
     "text": [
      "sequenceNumber                   0\n",
      "corporateNumber                  0\n",
      "process                          0\n",
      "correct                          0\n",
      "updateDate                       0\n",
      "changeDate                       0\n",
      "name                             0\n",
      "nameImageId                 113370\n",
      "kind                             0\n",
      "prefectureName                   0\n",
      "cityName                         0\n",
      "streetNumber                    17\n",
      "addressImageId              113418\n",
      "prefectureCode                   0\n",
      "cityCode                         0\n",
      "postCode                       173\n",
      "addressOutside              114613\n",
      "addressOutsideImageId       114613\n",
      "closeDate                   104536\n",
      "closeCause                  104536\n",
      "successorCorporateNumber    113947\n",
      "changeCause                 113502\n",
      "assignmentDate                   0\n",
      "latest                           0\n",
      "enName                      114381\n",
      "enPrefectureName            114383\n",
      "enCityName                  114383\n",
      "enAddressOutside            114613\n",
      "furigana                     67993\n",
      "hihyoji                          0\n",
      "dtype: int64\n"
     ]
    }
   ]
  },
  {
   "cell_type": "markdown",
   "source": [
    "郵便番号（postCode）に欠損値が存在しているため、今回の Data から住所録を作成する場合、注意する。"
   ],
   "metadata": {
    "collapsed": false,
    "pycharm": {
     "name": "#%% md\n"
    }
   }
  },
  {
   "cell_type": "markdown",
   "source": [
    "## 繰り返し処理で新しい Data を追加しよう"
   ],
   "metadata": {
    "collapsed": false,
    "pycharm": {
     "name": "#%% md\n"
    }
   }
  },
  {
   "cell_type": "code",
   "execution_count": 23,
   "outputs": [
    {
     "data": {
      "text/plain": "['mst_correct_kbn.csv',\n '22_shizuoka_all_20210331.csv',\n 'diff_20210408.csv',\n 'mst_closeCause.csv',\n 'mst_column_name.txt',\n 'diff_20210401.csv',\n 'diff_20210409.csv',\n 'diff_20210407.csv',\n 'mst_latest.csv',\n 'mst_corp_kind.csv',\n 'diff_20210406.csv',\n 'diff_20210405.csv',\n 'mst_hihyoji.csv',\n 'mst_process_kbn.csv']"
     },
     "execution_count": 23,
     "metadata": {},
     "output_type": "execute_result"
    }
   ],
   "source": [
    "import os\n",
    "data_url = './sample_file/100knock-process-visualization/chapter-1/data'\n",
    "os.listdir(data_url)"
   ],
   "metadata": {
    "collapsed": false,
    "pycharm": {
     "name": "#%%\n"
    }
   }
  },
  {
   "cell_type": "code",
   "execution_count": 24,
   "outputs": [
    {
     "data": {
      "text/plain": "['./sample_file/100knock-process-visualization/chapter-1/data/diff_20210408.csv',\n './sample_file/100knock-process-visualization/chapter-1/data/diff_20210401.csv',\n './sample_file/100knock-process-visualization/chapter-1/data/diff_20210409.csv',\n './sample_file/100knock-process-visualization/chapter-1/data/diff_20210407.csv',\n './sample_file/100knock-process-visualization/chapter-1/data/diff_20210406.csv',\n './sample_file/100knock-process-visualization/chapter-1/data/diff_20210405.csv']"
     },
     "execution_count": 24,
     "metadata": {},
     "output_type": "execute_result"
    }
   ],
   "source": [
    "from glob import glob  # `glab`: ある Pattern に match するかたまりを取得する Library\n",
    "diff_files = glob(f'{data_url}/diff*.csv')\n",
    "diff_files"
   ],
   "metadata": {
    "collapsed": false,
    "pycharm": {
     "name": "#%%\n"
    }
   }
  },
  {
   "cell_type": "code",
   "execution_count": 25,
   "outputs": [
    {
     "data": {
      "text/plain": "(2316, 30)"
     },
     "metadata": {},
     "output_type": "display_data"
    },
    {
     "data": {
      "text/plain": "  0              1   2  3           4           5                   6    7   \\\n0  1  1010001016019  71  0  2021-04-01  2021-03-01         株式会社国際漢方研究所  NaN   \n1  2  1010001092869  01  1  2021-04-01  2020-06-11  あさひ銀リテールファイナンス株式会社  NaN   \n2  3  1010001092869  21  0  2021-04-01  2021-03-22  あさひ銀リテールファイナンス株式会社  NaN   \n\n    8    9     10                11   12  13   14       15   16   17  \\\n0  301  東京都  千代田区        内神田３丁目６番１号  NaN  13  101  1010047  NaN  NaN   \n1  301  東京都  千代田区  大手町１丁目１番２号りそな銀行内  NaN  13  101  1000004  NaN  NaN   \n2  301  東京都  千代田区  大手町１丁目１番２号りそな銀行内  NaN  13  101  1000004  NaN  NaN   \n\n           18   19   20                                                 21  \\\n0         NaN  NaN  NaN  令和３年３月１日東京都渋谷区千駄ヶ谷五丁目２９番１１号ナカニシビル６０２号室株式会社Ｉｎｔｅ...   \n1         NaN  NaN  NaN                                                NaN   \n2  2021-03-22   01  NaN                                                NaN   \n\n           22 23   24   25   26   27               28 29  \n0  2015-10-05  1  NaN  NaN  NaN  NaN  コクサイカンポウケンキュウショ  0  \n1  2020-06-11  0  NaN  NaN  NaN  NaN  アサヒギンリテールファイナンス  0  \n2  2020-06-11  1  NaN  NaN  NaN  NaN  アサヒギンリテールファイナンス  0  ",
      "text/html": "<div>\n<style scoped>\n    .dataframe tbody tr th:only-of-type {\n        vertical-align: middle;\n    }\n\n    .dataframe tbody tr th {\n        vertical-align: top;\n    }\n\n    .dataframe thead th {\n        text-align: right;\n    }\n</style>\n<table border=\"1\" class=\"dataframe\">\n  <thead>\n    <tr style=\"text-align: right;\">\n      <th></th>\n      <th>0</th>\n      <th>1</th>\n      <th>2</th>\n      <th>3</th>\n      <th>4</th>\n      <th>5</th>\n      <th>6</th>\n      <th>7</th>\n      <th>8</th>\n      <th>9</th>\n      <th>10</th>\n      <th>11</th>\n      <th>12</th>\n      <th>13</th>\n      <th>14</th>\n      <th>15</th>\n      <th>16</th>\n      <th>17</th>\n      <th>18</th>\n      <th>19</th>\n      <th>20</th>\n      <th>21</th>\n      <th>22</th>\n      <th>23</th>\n      <th>24</th>\n      <th>25</th>\n      <th>26</th>\n      <th>27</th>\n      <th>28</th>\n      <th>29</th>\n    </tr>\n  </thead>\n  <tbody>\n    <tr>\n      <th>0</th>\n      <td>1</td>\n      <td>1010001016019</td>\n      <td>71</td>\n      <td>0</td>\n      <td>2021-04-01</td>\n      <td>2021-03-01</td>\n      <td>株式会社国際漢方研究所</td>\n      <td>NaN</td>\n      <td>301</td>\n      <td>東京都</td>\n      <td>千代田区</td>\n      <td>内神田３丁目６番１号</td>\n      <td>NaN</td>\n      <td>13</td>\n      <td>101</td>\n      <td>1010047</td>\n      <td>NaN</td>\n      <td>NaN</td>\n      <td>NaN</td>\n      <td>NaN</td>\n      <td>NaN</td>\n      <td>令和３年３月１日東京都渋谷区千駄ヶ谷五丁目２９番１１号ナカニシビル６０２号室株式会社Ｉｎｔｅ...</td>\n      <td>2015-10-05</td>\n      <td>1</td>\n      <td>NaN</td>\n      <td>NaN</td>\n      <td>NaN</td>\n      <td>NaN</td>\n      <td>コクサイカンポウケンキュウショ</td>\n      <td>0</td>\n    </tr>\n    <tr>\n      <th>1</th>\n      <td>2</td>\n      <td>1010001092869</td>\n      <td>01</td>\n      <td>1</td>\n      <td>2021-04-01</td>\n      <td>2020-06-11</td>\n      <td>あさひ銀リテールファイナンス株式会社</td>\n      <td>NaN</td>\n      <td>301</td>\n      <td>東京都</td>\n      <td>千代田区</td>\n      <td>大手町１丁目１番２号りそな銀行内</td>\n      <td>NaN</td>\n      <td>13</td>\n      <td>101</td>\n      <td>1000004</td>\n      <td>NaN</td>\n      <td>NaN</td>\n      <td>NaN</td>\n      <td>NaN</td>\n      <td>NaN</td>\n      <td>NaN</td>\n      <td>2020-06-11</td>\n      <td>0</td>\n      <td>NaN</td>\n      <td>NaN</td>\n      <td>NaN</td>\n      <td>NaN</td>\n      <td>アサヒギンリテールファイナンス</td>\n      <td>0</td>\n    </tr>\n    <tr>\n      <th>2</th>\n      <td>3</td>\n      <td>1010001092869</td>\n      <td>21</td>\n      <td>0</td>\n      <td>2021-04-01</td>\n      <td>2021-03-22</td>\n      <td>あさひ銀リテールファイナンス株式会社</td>\n      <td>NaN</td>\n      <td>301</td>\n      <td>東京都</td>\n      <td>千代田区</td>\n      <td>大手町１丁目１番２号りそな銀行内</td>\n      <td>NaN</td>\n      <td>13</td>\n      <td>101</td>\n      <td>1000004</td>\n      <td>NaN</td>\n      <td>NaN</td>\n      <td>2021-03-22</td>\n      <td>01</td>\n      <td>NaN</td>\n      <td>NaN</td>\n      <td>2020-06-11</td>\n      <td>1</td>\n      <td>NaN</td>\n      <td>NaN</td>\n      <td>NaN</td>\n      <td>NaN</td>\n      <td>アサヒギンリテールファイナンス</td>\n      <td>0</td>\n    </tr>\n  </tbody>\n</table>\n</div>"
     },
     "execution_count": 25,
     "metadata": {},
     "output_type": "execute_result"
    }
   ],
   "source": [
    "diff_files.sort()\n",
    "diff = pd.read_csv(diff_files[0], encoding='shift-jis', header=None, dtype=object)\n",
    "display(diff.shape)\n",
    "diff.head(3)"
   ],
   "metadata": {
    "collapsed": false,
    "pycharm": {
     "name": "#%%\n"
    }
   }
  },
  {
   "cell_type": "code",
   "execution_count": 26,
   "outputs": [
    {
     "data": {
      "text/plain": "(43, 30)"
     },
     "metadata": {},
     "output_type": "display_data"
    },
    {
     "data": {
      "text/plain": "    sequenceNumber corporateNumber process correct  updateDate  changeDate  \\\n107            108   1080001015906      01       1  2021-04-01  2015-10-05   \n108            109   1080001015906      12       1  2021-04-01  2021-03-30   \n109            110   1080002015434      01       1  2021-04-01  2015-10-05   \n\n            name nameImageId kind prefectureName cityName streetNumber  \\\n107  株式会社エムケイテック         NaN  301            静岡県      焼津市     策牛９８番地の２   \n108  株式会社エムケイテック         NaN  301            静岡県      藤枝市  岡部桂島９８５番地の５   \n109   有限会社ハイナンＤＣ         NaN  302            静岡県     牧之原市     大沢１４４番地９   \n\n    addressImageId prefectureCode cityCode postCode addressOutside  \\\n107            NaN             22      212  4250007            NaN   \n108            NaN             22      214  4260000            NaN   \n109            NaN             22      226  4210526            NaN   \n\n    addressOutsideImageId closeDate closeCause successorCorporateNumber  \\\n107                   NaN       NaN        NaN                      NaN   \n108                   NaN       NaN        NaN                      NaN   \n109                   NaN       NaN        NaN                      NaN   \n\n    changeCause assignmentDate latest enName enPrefectureName enCityName  \\\n107         NaN     2015-10-05      0    NaN              NaN        NaN   \n108         NaN     2015-10-05      1    NaN              NaN        NaN   \n109         NaN     2015-10-05      1    NaN              NaN        NaN   \n\n    enAddressOutside   furigana hihyoji  \n107              NaN    エムケイテック       0  \n108              NaN    エムケイテック       0  \n109              NaN  ハイナンディーシー       0  ",
      "text/html": "<div>\n<style scoped>\n    .dataframe tbody tr th:only-of-type {\n        vertical-align: middle;\n    }\n\n    .dataframe tbody tr th {\n        vertical-align: top;\n    }\n\n    .dataframe thead th {\n        text-align: right;\n    }\n</style>\n<table border=\"1\" class=\"dataframe\">\n  <thead>\n    <tr style=\"text-align: right;\">\n      <th></th>\n      <th>sequenceNumber</th>\n      <th>corporateNumber</th>\n      <th>process</th>\n      <th>correct</th>\n      <th>updateDate</th>\n      <th>changeDate</th>\n      <th>name</th>\n      <th>nameImageId</th>\n      <th>kind</th>\n      <th>prefectureName</th>\n      <th>cityName</th>\n      <th>streetNumber</th>\n      <th>addressImageId</th>\n      <th>prefectureCode</th>\n      <th>cityCode</th>\n      <th>postCode</th>\n      <th>addressOutside</th>\n      <th>addressOutsideImageId</th>\n      <th>closeDate</th>\n      <th>closeCause</th>\n      <th>successorCorporateNumber</th>\n      <th>changeCause</th>\n      <th>assignmentDate</th>\n      <th>latest</th>\n      <th>enName</th>\n      <th>enPrefectureName</th>\n      <th>enCityName</th>\n      <th>enAddressOutside</th>\n      <th>furigana</th>\n      <th>hihyoji</th>\n    </tr>\n  </thead>\n  <tbody>\n    <tr>\n      <th>107</th>\n      <td>108</td>\n      <td>1080001015906</td>\n      <td>01</td>\n      <td>1</td>\n      <td>2021-04-01</td>\n      <td>2015-10-05</td>\n      <td>株式会社エムケイテック</td>\n      <td>NaN</td>\n      <td>301</td>\n      <td>静岡県</td>\n      <td>焼津市</td>\n      <td>策牛９８番地の２</td>\n      <td>NaN</td>\n      <td>22</td>\n      <td>212</td>\n      <td>4250007</td>\n      <td>NaN</td>\n      <td>NaN</td>\n      <td>NaN</td>\n      <td>NaN</td>\n      <td>NaN</td>\n      <td>NaN</td>\n      <td>2015-10-05</td>\n      <td>0</td>\n      <td>NaN</td>\n      <td>NaN</td>\n      <td>NaN</td>\n      <td>NaN</td>\n      <td>エムケイテック</td>\n      <td>0</td>\n    </tr>\n    <tr>\n      <th>108</th>\n      <td>109</td>\n      <td>1080001015906</td>\n      <td>12</td>\n      <td>1</td>\n      <td>2021-04-01</td>\n      <td>2021-03-30</td>\n      <td>株式会社エムケイテック</td>\n      <td>NaN</td>\n      <td>301</td>\n      <td>静岡県</td>\n      <td>藤枝市</td>\n      <td>岡部桂島９８５番地の５</td>\n      <td>NaN</td>\n      <td>22</td>\n      <td>214</td>\n      <td>4260000</td>\n      <td>NaN</td>\n      <td>NaN</td>\n      <td>NaN</td>\n      <td>NaN</td>\n      <td>NaN</td>\n      <td>NaN</td>\n      <td>2015-10-05</td>\n      <td>1</td>\n      <td>NaN</td>\n      <td>NaN</td>\n      <td>NaN</td>\n      <td>NaN</td>\n      <td>エムケイテック</td>\n      <td>0</td>\n    </tr>\n    <tr>\n      <th>109</th>\n      <td>110</td>\n      <td>1080002015434</td>\n      <td>01</td>\n      <td>1</td>\n      <td>2021-04-01</td>\n      <td>2015-10-05</td>\n      <td>有限会社ハイナンＤＣ</td>\n      <td>NaN</td>\n      <td>302</td>\n      <td>静岡県</td>\n      <td>牧之原市</td>\n      <td>大沢１４４番地９</td>\n      <td>NaN</td>\n      <td>22</td>\n      <td>226</td>\n      <td>4210526</td>\n      <td>NaN</td>\n      <td>NaN</td>\n      <td>NaN</td>\n      <td>NaN</td>\n      <td>NaN</td>\n      <td>NaN</td>\n      <td>2015-10-05</td>\n      <td>1</td>\n      <td>NaN</td>\n      <td>NaN</td>\n      <td>NaN</td>\n      <td>NaN</td>\n      <td>ハイナンディーシー</td>\n      <td>0</td>\n    </tr>\n  </tbody>\n</table>\n</div>"
     },
     "execution_count": 26,
     "metadata": {},
     "output_type": "execute_result"
    }
   ],
   "source": [
    "# 静岡県の Data に絞り込む\n",
    "diff.columns = columns\n",
    "diff = diff.loc[diff['prefectureName'] == '静岡県']\n",
    "display(diff.shape)\n",
    "diff.head(3)"
   ],
   "metadata": {
    "collapsed": false,
    "pycharm": {
     "name": "#%%\n"
    }
   }
  },
  {
   "cell_type": "code",
   "execution_count": 27,
   "outputs": [
    {
     "name": "stdout",
     "output_type": "stream",
     "text": [
      "114613\n",
      "True\n",
      "43\n",
      "114656\n"
     ]
    },
    {
     "data": {
      "text/plain": "     sequenceNumber corporateNumber process correct  updateDate  changeDate  \\\n2159           2160   9080401024929      01       0  2021-04-01  2021-04-01   \n2160           2161   9080402007726      01       1  2021-04-01  2015-10-05   \n2161           2162   9080402021917      21       0  2021-04-01  2021-03-30   \n\n          name nameImageId kind prefectureName cityName streetNumber  \\\n2159  株式会社リガーレ         NaN  301            静岡県    浜松市中区  鍛冶町３１９番地の２４   \n2160  有限会社丸信商店         NaN  302            静岡県    浜松市中区      天神町４番８号   \n2161  有限会社岡本商会         NaN  302            静岡県      袋井市    梅山３６１番地の１   \n\n     addressImageId prefectureCode cityCode postCode addressOutside  \\\n2159            NaN             22      131  4300933            NaN   \n2160            NaN             22      131  4300808            NaN   \n2161            NaN             22      216  4371105            NaN   \n\n     addressOutsideImageId   closeDate closeCause successorCorporateNumber  \\\n2159                   NaN         NaN        NaN                      NaN   \n2160                   NaN         NaN        NaN                      NaN   \n2161                   NaN  2021-03-30         01                      NaN   \n\n     changeCause assignmentDate latest enName enPrefectureName enCityName  \\\n2159         NaN     2021-04-01      1    NaN              NaN        NaN   \n2160         NaN     2015-10-05      1    NaN              NaN        NaN   \n2161         NaN     2015-10-05      1    NaN              NaN        NaN   \n\n     enAddressOutside   furigana hihyoji  \n2159              NaN       リガーレ       0  \n2160              NaN  マルシンショウテン       0  \n2161              NaN  オカモトショウカイ       0  ",
      "text/html": "<div>\n<style scoped>\n    .dataframe tbody tr th:only-of-type {\n        vertical-align: middle;\n    }\n\n    .dataframe tbody tr th {\n        vertical-align: top;\n    }\n\n    .dataframe thead th {\n        text-align: right;\n    }\n</style>\n<table border=\"1\" class=\"dataframe\">\n  <thead>\n    <tr style=\"text-align: right;\">\n      <th></th>\n      <th>sequenceNumber</th>\n      <th>corporateNumber</th>\n      <th>process</th>\n      <th>correct</th>\n      <th>updateDate</th>\n      <th>changeDate</th>\n      <th>name</th>\n      <th>nameImageId</th>\n      <th>kind</th>\n      <th>prefectureName</th>\n      <th>cityName</th>\n      <th>streetNumber</th>\n      <th>addressImageId</th>\n      <th>prefectureCode</th>\n      <th>cityCode</th>\n      <th>postCode</th>\n      <th>addressOutside</th>\n      <th>addressOutsideImageId</th>\n      <th>closeDate</th>\n      <th>closeCause</th>\n      <th>successorCorporateNumber</th>\n      <th>changeCause</th>\n      <th>assignmentDate</th>\n      <th>latest</th>\n      <th>enName</th>\n      <th>enPrefectureName</th>\n      <th>enCityName</th>\n      <th>enAddressOutside</th>\n      <th>furigana</th>\n      <th>hihyoji</th>\n    </tr>\n  </thead>\n  <tbody>\n    <tr>\n      <th>2159</th>\n      <td>2160</td>\n      <td>9080401024929</td>\n      <td>01</td>\n      <td>0</td>\n      <td>2021-04-01</td>\n      <td>2021-04-01</td>\n      <td>株式会社リガーレ</td>\n      <td>NaN</td>\n      <td>301</td>\n      <td>静岡県</td>\n      <td>浜松市中区</td>\n      <td>鍛冶町３１９番地の２４</td>\n      <td>NaN</td>\n      <td>22</td>\n      <td>131</td>\n      <td>4300933</td>\n      <td>NaN</td>\n      <td>NaN</td>\n      <td>NaN</td>\n      <td>NaN</td>\n      <td>NaN</td>\n      <td>NaN</td>\n      <td>2021-04-01</td>\n      <td>1</td>\n      <td>NaN</td>\n      <td>NaN</td>\n      <td>NaN</td>\n      <td>NaN</td>\n      <td>リガーレ</td>\n      <td>0</td>\n    </tr>\n    <tr>\n      <th>2160</th>\n      <td>2161</td>\n      <td>9080402007726</td>\n      <td>01</td>\n      <td>1</td>\n      <td>2021-04-01</td>\n      <td>2015-10-05</td>\n      <td>有限会社丸信商店</td>\n      <td>NaN</td>\n      <td>302</td>\n      <td>静岡県</td>\n      <td>浜松市中区</td>\n      <td>天神町４番８号</td>\n      <td>NaN</td>\n      <td>22</td>\n      <td>131</td>\n      <td>4300808</td>\n      <td>NaN</td>\n      <td>NaN</td>\n      <td>NaN</td>\n      <td>NaN</td>\n      <td>NaN</td>\n      <td>NaN</td>\n      <td>2015-10-05</td>\n      <td>1</td>\n      <td>NaN</td>\n      <td>NaN</td>\n      <td>NaN</td>\n      <td>NaN</td>\n      <td>マルシンショウテン</td>\n      <td>0</td>\n    </tr>\n    <tr>\n      <th>2161</th>\n      <td>2162</td>\n      <td>9080402021917</td>\n      <td>21</td>\n      <td>0</td>\n      <td>2021-04-01</td>\n      <td>2021-03-30</td>\n      <td>有限会社岡本商会</td>\n      <td>NaN</td>\n      <td>302</td>\n      <td>静岡県</td>\n      <td>袋井市</td>\n      <td>梅山３６１番地の１</td>\n      <td>NaN</td>\n      <td>22</td>\n      <td>216</td>\n      <td>4371105</td>\n      <td>NaN</td>\n      <td>NaN</td>\n      <td>2021-03-30</td>\n      <td>01</td>\n      <td>NaN</td>\n      <td>NaN</td>\n      <td>2015-10-05</td>\n      <td>1</td>\n      <td>NaN</td>\n      <td>NaN</td>\n      <td>NaN</td>\n      <td>NaN</td>\n      <td>オカモトショウカイ</td>\n      <td>0</td>\n    </tr>\n  </tbody>\n</table>\n</div>"
     },
     "execution_count": 27,
     "metadata": {},
     "output_type": "execute_result"
    }
   ],
   "source": [
    "# Data を結合する\n",
    "data_test = data  # Test用の変数に data を copy\n",
    "print(data_test.shape[0])  # 既存の件数を確認\n",
    "print(data_test.shape[0] == data.shape[0])  # 既存の件数が正しいことを確認\n",
    "print(diff.shape[0])  # 差分の件数を確認\n",
    "data_test = data_test.append(diff)  # Test用の変数に差分Data を追加\n",
    "print(data_test.shape[0])  # 追加後の件数を確認\n",
    "data_test.tail(3)"
   ],
   "metadata": {
    "collapsed": false,
    "pycharm": {
     "name": "#%%\n"
    }
   }
  },
  {
   "cell_type": "markdown",
   "source": [
    "結合前後の件数表示は、正しさの検証。\n",
    "件数の証明はどこにいっても求められるので、確認する癖をつける"
   ],
   "metadata": {
    "collapsed": false,
    "pycharm": {
     "name": "#%% md\n"
    }
   }
  },
  {
   "cell_type": "code",
   "execution_count": 28,
   "outputs": [
    {
     "data": {
      "text/plain": "     sequenceNumber corporateNumber process correct  updateDate  changeDate  \\\n0                 1   1000013040008      01       1  2018-04-02  2015-10-05   \n1                 2   1000013050072      01       1  2018-04-02  2015-10-05   \n2                 3   1000013050080      01       1  2018-04-02  2015-10-05   \n3                 4   1000020222119      01       1  2018-04-05  2015-10-05   \n4                 5   1000020222127      01       1  2018-04-05  2015-10-05   \n...             ...             ...     ...     ...         ...         ...   \n3194           3195   9080001021673      01       1  2021-04-09  2017-07-07   \n3195           3196   9080101022431      01       0  2021-04-09  2021-04-09   \n3196           3197   9080102008933      01       1  2021-04-09  2015-10-05   \n3197           3198   9080402002859      21       0  2021-04-09  2021-04-01   \n3198           3199   9080402015836      12       0  2021-04-09  2021-04-01   \n\n            name nameImageId kind prefectureName cityName  streetNumber  \\\n0        静岡家庭裁判所         NaN  101            静岡県    静岡市葵区       城内町１−２０   \n1        清水簡易裁判所         NaN  101            静岡県   静岡市清水区     天神１丁目６−１５   \n2        浜松簡易裁判所         NaN  101            静岡県    浜松市中区     中央１丁目１２−５   \n3            磐田市         NaN  201            静岡県      磐田市        国府台３−１   \n4            焼津市         NaN  201            静岡県      焼津市    本町２丁目１６−３２   \n...          ...         ...  ...            ...      ...           ...   \n3194     株式会社ＡＣＴ         NaN  301            静岡県    静岡市葵区     太田町１４番地の４   \n3195  株式会社ＬＥＳＱＵＡ         NaN  301            静岡県      沼津市    大岡２５５番地の１５   \n3196   有限会社サクラ急送         NaN  302            静岡県    伊豆の国市    奈古谷６６３番地の２   \n3197      有限会社弘法         NaN  302            静岡県    浜松市南区    下江町４５６番地の１   \n3198  有限会社エコワークス         NaN  302            静岡県    浜松市西区  大人見町３３７４番地の１   \n\n     addressImageId prefectureCode cityCode postCode addressOutside  \\\n0               NaN             22      101  4200854            NaN   \n1               NaN             22      103  4240809            NaN   \n2               NaN             22      131  4300929            NaN   \n3               NaN             22      211  4380077            NaN   \n4               NaN             22      212  4250022            NaN   \n...             ...            ...      ...      ...            ...   \n3194            NaN             22      101  4200845            NaN   \n3195            NaN             22      203  4100022            NaN   \n3196            NaN             22      225  4102132            NaN   \n3197            NaN             22      134  4300825            NaN   \n3198            NaN             22      133  4311112            NaN   \n\n     addressOutsideImageId   closeDate closeCause successorCorporateNumber  \\\n0                      NaN         NaN        NaN                      NaN   \n1                      NaN         NaN        NaN                      NaN   \n2                      NaN         NaN        NaN                      NaN   \n3                      NaN         NaN        NaN                      NaN   \n4                      NaN         NaN        NaN                      NaN   \n...                    ...         ...        ...                      ...   \n3194                   NaN         NaN        NaN                      NaN   \n3195                   NaN         NaN        NaN                      NaN   \n3196                   NaN         NaN        NaN                      NaN   \n3197                   NaN  2021-04-01         11            8080401016019   \n3198                   NaN         NaN        NaN                      NaN   \n\n                                            changeCause assignmentDate latest  \\\n0                                                   NaN     2015-10-05      1   \n1                                                   NaN     2015-10-05      1   \n2                                                   NaN     2015-10-05      1   \n3                                                   NaN     2015-10-05      1   \n4                                                   NaN     2015-10-05      1   \n...                                                 ...            ...    ...   \n3194                                                NaN     2017-07-07      1   \n3195                                                NaN     2021-04-09      1   \n3196                                                NaN     2015-10-05      1   \n3197  令和３年４月１日静岡県磐田市安久路二丁目２番地の２まごころ株式会社（808040101601...     2015-10-05      1   \n3198                                                NaN     2015-10-05      1   \n\n                       enName enPrefectureName  \\\n0       Shizuoka Family Court         Shizuoka   \n1       Shimizu Summary Court         Shizuoka   \n2     Hamamatsu Summary Court         Shizuoka   \n3                  Iwata City         Shizuoka   \n4                  Yaizu city         Shizuoka   \n...                       ...              ...   \n3194                      NaN              NaN   \n3195                      NaN              NaN   \n3196                      NaN              NaN   \n3197                      NaN              NaN   \n3198                      NaN              NaN   \n\n                                    enCityName enAddressOutside  \\\n0         1-20, Jonaicho, Aoi ku, Shizuoka shi              NaN   \n1     1-6-15, Tenjin, Shimizu ku, Shizuoka shi              NaN   \n2         1-12-5, Chuo, Naka ku, Hamamatsu shi              NaN   \n3                      3-1,Kounodai, Iwata shi              NaN   \n4                  2-16-32 Honmachi, Yaizu shi              NaN   \n...                                        ...              ...   \n3194                                       NaN              NaN   \n3195                                       NaN              NaN   \n3196                                       NaN              NaN   \n3197                                       NaN              NaN   \n3198                                       NaN              NaN   \n\n           furigana hihyoji  \n0     シズオカカテイサイバンショ       0  \n1      シミズカンイサイバンショ       0  \n2     ハママツカンイサイバンショ       0  \n3              イワタシ       0  \n4              ヤイヅシ       0  \n...             ...     ...  \n3194            アクト       0  \n3195            レスカ       0  \n3196       サクラキュウソウ       0  \n3197           コウボウ       0  \n3198         エコワークス       0  \n\n[115020 rows x 30 columns]",
      "text/html": "<div>\n<style scoped>\n    .dataframe tbody tr th:only-of-type {\n        vertical-align: middle;\n    }\n\n    .dataframe tbody tr th {\n        vertical-align: top;\n    }\n\n    .dataframe thead th {\n        text-align: right;\n    }\n</style>\n<table border=\"1\" class=\"dataframe\">\n  <thead>\n    <tr style=\"text-align: right;\">\n      <th></th>\n      <th>sequenceNumber</th>\n      <th>corporateNumber</th>\n      <th>process</th>\n      <th>correct</th>\n      <th>updateDate</th>\n      <th>changeDate</th>\n      <th>name</th>\n      <th>nameImageId</th>\n      <th>kind</th>\n      <th>prefectureName</th>\n      <th>cityName</th>\n      <th>streetNumber</th>\n      <th>addressImageId</th>\n      <th>prefectureCode</th>\n      <th>cityCode</th>\n      <th>postCode</th>\n      <th>addressOutside</th>\n      <th>addressOutsideImageId</th>\n      <th>closeDate</th>\n      <th>closeCause</th>\n      <th>successorCorporateNumber</th>\n      <th>changeCause</th>\n      <th>assignmentDate</th>\n      <th>latest</th>\n      <th>enName</th>\n      <th>enPrefectureName</th>\n      <th>enCityName</th>\n      <th>enAddressOutside</th>\n      <th>furigana</th>\n      <th>hihyoji</th>\n    </tr>\n  </thead>\n  <tbody>\n    <tr>\n      <th>0</th>\n      <td>1</td>\n      <td>1000013040008</td>\n      <td>01</td>\n      <td>1</td>\n      <td>2018-04-02</td>\n      <td>2015-10-05</td>\n      <td>静岡家庭裁判所</td>\n      <td>NaN</td>\n      <td>101</td>\n      <td>静岡県</td>\n      <td>静岡市葵区</td>\n      <td>城内町１−２０</td>\n      <td>NaN</td>\n      <td>22</td>\n      <td>101</td>\n      <td>4200854</td>\n      <td>NaN</td>\n      <td>NaN</td>\n      <td>NaN</td>\n      <td>NaN</td>\n      <td>NaN</td>\n      <td>NaN</td>\n      <td>2015-10-05</td>\n      <td>1</td>\n      <td>Shizuoka Family Court</td>\n      <td>Shizuoka</td>\n      <td>1-20, Jonaicho, Aoi ku, Shizuoka shi</td>\n      <td>NaN</td>\n      <td>シズオカカテイサイバンショ</td>\n      <td>0</td>\n    </tr>\n    <tr>\n      <th>1</th>\n      <td>2</td>\n      <td>1000013050072</td>\n      <td>01</td>\n      <td>1</td>\n      <td>2018-04-02</td>\n      <td>2015-10-05</td>\n      <td>清水簡易裁判所</td>\n      <td>NaN</td>\n      <td>101</td>\n      <td>静岡県</td>\n      <td>静岡市清水区</td>\n      <td>天神１丁目６−１５</td>\n      <td>NaN</td>\n      <td>22</td>\n      <td>103</td>\n      <td>4240809</td>\n      <td>NaN</td>\n      <td>NaN</td>\n      <td>NaN</td>\n      <td>NaN</td>\n      <td>NaN</td>\n      <td>NaN</td>\n      <td>2015-10-05</td>\n      <td>1</td>\n      <td>Shimizu Summary Court</td>\n      <td>Shizuoka</td>\n      <td>1-6-15, Tenjin, Shimizu ku, Shizuoka shi</td>\n      <td>NaN</td>\n      <td>シミズカンイサイバンショ</td>\n      <td>0</td>\n    </tr>\n    <tr>\n      <th>2</th>\n      <td>3</td>\n      <td>1000013050080</td>\n      <td>01</td>\n      <td>1</td>\n      <td>2018-04-02</td>\n      <td>2015-10-05</td>\n      <td>浜松簡易裁判所</td>\n      <td>NaN</td>\n      <td>101</td>\n      <td>静岡県</td>\n      <td>浜松市中区</td>\n      <td>中央１丁目１２−５</td>\n      <td>NaN</td>\n      <td>22</td>\n      <td>131</td>\n      <td>4300929</td>\n      <td>NaN</td>\n      <td>NaN</td>\n      <td>NaN</td>\n      <td>NaN</td>\n      <td>NaN</td>\n      <td>NaN</td>\n      <td>2015-10-05</td>\n      <td>1</td>\n      <td>Hamamatsu Summary Court</td>\n      <td>Shizuoka</td>\n      <td>1-12-5, Chuo, Naka ku, Hamamatsu shi</td>\n      <td>NaN</td>\n      <td>ハママツカンイサイバンショ</td>\n      <td>0</td>\n    </tr>\n    <tr>\n      <th>3</th>\n      <td>4</td>\n      <td>1000020222119</td>\n      <td>01</td>\n      <td>1</td>\n      <td>2018-04-05</td>\n      <td>2015-10-05</td>\n      <td>磐田市</td>\n      <td>NaN</td>\n      <td>201</td>\n      <td>静岡県</td>\n      <td>磐田市</td>\n      <td>国府台３−１</td>\n      <td>NaN</td>\n      <td>22</td>\n      <td>211</td>\n      <td>4380077</td>\n      <td>NaN</td>\n      <td>NaN</td>\n      <td>NaN</td>\n      <td>NaN</td>\n      <td>NaN</td>\n      <td>NaN</td>\n      <td>2015-10-05</td>\n      <td>1</td>\n      <td>Iwata City</td>\n      <td>Shizuoka</td>\n      <td>3-1,Kounodai, Iwata shi</td>\n      <td>NaN</td>\n      <td>イワタシ</td>\n      <td>0</td>\n    </tr>\n    <tr>\n      <th>4</th>\n      <td>5</td>\n      <td>1000020222127</td>\n      <td>01</td>\n      <td>1</td>\n      <td>2018-04-05</td>\n      <td>2015-10-05</td>\n      <td>焼津市</td>\n      <td>NaN</td>\n      <td>201</td>\n      <td>静岡県</td>\n      <td>焼津市</td>\n      <td>本町２丁目１６−３２</td>\n      <td>NaN</td>\n      <td>22</td>\n      <td>212</td>\n      <td>4250022</td>\n      <td>NaN</td>\n      <td>NaN</td>\n      <td>NaN</td>\n      <td>NaN</td>\n      <td>NaN</td>\n      <td>NaN</td>\n      <td>2015-10-05</td>\n      <td>1</td>\n      <td>Yaizu city</td>\n      <td>Shizuoka</td>\n      <td>2-16-32 Honmachi, Yaizu shi</td>\n      <td>NaN</td>\n      <td>ヤイヅシ</td>\n      <td>0</td>\n    </tr>\n    <tr>\n      <th>...</th>\n      <td>...</td>\n      <td>...</td>\n      <td>...</td>\n      <td>...</td>\n      <td>...</td>\n      <td>...</td>\n      <td>...</td>\n      <td>...</td>\n      <td>...</td>\n      <td>...</td>\n      <td>...</td>\n      <td>...</td>\n      <td>...</td>\n      <td>...</td>\n      <td>...</td>\n      <td>...</td>\n      <td>...</td>\n      <td>...</td>\n      <td>...</td>\n      <td>...</td>\n      <td>...</td>\n      <td>...</td>\n      <td>...</td>\n      <td>...</td>\n      <td>...</td>\n      <td>...</td>\n      <td>...</td>\n      <td>...</td>\n      <td>...</td>\n      <td>...</td>\n    </tr>\n    <tr>\n      <th>3194</th>\n      <td>3195</td>\n      <td>9080001021673</td>\n      <td>01</td>\n      <td>1</td>\n      <td>2021-04-09</td>\n      <td>2017-07-07</td>\n      <td>株式会社ＡＣＴ</td>\n      <td>NaN</td>\n      <td>301</td>\n      <td>静岡県</td>\n      <td>静岡市葵区</td>\n      <td>太田町１４番地の４</td>\n      <td>NaN</td>\n      <td>22</td>\n      <td>101</td>\n      <td>4200845</td>\n      <td>NaN</td>\n      <td>NaN</td>\n      <td>NaN</td>\n      <td>NaN</td>\n      <td>NaN</td>\n      <td>NaN</td>\n      <td>2017-07-07</td>\n      <td>1</td>\n      <td>NaN</td>\n      <td>NaN</td>\n      <td>NaN</td>\n      <td>NaN</td>\n      <td>アクト</td>\n      <td>0</td>\n    </tr>\n    <tr>\n      <th>3195</th>\n      <td>3196</td>\n      <td>9080101022431</td>\n      <td>01</td>\n      <td>0</td>\n      <td>2021-04-09</td>\n      <td>2021-04-09</td>\n      <td>株式会社ＬＥＳＱＵＡ</td>\n      <td>NaN</td>\n      <td>301</td>\n      <td>静岡県</td>\n      <td>沼津市</td>\n      <td>大岡２５５番地の１５</td>\n      <td>NaN</td>\n      <td>22</td>\n      <td>203</td>\n      <td>4100022</td>\n      <td>NaN</td>\n      <td>NaN</td>\n      <td>NaN</td>\n      <td>NaN</td>\n      <td>NaN</td>\n      <td>NaN</td>\n      <td>2021-04-09</td>\n      <td>1</td>\n      <td>NaN</td>\n      <td>NaN</td>\n      <td>NaN</td>\n      <td>NaN</td>\n      <td>レスカ</td>\n      <td>0</td>\n    </tr>\n    <tr>\n      <th>3196</th>\n      <td>3197</td>\n      <td>9080102008933</td>\n      <td>01</td>\n      <td>1</td>\n      <td>2021-04-09</td>\n      <td>2015-10-05</td>\n      <td>有限会社サクラ急送</td>\n      <td>NaN</td>\n      <td>302</td>\n      <td>静岡県</td>\n      <td>伊豆の国市</td>\n      <td>奈古谷６６３番地の２</td>\n      <td>NaN</td>\n      <td>22</td>\n      <td>225</td>\n      <td>4102132</td>\n      <td>NaN</td>\n      <td>NaN</td>\n      <td>NaN</td>\n      <td>NaN</td>\n      <td>NaN</td>\n      <td>NaN</td>\n      <td>2015-10-05</td>\n      <td>1</td>\n      <td>NaN</td>\n      <td>NaN</td>\n      <td>NaN</td>\n      <td>NaN</td>\n      <td>サクラキュウソウ</td>\n      <td>0</td>\n    </tr>\n    <tr>\n      <th>3197</th>\n      <td>3198</td>\n      <td>9080402002859</td>\n      <td>21</td>\n      <td>0</td>\n      <td>2021-04-09</td>\n      <td>2021-04-01</td>\n      <td>有限会社弘法</td>\n      <td>NaN</td>\n      <td>302</td>\n      <td>静岡県</td>\n      <td>浜松市南区</td>\n      <td>下江町４５６番地の１</td>\n      <td>NaN</td>\n      <td>22</td>\n      <td>134</td>\n      <td>4300825</td>\n      <td>NaN</td>\n      <td>NaN</td>\n      <td>2021-04-01</td>\n      <td>11</td>\n      <td>8080401016019</td>\n      <td>令和３年４月１日静岡県磐田市安久路二丁目２番地の２まごころ株式会社（808040101601...</td>\n      <td>2015-10-05</td>\n      <td>1</td>\n      <td>NaN</td>\n      <td>NaN</td>\n      <td>NaN</td>\n      <td>NaN</td>\n      <td>コウボウ</td>\n      <td>0</td>\n    </tr>\n    <tr>\n      <th>3198</th>\n      <td>3199</td>\n      <td>9080402015836</td>\n      <td>12</td>\n      <td>0</td>\n      <td>2021-04-09</td>\n      <td>2021-04-01</td>\n      <td>有限会社エコワークス</td>\n      <td>NaN</td>\n      <td>302</td>\n      <td>静岡県</td>\n      <td>浜松市西区</td>\n      <td>大人見町３３７４番地の１</td>\n      <td>NaN</td>\n      <td>22</td>\n      <td>133</td>\n      <td>4311112</td>\n      <td>NaN</td>\n      <td>NaN</td>\n      <td>NaN</td>\n      <td>NaN</td>\n      <td>NaN</td>\n      <td>NaN</td>\n      <td>2015-10-05</td>\n      <td>1</td>\n      <td>NaN</td>\n      <td>NaN</td>\n      <td>NaN</td>\n      <td>NaN</td>\n      <td>エコワークス</td>\n      <td>0</td>\n    </tr>\n  </tbody>\n</table>\n<p>115020 rows × 30 columns</p>\n</div>"
     },
     "execution_count": 28,
     "metadata": {},
     "output_type": "execute_result"
    }
   ],
   "source": [
    "# 繰り返し処理する\n",
    "for f in diff_files:\n",
    "    diff = pd.read_csv(f, encoding='shift-jis', header=None, dtype=object)\n",
    "    diff.columns = columns\n",
    "    diff = diff.loc[diff['prefectureName'] == '静岡県']\n",
    "    data = data.append(diff)\n",
    "\n",
    "data"
   ],
   "metadata": {
    "collapsed": false,
    "pycharm": {
     "name": "#%%\n"
    }
   }
  },
  {
   "cell_type": "code",
   "source": [
    "# 改めて統計量と欠損値を確認する\n",
    "data.describe()"
   ],
   "metadata": {
    "collapsed": false,
    "pycharm": {
     "name": "#%%\n"
    }
   },
   "execution_count": 29,
   "outputs": [
    {
     "data": {
      "text/plain": "       sequenceNumber corporateNumber process correct  updateDate  changeDate  \\\ncount          115020          115020  115020  115020      115020      115020   \nunique         114613          114758       6       2        1322        1351   \ntop              3032   7080402010509      01       0  2015-11-13  2015-10-05   \nfreq                4               5   94398   80949       55969       83411   \n\n          name nameImageId    kind prefectureName cityName streetNumber  \\\ncount   115020        1246  115020         115020   115020       115003   \nunique  106019        1245       9              1       46        99862   \ntop       八幡神社    00067824     301            静岡県    浜松市中区   新貝町２３９番地の１   \nfreq       171           2   51474         115020    10020           51   \n\n       addressImageId prefectureCode cityCode postCode addressOutside  \\\ncount            1198         115020   115020   114847              0   \nunique           1195              1       48     2772              0   \ntop          00080159             22      131  4100022            NaN   \nfreq                2         115020    10020      735            NaN   \n\n       addressOutsideImageId   closeDate closeCause successorCorporateNumber  \\\ncount                      0       10108      10108                      678   \nunique                     0        1334          4                      581   \ntop                      NaN  2016-02-08         01            8080001004480   \nfreq                     NaN         509       7661                       12   \n\n                                              changeCause assignmentDate  \\\ncount                                                1130         115020   \nunique                                               1067           1334   \ntop     平成２９年１２月１日静岡市駿河区富士見台一丁目２１番２２号富士見工業株式会社（8080001...     2015-10-05   \nfreq                                                   12         101546   \n\n        latest                  enName enPrefectureName  \\\ncount   115020                     233              231   \nunique       2                     232                1   \ntop          1  Kamiide financial ward         Shizuoka   \nfreq    114985                       2              231   \n\n                   enCityName enAddressOutside furigana hihyoji  \ncount                     231                0    47018  115020  \nunique                    130                0    41577       2  \ntop     2-1-1,oohara, Ito shi              NaN   ハチマングウ       0  \nfreq                       10              NaN       30  114795  ",
      "text/html": "<div>\n<style scoped>\n    .dataframe tbody tr th:only-of-type {\n        vertical-align: middle;\n    }\n\n    .dataframe tbody tr th {\n        vertical-align: top;\n    }\n\n    .dataframe thead th {\n        text-align: right;\n    }\n</style>\n<table border=\"1\" class=\"dataframe\">\n  <thead>\n    <tr style=\"text-align: right;\">\n      <th></th>\n      <th>sequenceNumber</th>\n      <th>corporateNumber</th>\n      <th>process</th>\n      <th>correct</th>\n      <th>updateDate</th>\n      <th>changeDate</th>\n      <th>name</th>\n      <th>nameImageId</th>\n      <th>kind</th>\n      <th>prefectureName</th>\n      <th>cityName</th>\n      <th>streetNumber</th>\n      <th>addressImageId</th>\n      <th>prefectureCode</th>\n      <th>cityCode</th>\n      <th>postCode</th>\n      <th>addressOutside</th>\n      <th>addressOutsideImageId</th>\n      <th>closeDate</th>\n      <th>closeCause</th>\n      <th>successorCorporateNumber</th>\n      <th>changeCause</th>\n      <th>assignmentDate</th>\n      <th>latest</th>\n      <th>enName</th>\n      <th>enPrefectureName</th>\n      <th>enCityName</th>\n      <th>enAddressOutside</th>\n      <th>furigana</th>\n      <th>hihyoji</th>\n    </tr>\n  </thead>\n  <tbody>\n    <tr>\n      <th>count</th>\n      <td>115020</td>\n      <td>115020</td>\n      <td>115020</td>\n      <td>115020</td>\n      <td>115020</td>\n      <td>115020</td>\n      <td>115020</td>\n      <td>1246</td>\n      <td>115020</td>\n      <td>115020</td>\n      <td>115020</td>\n      <td>115003</td>\n      <td>1198</td>\n      <td>115020</td>\n      <td>115020</td>\n      <td>114847</td>\n      <td>0</td>\n      <td>0</td>\n      <td>10108</td>\n      <td>10108</td>\n      <td>678</td>\n      <td>1130</td>\n      <td>115020</td>\n      <td>115020</td>\n      <td>233</td>\n      <td>231</td>\n      <td>231</td>\n      <td>0</td>\n      <td>47018</td>\n      <td>115020</td>\n    </tr>\n    <tr>\n      <th>unique</th>\n      <td>114613</td>\n      <td>114758</td>\n      <td>6</td>\n      <td>2</td>\n      <td>1322</td>\n      <td>1351</td>\n      <td>106019</td>\n      <td>1245</td>\n      <td>9</td>\n      <td>1</td>\n      <td>46</td>\n      <td>99862</td>\n      <td>1195</td>\n      <td>1</td>\n      <td>48</td>\n      <td>2772</td>\n      <td>0</td>\n      <td>0</td>\n      <td>1334</td>\n      <td>4</td>\n      <td>581</td>\n      <td>1067</td>\n      <td>1334</td>\n      <td>2</td>\n      <td>232</td>\n      <td>1</td>\n      <td>130</td>\n      <td>0</td>\n      <td>41577</td>\n      <td>2</td>\n    </tr>\n    <tr>\n      <th>top</th>\n      <td>3032</td>\n      <td>7080402010509</td>\n      <td>01</td>\n      <td>0</td>\n      <td>2015-11-13</td>\n      <td>2015-10-05</td>\n      <td>八幡神社</td>\n      <td>00067824</td>\n      <td>301</td>\n      <td>静岡県</td>\n      <td>浜松市中区</td>\n      <td>新貝町２３９番地の１</td>\n      <td>00080159</td>\n      <td>22</td>\n      <td>131</td>\n      <td>4100022</td>\n      <td>NaN</td>\n      <td>NaN</td>\n      <td>2016-02-08</td>\n      <td>01</td>\n      <td>8080001004480</td>\n      <td>平成２９年１２月１日静岡市駿河区富士見台一丁目２１番２２号富士見工業株式会社（8080001...</td>\n      <td>2015-10-05</td>\n      <td>1</td>\n      <td>Kamiide financial ward</td>\n      <td>Shizuoka</td>\n      <td>2-1-1,oohara, Ito shi</td>\n      <td>NaN</td>\n      <td>ハチマングウ</td>\n      <td>0</td>\n    </tr>\n    <tr>\n      <th>freq</th>\n      <td>4</td>\n      <td>5</td>\n      <td>94398</td>\n      <td>80949</td>\n      <td>55969</td>\n      <td>83411</td>\n      <td>171</td>\n      <td>2</td>\n      <td>51474</td>\n      <td>115020</td>\n      <td>10020</td>\n      <td>51</td>\n      <td>2</td>\n      <td>115020</td>\n      <td>10020</td>\n      <td>735</td>\n      <td>NaN</td>\n      <td>NaN</td>\n      <td>509</td>\n      <td>7661</td>\n      <td>12</td>\n      <td>12</td>\n      <td>101546</td>\n      <td>114985</td>\n      <td>2</td>\n      <td>231</td>\n      <td>10</td>\n      <td>NaN</td>\n      <td>30</td>\n      <td>114795</td>\n    </tr>\n  </tbody>\n</table>\n</div>"
     },
     "execution_count": 29,
     "metadata": {},
     "output_type": "execute_result"
    }
   ]
  },
  {
   "cell_type": "markdown",
   "source": [
    "sequenceNumber と corporateNumber の count と unique が一致しなくなった。\n",
    "corporateNumber は法人番号なので、既存の法人に何かしらの変更が加わり、差分Data として情報が追加されたと推測される。"
   ],
   "metadata": {
    "collapsed": false,
    "pycharm": {
     "name": "#%% md\n"
    }
   }
  },
  {
   "cell_type": "code",
   "execution_count": 30,
   "outputs": [
    {
     "data": {
      "text/plain": "     sequenceNumber corporateNumber process correct  updateDate  changeDate  \\\n107             108   1080001015906      01       1  2021-04-01  2015-10-05   \n108             109   1080001015906      12       1  2021-04-01  2021-03-30   \n109             110   1080002015434      01       1  2021-04-01  2015-10-05   \n110             111   1080105005588      12       0  2021-04-01  2021-03-25   \n113             114   1080403003401      21       0  2021-04-01  2021-03-02   \n...             ...             ...     ...     ...         ...         ...   \n3193           3194   9080001004208      01       1  2021-04-09  2015-10-05   \n3194           3195   9080001021673      01       1  2021-04-09  2017-07-07   \n3196           3197   9080102008933      01       1  2021-04-09  2015-10-05   \n3197           3198   9080402002859      21       0  2021-04-09  2021-04-01   \n3198           3199   9080402015836      12       0  2021-04-09  2021-04-01   \n\n                        name nameImageId kind prefectureName cityName  \\\n107              株式会社エムケイテック         NaN  301            静岡県      焼津市   \n108              株式会社エムケイテック         NaN  301            静岡県      藤枝市   \n109               有限会社ハイナンＤＣ         NaN  302            静岡県     牧之原市   \n110   認定特定非営利活動法人ＲＥＡＬＥ　ＷＯＲＬＤ         NaN  399            静岡県      伊東市   \n113          合同会社ポップスターインポート         NaN  305            静岡県    浜松市中区   \n...                      ...         ...  ...            ...      ...   \n3193                  株式会社葉桐         NaN  301            静岡県    静岡市葵区   \n3194                 株式会社ＡＣＴ         NaN  301            静岡県    静岡市葵区   \n3196               有限会社サクラ急送         NaN  302            静岡県    伊豆の国市   \n3197                  有限会社弘法         NaN  302            静岡県    浜松市南区   \n3198              有限会社エコワークス         NaN  302            静岡県    浜松市西区   \n\n       streetNumber addressImageId prefectureCode cityCode postCode  \\\n107        策牛９８番地の２            NaN             22      212  4250007   \n108     岡部桂島９８５番地の５            NaN             22      214  4260000   \n109        大沢１４４番地９            NaN             22      226  4210526   \n110    富戸１３１７番地５０３０            NaN             22      208  4130231   \n113   元浜町３２番地の１−２０２            NaN             22      131  4300942   \n...             ...            ...            ...      ...      ...   \n3193  足久保口組１７３３番地の１            NaN             22      101  4212124   \n3194      太田町１４番地の４            NaN             22      101  4200845   \n3196     奈古谷６６３番地の２            NaN             22      225  4102132   \n3197     下江町４５６番地の１            NaN             22      134  4300825   \n3198   大人見町３３７４番地の１            NaN             22      133  4311112   \n\n     addressOutside addressOutsideImageId   closeDate closeCause  \\\n107             NaN                   NaN         NaN        NaN   \n108             NaN                   NaN         NaN        NaN   \n109             NaN                   NaN         NaN        NaN   \n110             NaN                   NaN         NaN        NaN   \n113             NaN                   NaN  2021-03-02         11   \n...             ...                   ...         ...        ...   \n3193            NaN                   NaN         NaN        NaN   \n3194            NaN                   NaN         NaN        NaN   \n3196            NaN                   NaN         NaN        NaN   \n3197            NaN                   NaN  2021-04-01         11   \n3198            NaN                   NaN         NaN        NaN   \n\n     successorCorporateNumber  \\\n107                       NaN   \n108                       NaN   \n109                       NaN   \n110                       NaN   \n113             2080401020653   \n...                       ...   \n3193                      NaN   \n3194                      NaN   \n3196                      NaN   \n3197            8080401016019   \n3198                      NaN   \n\n                                            changeCause assignmentDate latest  \\\n107                                                 NaN     2015-10-05      0   \n108                                                 NaN     2015-10-05      1   \n109                                                 NaN     2015-10-05      1   \n110                                                 NaN     2015-12-11      1   \n113   令和３年３月２日浜松市中区元浜町３２番地の１株式会社ポップスタージャパン（208040102...     2017-02-17      1   \n...                                                 ...            ...    ...   \n3193                                                NaN     2015-10-05      1   \n3194                                                NaN     2017-07-07      1   \n3196                                                NaN     2015-10-05      1   \n3197  令和３年４月１日静岡県磐田市安久路二丁目２番地の２まごころ株式会社（808040101601...     2015-10-05      1   \n3198                                                NaN     2015-10-05      1   \n\n     enName enPrefectureName enCityName enAddressOutside     furigana hihyoji  \n107     NaN              NaN        NaN              NaN      エムケイテック       0  \n108     NaN              NaN        NaN              NaN      エムケイテック       0  \n109     NaN              NaN        NaN              NaN    ハイナンディーシー       0  \n110     NaN              NaN        NaN              NaN     レアーレワールド       0  \n113     NaN              NaN        NaN              NaN  ポップスターインポート       0  \n...     ...              ...        ...              ...          ...     ...  \n3193    NaN              NaN        NaN              NaN          ハギリ       0  \n3194    NaN              NaN        NaN              NaN          アクト       0  \n3196    NaN              NaN        NaN              NaN     サクラキュウソウ       0  \n3197    NaN              NaN        NaN              NaN         コウボウ       0  \n3198    NaN              NaN        NaN              NaN       エコワークス       0  \n\n[262 rows x 30 columns]",
      "text/html": "<div>\n<style scoped>\n    .dataframe tbody tr th:only-of-type {\n        vertical-align: middle;\n    }\n\n    .dataframe tbody tr th {\n        vertical-align: top;\n    }\n\n    .dataframe thead th {\n        text-align: right;\n    }\n</style>\n<table border=\"1\" class=\"dataframe\">\n  <thead>\n    <tr style=\"text-align: right;\">\n      <th></th>\n      <th>sequenceNumber</th>\n      <th>corporateNumber</th>\n      <th>process</th>\n      <th>correct</th>\n      <th>updateDate</th>\n      <th>changeDate</th>\n      <th>name</th>\n      <th>nameImageId</th>\n      <th>kind</th>\n      <th>prefectureName</th>\n      <th>cityName</th>\n      <th>streetNumber</th>\n      <th>addressImageId</th>\n      <th>prefectureCode</th>\n      <th>cityCode</th>\n      <th>postCode</th>\n      <th>addressOutside</th>\n      <th>addressOutsideImageId</th>\n      <th>closeDate</th>\n      <th>closeCause</th>\n      <th>successorCorporateNumber</th>\n      <th>changeCause</th>\n      <th>assignmentDate</th>\n      <th>latest</th>\n      <th>enName</th>\n      <th>enPrefectureName</th>\n      <th>enCityName</th>\n      <th>enAddressOutside</th>\n      <th>furigana</th>\n      <th>hihyoji</th>\n    </tr>\n  </thead>\n  <tbody>\n    <tr>\n      <th>107</th>\n      <td>108</td>\n      <td>1080001015906</td>\n      <td>01</td>\n      <td>1</td>\n      <td>2021-04-01</td>\n      <td>2015-10-05</td>\n      <td>株式会社エムケイテック</td>\n      <td>NaN</td>\n      <td>301</td>\n      <td>静岡県</td>\n      <td>焼津市</td>\n      <td>策牛９８番地の２</td>\n      <td>NaN</td>\n      <td>22</td>\n      <td>212</td>\n      <td>4250007</td>\n      <td>NaN</td>\n      <td>NaN</td>\n      <td>NaN</td>\n      <td>NaN</td>\n      <td>NaN</td>\n      <td>NaN</td>\n      <td>2015-10-05</td>\n      <td>0</td>\n      <td>NaN</td>\n      <td>NaN</td>\n      <td>NaN</td>\n      <td>NaN</td>\n      <td>エムケイテック</td>\n      <td>0</td>\n    </tr>\n    <tr>\n      <th>108</th>\n      <td>109</td>\n      <td>1080001015906</td>\n      <td>12</td>\n      <td>1</td>\n      <td>2021-04-01</td>\n      <td>2021-03-30</td>\n      <td>株式会社エムケイテック</td>\n      <td>NaN</td>\n      <td>301</td>\n      <td>静岡県</td>\n      <td>藤枝市</td>\n      <td>岡部桂島９８５番地の５</td>\n      <td>NaN</td>\n      <td>22</td>\n      <td>214</td>\n      <td>4260000</td>\n      <td>NaN</td>\n      <td>NaN</td>\n      <td>NaN</td>\n      <td>NaN</td>\n      <td>NaN</td>\n      <td>NaN</td>\n      <td>2015-10-05</td>\n      <td>1</td>\n      <td>NaN</td>\n      <td>NaN</td>\n      <td>NaN</td>\n      <td>NaN</td>\n      <td>エムケイテック</td>\n      <td>0</td>\n    </tr>\n    <tr>\n      <th>109</th>\n      <td>110</td>\n      <td>1080002015434</td>\n      <td>01</td>\n      <td>1</td>\n      <td>2021-04-01</td>\n      <td>2015-10-05</td>\n      <td>有限会社ハイナンＤＣ</td>\n      <td>NaN</td>\n      <td>302</td>\n      <td>静岡県</td>\n      <td>牧之原市</td>\n      <td>大沢１４４番地９</td>\n      <td>NaN</td>\n      <td>22</td>\n      <td>226</td>\n      <td>4210526</td>\n      <td>NaN</td>\n      <td>NaN</td>\n      <td>NaN</td>\n      <td>NaN</td>\n      <td>NaN</td>\n      <td>NaN</td>\n      <td>2015-10-05</td>\n      <td>1</td>\n      <td>NaN</td>\n      <td>NaN</td>\n      <td>NaN</td>\n      <td>NaN</td>\n      <td>ハイナンディーシー</td>\n      <td>0</td>\n    </tr>\n    <tr>\n      <th>110</th>\n      <td>111</td>\n      <td>1080105005588</td>\n      <td>12</td>\n      <td>0</td>\n      <td>2021-04-01</td>\n      <td>2021-03-25</td>\n      <td>認定特定非営利活動法人ＲＥＡＬＥ　ＷＯＲＬＤ</td>\n      <td>NaN</td>\n      <td>399</td>\n      <td>静岡県</td>\n      <td>伊東市</td>\n      <td>富戸１３１７番地５０３０</td>\n      <td>NaN</td>\n      <td>22</td>\n      <td>208</td>\n      <td>4130231</td>\n      <td>NaN</td>\n      <td>NaN</td>\n      <td>NaN</td>\n      <td>NaN</td>\n      <td>NaN</td>\n      <td>NaN</td>\n      <td>2015-12-11</td>\n      <td>1</td>\n      <td>NaN</td>\n      <td>NaN</td>\n      <td>NaN</td>\n      <td>NaN</td>\n      <td>レアーレワールド</td>\n      <td>0</td>\n    </tr>\n    <tr>\n      <th>113</th>\n      <td>114</td>\n      <td>1080403003401</td>\n      <td>21</td>\n      <td>0</td>\n      <td>2021-04-01</td>\n      <td>2021-03-02</td>\n      <td>合同会社ポップスターインポート</td>\n      <td>NaN</td>\n      <td>305</td>\n      <td>静岡県</td>\n      <td>浜松市中区</td>\n      <td>元浜町３２番地の１−２０２</td>\n      <td>NaN</td>\n      <td>22</td>\n      <td>131</td>\n      <td>4300942</td>\n      <td>NaN</td>\n      <td>NaN</td>\n      <td>2021-03-02</td>\n      <td>11</td>\n      <td>2080401020653</td>\n      <td>令和３年３月２日浜松市中区元浜町３２番地の１株式会社ポップスタージャパン（208040102...</td>\n      <td>2017-02-17</td>\n      <td>1</td>\n      <td>NaN</td>\n      <td>NaN</td>\n      <td>NaN</td>\n      <td>NaN</td>\n      <td>ポップスターインポート</td>\n      <td>0</td>\n    </tr>\n    <tr>\n      <th>...</th>\n      <td>...</td>\n      <td>...</td>\n      <td>...</td>\n      <td>...</td>\n      <td>...</td>\n      <td>...</td>\n      <td>...</td>\n      <td>...</td>\n      <td>...</td>\n      <td>...</td>\n      <td>...</td>\n      <td>...</td>\n      <td>...</td>\n      <td>...</td>\n      <td>...</td>\n      <td>...</td>\n      <td>...</td>\n      <td>...</td>\n      <td>...</td>\n      <td>...</td>\n      <td>...</td>\n      <td>...</td>\n      <td>...</td>\n      <td>...</td>\n      <td>...</td>\n      <td>...</td>\n      <td>...</td>\n      <td>...</td>\n      <td>...</td>\n      <td>...</td>\n    </tr>\n    <tr>\n      <th>3193</th>\n      <td>3194</td>\n      <td>9080001004208</td>\n      <td>01</td>\n      <td>1</td>\n      <td>2021-04-09</td>\n      <td>2015-10-05</td>\n      <td>株式会社葉桐</td>\n      <td>NaN</td>\n      <td>301</td>\n      <td>静岡県</td>\n      <td>静岡市葵区</td>\n      <td>足久保口組１７３３番地の１</td>\n      <td>NaN</td>\n      <td>22</td>\n      <td>101</td>\n      <td>4212124</td>\n      <td>NaN</td>\n      <td>NaN</td>\n      <td>NaN</td>\n      <td>NaN</td>\n      <td>NaN</td>\n      <td>NaN</td>\n      <td>2015-10-05</td>\n      <td>1</td>\n      <td>NaN</td>\n      <td>NaN</td>\n      <td>NaN</td>\n      <td>NaN</td>\n      <td>ハギリ</td>\n      <td>0</td>\n    </tr>\n    <tr>\n      <th>3194</th>\n      <td>3195</td>\n      <td>9080001021673</td>\n      <td>01</td>\n      <td>1</td>\n      <td>2021-04-09</td>\n      <td>2017-07-07</td>\n      <td>株式会社ＡＣＴ</td>\n      <td>NaN</td>\n      <td>301</td>\n      <td>静岡県</td>\n      <td>静岡市葵区</td>\n      <td>太田町１４番地の４</td>\n      <td>NaN</td>\n      <td>22</td>\n      <td>101</td>\n      <td>4200845</td>\n      <td>NaN</td>\n      <td>NaN</td>\n      <td>NaN</td>\n      <td>NaN</td>\n      <td>NaN</td>\n      <td>NaN</td>\n      <td>2017-07-07</td>\n      <td>1</td>\n      <td>NaN</td>\n      <td>NaN</td>\n      <td>NaN</td>\n      <td>NaN</td>\n      <td>アクト</td>\n      <td>0</td>\n    </tr>\n    <tr>\n      <th>3196</th>\n      <td>3197</td>\n      <td>9080102008933</td>\n      <td>01</td>\n      <td>1</td>\n      <td>2021-04-09</td>\n      <td>2015-10-05</td>\n      <td>有限会社サクラ急送</td>\n      <td>NaN</td>\n      <td>302</td>\n      <td>静岡県</td>\n      <td>伊豆の国市</td>\n      <td>奈古谷６６３番地の２</td>\n      <td>NaN</td>\n      <td>22</td>\n      <td>225</td>\n      <td>4102132</td>\n      <td>NaN</td>\n      <td>NaN</td>\n      <td>NaN</td>\n      <td>NaN</td>\n      <td>NaN</td>\n      <td>NaN</td>\n      <td>2015-10-05</td>\n      <td>1</td>\n      <td>NaN</td>\n      <td>NaN</td>\n      <td>NaN</td>\n      <td>NaN</td>\n      <td>サクラキュウソウ</td>\n      <td>0</td>\n    </tr>\n    <tr>\n      <th>3197</th>\n      <td>3198</td>\n      <td>9080402002859</td>\n      <td>21</td>\n      <td>0</td>\n      <td>2021-04-09</td>\n      <td>2021-04-01</td>\n      <td>有限会社弘法</td>\n      <td>NaN</td>\n      <td>302</td>\n      <td>静岡県</td>\n      <td>浜松市南区</td>\n      <td>下江町４５６番地の１</td>\n      <td>NaN</td>\n      <td>22</td>\n      <td>134</td>\n      <td>4300825</td>\n      <td>NaN</td>\n      <td>NaN</td>\n      <td>2021-04-01</td>\n      <td>11</td>\n      <td>8080401016019</td>\n      <td>令和３年４月１日静岡県磐田市安久路二丁目２番地の２まごころ株式会社（808040101601...</td>\n      <td>2015-10-05</td>\n      <td>1</td>\n      <td>NaN</td>\n      <td>NaN</td>\n      <td>NaN</td>\n      <td>NaN</td>\n      <td>コウボウ</td>\n      <td>0</td>\n    </tr>\n    <tr>\n      <th>3198</th>\n      <td>3199</td>\n      <td>9080402015836</td>\n      <td>12</td>\n      <td>0</td>\n      <td>2021-04-09</td>\n      <td>2021-04-01</td>\n      <td>有限会社エコワークス</td>\n      <td>NaN</td>\n      <td>302</td>\n      <td>静岡県</td>\n      <td>浜松市西区</td>\n      <td>大人見町３３７４番地の１</td>\n      <td>NaN</td>\n      <td>22</td>\n      <td>133</td>\n      <td>4311112</td>\n      <td>NaN</td>\n      <td>NaN</td>\n      <td>NaN</td>\n      <td>NaN</td>\n      <td>NaN</td>\n      <td>NaN</td>\n      <td>2015-10-05</td>\n      <td>1</td>\n      <td>NaN</td>\n      <td>NaN</td>\n      <td>NaN</td>\n      <td>NaN</td>\n      <td>エコワークス</td>\n      <td>0</td>\n    </tr>\n  </tbody>\n</table>\n<p>262 rows × 30 columns</p>\n</div>"
     },
     "metadata": {},
     "output_type": "display_data"
    }
   ],
   "source": [
    "# 重複した Data を具体的に確認する\n",
    "display(data[data['corporateNumber'].duplicated()])  # .duplicated()関数で重複Data を取得"
   ],
   "metadata": {
    "collapsed": false,
    "pycharm": {
     "name": "#%%\n"
    }
   }
  },
  {
   "cell_type": "markdown",
   "source": [
    "表示された件数を見ると count と unique の数の差と一致している。"
   ],
   "metadata": {
    "collapsed": false,
    "pycharm": {
     "name": "#%% md\n"
    }
   }
  },
  {
   "cell_type": "code",
   "execution_count": 31,
   "outputs": [],
   "source": [
    "# 重複Data を削除する。差分Data の方が新しいため、既存Data を削除して差分Data を残す。\n",
    "data.drop_duplicates(subset='corporateNumber', keep='last', inplace=True)\n",
    "# drop_duplicates()関数で重複削除できる\n",
    "# 引数 keep='last' で重複した場合に最終行を残すという指示ができる\n",
    "# 引数 inplace=True を指定することで破壊的処理を行なえる"
   ],
   "metadata": {
    "collapsed": false,
    "pycharm": {
     "name": "#%%\n"
    }
   }
  },
  {
   "cell_type": "code",
   "execution_count": 32,
   "outputs": [
    {
     "data": {
      "text/plain": "       sequenceNumber corporateNumber process correct  updateDate  changeDate  \\\ncount          114758          114758  114758  114758      114758      114758   \nunique         114388          114758       6       2        1322        1351   \ntop              3032   1000013040008      01       0  2015-11-13  2015-10-05   \nfreq                4               1   94176   80781       55849       83217   \n\n          name nameImageId    kind prefectureName cityName streetNumber  \\\ncount   114758        1245  114758         114758   114758       114741   \nunique  105992        1245       9              1       46        99823   \ntop       八幡神社    00067214     301            静岡県    浜松市中区   新貝町２３９番地の１   \nfreq       171           1   51331         114758     9994           51   \n\n       addressImageId prefectureCode cityCode postCode addressOutside  \\\ncount            1195         114758   114758   114585              0   \nunique           1195              1       48     2772              0   \ntop          00067259             22      131  4100022            NaN   \nfreq                1         114758     9994      734            NaN   \n\n       addressOutsideImageId   closeDate closeCause successorCorporateNumber  \\\ncount                      0       10108      10108                      678   \nunique                     0        1334          4                      581   \ntop                      NaN  2016-02-08         01            8080001004480   \nfreq                     NaN         509       7661                       12   \n\n                                              changeCause assignmentDate  \\\ncount                                                1129         114758   \nunique                                               1066           1334   \ntop     平成２９年１２月１日静岡市駿河区富士見台一丁目２１番２２号富士見工業株式会社（8080001...     2015-10-05   \nfreq                                                   12         101319   \n\n        latest                  enName enPrefectureName  \\\ncount   114758                     233              231   \nunique       2                     232                1   \ntop          1  Kamiide financial ward         Shizuoka   \nfreq    114757                       2              231   \n\n                   enCityName enAddressOutside furigana hihyoji  \ncount                     231                0    46900  114758  \nunique                    130                0    41559       2  \ntop     2-1-1,oohara, Ito shi              NaN   ハチマングウ       0  \nfreq                       10              NaN       30  114533  ",
      "text/html": "<div>\n<style scoped>\n    .dataframe tbody tr th:only-of-type {\n        vertical-align: middle;\n    }\n\n    .dataframe tbody tr th {\n        vertical-align: top;\n    }\n\n    .dataframe thead th {\n        text-align: right;\n    }\n</style>\n<table border=\"1\" class=\"dataframe\">\n  <thead>\n    <tr style=\"text-align: right;\">\n      <th></th>\n      <th>sequenceNumber</th>\n      <th>corporateNumber</th>\n      <th>process</th>\n      <th>correct</th>\n      <th>updateDate</th>\n      <th>changeDate</th>\n      <th>name</th>\n      <th>nameImageId</th>\n      <th>kind</th>\n      <th>prefectureName</th>\n      <th>cityName</th>\n      <th>streetNumber</th>\n      <th>addressImageId</th>\n      <th>prefectureCode</th>\n      <th>cityCode</th>\n      <th>postCode</th>\n      <th>addressOutside</th>\n      <th>addressOutsideImageId</th>\n      <th>closeDate</th>\n      <th>closeCause</th>\n      <th>successorCorporateNumber</th>\n      <th>changeCause</th>\n      <th>assignmentDate</th>\n      <th>latest</th>\n      <th>enName</th>\n      <th>enPrefectureName</th>\n      <th>enCityName</th>\n      <th>enAddressOutside</th>\n      <th>furigana</th>\n      <th>hihyoji</th>\n    </tr>\n  </thead>\n  <tbody>\n    <tr>\n      <th>count</th>\n      <td>114758</td>\n      <td>114758</td>\n      <td>114758</td>\n      <td>114758</td>\n      <td>114758</td>\n      <td>114758</td>\n      <td>114758</td>\n      <td>1245</td>\n      <td>114758</td>\n      <td>114758</td>\n      <td>114758</td>\n      <td>114741</td>\n      <td>1195</td>\n      <td>114758</td>\n      <td>114758</td>\n      <td>114585</td>\n      <td>0</td>\n      <td>0</td>\n      <td>10108</td>\n      <td>10108</td>\n      <td>678</td>\n      <td>1129</td>\n      <td>114758</td>\n      <td>114758</td>\n      <td>233</td>\n      <td>231</td>\n      <td>231</td>\n      <td>0</td>\n      <td>46900</td>\n      <td>114758</td>\n    </tr>\n    <tr>\n      <th>unique</th>\n      <td>114388</td>\n      <td>114758</td>\n      <td>6</td>\n      <td>2</td>\n      <td>1322</td>\n      <td>1351</td>\n      <td>105992</td>\n      <td>1245</td>\n      <td>9</td>\n      <td>1</td>\n      <td>46</td>\n      <td>99823</td>\n      <td>1195</td>\n      <td>1</td>\n      <td>48</td>\n      <td>2772</td>\n      <td>0</td>\n      <td>0</td>\n      <td>1334</td>\n      <td>4</td>\n      <td>581</td>\n      <td>1066</td>\n      <td>1334</td>\n      <td>2</td>\n      <td>232</td>\n      <td>1</td>\n      <td>130</td>\n      <td>0</td>\n      <td>41559</td>\n      <td>2</td>\n    </tr>\n    <tr>\n      <th>top</th>\n      <td>3032</td>\n      <td>1000013040008</td>\n      <td>01</td>\n      <td>0</td>\n      <td>2015-11-13</td>\n      <td>2015-10-05</td>\n      <td>八幡神社</td>\n      <td>00067214</td>\n      <td>301</td>\n      <td>静岡県</td>\n      <td>浜松市中区</td>\n      <td>新貝町２３９番地の１</td>\n      <td>00067259</td>\n      <td>22</td>\n      <td>131</td>\n      <td>4100022</td>\n      <td>NaN</td>\n      <td>NaN</td>\n      <td>2016-02-08</td>\n      <td>01</td>\n      <td>8080001004480</td>\n      <td>平成２９年１２月１日静岡市駿河区富士見台一丁目２１番２２号富士見工業株式会社（8080001...</td>\n      <td>2015-10-05</td>\n      <td>1</td>\n      <td>Kamiide financial ward</td>\n      <td>Shizuoka</td>\n      <td>2-1-1,oohara, Ito shi</td>\n      <td>NaN</td>\n      <td>ハチマングウ</td>\n      <td>0</td>\n    </tr>\n    <tr>\n      <th>freq</th>\n      <td>4</td>\n      <td>1</td>\n      <td>94176</td>\n      <td>80781</td>\n      <td>55849</td>\n      <td>83217</td>\n      <td>171</td>\n      <td>1</td>\n      <td>51331</td>\n      <td>114758</td>\n      <td>9994</td>\n      <td>51</td>\n      <td>1</td>\n      <td>114758</td>\n      <td>9994</td>\n      <td>734</td>\n      <td>NaN</td>\n      <td>NaN</td>\n      <td>509</td>\n      <td>7661</td>\n      <td>12</td>\n      <td>12</td>\n      <td>101319</td>\n      <td>114757</td>\n      <td>2</td>\n      <td>231</td>\n      <td>10</td>\n      <td>NaN</td>\n      <td>30</td>\n      <td>114533</td>\n    </tr>\n  </tbody>\n</table>\n</div>"
     },
     "execution_count": 32,
     "metadata": {},
     "output_type": "execute_result"
    }
   ],
   "source": [
    "# 再度統計量を確認する\n",
    "data.describe()"
   ],
   "metadata": {
    "collapsed": false,
    "pycharm": {
     "name": "#%%\n"
    }
   }
  },
  {
   "cell_type": "markdown",
   "source": [
    "corporateNumber の count と unique の数が一致し、重複がなくなったことが確認できた。"
   ],
   "metadata": {
    "collapsed": false,
    "pycharm": {
     "name": "#%% md\n"
    }
   }
  },
  {
   "cell_type": "code",
   "execution_count": 33,
   "outputs": [
    {
     "data": {
      "text/plain": "sequenceNumber                   0\ncorporateNumber                  0\nprocess                          0\ncorrect                          0\nupdateDate                       0\nchangeDate                       0\nname                             0\nnameImageId                 113513\nkind                             0\nprefectureName                   0\ncityName                         0\nstreetNumber                    17\naddressImageId              113563\nprefectureCode                   0\ncityCode                         0\npostCode                       173\naddressOutside              114758\naddressOutsideImageId       114758\ncloseDate                   104650\ncloseCause                  104650\nsuccessorCorporateNumber    114080\nchangeCause                 113629\nassignmentDate                   0\nlatest                           0\nenName                      114525\nenPrefectureName            114527\nenCityName                  114527\nenAddressOutside            114758\nfurigana                     67858\nhihyoji                          0\ndtype: int64"
     },
     "metadata": {},
     "output_type": "display_data"
    }
   ],
   "source": [
    "# 欠損値の確認\n",
    "display(data.isna().sum())"
   ],
   "metadata": {
    "collapsed": false,
    "pycharm": {
     "name": "#%%\n"
    }
   }
  },
  {
   "cell_type": "markdown",
   "source": [
    "欠損値の項目はあるものの、特に問題のないものである。"
   ],
   "metadata": {
    "collapsed": false,
    "pycharm": {
     "name": "#%% md\n"
    }
   }
  },
  {
   "cell_type": "markdown",
   "source": [
    "## Master を読み込んで項目を横に繋げよう"
   ],
   "metadata": {
    "collapsed": false,
    "pycharm": {
     "name": "#%% md\n"
    }
   }
  },
  {
   "cell_type": "code",
   "execution_count": 34,
   "outputs": [
    {
     "data": {
      "text/plain": "['mst_correct_kbn.csv',\n '22_shizuoka_all_20210331.csv',\n 'diff_20210408.csv',\n 'mst_closeCause.csv',\n 'mst_column_name.txt',\n 'diff_20210401.csv',\n 'diff_20210409.csv',\n 'diff_20210407.csv',\n 'mst_latest.csv',\n 'mst_corp_kind.csv',\n 'diff_20210406.csv',\n 'diff_20210405.csv',\n 'mst_hihyoji.csv',\n 'mst_process_kbn.csv']"
     },
     "execution_count": 34,
     "metadata": {},
     "output_type": "execute_result"
    }
   ],
   "source": [
    "os.listdir('./sample_file/100knock-process-visualization/chapter-1/data')"
   ],
   "metadata": {
    "collapsed": false,
    "pycharm": {
     "name": "#%%\n"
    }
   }
  },
  {
   "cell_type": "code",
   "execution_count": 35,
   "outputs": [
    {
     "data": {
      "text/plain": "  process process_kbn_name\n0      01               新規\n1      11        商号又は名称の変更\n2      12         国内所在地の変更\n3      13         国外所在地の変更\n4      21         登記記録の閉鎖等\n5      22         登記記録の復活等\n6      71             吸収合併\n7      72           吸収合併無効\n8      81         商号の登記の抹消\n9      99               削除",
      "text/html": "<div>\n<style scoped>\n    .dataframe tbody tr th:only-of-type {\n        vertical-align: middle;\n    }\n\n    .dataframe tbody tr th {\n        vertical-align: top;\n    }\n\n    .dataframe thead th {\n        text-align: right;\n    }\n</style>\n<table border=\"1\" class=\"dataframe\">\n  <thead>\n    <tr style=\"text-align: right;\">\n      <th></th>\n      <th>process</th>\n      <th>process_kbn_name</th>\n    </tr>\n  </thead>\n  <tbody>\n    <tr>\n      <th>0</th>\n      <td>01</td>\n      <td>新規</td>\n    </tr>\n    <tr>\n      <th>1</th>\n      <td>11</td>\n      <td>商号又は名称の変更</td>\n    </tr>\n    <tr>\n      <th>2</th>\n      <td>12</td>\n      <td>国内所在地の変更</td>\n    </tr>\n    <tr>\n      <th>3</th>\n      <td>13</td>\n      <td>国外所在地の変更</td>\n    </tr>\n    <tr>\n      <th>4</th>\n      <td>21</td>\n      <td>登記記録の閉鎖等</td>\n    </tr>\n    <tr>\n      <th>5</th>\n      <td>22</td>\n      <td>登記記録の復活等</td>\n    </tr>\n    <tr>\n      <th>6</th>\n      <td>71</td>\n      <td>吸収合併</td>\n    </tr>\n    <tr>\n      <th>7</th>\n      <td>72</td>\n      <td>吸収合併無効</td>\n    </tr>\n    <tr>\n      <th>8</th>\n      <td>81</td>\n      <td>商号の登記の抹消</td>\n    </tr>\n    <tr>\n      <th>9</th>\n      <td>99</td>\n      <td>削除</td>\n    </tr>\n  </tbody>\n</table>\n</div>"
     },
     "execution_count": 35,
     "metadata": {},
     "output_type": "execute_result"
    }
   ],
   "source": [
    "mst_process_kbn = pd.read_csv('sample_file/100knock-process-visualization/chapter-1/data/mst_process_kbn.csv', dtype=object)\n",
    "mst_process_kbn"
   ],
   "metadata": {
    "collapsed": false,
    "pycharm": {
     "name": "#%%\n"
    }
   }
  },
  {
   "cell_type": "code",
   "execution_count": 36,
   "outputs": [],
   "source": [
    "data = data.merge(mst_process_kbn, on='process', how='left')"
   ],
   "metadata": {
    "collapsed": false,
    "pycharm": {
     "name": "#%%\n"
    }
   }
  },
  {
   "cell_type": "code",
   "execution_count": 37,
   "outputs": [
    {
     "name": "stdout",
     "output_type": "stream",
     "text": [
      "31\n"
     ]
    },
    {
     "data": {
      "text/plain": "  sequenceNumber corporateNumber process correct  updateDate  changeDate  \\\n0              1   1000013040008      01       1  2018-04-02  2015-10-05   \n1              2   1000013050072      01       1  2018-04-02  2015-10-05   \n2              3   1000013050080      01       1  2018-04-02  2015-10-05   \n\n      name nameImageId kind prefectureName cityName streetNumber  \\\n0  静岡家庭裁判所         NaN  101            静岡県    静岡市葵区      城内町１−２０   \n1  清水簡易裁判所         NaN  101            静岡県   静岡市清水区    天神１丁目６−１５   \n2  浜松簡易裁判所         NaN  101            静岡県    浜松市中区    中央１丁目１２−５   \n\n  addressImageId prefectureCode cityCode postCode addressOutside  \\\n0            NaN             22      101  4200854            NaN   \n1            NaN             22      103  4240809            NaN   \n2            NaN             22      131  4300929            NaN   \n\n  addressOutsideImageId closeDate closeCause successorCorporateNumber  \\\n0                   NaN       NaN        NaN                      NaN   \n1                   NaN       NaN        NaN                      NaN   \n2                   NaN       NaN        NaN                      NaN   \n\n  changeCause assignmentDate latest                   enName enPrefectureName  \\\n0         NaN     2015-10-05      1    Shizuoka Family Court         Shizuoka   \n1         NaN     2015-10-05      1    Shimizu Summary Court         Shizuoka   \n2         NaN     2015-10-05      1  Hamamatsu Summary Court         Shizuoka   \n\n                                 enCityName enAddressOutside       furigana  \\\n0      1-20, Jonaicho, Aoi ku, Shizuoka shi              NaN  シズオカカテイサイバンショ   \n1  1-6-15, Tenjin, Shimizu ku, Shizuoka shi              NaN   シミズカンイサイバンショ   \n2      1-12-5, Chuo, Naka ku, Hamamatsu shi              NaN  ハママツカンイサイバンショ   \n\n  hihyoji process_kbn_name  \n0       0               新規  \n1       0               新規  \n2       0               新規  ",
      "text/html": "<div>\n<style scoped>\n    .dataframe tbody tr th:only-of-type {\n        vertical-align: middle;\n    }\n\n    .dataframe tbody tr th {\n        vertical-align: top;\n    }\n\n    .dataframe thead th {\n        text-align: right;\n    }\n</style>\n<table border=\"1\" class=\"dataframe\">\n  <thead>\n    <tr style=\"text-align: right;\">\n      <th></th>\n      <th>sequenceNumber</th>\n      <th>corporateNumber</th>\n      <th>process</th>\n      <th>correct</th>\n      <th>updateDate</th>\n      <th>changeDate</th>\n      <th>name</th>\n      <th>nameImageId</th>\n      <th>kind</th>\n      <th>prefectureName</th>\n      <th>cityName</th>\n      <th>streetNumber</th>\n      <th>addressImageId</th>\n      <th>prefectureCode</th>\n      <th>cityCode</th>\n      <th>postCode</th>\n      <th>addressOutside</th>\n      <th>addressOutsideImageId</th>\n      <th>closeDate</th>\n      <th>closeCause</th>\n      <th>successorCorporateNumber</th>\n      <th>changeCause</th>\n      <th>assignmentDate</th>\n      <th>latest</th>\n      <th>enName</th>\n      <th>enPrefectureName</th>\n      <th>enCityName</th>\n      <th>enAddressOutside</th>\n      <th>furigana</th>\n      <th>hihyoji</th>\n      <th>process_kbn_name</th>\n    </tr>\n  </thead>\n  <tbody>\n    <tr>\n      <th>0</th>\n      <td>1</td>\n      <td>1000013040008</td>\n      <td>01</td>\n      <td>1</td>\n      <td>2018-04-02</td>\n      <td>2015-10-05</td>\n      <td>静岡家庭裁判所</td>\n      <td>NaN</td>\n      <td>101</td>\n      <td>静岡県</td>\n      <td>静岡市葵区</td>\n      <td>城内町１−２０</td>\n      <td>NaN</td>\n      <td>22</td>\n      <td>101</td>\n      <td>4200854</td>\n      <td>NaN</td>\n      <td>NaN</td>\n      <td>NaN</td>\n      <td>NaN</td>\n      <td>NaN</td>\n      <td>NaN</td>\n      <td>2015-10-05</td>\n      <td>1</td>\n      <td>Shizuoka Family Court</td>\n      <td>Shizuoka</td>\n      <td>1-20, Jonaicho, Aoi ku, Shizuoka shi</td>\n      <td>NaN</td>\n      <td>シズオカカテイサイバンショ</td>\n      <td>0</td>\n      <td>新規</td>\n    </tr>\n    <tr>\n      <th>1</th>\n      <td>2</td>\n      <td>1000013050072</td>\n      <td>01</td>\n      <td>1</td>\n      <td>2018-04-02</td>\n      <td>2015-10-05</td>\n      <td>清水簡易裁判所</td>\n      <td>NaN</td>\n      <td>101</td>\n      <td>静岡県</td>\n      <td>静岡市清水区</td>\n      <td>天神１丁目６−１５</td>\n      <td>NaN</td>\n      <td>22</td>\n      <td>103</td>\n      <td>4240809</td>\n      <td>NaN</td>\n      <td>NaN</td>\n      <td>NaN</td>\n      <td>NaN</td>\n      <td>NaN</td>\n      <td>NaN</td>\n      <td>2015-10-05</td>\n      <td>1</td>\n      <td>Shimizu Summary Court</td>\n      <td>Shizuoka</td>\n      <td>1-6-15, Tenjin, Shimizu ku, Shizuoka shi</td>\n      <td>NaN</td>\n      <td>シミズカンイサイバンショ</td>\n      <td>0</td>\n      <td>新規</td>\n    </tr>\n    <tr>\n      <th>2</th>\n      <td>3</td>\n      <td>1000013050080</td>\n      <td>01</td>\n      <td>1</td>\n      <td>2018-04-02</td>\n      <td>2015-10-05</td>\n      <td>浜松簡易裁判所</td>\n      <td>NaN</td>\n      <td>101</td>\n      <td>静岡県</td>\n      <td>浜松市中区</td>\n      <td>中央１丁目１２−５</td>\n      <td>NaN</td>\n      <td>22</td>\n      <td>131</td>\n      <td>4300929</td>\n      <td>NaN</td>\n      <td>NaN</td>\n      <td>NaN</td>\n      <td>NaN</td>\n      <td>NaN</td>\n      <td>NaN</td>\n      <td>2015-10-05</td>\n      <td>1</td>\n      <td>Hamamatsu Summary Court</td>\n      <td>Shizuoka</td>\n      <td>1-12-5, Chuo, Naka ku, Hamamatsu shi</td>\n      <td>NaN</td>\n      <td>ハママツカンイサイバンショ</td>\n      <td>0</td>\n      <td>新規</td>\n    </tr>\n  </tbody>\n</table>\n</div>"
     },
     "execution_count": 37,
     "metadata": {},
     "output_type": "execute_result"
    }
   ],
   "source": [
    "print(len(data.columns))\n",
    "data.head(3)"
   ],
   "metadata": {
    "collapsed": false,
    "pycharm": {
     "name": "#%%\n"
    }
   }
  },
  {
   "cell_type": "code",
   "execution_count": 38,
   "outputs": [
    {
     "data": {
      "text/plain": "  correct correct_kbn_name\n0       0             訂正以外\n1       1               訂正",
      "text/html": "<div>\n<style scoped>\n    .dataframe tbody tr th:only-of-type {\n        vertical-align: middle;\n    }\n\n    .dataframe tbody tr th {\n        vertical-align: top;\n    }\n\n    .dataframe thead th {\n        text-align: right;\n    }\n</style>\n<table border=\"1\" class=\"dataframe\">\n  <thead>\n    <tr style=\"text-align: right;\">\n      <th></th>\n      <th>correct</th>\n      <th>correct_kbn_name</th>\n    </tr>\n  </thead>\n  <tbody>\n    <tr>\n      <th>0</th>\n      <td>0</td>\n      <td>訂正以外</td>\n    </tr>\n    <tr>\n      <th>1</th>\n      <td>1</td>\n      <td>訂正</td>\n    </tr>\n  </tbody>\n</table>\n</div>"
     },
     "execution_count": 38,
     "metadata": {},
     "output_type": "execute_result"
    }
   ],
   "source": [
    "mst_correct_kbn = pd.read_csv(f'sample_file/100knock-process-visualization/chapter-1/data/mst_correct_kbn.csv', encoding='shift-jis', dtype=object)\n",
    "mst_correct_kbn"
   ],
   "metadata": {
    "collapsed": false,
    "pycharm": {
     "name": "#%%\n"
    }
   }
  },
  {
   "cell_type": "code",
   "source": [
    "data = data.merge(mst_correct_kbn, on='correct', how='left')\n",
    "print(data.columns.shape[0])\n",
    "data.head(3)"
   ],
   "metadata": {
    "collapsed": false,
    "pycharm": {
     "name": "#%%\n"
    }
   },
   "execution_count": 39,
   "outputs": [
    {
     "name": "stdout",
     "output_type": "stream",
     "text": [
      "32\n"
     ]
    },
    {
     "data": {
      "text/plain": "  sequenceNumber corporateNumber process correct  updateDate  changeDate  \\\n0              1   1000013040008      01       1  2018-04-02  2015-10-05   \n1              2   1000013050072      01       1  2018-04-02  2015-10-05   \n2              3   1000013050080      01       1  2018-04-02  2015-10-05   \n\n      name nameImageId kind prefectureName cityName streetNumber  \\\n0  静岡家庭裁判所         NaN  101            静岡県    静岡市葵区      城内町１−２０   \n1  清水簡易裁判所         NaN  101            静岡県   静岡市清水区    天神１丁目６−１５   \n2  浜松簡易裁判所         NaN  101            静岡県    浜松市中区    中央１丁目１２−５   \n\n  addressImageId prefectureCode cityCode postCode addressOutside  \\\n0            NaN             22      101  4200854            NaN   \n1            NaN             22      103  4240809            NaN   \n2            NaN             22      131  4300929            NaN   \n\n  addressOutsideImageId closeDate closeCause successorCorporateNumber  \\\n0                   NaN       NaN        NaN                      NaN   \n1                   NaN       NaN        NaN                      NaN   \n2                   NaN       NaN        NaN                      NaN   \n\n  changeCause assignmentDate latest                   enName enPrefectureName  \\\n0         NaN     2015-10-05      1    Shizuoka Family Court         Shizuoka   \n1         NaN     2015-10-05      1    Shimizu Summary Court         Shizuoka   \n2         NaN     2015-10-05      1  Hamamatsu Summary Court         Shizuoka   \n\n                                 enCityName enAddressOutside       furigana  \\\n0      1-20, Jonaicho, Aoi ku, Shizuoka shi              NaN  シズオカカテイサイバンショ   \n1  1-6-15, Tenjin, Shimizu ku, Shizuoka shi              NaN   シミズカンイサイバンショ   \n2      1-12-5, Chuo, Naka ku, Hamamatsu shi              NaN  ハママツカンイサイバンショ   \n\n  hihyoji process_kbn_name correct_kbn_name  \n0       0               新規               訂正  \n1       0               新規               訂正  \n2       0               新規               訂正  ",
      "text/html": "<div>\n<style scoped>\n    .dataframe tbody tr th:only-of-type {\n        vertical-align: middle;\n    }\n\n    .dataframe tbody tr th {\n        vertical-align: top;\n    }\n\n    .dataframe thead th {\n        text-align: right;\n    }\n</style>\n<table border=\"1\" class=\"dataframe\">\n  <thead>\n    <tr style=\"text-align: right;\">\n      <th></th>\n      <th>sequenceNumber</th>\n      <th>corporateNumber</th>\n      <th>process</th>\n      <th>correct</th>\n      <th>updateDate</th>\n      <th>changeDate</th>\n      <th>name</th>\n      <th>nameImageId</th>\n      <th>kind</th>\n      <th>prefectureName</th>\n      <th>cityName</th>\n      <th>streetNumber</th>\n      <th>addressImageId</th>\n      <th>prefectureCode</th>\n      <th>cityCode</th>\n      <th>postCode</th>\n      <th>addressOutside</th>\n      <th>addressOutsideImageId</th>\n      <th>closeDate</th>\n      <th>closeCause</th>\n      <th>successorCorporateNumber</th>\n      <th>changeCause</th>\n      <th>assignmentDate</th>\n      <th>latest</th>\n      <th>enName</th>\n      <th>enPrefectureName</th>\n      <th>enCityName</th>\n      <th>enAddressOutside</th>\n      <th>furigana</th>\n      <th>hihyoji</th>\n      <th>process_kbn_name</th>\n      <th>correct_kbn_name</th>\n    </tr>\n  </thead>\n  <tbody>\n    <tr>\n      <th>0</th>\n      <td>1</td>\n      <td>1000013040008</td>\n      <td>01</td>\n      <td>1</td>\n      <td>2018-04-02</td>\n      <td>2015-10-05</td>\n      <td>静岡家庭裁判所</td>\n      <td>NaN</td>\n      <td>101</td>\n      <td>静岡県</td>\n      <td>静岡市葵区</td>\n      <td>城内町１−２０</td>\n      <td>NaN</td>\n      <td>22</td>\n      <td>101</td>\n      <td>4200854</td>\n      <td>NaN</td>\n      <td>NaN</td>\n      <td>NaN</td>\n      <td>NaN</td>\n      <td>NaN</td>\n      <td>NaN</td>\n      <td>2015-10-05</td>\n      <td>1</td>\n      <td>Shizuoka Family Court</td>\n      <td>Shizuoka</td>\n      <td>1-20, Jonaicho, Aoi ku, Shizuoka shi</td>\n      <td>NaN</td>\n      <td>シズオカカテイサイバンショ</td>\n      <td>0</td>\n      <td>新規</td>\n      <td>訂正</td>\n    </tr>\n    <tr>\n      <th>1</th>\n      <td>2</td>\n      <td>1000013050072</td>\n      <td>01</td>\n      <td>1</td>\n      <td>2018-04-02</td>\n      <td>2015-10-05</td>\n      <td>清水簡易裁判所</td>\n      <td>NaN</td>\n      <td>101</td>\n      <td>静岡県</td>\n      <td>静岡市清水区</td>\n      <td>天神１丁目６−１５</td>\n      <td>NaN</td>\n      <td>22</td>\n      <td>103</td>\n      <td>4240809</td>\n      <td>NaN</td>\n      <td>NaN</td>\n      <td>NaN</td>\n      <td>NaN</td>\n      <td>NaN</td>\n      <td>NaN</td>\n      <td>2015-10-05</td>\n      <td>1</td>\n      <td>Shimizu Summary Court</td>\n      <td>Shizuoka</td>\n      <td>1-6-15, Tenjin, Shimizu ku, Shizuoka shi</td>\n      <td>NaN</td>\n      <td>シミズカンイサイバンショ</td>\n      <td>0</td>\n      <td>新規</td>\n      <td>訂正</td>\n    </tr>\n    <tr>\n      <th>2</th>\n      <td>3</td>\n      <td>1000013050080</td>\n      <td>01</td>\n      <td>1</td>\n      <td>2018-04-02</td>\n      <td>2015-10-05</td>\n      <td>浜松簡易裁判所</td>\n      <td>NaN</td>\n      <td>101</td>\n      <td>静岡県</td>\n      <td>浜松市中区</td>\n      <td>中央１丁目１２−５</td>\n      <td>NaN</td>\n      <td>22</td>\n      <td>131</td>\n      <td>4300929</td>\n      <td>NaN</td>\n      <td>NaN</td>\n      <td>NaN</td>\n      <td>NaN</td>\n      <td>NaN</td>\n      <td>NaN</td>\n      <td>2015-10-05</td>\n      <td>1</td>\n      <td>Hamamatsu Summary Court</td>\n      <td>Shizuoka</td>\n      <td>1-12-5, Chuo, Naka ku, Hamamatsu shi</td>\n      <td>NaN</td>\n      <td>ハママツカンイサイバンショ</td>\n      <td>0</td>\n      <td>新規</td>\n      <td>訂正</td>\n    </tr>\n  </tbody>\n</table>\n</div>"
     },
     "execution_count": 39,
     "metadata": {},
     "output_type": "execute_result"
    }
   ]
  },
  {
   "cell_type": "code",
   "execution_count": 40,
   "outputs": [
    {
     "data": {
      "text/plain": "  kind corp_kind_name\n0  101           国の機関\n1  201         地方公共団体\n2  301           株式会社\n3  302           有限会社\n4  303           合名会社\n5  304           合資会社\n6  305           合同会社\n7  399     その他の設立登記法人\n8  401          外国会社等\n9  499            その他",
      "text/html": "<div>\n<style scoped>\n    .dataframe tbody tr th:only-of-type {\n        vertical-align: middle;\n    }\n\n    .dataframe tbody tr th {\n        vertical-align: top;\n    }\n\n    .dataframe thead th {\n        text-align: right;\n    }\n</style>\n<table border=\"1\" class=\"dataframe\">\n  <thead>\n    <tr style=\"text-align: right;\">\n      <th></th>\n      <th>kind</th>\n      <th>corp_kind_name</th>\n    </tr>\n  </thead>\n  <tbody>\n    <tr>\n      <th>0</th>\n      <td>101</td>\n      <td>国の機関</td>\n    </tr>\n    <tr>\n      <th>1</th>\n      <td>201</td>\n      <td>地方公共団体</td>\n    </tr>\n    <tr>\n      <th>2</th>\n      <td>301</td>\n      <td>株式会社</td>\n    </tr>\n    <tr>\n      <th>3</th>\n      <td>302</td>\n      <td>有限会社</td>\n    </tr>\n    <tr>\n      <th>4</th>\n      <td>303</td>\n      <td>合名会社</td>\n    </tr>\n    <tr>\n      <th>5</th>\n      <td>304</td>\n      <td>合資会社</td>\n    </tr>\n    <tr>\n      <th>6</th>\n      <td>305</td>\n      <td>合同会社</td>\n    </tr>\n    <tr>\n      <th>7</th>\n      <td>399</td>\n      <td>その他の設立登記法人</td>\n    </tr>\n    <tr>\n      <th>8</th>\n      <td>401</td>\n      <td>外国会社等</td>\n    </tr>\n    <tr>\n      <th>9</th>\n      <td>499</td>\n      <td>その他</td>\n    </tr>\n  </tbody>\n</table>\n</div>"
     },
     "execution_count": 40,
     "metadata": {},
     "output_type": "execute_result"
    }
   ],
   "source": [
    "mst_corp_kind = pd.read_csv('sample_file/100knock-process-visualization/chapter-1/data/mst_corp_kind.csv', dtype=object)\n",
    "mst_corp_kind"
   ],
   "metadata": {
    "collapsed": false,
    "pycharm": {
     "name": "#%%\n"
    }
   }
  },
  {
   "cell_type": "code",
   "execution_count": 41,
   "outputs": [
    {
     "name": "stdout",
     "output_type": "stream",
     "text": [
      "33\n"
     ]
    },
    {
     "data": {
      "text/plain": "  sequenceNumber corporateNumber process correct  updateDate  changeDate  \\\n0              1   1000013040008      01       1  2018-04-02  2015-10-05   \n1              2   1000013050072      01       1  2018-04-02  2015-10-05   \n2              3   1000013050080      01       1  2018-04-02  2015-10-05   \n\n      name nameImageId kind prefectureName cityName streetNumber  \\\n0  静岡家庭裁判所         NaN  101            静岡県    静岡市葵区      城内町１−２０   \n1  清水簡易裁判所         NaN  101            静岡県   静岡市清水区    天神１丁目６−１５   \n2  浜松簡易裁判所         NaN  101            静岡県    浜松市中区    中央１丁目１２−５   \n\n  addressImageId prefectureCode cityCode postCode addressOutside  \\\n0            NaN             22      101  4200854            NaN   \n1            NaN             22      103  4240809            NaN   \n2            NaN             22      131  4300929            NaN   \n\n  addressOutsideImageId closeDate closeCause successorCorporateNumber  \\\n0                   NaN       NaN        NaN                      NaN   \n1                   NaN       NaN        NaN                      NaN   \n2                   NaN       NaN        NaN                      NaN   \n\n  changeCause assignmentDate latest                   enName enPrefectureName  \\\n0         NaN     2015-10-05      1    Shizuoka Family Court         Shizuoka   \n1         NaN     2015-10-05      1    Shimizu Summary Court         Shizuoka   \n2         NaN     2015-10-05      1  Hamamatsu Summary Court         Shizuoka   \n\n                                 enCityName enAddressOutside       furigana  \\\n0      1-20, Jonaicho, Aoi ku, Shizuoka shi              NaN  シズオカカテイサイバンショ   \n1  1-6-15, Tenjin, Shimizu ku, Shizuoka shi              NaN   シミズカンイサイバンショ   \n2      1-12-5, Chuo, Naka ku, Hamamatsu shi              NaN  ハママツカンイサイバンショ   \n\n  hihyoji process_kbn_name correct_kbn_name corp_kind_name  \n0       0               新規               訂正           国の機関  \n1       0               新規               訂正           国の機関  \n2       0               新規               訂正           国の機関  ",
      "text/html": "<div>\n<style scoped>\n    .dataframe tbody tr th:only-of-type {\n        vertical-align: middle;\n    }\n\n    .dataframe tbody tr th {\n        vertical-align: top;\n    }\n\n    .dataframe thead th {\n        text-align: right;\n    }\n</style>\n<table border=\"1\" class=\"dataframe\">\n  <thead>\n    <tr style=\"text-align: right;\">\n      <th></th>\n      <th>sequenceNumber</th>\n      <th>corporateNumber</th>\n      <th>process</th>\n      <th>correct</th>\n      <th>updateDate</th>\n      <th>changeDate</th>\n      <th>name</th>\n      <th>nameImageId</th>\n      <th>kind</th>\n      <th>prefectureName</th>\n      <th>cityName</th>\n      <th>streetNumber</th>\n      <th>addressImageId</th>\n      <th>prefectureCode</th>\n      <th>cityCode</th>\n      <th>postCode</th>\n      <th>addressOutside</th>\n      <th>addressOutsideImageId</th>\n      <th>closeDate</th>\n      <th>closeCause</th>\n      <th>successorCorporateNumber</th>\n      <th>changeCause</th>\n      <th>assignmentDate</th>\n      <th>latest</th>\n      <th>enName</th>\n      <th>enPrefectureName</th>\n      <th>enCityName</th>\n      <th>enAddressOutside</th>\n      <th>furigana</th>\n      <th>hihyoji</th>\n      <th>process_kbn_name</th>\n      <th>correct_kbn_name</th>\n      <th>corp_kind_name</th>\n    </tr>\n  </thead>\n  <tbody>\n    <tr>\n      <th>0</th>\n      <td>1</td>\n      <td>1000013040008</td>\n      <td>01</td>\n      <td>1</td>\n      <td>2018-04-02</td>\n      <td>2015-10-05</td>\n      <td>静岡家庭裁判所</td>\n      <td>NaN</td>\n      <td>101</td>\n      <td>静岡県</td>\n      <td>静岡市葵区</td>\n      <td>城内町１−２０</td>\n      <td>NaN</td>\n      <td>22</td>\n      <td>101</td>\n      <td>4200854</td>\n      <td>NaN</td>\n      <td>NaN</td>\n      <td>NaN</td>\n      <td>NaN</td>\n      <td>NaN</td>\n      <td>NaN</td>\n      <td>2015-10-05</td>\n      <td>1</td>\n      <td>Shizuoka Family Court</td>\n      <td>Shizuoka</td>\n      <td>1-20, Jonaicho, Aoi ku, Shizuoka shi</td>\n      <td>NaN</td>\n      <td>シズオカカテイサイバンショ</td>\n      <td>0</td>\n      <td>新規</td>\n      <td>訂正</td>\n      <td>国の機関</td>\n    </tr>\n    <tr>\n      <th>1</th>\n      <td>2</td>\n      <td>1000013050072</td>\n      <td>01</td>\n      <td>1</td>\n      <td>2018-04-02</td>\n      <td>2015-10-05</td>\n      <td>清水簡易裁判所</td>\n      <td>NaN</td>\n      <td>101</td>\n      <td>静岡県</td>\n      <td>静岡市清水区</td>\n      <td>天神１丁目６−１５</td>\n      <td>NaN</td>\n      <td>22</td>\n      <td>103</td>\n      <td>4240809</td>\n      <td>NaN</td>\n      <td>NaN</td>\n      <td>NaN</td>\n      <td>NaN</td>\n      <td>NaN</td>\n      <td>NaN</td>\n      <td>2015-10-05</td>\n      <td>1</td>\n      <td>Shimizu Summary Court</td>\n      <td>Shizuoka</td>\n      <td>1-6-15, Tenjin, Shimizu ku, Shizuoka shi</td>\n      <td>NaN</td>\n      <td>シミズカンイサイバンショ</td>\n      <td>0</td>\n      <td>新規</td>\n      <td>訂正</td>\n      <td>国の機関</td>\n    </tr>\n    <tr>\n      <th>2</th>\n      <td>3</td>\n      <td>1000013050080</td>\n      <td>01</td>\n      <td>1</td>\n      <td>2018-04-02</td>\n      <td>2015-10-05</td>\n      <td>浜松簡易裁判所</td>\n      <td>NaN</td>\n      <td>101</td>\n      <td>静岡県</td>\n      <td>浜松市中区</td>\n      <td>中央１丁目１２−５</td>\n      <td>NaN</td>\n      <td>22</td>\n      <td>131</td>\n      <td>4300929</td>\n      <td>NaN</td>\n      <td>NaN</td>\n      <td>NaN</td>\n      <td>NaN</td>\n      <td>NaN</td>\n      <td>NaN</td>\n      <td>2015-10-05</td>\n      <td>1</td>\n      <td>Hamamatsu Summary Court</td>\n      <td>Shizuoka</td>\n      <td>1-12-5, Chuo, Naka ku, Hamamatsu shi</td>\n      <td>NaN</td>\n      <td>ハママツカンイサイバンショ</td>\n      <td>0</td>\n      <td>新規</td>\n      <td>訂正</td>\n      <td>国の機関</td>\n    </tr>\n  </tbody>\n</table>\n</div>"
     },
     "execution_count": 41,
     "metadata": {},
     "output_type": "execute_result"
    }
   ],
   "source": [
    "data = data.merge(mst_corp_kind, on='kind', how='left')\n",
    "print(data.columns.shape[0])\n",
    "data.head(3)"
   ],
   "metadata": {
    "collapsed": false,
    "pycharm": {
     "name": "#%%\n"
    }
   }
  },
  {
   "cell_type": "code",
   "execution_count": 42,
   "outputs": [
    {
     "data": {
      "text/plain": "  closeCause closeCause_name\n0         01          清算の結了等\n1         11        合併による解散等\n2         21        登記官による閉鎖\n3         31      その他の清算の結了等",
      "text/html": "<div>\n<style scoped>\n    .dataframe tbody tr th:only-of-type {\n        vertical-align: middle;\n    }\n\n    .dataframe tbody tr th {\n        vertical-align: top;\n    }\n\n    .dataframe thead th {\n        text-align: right;\n    }\n</style>\n<table border=\"1\" class=\"dataframe\">\n  <thead>\n    <tr style=\"text-align: right;\">\n      <th></th>\n      <th>closeCause</th>\n      <th>closeCause_name</th>\n    </tr>\n  </thead>\n  <tbody>\n    <tr>\n      <th>0</th>\n      <td>01</td>\n      <td>清算の結了等</td>\n    </tr>\n    <tr>\n      <th>1</th>\n      <td>11</td>\n      <td>合併による解散等</td>\n    </tr>\n    <tr>\n      <th>2</th>\n      <td>21</td>\n      <td>登記官による閉鎖</td>\n    </tr>\n    <tr>\n      <th>3</th>\n      <td>31</td>\n      <td>その他の清算の結了等</td>\n    </tr>\n  </tbody>\n</table>\n</div>"
     },
     "execution_count": 42,
     "metadata": {},
     "output_type": "execute_result"
    }
   ],
   "source": [
    "mst_close_cause = pd.read_csv('sample_file/100knock-process-visualization/chapter-1/data/mst_closeCause.csv', dtype=object)\n",
    "mst_close_cause"
   ],
   "metadata": {
    "collapsed": false,
    "pycharm": {
     "name": "#%%\n"
    }
   }
  },
  {
   "cell_type": "code",
   "execution_count": 43,
   "outputs": [
    {
     "name": "stdout",
     "output_type": "stream",
     "text": [
      "114758\n"
     ]
    },
    {
     "data": {
      "text/plain": "  sequenceNumber corporateNumber process correct  updateDate  changeDate  \\\n0              1   1000013040008      01       1  2018-04-02  2015-10-05   \n1              2   1000013050072      01       1  2018-04-02  2015-10-05   \n2              3   1000013050080      01       1  2018-04-02  2015-10-05   \n\n      name nameImageId kind prefectureName cityName streetNumber  \\\n0  静岡家庭裁判所         NaN  101            静岡県    静岡市葵区      城内町１−２０   \n1  清水簡易裁判所         NaN  101            静岡県   静岡市清水区    天神１丁目６−１５   \n2  浜松簡易裁判所         NaN  101            静岡県    浜松市中区    中央１丁目１２−５   \n\n  addressImageId prefectureCode cityCode postCode addressOutside  \\\n0            NaN             22      101  4200854            NaN   \n1            NaN             22      103  4240809            NaN   \n2            NaN             22      131  4300929            NaN   \n\n  addressOutsideImageId closeDate closeCause successorCorporateNumber  \\\n0                   NaN       NaN        NaN                      NaN   \n1                   NaN       NaN        NaN                      NaN   \n2                   NaN       NaN        NaN                      NaN   \n\n  changeCause assignmentDate latest                   enName enPrefectureName  \\\n0         NaN     2015-10-05      1    Shizuoka Family Court         Shizuoka   \n1         NaN     2015-10-05      1    Shimizu Summary Court         Shizuoka   \n2         NaN     2015-10-05      1  Hamamatsu Summary Court         Shizuoka   \n\n                                 enCityName enAddressOutside       furigana  \\\n0      1-20, Jonaicho, Aoi ku, Shizuoka shi              NaN  シズオカカテイサイバンショ   \n1  1-6-15, Tenjin, Shimizu ku, Shizuoka shi              NaN   シミズカンイサイバンショ   \n2      1-12-5, Chuo, Naka ku, Hamamatsu shi              NaN  ハママツカンイサイバンショ   \n\n  hihyoji process_kbn_name correct_kbn_name corp_kind_name closeCause_name  \n0       0               新規               訂正           国の機関             NaN  \n1       0               新規               訂正           国の機関             NaN  \n2       0               新規               訂正           国の機関             NaN  ",
      "text/html": "<div>\n<style scoped>\n    .dataframe tbody tr th:only-of-type {\n        vertical-align: middle;\n    }\n\n    .dataframe tbody tr th {\n        vertical-align: top;\n    }\n\n    .dataframe thead th {\n        text-align: right;\n    }\n</style>\n<table border=\"1\" class=\"dataframe\">\n  <thead>\n    <tr style=\"text-align: right;\">\n      <th></th>\n      <th>sequenceNumber</th>\n      <th>corporateNumber</th>\n      <th>process</th>\n      <th>correct</th>\n      <th>updateDate</th>\n      <th>changeDate</th>\n      <th>name</th>\n      <th>nameImageId</th>\n      <th>kind</th>\n      <th>prefectureName</th>\n      <th>cityName</th>\n      <th>streetNumber</th>\n      <th>addressImageId</th>\n      <th>prefectureCode</th>\n      <th>cityCode</th>\n      <th>postCode</th>\n      <th>addressOutside</th>\n      <th>addressOutsideImageId</th>\n      <th>closeDate</th>\n      <th>closeCause</th>\n      <th>successorCorporateNumber</th>\n      <th>changeCause</th>\n      <th>assignmentDate</th>\n      <th>latest</th>\n      <th>enName</th>\n      <th>enPrefectureName</th>\n      <th>enCityName</th>\n      <th>enAddressOutside</th>\n      <th>furigana</th>\n      <th>hihyoji</th>\n      <th>process_kbn_name</th>\n      <th>correct_kbn_name</th>\n      <th>corp_kind_name</th>\n      <th>closeCause_name</th>\n    </tr>\n  </thead>\n  <tbody>\n    <tr>\n      <th>0</th>\n      <td>1</td>\n      <td>1000013040008</td>\n      <td>01</td>\n      <td>1</td>\n      <td>2018-04-02</td>\n      <td>2015-10-05</td>\n      <td>静岡家庭裁判所</td>\n      <td>NaN</td>\n      <td>101</td>\n      <td>静岡県</td>\n      <td>静岡市葵区</td>\n      <td>城内町１−２０</td>\n      <td>NaN</td>\n      <td>22</td>\n      <td>101</td>\n      <td>4200854</td>\n      <td>NaN</td>\n      <td>NaN</td>\n      <td>NaN</td>\n      <td>NaN</td>\n      <td>NaN</td>\n      <td>NaN</td>\n      <td>2015-10-05</td>\n      <td>1</td>\n      <td>Shizuoka Family Court</td>\n      <td>Shizuoka</td>\n      <td>1-20, Jonaicho, Aoi ku, Shizuoka shi</td>\n      <td>NaN</td>\n      <td>シズオカカテイサイバンショ</td>\n      <td>0</td>\n      <td>新規</td>\n      <td>訂正</td>\n      <td>国の機関</td>\n      <td>NaN</td>\n    </tr>\n    <tr>\n      <th>1</th>\n      <td>2</td>\n      <td>1000013050072</td>\n      <td>01</td>\n      <td>1</td>\n      <td>2018-04-02</td>\n      <td>2015-10-05</td>\n      <td>清水簡易裁判所</td>\n      <td>NaN</td>\n      <td>101</td>\n      <td>静岡県</td>\n      <td>静岡市清水区</td>\n      <td>天神１丁目６−１５</td>\n      <td>NaN</td>\n      <td>22</td>\n      <td>103</td>\n      <td>4240809</td>\n      <td>NaN</td>\n      <td>NaN</td>\n      <td>NaN</td>\n      <td>NaN</td>\n      <td>NaN</td>\n      <td>NaN</td>\n      <td>2015-10-05</td>\n      <td>1</td>\n      <td>Shimizu Summary Court</td>\n      <td>Shizuoka</td>\n      <td>1-6-15, Tenjin, Shimizu ku, Shizuoka shi</td>\n      <td>NaN</td>\n      <td>シミズカンイサイバンショ</td>\n      <td>0</td>\n      <td>新規</td>\n      <td>訂正</td>\n      <td>国の機関</td>\n      <td>NaN</td>\n    </tr>\n    <tr>\n      <th>2</th>\n      <td>3</td>\n      <td>1000013050080</td>\n      <td>01</td>\n      <td>1</td>\n      <td>2018-04-02</td>\n      <td>2015-10-05</td>\n      <td>浜松簡易裁判所</td>\n      <td>NaN</td>\n      <td>101</td>\n      <td>静岡県</td>\n      <td>浜松市中区</td>\n      <td>中央１丁目１２−５</td>\n      <td>NaN</td>\n      <td>22</td>\n      <td>131</td>\n      <td>4300929</td>\n      <td>NaN</td>\n      <td>NaN</td>\n      <td>NaN</td>\n      <td>NaN</td>\n      <td>NaN</td>\n      <td>NaN</td>\n      <td>2015-10-05</td>\n      <td>1</td>\n      <td>Hamamatsu Summary Court</td>\n      <td>Shizuoka</td>\n      <td>1-12-5, Chuo, Naka ku, Hamamatsu shi</td>\n      <td>NaN</td>\n      <td>ハママツカンイサイバンショ</td>\n      <td>0</td>\n      <td>新規</td>\n      <td>訂正</td>\n      <td>国の機関</td>\n      <td>NaN</td>\n    </tr>\n  </tbody>\n</table>\n</div>"
     },
     "execution_count": 43,
     "metadata": {},
     "output_type": "execute_result"
    }
   ],
   "source": [
    "data = data.merge(mst_close_cause, on='closeCause', how='left')\n",
    "print(data.shape[0])\n",
    "data.head(3)"
   ],
   "metadata": {
    "collapsed": false,
    "pycharm": {
     "name": "#%%\n"
    }
   }
  },
  {
   "cell_type": "code",
   "execution_count": 44,
   "outputs": [
    {
     "data": {
      "text/plain": "  latest latest_name\n0      0        過去情報\n1      1        最新情報",
      "text/html": "<div>\n<style scoped>\n    .dataframe tbody tr th:only-of-type {\n        vertical-align: middle;\n    }\n\n    .dataframe tbody tr th {\n        vertical-align: top;\n    }\n\n    .dataframe thead th {\n        text-align: right;\n    }\n</style>\n<table border=\"1\" class=\"dataframe\">\n  <thead>\n    <tr style=\"text-align: right;\">\n      <th></th>\n      <th>latest</th>\n      <th>latest_name</th>\n    </tr>\n  </thead>\n  <tbody>\n    <tr>\n      <th>0</th>\n      <td>0</td>\n      <td>過去情報</td>\n    </tr>\n    <tr>\n      <th>1</th>\n      <td>1</td>\n      <td>最新情報</td>\n    </tr>\n  </tbody>\n</table>\n</div>"
     },
     "execution_count": 44,
     "metadata": {},
     "output_type": "execute_result"
    }
   ],
   "source": [
    "mst_latest = pd.read_csv('sample_file/100knock-process-visualization/chapter-1/data/mst_latest.csv', dtype=object)\n",
    "mst_latest"
   ],
   "metadata": {
    "collapsed": false,
    "pycharm": {
     "name": "#%%\n"
    }
   }
  },
  {
   "cell_type": "code",
   "execution_count": 45,
   "outputs": [
    {
     "name": "stdout",
     "output_type": "stream",
     "text": [
      "114758\n"
     ]
    },
    {
     "data": {
      "text/plain": "  sequenceNumber corporateNumber process correct  updateDate  changeDate  \\\n0              1   1000013040008      01       1  2018-04-02  2015-10-05   \n1              2   1000013050072      01       1  2018-04-02  2015-10-05   \n2              3   1000013050080      01       1  2018-04-02  2015-10-05   \n\n      name nameImageId kind prefectureName cityName streetNumber  \\\n0  静岡家庭裁判所         NaN  101            静岡県    静岡市葵区      城内町１−２０   \n1  清水簡易裁判所         NaN  101            静岡県   静岡市清水区    天神１丁目６−１５   \n2  浜松簡易裁判所         NaN  101            静岡県    浜松市中区    中央１丁目１２−５   \n\n  addressImageId prefectureCode cityCode postCode addressOutside  \\\n0            NaN             22      101  4200854            NaN   \n1            NaN             22      103  4240809            NaN   \n2            NaN             22      131  4300929            NaN   \n\n  addressOutsideImageId closeDate closeCause successorCorporateNumber  \\\n0                   NaN       NaN        NaN                      NaN   \n1                   NaN       NaN        NaN                      NaN   \n2                   NaN       NaN        NaN                      NaN   \n\n  changeCause assignmentDate latest                   enName enPrefectureName  \\\n0         NaN     2015-10-05      1    Shizuoka Family Court         Shizuoka   \n1         NaN     2015-10-05      1    Shimizu Summary Court         Shizuoka   \n2         NaN     2015-10-05      1  Hamamatsu Summary Court         Shizuoka   \n\n                                 enCityName enAddressOutside       furigana  \\\n0      1-20, Jonaicho, Aoi ku, Shizuoka shi              NaN  シズオカカテイサイバンショ   \n1  1-6-15, Tenjin, Shimizu ku, Shizuoka shi              NaN   シミズカンイサイバンショ   \n2      1-12-5, Chuo, Naka ku, Hamamatsu shi              NaN  ハママツカンイサイバンショ   \n\n  hihyoji process_kbn_name correct_kbn_name corp_kind_name closeCause_name  \\\n0       0               新規               訂正           国の機関             NaN   \n1       0               新規               訂正           国の機関             NaN   \n2       0               新規               訂正           国の機関             NaN   \n\n  latest_name  \n0        最新情報  \n1        最新情報  \n2        最新情報  ",
      "text/html": "<div>\n<style scoped>\n    .dataframe tbody tr th:only-of-type {\n        vertical-align: middle;\n    }\n\n    .dataframe tbody tr th {\n        vertical-align: top;\n    }\n\n    .dataframe thead th {\n        text-align: right;\n    }\n</style>\n<table border=\"1\" class=\"dataframe\">\n  <thead>\n    <tr style=\"text-align: right;\">\n      <th></th>\n      <th>sequenceNumber</th>\n      <th>corporateNumber</th>\n      <th>process</th>\n      <th>correct</th>\n      <th>updateDate</th>\n      <th>changeDate</th>\n      <th>name</th>\n      <th>nameImageId</th>\n      <th>kind</th>\n      <th>prefectureName</th>\n      <th>cityName</th>\n      <th>streetNumber</th>\n      <th>addressImageId</th>\n      <th>prefectureCode</th>\n      <th>cityCode</th>\n      <th>postCode</th>\n      <th>addressOutside</th>\n      <th>addressOutsideImageId</th>\n      <th>closeDate</th>\n      <th>closeCause</th>\n      <th>successorCorporateNumber</th>\n      <th>changeCause</th>\n      <th>assignmentDate</th>\n      <th>latest</th>\n      <th>enName</th>\n      <th>enPrefectureName</th>\n      <th>enCityName</th>\n      <th>enAddressOutside</th>\n      <th>furigana</th>\n      <th>hihyoji</th>\n      <th>process_kbn_name</th>\n      <th>correct_kbn_name</th>\n      <th>corp_kind_name</th>\n      <th>closeCause_name</th>\n      <th>latest_name</th>\n    </tr>\n  </thead>\n  <tbody>\n    <tr>\n      <th>0</th>\n      <td>1</td>\n      <td>1000013040008</td>\n      <td>01</td>\n      <td>1</td>\n      <td>2018-04-02</td>\n      <td>2015-10-05</td>\n      <td>静岡家庭裁判所</td>\n      <td>NaN</td>\n      <td>101</td>\n      <td>静岡県</td>\n      <td>静岡市葵区</td>\n      <td>城内町１−２０</td>\n      <td>NaN</td>\n      <td>22</td>\n      <td>101</td>\n      <td>4200854</td>\n      <td>NaN</td>\n      <td>NaN</td>\n      <td>NaN</td>\n      <td>NaN</td>\n      <td>NaN</td>\n      <td>NaN</td>\n      <td>2015-10-05</td>\n      <td>1</td>\n      <td>Shizuoka Family Court</td>\n      <td>Shizuoka</td>\n      <td>1-20, Jonaicho, Aoi ku, Shizuoka shi</td>\n      <td>NaN</td>\n      <td>シズオカカテイサイバンショ</td>\n      <td>0</td>\n      <td>新規</td>\n      <td>訂正</td>\n      <td>国の機関</td>\n      <td>NaN</td>\n      <td>最新情報</td>\n    </tr>\n    <tr>\n      <th>1</th>\n      <td>2</td>\n      <td>1000013050072</td>\n      <td>01</td>\n      <td>1</td>\n      <td>2018-04-02</td>\n      <td>2015-10-05</td>\n      <td>清水簡易裁判所</td>\n      <td>NaN</td>\n      <td>101</td>\n      <td>静岡県</td>\n      <td>静岡市清水区</td>\n      <td>天神１丁目６−１５</td>\n      <td>NaN</td>\n      <td>22</td>\n      <td>103</td>\n      <td>4240809</td>\n      <td>NaN</td>\n      <td>NaN</td>\n      <td>NaN</td>\n      <td>NaN</td>\n      <td>NaN</td>\n      <td>NaN</td>\n      <td>2015-10-05</td>\n      <td>1</td>\n      <td>Shimizu Summary Court</td>\n      <td>Shizuoka</td>\n      <td>1-6-15, Tenjin, Shimizu ku, Shizuoka shi</td>\n      <td>NaN</td>\n      <td>シミズカンイサイバンショ</td>\n      <td>0</td>\n      <td>新規</td>\n      <td>訂正</td>\n      <td>国の機関</td>\n      <td>NaN</td>\n      <td>最新情報</td>\n    </tr>\n    <tr>\n      <th>2</th>\n      <td>3</td>\n      <td>1000013050080</td>\n      <td>01</td>\n      <td>1</td>\n      <td>2018-04-02</td>\n      <td>2015-10-05</td>\n      <td>浜松簡易裁判所</td>\n      <td>NaN</td>\n      <td>101</td>\n      <td>静岡県</td>\n      <td>浜松市中区</td>\n      <td>中央１丁目１２−５</td>\n      <td>NaN</td>\n      <td>22</td>\n      <td>131</td>\n      <td>4300929</td>\n      <td>NaN</td>\n      <td>NaN</td>\n      <td>NaN</td>\n      <td>NaN</td>\n      <td>NaN</td>\n      <td>NaN</td>\n      <td>2015-10-05</td>\n      <td>1</td>\n      <td>Hamamatsu Summary Court</td>\n      <td>Shizuoka</td>\n      <td>1-12-5, Chuo, Naka ku, Hamamatsu shi</td>\n      <td>NaN</td>\n      <td>ハママツカンイサイバンショ</td>\n      <td>0</td>\n      <td>新規</td>\n      <td>訂正</td>\n      <td>国の機関</td>\n      <td>NaN</td>\n      <td>最新情報</td>\n    </tr>\n  </tbody>\n</table>\n</div>"
     },
     "execution_count": 45,
     "metadata": {},
     "output_type": "execute_result"
    }
   ],
   "source": [
    "data = data.merge(mst_latest, on='latest', how='left')\n",
    "print(data.shape[0])\n",
    "data.head(3)"
   ],
   "metadata": {
    "collapsed": false,
    "pycharm": {
     "name": "#%%\n"
    }
   }
  },
  {
   "cell_type": "code",
   "execution_count": 46,
   "outputs": [
    {
     "data": {
      "text/plain": "  hihyoji hihyoji_name\n0       0         検索対象\n1       1       検索対象除外",
      "text/html": "<div>\n<style scoped>\n    .dataframe tbody tr th:only-of-type {\n        vertical-align: middle;\n    }\n\n    .dataframe tbody tr th {\n        vertical-align: top;\n    }\n\n    .dataframe thead th {\n        text-align: right;\n    }\n</style>\n<table border=\"1\" class=\"dataframe\">\n  <thead>\n    <tr style=\"text-align: right;\">\n      <th></th>\n      <th>hihyoji</th>\n      <th>hihyoji_name</th>\n    </tr>\n  </thead>\n  <tbody>\n    <tr>\n      <th>0</th>\n      <td>0</td>\n      <td>検索対象</td>\n    </tr>\n    <tr>\n      <th>1</th>\n      <td>1</td>\n      <td>検索対象除外</td>\n    </tr>\n  </tbody>\n</table>\n</div>"
     },
     "execution_count": 46,
     "metadata": {},
     "output_type": "execute_result"
    }
   ],
   "source": [
    "mst_hihyoji = pd.read_csv('sample_file/100knock-process-visualization/chapter-1/data/mst_hihyoji.csv', dtype=object)\n",
    "mst_hihyoji"
   ],
   "metadata": {
    "collapsed": false,
    "pycharm": {
     "name": "#%%\n"
    }
   }
  },
  {
   "cell_type": "code",
   "execution_count": 47,
   "outputs": [
    {
     "name": "stdout",
     "output_type": "stream",
     "text": [
      "114758\n"
     ]
    },
    {
     "data": {
      "text/plain": "  sequenceNumber corporateNumber process correct  updateDate  changeDate  \\\n0              1   1000013040008      01       1  2018-04-02  2015-10-05   \n1              2   1000013050072      01       1  2018-04-02  2015-10-05   \n2              3   1000013050080      01       1  2018-04-02  2015-10-05   \n\n      name nameImageId kind prefectureName cityName streetNumber  \\\n0  静岡家庭裁判所         NaN  101            静岡県    静岡市葵区      城内町１−２０   \n1  清水簡易裁判所         NaN  101            静岡県   静岡市清水区    天神１丁目６−１５   \n2  浜松簡易裁判所         NaN  101            静岡県    浜松市中区    中央１丁目１２−５   \n\n  addressImageId prefectureCode cityCode postCode addressOutside  \\\n0            NaN             22      101  4200854            NaN   \n1            NaN             22      103  4240809            NaN   \n2            NaN             22      131  4300929            NaN   \n\n  addressOutsideImageId closeDate closeCause successorCorporateNumber  \\\n0                   NaN       NaN        NaN                      NaN   \n1                   NaN       NaN        NaN                      NaN   \n2                   NaN       NaN        NaN                      NaN   \n\n  changeCause assignmentDate latest                   enName enPrefectureName  \\\n0         NaN     2015-10-05      1    Shizuoka Family Court         Shizuoka   \n1         NaN     2015-10-05      1    Shimizu Summary Court         Shizuoka   \n2         NaN     2015-10-05      1  Hamamatsu Summary Court         Shizuoka   \n\n                                 enCityName enAddressOutside       furigana  \\\n0      1-20, Jonaicho, Aoi ku, Shizuoka shi              NaN  シズオカカテイサイバンショ   \n1  1-6-15, Tenjin, Shimizu ku, Shizuoka shi              NaN   シミズカンイサイバンショ   \n2      1-12-5, Chuo, Naka ku, Hamamatsu shi              NaN  ハママツカンイサイバンショ   \n\n  hihyoji process_kbn_name correct_kbn_name corp_kind_name closeCause_name  \\\n0       0               新規               訂正           国の機関             NaN   \n1       0               新規               訂正           国の機関             NaN   \n2       0               新規               訂正           国の機関             NaN   \n\n  latest_name hihyoji_name  \n0        最新情報         検索対象  \n1        最新情報         検索対象  \n2        最新情報         検索対象  ",
      "text/html": "<div>\n<style scoped>\n    .dataframe tbody tr th:only-of-type {\n        vertical-align: middle;\n    }\n\n    .dataframe tbody tr th {\n        vertical-align: top;\n    }\n\n    .dataframe thead th {\n        text-align: right;\n    }\n</style>\n<table border=\"1\" class=\"dataframe\">\n  <thead>\n    <tr style=\"text-align: right;\">\n      <th></th>\n      <th>sequenceNumber</th>\n      <th>corporateNumber</th>\n      <th>process</th>\n      <th>correct</th>\n      <th>updateDate</th>\n      <th>changeDate</th>\n      <th>name</th>\n      <th>nameImageId</th>\n      <th>kind</th>\n      <th>prefectureName</th>\n      <th>cityName</th>\n      <th>streetNumber</th>\n      <th>addressImageId</th>\n      <th>prefectureCode</th>\n      <th>cityCode</th>\n      <th>postCode</th>\n      <th>addressOutside</th>\n      <th>addressOutsideImageId</th>\n      <th>closeDate</th>\n      <th>closeCause</th>\n      <th>successorCorporateNumber</th>\n      <th>changeCause</th>\n      <th>assignmentDate</th>\n      <th>latest</th>\n      <th>enName</th>\n      <th>enPrefectureName</th>\n      <th>enCityName</th>\n      <th>enAddressOutside</th>\n      <th>furigana</th>\n      <th>hihyoji</th>\n      <th>process_kbn_name</th>\n      <th>correct_kbn_name</th>\n      <th>corp_kind_name</th>\n      <th>closeCause_name</th>\n      <th>latest_name</th>\n      <th>hihyoji_name</th>\n    </tr>\n  </thead>\n  <tbody>\n    <tr>\n      <th>0</th>\n      <td>1</td>\n      <td>1000013040008</td>\n      <td>01</td>\n      <td>1</td>\n      <td>2018-04-02</td>\n      <td>2015-10-05</td>\n      <td>静岡家庭裁判所</td>\n      <td>NaN</td>\n      <td>101</td>\n      <td>静岡県</td>\n      <td>静岡市葵区</td>\n      <td>城内町１−２０</td>\n      <td>NaN</td>\n      <td>22</td>\n      <td>101</td>\n      <td>4200854</td>\n      <td>NaN</td>\n      <td>NaN</td>\n      <td>NaN</td>\n      <td>NaN</td>\n      <td>NaN</td>\n      <td>NaN</td>\n      <td>2015-10-05</td>\n      <td>1</td>\n      <td>Shizuoka Family Court</td>\n      <td>Shizuoka</td>\n      <td>1-20, Jonaicho, Aoi ku, Shizuoka shi</td>\n      <td>NaN</td>\n      <td>シズオカカテイサイバンショ</td>\n      <td>0</td>\n      <td>新規</td>\n      <td>訂正</td>\n      <td>国の機関</td>\n      <td>NaN</td>\n      <td>最新情報</td>\n      <td>検索対象</td>\n    </tr>\n    <tr>\n      <th>1</th>\n      <td>2</td>\n      <td>1000013050072</td>\n      <td>01</td>\n      <td>1</td>\n      <td>2018-04-02</td>\n      <td>2015-10-05</td>\n      <td>清水簡易裁判所</td>\n      <td>NaN</td>\n      <td>101</td>\n      <td>静岡県</td>\n      <td>静岡市清水区</td>\n      <td>天神１丁目６−１５</td>\n      <td>NaN</td>\n      <td>22</td>\n      <td>103</td>\n      <td>4240809</td>\n      <td>NaN</td>\n      <td>NaN</td>\n      <td>NaN</td>\n      <td>NaN</td>\n      <td>NaN</td>\n      <td>NaN</td>\n      <td>2015-10-05</td>\n      <td>1</td>\n      <td>Shimizu Summary Court</td>\n      <td>Shizuoka</td>\n      <td>1-6-15, Tenjin, Shimizu ku, Shizuoka shi</td>\n      <td>NaN</td>\n      <td>シミズカンイサイバンショ</td>\n      <td>0</td>\n      <td>新規</td>\n      <td>訂正</td>\n      <td>国の機関</td>\n      <td>NaN</td>\n      <td>最新情報</td>\n      <td>検索対象</td>\n    </tr>\n    <tr>\n      <th>2</th>\n      <td>3</td>\n      <td>1000013050080</td>\n      <td>01</td>\n      <td>1</td>\n      <td>2018-04-02</td>\n      <td>2015-10-05</td>\n      <td>浜松簡易裁判所</td>\n      <td>NaN</td>\n      <td>101</td>\n      <td>静岡県</td>\n      <td>浜松市中区</td>\n      <td>中央１丁目１２−５</td>\n      <td>NaN</td>\n      <td>22</td>\n      <td>131</td>\n      <td>4300929</td>\n      <td>NaN</td>\n      <td>NaN</td>\n      <td>NaN</td>\n      <td>NaN</td>\n      <td>NaN</td>\n      <td>NaN</td>\n      <td>2015-10-05</td>\n      <td>1</td>\n      <td>Hamamatsu Summary Court</td>\n      <td>Shizuoka</td>\n      <td>1-12-5, Chuo, Naka ku, Hamamatsu shi</td>\n      <td>NaN</td>\n      <td>ハママツカンイサイバンショ</td>\n      <td>0</td>\n      <td>新規</td>\n      <td>訂正</td>\n      <td>国の機関</td>\n      <td>NaN</td>\n      <td>最新情報</td>\n      <td>検索対象</td>\n    </tr>\n  </tbody>\n</table>\n</div>"
     },
     "execution_count": 47,
     "metadata": {},
     "output_type": "execute_result"
    }
   ],
   "source": [
    "data = data.merge(mst_hihyoji, on='hihyoji', how='left')\n",
    "print(data.shape[0])\n",
    "data.head(3)"
   ],
   "metadata": {
    "collapsed": false,
    "pycharm": {
     "name": "#%%\n"
    }
   }
  },
  {
   "cell_type": "markdown",
   "source": [
    "## Text の連結や分割をしよう"
   ],
   "metadata": {
    "collapsed": false,
    "pycharm": {
     "name": "#%% md\n"
    }
   }
  },
  {
   "cell_type": "code",
   "execution_count": 48,
   "outputs": [
    {
     "data": {
      "text/plain": "prefectureName     0\ncityName           0\nstreetNumber      17\ndtype: int64"
     },
     "metadata": {},
     "output_type": "display_data"
    }
   ],
   "source": [
    "# 分割対象の項目に欠損値がないか確認\n",
    "display(data[['prefectureName', 'cityName', 'streetNumber']].isna().sum())"
   ],
   "metadata": {
    "collapsed": false,
    "pycharm": {
     "name": "#%%\n"
    }
   }
  },
  {
   "cell_type": "code",
   "execution_count": 49,
   "outputs": [
    {
     "name": "stdout",
     "output_type": "stream",
     "text": [
      "37\n"
     ]
    },
    {
     "data": {
      "text/plain": "  sequenceNumber corporateNumber process correct  updateDate  changeDate  \\\n0              1   1000013040008      01       1  2018-04-02  2015-10-05   \n1              2   1000013050072      01       1  2018-04-02  2015-10-05   \n2              3   1000013050080      01       1  2018-04-02  2015-10-05   \n\n      name nameImageId kind prefectureName cityName streetNumber  \\\n0  静岡家庭裁判所         NaN  101            静岡県    静岡市葵区      城内町１−２０   \n1  清水簡易裁判所         NaN  101            静岡県   静岡市清水区    天神１丁目６−１５   \n2  浜松簡易裁判所         NaN  101            静岡県    浜松市中区    中央１丁目１２−５   \n\n  addressImageId prefectureCode cityCode postCode addressOutside  \\\n0            NaN             22      101  4200854            NaN   \n1            NaN             22      103  4240809            NaN   \n2            NaN             22      131  4300929            NaN   \n\n  addressOutsideImageId closeDate closeCause successorCorporateNumber  \\\n0                   NaN       NaN        NaN                      NaN   \n1                   NaN       NaN        NaN                      NaN   \n2                   NaN       NaN        NaN                      NaN   \n\n  changeCause assignmentDate latest                   enName enPrefectureName  \\\n0         NaN     2015-10-05      1    Shizuoka Family Court         Shizuoka   \n1         NaN     2015-10-05      1    Shimizu Summary Court         Shizuoka   \n2         NaN     2015-10-05      1  Hamamatsu Summary Court         Shizuoka   \n\n                                 enCityName enAddressOutside       furigana  \\\n0      1-20, Jonaicho, Aoi ku, Shizuoka shi              NaN  シズオカカテイサイバンショ   \n1  1-6-15, Tenjin, Shimizu ku, Shizuoka shi              NaN   シミズカンイサイバンショ   \n2      1-12-5, Chuo, Naka ku, Hamamatsu shi              NaN  ハママツカンイサイバンショ   \n\n  hihyoji process_kbn_name correct_kbn_name corp_kind_name closeCause_name  \\\n0       0               新規               訂正           国の機関             NaN   \n1       0               新規               訂正           国の機関             NaN   \n2       0               新規               訂正           国の機関             NaN   \n\n  latest_name hihyoji_name             address  \n0        最新情報         検索対象     静岡県静岡市葵区城内町１−２０  \n1        最新情報         検索対象  静岡県静岡市清水区天神１丁目６−１５  \n2        最新情報         検索対象   静岡県浜松市中区中央１丁目１２−５  ",
      "text/html": "<div>\n<style scoped>\n    .dataframe tbody tr th:only-of-type {\n        vertical-align: middle;\n    }\n\n    .dataframe tbody tr th {\n        vertical-align: top;\n    }\n\n    .dataframe thead th {\n        text-align: right;\n    }\n</style>\n<table border=\"1\" class=\"dataframe\">\n  <thead>\n    <tr style=\"text-align: right;\">\n      <th></th>\n      <th>sequenceNumber</th>\n      <th>corporateNumber</th>\n      <th>process</th>\n      <th>correct</th>\n      <th>updateDate</th>\n      <th>changeDate</th>\n      <th>name</th>\n      <th>nameImageId</th>\n      <th>kind</th>\n      <th>prefectureName</th>\n      <th>cityName</th>\n      <th>streetNumber</th>\n      <th>addressImageId</th>\n      <th>prefectureCode</th>\n      <th>cityCode</th>\n      <th>postCode</th>\n      <th>addressOutside</th>\n      <th>addressOutsideImageId</th>\n      <th>closeDate</th>\n      <th>closeCause</th>\n      <th>successorCorporateNumber</th>\n      <th>changeCause</th>\n      <th>assignmentDate</th>\n      <th>latest</th>\n      <th>enName</th>\n      <th>enPrefectureName</th>\n      <th>enCityName</th>\n      <th>enAddressOutside</th>\n      <th>furigana</th>\n      <th>hihyoji</th>\n      <th>process_kbn_name</th>\n      <th>correct_kbn_name</th>\n      <th>corp_kind_name</th>\n      <th>closeCause_name</th>\n      <th>latest_name</th>\n      <th>hihyoji_name</th>\n      <th>address</th>\n    </tr>\n  </thead>\n  <tbody>\n    <tr>\n      <th>0</th>\n      <td>1</td>\n      <td>1000013040008</td>\n      <td>01</td>\n      <td>1</td>\n      <td>2018-04-02</td>\n      <td>2015-10-05</td>\n      <td>静岡家庭裁判所</td>\n      <td>NaN</td>\n      <td>101</td>\n      <td>静岡県</td>\n      <td>静岡市葵区</td>\n      <td>城内町１−２０</td>\n      <td>NaN</td>\n      <td>22</td>\n      <td>101</td>\n      <td>4200854</td>\n      <td>NaN</td>\n      <td>NaN</td>\n      <td>NaN</td>\n      <td>NaN</td>\n      <td>NaN</td>\n      <td>NaN</td>\n      <td>2015-10-05</td>\n      <td>1</td>\n      <td>Shizuoka Family Court</td>\n      <td>Shizuoka</td>\n      <td>1-20, Jonaicho, Aoi ku, Shizuoka shi</td>\n      <td>NaN</td>\n      <td>シズオカカテイサイバンショ</td>\n      <td>0</td>\n      <td>新規</td>\n      <td>訂正</td>\n      <td>国の機関</td>\n      <td>NaN</td>\n      <td>最新情報</td>\n      <td>検索対象</td>\n      <td>静岡県静岡市葵区城内町１−２０</td>\n    </tr>\n    <tr>\n      <th>1</th>\n      <td>2</td>\n      <td>1000013050072</td>\n      <td>01</td>\n      <td>1</td>\n      <td>2018-04-02</td>\n      <td>2015-10-05</td>\n      <td>清水簡易裁判所</td>\n      <td>NaN</td>\n      <td>101</td>\n      <td>静岡県</td>\n      <td>静岡市清水区</td>\n      <td>天神１丁目６−１５</td>\n      <td>NaN</td>\n      <td>22</td>\n      <td>103</td>\n      <td>4240809</td>\n      <td>NaN</td>\n      <td>NaN</td>\n      <td>NaN</td>\n      <td>NaN</td>\n      <td>NaN</td>\n      <td>NaN</td>\n      <td>2015-10-05</td>\n      <td>1</td>\n      <td>Shimizu Summary Court</td>\n      <td>Shizuoka</td>\n      <td>1-6-15, Tenjin, Shimizu ku, Shizuoka shi</td>\n      <td>NaN</td>\n      <td>シミズカンイサイバンショ</td>\n      <td>0</td>\n      <td>新規</td>\n      <td>訂正</td>\n      <td>国の機関</td>\n      <td>NaN</td>\n      <td>最新情報</td>\n      <td>検索対象</td>\n      <td>静岡県静岡市清水区天神１丁目６−１５</td>\n    </tr>\n    <tr>\n      <th>2</th>\n      <td>3</td>\n      <td>1000013050080</td>\n      <td>01</td>\n      <td>1</td>\n      <td>2018-04-02</td>\n      <td>2015-10-05</td>\n      <td>浜松簡易裁判所</td>\n      <td>NaN</td>\n      <td>101</td>\n      <td>静岡県</td>\n      <td>浜松市中区</td>\n      <td>中央１丁目１２−５</td>\n      <td>NaN</td>\n      <td>22</td>\n      <td>131</td>\n      <td>4300929</td>\n      <td>NaN</td>\n      <td>NaN</td>\n      <td>NaN</td>\n      <td>NaN</td>\n      <td>NaN</td>\n      <td>NaN</td>\n      <td>2015-10-05</td>\n      <td>1</td>\n      <td>Hamamatsu Summary Court</td>\n      <td>Shizuoka</td>\n      <td>1-12-5, Chuo, Naka ku, Hamamatsu shi</td>\n      <td>NaN</td>\n      <td>ハママツカンイサイバンショ</td>\n      <td>0</td>\n      <td>新規</td>\n      <td>訂正</td>\n      <td>国の機関</td>\n      <td>NaN</td>\n      <td>最新情報</td>\n      <td>検索対象</td>\n      <td>静岡県浜松市中区中央１丁目１２−５</td>\n    </tr>\n  </tbody>\n</table>\n</div>"
     },
     "execution_count": 49,
     "metadata": {},
     "output_type": "execute_result"
    }
   ],
   "source": [
    "# 欠損値を考慮しない方法で連結する\n",
    "data['address'] = data['prefectureName'] + data['cityName'] + data['streetNumber']\n",
    "print(data.columns.shape[0])\n",
    "data.head(3)"
   ],
   "metadata": {
    "collapsed": false,
    "pycharm": {
     "name": "#%%\n"
    }
   }
  },
  {
   "cell_type": "code",
   "execution_count": 50,
   "outputs": [
    {
     "data": {
      "text/plain": "      sequenceNumber corporateNumber process correct  updateDate  changeDate  \\\n3898            3909   1080005006629      01       0  2015-11-13  2015-10-05   \n16621          16657   2080005006628      01       0  2015-11-13  2015-10-05   \n20848          20889   2080105004250      01       1  2019-07-05  2015-10-05   \n\n                 name nameImageId kind prefectureName cityName streetNumber  \\\n3898   保証責任尾羽愛郷負債整理組合         NaN  399            静岡県   静岡市清水区          NaN   \n16621  保証責任原下河原負債整理組合         NaN  399            静岡県   静岡市清水区          NaN   \n20848   保證責任對島村負債整理組合         NaN  399            静岡県      伊東市          NaN   \n\n      addressImageId prefectureCode cityCode postCode addressOutside  \\\n3898             NaN             22      103  4220000            NaN   \n16621            NaN             22      103  4220000            NaN   \n20848            NaN             22      208  4140000            NaN   \n\n      addressOutsideImageId closeDate closeCause successorCorporateNumber  \\\n3898                    NaN       NaN        NaN                      NaN   \n16621                   NaN       NaN        NaN                      NaN   \n20848                   NaN       NaN        NaN                      NaN   \n\n      changeCause assignmentDate latest enName enPrefectureName enCityName  \\\n3898          NaN     2015-10-05      1    NaN              NaN        NaN   \n16621         NaN     2015-10-05      1    NaN              NaN        NaN   \n20848         NaN     2015-10-05      1    NaN              NaN        NaN   \n\n      enAddressOutside                 furigana hihyoji process_kbn_name  \\\n3898               NaN                      NaN       1               新規   \n16621              NaN                      NaN       1               新規   \n20848              NaN  ホショウセキニンタジマムラフサイセイリクミアイ       1               新規   \n\n      correct_kbn_name corp_kind_name closeCause_name latest_name  \\\n3898              訂正以外     その他の設立登記法人             NaN        最新情報   \n16621             訂正以外     その他の設立登記法人             NaN        最新情報   \n20848               訂正     その他の設立登記法人             NaN        最新情報   \n\n      hihyoji_name address  \n3898        検索対象除外     NaN  \n16621       検索対象除外     NaN  \n20848       検索対象除外     NaN  ",
      "text/html": "<div>\n<style scoped>\n    .dataframe tbody tr th:only-of-type {\n        vertical-align: middle;\n    }\n\n    .dataframe tbody tr th {\n        vertical-align: top;\n    }\n\n    .dataframe thead th {\n        text-align: right;\n    }\n</style>\n<table border=\"1\" class=\"dataframe\">\n  <thead>\n    <tr style=\"text-align: right;\">\n      <th></th>\n      <th>sequenceNumber</th>\n      <th>corporateNumber</th>\n      <th>process</th>\n      <th>correct</th>\n      <th>updateDate</th>\n      <th>changeDate</th>\n      <th>name</th>\n      <th>nameImageId</th>\n      <th>kind</th>\n      <th>prefectureName</th>\n      <th>cityName</th>\n      <th>streetNumber</th>\n      <th>addressImageId</th>\n      <th>prefectureCode</th>\n      <th>cityCode</th>\n      <th>postCode</th>\n      <th>addressOutside</th>\n      <th>addressOutsideImageId</th>\n      <th>closeDate</th>\n      <th>closeCause</th>\n      <th>successorCorporateNumber</th>\n      <th>changeCause</th>\n      <th>assignmentDate</th>\n      <th>latest</th>\n      <th>enName</th>\n      <th>enPrefectureName</th>\n      <th>enCityName</th>\n      <th>enAddressOutside</th>\n      <th>furigana</th>\n      <th>hihyoji</th>\n      <th>process_kbn_name</th>\n      <th>correct_kbn_name</th>\n      <th>corp_kind_name</th>\n      <th>closeCause_name</th>\n      <th>latest_name</th>\n      <th>hihyoji_name</th>\n      <th>address</th>\n    </tr>\n  </thead>\n  <tbody>\n    <tr>\n      <th>3898</th>\n      <td>3909</td>\n      <td>1080005006629</td>\n      <td>01</td>\n      <td>0</td>\n      <td>2015-11-13</td>\n      <td>2015-10-05</td>\n      <td>保証責任尾羽愛郷負債整理組合</td>\n      <td>NaN</td>\n      <td>399</td>\n      <td>静岡県</td>\n      <td>静岡市清水区</td>\n      <td>NaN</td>\n      <td>NaN</td>\n      <td>22</td>\n      <td>103</td>\n      <td>4220000</td>\n      <td>NaN</td>\n      <td>NaN</td>\n      <td>NaN</td>\n      <td>NaN</td>\n      <td>NaN</td>\n      <td>NaN</td>\n      <td>2015-10-05</td>\n      <td>1</td>\n      <td>NaN</td>\n      <td>NaN</td>\n      <td>NaN</td>\n      <td>NaN</td>\n      <td>NaN</td>\n      <td>1</td>\n      <td>新規</td>\n      <td>訂正以外</td>\n      <td>その他の設立登記法人</td>\n      <td>NaN</td>\n      <td>最新情報</td>\n      <td>検索対象除外</td>\n      <td>NaN</td>\n    </tr>\n    <tr>\n      <th>16621</th>\n      <td>16657</td>\n      <td>2080005006628</td>\n      <td>01</td>\n      <td>0</td>\n      <td>2015-11-13</td>\n      <td>2015-10-05</td>\n      <td>保証責任原下河原負債整理組合</td>\n      <td>NaN</td>\n      <td>399</td>\n      <td>静岡県</td>\n      <td>静岡市清水区</td>\n      <td>NaN</td>\n      <td>NaN</td>\n      <td>22</td>\n      <td>103</td>\n      <td>4220000</td>\n      <td>NaN</td>\n      <td>NaN</td>\n      <td>NaN</td>\n      <td>NaN</td>\n      <td>NaN</td>\n      <td>NaN</td>\n      <td>2015-10-05</td>\n      <td>1</td>\n      <td>NaN</td>\n      <td>NaN</td>\n      <td>NaN</td>\n      <td>NaN</td>\n      <td>NaN</td>\n      <td>1</td>\n      <td>新規</td>\n      <td>訂正以外</td>\n      <td>その他の設立登記法人</td>\n      <td>NaN</td>\n      <td>最新情報</td>\n      <td>検索対象除外</td>\n      <td>NaN</td>\n    </tr>\n    <tr>\n      <th>20848</th>\n      <td>20889</td>\n      <td>2080105004250</td>\n      <td>01</td>\n      <td>1</td>\n      <td>2019-07-05</td>\n      <td>2015-10-05</td>\n      <td>保證責任對島村負債整理組合</td>\n      <td>NaN</td>\n      <td>399</td>\n      <td>静岡県</td>\n      <td>伊東市</td>\n      <td>NaN</td>\n      <td>NaN</td>\n      <td>22</td>\n      <td>208</td>\n      <td>4140000</td>\n      <td>NaN</td>\n      <td>NaN</td>\n      <td>NaN</td>\n      <td>NaN</td>\n      <td>NaN</td>\n      <td>NaN</td>\n      <td>2015-10-05</td>\n      <td>1</td>\n      <td>NaN</td>\n      <td>NaN</td>\n      <td>NaN</td>\n      <td>NaN</td>\n      <td>ホショウセキニンタジマムラフサイセイリクミアイ</td>\n      <td>1</td>\n      <td>新規</td>\n      <td>訂正</td>\n      <td>その他の設立登記法人</td>\n      <td>NaN</td>\n      <td>最新情報</td>\n      <td>検索対象除外</td>\n      <td>NaN</td>\n    </tr>\n  </tbody>\n</table>\n</div>"
     },
     "execution_count": 50,
     "metadata": {},
     "output_type": "execute_result"
    }
   ],
   "source": [
    "# 欠損値の項目がどうなったか確認\n",
    "data.loc[data['streetNumber'].isna()].head(3)"
   ],
   "metadata": {
    "collapsed": false,
    "pycharm": {
     "name": "#%%\n"
    }
   }
  },
  {
   "cell_type": "code",
   "source": [
    "# 丁目番地等が欠損値の Data を抽出し、その Data には都道府県と市町村だけ連結\n",
    "data['address'].loc[data['streetNumber'].isna()] = data['prefectureName'] + data['cityName']"
   ],
   "metadata": {
    "collapsed": false,
    "pycharm": {
     "name": "#%%\n"
    }
   },
   "execution_count": 51,
   "outputs": []
  },
  {
   "cell_type": "code",
   "execution_count": 52,
   "outputs": [
    {
     "name": "stdout",
     "output_type": "stream",
     "text": [
      "0\n"
     ]
    },
    {
     "data": {
      "text/plain": "      sequenceNumber corporateNumber process correct  updateDate  changeDate  \\\n3898            3909   1080005006629      01       0  2015-11-13  2015-10-05   \n16621          16657   2080005006628      01       0  2015-11-13  2015-10-05   \n20848          20889   2080105004250      01       1  2019-07-05  2015-10-05   \n\n                 name nameImageId kind prefectureName cityName streetNumber  \\\n3898   保証責任尾羽愛郷負債整理組合         NaN  399            静岡県   静岡市清水区          NaN   \n16621  保証責任原下河原負債整理組合         NaN  399            静岡県   静岡市清水区          NaN   \n20848   保證責任對島村負債整理組合         NaN  399            静岡県      伊東市          NaN   \n\n      addressImageId prefectureCode cityCode postCode addressOutside  \\\n3898             NaN             22      103  4220000            NaN   \n16621            NaN             22      103  4220000            NaN   \n20848            NaN             22      208  4140000            NaN   \n\n      addressOutsideImageId closeDate closeCause successorCorporateNumber  \\\n3898                    NaN       NaN        NaN                      NaN   \n16621                   NaN       NaN        NaN                      NaN   \n20848                   NaN       NaN        NaN                      NaN   \n\n      changeCause assignmentDate latest enName enPrefectureName enCityName  \\\n3898          NaN     2015-10-05      1    NaN              NaN        NaN   \n16621         NaN     2015-10-05      1    NaN              NaN        NaN   \n20848         NaN     2015-10-05      1    NaN              NaN        NaN   \n\n      enAddressOutside                 furigana hihyoji process_kbn_name  \\\n3898               NaN                      NaN       1               新規   \n16621              NaN                      NaN       1               新規   \n20848              NaN  ホショウセキニンタジマムラフサイセイリクミアイ       1               新規   \n\n      correct_kbn_name corp_kind_name closeCause_name latest_name  \\\n3898              訂正以外     その他の設立登記法人             NaN        最新情報   \n16621             訂正以外     その他の設立登記法人             NaN        最新情報   \n20848               訂正     その他の設立登記法人             NaN        最新情報   \n\n      hihyoji_name    address  \n3898        検索対象除外  静岡県静岡市清水区  \n16621       検索対象除外  静岡県静岡市清水区  \n20848       検索対象除外     静岡県伊東市  ",
      "text/html": "<div>\n<style scoped>\n    .dataframe tbody tr th:only-of-type {\n        vertical-align: middle;\n    }\n\n    .dataframe tbody tr th {\n        vertical-align: top;\n    }\n\n    .dataframe thead th {\n        text-align: right;\n    }\n</style>\n<table border=\"1\" class=\"dataframe\">\n  <thead>\n    <tr style=\"text-align: right;\">\n      <th></th>\n      <th>sequenceNumber</th>\n      <th>corporateNumber</th>\n      <th>process</th>\n      <th>correct</th>\n      <th>updateDate</th>\n      <th>changeDate</th>\n      <th>name</th>\n      <th>nameImageId</th>\n      <th>kind</th>\n      <th>prefectureName</th>\n      <th>cityName</th>\n      <th>streetNumber</th>\n      <th>addressImageId</th>\n      <th>prefectureCode</th>\n      <th>cityCode</th>\n      <th>postCode</th>\n      <th>addressOutside</th>\n      <th>addressOutsideImageId</th>\n      <th>closeDate</th>\n      <th>closeCause</th>\n      <th>successorCorporateNumber</th>\n      <th>changeCause</th>\n      <th>assignmentDate</th>\n      <th>latest</th>\n      <th>enName</th>\n      <th>enPrefectureName</th>\n      <th>enCityName</th>\n      <th>enAddressOutside</th>\n      <th>furigana</th>\n      <th>hihyoji</th>\n      <th>process_kbn_name</th>\n      <th>correct_kbn_name</th>\n      <th>corp_kind_name</th>\n      <th>closeCause_name</th>\n      <th>latest_name</th>\n      <th>hihyoji_name</th>\n      <th>address</th>\n    </tr>\n  </thead>\n  <tbody>\n    <tr>\n      <th>3898</th>\n      <td>3909</td>\n      <td>1080005006629</td>\n      <td>01</td>\n      <td>0</td>\n      <td>2015-11-13</td>\n      <td>2015-10-05</td>\n      <td>保証責任尾羽愛郷負債整理組合</td>\n      <td>NaN</td>\n      <td>399</td>\n      <td>静岡県</td>\n      <td>静岡市清水区</td>\n      <td>NaN</td>\n      <td>NaN</td>\n      <td>22</td>\n      <td>103</td>\n      <td>4220000</td>\n      <td>NaN</td>\n      <td>NaN</td>\n      <td>NaN</td>\n      <td>NaN</td>\n      <td>NaN</td>\n      <td>NaN</td>\n      <td>2015-10-05</td>\n      <td>1</td>\n      <td>NaN</td>\n      <td>NaN</td>\n      <td>NaN</td>\n      <td>NaN</td>\n      <td>NaN</td>\n      <td>1</td>\n      <td>新規</td>\n      <td>訂正以外</td>\n      <td>その他の設立登記法人</td>\n      <td>NaN</td>\n      <td>最新情報</td>\n      <td>検索対象除外</td>\n      <td>静岡県静岡市清水区</td>\n    </tr>\n    <tr>\n      <th>16621</th>\n      <td>16657</td>\n      <td>2080005006628</td>\n      <td>01</td>\n      <td>0</td>\n      <td>2015-11-13</td>\n      <td>2015-10-05</td>\n      <td>保証責任原下河原負債整理組合</td>\n      <td>NaN</td>\n      <td>399</td>\n      <td>静岡県</td>\n      <td>静岡市清水区</td>\n      <td>NaN</td>\n      <td>NaN</td>\n      <td>22</td>\n      <td>103</td>\n      <td>4220000</td>\n      <td>NaN</td>\n      <td>NaN</td>\n      <td>NaN</td>\n      <td>NaN</td>\n      <td>NaN</td>\n      <td>NaN</td>\n      <td>2015-10-05</td>\n      <td>1</td>\n      <td>NaN</td>\n      <td>NaN</td>\n      <td>NaN</td>\n      <td>NaN</td>\n      <td>NaN</td>\n      <td>1</td>\n      <td>新規</td>\n      <td>訂正以外</td>\n      <td>その他の設立登記法人</td>\n      <td>NaN</td>\n      <td>最新情報</td>\n      <td>検索対象除外</td>\n      <td>静岡県静岡市清水区</td>\n    </tr>\n    <tr>\n      <th>20848</th>\n      <td>20889</td>\n      <td>2080105004250</td>\n      <td>01</td>\n      <td>1</td>\n      <td>2019-07-05</td>\n      <td>2015-10-05</td>\n      <td>保證責任對島村負債整理組合</td>\n      <td>NaN</td>\n      <td>399</td>\n      <td>静岡県</td>\n      <td>伊東市</td>\n      <td>NaN</td>\n      <td>NaN</td>\n      <td>22</td>\n      <td>208</td>\n      <td>4140000</td>\n      <td>NaN</td>\n      <td>NaN</td>\n      <td>NaN</td>\n      <td>NaN</td>\n      <td>NaN</td>\n      <td>NaN</td>\n      <td>2015-10-05</td>\n      <td>1</td>\n      <td>NaN</td>\n      <td>NaN</td>\n      <td>NaN</td>\n      <td>NaN</td>\n      <td>ホショウセキニンタジマムラフサイセイリクミアイ</td>\n      <td>1</td>\n      <td>新規</td>\n      <td>訂正</td>\n      <td>その他の設立登記法人</td>\n      <td>NaN</td>\n      <td>最新情報</td>\n      <td>検索対象除外</td>\n      <td>静岡県伊東市</td>\n    </tr>\n  </tbody>\n</table>\n</div>"
     },
     "execution_count": 52,
     "metadata": {},
     "output_type": "execute_result"
    }
   ],
   "source": [
    "# 結果の確認\n",
    "print(data['address'].isna().sum())\n",
    "data.loc[data['streetNumber'].isna()].head(3)"
   ],
   "metadata": {
    "collapsed": false,
    "pycharm": {
     "name": "#%%\n"
    }
   }
  },
  {
   "cell_type": "code",
   "execution_count": 53,
   "outputs": [
    {
     "data": {
      "text/plain": "  sequenceNumber corporateNumber process correct  updateDate  changeDate  \\\n0              1   1000013040008      01       1  2018-04-02  2015-10-05   \n1              2   1000013050072      01       1  2018-04-02  2015-10-05   \n2              3   1000013050080      01       1  2018-04-02  2015-10-05   \n\n      name nameImageId kind prefectureName cityName streetNumber  \\\n0  静岡家庭裁判所         NaN  101            静岡県    静岡市葵区      城内町１−２０   \n1  清水簡易裁判所         NaN  101            静岡県   静岡市清水区    天神１丁目６−１５   \n2  浜松簡易裁判所         NaN  101            静岡県    浜松市中区    中央１丁目１２−５   \n\n  addressImageId prefectureCode cityCode postCode addressOutside  \\\n0            NaN             22      101  4200854            NaN   \n1            NaN             22      103  4240809            NaN   \n2            NaN             22      131  4300929            NaN   \n\n  addressOutsideImageId closeDate closeCause successorCorporateNumber  \\\n0                   NaN       NaN        NaN                      NaN   \n1                   NaN       NaN        NaN                      NaN   \n2                   NaN       NaN        NaN                      NaN   \n\n  changeCause assignmentDate latest                   enName enPrefectureName  \\\n0         NaN     2015-10-05      1    Shizuoka Family Court         Shizuoka   \n1         NaN     2015-10-05      1    Shimizu Summary Court         Shizuoka   \n2         NaN     2015-10-05      1  Hamamatsu Summary Court         Shizuoka   \n\n                                 enCityName enAddressOutside       furigana  \\\n0      1-20, Jonaicho, Aoi ku, Shizuoka shi              NaN  シズオカカテイサイバンショ   \n1  1-6-15, Tenjin, Shimizu ku, Shizuoka shi              NaN   シミズカンイサイバンショ   \n2      1-12-5, Chuo, Naka ku, Hamamatsu shi              NaN  ハママツカンイサイバンショ   \n\n  hihyoji process_kbn_name correct_kbn_name corp_kind_name closeCause_name  \\\n0       0               新規               訂正           国の機関             NaN   \n1       0               新規               訂正           国の機関             NaN   \n2       0               新規               訂正           国の機関             NaN   \n\n  latest_name hihyoji_name             address  \n0        最新情報         検索対象     静岡県静岡市葵区城内町１−２０  \n1        最新情報         検索対象  静岡県静岡市清水区天神１丁目６−１５  \n2        最新情報         検索対象   静岡県浜松市中区中央１丁目１２−５  ",
      "text/html": "<div>\n<style scoped>\n    .dataframe tbody tr th:only-of-type {\n        vertical-align: middle;\n    }\n\n    .dataframe tbody tr th {\n        vertical-align: top;\n    }\n\n    .dataframe thead th {\n        text-align: right;\n    }\n</style>\n<table border=\"1\" class=\"dataframe\">\n  <thead>\n    <tr style=\"text-align: right;\">\n      <th></th>\n      <th>sequenceNumber</th>\n      <th>corporateNumber</th>\n      <th>process</th>\n      <th>correct</th>\n      <th>updateDate</th>\n      <th>changeDate</th>\n      <th>name</th>\n      <th>nameImageId</th>\n      <th>kind</th>\n      <th>prefectureName</th>\n      <th>cityName</th>\n      <th>streetNumber</th>\n      <th>addressImageId</th>\n      <th>prefectureCode</th>\n      <th>cityCode</th>\n      <th>postCode</th>\n      <th>addressOutside</th>\n      <th>addressOutsideImageId</th>\n      <th>closeDate</th>\n      <th>closeCause</th>\n      <th>successorCorporateNumber</th>\n      <th>changeCause</th>\n      <th>assignmentDate</th>\n      <th>latest</th>\n      <th>enName</th>\n      <th>enPrefectureName</th>\n      <th>enCityName</th>\n      <th>enAddressOutside</th>\n      <th>furigana</th>\n      <th>hihyoji</th>\n      <th>process_kbn_name</th>\n      <th>correct_kbn_name</th>\n      <th>corp_kind_name</th>\n      <th>closeCause_name</th>\n      <th>latest_name</th>\n      <th>hihyoji_name</th>\n      <th>address</th>\n    </tr>\n  </thead>\n  <tbody>\n    <tr>\n      <th>0</th>\n      <td>1</td>\n      <td>1000013040008</td>\n      <td>01</td>\n      <td>1</td>\n      <td>2018-04-02</td>\n      <td>2015-10-05</td>\n      <td>静岡家庭裁判所</td>\n      <td>NaN</td>\n      <td>101</td>\n      <td>静岡県</td>\n      <td>静岡市葵区</td>\n      <td>城内町１−２０</td>\n      <td>NaN</td>\n      <td>22</td>\n      <td>101</td>\n      <td>4200854</td>\n      <td>NaN</td>\n      <td>NaN</td>\n      <td>NaN</td>\n      <td>NaN</td>\n      <td>NaN</td>\n      <td>NaN</td>\n      <td>2015-10-05</td>\n      <td>1</td>\n      <td>Shizuoka Family Court</td>\n      <td>Shizuoka</td>\n      <td>1-20, Jonaicho, Aoi ku, Shizuoka shi</td>\n      <td>NaN</td>\n      <td>シズオカカテイサイバンショ</td>\n      <td>0</td>\n      <td>新規</td>\n      <td>訂正</td>\n      <td>国の機関</td>\n      <td>NaN</td>\n      <td>最新情報</td>\n      <td>検索対象</td>\n      <td>静岡県静岡市葵区城内町１−２０</td>\n    </tr>\n    <tr>\n      <th>1</th>\n      <td>2</td>\n      <td>1000013050072</td>\n      <td>01</td>\n      <td>1</td>\n      <td>2018-04-02</td>\n      <td>2015-10-05</td>\n      <td>清水簡易裁判所</td>\n      <td>NaN</td>\n      <td>101</td>\n      <td>静岡県</td>\n      <td>静岡市清水区</td>\n      <td>天神１丁目６−１５</td>\n      <td>NaN</td>\n      <td>22</td>\n      <td>103</td>\n      <td>4240809</td>\n      <td>NaN</td>\n      <td>NaN</td>\n      <td>NaN</td>\n      <td>NaN</td>\n      <td>NaN</td>\n      <td>NaN</td>\n      <td>2015-10-05</td>\n      <td>1</td>\n      <td>Shimizu Summary Court</td>\n      <td>Shizuoka</td>\n      <td>1-6-15, Tenjin, Shimizu ku, Shizuoka shi</td>\n      <td>NaN</td>\n      <td>シミズカンイサイバンショ</td>\n      <td>0</td>\n      <td>新規</td>\n      <td>訂正</td>\n      <td>国の機関</td>\n      <td>NaN</td>\n      <td>最新情報</td>\n      <td>検索対象</td>\n      <td>静岡県静岡市清水区天神１丁目６−１５</td>\n    </tr>\n    <tr>\n      <th>2</th>\n      <td>3</td>\n      <td>1000013050080</td>\n      <td>01</td>\n      <td>1</td>\n      <td>2018-04-02</td>\n      <td>2015-10-05</td>\n      <td>浜松簡易裁判所</td>\n      <td>NaN</td>\n      <td>101</td>\n      <td>静岡県</td>\n      <td>浜松市中区</td>\n      <td>中央１丁目１２−５</td>\n      <td>NaN</td>\n      <td>22</td>\n      <td>131</td>\n      <td>4300929</td>\n      <td>NaN</td>\n      <td>NaN</td>\n      <td>NaN</td>\n      <td>NaN</td>\n      <td>NaN</td>\n      <td>NaN</td>\n      <td>2015-10-05</td>\n      <td>1</td>\n      <td>Hamamatsu Summary Court</td>\n      <td>Shizuoka</td>\n      <td>1-12-5, Chuo, Naka ku, Hamamatsu shi</td>\n      <td>NaN</td>\n      <td>ハママツカンイサイバンショ</td>\n      <td>0</td>\n      <td>新規</td>\n      <td>訂正</td>\n      <td>国の機関</td>\n      <td>NaN</td>\n      <td>最新情報</td>\n      <td>検索対象</td>\n      <td>静岡県浜松市中区中央１丁目１２−５</td>\n    </tr>\n  </tbody>\n</table>\n</div>"
     },
     "execution_count": 53,
     "metadata": {},
     "output_type": "execute_result"
    }
   ],
   "source": [
    "# 欠損値でなかった Data に影響していないか確認\n",
    "data.head(3)"
   ],
   "metadata": {
    "collapsed": false,
    "pycharm": {
     "name": "#%%\n"
    }
   }
  },
  {
   "cell_type": "code",
   "execution_count": 54,
   "outputs": [
    {
     "name": "stdout",
     "output_type": "stream",
     "text": [
      "38\n"
     ]
    },
    {
     "data": {
      "text/plain": "  sequenceNumber corporateNumber process correct  updateDate  changeDate  \\\n0              1   1000013040008      01       1  2018-04-02  2015-10-05   \n1              2   1000013050072      01       1  2018-04-02  2015-10-05   \n2              3   1000013050080      01       1  2018-04-02  2015-10-05   \n\n      name nameImageId kind prefectureName cityName streetNumber  \\\n0  静岡家庭裁判所         NaN  101            静岡県    静岡市葵区      城内町１−２０   \n1  清水簡易裁判所         NaN  101            静岡県   静岡市清水区    天神１丁目６−１５   \n2  浜松簡易裁判所         NaN  101            静岡県    浜松市中区    中央１丁目１２−５   \n\n  addressImageId prefectureCode cityCode postCode addressOutside  \\\n0            NaN             22      101  4200854            NaN   \n1            NaN             22      103  4240809            NaN   \n2            NaN             22      131  4300929            NaN   \n\n  addressOutsideImageId closeDate closeCause successorCorporateNumber  \\\n0                   NaN       NaN        NaN                      NaN   \n1                   NaN       NaN        NaN                      NaN   \n2                   NaN       NaN        NaN                      NaN   \n\n  changeCause assignmentDate latest                   enName enPrefectureName  \\\n0         NaN     2015-10-05      1    Shizuoka Family Court         Shizuoka   \n1         NaN     2015-10-05      1    Shimizu Summary Court         Shizuoka   \n2         NaN     2015-10-05      1  Hamamatsu Summary Court         Shizuoka   \n\n                                 enCityName enAddressOutside       furigana  \\\n0      1-20, Jonaicho, Aoi ku, Shizuoka shi              NaN  シズオカカテイサイバンショ   \n1  1-6-15, Tenjin, Shimizu ku, Shizuoka shi              NaN   シミズカンイサイバンショ   \n2      1-12-5, Chuo, Naka ku, Hamamatsu shi              NaN  ハママツカンイサイバンショ   \n\n  hihyoji process_kbn_name correct_kbn_name corp_kind_name closeCause_name  \\\n0       0               新規               訂正           国の機関             NaN   \n1       0               新規               訂正           国の機関             NaN   \n2       0               新規               訂正           国の機関             NaN   \n\n  latest_name hihyoji_name             address postCode_head  \n0        最新情報         検索対象     静岡県静岡市葵区城内町１−２０           420  \n1        最新情報         検索対象  静岡県静岡市清水区天神１丁目６−１５           424  \n2        最新情報         検索対象   静岡県浜松市中区中央１丁目１２−５           430  ",
      "text/html": "<div>\n<style scoped>\n    .dataframe tbody tr th:only-of-type {\n        vertical-align: middle;\n    }\n\n    .dataframe tbody tr th {\n        vertical-align: top;\n    }\n\n    .dataframe thead th {\n        text-align: right;\n    }\n</style>\n<table border=\"1\" class=\"dataframe\">\n  <thead>\n    <tr style=\"text-align: right;\">\n      <th></th>\n      <th>sequenceNumber</th>\n      <th>corporateNumber</th>\n      <th>process</th>\n      <th>correct</th>\n      <th>updateDate</th>\n      <th>changeDate</th>\n      <th>name</th>\n      <th>nameImageId</th>\n      <th>kind</th>\n      <th>prefectureName</th>\n      <th>cityName</th>\n      <th>streetNumber</th>\n      <th>addressImageId</th>\n      <th>prefectureCode</th>\n      <th>cityCode</th>\n      <th>postCode</th>\n      <th>addressOutside</th>\n      <th>addressOutsideImageId</th>\n      <th>closeDate</th>\n      <th>closeCause</th>\n      <th>successorCorporateNumber</th>\n      <th>changeCause</th>\n      <th>assignmentDate</th>\n      <th>latest</th>\n      <th>enName</th>\n      <th>enPrefectureName</th>\n      <th>enCityName</th>\n      <th>enAddressOutside</th>\n      <th>furigana</th>\n      <th>hihyoji</th>\n      <th>process_kbn_name</th>\n      <th>correct_kbn_name</th>\n      <th>corp_kind_name</th>\n      <th>closeCause_name</th>\n      <th>latest_name</th>\n      <th>hihyoji_name</th>\n      <th>address</th>\n      <th>postCode_head</th>\n    </tr>\n  </thead>\n  <tbody>\n    <tr>\n      <th>0</th>\n      <td>1</td>\n      <td>1000013040008</td>\n      <td>01</td>\n      <td>1</td>\n      <td>2018-04-02</td>\n      <td>2015-10-05</td>\n      <td>静岡家庭裁判所</td>\n      <td>NaN</td>\n      <td>101</td>\n      <td>静岡県</td>\n      <td>静岡市葵区</td>\n      <td>城内町１−２０</td>\n      <td>NaN</td>\n      <td>22</td>\n      <td>101</td>\n      <td>4200854</td>\n      <td>NaN</td>\n      <td>NaN</td>\n      <td>NaN</td>\n      <td>NaN</td>\n      <td>NaN</td>\n      <td>NaN</td>\n      <td>2015-10-05</td>\n      <td>1</td>\n      <td>Shizuoka Family Court</td>\n      <td>Shizuoka</td>\n      <td>1-20, Jonaicho, Aoi ku, Shizuoka shi</td>\n      <td>NaN</td>\n      <td>シズオカカテイサイバンショ</td>\n      <td>0</td>\n      <td>新規</td>\n      <td>訂正</td>\n      <td>国の機関</td>\n      <td>NaN</td>\n      <td>最新情報</td>\n      <td>検索対象</td>\n      <td>静岡県静岡市葵区城内町１−２０</td>\n      <td>420</td>\n    </tr>\n    <tr>\n      <th>1</th>\n      <td>2</td>\n      <td>1000013050072</td>\n      <td>01</td>\n      <td>1</td>\n      <td>2018-04-02</td>\n      <td>2015-10-05</td>\n      <td>清水簡易裁判所</td>\n      <td>NaN</td>\n      <td>101</td>\n      <td>静岡県</td>\n      <td>静岡市清水区</td>\n      <td>天神１丁目６−１５</td>\n      <td>NaN</td>\n      <td>22</td>\n      <td>103</td>\n      <td>4240809</td>\n      <td>NaN</td>\n      <td>NaN</td>\n      <td>NaN</td>\n      <td>NaN</td>\n      <td>NaN</td>\n      <td>NaN</td>\n      <td>2015-10-05</td>\n      <td>1</td>\n      <td>Shimizu Summary Court</td>\n      <td>Shizuoka</td>\n      <td>1-6-15, Tenjin, Shimizu ku, Shizuoka shi</td>\n      <td>NaN</td>\n      <td>シミズカンイサイバンショ</td>\n      <td>0</td>\n      <td>新規</td>\n      <td>訂正</td>\n      <td>国の機関</td>\n      <td>NaN</td>\n      <td>最新情報</td>\n      <td>検索対象</td>\n      <td>静岡県静岡市清水区天神１丁目６−１５</td>\n      <td>424</td>\n    </tr>\n    <tr>\n      <th>2</th>\n      <td>3</td>\n      <td>1000013050080</td>\n      <td>01</td>\n      <td>1</td>\n      <td>2018-04-02</td>\n      <td>2015-10-05</td>\n      <td>浜松簡易裁判所</td>\n      <td>NaN</td>\n      <td>101</td>\n      <td>静岡県</td>\n      <td>浜松市中区</td>\n      <td>中央１丁目１２−５</td>\n      <td>NaN</td>\n      <td>22</td>\n      <td>131</td>\n      <td>4300929</td>\n      <td>NaN</td>\n      <td>NaN</td>\n      <td>NaN</td>\n      <td>NaN</td>\n      <td>NaN</td>\n      <td>NaN</td>\n      <td>2015-10-05</td>\n      <td>1</td>\n      <td>Hamamatsu Summary Court</td>\n      <td>Shizuoka</td>\n      <td>1-12-5, Chuo, Naka ku, Hamamatsu shi</td>\n      <td>NaN</td>\n      <td>ハママツカンイサイバンショ</td>\n      <td>0</td>\n      <td>新規</td>\n      <td>訂正</td>\n      <td>国の機関</td>\n      <td>NaN</td>\n      <td>最新情報</td>\n      <td>検索対象</td>\n      <td>静岡県浜松市中区中央１丁目１２−５</td>\n      <td>430</td>\n    </tr>\n  </tbody>\n</table>\n</div>"
     },
     "execution_count": 54,
     "metadata": {},
     "output_type": "execute_result"
    }
   ],
   "source": [
    "# 郵便番号７桁を前３桁と後４桁に分割\n",
    "\n",
    "# 郵便番号の前３桁を slice する\n",
    "data['postCode_head'] = data['postCode'].str[:3]\n",
    "print(data.columns.shape[0])\n",
    "data.head(3)"
   ],
   "metadata": {
    "collapsed": false,
    "pycharm": {
     "name": "#%%\n"
    }
   }
  },
  {
   "cell_type": "code",
   "execution_count": 55,
   "outputs": [
    {
     "name": "stdout",
     "output_type": "stream",
     "text": [
      "39\n"
     ]
    },
    {
     "data": {
      "text/plain": "  sequenceNumber corporateNumber process correct  updateDate  changeDate  \\\n0              1   1000013040008      01       1  2018-04-02  2015-10-05   \n1              2   1000013050072      01       1  2018-04-02  2015-10-05   \n2              3   1000013050080      01       1  2018-04-02  2015-10-05   \n\n      name nameImageId kind prefectureName cityName streetNumber  \\\n0  静岡家庭裁判所         NaN  101            静岡県    静岡市葵区      城内町１−２０   \n1  清水簡易裁判所         NaN  101            静岡県   静岡市清水区    天神１丁目６−１５   \n2  浜松簡易裁判所         NaN  101            静岡県    浜松市中区    中央１丁目１２−５   \n\n  addressImageId prefectureCode cityCode postCode addressOutside  \\\n0            NaN             22      101  4200854            NaN   \n1            NaN             22      103  4240809            NaN   \n2            NaN             22      131  4300929            NaN   \n\n  addressOutsideImageId closeDate closeCause successorCorporateNumber  \\\n0                   NaN       NaN        NaN                      NaN   \n1                   NaN       NaN        NaN                      NaN   \n2                   NaN       NaN        NaN                      NaN   \n\n  changeCause assignmentDate latest                   enName enPrefectureName  \\\n0         NaN     2015-10-05      1    Shizuoka Family Court         Shizuoka   \n1         NaN     2015-10-05      1    Shimizu Summary Court         Shizuoka   \n2         NaN     2015-10-05      1  Hamamatsu Summary Court         Shizuoka   \n\n                                 enCityName enAddressOutside       furigana  \\\n0      1-20, Jonaicho, Aoi ku, Shizuoka shi              NaN  シズオカカテイサイバンショ   \n1  1-6-15, Tenjin, Shimizu ku, Shizuoka shi              NaN   シミズカンイサイバンショ   \n2      1-12-5, Chuo, Naka ku, Hamamatsu shi              NaN  ハママツカンイサイバンショ   \n\n  hihyoji process_kbn_name correct_kbn_name corp_kind_name closeCause_name  \\\n0       0               新規               訂正           国の機関             NaN   \n1       0               新規               訂正           国の機関             NaN   \n2       0               新規               訂正           国の機関             NaN   \n\n  latest_name hihyoji_name             address postCode_head postCode_tail  \n0        最新情報         検索対象     静岡県静岡市葵区城内町１−２０           420          0854  \n1        最新情報         検索対象  静岡県静岡市清水区天神１丁目６−１５           424          0809  \n2        最新情報         検索対象   静岡県浜松市中区中央１丁目１２−５           430          0929  ",
      "text/html": "<div>\n<style scoped>\n    .dataframe tbody tr th:only-of-type {\n        vertical-align: middle;\n    }\n\n    .dataframe tbody tr th {\n        vertical-align: top;\n    }\n\n    .dataframe thead th {\n        text-align: right;\n    }\n</style>\n<table border=\"1\" class=\"dataframe\">\n  <thead>\n    <tr style=\"text-align: right;\">\n      <th></th>\n      <th>sequenceNumber</th>\n      <th>corporateNumber</th>\n      <th>process</th>\n      <th>correct</th>\n      <th>updateDate</th>\n      <th>changeDate</th>\n      <th>name</th>\n      <th>nameImageId</th>\n      <th>kind</th>\n      <th>prefectureName</th>\n      <th>cityName</th>\n      <th>streetNumber</th>\n      <th>addressImageId</th>\n      <th>prefectureCode</th>\n      <th>cityCode</th>\n      <th>postCode</th>\n      <th>addressOutside</th>\n      <th>addressOutsideImageId</th>\n      <th>closeDate</th>\n      <th>closeCause</th>\n      <th>successorCorporateNumber</th>\n      <th>changeCause</th>\n      <th>assignmentDate</th>\n      <th>latest</th>\n      <th>enName</th>\n      <th>enPrefectureName</th>\n      <th>enCityName</th>\n      <th>enAddressOutside</th>\n      <th>furigana</th>\n      <th>hihyoji</th>\n      <th>process_kbn_name</th>\n      <th>correct_kbn_name</th>\n      <th>corp_kind_name</th>\n      <th>closeCause_name</th>\n      <th>latest_name</th>\n      <th>hihyoji_name</th>\n      <th>address</th>\n      <th>postCode_head</th>\n      <th>postCode_tail</th>\n    </tr>\n  </thead>\n  <tbody>\n    <tr>\n      <th>0</th>\n      <td>1</td>\n      <td>1000013040008</td>\n      <td>01</td>\n      <td>1</td>\n      <td>2018-04-02</td>\n      <td>2015-10-05</td>\n      <td>静岡家庭裁判所</td>\n      <td>NaN</td>\n      <td>101</td>\n      <td>静岡県</td>\n      <td>静岡市葵区</td>\n      <td>城内町１−２０</td>\n      <td>NaN</td>\n      <td>22</td>\n      <td>101</td>\n      <td>4200854</td>\n      <td>NaN</td>\n      <td>NaN</td>\n      <td>NaN</td>\n      <td>NaN</td>\n      <td>NaN</td>\n      <td>NaN</td>\n      <td>2015-10-05</td>\n      <td>1</td>\n      <td>Shizuoka Family Court</td>\n      <td>Shizuoka</td>\n      <td>1-20, Jonaicho, Aoi ku, Shizuoka shi</td>\n      <td>NaN</td>\n      <td>シズオカカテイサイバンショ</td>\n      <td>0</td>\n      <td>新規</td>\n      <td>訂正</td>\n      <td>国の機関</td>\n      <td>NaN</td>\n      <td>最新情報</td>\n      <td>検索対象</td>\n      <td>静岡県静岡市葵区城内町１−２０</td>\n      <td>420</td>\n      <td>0854</td>\n    </tr>\n    <tr>\n      <th>1</th>\n      <td>2</td>\n      <td>1000013050072</td>\n      <td>01</td>\n      <td>1</td>\n      <td>2018-04-02</td>\n      <td>2015-10-05</td>\n      <td>清水簡易裁判所</td>\n      <td>NaN</td>\n      <td>101</td>\n      <td>静岡県</td>\n      <td>静岡市清水区</td>\n      <td>天神１丁目６−１５</td>\n      <td>NaN</td>\n      <td>22</td>\n      <td>103</td>\n      <td>4240809</td>\n      <td>NaN</td>\n      <td>NaN</td>\n      <td>NaN</td>\n      <td>NaN</td>\n      <td>NaN</td>\n      <td>NaN</td>\n      <td>2015-10-05</td>\n      <td>1</td>\n      <td>Shimizu Summary Court</td>\n      <td>Shizuoka</td>\n      <td>1-6-15, Tenjin, Shimizu ku, Shizuoka shi</td>\n      <td>NaN</td>\n      <td>シミズカンイサイバンショ</td>\n      <td>0</td>\n      <td>新規</td>\n      <td>訂正</td>\n      <td>国の機関</td>\n      <td>NaN</td>\n      <td>最新情報</td>\n      <td>検索対象</td>\n      <td>静岡県静岡市清水区天神１丁目６−１５</td>\n      <td>424</td>\n      <td>0809</td>\n    </tr>\n    <tr>\n      <th>2</th>\n      <td>3</td>\n      <td>1000013050080</td>\n      <td>01</td>\n      <td>1</td>\n      <td>2018-04-02</td>\n      <td>2015-10-05</td>\n      <td>浜松簡易裁判所</td>\n      <td>NaN</td>\n      <td>101</td>\n      <td>静岡県</td>\n      <td>浜松市中区</td>\n      <td>中央１丁目１２−５</td>\n      <td>NaN</td>\n      <td>22</td>\n      <td>131</td>\n      <td>4300929</td>\n      <td>NaN</td>\n      <td>NaN</td>\n      <td>NaN</td>\n      <td>NaN</td>\n      <td>NaN</td>\n      <td>NaN</td>\n      <td>2015-10-05</td>\n      <td>1</td>\n      <td>Hamamatsu Summary Court</td>\n      <td>Shizuoka</td>\n      <td>1-12-5, Chuo, Naka ku, Hamamatsu shi</td>\n      <td>NaN</td>\n      <td>ハママツカンイサイバンショ</td>\n      <td>0</td>\n      <td>新規</td>\n      <td>訂正</td>\n      <td>国の機関</td>\n      <td>NaN</td>\n      <td>最新情報</td>\n      <td>検索対象</td>\n      <td>静岡県浜松市中区中央１丁目１２−５</td>\n      <td>430</td>\n      <td>0929</td>\n    </tr>\n  </tbody>\n</table>\n</div>"
     },
     "execution_count": 55,
     "metadata": {},
     "output_type": "execute_result"
    }
   ],
   "source": [
    "# 郵便番号後４桁を slice する\n",
    "data['postCode_tail'] = data['postCode'].str[-4:]\n",
    "print(data.columns.shape[0])\n",
    "data.head(3)"
   ],
   "metadata": {
    "collapsed": false,
    "pycharm": {
     "name": "#%%\n"
    }
   }
  },
  {
   "cell_type": "markdown",
   "source": [
    "## 日付を加工しよう"
   ],
   "metadata": {
    "collapsed": false,
    "pycharm": {
     "name": "#%% md\n"
    }
   }
  },
  {
   "cell_type": "code",
   "execution_count": 56,
   "outputs": [
    {
     "ename": "TypeError",
     "evalue": "unsupported operand type(s) for -: 'str' and 'str'",
     "output_type": "error",
     "traceback": [
      "\u001B[0;31m---------------------------------------------------------------------------\u001B[0m",
      "\u001B[0;31mTypeError\u001B[0m                                 Traceback (most recent call last)",
      "File \u001B[0;32m~/.local/share/virtualenvs/100_Data_processing-visualization-7DmW-Elu/lib/python3.10/site-packages/pandas/core/ops/array_ops.py:163\u001B[0m, in \u001B[0;36m_na_arithmetic_op\u001B[0;34m(left, right, op, is_cmp)\u001B[0m\n\u001B[1;32m    162\u001B[0m \u001B[38;5;28;01mtry\u001B[39;00m:\n\u001B[0;32m--> 163\u001B[0m     result \u001B[38;5;241m=\u001B[39m \u001B[43mfunc\u001B[49m\u001B[43m(\u001B[49m\u001B[43mleft\u001B[49m\u001B[43m,\u001B[49m\u001B[43m \u001B[49m\u001B[43mright\u001B[49m\u001B[43m)\u001B[49m\n\u001B[1;32m    164\u001B[0m \u001B[38;5;28;01mexcept\u001B[39;00m \u001B[38;5;167;01mTypeError\u001B[39;00m:\n",
      "File \u001B[0;32m~/.local/share/virtualenvs/100_Data_processing-visualization-7DmW-Elu/lib/python3.10/site-packages/pandas/core/computation/expressions.py:239\u001B[0m, in \u001B[0;36mevaluate\u001B[0;34m(op, a, b, use_numexpr)\u001B[0m\n\u001B[1;32m    237\u001B[0m     \u001B[38;5;28;01mif\u001B[39;00m use_numexpr:\n\u001B[1;32m    238\u001B[0m         \u001B[38;5;66;03m# error: \"None\" not callable\u001B[39;00m\n\u001B[0;32m--> 239\u001B[0m         \u001B[38;5;28;01mreturn\u001B[39;00m \u001B[43m_evaluate\u001B[49m\u001B[43m(\u001B[49m\u001B[43mop\u001B[49m\u001B[43m,\u001B[49m\u001B[43m \u001B[49m\u001B[43mop_str\u001B[49m\u001B[43m,\u001B[49m\u001B[43m \u001B[49m\u001B[43ma\u001B[49m\u001B[43m,\u001B[49m\u001B[43m \u001B[49m\u001B[43mb\u001B[49m\u001B[43m)\u001B[49m  \u001B[38;5;66;03m# type: ignore[misc]\u001B[39;00m\n\u001B[1;32m    240\u001B[0m \u001B[38;5;28;01mreturn\u001B[39;00m _evaluate_standard(op, op_str, a, b)\n",
      "File \u001B[0;32m~/.local/share/virtualenvs/100_Data_processing-visualization-7DmW-Elu/lib/python3.10/site-packages/pandas/core/computation/expressions.py:69\u001B[0m, in \u001B[0;36m_evaluate_standard\u001B[0;34m(op, op_str, a, b)\u001B[0m\n\u001B[1;32m     68\u001B[0m     _store_test_result(\u001B[38;5;28;01mFalse\u001B[39;00m)\n\u001B[0;32m---> 69\u001B[0m \u001B[38;5;28;01mreturn\u001B[39;00m \u001B[43mop\u001B[49m\u001B[43m(\u001B[49m\u001B[43ma\u001B[49m\u001B[43m,\u001B[49m\u001B[43m \u001B[49m\u001B[43mb\u001B[49m\u001B[43m)\u001B[49m\n",
      "\u001B[0;31mTypeError\u001B[0m: unsupported operand type(s) for -: 'float' and 'str'",
      "\nDuring handling of the above exception, another exception occurred:\n",
      "\u001B[0;31mTypeError\u001B[0m                                 Traceback (most recent call last)",
      "Input \u001B[0;32mIn [56]\u001B[0m, in \u001B[0;36m<cell line: 2>\u001B[0;34m()\u001B[0m\n\u001B[1;32m      1\u001B[0m \u001B[38;5;66;03m# 日付項目を計算してみる\u001B[39;00m\n\u001B[0;32m----> 2\u001B[0m \u001B[43mdata\u001B[49m\u001B[43m[\u001B[49m\u001B[38;5;124;43m'\u001B[39;49m\u001B[38;5;124;43mcloseDate\u001B[39;49m\u001B[38;5;124;43m'\u001B[39;49m\u001B[43m]\u001B[49m\u001B[43m \u001B[49m\u001B[38;5;241;43m-\u001B[39;49m\u001B[43m \u001B[49m\u001B[43mdata\u001B[49m\u001B[43m[\u001B[49m\u001B[38;5;124;43m'\u001B[39;49m\u001B[38;5;124;43massignmentDate\u001B[39;49m\u001B[38;5;124;43m'\u001B[39;49m\u001B[43m]\u001B[49m\n",
      "File \u001B[0;32m~/.local/share/virtualenvs/100_Data_processing-visualization-7DmW-Elu/lib/python3.10/site-packages/pandas/core/ops/common.py:70\u001B[0m, in \u001B[0;36m_unpack_zerodim_and_defer.<locals>.new_method\u001B[0;34m(self, other)\u001B[0m\n\u001B[1;32m     66\u001B[0m             \u001B[38;5;28;01mreturn\u001B[39;00m \u001B[38;5;28mNotImplemented\u001B[39m\n\u001B[1;32m     68\u001B[0m other \u001B[38;5;241m=\u001B[39m item_from_zerodim(other)\n\u001B[0;32m---> 70\u001B[0m \u001B[38;5;28;01mreturn\u001B[39;00m \u001B[43mmethod\u001B[49m\u001B[43m(\u001B[49m\u001B[38;5;28;43mself\u001B[39;49m\u001B[43m,\u001B[49m\u001B[43m \u001B[49m\u001B[43mother\u001B[49m\u001B[43m)\u001B[49m\n",
      "File \u001B[0;32m~/.local/share/virtualenvs/100_Data_processing-visualization-7DmW-Elu/lib/python3.10/site-packages/pandas/core/arraylike.py:108\u001B[0m, in \u001B[0;36mOpsMixin.__sub__\u001B[0;34m(self, other)\u001B[0m\n\u001B[1;32m    106\u001B[0m \u001B[38;5;129m@unpack_zerodim_and_defer\u001B[39m(\u001B[38;5;124m\"\u001B[39m\u001B[38;5;124m__sub__\u001B[39m\u001B[38;5;124m\"\u001B[39m)\n\u001B[1;32m    107\u001B[0m \u001B[38;5;28;01mdef\u001B[39;00m \u001B[38;5;21m__sub__\u001B[39m(\u001B[38;5;28mself\u001B[39m, other):\n\u001B[0;32m--> 108\u001B[0m     \u001B[38;5;28;01mreturn\u001B[39;00m \u001B[38;5;28;43mself\u001B[39;49m\u001B[38;5;241;43m.\u001B[39;49m\u001B[43m_arith_method\u001B[49m\u001B[43m(\u001B[49m\u001B[43mother\u001B[49m\u001B[43m,\u001B[49m\u001B[43m \u001B[49m\u001B[43moperator\u001B[49m\u001B[38;5;241;43m.\u001B[39;49m\u001B[43msub\u001B[49m\u001B[43m)\u001B[49m\n",
      "File \u001B[0;32m~/.local/share/virtualenvs/100_Data_processing-visualization-7DmW-Elu/lib/python3.10/site-packages/pandas/core/series.py:5639\u001B[0m, in \u001B[0;36mSeries._arith_method\u001B[0;34m(self, other, op)\u001B[0m\n\u001B[1;32m   5637\u001B[0m \u001B[38;5;28;01mdef\u001B[39;00m \u001B[38;5;21m_arith_method\u001B[39m(\u001B[38;5;28mself\u001B[39m, other, op):\n\u001B[1;32m   5638\u001B[0m     \u001B[38;5;28mself\u001B[39m, other \u001B[38;5;241m=\u001B[39m ops\u001B[38;5;241m.\u001B[39malign_method_SERIES(\u001B[38;5;28mself\u001B[39m, other)\n\u001B[0;32m-> 5639\u001B[0m     \u001B[38;5;28;01mreturn\u001B[39;00m \u001B[43mbase\u001B[49m\u001B[38;5;241;43m.\u001B[39;49m\u001B[43mIndexOpsMixin\u001B[49m\u001B[38;5;241;43m.\u001B[39;49m\u001B[43m_arith_method\u001B[49m\u001B[43m(\u001B[49m\u001B[38;5;28;43mself\u001B[39;49m\u001B[43m,\u001B[49m\u001B[43m \u001B[49m\u001B[43mother\u001B[49m\u001B[43m,\u001B[49m\u001B[43m \u001B[49m\u001B[43mop\u001B[49m\u001B[43m)\u001B[49m\n",
      "File \u001B[0;32m~/.local/share/virtualenvs/100_Data_processing-visualization-7DmW-Elu/lib/python3.10/site-packages/pandas/core/base.py:1295\u001B[0m, in \u001B[0;36mIndexOpsMixin._arith_method\u001B[0;34m(self, other, op)\u001B[0m\n\u001B[1;32m   1292\u001B[0m rvalues \u001B[38;5;241m=\u001B[39m ensure_wrapped_if_datetimelike(rvalues)\n\u001B[1;32m   1294\u001B[0m \u001B[38;5;28;01mwith\u001B[39;00m np\u001B[38;5;241m.\u001B[39merrstate(\u001B[38;5;28mall\u001B[39m\u001B[38;5;241m=\u001B[39m\u001B[38;5;124m\"\u001B[39m\u001B[38;5;124mignore\u001B[39m\u001B[38;5;124m\"\u001B[39m):\n\u001B[0;32m-> 1295\u001B[0m     result \u001B[38;5;241m=\u001B[39m \u001B[43mops\u001B[49m\u001B[38;5;241;43m.\u001B[39;49m\u001B[43marithmetic_op\u001B[49m\u001B[43m(\u001B[49m\u001B[43mlvalues\u001B[49m\u001B[43m,\u001B[49m\u001B[43m \u001B[49m\u001B[43mrvalues\u001B[49m\u001B[43m,\u001B[49m\u001B[43m \u001B[49m\u001B[43mop\u001B[49m\u001B[43m)\u001B[49m\n\u001B[1;32m   1297\u001B[0m \u001B[38;5;28;01mreturn\u001B[39;00m \u001B[38;5;28mself\u001B[39m\u001B[38;5;241m.\u001B[39m_construct_result(result, name\u001B[38;5;241m=\u001B[39mres_name)\n",
      "File \u001B[0;32m~/.local/share/virtualenvs/100_Data_processing-visualization-7DmW-Elu/lib/python3.10/site-packages/pandas/core/ops/array_ops.py:222\u001B[0m, in \u001B[0;36marithmetic_op\u001B[0;34m(left, right, op)\u001B[0m\n\u001B[1;32m    217\u001B[0m \u001B[38;5;28;01melse\u001B[39;00m:\n\u001B[1;32m    218\u001B[0m     \u001B[38;5;66;03m# TODO we should handle EAs consistently and move this check before the if/else\u001B[39;00m\n\u001B[1;32m    219\u001B[0m     \u001B[38;5;66;03m# (https://github.com/pandas-dev/pandas/issues/41165)\u001B[39;00m\n\u001B[1;32m    220\u001B[0m     _bool_arith_check(op, left, right)\n\u001B[0;32m--> 222\u001B[0m     res_values \u001B[38;5;241m=\u001B[39m \u001B[43m_na_arithmetic_op\u001B[49m\u001B[43m(\u001B[49m\u001B[43mleft\u001B[49m\u001B[43m,\u001B[49m\u001B[43m \u001B[49m\u001B[43mright\u001B[49m\u001B[43m,\u001B[49m\u001B[43m \u001B[49m\u001B[43mop\u001B[49m\u001B[43m)\u001B[49m\n\u001B[1;32m    224\u001B[0m \u001B[38;5;28;01mreturn\u001B[39;00m res_values\n",
      "File \u001B[0;32m~/.local/share/virtualenvs/100_Data_processing-visualization-7DmW-Elu/lib/python3.10/site-packages/pandas/core/ops/array_ops.py:170\u001B[0m, in \u001B[0;36m_na_arithmetic_op\u001B[0;34m(left, right, op, is_cmp)\u001B[0m\n\u001B[1;32m    164\u001B[0m \u001B[38;5;28;01mexcept\u001B[39;00m \u001B[38;5;167;01mTypeError\u001B[39;00m:\n\u001B[1;32m    165\u001B[0m     \u001B[38;5;28;01mif\u001B[39;00m \u001B[38;5;129;01mnot\u001B[39;00m is_cmp \u001B[38;5;129;01mand\u001B[39;00m (is_object_dtype(left\u001B[38;5;241m.\u001B[39mdtype) \u001B[38;5;129;01mor\u001B[39;00m is_object_dtype(right)):\n\u001B[1;32m    166\u001B[0m         \u001B[38;5;66;03m# For object dtype, fallback to a masked operation (only operating\u001B[39;00m\n\u001B[1;32m    167\u001B[0m         \u001B[38;5;66;03m#  on the non-missing values)\u001B[39;00m\n\u001B[1;32m    168\u001B[0m         \u001B[38;5;66;03m# Don't do this for comparisons, as that will handle complex numbers\u001B[39;00m\n\u001B[1;32m    169\u001B[0m         \u001B[38;5;66;03m#  incorrectly, see GH#32047\u001B[39;00m\n\u001B[0;32m--> 170\u001B[0m         result \u001B[38;5;241m=\u001B[39m \u001B[43m_masked_arith_op\u001B[49m\u001B[43m(\u001B[49m\u001B[43mleft\u001B[49m\u001B[43m,\u001B[49m\u001B[43m \u001B[49m\u001B[43mright\u001B[49m\u001B[43m,\u001B[49m\u001B[43m \u001B[49m\u001B[43mop\u001B[49m\u001B[43m)\u001B[49m\n\u001B[1;32m    171\u001B[0m     \u001B[38;5;28;01melse\u001B[39;00m:\n\u001B[1;32m    172\u001B[0m         \u001B[38;5;28;01mraise\u001B[39;00m\n",
      "File \u001B[0;32m~/.local/share/virtualenvs/100_Data_processing-visualization-7DmW-Elu/lib/python3.10/site-packages/pandas/core/ops/array_ops.py:108\u001B[0m, in \u001B[0;36m_masked_arith_op\u001B[0;34m(x, y, op)\u001B[0m\n\u001B[1;32m    106\u001B[0m     \u001B[38;5;66;03m# See GH#5284, GH#5035, GH#19448 for historical reference\u001B[39;00m\n\u001B[1;32m    107\u001B[0m     \u001B[38;5;28;01mif\u001B[39;00m mask\u001B[38;5;241m.\u001B[39many():\n\u001B[0;32m--> 108\u001B[0m         result[mask] \u001B[38;5;241m=\u001B[39m \u001B[43mop\u001B[49m\u001B[43m(\u001B[49m\u001B[43mxrav\u001B[49m\u001B[43m[\u001B[49m\u001B[43mmask\u001B[49m\u001B[43m]\u001B[49m\u001B[43m,\u001B[49m\u001B[43m \u001B[49m\u001B[43myrav\u001B[49m\u001B[43m[\u001B[49m\u001B[43mmask\u001B[49m\u001B[43m]\u001B[49m\u001B[43m)\u001B[49m\n\u001B[1;32m    110\u001B[0m \u001B[38;5;28;01melse\u001B[39;00m:\n\u001B[1;32m    111\u001B[0m     \u001B[38;5;28;01mif\u001B[39;00m \u001B[38;5;129;01mnot\u001B[39;00m is_scalar(y):\n",
      "\u001B[0;31mTypeError\u001B[0m: unsupported operand type(s) for -: 'str' and 'str'"
     ]
    }
   ],
   "source": [
    "# 日付項目を計算してみる\n",
    "data['closeDate'] - data['assignmentDate']"
   ],
   "metadata": {
    "collapsed": false,
    "pycharm": {
     "name": "#%%\n"
    }
   }
  },
  {
   "cell_type": "code",
   "source": [
    "# １項目だけ日時型に変換\n",
    "tmp = pd.to_datetime(data['closeDate'])\n",
    "tmp.dtypes"
   ],
   "metadata": {
    "collapsed": false,
    "pycharm": {
     "name": "#%%\n"
    }
   },
   "execution_count": 57,
   "outputs": [
    {
     "data": {
      "text/plain": "dtype('<M8[ns]')"
     },
     "execution_count": 57,
     "metadata": {},
     "output_type": "execute_result"
    }
   ]
  },
  {
   "cell_type": "code",
   "execution_count": 58,
   "outputs": [],
   "source": [
    "# ４つの日付項目を繰り返し処理で型変換\n",
    "dt_columns = ['updateDate', 'changeDate', 'closeDate', 'assignmentDate']\n",
    "for col in dt_columns:\n",
    "    data[col] = pd.to_datetime(data[col])"
   ],
   "metadata": {
    "collapsed": false,
    "pycharm": {
     "name": "#%%\n"
    }
   }
  },
  {
   "cell_type": "code",
   "execution_count": 59,
   "outputs": [
    {
     "data": {
      "text/plain": "sequenceNumber                      object\ncorporateNumber                     object\nprocess                             object\ncorrect                             object\nupdateDate                  datetime64[ns]\nchangeDate                  datetime64[ns]\nname                                object\nnameImageId                         object\nkind                                object\nprefectureName                      object\ncityName                            object\nstreetNumber                        object\naddressImageId                      object\nprefectureCode                      object\ncityCode                            object\npostCode                            object\naddressOutside                      object\naddressOutsideImageId               object\ncloseDate                   datetime64[ns]\ncloseCause                          object\nsuccessorCorporateNumber            object\nchangeCause                         object\nassignmentDate              datetime64[ns]\nlatest                              object\nenName                              object\nenPrefectureName                    object\nenCityName                          object\nenAddressOutside                    object\nfurigana                            object\nhihyoji                             object\nprocess_kbn_name                    object\ncorrect_kbn_name                    object\ncorp_kind_name                      object\ncloseCause_name                     object\nlatest_name                         object\nhihyoji_name                        object\naddress                             object\npostCode_head                       object\npostCode_tail                       object\ndtype: object"
     },
     "metadata": {},
     "output_type": "display_data"
    }
   ],
   "source": [
    "# 各項目の型を確認\n",
    "display(data.dtypes)"
   ],
   "metadata": {
    "collapsed": false,
    "pycharm": {
     "name": "#%%\n"
    }
   }
  },
  {
   "cell_type": "code",
   "execution_count": 60,
   "outputs": [
    {
     "name": "stdout",
     "output_type": "stream",
     "text": [
      "40\n"
     ]
    },
    {
     "data": {
      "text/plain": "  sequenceNumber corporateNumber process correct updateDate changeDate  \\\n0              1   1000013040008      01       1 2018-04-02 2015-10-05   \n1              2   1000013050072      01       1 2018-04-02 2015-10-05   \n2              3   1000013050080      01       1 2018-04-02 2015-10-05   \n\n      name nameImageId kind prefectureName cityName streetNumber  \\\n0  静岡家庭裁判所         NaN  101            静岡県    静岡市葵区      城内町１−２０   \n1  清水簡易裁判所         NaN  101            静岡県   静岡市清水区    天神１丁目６−１５   \n2  浜松簡易裁判所         NaN  101            静岡県    浜松市中区    中央１丁目１２−５   \n\n  addressImageId prefectureCode cityCode postCode addressOutside  \\\n0            NaN             22      101  4200854            NaN   \n1            NaN             22      103  4240809            NaN   \n2            NaN             22      131  4300929            NaN   \n\n  addressOutsideImageId closeDate closeCause successorCorporateNumber  \\\n0                   NaN       NaT        NaN                      NaN   \n1                   NaN       NaT        NaN                      NaN   \n2                   NaN       NaT        NaN                      NaN   \n\n  changeCause assignmentDate latest                   enName enPrefectureName  \\\n0         NaN     2015-10-05      1    Shizuoka Family Court         Shizuoka   \n1         NaN     2015-10-05      1    Shimizu Summary Court         Shizuoka   \n2         NaN     2015-10-05      1  Hamamatsu Summary Court         Shizuoka   \n\n                                 enCityName enAddressOutside       furigana  \\\n0      1-20, Jonaicho, Aoi ku, Shizuoka shi              NaN  シズオカカテイサイバンショ   \n1  1-6-15, Tenjin, Shimizu ku, Shizuoka shi              NaN   シミズカンイサイバンショ   \n2      1-12-5, Chuo, Naka ku, Hamamatsu shi              NaN  ハママツカンイサイバンショ   \n\n  hihyoji process_kbn_name correct_kbn_name corp_kind_name closeCause_name  \\\n0       0               新規               訂正           国の機関             NaN   \n1       0               新規               訂正           国の機関             NaN   \n2       0               新規               訂正           国の機関             NaN   \n\n  latest_name hihyoji_name             address postCode_head postCode_tail  \\\n0        最新情報         検索対象     静岡県静岡市葵区城内町１−２０           420          0854   \n1        最新情報         検索対象  静岡県静岡市清水区天神１丁目６−１５           424          0809   \n2        最新情報         検索対象   静岡県浜松市中区中央１丁目１２−５           430          0929   \n\n  corporate_life  \n0            NaT  \n1            NaT  \n2            NaT  ",
      "text/html": "<div>\n<style scoped>\n    .dataframe tbody tr th:only-of-type {\n        vertical-align: middle;\n    }\n\n    .dataframe tbody tr th {\n        vertical-align: top;\n    }\n\n    .dataframe thead th {\n        text-align: right;\n    }\n</style>\n<table border=\"1\" class=\"dataframe\">\n  <thead>\n    <tr style=\"text-align: right;\">\n      <th></th>\n      <th>sequenceNumber</th>\n      <th>corporateNumber</th>\n      <th>process</th>\n      <th>correct</th>\n      <th>updateDate</th>\n      <th>changeDate</th>\n      <th>name</th>\n      <th>nameImageId</th>\n      <th>kind</th>\n      <th>prefectureName</th>\n      <th>cityName</th>\n      <th>streetNumber</th>\n      <th>addressImageId</th>\n      <th>prefectureCode</th>\n      <th>cityCode</th>\n      <th>postCode</th>\n      <th>addressOutside</th>\n      <th>addressOutsideImageId</th>\n      <th>closeDate</th>\n      <th>closeCause</th>\n      <th>successorCorporateNumber</th>\n      <th>changeCause</th>\n      <th>assignmentDate</th>\n      <th>latest</th>\n      <th>enName</th>\n      <th>enPrefectureName</th>\n      <th>enCityName</th>\n      <th>enAddressOutside</th>\n      <th>furigana</th>\n      <th>hihyoji</th>\n      <th>process_kbn_name</th>\n      <th>correct_kbn_name</th>\n      <th>corp_kind_name</th>\n      <th>closeCause_name</th>\n      <th>latest_name</th>\n      <th>hihyoji_name</th>\n      <th>address</th>\n      <th>postCode_head</th>\n      <th>postCode_tail</th>\n      <th>corporate_life</th>\n    </tr>\n  </thead>\n  <tbody>\n    <tr>\n      <th>0</th>\n      <td>1</td>\n      <td>1000013040008</td>\n      <td>01</td>\n      <td>1</td>\n      <td>2018-04-02</td>\n      <td>2015-10-05</td>\n      <td>静岡家庭裁判所</td>\n      <td>NaN</td>\n      <td>101</td>\n      <td>静岡県</td>\n      <td>静岡市葵区</td>\n      <td>城内町１−２０</td>\n      <td>NaN</td>\n      <td>22</td>\n      <td>101</td>\n      <td>4200854</td>\n      <td>NaN</td>\n      <td>NaN</td>\n      <td>NaT</td>\n      <td>NaN</td>\n      <td>NaN</td>\n      <td>NaN</td>\n      <td>2015-10-05</td>\n      <td>1</td>\n      <td>Shizuoka Family Court</td>\n      <td>Shizuoka</td>\n      <td>1-20, Jonaicho, Aoi ku, Shizuoka shi</td>\n      <td>NaN</td>\n      <td>シズオカカテイサイバンショ</td>\n      <td>0</td>\n      <td>新規</td>\n      <td>訂正</td>\n      <td>国の機関</td>\n      <td>NaN</td>\n      <td>最新情報</td>\n      <td>検索対象</td>\n      <td>静岡県静岡市葵区城内町１−２０</td>\n      <td>420</td>\n      <td>0854</td>\n      <td>NaT</td>\n    </tr>\n    <tr>\n      <th>1</th>\n      <td>2</td>\n      <td>1000013050072</td>\n      <td>01</td>\n      <td>1</td>\n      <td>2018-04-02</td>\n      <td>2015-10-05</td>\n      <td>清水簡易裁判所</td>\n      <td>NaN</td>\n      <td>101</td>\n      <td>静岡県</td>\n      <td>静岡市清水区</td>\n      <td>天神１丁目６−１５</td>\n      <td>NaN</td>\n      <td>22</td>\n      <td>103</td>\n      <td>4240809</td>\n      <td>NaN</td>\n      <td>NaN</td>\n      <td>NaT</td>\n      <td>NaN</td>\n      <td>NaN</td>\n      <td>NaN</td>\n      <td>2015-10-05</td>\n      <td>1</td>\n      <td>Shimizu Summary Court</td>\n      <td>Shizuoka</td>\n      <td>1-6-15, Tenjin, Shimizu ku, Shizuoka shi</td>\n      <td>NaN</td>\n      <td>シミズカンイサイバンショ</td>\n      <td>0</td>\n      <td>新規</td>\n      <td>訂正</td>\n      <td>国の機関</td>\n      <td>NaN</td>\n      <td>最新情報</td>\n      <td>検索対象</td>\n      <td>静岡県静岡市清水区天神１丁目６−１５</td>\n      <td>424</td>\n      <td>0809</td>\n      <td>NaT</td>\n    </tr>\n    <tr>\n      <th>2</th>\n      <td>3</td>\n      <td>1000013050080</td>\n      <td>01</td>\n      <td>1</td>\n      <td>2018-04-02</td>\n      <td>2015-10-05</td>\n      <td>浜松簡易裁判所</td>\n      <td>NaN</td>\n      <td>101</td>\n      <td>静岡県</td>\n      <td>浜松市中区</td>\n      <td>中央１丁目１２−５</td>\n      <td>NaN</td>\n      <td>22</td>\n      <td>131</td>\n      <td>4300929</td>\n      <td>NaN</td>\n      <td>NaN</td>\n      <td>NaT</td>\n      <td>NaN</td>\n      <td>NaN</td>\n      <td>NaN</td>\n      <td>2015-10-05</td>\n      <td>1</td>\n      <td>Hamamatsu Summary Court</td>\n      <td>Shizuoka</td>\n      <td>1-12-5, Chuo, Naka ku, Hamamatsu shi</td>\n      <td>NaN</td>\n      <td>ハママツカンイサイバンショ</td>\n      <td>0</td>\n      <td>新規</td>\n      <td>訂正</td>\n      <td>国の機関</td>\n      <td>NaN</td>\n      <td>最新情報</td>\n      <td>検索対象</td>\n      <td>静岡県浜松市中区中央１丁目１２−５</td>\n      <td>430</td>\n      <td>0929</td>\n      <td>NaT</td>\n    </tr>\n  </tbody>\n</table>\n</div>"
     },
     "execution_count": 60,
     "metadata": {},
     "output_type": "execute_result"
    }
   ],
   "source": [
    "# 日付の計算、再び\n",
    "data['corporate_life'] = data['closeDate'] - data['assignmentDate']\n",
    "print(data.columns.shape[0])\n",
    "data.head(3)"
   ],
   "metadata": {
    "collapsed": false,
    "pycharm": {
     "name": "#%%\n"
    }
   }
  },
  {
   "cell_type": "markdown",
   "source": [
    "NaT が設定 = 計算に使用した日付項目のどちらかが欠損値であった。"
   ],
   "metadata": {
    "collapsed": false,
    "pycharm": {
     "name": "#%% md\n"
    }
   }
  },
  {
   "cell_type": "code",
   "execution_count": 61,
   "outputs": [
    {
     "name": "stdout",
     "output_type": "stream",
     "text": [
      "10108\n"
     ]
    },
    {
     "data": {
      "text/plain": "   sequenceNumber corporateNumber process correct updateDate changeDate  \\\n32             33   1010001102636      21       0 2021-02-08 2021-02-02   \n37             38   1010001144901      21       0 2020-11-10 2020-11-05   \n38             39   1010001148290      21       0 2018-03-13 2018-03-07   \n\n                name nameImageId kind prefectureName cityName  streetNumber  \\\n32         Ｈ・Ｍ・Ｃ株式会社         NaN  301            静岡県   駿東郡長泉町  東野字八分平５１５番９１   \n37    エス・ジー・トラスト株式会社         NaN  301            静岡県   駿東郡長泉町  東野字八分平５１５番９１   \n38  株式会社秀地ゴルフマネージメント         NaN  301            静岡県   駿東郡小山町       須走４９３番地   \n\n   addressImageId prefectureCode cityCode postCode addressOutside  \\\n32            NaN             22      342  4110931            NaN   \n37            NaN             22      342  4110931            NaN   \n38            NaN             22      344  4101431            NaN   \n\n   addressOutsideImageId  closeDate closeCause successorCorporateNumber  \\\n32                   NaN 2021-02-02         11            2010001013246   \n37                   NaN 2020-11-05         11            3010001012593   \n38                   NaN 2018-03-07         11            2011101044783   \n\n                                          changeCause assignmentDate latest  \\\n32  令和３年２月１日静岡県駿東郡長泉町東野字八分平５１５番９１オーシーインベストメント株式会社（...     2015-10-05      1   \n37  令和２年１１月１日静岡県駿東郡長泉町東野字八分平５１５番９１エム・ケー・シー株式会社（301...     2015-10-05      1   \n38  平成３０年３月１日東京都新宿区舟町１番地シティータワー四谷２１０３株式会社秀地コーポレーショ...     2015-10-05      1   \n\n   enName enPrefectureName enCityName enAddressOutside  furigana hihyoji  \\\n32    NaN              NaN        NaN              NaN   エイチエムシー       0   \n37    NaN              NaN        NaN              NaN  エスジートラスト       0   \n38    NaN              NaN        NaN              NaN       NaN       0   \n\n   process_kbn_name correct_kbn_name corp_kind_name closeCause_name  \\\n32         登記記録の閉鎖等             訂正以外           株式会社        合併による解散等   \n37         登記記録の閉鎖等             訂正以外           株式会社        合併による解散等   \n38         登記記録の閉鎖等             訂正以外           株式会社        合併による解散等   \n\n   latest_name hihyoji_name                address postCode_head  \\\n32        最新情報         検索対象  静岡県駿東郡長泉町東野字八分平５１５番９１           411   \n37        最新情報         検索対象  静岡県駿東郡長泉町東野字八分平５１５番９１           411   \n38        最新情報         検索対象       静岡県駿東郡小山町須走４９３番地           410   \n\n   postCode_tail corporate_life  \n32          0931      1947 days  \n37          0931      1858 days  \n38          1431       884 days  ",
      "text/html": "<div>\n<style scoped>\n    .dataframe tbody tr th:only-of-type {\n        vertical-align: middle;\n    }\n\n    .dataframe tbody tr th {\n        vertical-align: top;\n    }\n\n    .dataframe thead th {\n        text-align: right;\n    }\n</style>\n<table border=\"1\" class=\"dataframe\">\n  <thead>\n    <tr style=\"text-align: right;\">\n      <th></th>\n      <th>sequenceNumber</th>\n      <th>corporateNumber</th>\n      <th>process</th>\n      <th>correct</th>\n      <th>updateDate</th>\n      <th>changeDate</th>\n      <th>name</th>\n      <th>nameImageId</th>\n      <th>kind</th>\n      <th>prefectureName</th>\n      <th>cityName</th>\n      <th>streetNumber</th>\n      <th>addressImageId</th>\n      <th>prefectureCode</th>\n      <th>cityCode</th>\n      <th>postCode</th>\n      <th>addressOutside</th>\n      <th>addressOutsideImageId</th>\n      <th>closeDate</th>\n      <th>closeCause</th>\n      <th>successorCorporateNumber</th>\n      <th>changeCause</th>\n      <th>assignmentDate</th>\n      <th>latest</th>\n      <th>enName</th>\n      <th>enPrefectureName</th>\n      <th>enCityName</th>\n      <th>enAddressOutside</th>\n      <th>furigana</th>\n      <th>hihyoji</th>\n      <th>process_kbn_name</th>\n      <th>correct_kbn_name</th>\n      <th>corp_kind_name</th>\n      <th>closeCause_name</th>\n      <th>latest_name</th>\n      <th>hihyoji_name</th>\n      <th>address</th>\n      <th>postCode_head</th>\n      <th>postCode_tail</th>\n      <th>corporate_life</th>\n    </tr>\n  </thead>\n  <tbody>\n    <tr>\n      <th>32</th>\n      <td>33</td>\n      <td>1010001102636</td>\n      <td>21</td>\n      <td>0</td>\n      <td>2021-02-08</td>\n      <td>2021-02-02</td>\n      <td>Ｈ・Ｍ・Ｃ株式会社</td>\n      <td>NaN</td>\n      <td>301</td>\n      <td>静岡県</td>\n      <td>駿東郡長泉町</td>\n      <td>東野字八分平５１５番９１</td>\n      <td>NaN</td>\n      <td>22</td>\n      <td>342</td>\n      <td>4110931</td>\n      <td>NaN</td>\n      <td>NaN</td>\n      <td>2021-02-02</td>\n      <td>11</td>\n      <td>2010001013246</td>\n      <td>令和３年２月１日静岡県駿東郡長泉町東野字八分平５１５番９１オーシーインベストメント株式会社（...</td>\n      <td>2015-10-05</td>\n      <td>1</td>\n      <td>NaN</td>\n      <td>NaN</td>\n      <td>NaN</td>\n      <td>NaN</td>\n      <td>エイチエムシー</td>\n      <td>0</td>\n      <td>登記記録の閉鎖等</td>\n      <td>訂正以外</td>\n      <td>株式会社</td>\n      <td>合併による解散等</td>\n      <td>最新情報</td>\n      <td>検索対象</td>\n      <td>静岡県駿東郡長泉町東野字八分平５１５番９１</td>\n      <td>411</td>\n      <td>0931</td>\n      <td>1947 days</td>\n    </tr>\n    <tr>\n      <th>37</th>\n      <td>38</td>\n      <td>1010001144901</td>\n      <td>21</td>\n      <td>0</td>\n      <td>2020-11-10</td>\n      <td>2020-11-05</td>\n      <td>エス・ジー・トラスト株式会社</td>\n      <td>NaN</td>\n      <td>301</td>\n      <td>静岡県</td>\n      <td>駿東郡長泉町</td>\n      <td>東野字八分平５１５番９１</td>\n      <td>NaN</td>\n      <td>22</td>\n      <td>342</td>\n      <td>4110931</td>\n      <td>NaN</td>\n      <td>NaN</td>\n      <td>2020-11-05</td>\n      <td>11</td>\n      <td>3010001012593</td>\n      <td>令和２年１１月１日静岡県駿東郡長泉町東野字八分平５１５番９１エム・ケー・シー株式会社（301...</td>\n      <td>2015-10-05</td>\n      <td>1</td>\n      <td>NaN</td>\n      <td>NaN</td>\n      <td>NaN</td>\n      <td>NaN</td>\n      <td>エスジートラスト</td>\n      <td>0</td>\n      <td>登記記録の閉鎖等</td>\n      <td>訂正以外</td>\n      <td>株式会社</td>\n      <td>合併による解散等</td>\n      <td>最新情報</td>\n      <td>検索対象</td>\n      <td>静岡県駿東郡長泉町東野字八分平５１５番９１</td>\n      <td>411</td>\n      <td>0931</td>\n      <td>1858 days</td>\n    </tr>\n    <tr>\n      <th>38</th>\n      <td>39</td>\n      <td>1010001148290</td>\n      <td>21</td>\n      <td>0</td>\n      <td>2018-03-13</td>\n      <td>2018-03-07</td>\n      <td>株式会社秀地ゴルフマネージメント</td>\n      <td>NaN</td>\n      <td>301</td>\n      <td>静岡県</td>\n      <td>駿東郡小山町</td>\n      <td>須走４９３番地</td>\n      <td>NaN</td>\n      <td>22</td>\n      <td>344</td>\n      <td>4101431</td>\n      <td>NaN</td>\n      <td>NaN</td>\n      <td>2018-03-07</td>\n      <td>11</td>\n      <td>2011101044783</td>\n      <td>平成３０年３月１日東京都新宿区舟町１番地シティータワー四谷２１０３株式会社秀地コーポレーショ...</td>\n      <td>2015-10-05</td>\n      <td>1</td>\n      <td>NaN</td>\n      <td>NaN</td>\n      <td>NaN</td>\n      <td>NaN</td>\n      <td>NaN</td>\n      <td>0</td>\n      <td>登記記録の閉鎖等</td>\n      <td>訂正以外</td>\n      <td>株式会社</td>\n      <td>合併による解散等</td>\n      <td>最新情報</td>\n      <td>検索対象</td>\n      <td>静岡県駿東郡小山町須走４９３番地</td>\n      <td>410</td>\n      <td>1431</td>\n      <td>884 days</td>\n    </tr>\n  </tbody>\n</table>\n</div>"
     },
     "execution_count": 61,
     "metadata": {},
     "output_type": "execute_result"
    }
   ],
   "source": [
    "# closeDate が欠損値でない Data に絞って表示\n",
    "tmp = data.loc[data['closeDate'].notna()]  # notna()関数: 欠損値ではない Data という条件分岐\n",
    "print(len(tmp))\n",
    "tmp.head(3)"
   ],
   "metadata": {
    "collapsed": false,
    "pycharm": {
     "name": "#%%\n"
    }
   }
  },
  {
   "cell_type": "code",
   "source": [
    "# 関連性のある項目同士が互いに漏れなく設定されているか確認\n",
    "data.loc[data['closeCause'].notna()].shape[0] == data.loc[data['closeDate'].notna()].shape[0]"
   ],
   "metadata": {
    "collapsed": false,
    "pycharm": {
     "name": "#%%\n"
    }
   },
   "execution_count": 62,
   "outputs": [
    {
     "data": {
      "text/plain": "True"
     },
     "execution_count": 62,
     "metadata": {},
     "output_type": "execute_result"
    }
   ]
  },
  {
   "cell_type": "markdown",
   "source": [
    "信頼できる System から連携された Data であれば問題ないが、そうえない場合は、Data を作る過程で誤りが発生していないか、という点に注意する。"
   ],
   "metadata": {
    "collapsed": false,
    "pycharm": {
     "name": "#%% md\n"
    }
   }
  },
  {
   "cell_type": "code",
   "execution_count": 63,
   "outputs": [
    {
     "name": "stdout",
     "output_type": "stream",
     "text": [
      "41\n"
     ]
    },
    {
     "data": {
      "text/plain": "  sequenceNumber corporateNumber process correct updateDate changeDate  \\\n0              1   1000013040008      01       1 2018-04-02 2015-10-05   \n1              2   1000013050072      01       1 2018-04-02 2015-10-05   \n2              3   1000013050080      01       1 2018-04-02 2015-10-05   \n3              4   1000020222119      01       1 2018-04-05 2015-10-05   \n4              5   1000020222127      01       1 2018-04-05 2015-10-05   \n\n      name nameImageId kind prefectureName cityName streetNumber  \\\n0  静岡家庭裁判所         NaN  101            静岡県    静岡市葵区      城内町１−２０   \n1  清水簡易裁判所         NaN  101            静岡県   静岡市清水区    天神１丁目６−１５   \n2  浜松簡易裁判所         NaN  101            静岡県    浜松市中区    中央１丁目１２−５   \n3      磐田市         NaN  201            静岡県      磐田市       国府台３−１   \n4      焼津市         NaN  201            静岡県      焼津市   本町２丁目１６−３２   \n\n  addressImageId prefectureCode cityCode postCode addressOutside  \\\n0            NaN             22      101  4200854            NaN   \n1            NaN             22      103  4240809            NaN   \n2            NaN             22      131  4300929            NaN   \n3            NaN             22      211  4380077            NaN   \n4            NaN             22      212  4250022            NaN   \n\n  addressOutsideImageId closeDate closeCause successorCorporateNumber  \\\n0                   NaN       NaT        NaN                      NaN   \n1                   NaN       NaT        NaN                      NaN   \n2                   NaN       NaT        NaN                      NaN   \n3                   NaN       NaT        NaN                      NaN   \n4                   NaN       NaT        NaN                      NaN   \n\n  changeCause assignmentDate latest                   enName enPrefectureName  \\\n0         NaN     2015-10-05      1    Shizuoka Family Court         Shizuoka   \n1         NaN     2015-10-05      1    Shimizu Summary Court         Shizuoka   \n2         NaN     2015-10-05      1  Hamamatsu Summary Court         Shizuoka   \n3         NaN     2015-10-05      1               Iwata City         Shizuoka   \n4         NaN     2015-10-05      1               Yaizu city         Shizuoka   \n\n                                 enCityName enAddressOutside       furigana  \\\n0      1-20, Jonaicho, Aoi ku, Shizuoka shi              NaN  シズオカカテイサイバンショ   \n1  1-6-15, Tenjin, Shimizu ku, Shizuoka shi              NaN   シミズカンイサイバンショ   \n2      1-12-5, Chuo, Naka ku, Hamamatsu shi              NaN  ハママツカンイサイバンショ   \n3                   3-1,Kounodai, Iwata shi              NaN           イワタシ   \n4               2-16-32 Honmachi, Yaizu shi              NaN           ヤイヅシ   \n\n  hihyoji process_kbn_name correct_kbn_name corp_kind_name closeCause_name  \\\n0       0               新規               訂正           国の機関             NaN   \n1       0               新規               訂正           国の機関             NaN   \n2       0               新規               訂正           国の機関             NaN   \n3       0               新規               訂正         地方公共団体             NaN   \n4       0               新規               訂正         地方公共団体             NaN   \n\n  latest_name hihyoji_name             address postCode_head postCode_tail  \\\n0        最新情報         検索対象     静岡県静岡市葵区城内町１−２０           420          0854   \n1        最新情報         検索対象  静岡県静岡市清水区天神１丁目６−１５           424          0809   \n2        最新情報         検索対象   静岡県浜松市中区中央１丁目１２−５           430          0929   \n3        最新情報         検索対象        静岡県磐田市国府台３−１           438          0077   \n4        最新情報         検索対象    静岡県焼津市本町２丁目１６−３２           425          0022   \n\n  corporate_life update_YM  \n0            NaT   2018-04  \n1            NaT   2018-04  \n2            NaT   2018-04  \n3            NaT   2018-04  \n4            NaT   2018-04  ",
      "text/html": "<div>\n<style scoped>\n    .dataframe tbody tr th:only-of-type {\n        vertical-align: middle;\n    }\n\n    .dataframe tbody tr th {\n        vertical-align: top;\n    }\n\n    .dataframe thead th {\n        text-align: right;\n    }\n</style>\n<table border=\"1\" class=\"dataframe\">\n  <thead>\n    <tr style=\"text-align: right;\">\n      <th></th>\n      <th>sequenceNumber</th>\n      <th>corporateNumber</th>\n      <th>process</th>\n      <th>correct</th>\n      <th>updateDate</th>\n      <th>changeDate</th>\n      <th>name</th>\n      <th>nameImageId</th>\n      <th>kind</th>\n      <th>prefectureName</th>\n      <th>cityName</th>\n      <th>streetNumber</th>\n      <th>addressImageId</th>\n      <th>prefectureCode</th>\n      <th>cityCode</th>\n      <th>postCode</th>\n      <th>addressOutside</th>\n      <th>addressOutsideImageId</th>\n      <th>closeDate</th>\n      <th>closeCause</th>\n      <th>successorCorporateNumber</th>\n      <th>changeCause</th>\n      <th>assignmentDate</th>\n      <th>latest</th>\n      <th>enName</th>\n      <th>enPrefectureName</th>\n      <th>enCityName</th>\n      <th>enAddressOutside</th>\n      <th>furigana</th>\n      <th>hihyoji</th>\n      <th>process_kbn_name</th>\n      <th>correct_kbn_name</th>\n      <th>corp_kind_name</th>\n      <th>closeCause_name</th>\n      <th>latest_name</th>\n      <th>hihyoji_name</th>\n      <th>address</th>\n      <th>postCode_head</th>\n      <th>postCode_tail</th>\n      <th>corporate_life</th>\n      <th>update_YM</th>\n    </tr>\n  </thead>\n  <tbody>\n    <tr>\n      <th>0</th>\n      <td>1</td>\n      <td>1000013040008</td>\n      <td>01</td>\n      <td>1</td>\n      <td>2018-04-02</td>\n      <td>2015-10-05</td>\n      <td>静岡家庭裁判所</td>\n      <td>NaN</td>\n      <td>101</td>\n      <td>静岡県</td>\n      <td>静岡市葵区</td>\n      <td>城内町１−２０</td>\n      <td>NaN</td>\n      <td>22</td>\n      <td>101</td>\n      <td>4200854</td>\n      <td>NaN</td>\n      <td>NaN</td>\n      <td>NaT</td>\n      <td>NaN</td>\n      <td>NaN</td>\n      <td>NaN</td>\n      <td>2015-10-05</td>\n      <td>1</td>\n      <td>Shizuoka Family Court</td>\n      <td>Shizuoka</td>\n      <td>1-20, Jonaicho, Aoi ku, Shizuoka shi</td>\n      <td>NaN</td>\n      <td>シズオカカテイサイバンショ</td>\n      <td>0</td>\n      <td>新規</td>\n      <td>訂正</td>\n      <td>国の機関</td>\n      <td>NaN</td>\n      <td>最新情報</td>\n      <td>検索対象</td>\n      <td>静岡県静岡市葵区城内町１−２０</td>\n      <td>420</td>\n      <td>0854</td>\n      <td>NaT</td>\n      <td>2018-04</td>\n    </tr>\n    <tr>\n      <th>1</th>\n      <td>2</td>\n      <td>1000013050072</td>\n      <td>01</td>\n      <td>1</td>\n      <td>2018-04-02</td>\n      <td>2015-10-05</td>\n      <td>清水簡易裁判所</td>\n      <td>NaN</td>\n      <td>101</td>\n      <td>静岡県</td>\n      <td>静岡市清水区</td>\n      <td>天神１丁目６−１５</td>\n      <td>NaN</td>\n      <td>22</td>\n      <td>103</td>\n      <td>4240809</td>\n      <td>NaN</td>\n      <td>NaN</td>\n      <td>NaT</td>\n      <td>NaN</td>\n      <td>NaN</td>\n      <td>NaN</td>\n      <td>2015-10-05</td>\n      <td>1</td>\n      <td>Shimizu Summary Court</td>\n      <td>Shizuoka</td>\n      <td>1-6-15, Tenjin, Shimizu ku, Shizuoka shi</td>\n      <td>NaN</td>\n      <td>シミズカンイサイバンショ</td>\n      <td>0</td>\n      <td>新規</td>\n      <td>訂正</td>\n      <td>国の機関</td>\n      <td>NaN</td>\n      <td>最新情報</td>\n      <td>検索対象</td>\n      <td>静岡県静岡市清水区天神１丁目６−１５</td>\n      <td>424</td>\n      <td>0809</td>\n      <td>NaT</td>\n      <td>2018-04</td>\n    </tr>\n    <tr>\n      <th>2</th>\n      <td>3</td>\n      <td>1000013050080</td>\n      <td>01</td>\n      <td>1</td>\n      <td>2018-04-02</td>\n      <td>2015-10-05</td>\n      <td>浜松簡易裁判所</td>\n      <td>NaN</td>\n      <td>101</td>\n      <td>静岡県</td>\n      <td>浜松市中区</td>\n      <td>中央１丁目１２−５</td>\n      <td>NaN</td>\n      <td>22</td>\n      <td>131</td>\n      <td>4300929</td>\n      <td>NaN</td>\n      <td>NaN</td>\n      <td>NaT</td>\n      <td>NaN</td>\n      <td>NaN</td>\n      <td>NaN</td>\n      <td>2015-10-05</td>\n      <td>1</td>\n      <td>Hamamatsu Summary Court</td>\n      <td>Shizuoka</td>\n      <td>1-12-5, Chuo, Naka ku, Hamamatsu shi</td>\n      <td>NaN</td>\n      <td>ハママツカンイサイバンショ</td>\n      <td>0</td>\n      <td>新規</td>\n      <td>訂正</td>\n      <td>国の機関</td>\n      <td>NaN</td>\n      <td>最新情報</td>\n      <td>検索対象</td>\n      <td>静岡県浜松市中区中央１丁目１２−５</td>\n      <td>430</td>\n      <td>0929</td>\n      <td>NaT</td>\n      <td>2018-04</td>\n    </tr>\n    <tr>\n      <th>3</th>\n      <td>4</td>\n      <td>1000020222119</td>\n      <td>01</td>\n      <td>1</td>\n      <td>2018-04-05</td>\n      <td>2015-10-05</td>\n      <td>磐田市</td>\n      <td>NaN</td>\n      <td>201</td>\n      <td>静岡県</td>\n      <td>磐田市</td>\n      <td>国府台３−１</td>\n      <td>NaN</td>\n      <td>22</td>\n      <td>211</td>\n      <td>4380077</td>\n      <td>NaN</td>\n      <td>NaN</td>\n      <td>NaT</td>\n      <td>NaN</td>\n      <td>NaN</td>\n      <td>NaN</td>\n      <td>2015-10-05</td>\n      <td>1</td>\n      <td>Iwata City</td>\n      <td>Shizuoka</td>\n      <td>3-1,Kounodai, Iwata shi</td>\n      <td>NaN</td>\n      <td>イワタシ</td>\n      <td>0</td>\n      <td>新規</td>\n      <td>訂正</td>\n      <td>地方公共団体</td>\n      <td>NaN</td>\n      <td>最新情報</td>\n      <td>検索対象</td>\n      <td>静岡県磐田市国府台３−１</td>\n      <td>438</td>\n      <td>0077</td>\n      <td>NaT</td>\n      <td>2018-04</td>\n    </tr>\n    <tr>\n      <th>4</th>\n      <td>5</td>\n      <td>1000020222127</td>\n      <td>01</td>\n      <td>1</td>\n      <td>2018-04-05</td>\n      <td>2015-10-05</td>\n      <td>焼津市</td>\n      <td>NaN</td>\n      <td>201</td>\n      <td>静岡県</td>\n      <td>焼津市</td>\n      <td>本町２丁目１６−３２</td>\n      <td>NaN</td>\n      <td>22</td>\n      <td>212</td>\n      <td>4250022</td>\n      <td>NaN</td>\n      <td>NaN</td>\n      <td>NaT</td>\n      <td>NaN</td>\n      <td>NaN</td>\n      <td>NaN</td>\n      <td>2015-10-05</td>\n      <td>1</td>\n      <td>Yaizu city</td>\n      <td>Shizuoka</td>\n      <td>2-16-32 Honmachi, Yaizu shi</td>\n      <td>NaN</td>\n      <td>ヤイヅシ</td>\n      <td>0</td>\n      <td>新規</td>\n      <td>訂正</td>\n      <td>地方公共団体</td>\n      <td>NaN</td>\n      <td>最新情報</td>\n      <td>検索対象</td>\n      <td>静岡県焼津市本町２丁目１６−３２</td>\n      <td>425</td>\n      <td>0022</td>\n      <td>NaT</td>\n      <td>2018-04</td>\n    </tr>\n  </tbody>\n</table>\n</div>"
     },
     "execution_count": 63,
     "metadata": {},
     "output_type": "execute_result"
    }
   ],
   "source": [
    "# １項目だけ年月項目を追加\n",
    "data['update_YM'] = data['updateDate'].dt.to_period('M')\n",
    "print(data.columns.shape[0])\n",
    "data.head()"
   ],
   "metadata": {
    "collapsed": false,
    "pycharm": {
     "name": "#%%\n"
    }
   }
  },
  {
   "cell_type": "code",
   "execution_count": 64,
   "outputs": [
    {
     "data": {
      "text/plain": "       updateDate update_YM\n0      2018-04-02   2018-04\n1      2018-04-02   2018-04\n2      2018-04-02   2018-04\n3      2018-04-05   2018-04\n4      2018-04-05   2018-04\n...           ...       ...\n114753 2021-04-09   2021-04\n114754 2021-04-09   2021-04\n114755 2021-04-09   2021-04\n114756 2021-04-09   2021-04\n114757 2021-04-09   2021-04\n\n[114758 rows x 2 columns]",
      "text/html": "<div>\n<style scoped>\n    .dataframe tbody tr th:only-of-type {\n        vertical-align: middle;\n    }\n\n    .dataframe tbody tr th {\n        vertical-align: top;\n    }\n\n    .dataframe thead th {\n        text-align: right;\n    }\n</style>\n<table border=\"1\" class=\"dataframe\">\n  <thead>\n    <tr style=\"text-align: right;\">\n      <th></th>\n      <th>updateDate</th>\n      <th>update_YM</th>\n    </tr>\n  </thead>\n  <tbody>\n    <tr>\n      <th>0</th>\n      <td>2018-04-02</td>\n      <td>2018-04</td>\n    </tr>\n    <tr>\n      <th>1</th>\n      <td>2018-04-02</td>\n      <td>2018-04</td>\n    </tr>\n    <tr>\n      <th>2</th>\n      <td>2018-04-02</td>\n      <td>2018-04</td>\n    </tr>\n    <tr>\n      <th>3</th>\n      <td>2018-04-05</td>\n      <td>2018-04</td>\n    </tr>\n    <tr>\n      <th>4</th>\n      <td>2018-04-05</td>\n      <td>2018-04</td>\n    </tr>\n    <tr>\n      <th>...</th>\n      <td>...</td>\n      <td>...</td>\n    </tr>\n    <tr>\n      <th>114753</th>\n      <td>2021-04-09</td>\n      <td>2021-04</td>\n    </tr>\n    <tr>\n      <th>114754</th>\n      <td>2021-04-09</td>\n      <td>2021-04</td>\n    </tr>\n    <tr>\n      <th>114755</th>\n      <td>2021-04-09</td>\n      <td>2021-04</td>\n    </tr>\n    <tr>\n      <th>114756</th>\n      <td>2021-04-09</td>\n      <td>2021-04</td>\n    </tr>\n    <tr>\n      <th>114757</th>\n      <td>2021-04-09</td>\n      <td>2021-04</td>\n    </tr>\n  </tbody>\n</table>\n<p>114758 rows × 2 columns</p>\n</div>"
     },
     "execution_count": 64,
     "metadata": {},
     "output_type": "execute_result"
    }
   ],
   "source": [
    "data[['updateDate', 'update_YM']]"
   ],
   "metadata": {
    "collapsed": false,
    "pycharm": {
     "name": "#%%\n"
    }
   }
  },
  {
   "cell_type": "code",
   "execution_count": 65,
   "outputs": [],
   "source": [
    "# 残りの日付項目も同様に、年月項目を作成\n",
    "dt_prefixes = ['assignment', 'change', 'update', 'close']\n",
    "for pre in dt_prefixes:\n",
    "    data[f'{pre}_YM'] = data[f'{pre}Date'].dt.to_period('M')"
   ],
   "metadata": {
    "collapsed": false,
    "pycharm": {
     "name": "#%%\n"
    }
   }
  },
  {
   "cell_type": "code",
   "execution_count": 66,
   "outputs": [
    {
     "data": {
      "text/plain": "  sequenceNumber corporateNumber process correct updateDate changeDate  \\\n0              1   1000013040008      01       1 2018-04-02 2015-10-05   \n1              2   1000013050072      01       1 2018-04-02 2015-10-05   \n2              3   1000013050080      01       1 2018-04-02 2015-10-05   \n3              4   1000020222119      01       1 2018-04-05 2015-10-05   \n4              5   1000020222127      01       1 2018-04-05 2015-10-05   \n\n      name nameImageId kind prefectureName cityName streetNumber  \\\n0  静岡家庭裁判所         NaN  101            静岡県    静岡市葵区      城内町１−２０   \n1  清水簡易裁判所         NaN  101            静岡県   静岡市清水区    天神１丁目６−１５   \n2  浜松簡易裁判所         NaN  101            静岡県    浜松市中区    中央１丁目１２−５   \n3      磐田市         NaN  201            静岡県      磐田市       国府台３−１   \n4      焼津市         NaN  201            静岡県      焼津市   本町２丁目１６−３２   \n\n  addressImageId prefectureCode cityCode postCode addressOutside  \\\n0            NaN             22      101  4200854            NaN   \n1            NaN             22      103  4240809            NaN   \n2            NaN             22      131  4300929            NaN   \n3            NaN             22      211  4380077            NaN   \n4            NaN             22      212  4250022            NaN   \n\n  addressOutsideImageId closeDate closeCause successorCorporateNumber  \\\n0                   NaN       NaT        NaN                      NaN   \n1                   NaN       NaT        NaN                      NaN   \n2                   NaN       NaT        NaN                      NaN   \n3                   NaN       NaT        NaN                      NaN   \n4                   NaN       NaT        NaN                      NaN   \n\n  changeCause assignmentDate latest                   enName enPrefectureName  \\\n0         NaN     2015-10-05      1    Shizuoka Family Court         Shizuoka   \n1         NaN     2015-10-05      1    Shimizu Summary Court         Shizuoka   \n2         NaN     2015-10-05      1  Hamamatsu Summary Court         Shizuoka   \n3         NaN     2015-10-05      1               Iwata City         Shizuoka   \n4         NaN     2015-10-05      1               Yaizu city         Shizuoka   \n\n                                 enCityName enAddressOutside       furigana  \\\n0      1-20, Jonaicho, Aoi ku, Shizuoka shi              NaN  シズオカカテイサイバンショ   \n1  1-6-15, Tenjin, Shimizu ku, Shizuoka shi              NaN   シミズカンイサイバンショ   \n2      1-12-5, Chuo, Naka ku, Hamamatsu shi              NaN  ハママツカンイサイバンショ   \n3                   3-1,Kounodai, Iwata shi              NaN           イワタシ   \n4               2-16-32 Honmachi, Yaizu shi              NaN           ヤイヅシ   \n\n  hihyoji process_kbn_name correct_kbn_name corp_kind_name closeCause_name  \\\n0       0               新規               訂正           国の機関             NaN   \n1       0               新規               訂正           国の機関             NaN   \n2       0               新規               訂正           国の機関             NaN   \n3       0               新規               訂正         地方公共団体             NaN   \n4       0               新規               訂正         地方公共団体             NaN   \n\n  latest_name hihyoji_name             address postCode_head postCode_tail  \\\n0        最新情報         検索対象     静岡県静岡市葵区城内町１−２０           420          0854   \n1        最新情報         検索対象  静岡県静岡市清水区天神１丁目６−１５           424          0809   \n2        最新情報         検索対象   静岡県浜松市中区中央１丁目１２−５           430          0929   \n3        最新情報         検索対象        静岡県磐田市国府台３−１           438          0077   \n4        最新情報         検索対象    静岡県焼津市本町２丁目１６−３２           425          0022   \n\n  corporate_life update_YM assignment_YM change_YM close_YM  \n0            NaT   2018-04       2015-10   2015-10      NaT  \n1            NaT   2018-04       2015-10   2015-10      NaT  \n2            NaT   2018-04       2015-10   2015-10      NaT  \n3            NaT   2018-04       2015-10   2015-10      NaT  \n4            NaT   2018-04       2015-10   2015-10      NaT  ",
      "text/html": "<div>\n<style scoped>\n    .dataframe tbody tr th:only-of-type {\n        vertical-align: middle;\n    }\n\n    .dataframe tbody tr th {\n        vertical-align: top;\n    }\n\n    .dataframe thead th {\n        text-align: right;\n    }\n</style>\n<table border=\"1\" class=\"dataframe\">\n  <thead>\n    <tr style=\"text-align: right;\">\n      <th></th>\n      <th>sequenceNumber</th>\n      <th>corporateNumber</th>\n      <th>process</th>\n      <th>correct</th>\n      <th>updateDate</th>\n      <th>changeDate</th>\n      <th>name</th>\n      <th>nameImageId</th>\n      <th>kind</th>\n      <th>prefectureName</th>\n      <th>cityName</th>\n      <th>streetNumber</th>\n      <th>addressImageId</th>\n      <th>prefectureCode</th>\n      <th>cityCode</th>\n      <th>postCode</th>\n      <th>addressOutside</th>\n      <th>addressOutsideImageId</th>\n      <th>closeDate</th>\n      <th>closeCause</th>\n      <th>successorCorporateNumber</th>\n      <th>changeCause</th>\n      <th>assignmentDate</th>\n      <th>latest</th>\n      <th>enName</th>\n      <th>enPrefectureName</th>\n      <th>enCityName</th>\n      <th>enAddressOutside</th>\n      <th>furigana</th>\n      <th>hihyoji</th>\n      <th>process_kbn_name</th>\n      <th>correct_kbn_name</th>\n      <th>corp_kind_name</th>\n      <th>closeCause_name</th>\n      <th>latest_name</th>\n      <th>hihyoji_name</th>\n      <th>address</th>\n      <th>postCode_head</th>\n      <th>postCode_tail</th>\n      <th>corporate_life</th>\n      <th>update_YM</th>\n      <th>assignment_YM</th>\n      <th>change_YM</th>\n      <th>close_YM</th>\n    </tr>\n  </thead>\n  <tbody>\n    <tr>\n      <th>0</th>\n      <td>1</td>\n      <td>1000013040008</td>\n      <td>01</td>\n      <td>1</td>\n      <td>2018-04-02</td>\n      <td>2015-10-05</td>\n      <td>静岡家庭裁判所</td>\n      <td>NaN</td>\n      <td>101</td>\n      <td>静岡県</td>\n      <td>静岡市葵区</td>\n      <td>城内町１−２０</td>\n      <td>NaN</td>\n      <td>22</td>\n      <td>101</td>\n      <td>4200854</td>\n      <td>NaN</td>\n      <td>NaN</td>\n      <td>NaT</td>\n      <td>NaN</td>\n      <td>NaN</td>\n      <td>NaN</td>\n      <td>2015-10-05</td>\n      <td>1</td>\n      <td>Shizuoka Family Court</td>\n      <td>Shizuoka</td>\n      <td>1-20, Jonaicho, Aoi ku, Shizuoka shi</td>\n      <td>NaN</td>\n      <td>シズオカカテイサイバンショ</td>\n      <td>0</td>\n      <td>新規</td>\n      <td>訂正</td>\n      <td>国の機関</td>\n      <td>NaN</td>\n      <td>最新情報</td>\n      <td>検索対象</td>\n      <td>静岡県静岡市葵区城内町１−２０</td>\n      <td>420</td>\n      <td>0854</td>\n      <td>NaT</td>\n      <td>2018-04</td>\n      <td>2015-10</td>\n      <td>2015-10</td>\n      <td>NaT</td>\n    </tr>\n    <tr>\n      <th>1</th>\n      <td>2</td>\n      <td>1000013050072</td>\n      <td>01</td>\n      <td>1</td>\n      <td>2018-04-02</td>\n      <td>2015-10-05</td>\n      <td>清水簡易裁判所</td>\n      <td>NaN</td>\n      <td>101</td>\n      <td>静岡県</td>\n      <td>静岡市清水区</td>\n      <td>天神１丁目６−１５</td>\n      <td>NaN</td>\n      <td>22</td>\n      <td>103</td>\n      <td>4240809</td>\n      <td>NaN</td>\n      <td>NaN</td>\n      <td>NaT</td>\n      <td>NaN</td>\n      <td>NaN</td>\n      <td>NaN</td>\n      <td>2015-10-05</td>\n      <td>1</td>\n      <td>Shimizu Summary Court</td>\n      <td>Shizuoka</td>\n      <td>1-6-15, Tenjin, Shimizu ku, Shizuoka shi</td>\n      <td>NaN</td>\n      <td>シミズカンイサイバンショ</td>\n      <td>0</td>\n      <td>新規</td>\n      <td>訂正</td>\n      <td>国の機関</td>\n      <td>NaN</td>\n      <td>最新情報</td>\n      <td>検索対象</td>\n      <td>静岡県静岡市清水区天神１丁目６−１５</td>\n      <td>424</td>\n      <td>0809</td>\n      <td>NaT</td>\n      <td>2018-04</td>\n      <td>2015-10</td>\n      <td>2015-10</td>\n      <td>NaT</td>\n    </tr>\n    <tr>\n      <th>2</th>\n      <td>3</td>\n      <td>1000013050080</td>\n      <td>01</td>\n      <td>1</td>\n      <td>2018-04-02</td>\n      <td>2015-10-05</td>\n      <td>浜松簡易裁判所</td>\n      <td>NaN</td>\n      <td>101</td>\n      <td>静岡県</td>\n      <td>浜松市中区</td>\n      <td>中央１丁目１２−５</td>\n      <td>NaN</td>\n      <td>22</td>\n      <td>131</td>\n      <td>4300929</td>\n      <td>NaN</td>\n      <td>NaN</td>\n      <td>NaT</td>\n      <td>NaN</td>\n      <td>NaN</td>\n      <td>NaN</td>\n      <td>2015-10-05</td>\n      <td>1</td>\n      <td>Hamamatsu Summary Court</td>\n      <td>Shizuoka</td>\n      <td>1-12-5, Chuo, Naka ku, Hamamatsu shi</td>\n      <td>NaN</td>\n      <td>ハママツカンイサイバンショ</td>\n      <td>0</td>\n      <td>新規</td>\n      <td>訂正</td>\n      <td>国の機関</td>\n      <td>NaN</td>\n      <td>最新情報</td>\n      <td>検索対象</td>\n      <td>静岡県浜松市中区中央１丁目１２−５</td>\n      <td>430</td>\n      <td>0929</td>\n      <td>NaT</td>\n      <td>2018-04</td>\n      <td>2015-10</td>\n      <td>2015-10</td>\n      <td>NaT</td>\n    </tr>\n    <tr>\n      <th>3</th>\n      <td>4</td>\n      <td>1000020222119</td>\n      <td>01</td>\n      <td>1</td>\n      <td>2018-04-05</td>\n      <td>2015-10-05</td>\n      <td>磐田市</td>\n      <td>NaN</td>\n      <td>201</td>\n      <td>静岡県</td>\n      <td>磐田市</td>\n      <td>国府台３−１</td>\n      <td>NaN</td>\n      <td>22</td>\n      <td>211</td>\n      <td>4380077</td>\n      <td>NaN</td>\n      <td>NaN</td>\n      <td>NaT</td>\n      <td>NaN</td>\n      <td>NaN</td>\n      <td>NaN</td>\n      <td>2015-10-05</td>\n      <td>1</td>\n      <td>Iwata City</td>\n      <td>Shizuoka</td>\n      <td>3-1,Kounodai, Iwata shi</td>\n      <td>NaN</td>\n      <td>イワタシ</td>\n      <td>0</td>\n      <td>新規</td>\n      <td>訂正</td>\n      <td>地方公共団体</td>\n      <td>NaN</td>\n      <td>最新情報</td>\n      <td>検索対象</td>\n      <td>静岡県磐田市国府台３−１</td>\n      <td>438</td>\n      <td>0077</td>\n      <td>NaT</td>\n      <td>2018-04</td>\n      <td>2015-10</td>\n      <td>2015-10</td>\n      <td>NaT</td>\n    </tr>\n    <tr>\n      <th>4</th>\n      <td>5</td>\n      <td>1000020222127</td>\n      <td>01</td>\n      <td>1</td>\n      <td>2018-04-05</td>\n      <td>2015-10-05</td>\n      <td>焼津市</td>\n      <td>NaN</td>\n      <td>201</td>\n      <td>静岡県</td>\n      <td>焼津市</td>\n      <td>本町２丁目１６−３２</td>\n      <td>NaN</td>\n      <td>22</td>\n      <td>212</td>\n      <td>4250022</td>\n      <td>NaN</td>\n      <td>NaN</td>\n      <td>NaT</td>\n      <td>NaN</td>\n      <td>NaN</td>\n      <td>NaN</td>\n      <td>2015-10-05</td>\n      <td>1</td>\n      <td>Yaizu city</td>\n      <td>Shizuoka</td>\n      <td>2-16-32 Honmachi, Yaizu shi</td>\n      <td>NaN</td>\n      <td>ヤイヅシ</td>\n      <td>0</td>\n      <td>新規</td>\n      <td>訂正</td>\n      <td>地方公共団体</td>\n      <td>NaN</td>\n      <td>最新情報</td>\n      <td>検索対象</td>\n      <td>静岡県焼津市本町２丁目１６−３２</td>\n      <td>425</td>\n      <td>0022</td>\n      <td>NaT</td>\n      <td>2018-04</td>\n      <td>2015-10</td>\n      <td>2015-10</td>\n      <td>NaT</td>\n    </tr>\n  </tbody>\n</table>\n</div>"
     },
     "execution_count": 66,
     "metadata": {},
     "output_type": "execute_result"
    }
   ],
   "source": [
    "# Data の確認\n",
    "data.head()"
   ],
   "metadata": {
    "collapsed": false,
    "pycharm": {
     "name": "#%%\n"
    }
   }
  },
  {
   "cell_type": "code",
   "execution_count": 67,
   "outputs": [
    {
     "name": "stdout",
     "output_type": "stream",
     "text": [
      "sequenceNumber                       object\n",
      "corporateNumber                      object\n",
      "process                              object\n",
      "correct                              object\n",
      "updateDate                   datetime64[ns]\n",
      "changeDate                   datetime64[ns]\n",
      "name                                 object\n",
      "nameImageId                          object\n",
      "kind                                 object\n",
      "prefectureName                       object\n",
      "cityName                             object\n",
      "streetNumber                         object\n",
      "addressImageId                       object\n",
      "prefectureCode                       object\n",
      "cityCode                             object\n",
      "postCode                             object\n",
      "addressOutside                       object\n",
      "addressOutsideImageId                object\n",
      "closeDate                    datetime64[ns]\n",
      "closeCause                           object\n",
      "successorCorporateNumber             object\n",
      "changeCause                          object\n",
      "assignmentDate               datetime64[ns]\n",
      "latest                               object\n",
      "enName                               object\n",
      "enPrefectureName                     object\n",
      "enCityName                           object\n",
      "enAddressOutside                     object\n",
      "furigana                             object\n",
      "hihyoji                              object\n",
      "process_kbn_name                     object\n",
      "correct_kbn_name                     object\n",
      "corp_kind_name                       object\n",
      "closeCause_name                      object\n",
      "latest_name                          object\n",
      "hihyoji_name                         object\n",
      "address                              object\n",
      "postCode_head                        object\n",
      "postCode_tail                        object\n",
      "corporate_life              timedelta64[ns]\n",
      "update_YM                         period[M]\n",
      "assignment_YM                     period[M]\n",
      "change_YM                         period[M]\n",
      "close_YM                          period[M]\n",
      "dtype: object\n"
     ]
    }
   ],
   "source": [
    "# Data型の確認\n",
    "print(data.dtypes)"
   ],
   "metadata": {
    "collapsed": false,
    "pycharm": {
     "name": "#%%\n"
    }
   }
  },
  {
   "cell_type": "markdown",
   "source": [
    "## 年度を設定しよう"
   ],
   "metadata": {
    "collapsed": false,
    "pycharm": {
     "name": "#%% md\n"
    }
   }
  },
  {
   "cell_type": "code",
   "execution_count": 68,
   "outputs": [],
   "source": [
    "# 更新日付に絞って、更新年度を設定する\n",
    "data['update_year'] = pd.DatetimeIndex(data['updateDate']).year  # 更新日付から年を取得\n",
    "data['update_month'] = pd.DatetimeIndex(data['updateDate']).month  # 更新日付から月を取得\n",
    "data['update_fiscal_year'] = pd.DatetimeIndex(data['updateDate']).year  # 更新年度に取得した年を設定\n",
    "data.loc[data['update_month'] < 4, 'update_fiscal_year'] -= 1  # 更新年月が３月までは更新年度 -1"
   ],
   "metadata": {
    "collapsed": false,
    "pycharm": {
     "name": "#%%\n"
    }
   }
  },
  {
   "cell_type": "code",
   "execution_count": 69,
   "outputs": [
    {
     "name": "stdout",
     "output_type": "stream",
     "text": [
      "47\n"
     ]
    },
    {
     "data": {
      "text/plain": "  sequenceNumber corporateNumber process correct updateDate changeDate  \\\n0              1   1000013040008      01       1 2018-04-02 2015-10-05   \n1              2   1000013050072      01       1 2018-04-02 2015-10-05   \n2              3   1000013050080      01       1 2018-04-02 2015-10-05   \n\n      name nameImageId kind prefectureName cityName streetNumber  \\\n0  静岡家庭裁判所         NaN  101            静岡県    静岡市葵区      城内町１−２０   \n1  清水簡易裁判所         NaN  101            静岡県   静岡市清水区    天神１丁目６−１５   \n2  浜松簡易裁判所         NaN  101            静岡県    浜松市中区    中央１丁目１２−５   \n\n  addressImageId prefectureCode cityCode postCode addressOutside  \\\n0            NaN             22      101  4200854            NaN   \n1            NaN             22      103  4240809            NaN   \n2            NaN             22      131  4300929            NaN   \n\n  addressOutsideImageId closeDate closeCause successorCorporateNumber  \\\n0                   NaN       NaT        NaN                      NaN   \n1                   NaN       NaT        NaN                      NaN   \n2                   NaN       NaT        NaN                      NaN   \n\n  changeCause assignmentDate latest                   enName enPrefectureName  \\\n0         NaN     2015-10-05      1    Shizuoka Family Court         Shizuoka   \n1         NaN     2015-10-05      1    Shimizu Summary Court         Shizuoka   \n2         NaN     2015-10-05      1  Hamamatsu Summary Court         Shizuoka   \n\n                                 enCityName enAddressOutside       furigana  \\\n0      1-20, Jonaicho, Aoi ku, Shizuoka shi              NaN  シズオカカテイサイバンショ   \n1  1-6-15, Tenjin, Shimizu ku, Shizuoka shi              NaN   シミズカンイサイバンショ   \n2      1-12-5, Chuo, Naka ku, Hamamatsu shi              NaN  ハママツカンイサイバンショ   \n\n  hihyoji process_kbn_name correct_kbn_name corp_kind_name closeCause_name  \\\n0       0               新規               訂正           国の機関             NaN   \n1       0               新規               訂正           国の機関             NaN   \n2       0               新規               訂正           国の機関             NaN   \n\n  latest_name hihyoji_name             address postCode_head postCode_tail  \\\n0        最新情報         検索対象     静岡県静岡市葵区城内町１−２０           420          0854   \n1        最新情報         検索対象  静岡県静岡市清水区天神１丁目６−１５           424          0809   \n2        最新情報         検索対象   静岡県浜松市中区中央１丁目１２−５           430          0929   \n\n  corporate_life update_YM assignment_YM change_YM close_YM  update_year  \\\n0            NaT   2018-04       2015-10   2015-10      NaT         2018   \n1            NaT   2018-04       2015-10   2015-10      NaT         2018   \n2            NaT   2018-04       2015-10   2015-10      NaT         2018   \n\n   update_month  update_fiscal_year  \n0             4                2018  \n1             4                2018  \n2             4                2018  ",
      "text/html": "<div>\n<style scoped>\n    .dataframe tbody tr th:only-of-type {\n        vertical-align: middle;\n    }\n\n    .dataframe tbody tr th {\n        vertical-align: top;\n    }\n\n    .dataframe thead th {\n        text-align: right;\n    }\n</style>\n<table border=\"1\" class=\"dataframe\">\n  <thead>\n    <tr style=\"text-align: right;\">\n      <th></th>\n      <th>sequenceNumber</th>\n      <th>corporateNumber</th>\n      <th>process</th>\n      <th>correct</th>\n      <th>updateDate</th>\n      <th>changeDate</th>\n      <th>name</th>\n      <th>nameImageId</th>\n      <th>kind</th>\n      <th>prefectureName</th>\n      <th>cityName</th>\n      <th>streetNumber</th>\n      <th>addressImageId</th>\n      <th>prefectureCode</th>\n      <th>cityCode</th>\n      <th>postCode</th>\n      <th>addressOutside</th>\n      <th>addressOutsideImageId</th>\n      <th>closeDate</th>\n      <th>closeCause</th>\n      <th>successorCorporateNumber</th>\n      <th>changeCause</th>\n      <th>assignmentDate</th>\n      <th>latest</th>\n      <th>enName</th>\n      <th>enPrefectureName</th>\n      <th>enCityName</th>\n      <th>enAddressOutside</th>\n      <th>furigana</th>\n      <th>hihyoji</th>\n      <th>process_kbn_name</th>\n      <th>correct_kbn_name</th>\n      <th>corp_kind_name</th>\n      <th>closeCause_name</th>\n      <th>latest_name</th>\n      <th>hihyoji_name</th>\n      <th>address</th>\n      <th>postCode_head</th>\n      <th>postCode_tail</th>\n      <th>corporate_life</th>\n      <th>update_YM</th>\n      <th>assignment_YM</th>\n      <th>change_YM</th>\n      <th>close_YM</th>\n      <th>update_year</th>\n      <th>update_month</th>\n      <th>update_fiscal_year</th>\n    </tr>\n  </thead>\n  <tbody>\n    <tr>\n      <th>0</th>\n      <td>1</td>\n      <td>1000013040008</td>\n      <td>01</td>\n      <td>1</td>\n      <td>2018-04-02</td>\n      <td>2015-10-05</td>\n      <td>静岡家庭裁判所</td>\n      <td>NaN</td>\n      <td>101</td>\n      <td>静岡県</td>\n      <td>静岡市葵区</td>\n      <td>城内町１−２０</td>\n      <td>NaN</td>\n      <td>22</td>\n      <td>101</td>\n      <td>4200854</td>\n      <td>NaN</td>\n      <td>NaN</td>\n      <td>NaT</td>\n      <td>NaN</td>\n      <td>NaN</td>\n      <td>NaN</td>\n      <td>2015-10-05</td>\n      <td>1</td>\n      <td>Shizuoka Family Court</td>\n      <td>Shizuoka</td>\n      <td>1-20, Jonaicho, Aoi ku, Shizuoka shi</td>\n      <td>NaN</td>\n      <td>シズオカカテイサイバンショ</td>\n      <td>0</td>\n      <td>新規</td>\n      <td>訂正</td>\n      <td>国の機関</td>\n      <td>NaN</td>\n      <td>最新情報</td>\n      <td>検索対象</td>\n      <td>静岡県静岡市葵区城内町１−２０</td>\n      <td>420</td>\n      <td>0854</td>\n      <td>NaT</td>\n      <td>2018-04</td>\n      <td>2015-10</td>\n      <td>2015-10</td>\n      <td>NaT</td>\n      <td>2018</td>\n      <td>4</td>\n      <td>2018</td>\n    </tr>\n    <tr>\n      <th>1</th>\n      <td>2</td>\n      <td>1000013050072</td>\n      <td>01</td>\n      <td>1</td>\n      <td>2018-04-02</td>\n      <td>2015-10-05</td>\n      <td>清水簡易裁判所</td>\n      <td>NaN</td>\n      <td>101</td>\n      <td>静岡県</td>\n      <td>静岡市清水区</td>\n      <td>天神１丁目６−１５</td>\n      <td>NaN</td>\n      <td>22</td>\n      <td>103</td>\n      <td>4240809</td>\n      <td>NaN</td>\n      <td>NaN</td>\n      <td>NaT</td>\n      <td>NaN</td>\n      <td>NaN</td>\n      <td>NaN</td>\n      <td>2015-10-05</td>\n      <td>1</td>\n      <td>Shimizu Summary Court</td>\n      <td>Shizuoka</td>\n      <td>1-6-15, Tenjin, Shimizu ku, Shizuoka shi</td>\n      <td>NaN</td>\n      <td>シミズカンイサイバンショ</td>\n      <td>0</td>\n      <td>新規</td>\n      <td>訂正</td>\n      <td>国の機関</td>\n      <td>NaN</td>\n      <td>最新情報</td>\n      <td>検索対象</td>\n      <td>静岡県静岡市清水区天神１丁目６−１５</td>\n      <td>424</td>\n      <td>0809</td>\n      <td>NaT</td>\n      <td>2018-04</td>\n      <td>2015-10</td>\n      <td>2015-10</td>\n      <td>NaT</td>\n      <td>2018</td>\n      <td>4</td>\n      <td>2018</td>\n    </tr>\n    <tr>\n      <th>2</th>\n      <td>3</td>\n      <td>1000013050080</td>\n      <td>01</td>\n      <td>1</td>\n      <td>2018-04-02</td>\n      <td>2015-10-05</td>\n      <td>浜松簡易裁判所</td>\n      <td>NaN</td>\n      <td>101</td>\n      <td>静岡県</td>\n      <td>浜松市中区</td>\n      <td>中央１丁目１２−５</td>\n      <td>NaN</td>\n      <td>22</td>\n      <td>131</td>\n      <td>4300929</td>\n      <td>NaN</td>\n      <td>NaN</td>\n      <td>NaT</td>\n      <td>NaN</td>\n      <td>NaN</td>\n      <td>NaN</td>\n      <td>2015-10-05</td>\n      <td>1</td>\n      <td>Hamamatsu Summary Court</td>\n      <td>Shizuoka</td>\n      <td>1-12-5, Chuo, Naka ku, Hamamatsu shi</td>\n      <td>NaN</td>\n      <td>ハママツカンイサイバンショ</td>\n      <td>0</td>\n      <td>新規</td>\n      <td>訂正</td>\n      <td>国の機関</td>\n      <td>NaN</td>\n      <td>最新情報</td>\n      <td>検索対象</td>\n      <td>静岡県浜松市中区中央１丁目１２−５</td>\n      <td>430</td>\n      <td>0929</td>\n      <td>NaT</td>\n      <td>2018-04</td>\n      <td>2015-10</td>\n      <td>2015-10</td>\n      <td>NaT</td>\n      <td>2018</td>\n      <td>4</td>\n      <td>2018</td>\n    </tr>\n  </tbody>\n</table>\n</div>"
     },
     "execution_count": 69,
     "metadata": {},
     "output_type": "execute_result"
    }
   ],
   "source": [
    "# 確認\n",
    "print(data.columns.shape[0])\n",
    "data.head(3)"
   ],
   "metadata": {
    "collapsed": false,
    "pycharm": {
     "name": "#%%\n"
    }
   }
  },
  {
   "cell_type": "code",
   "source": [
    "# 年度の計算が合っているか確認\n",
    "for i in range(12):\n",
    "    display(data[['update_YM', 'update_fiscal_year']].loc[data['update_month'] == i+1 ][:1])"
   ],
   "metadata": {
    "collapsed": false,
    "pycharm": {
     "name": "#%%\n"
    }
   },
   "execution_count": 70,
   "outputs": [
    {
     "data": {
      "text/plain": "   update_YM  update_fiscal_year\n45   2019-01                2018",
      "text/html": "<div>\n<style scoped>\n    .dataframe tbody tr th:only-of-type {\n        vertical-align: middle;\n    }\n\n    .dataframe tbody tr th {\n        vertical-align: top;\n    }\n\n    .dataframe thead th {\n        text-align: right;\n    }\n</style>\n<table border=\"1\" class=\"dataframe\">\n  <thead>\n    <tr style=\"text-align: right;\">\n      <th></th>\n      <th>update_YM</th>\n      <th>update_fiscal_year</th>\n    </tr>\n  </thead>\n  <tbody>\n    <tr>\n      <th>45</th>\n      <td>2019-01</td>\n      <td>2018</td>\n    </tr>\n  </tbody>\n</table>\n</div>"
     },
     "metadata": {},
     "output_type": "display_data"
    },
    {
     "data": {
      "text/plain": "   update_YM  update_fiscal_year\n32   2021-02                2020",
      "text/html": "<div>\n<style scoped>\n    .dataframe tbody tr th:only-of-type {\n        vertical-align: middle;\n    }\n\n    .dataframe tbody tr th {\n        vertical-align: top;\n    }\n\n    .dataframe thead th {\n        text-align: right;\n    }\n</style>\n<table border=\"1\" class=\"dataframe\">\n  <thead>\n    <tr style=\"text-align: right;\">\n      <th></th>\n      <th>update_YM</th>\n      <th>update_fiscal_year</th>\n    </tr>\n  </thead>\n  <tbody>\n    <tr>\n      <th>32</th>\n      <td>2021-02</td>\n      <td>2020</td>\n    </tr>\n  </tbody>\n</table>\n</div>"
     },
     "metadata": {},
     "output_type": "display_data"
    },
    {
     "data": {
      "text/plain": "   update_YM  update_fiscal_year\n30   2021-03                2020",
      "text/html": "<div>\n<style scoped>\n    .dataframe tbody tr th:only-of-type {\n        vertical-align: middle;\n    }\n\n    .dataframe tbody tr th {\n        vertical-align: top;\n    }\n\n    .dataframe thead th {\n        text-align: right;\n    }\n</style>\n<table border=\"1\" class=\"dataframe\">\n  <thead>\n    <tr style=\"text-align: right;\">\n      <th></th>\n      <th>update_YM</th>\n      <th>update_fiscal_year</th>\n    </tr>\n  </thead>\n  <tbody>\n    <tr>\n      <th>30</th>\n      <td>2021-03</td>\n      <td>2020</td>\n    </tr>\n  </tbody>\n</table>\n</div>"
     },
     "metadata": {},
     "output_type": "display_data"
    },
    {
     "data": {
      "text/plain": "  update_YM  update_fiscal_year\n0   2018-04                2018",
      "text/html": "<div>\n<style scoped>\n    .dataframe tbody tr th:only-of-type {\n        vertical-align: middle;\n    }\n\n    .dataframe tbody tr th {\n        vertical-align: top;\n    }\n\n    .dataframe thead th {\n        text-align: right;\n    }\n</style>\n<table border=\"1\" class=\"dataframe\">\n  <thead>\n    <tr style=\"text-align: right;\">\n      <th></th>\n      <th>update_YM</th>\n      <th>update_fiscal_year</th>\n    </tr>\n  </thead>\n  <tbody>\n    <tr>\n      <th>0</th>\n      <td>2018-04</td>\n      <td>2018</td>\n    </tr>\n  </tbody>\n</table>\n</div>"
     },
     "metadata": {},
     "output_type": "display_data"
    },
    {
     "data": {
      "text/plain": "   update_YM  update_fiscal_year\n47   2017-05                2017",
      "text/html": "<div>\n<style scoped>\n    .dataframe tbody tr th:only-of-type {\n        vertical-align: middle;\n    }\n\n    .dataframe tbody tr th {\n        vertical-align: top;\n    }\n\n    .dataframe thead th {\n        text-align: right;\n    }\n</style>\n<table border=\"1\" class=\"dataframe\">\n  <thead>\n    <tr style=\"text-align: right;\">\n      <th></th>\n      <th>update_YM</th>\n      <th>update_fiscal_year</th>\n    </tr>\n  </thead>\n  <tbody>\n    <tr>\n      <th>47</th>\n      <td>2017-05</td>\n      <td>2017</td>\n    </tr>\n  </tbody>\n</table>\n</div>"
     },
     "metadata": {},
     "output_type": "display_data"
    },
    {
     "data": {
      "text/plain": "   update_YM  update_fiscal_year\n34   2018-06                2018",
      "text/html": "<div>\n<style scoped>\n    .dataframe tbody tr th:only-of-type {\n        vertical-align: middle;\n    }\n\n    .dataframe tbody tr th {\n        vertical-align: top;\n    }\n\n    .dataframe thead th {\n        text-align: right;\n    }\n</style>\n<table border=\"1\" class=\"dataframe\">\n  <thead>\n    <tr style=\"text-align: right;\">\n      <th></th>\n      <th>update_YM</th>\n      <th>update_fiscal_year</th>\n    </tr>\n  </thead>\n  <tbody>\n    <tr>\n      <th>34</th>\n      <td>2018-06</td>\n      <td>2018</td>\n    </tr>\n  </tbody>\n</table>\n</div>"
     },
     "metadata": {},
     "output_type": "display_data"
    },
    {
     "data": {
      "text/plain": "   update_YM  update_fiscal_year\n57   2018-07                2018",
      "text/html": "<div>\n<style scoped>\n    .dataframe tbody tr th:only-of-type {\n        vertical-align: middle;\n    }\n\n    .dataframe tbody tr th {\n        vertical-align: top;\n    }\n\n    .dataframe thead th {\n        text-align: right;\n    }\n</style>\n<table border=\"1\" class=\"dataframe\">\n  <thead>\n    <tr style=\"text-align: right;\">\n      <th></th>\n      <th>update_YM</th>\n      <th>update_fiscal_year</th>\n    </tr>\n  </thead>\n  <tbody>\n    <tr>\n      <th>57</th>\n      <td>2018-07</td>\n      <td>2018</td>\n    </tr>\n  </tbody>\n</table>\n</div>"
     },
     "metadata": {},
     "output_type": "display_data"
    },
    {
     "data": {
      "text/plain": "   update_YM  update_fiscal_year\n29   2018-08                2018",
      "text/html": "<div>\n<style scoped>\n    .dataframe tbody tr th:only-of-type {\n        vertical-align: middle;\n    }\n\n    .dataframe tbody tr th {\n        vertical-align: top;\n    }\n\n    .dataframe thead th {\n        text-align: right;\n    }\n</style>\n<table border=\"1\" class=\"dataframe\">\n  <thead>\n    <tr style=\"text-align: right;\">\n      <th></th>\n      <th>update_YM</th>\n      <th>update_fiscal_year</th>\n    </tr>\n  </thead>\n  <tbody>\n    <tr>\n      <th>29</th>\n      <td>2018-08</td>\n      <td>2018</td>\n    </tr>\n  </tbody>\n</table>\n</div>"
     },
     "metadata": {},
     "output_type": "display_data"
    },
    {
     "data": {
      "text/plain": "  update_YM  update_fiscal_year\n5   2020-09                2020",
      "text/html": "<div>\n<style scoped>\n    .dataframe tbody tr th:only-of-type {\n        vertical-align: middle;\n    }\n\n    .dataframe tbody tr th {\n        vertical-align: top;\n    }\n\n    .dataframe thead th {\n        text-align: right;\n    }\n</style>\n<table border=\"1\" class=\"dataframe\">\n  <thead>\n    <tr style=\"text-align: right;\">\n      <th></th>\n      <th>update_YM</th>\n      <th>update_fiscal_year</th>\n    </tr>\n  </thead>\n  <tbody>\n    <tr>\n      <th>5</th>\n      <td>2020-09</td>\n      <td>2020</td>\n    </tr>\n  </tbody>\n</table>\n</div>"
     },
     "metadata": {},
     "output_type": "display_data"
    },
    {
     "data": {
      "text/plain": "   update_YM  update_fiscal_year\n42   2019-10                2019",
      "text/html": "<div>\n<style scoped>\n    .dataframe tbody tr th:only-of-type {\n        vertical-align: middle;\n    }\n\n    .dataframe tbody tr th {\n        vertical-align: top;\n    }\n\n    .dataframe thead th {\n        text-align: right;\n    }\n</style>\n<table border=\"1\" class=\"dataframe\">\n  <thead>\n    <tr style=\"text-align: right;\">\n      <th></th>\n      <th>update_YM</th>\n      <th>update_fiscal_year</th>\n    </tr>\n  </thead>\n  <tbody>\n    <tr>\n      <th>42</th>\n      <td>2019-10</td>\n      <td>2019</td>\n    </tr>\n  </tbody>\n</table>\n</div>"
     },
     "metadata": {},
     "output_type": "display_data"
    },
    {
     "data": {
      "text/plain": "   update_YM  update_fiscal_year\n27   2015-11                2015",
      "text/html": "<div>\n<style scoped>\n    .dataframe tbody tr th:only-of-type {\n        vertical-align: middle;\n    }\n\n    .dataframe tbody tr th {\n        vertical-align: top;\n    }\n\n    .dataframe thead th {\n        text-align: right;\n    }\n</style>\n<table border=\"1\" class=\"dataframe\">\n  <thead>\n    <tr style=\"text-align: right;\">\n      <th></th>\n      <th>update_YM</th>\n      <th>update_fiscal_year</th>\n    </tr>\n  </thead>\n  <tbody>\n    <tr>\n      <th>27</th>\n      <td>2015-11</td>\n      <td>2015</td>\n    </tr>\n  </tbody>\n</table>\n</div>"
     },
     "metadata": {},
     "output_type": "display_data"
    },
    {
     "data": {
      "text/plain": "   update_YM  update_fiscal_year\n28   2017-12                2017",
      "text/html": "<div>\n<style scoped>\n    .dataframe tbody tr th:only-of-type {\n        vertical-align: middle;\n    }\n\n    .dataframe tbody tr th {\n        vertical-align: top;\n    }\n\n    .dataframe thead th {\n        text-align: right;\n    }\n</style>\n<table border=\"1\" class=\"dataframe\">\n  <thead>\n    <tr style=\"text-align: right;\">\n      <th></th>\n      <th>update_YM</th>\n      <th>update_fiscal_year</th>\n    </tr>\n  </thead>\n  <tbody>\n    <tr>\n      <th>28</th>\n      <td>2017-12</td>\n      <td>2017</td>\n    </tr>\n  </tbody>\n</table>\n</div>"
     },
     "metadata": {},
     "output_type": "display_data"
    }
   ]
  },
  {
   "cell_type": "markdown",
   "source": [
    "## 加工した Data を File に出力しよう"
   ],
   "metadata": {
    "collapsed": false,
    "pycharm": {
     "name": "#%% md\n"
    }
   }
  },
  {
   "cell_type": "code",
   "execution_count": 71,
   "outputs": [],
   "source": [
    "# Directory の作成\n",
    "output_dir = 'data/output'\n",
    "os.makedirs(output_dir, exist_ok=True)  # 引数 exist_ok=True を記述すると、対象 Directory が既に存在する場合でも Error になることを防いでくれる"
   ],
   "metadata": {
    "collapsed": false,
    "pycharm": {
     "name": "#%%\n"
    }
   }
  },
  {
   "cell_type": "code",
   "execution_count": 72,
   "outputs": [],
   "source": [
    "# csv file 出力\n",
    "output_file = 'processed_shizuoka.csv'\n",
    "\n",
    "data.to_csv(os.path.join(output_dir, output_file), index=False)\n",
    "# os.path.join(): 第１引数: Directory と File 名を連結, 第２引数: index=False で Index の出力をされないように指定"
   ],
   "metadata": {
    "collapsed": false,
    "pycharm": {
     "name": "#%%\n"
    }
   }
  },
  {
   "cell_type": "code",
   "execution_count": null,
   "outputs": [],
   "source": [
    "# Excel file 出力\n",
    "output_file = output_file.replace('.csv', '.xlsx')\n",
    "data.to_excel(os.path.join(output_dir, output_file), index=False)"
   ],
   "metadata": {
    "collapsed": false,
    "pycharm": {
     "name": "#%%\n"
    }
   }
  },
  {
   "cell_type": "markdown",
   "source": [
    "## 不要な項目の削除と並べ替えをしよう"
   ],
   "metadata": {
    "collapsed": false,
    "pycharm": {
     "name": "#%% md\n"
    }
   }
  },
  {
   "cell_type": "code",
   "execution_count": 73,
   "outputs": [
    {
     "name": "stdout",
     "output_type": "stream",
     "text": [
      "47\n",
      "Index(['sequenceNumber', 'corporateNumber', 'process', 'correct', 'updateDate',\n",
      "       'changeDate', 'name', 'nameImageId', 'kind', 'prefectureName',\n",
      "       'cityName', 'streetNumber', 'addressImageId', 'prefectureCode',\n",
      "       'cityCode', 'postCode', 'addressOutside', 'addressOutsideImageId',\n",
      "       'closeDate', 'closeCause', 'successorCorporateNumber', 'changeCause',\n",
      "       'assignmentDate', 'latest', 'enName', 'enPrefectureName', 'enCityName',\n",
      "       'enAddressOutside', 'furigana', 'hihyoji', 'process_kbn_name',\n",
      "       'correct_kbn_name', 'corp_kind_name', 'closeCause_name', 'latest_name',\n",
      "       'hihyoji_name', 'address', 'postCode_head', 'postCode_tail',\n",
      "       'corporate_life', 'update_YM', 'assignment_YM', 'change_YM', 'close_YM',\n",
      "       'update_year', 'update_month', 'update_fiscal_year'],\n",
      "      dtype='object')\n"
     ]
    },
    {
     "data": {
      "text/plain": "  sequenceNumber corporateNumber process correct updateDate changeDate  \\\n0              1   1000013040008      01       1 2018-04-02 2015-10-05   \n1              2   1000013050072      01       1 2018-04-02 2015-10-05   \n2              3   1000013050080      01       1 2018-04-02 2015-10-05   \n\n      name nameImageId kind prefectureName cityName streetNumber  \\\n0  静岡家庭裁判所         NaN  101            静岡県    静岡市葵区      城内町１−２０   \n1  清水簡易裁判所         NaN  101            静岡県   静岡市清水区    天神１丁目６−１５   \n2  浜松簡易裁判所         NaN  101            静岡県    浜松市中区    中央１丁目１２−５   \n\n  addressImageId prefectureCode cityCode postCode addressOutside  \\\n0            NaN             22      101  4200854            NaN   \n1            NaN             22      103  4240809            NaN   \n2            NaN             22      131  4300929            NaN   \n\n  addressOutsideImageId closeDate closeCause successorCorporateNumber  \\\n0                   NaN       NaT        NaN                      NaN   \n1                   NaN       NaT        NaN                      NaN   \n2                   NaN       NaT        NaN                      NaN   \n\n  changeCause assignmentDate latest                   enName enPrefectureName  \\\n0         NaN     2015-10-05      1    Shizuoka Family Court         Shizuoka   \n1         NaN     2015-10-05      1    Shimizu Summary Court         Shizuoka   \n2         NaN     2015-10-05      1  Hamamatsu Summary Court         Shizuoka   \n\n                                 enCityName enAddressOutside       furigana  \\\n0      1-20, Jonaicho, Aoi ku, Shizuoka shi              NaN  シズオカカテイサイバンショ   \n1  1-6-15, Tenjin, Shimizu ku, Shizuoka shi              NaN   シミズカンイサイバンショ   \n2      1-12-5, Chuo, Naka ku, Hamamatsu shi              NaN  ハママツカンイサイバンショ   \n\n  hihyoji process_kbn_name correct_kbn_name corp_kind_name closeCause_name  \\\n0       0               新規               訂正           国の機関             NaN   \n1       0               新規               訂正           国の機関             NaN   \n2       0               新規               訂正           国の機関             NaN   \n\n  latest_name hihyoji_name             address postCode_head postCode_tail  \\\n0        最新情報         検索対象     静岡県静岡市葵区城内町１−２０           420          0854   \n1        最新情報         検索対象  静岡県静岡市清水区天神１丁目６−１５           424          0809   \n2        最新情報         検索対象   静岡県浜松市中区中央１丁目１２−５           430          0929   \n\n  corporate_life update_YM assignment_YM change_YM close_YM  update_year  \\\n0            NaT   2018-04       2015-10   2015-10      NaT         2018   \n1            NaT   2018-04       2015-10   2015-10      NaT         2018   \n2            NaT   2018-04       2015-10   2015-10      NaT         2018   \n\n   update_month  update_fiscal_year  \n0             4                2018  \n1             4                2018  \n2             4                2018  ",
      "text/html": "<div>\n<style scoped>\n    .dataframe tbody tr th:only-of-type {\n        vertical-align: middle;\n    }\n\n    .dataframe tbody tr th {\n        vertical-align: top;\n    }\n\n    .dataframe thead th {\n        text-align: right;\n    }\n</style>\n<table border=\"1\" class=\"dataframe\">\n  <thead>\n    <tr style=\"text-align: right;\">\n      <th></th>\n      <th>sequenceNumber</th>\n      <th>corporateNumber</th>\n      <th>process</th>\n      <th>correct</th>\n      <th>updateDate</th>\n      <th>changeDate</th>\n      <th>name</th>\n      <th>nameImageId</th>\n      <th>kind</th>\n      <th>prefectureName</th>\n      <th>cityName</th>\n      <th>streetNumber</th>\n      <th>addressImageId</th>\n      <th>prefectureCode</th>\n      <th>cityCode</th>\n      <th>postCode</th>\n      <th>addressOutside</th>\n      <th>addressOutsideImageId</th>\n      <th>closeDate</th>\n      <th>closeCause</th>\n      <th>successorCorporateNumber</th>\n      <th>changeCause</th>\n      <th>assignmentDate</th>\n      <th>latest</th>\n      <th>enName</th>\n      <th>enPrefectureName</th>\n      <th>enCityName</th>\n      <th>enAddressOutside</th>\n      <th>furigana</th>\n      <th>hihyoji</th>\n      <th>process_kbn_name</th>\n      <th>correct_kbn_name</th>\n      <th>corp_kind_name</th>\n      <th>closeCause_name</th>\n      <th>latest_name</th>\n      <th>hihyoji_name</th>\n      <th>address</th>\n      <th>postCode_head</th>\n      <th>postCode_tail</th>\n      <th>corporate_life</th>\n      <th>update_YM</th>\n      <th>assignment_YM</th>\n      <th>change_YM</th>\n      <th>close_YM</th>\n      <th>update_year</th>\n      <th>update_month</th>\n      <th>update_fiscal_year</th>\n    </tr>\n  </thead>\n  <tbody>\n    <tr>\n      <th>0</th>\n      <td>1</td>\n      <td>1000013040008</td>\n      <td>01</td>\n      <td>1</td>\n      <td>2018-04-02</td>\n      <td>2015-10-05</td>\n      <td>静岡家庭裁判所</td>\n      <td>NaN</td>\n      <td>101</td>\n      <td>静岡県</td>\n      <td>静岡市葵区</td>\n      <td>城内町１−２０</td>\n      <td>NaN</td>\n      <td>22</td>\n      <td>101</td>\n      <td>4200854</td>\n      <td>NaN</td>\n      <td>NaN</td>\n      <td>NaT</td>\n      <td>NaN</td>\n      <td>NaN</td>\n      <td>NaN</td>\n      <td>2015-10-05</td>\n      <td>1</td>\n      <td>Shizuoka Family Court</td>\n      <td>Shizuoka</td>\n      <td>1-20, Jonaicho, Aoi ku, Shizuoka shi</td>\n      <td>NaN</td>\n      <td>シズオカカテイサイバンショ</td>\n      <td>0</td>\n      <td>新規</td>\n      <td>訂正</td>\n      <td>国の機関</td>\n      <td>NaN</td>\n      <td>最新情報</td>\n      <td>検索対象</td>\n      <td>静岡県静岡市葵区城内町１−２０</td>\n      <td>420</td>\n      <td>0854</td>\n      <td>NaT</td>\n      <td>2018-04</td>\n      <td>2015-10</td>\n      <td>2015-10</td>\n      <td>NaT</td>\n      <td>2018</td>\n      <td>4</td>\n      <td>2018</td>\n    </tr>\n    <tr>\n      <th>1</th>\n      <td>2</td>\n      <td>1000013050072</td>\n      <td>01</td>\n      <td>1</td>\n      <td>2018-04-02</td>\n      <td>2015-10-05</td>\n      <td>清水簡易裁判所</td>\n      <td>NaN</td>\n      <td>101</td>\n      <td>静岡県</td>\n      <td>静岡市清水区</td>\n      <td>天神１丁目６−１５</td>\n      <td>NaN</td>\n      <td>22</td>\n      <td>103</td>\n      <td>4240809</td>\n      <td>NaN</td>\n      <td>NaN</td>\n      <td>NaT</td>\n      <td>NaN</td>\n      <td>NaN</td>\n      <td>NaN</td>\n      <td>2015-10-05</td>\n      <td>1</td>\n      <td>Shimizu Summary Court</td>\n      <td>Shizuoka</td>\n      <td>1-6-15, Tenjin, Shimizu ku, Shizuoka shi</td>\n      <td>NaN</td>\n      <td>シミズカンイサイバンショ</td>\n      <td>0</td>\n      <td>新規</td>\n      <td>訂正</td>\n      <td>国の機関</td>\n      <td>NaN</td>\n      <td>最新情報</td>\n      <td>検索対象</td>\n      <td>静岡県静岡市清水区天神１丁目６−１５</td>\n      <td>424</td>\n      <td>0809</td>\n      <td>NaT</td>\n      <td>2018-04</td>\n      <td>2015-10</td>\n      <td>2015-10</td>\n      <td>NaT</td>\n      <td>2018</td>\n      <td>4</td>\n      <td>2018</td>\n    </tr>\n    <tr>\n      <th>2</th>\n      <td>3</td>\n      <td>1000013050080</td>\n      <td>01</td>\n      <td>1</td>\n      <td>2018-04-02</td>\n      <td>2015-10-05</td>\n      <td>浜松簡易裁判所</td>\n      <td>NaN</td>\n      <td>101</td>\n      <td>静岡県</td>\n      <td>浜松市中区</td>\n      <td>中央１丁目１２−５</td>\n      <td>NaN</td>\n      <td>22</td>\n      <td>131</td>\n      <td>4300929</td>\n      <td>NaN</td>\n      <td>NaN</td>\n      <td>NaT</td>\n      <td>NaN</td>\n      <td>NaN</td>\n      <td>NaN</td>\n      <td>2015-10-05</td>\n      <td>1</td>\n      <td>Hamamatsu Summary Court</td>\n      <td>Shizuoka</td>\n      <td>1-12-5, Chuo, Naka ku, Hamamatsu shi</td>\n      <td>NaN</td>\n      <td>ハママツカンイサイバンショ</td>\n      <td>0</td>\n      <td>新規</td>\n      <td>訂正</td>\n      <td>国の機関</td>\n      <td>NaN</td>\n      <td>最新情報</td>\n      <td>検索対象</td>\n      <td>静岡県浜松市中区中央１丁目１２−５</td>\n      <td>430</td>\n      <td>0929</td>\n      <td>NaT</td>\n      <td>2018-04</td>\n      <td>2015-10</td>\n      <td>2015-10</td>\n      <td>NaT</td>\n      <td>2018</td>\n      <td>4</td>\n      <td>2018</td>\n    </tr>\n  </tbody>\n</table>\n</div>"
     },
     "execution_count": 73,
     "metadata": {},
     "output_type": "execute_result"
    }
   ],
   "source": [
    "# 現在の Data 状態を確認\n",
    "print(data.columns.shape[0])\n",
    "print(data.columns)\n",
    "data.head(3)"
   ],
   "metadata": {
    "collapsed": false,
    "pycharm": {
     "name": "#%%\n"
    }
   }
  },
  {
   "cell_type": "code",
   "execution_count": 74,
   "outputs": [],
   "source": [
    "# Column の削除と並び替え\n",
    "data = data[['cityName', 'corporateNumber', 'name', 'corp_kind_name', 'process', 'process_kbn_name', 'assignmentDate', 'updateDate', 'update_fiscal_year', 'update_YM']]"
   ],
   "metadata": {
    "collapsed": false,
    "pycharm": {
     "name": "#%%\n"
    }
   }
  },
  {
   "cell_type": "code",
   "execution_count": 75,
   "outputs": [
    {
     "name": "stdout",
     "output_type": "stream",
     "text": [
      "10\n",
      "Index(['cityName', 'corporateNumber', 'name', 'corp_kind_name', 'process',\n",
      "       'process_kbn_name', 'assignmentDate', 'updateDate',\n",
      "       'update_fiscal_year', 'update_YM'],\n",
      "      dtype='object')\n"
     ]
    },
    {
     "data": {
      "text/plain": "  cityName corporateNumber     name corp_kind_name process process_kbn_name  \\\n0    静岡市葵区   1000013040008  静岡家庭裁判所           国の機関      01               新規   \n1   静岡市清水区   1000013050072  清水簡易裁判所           国の機関      01               新規   \n2    浜松市中区   1000013050080  浜松簡易裁判所           国の機関      01               新規   \n\n  assignmentDate updateDate  update_fiscal_year update_YM  \n0     2015-10-05 2018-04-02                2018   2018-04  \n1     2015-10-05 2018-04-02                2018   2018-04  \n2     2015-10-05 2018-04-02                2018   2018-04  ",
      "text/html": "<div>\n<style scoped>\n    .dataframe tbody tr th:only-of-type {\n        vertical-align: middle;\n    }\n\n    .dataframe tbody tr th {\n        vertical-align: top;\n    }\n\n    .dataframe thead th {\n        text-align: right;\n    }\n</style>\n<table border=\"1\" class=\"dataframe\">\n  <thead>\n    <tr style=\"text-align: right;\">\n      <th></th>\n      <th>cityName</th>\n      <th>corporateNumber</th>\n      <th>name</th>\n      <th>corp_kind_name</th>\n      <th>process</th>\n      <th>process_kbn_name</th>\n      <th>assignmentDate</th>\n      <th>updateDate</th>\n      <th>update_fiscal_year</th>\n      <th>update_YM</th>\n    </tr>\n  </thead>\n  <tbody>\n    <tr>\n      <th>0</th>\n      <td>静岡市葵区</td>\n      <td>1000013040008</td>\n      <td>静岡家庭裁判所</td>\n      <td>国の機関</td>\n      <td>01</td>\n      <td>新規</td>\n      <td>2015-10-05</td>\n      <td>2018-04-02</td>\n      <td>2018</td>\n      <td>2018-04</td>\n    </tr>\n    <tr>\n      <th>1</th>\n      <td>静岡市清水区</td>\n      <td>1000013050072</td>\n      <td>清水簡易裁判所</td>\n      <td>国の機関</td>\n      <td>01</td>\n      <td>新規</td>\n      <td>2015-10-05</td>\n      <td>2018-04-02</td>\n      <td>2018</td>\n      <td>2018-04</td>\n    </tr>\n    <tr>\n      <th>2</th>\n      <td>浜松市中区</td>\n      <td>1000013050080</td>\n      <td>浜松簡易裁判所</td>\n      <td>国の機関</td>\n      <td>01</td>\n      <td>新規</td>\n      <td>2015-10-05</td>\n      <td>2018-04-02</td>\n      <td>2018</td>\n      <td>2018-04</td>\n    </tr>\n  </tbody>\n</table>\n</div>"
     },
     "execution_count": 75,
     "metadata": {},
     "output_type": "execute_result"
    }
   ],
   "source": [
    "# Columns の整理後の Data 状態\n",
    "print(data.columns.shape[0])\n",
    "print(data.columns)\n",
    "data.head(3)"
   ],
   "metadata": {
    "collapsed": false,
    "pycharm": {
     "name": "#%%\n"
    }
   }
  },
  {
   "cell_type": "code",
   "execution_count": 76,
   "outputs": [
    {
     "name": "stdout",
     "output_type": "stream",
     "text": [
      "Index(['cityName', 'corporateNumber', 'name', 'corp_kind_name',\n",
      "       'process_kbn_name', 'assignmentDate', 'updateDate',\n",
      "       'update_fiscal_year', 'update_YM'],\n",
      "      dtype='object')\n"
     ]
    },
    {
     "data": {
      "text/plain": "  cityName corporateNumber     name corp_kind_name process_kbn_name  \\\n0    静岡市葵区   1000013040008  静岡家庭裁判所           国の機関               新規   \n1   静岡市清水区   1000013050072  清水簡易裁判所           国の機関               新規   \n2    浜松市中区   1000013050080  浜松簡易裁判所           国の機関               新規   \n\n  assignmentDate updateDate  update_fiscal_year update_YM  \n0     2015-10-05 2018-04-02                2018   2018-04  \n1     2015-10-05 2018-04-02                2018   2018-04  \n2     2015-10-05 2018-04-02                2018   2018-04  ",
      "text/html": "<div>\n<style scoped>\n    .dataframe tbody tr th:only-of-type {\n        vertical-align: middle;\n    }\n\n    .dataframe tbody tr th {\n        vertical-align: top;\n    }\n\n    .dataframe thead th {\n        text-align: right;\n    }\n</style>\n<table border=\"1\" class=\"dataframe\">\n  <thead>\n    <tr style=\"text-align: right;\">\n      <th></th>\n      <th>cityName</th>\n      <th>corporateNumber</th>\n      <th>name</th>\n      <th>corp_kind_name</th>\n      <th>process_kbn_name</th>\n      <th>assignmentDate</th>\n      <th>updateDate</th>\n      <th>update_fiscal_year</th>\n      <th>update_YM</th>\n    </tr>\n  </thead>\n  <tbody>\n    <tr>\n      <th>0</th>\n      <td>静岡市葵区</td>\n      <td>1000013040008</td>\n      <td>静岡家庭裁判所</td>\n      <td>国の機関</td>\n      <td>新規</td>\n      <td>2015-10-05</td>\n      <td>2018-04-02</td>\n      <td>2018</td>\n      <td>2018-04</td>\n    </tr>\n    <tr>\n      <th>1</th>\n      <td>静岡市清水区</td>\n      <td>1000013050072</td>\n      <td>清水簡易裁判所</td>\n      <td>国の機関</td>\n      <td>新規</td>\n      <td>2015-10-05</td>\n      <td>2018-04-02</td>\n      <td>2018</td>\n      <td>2018-04</td>\n    </tr>\n    <tr>\n      <th>2</th>\n      <td>浜松市中区</td>\n      <td>1000013050080</td>\n      <td>浜松簡易裁判所</td>\n      <td>国の機関</td>\n      <td>新規</td>\n      <td>2015-10-05</td>\n      <td>2018-04-02</td>\n      <td>2018</td>\n      <td>2018-04</td>\n    </tr>\n  </tbody>\n</table>\n</div>"
     },
     "execution_count": 76,
     "metadata": {},
     "output_type": "execute_result"
    }
   ],
   "source": [
    "# 1 column だけ削除\n",
    "data.drop(columns='process', inplace=True)\n",
    "print(data.columns)\n",
    "data.head(3)"
   ],
   "metadata": {
    "collapsed": false,
    "pycharm": {
     "name": "#%%\n"
    }
   }
  },
  {
   "cell_type": "markdown",
   "source": [
    "## まとまった単位で集計しよう"
   ],
   "metadata": {
    "collapsed": false,
    "pycharm": {
     "name": "#%% md\n"
    }
   }
  },
  {
   "cell_type": "code",
   "execution_count": 77,
   "outputs": [
    {
     "name": "stdout",
     "output_type": "stream",
     "text": [
      "corp_kind_name\n",
      "その他             498\n",
      "その他の設立登記法人    14346\n",
      "合同会社           3589\n",
      "合名会社            244\n",
      "合資会社           1668\n",
      "国の機関             16\n",
      "地方公共団体          192\n",
      "有限会社          42874\n",
      "株式会社          51331\n",
      "dtype: int64\n"
     ]
    }
   ],
   "source": [
    "# 法人種別で Grouping した状態\n",
    "tmp = data.groupby('corp_kind_name').size()  # .size(): Data 件数を数える\n",
    "print(tmp)"
   ],
   "metadata": {
    "collapsed": false,
    "pycharm": {
     "name": "#%%\n"
    }
   }
  },
  {
   "cell_type": "code",
   "execution_count": 78,
   "outputs": [
    {
     "name": "stdout",
     "output_type": "stream",
     "text": [
      "corp_kind_name\n",
      "株式会社          51331\n",
      "有限会社          42874\n",
      "その他の設立登記法人    14346\n",
      "合同会社           3589\n",
      "合資会社           1668\n",
      "その他             498\n",
      "合名会社            244\n",
      "地方公共団体          192\n",
      "国の機関             16\n",
      "dtype: int64\n"
     ]
    }
   ],
   "source": [
    "# Grouping した Data の並べ替え\n",
    "tmp.sort_values(inplace=True, ascending=False)\n",
    "print(tmp)"
   ],
   "metadata": {
    "collapsed": false,
    "pycharm": {
     "name": "#%%\n"
    }
   }
  },
  {
   "cell_type": "code",
   "execution_count": 83,
   "outputs": [
    {
     "name": "stdout",
     "output_type": "stream",
     "text": [
      "update_fiscal_year\n",
      "2015    57710\n",
      "2016     4370\n",
      "2017     4038\n",
      "2018    20927\n",
      "2019    14973\n",
      "2020    12370\n",
      "2021      370\n",
      "dtype: int64\n"
     ]
    }
   ],
   "source": [
    "# 更新年度で Grouping\n",
    "tmp = data.groupby('update_fiscal_year').size()\n",
    "print(tmp)"
   ],
   "metadata": {
    "collapsed": false,
    "pycharm": {
     "name": "#%%\n"
    }
   }
  },
  {
   "cell_type": "markdown",
   "source": [
    "年度ごとの Data 件数を確認すると最も古い Data でも2015年であることが確認できる。\n",
    "= あくまで法人番号が登録、更新された年月であり創業日をあらわすものではないということが理解できる。"
   ],
   "metadata": {
    "collapsed": false,
    "pycharm": {
     "name": "#%% md\n"
    }
   }
  },
  {
   "cell_type": "code",
   "execution_count": 85,
   "outputs": [
    {
     "name": "stdout",
     "output_type": "stream",
     "text": [
      "update_fiscal_year  corp_kind_name\n",
      "2015                その他の設立登記法人         6602\n",
      "                    合同会社                889\n",
      "                    合名会社                199\n",
      "                    合資会社               1481\n",
      "                    有限会社              30642\n",
      "                    株式会社              17897\n",
      "2016                その他                   3\n",
      "                    その他の設立登記法人          274\n",
      "                    合同会社                310\n",
      "                    合名会社                  5\n",
      "                    合資会社                 27\n",
      "                    有限会社               1416\n",
      "                    株式会社               2335\n",
      "2017                その他の設立登記法人          246\n",
      "                    合同会社                351\n",
      "                    合名会社                  3\n",
      "                    合資会社                 21\n",
      "                    有限会社               1249\n",
      "                    株式会社               2168\n",
      "2018                その他                 428\n",
      "                    その他の設立登記法人         4256\n",
      "                    合同会社                615\n",
      "                    合名会社                 19\n",
      "                    合資会社                 58\n",
      "                    国の機関                 16\n",
      "                    地方公共団体               64\n",
      "                    有限会社               3468\n",
      "                    株式会社              12003\n",
      "2019                その他                  28\n",
      "                    その他の設立登記法人         1754\n",
      "                    合同会社                635\n",
      "                    合名会社                  9\n",
      "                    合資会社                 47\n",
      "                    有限会社               3059\n",
      "                    株式会社               9441\n",
      "2020                その他                  38\n",
      "                    その他の設立登記法人         1185\n",
      "                    合同会社                747\n",
      "                    合名会社                  7\n",
      "                    合資会社                 34\n",
      "                    地方公共団体              128\n",
      "                    有限会社               2965\n",
      "                    株式会社               7266\n",
      "2021                その他                   1\n",
      "                    その他の設立登記法人           29\n",
      "                    合同会社                 42\n",
      "                    合名会社                  2\n",
      "                    有限会社                 75\n",
      "                    株式会社                221\n",
      "dtype: int64\n"
     ]
    }
   ],
   "source": [
    "# 複数項目で Grouping\n",
    "tmp = data.groupby(['update_fiscal_year', 'corp_kind_name']).size()\n",
    "print(tmp)"
   ],
   "metadata": {
    "collapsed": false,
    "pycharm": {
     "name": "#%%\n"
    }
   }
  },
  {
   "cell_type": "markdown",
   "source": [
    "Group化が扱えるようになると、大量の Data も簡単に集計できる。"
   ],
   "metadata": {
    "collapsed": false,
    "pycharm": {
     "name": "#%% md\n"
    }
   }
  },
  {
   "cell_type": "code",
   "execution_count": 86,
   "outputs": [
    {
     "data": {
      "text/plain": "update_fiscal_year     2015    2016    2017     2018    2019    2020   2021\ncorp_kind_name                                                             \nその他                     NaN     3.0     NaN    428.0    28.0    38.0    1.0\nその他の設立登記法人           6602.0   274.0   246.0   4256.0  1754.0  1185.0   29.0\n合同会社                  889.0   310.0   351.0    615.0   635.0   747.0   42.0\n合名会社                  199.0     5.0     3.0     19.0     9.0     7.0    2.0\n合資会社                 1481.0    27.0    21.0     58.0    47.0    34.0    NaN\n国の機関                    NaN     NaN     NaN     16.0     NaN     NaN    NaN\n地方公共団体                  NaN     NaN     NaN     64.0     NaN   128.0    NaN\n有限会社                30642.0  1416.0  1249.0   3468.0  3059.0  2965.0   75.0\n株式会社                17897.0  2335.0  2168.0  12003.0  9441.0  7266.0  221.0",
      "text/html": "<div>\n<style scoped>\n    .dataframe tbody tr th:only-of-type {\n        vertical-align: middle;\n    }\n\n    .dataframe tbody tr th {\n        vertical-align: top;\n    }\n\n    .dataframe thead th {\n        text-align: right;\n    }\n</style>\n<table border=\"1\" class=\"dataframe\">\n  <thead>\n    <tr style=\"text-align: right;\">\n      <th>update_fiscal_year</th>\n      <th>2015</th>\n      <th>2016</th>\n      <th>2017</th>\n      <th>2018</th>\n      <th>2019</th>\n      <th>2020</th>\n      <th>2021</th>\n    </tr>\n    <tr>\n      <th>corp_kind_name</th>\n      <th></th>\n      <th></th>\n      <th></th>\n      <th></th>\n      <th></th>\n      <th></th>\n      <th></th>\n    </tr>\n  </thead>\n  <tbody>\n    <tr>\n      <th>その他</th>\n      <td>NaN</td>\n      <td>3.0</td>\n      <td>NaN</td>\n      <td>428.0</td>\n      <td>28.0</td>\n      <td>38.0</td>\n      <td>1.0</td>\n    </tr>\n    <tr>\n      <th>その他の設立登記法人</th>\n      <td>6602.0</td>\n      <td>274.0</td>\n      <td>246.0</td>\n      <td>4256.0</td>\n      <td>1754.0</td>\n      <td>1185.0</td>\n      <td>29.0</td>\n    </tr>\n    <tr>\n      <th>合同会社</th>\n      <td>889.0</td>\n      <td>310.0</td>\n      <td>351.0</td>\n      <td>615.0</td>\n      <td>635.0</td>\n      <td>747.0</td>\n      <td>42.0</td>\n    </tr>\n    <tr>\n      <th>合名会社</th>\n      <td>199.0</td>\n      <td>5.0</td>\n      <td>3.0</td>\n      <td>19.0</td>\n      <td>9.0</td>\n      <td>7.0</td>\n      <td>2.0</td>\n    </tr>\n    <tr>\n      <th>合資会社</th>\n      <td>1481.0</td>\n      <td>27.0</td>\n      <td>21.0</td>\n      <td>58.0</td>\n      <td>47.0</td>\n      <td>34.0</td>\n      <td>NaN</td>\n    </tr>\n    <tr>\n      <th>国の機関</th>\n      <td>NaN</td>\n      <td>NaN</td>\n      <td>NaN</td>\n      <td>16.0</td>\n      <td>NaN</td>\n      <td>NaN</td>\n      <td>NaN</td>\n    </tr>\n    <tr>\n      <th>地方公共団体</th>\n      <td>NaN</td>\n      <td>NaN</td>\n      <td>NaN</td>\n      <td>64.0</td>\n      <td>NaN</td>\n      <td>128.0</td>\n      <td>NaN</td>\n    </tr>\n    <tr>\n      <th>有限会社</th>\n      <td>30642.0</td>\n      <td>1416.0</td>\n      <td>1249.0</td>\n      <td>3468.0</td>\n      <td>3059.0</td>\n      <td>2965.0</td>\n      <td>75.0</td>\n    </tr>\n    <tr>\n      <th>株式会社</th>\n      <td>17897.0</td>\n      <td>2335.0</td>\n      <td>2168.0</td>\n      <td>12003.0</td>\n      <td>9441.0</td>\n      <td>7266.0</td>\n      <td>221.0</td>\n    </tr>\n  </tbody>\n</table>\n</div>"
     },
     "execution_count": 86,
     "metadata": {},
     "output_type": "execute_result"
    }
   ],
   "source": [
    "# Pivot table\n",
    "pt_data = pd.pivot_table(data, index='corp_kind_name', columns='update_fiscal_year', aggfunc='size')\n",
    "pt_data"
   ],
   "metadata": {
    "collapsed": false,
    "pycharm": {
     "name": "#%%\n"
    }
   }
  },
  {
   "cell_type": "markdown",
   "source": [
    "Pivot table を使うと、Group化とは異なる方法で簡単に集計できる"
   ],
   "metadata": {
    "collapsed": false,
    "pycharm": {
     "name": "#%% md\n"
    }
   }
  }
 ],
 "metadata": {
  "kernelspec": {
   "display_name": "Python 3",
   "language": "python",
   "name": "python3"
  },
  "language_info": {
   "codemirror_mode": {
    "name": "ipython",
    "version": 2
   },
   "file_extension": ".py",
   "mimetype": "text/x-python",
   "name": "python",
   "nbconvert_exporter": "python",
   "pygments_lexer": "ipython2",
   "version": "2.7.6"
  }
 },
 "nbformat": 4,
 "nbformat_minor": 0
}