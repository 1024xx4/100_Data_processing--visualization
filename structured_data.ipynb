{
 "cells": [
  {
   "cell_type": "markdown",
   "metadata": {
    "collapsed": true,
    "pycharm": {
     "name": "#%% md\n"
    }
   },
   "source": [
    "# 構造化 Data"
   ]
  },
  {
   "cell_type": "markdown",
   "source": [
    "#### Master data\n",
    "System 上で固定する Data.\n",
    "#### Transaction data\n",
    "中身が一定でない Data."
   ],
   "metadata": {
    "collapsed": false,
    "pycharm": {
     "name": "#%% md\n"
    }
   }
  },
  {
   "cell_type": "markdown",
   "source": [
    "## 法人情報 Data を読み込んでみよう"
   ],
   "metadata": {
    "collapsed": false,
    "pycharm": {
     "name": "#%% md\n"
    }
   }
  },
  {
   "cell_type": "code",
   "execution_count": 47,
   "outputs": [],
   "source": [
    "import warnings\n",
    "\n",
    "warnings.filterwarnings('ignore')\n",
    "\n",
    "import pandas as pd\n",
    "from IPython.display import display"
   ],
   "metadata": {
    "collapsed": false,
    "pycharm": {
     "name": "#%%\n"
    }
   }
  },
  {
   "cell_type": "code",
   "execution_count": 2,
   "outputs": [],
   "source": [
    "data = pd.read_csv('data/22_shizuoka_all_20210331.csv', encoding='shift-jis', header=None)"
   ],
   "metadata": {
    "collapsed": false,
    "pycharm": {
     "name": "#%%\n"
    }
   }
  },
  {
   "cell_type": "code",
   "execution_count": 3,
   "outputs": [
    {
     "data": {
      "text/plain": "   0              1   2   3           4           5        6   7    8    9   \\\n0   1  1000013040008   1   1  2018-04-02  2015-10-05  静岡家庭裁判所 NaN  101  静岡県   \n1   2  1000013050072   1   1  2018-04-02  2015-10-05  清水簡易裁判所 NaN  101  静岡県   \n2   3  1000013050080   1   1  2018-04-02  2015-10-05  浜松簡易裁判所 NaN  101  静岡県   \n3   4  1000020222119   1   1  2018-04-05  2015-10-05      磐田市 NaN  201  静岡県   \n4   5  1000020222127   1   1  2018-04-05  2015-10-05      焼津市 NaN  201  静岡県   \n\n   ...  20   21          22  23                       24        25  \\\n0  ... NaN  NaN  2015-10-05   1    Shizuoka Family Court  Shizuoka   \n1  ... NaN  NaN  2015-10-05   1    Shimizu Summary Court  Shizuoka   \n2  ... NaN  NaN  2015-10-05   1  Hamamatsu Summary Court  Shizuoka   \n3  ... NaN  NaN  2015-10-05   1               Iwata City  Shizuoka   \n4  ... NaN  NaN  2015-10-05   1               Yaizu city  Shizuoka   \n\n                                         26  27             28  29  \n0      1-20, Jonaicho, Aoi ku, Shizuoka shi NaN  シズオカカテイサイバンショ   0  \n1  1-6-15, Tenjin, Shimizu ku, Shizuoka shi NaN   シミズカンイサイバンショ   0  \n2      1-12-5, Chuo, Naka ku, Hamamatsu shi NaN  ハママツカンイサイバンショ   0  \n3                   3-1,Kounodai, Iwata shi NaN           イワタシ   0  \n4               2-16-32 Honmachi, Yaizu shi NaN           ヤイヅシ   0  \n\n[5 rows x 30 columns]",
      "text/html": "<div>\n<style scoped>\n    .dataframe tbody tr th:only-of-type {\n        vertical-align: middle;\n    }\n\n    .dataframe tbody tr th {\n        vertical-align: top;\n    }\n\n    .dataframe thead th {\n        text-align: right;\n    }\n</style>\n<table border=\"1\" class=\"dataframe\">\n  <thead>\n    <tr style=\"text-align: right;\">\n      <th></th>\n      <th>0</th>\n      <th>1</th>\n      <th>2</th>\n      <th>3</th>\n      <th>4</th>\n      <th>5</th>\n      <th>6</th>\n      <th>7</th>\n      <th>8</th>\n      <th>9</th>\n      <th>...</th>\n      <th>20</th>\n      <th>21</th>\n      <th>22</th>\n      <th>23</th>\n      <th>24</th>\n      <th>25</th>\n      <th>26</th>\n      <th>27</th>\n      <th>28</th>\n      <th>29</th>\n    </tr>\n  </thead>\n  <tbody>\n    <tr>\n      <th>0</th>\n      <td>1</td>\n      <td>1000013040008</td>\n      <td>1</td>\n      <td>1</td>\n      <td>2018-04-02</td>\n      <td>2015-10-05</td>\n      <td>静岡家庭裁判所</td>\n      <td>NaN</td>\n      <td>101</td>\n      <td>静岡県</td>\n      <td>...</td>\n      <td>NaN</td>\n      <td>NaN</td>\n      <td>2015-10-05</td>\n      <td>1</td>\n      <td>Shizuoka Family Court</td>\n      <td>Shizuoka</td>\n      <td>1-20, Jonaicho, Aoi ku, Shizuoka shi</td>\n      <td>NaN</td>\n      <td>シズオカカテイサイバンショ</td>\n      <td>0</td>\n    </tr>\n    <tr>\n      <th>1</th>\n      <td>2</td>\n      <td>1000013050072</td>\n      <td>1</td>\n      <td>1</td>\n      <td>2018-04-02</td>\n      <td>2015-10-05</td>\n      <td>清水簡易裁判所</td>\n      <td>NaN</td>\n      <td>101</td>\n      <td>静岡県</td>\n      <td>...</td>\n      <td>NaN</td>\n      <td>NaN</td>\n      <td>2015-10-05</td>\n      <td>1</td>\n      <td>Shimizu Summary Court</td>\n      <td>Shizuoka</td>\n      <td>1-6-15, Tenjin, Shimizu ku, Shizuoka shi</td>\n      <td>NaN</td>\n      <td>シミズカンイサイバンショ</td>\n      <td>0</td>\n    </tr>\n    <tr>\n      <th>2</th>\n      <td>3</td>\n      <td>1000013050080</td>\n      <td>1</td>\n      <td>1</td>\n      <td>2018-04-02</td>\n      <td>2015-10-05</td>\n      <td>浜松簡易裁判所</td>\n      <td>NaN</td>\n      <td>101</td>\n      <td>静岡県</td>\n      <td>...</td>\n      <td>NaN</td>\n      <td>NaN</td>\n      <td>2015-10-05</td>\n      <td>1</td>\n      <td>Hamamatsu Summary Court</td>\n      <td>Shizuoka</td>\n      <td>1-12-5, Chuo, Naka ku, Hamamatsu shi</td>\n      <td>NaN</td>\n      <td>ハママツカンイサイバンショ</td>\n      <td>0</td>\n    </tr>\n    <tr>\n      <th>3</th>\n      <td>4</td>\n      <td>1000020222119</td>\n      <td>1</td>\n      <td>1</td>\n      <td>2018-04-05</td>\n      <td>2015-10-05</td>\n      <td>磐田市</td>\n      <td>NaN</td>\n      <td>201</td>\n      <td>静岡県</td>\n      <td>...</td>\n      <td>NaN</td>\n      <td>NaN</td>\n      <td>2015-10-05</td>\n      <td>1</td>\n      <td>Iwata City</td>\n      <td>Shizuoka</td>\n      <td>3-1,Kounodai, Iwata shi</td>\n      <td>NaN</td>\n      <td>イワタシ</td>\n      <td>0</td>\n    </tr>\n    <tr>\n      <th>4</th>\n      <td>5</td>\n      <td>1000020222127</td>\n      <td>1</td>\n      <td>1</td>\n      <td>2018-04-05</td>\n      <td>2015-10-05</td>\n      <td>焼津市</td>\n      <td>NaN</td>\n      <td>201</td>\n      <td>静岡県</td>\n      <td>...</td>\n      <td>NaN</td>\n      <td>NaN</td>\n      <td>2015-10-05</td>\n      <td>1</td>\n      <td>Yaizu city</td>\n      <td>Shizuoka</td>\n      <td>2-16-32 Honmachi, Yaizu shi</td>\n      <td>NaN</td>\n      <td>ヤイヅシ</td>\n      <td>0</td>\n    </tr>\n  </tbody>\n</table>\n<p>5 rows × 30 columns</p>\n</div>"
     },
     "execution_count": 3,
     "metadata": {},
     "output_type": "execute_result"
    }
   ],
   "source": [
    "data.head()"
   ],
   "metadata": {
    "collapsed": false,
    "pycharm": {
     "name": "#%%\n"
    }
   }
  },
  {
   "cell_type": "code",
   "execution_count": 4,
   "outputs": [
    {
     "data": {
      "text/plain": "114613"
     },
     "execution_count": 4,
     "metadata": {},
     "output_type": "execute_result"
    }
   ],
   "source": [
    "len(data)"
   ],
   "metadata": {
    "collapsed": false,
    "pycharm": {
     "name": "#%%\n"
    }
   }
  },
  {
   "cell_type": "code",
   "execution_count": 5,
   "outputs": [
    {
     "data": {
      "text/plain": "114613"
     },
     "execution_count": 5,
     "metadata": {},
     "output_type": "execute_result"
    }
   ],
   "source": [
    "len(data)"
   ],
   "metadata": {
    "collapsed": false,
    "pycharm": {
     "name": "#%%\n"
    }
   }
  },
  {
   "cell_type": "markdown",
   "source": [
    "## 読み込んだ Data を確認しよう"
   ],
   "metadata": {
    "collapsed": false,
    "pycharm": {
     "name": "#%% md\n"
    }
   }
  },
  {
   "cell_type": "code",
   "execution_count": 6,
   "outputs": [
    {
     "data": {
      "text/plain": "Int64Index([ 0,  1,  2,  3,  4,  5,  6,  7,  8,  9, 10, 11, 12, 13, 14, 15, 16,\n            17, 18, 19, 20, 21, 22, 23, 24, 25, 26, 27, 28, 29],\n           dtype='int64')"
     },
     "execution_count": 6,
     "metadata": {},
     "output_type": "execute_result"
    }
   ],
   "source": [
    "data.columns\n",
    "# columns は属性。関数や Method ではないので .columns()のように () はつけない。"
   ],
   "metadata": {
    "collapsed": false,
    "pycharm": {
     "name": "#%%\n"
    }
   }
  },
  {
   "cell_type": "code",
   "execution_count": 7,
   "outputs": [
    {
     "data": {
      "text/plain": "30"
     },
     "execution_count": 7,
     "metadata": {},
     "output_type": "execute_result"
    }
   ],
   "source": [
    "len(data.columns)"
   ],
   "metadata": {
    "collapsed": false,
    "pycharm": {
     "name": "#%%\n"
    }
   }
  },
  {
   "cell_type": "code",
   "execution_count": 8,
   "outputs": [
    {
     "name": "stdout",
     "output_type": "stream",
     "text": [
      "0       int64\n",
      "1       int64\n",
      "2       int64\n",
      "3       int64\n",
      "4      object\n",
      "5      object\n",
      "6      object\n",
      "7     float64\n",
      "8       int64\n",
      "9      object\n",
      "10     object\n",
      "11     object\n",
      "12    float64\n",
      "13      int64\n",
      "14      int64\n",
      "15    float64\n",
      "16    float64\n",
      "17    float64\n",
      "18     object\n",
      "19    float64\n",
      "20    float64\n",
      "21     object\n",
      "22     object\n",
      "23      int64\n",
      "24     object\n",
      "25     object\n",
      "26     object\n",
      "27    float64\n",
      "28     object\n",
      "29      int64\n",
      "dtype: object\n"
     ]
    }
   ],
   "source": [
    "print(data.dtypes)"
   ],
   "metadata": {
    "collapsed": false,
    "pycharm": {
     "name": "#%%\n"
    }
   }
  },
  {
   "cell_type": "code",
   "execution_count": 9,
   "outputs": [],
   "source": [
    "data = pd.read_csv('data/22_shizuoka_all_20210331.csv',\n",
    "                   encoding='shift-jis', header=None, dtype=object)"
   ],
   "metadata": {
    "collapsed": false,
    "pycharm": {
     "name": "#%%\n"
    }
   }
  },
  {
   "cell_type": "code",
   "execution_count": 10,
   "outputs": [
    {
     "data": {
      "text/plain": "  0              1   2  3           4           5        6    7    8    9   \\\n0  1  1000013040008  01  1  2018-04-02  2015-10-05  静岡家庭裁判所  NaN  101  静岡県   \n1  2  1000013050072  01  1  2018-04-02  2015-10-05  清水簡易裁判所  NaN  101  静岡県   \n2  3  1000013050080  01  1  2018-04-02  2015-10-05  浜松簡易裁判所  NaN  101  静岡県   \n3  4  1000020222119  01  1  2018-04-05  2015-10-05      磐田市  NaN  201  静岡県   \n4  5  1000020222127  01  1  2018-04-05  2015-10-05      焼津市  NaN  201  静岡県   \n\n   ...   20   21          22 23                       24        25  \\\n0  ...  NaN  NaN  2015-10-05  1    Shizuoka Family Court  Shizuoka   \n1  ...  NaN  NaN  2015-10-05  1    Shimizu Summary Court  Shizuoka   \n2  ...  NaN  NaN  2015-10-05  1  Hamamatsu Summary Court  Shizuoka   \n3  ...  NaN  NaN  2015-10-05  1               Iwata City  Shizuoka   \n4  ...  NaN  NaN  2015-10-05  1               Yaizu city  Shizuoka   \n\n                                         26   27             28 29  \n0      1-20, Jonaicho, Aoi ku, Shizuoka shi  NaN  シズオカカテイサイバンショ  0  \n1  1-6-15, Tenjin, Shimizu ku, Shizuoka shi  NaN   シミズカンイサイバンショ  0  \n2      1-12-5, Chuo, Naka ku, Hamamatsu shi  NaN  ハママツカンイサイバンショ  0  \n3                   3-1,Kounodai, Iwata shi  NaN           イワタシ  0  \n4               2-16-32 Honmachi, Yaizu shi  NaN           ヤイヅシ  0  \n\n[5 rows x 30 columns]",
      "text/html": "<div>\n<style scoped>\n    .dataframe tbody tr th:only-of-type {\n        vertical-align: middle;\n    }\n\n    .dataframe tbody tr th {\n        vertical-align: top;\n    }\n\n    .dataframe thead th {\n        text-align: right;\n    }\n</style>\n<table border=\"1\" class=\"dataframe\">\n  <thead>\n    <tr style=\"text-align: right;\">\n      <th></th>\n      <th>0</th>\n      <th>1</th>\n      <th>2</th>\n      <th>3</th>\n      <th>4</th>\n      <th>5</th>\n      <th>6</th>\n      <th>7</th>\n      <th>8</th>\n      <th>9</th>\n      <th>...</th>\n      <th>20</th>\n      <th>21</th>\n      <th>22</th>\n      <th>23</th>\n      <th>24</th>\n      <th>25</th>\n      <th>26</th>\n      <th>27</th>\n      <th>28</th>\n      <th>29</th>\n    </tr>\n  </thead>\n  <tbody>\n    <tr>\n      <th>0</th>\n      <td>1</td>\n      <td>1000013040008</td>\n      <td>01</td>\n      <td>1</td>\n      <td>2018-04-02</td>\n      <td>2015-10-05</td>\n      <td>静岡家庭裁判所</td>\n      <td>NaN</td>\n      <td>101</td>\n      <td>静岡県</td>\n      <td>...</td>\n      <td>NaN</td>\n      <td>NaN</td>\n      <td>2015-10-05</td>\n      <td>1</td>\n      <td>Shizuoka Family Court</td>\n      <td>Shizuoka</td>\n      <td>1-20, Jonaicho, Aoi ku, Shizuoka shi</td>\n      <td>NaN</td>\n      <td>シズオカカテイサイバンショ</td>\n      <td>0</td>\n    </tr>\n    <tr>\n      <th>1</th>\n      <td>2</td>\n      <td>1000013050072</td>\n      <td>01</td>\n      <td>1</td>\n      <td>2018-04-02</td>\n      <td>2015-10-05</td>\n      <td>清水簡易裁判所</td>\n      <td>NaN</td>\n      <td>101</td>\n      <td>静岡県</td>\n      <td>...</td>\n      <td>NaN</td>\n      <td>NaN</td>\n      <td>2015-10-05</td>\n      <td>1</td>\n      <td>Shimizu Summary Court</td>\n      <td>Shizuoka</td>\n      <td>1-6-15, Tenjin, Shimizu ku, Shizuoka shi</td>\n      <td>NaN</td>\n      <td>シミズカンイサイバンショ</td>\n      <td>0</td>\n    </tr>\n    <tr>\n      <th>2</th>\n      <td>3</td>\n      <td>1000013050080</td>\n      <td>01</td>\n      <td>1</td>\n      <td>2018-04-02</td>\n      <td>2015-10-05</td>\n      <td>浜松簡易裁判所</td>\n      <td>NaN</td>\n      <td>101</td>\n      <td>静岡県</td>\n      <td>...</td>\n      <td>NaN</td>\n      <td>NaN</td>\n      <td>2015-10-05</td>\n      <td>1</td>\n      <td>Hamamatsu Summary Court</td>\n      <td>Shizuoka</td>\n      <td>1-12-5, Chuo, Naka ku, Hamamatsu shi</td>\n      <td>NaN</td>\n      <td>ハママツカンイサイバンショ</td>\n      <td>0</td>\n    </tr>\n    <tr>\n      <th>3</th>\n      <td>4</td>\n      <td>1000020222119</td>\n      <td>01</td>\n      <td>1</td>\n      <td>2018-04-05</td>\n      <td>2015-10-05</td>\n      <td>磐田市</td>\n      <td>NaN</td>\n      <td>201</td>\n      <td>静岡県</td>\n      <td>...</td>\n      <td>NaN</td>\n      <td>NaN</td>\n      <td>2015-10-05</td>\n      <td>1</td>\n      <td>Iwata City</td>\n      <td>Shizuoka</td>\n      <td>3-1,Kounodai, Iwata shi</td>\n      <td>NaN</td>\n      <td>イワタシ</td>\n      <td>0</td>\n    </tr>\n    <tr>\n      <th>4</th>\n      <td>5</td>\n      <td>1000020222127</td>\n      <td>01</td>\n      <td>1</td>\n      <td>2018-04-05</td>\n      <td>2015-10-05</td>\n      <td>焼津市</td>\n      <td>NaN</td>\n      <td>201</td>\n      <td>静岡県</td>\n      <td>...</td>\n      <td>NaN</td>\n      <td>NaN</td>\n      <td>2015-10-05</td>\n      <td>1</td>\n      <td>Yaizu city</td>\n      <td>Shizuoka</td>\n      <td>2-16-32 Honmachi, Yaizu shi</td>\n      <td>NaN</td>\n      <td>ヤイヅシ</td>\n      <td>0</td>\n    </tr>\n  </tbody>\n</table>\n<p>5 rows × 30 columns</p>\n</div>"
     },
     "execution_count": 10,
     "metadata": {},
     "output_type": "execute_result"
    }
   ],
   "source": [
    "data.head()"
   ],
   "metadata": {
    "collapsed": false,
    "pycharm": {
     "name": "#%%\n"
    }
   }
  },
  {
   "cell_type": "code",
   "execution_count": 11,
   "outputs": [
    {
     "name": "stdout",
     "output_type": "stream",
     "text": [
      "0     object\n",
      "1     object\n",
      "2     object\n",
      "3     object\n",
      "4     object\n",
      "5     object\n",
      "6     object\n",
      "7     object\n",
      "8     object\n",
      "9     object\n",
      "10    object\n",
      "11    object\n",
      "12    object\n",
      "13    object\n",
      "14    object\n",
      "15    object\n",
      "16    object\n",
      "17    object\n",
      "18    object\n",
      "19    object\n",
      "20    object\n",
      "21    object\n",
      "22    object\n",
      "23    object\n",
      "24    object\n",
      "25    object\n",
      "26    object\n",
      "27    object\n",
      "28    object\n",
      "29    object\n",
      "dtype: object\n"
     ]
    }
   ],
   "source": [
    "print(data.dtypes)"
   ],
   "metadata": {
    "collapsed": false,
    "pycharm": {
     "name": "#%%\n"
    }
   }
  },
  {
   "cell_type": "markdown",
   "source": [
    "## Header 用の Text file を読み込もう"
   ],
   "metadata": {
    "collapsed": false,
    "pycharm": {
     "name": "#%% md\n"
    }
   }
  },
  {
   "cell_type": "code",
   "execution_count": 12,
   "outputs": [
    {
     "data": {
      "text/plain": "<bound method NDFrame.head of    column_id\\tcolumn_name_ja\\tcolumn_name_en\n0                    1\\t一連番号\\tsequenceNumber\n1                   2\\t法人番号\\tcorporateNumber\n2                           3\\t処理区分\\tprocess\n3                           4\\t訂正区分\\tcorrect\n4                       5\\t更新年月日\\tupdateDate\n5                       6\\t変更年月日\\tchangeDate\n6                            7\\t商号又は名称\\tname\n7               8\\t商号又は名称イメージID\\tnameImageId\n8                              9\\t法人種別\\tkind\n9            10\\t国内所在地（都道府県）\\tprefectureName\n10                 11\\t国内所在地（市区町村）\\tcityName\n11            12\\t国内所在地（丁目番地等）\\tstreetNumber\n12           13\\t国内所在地イメージID\\taddressImageId\n13               14\\t都道府県コード\\tprefectureCode\n14                     15\\t市区町村コード\\tcityCode\n15                        16\\t郵便番号\\tpostCode\n16                 17\\t国外所在地\\taddressOutside\n17    18\\t国外所在地イメージID\\taddressOutsideImageId\n18                19\\t登記記録の閉鎖等年月日\\tcloseDate\n19               20\\t登記記録の閉鎖等の事由\\tcloseCause\n20     21\\t承継先法人番号\\tsuccessorCorporateNumber\n21                  22\\t変更事由の詳細\\tchangeCause\n22             23\\t法人番号指定年月日\\tassignmentDate\n23                          24\\t最新履歴\\tlatest\n24                  25\\t商号又は名称（英語表記）\\tenName\n25   26\\t国内所在地（都道府県）（英語表記）\\tenPrefectureName\n26     27\\t国内所在地（市町村丁目番地等）（英語表記）\\tenCityName\n27         28\\t国外所在地（英語表記）\\tenAddressOutside\n28                        29\\tフリガナ\\tfurigana\n29                       30\\t検索対象除外\\thihyoji>"
     },
     "execution_count": 12,
     "metadata": {},
     "output_type": "execute_result"
    }
   ],
   "source": [
    "mst = pd.read_csv('data/mst_column_name.txt', encoding='shift-Jis')\n",
    "mst.head"
   ],
   "metadata": {
    "collapsed": false,
    "pycharm": {
     "name": "#%%\n"
    }
   }
  },
  {
   "cell_type": "code",
   "execution_count": 13,
   "outputs": [
    {
     "data": {
      "text/plain": "   column_id column_name_ja   column_name_en\n0          1           一連番号   sequenceNumber\n1          2           法人番号  corporateNumber\n2          3           処理区分          process\n3          4           訂正区分          correct\n4          5          更新年月日       updateDate",
      "text/html": "<div>\n<style scoped>\n    .dataframe tbody tr th:only-of-type {\n        vertical-align: middle;\n    }\n\n    .dataframe tbody tr th {\n        vertical-align: top;\n    }\n\n    .dataframe thead th {\n        text-align: right;\n    }\n</style>\n<table border=\"1\" class=\"dataframe\">\n  <thead>\n    <tr style=\"text-align: right;\">\n      <th></th>\n      <th>column_id</th>\n      <th>column_name_ja</th>\n      <th>column_name_en</th>\n    </tr>\n  </thead>\n  <tbody>\n    <tr>\n      <th>0</th>\n      <td>1</td>\n      <td>一連番号</td>\n      <td>sequenceNumber</td>\n    </tr>\n    <tr>\n      <th>1</th>\n      <td>2</td>\n      <td>法人番号</td>\n      <td>corporateNumber</td>\n    </tr>\n    <tr>\n      <th>2</th>\n      <td>3</td>\n      <td>処理区分</td>\n      <td>process</td>\n    </tr>\n    <tr>\n      <th>3</th>\n      <td>4</td>\n      <td>訂正区分</td>\n      <td>correct</td>\n    </tr>\n    <tr>\n      <th>4</th>\n      <td>5</td>\n      <td>更新年月日</td>\n      <td>updateDate</td>\n    </tr>\n  </tbody>\n</table>\n</div>"
     },
     "execution_count": 13,
     "metadata": {},
     "output_type": "execute_result"
    }
   ],
   "source": [
    "# \\t で区切った状態で再度読み込む\n",
    "mst = pd.read_csv('data/mst_column_name.txt', encoding='shift-jis', sep='\\t')\n",
    "mst.head()"
   ],
   "metadata": {
    "collapsed": false,
    "pycharm": {
     "name": "#%%\n"
    }
   }
  },
  {
   "cell_type": "code",
   "execution_count": 14,
   "outputs": [
    {
     "data": {
      "text/plain": "30"
     },
     "execution_count": 14,
     "metadata": {},
     "output_type": "execute_result"
    }
   ],
   "source": [
    "# Data 件数の確認\n",
    "len(mst)"
   ],
   "metadata": {
    "collapsed": false,
    "pycharm": {
     "name": "#%%\n"
    }
   }
  },
  {
   "cell_type": "markdown",
   "source": [
    "`data.columns` （項目数）と同じ件数であることを確認。"
   ],
   "metadata": {
    "collapsed": false,
    "pycharm": {
     "name": "#%% md\n"
    }
   }
  },
  {
   "cell_type": "code",
   "execution_count": 15,
   "outputs": [
    {
     "data": {
      "text/plain": "True"
     },
     "execution_count": 15,
     "metadata": {},
     "output_type": "execute_result"
    }
   ],
   "source": [
    "# 比較演算子で確認\n",
    "len(mst) == len(data.columns)"
   ],
   "metadata": {
    "collapsed": false,
    "pycharm": {
     "name": "#%%\n"
    }
   }
  },
  {
   "cell_type": "markdown",
   "source": [
    "## Header 行を追加しよう"
   ],
   "metadata": {
    "collapsed": false,
    "pycharm": {
     "name": "#%% md\n"
    }
   }
  },
  {
   "cell_type": "code",
   "execution_count": 16,
   "outputs": [],
   "source": [
    "columns = mst.column_name_en.values"
   ],
   "metadata": {
    "collapsed": false,
    "pycharm": {
     "name": "#%%\n"
    }
   }
  },
  {
   "cell_type": "code",
   "execution_count": 17,
   "outputs": [
    {
     "data": {
      "text/plain": "array(['sequenceNumber', 'corporateNumber', 'process', 'correct',\n       'updateDate', 'changeDate', 'name', 'nameImageId', 'kind',\n       'prefectureName', 'cityName', 'streetNumber', 'addressImageId',\n       'prefectureCode', 'cityCode', 'postCode', 'addressOutside',\n       'addressOutsideImageId', 'closeDate', 'closeCause',\n       'successorCorporateNumber', 'changeCause', 'assignmentDate',\n       'latest', 'enName', 'enPrefectureName', 'enCityName',\n       'enAddressOutside', 'furigana', 'hihyoji'], dtype=object)"
     },
     "metadata": {},
     "output_type": "display_data"
    }
   ],
   "source": [
    "display(columns)"
   ],
   "metadata": {
    "collapsed": false,
    "pycharm": {
     "name": "#%%\n"
    }
   }
  },
  {
   "cell_type": "code",
   "execution_count": 18,
   "outputs": [],
   "source": [
    "data.columns = columns"
   ],
   "metadata": {
    "collapsed": false,
    "pycharm": {
     "name": "#%%\n"
    }
   }
  },
  {
   "cell_type": "code",
   "execution_count": 19,
   "outputs": [
    {
     "data": {
      "text/plain": "  sequenceNumber corporateNumber process correct  updateDate  changeDate  \\\n0              1   1000013040008      01       1  2018-04-02  2015-10-05   \n1              2   1000013050072      01       1  2018-04-02  2015-10-05   \n2              3   1000013050080      01       1  2018-04-02  2015-10-05   \n3              4   1000020222119      01       1  2018-04-05  2015-10-05   \n4              5   1000020222127      01       1  2018-04-05  2015-10-05   \n\n      name nameImageId kind prefectureName  ... successorCorporateNumber  \\\n0  静岡家庭裁判所         NaN  101            静岡県  ...                      NaN   \n1  清水簡易裁判所         NaN  101            静岡県  ...                      NaN   \n2  浜松簡易裁判所         NaN  101            静岡県  ...                      NaN   \n3      磐田市         NaN  201            静岡県  ...                      NaN   \n4      焼津市         NaN  201            静岡県  ...                      NaN   \n\n  changeCause assignmentDate latest                   enName enPrefectureName  \\\n0         NaN     2015-10-05      1    Shizuoka Family Court         Shizuoka   \n1         NaN     2015-10-05      1    Shimizu Summary Court         Shizuoka   \n2         NaN     2015-10-05      1  Hamamatsu Summary Court         Shizuoka   \n3         NaN     2015-10-05      1               Iwata City         Shizuoka   \n4         NaN     2015-10-05      1               Yaizu city         Shizuoka   \n\n                                 enCityName enAddressOutside       furigana  \\\n0      1-20, Jonaicho, Aoi ku, Shizuoka shi              NaN  シズオカカテイサイバンショ   \n1  1-6-15, Tenjin, Shimizu ku, Shizuoka shi              NaN   シミズカンイサイバンショ   \n2      1-12-5, Chuo, Naka ku, Hamamatsu shi              NaN  ハママツカンイサイバンショ   \n3                   3-1,Kounodai, Iwata shi              NaN           イワタシ   \n4               2-16-32 Honmachi, Yaizu shi              NaN           ヤイヅシ   \n\n  hihyoji  \n0       0  \n1       0  \n2       0  \n3       0  \n4       0  \n\n[5 rows x 30 columns]",
      "text/html": "<div>\n<style scoped>\n    .dataframe tbody tr th:only-of-type {\n        vertical-align: middle;\n    }\n\n    .dataframe tbody tr th {\n        vertical-align: top;\n    }\n\n    .dataframe thead th {\n        text-align: right;\n    }\n</style>\n<table border=\"1\" class=\"dataframe\">\n  <thead>\n    <tr style=\"text-align: right;\">\n      <th></th>\n      <th>sequenceNumber</th>\n      <th>corporateNumber</th>\n      <th>process</th>\n      <th>correct</th>\n      <th>updateDate</th>\n      <th>changeDate</th>\n      <th>name</th>\n      <th>nameImageId</th>\n      <th>kind</th>\n      <th>prefectureName</th>\n      <th>...</th>\n      <th>successorCorporateNumber</th>\n      <th>changeCause</th>\n      <th>assignmentDate</th>\n      <th>latest</th>\n      <th>enName</th>\n      <th>enPrefectureName</th>\n      <th>enCityName</th>\n      <th>enAddressOutside</th>\n      <th>furigana</th>\n      <th>hihyoji</th>\n    </tr>\n  </thead>\n  <tbody>\n    <tr>\n      <th>0</th>\n      <td>1</td>\n      <td>1000013040008</td>\n      <td>01</td>\n      <td>1</td>\n      <td>2018-04-02</td>\n      <td>2015-10-05</td>\n      <td>静岡家庭裁判所</td>\n      <td>NaN</td>\n      <td>101</td>\n      <td>静岡県</td>\n      <td>...</td>\n      <td>NaN</td>\n      <td>NaN</td>\n      <td>2015-10-05</td>\n      <td>1</td>\n      <td>Shizuoka Family Court</td>\n      <td>Shizuoka</td>\n      <td>1-20, Jonaicho, Aoi ku, Shizuoka shi</td>\n      <td>NaN</td>\n      <td>シズオカカテイサイバンショ</td>\n      <td>0</td>\n    </tr>\n    <tr>\n      <th>1</th>\n      <td>2</td>\n      <td>1000013050072</td>\n      <td>01</td>\n      <td>1</td>\n      <td>2018-04-02</td>\n      <td>2015-10-05</td>\n      <td>清水簡易裁判所</td>\n      <td>NaN</td>\n      <td>101</td>\n      <td>静岡県</td>\n      <td>...</td>\n      <td>NaN</td>\n      <td>NaN</td>\n      <td>2015-10-05</td>\n      <td>1</td>\n      <td>Shimizu Summary Court</td>\n      <td>Shizuoka</td>\n      <td>1-6-15, Tenjin, Shimizu ku, Shizuoka shi</td>\n      <td>NaN</td>\n      <td>シミズカンイサイバンショ</td>\n      <td>0</td>\n    </tr>\n    <tr>\n      <th>2</th>\n      <td>3</td>\n      <td>1000013050080</td>\n      <td>01</td>\n      <td>1</td>\n      <td>2018-04-02</td>\n      <td>2015-10-05</td>\n      <td>浜松簡易裁判所</td>\n      <td>NaN</td>\n      <td>101</td>\n      <td>静岡県</td>\n      <td>...</td>\n      <td>NaN</td>\n      <td>NaN</td>\n      <td>2015-10-05</td>\n      <td>1</td>\n      <td>Hamamatsu Summary Court</td>\n      <td>Shizuoka</td>\n      <td>1-12-5, Chuo, Naka ku, Hamamatsu shi</td>\n      <td>NaN</td>\n      <td>ハママツカンイサイバンショ</td>\n      <td>0</td>\n    </tr>\n    <tr>\n      <th>3</th>\n      <td>4</td>\n      <td>1000020222119</td>\n      <td>01</td>\n      <td>1</td>\n      <td>2018-04-05</td>\n      <td>2015-10-05</td>\n      <td>磐田市</td>\n      <td>NaN</td>\n      <td>201</td>\n      <td>静岡県</td>\n      <td>...</td>\n      <td>NaN</td>\n      <td>NaN</td>\n      <td>2015-10-05</td>\n      <td>1</td>\n      <td>Iwata City</td>\n      <td>Shizuoka</td>\n      <td>3-1,Kounodai, Iwata shi</td>\n      <td>NaN</td>\n      <td>イワタシ</td>\n      <td>0</td>\n    </tr>\n    <tr>\n      <th>4</th>\n      <td>5</td>\n      <td>1000020222127</td>\n      <td>01</td>\n      <td>1</td>\n      <td>2018-04-05</td>\n      <td>2015-10-05</td>\n      <td>焼津市</td>\n      <td>NaN</td>\n      <td>201</td>\n      <td>静岡県</td>\n      <td>...</td>\n      <td>NaN</td>\n      <td>NaN</td>\n      <td>2015-10-05</td>\n      <td>1</td>\n      <td>Yaizu city</td>\n      <td>Shizuoka</td>\n      <td>2-16-32 Honmachi, Yaizu shi</td>\n      <td>NaN</td>\n      <td>ヤイヅシ</td>\n      <td>0</td>\n    </tr>\n  </tbody>\n</table>\n<p>5 rows × 30 columns</p>\n</div>"
     },
     "execution_count": 19,
     "metadata": {},
     "output_type": "execute_result"
    }
   ],
   "source": [
    "data.head()"
   ],
   "metadata": {
    "collapsed": false,
    "pycharm": {
     "name": "#%%\n"
    }
   }
  },
  {
   "cell_type": "markdown",
   "source": [
    "## 統計量や欠損値を確認しよう"
   ],
   "metadata": {
    "collapsed": false,
    "pycharm": {
     "name": "#%% md\n"
    }
   }
  },
  {
   "cell_type": "code",
   "execution_count": 20,
   "outputs": [
    {
     "data": {
      "text/plain": "       sequenceNumber corporateNumber process correct  updateDate  changeDate  \\\ncount          114613          114613  114613  114613      114613      114613   \nunique         114613          114613       6       2        1316        1344   \ntop                 1   1000013040008      01       0  2015-11-13  2015-10-05   \nfreq                1               1   94126   80704       55969       83291   \n\n          name nameImageId    kind prefectureName  ...  \\\ncount   114613        1243  114613         114613  ...   \nunique  105857        1243       9              1  ...   \ntop       八幡神社    00067214     301            静岡県  ...   \nfreq       171           1   51229         114613  ...   \n\n       successorCorporateNumber  \\\ncount                       666   \nunique                      572   \ntop               8080001004480   \nfreq                         12   \n\n                                              changeCause assignmentDate  \\\ncount                                                1111         114613   \nunique                                               1051           1328   \ntop     平成２９年１２月１日静岡市駿河区富士見台一丁目２１番２２号富士見工業株式会社（8080001...     2015-10-05   \nfreq                                                   12         101316   \n\n        latest                  enName enPrefectureName  \\\ncount   114613                     232              230   \nunique       1                     231                1   \ntop          1  Kamiide financial ward         Shizuoka   \nfreq    114613                       2              230   \n\n                   enCityName enAddressOutside furigana hihyoji  \ncount                     230                0    46620  114613  \nunique                    129                0    41339       2  \ntop     2-1-1,oohara, Ito shi              NaN   ハチマングウ       0  \nfreq                       10              NaN       30  114388  \n\n[4 rows x 30 columns]",
      "text/html": "<div>\n<style scoped>\n    .dataframe tbody tr th:only-of-type {\n        vertical-align: middle;\n    }\n\n    .dataframe tbody tr th {\n        vertical-align: top;\n    }\n\n    .dataframe thead th {\n        text-align: right;\n    }\n</style>\n<table border=\"1\" class=\"dataframe\">\n  <thead>\n    <tr style=\"text-align: right;\">\n      <th></th>\n      <th>sequenceNumber</th>\n      <th>corporateNumber</th>\n      <th>process</th>\n      <th>correct</th>\n      <th>updateDate</th>\n      <th>changeDate</th>\n      <th>name</th>\n      <th>nameImageId</th>\n      <th>kind</th>\n      <th>prefectureName</th>\n      <th>...</th>\n      <th>successorCorporateNumber</th>\n      <th>changeCause</th>\n      <th>assignmentDate</th>\n      <th>latest</th>\n      <th>enName</th>\n      <th>enPrefectureName</th>\n      <th>enCityName</th>\n      <th>enAddressOutside</th>\n      <th>furigana</th>\n      <th>hihyoji</th>\n    </tr>\n  </thead>\n  <tbody>\n    <tr>\n      <th>count</th>\n      <td>114613</td>\n      <td>114613</td>\n      <td>114613</td>\n      <td>114613</td>\n      <td>114613</td>\n      <td>114613</td>\n      <td>114613</td>\n      <td>1243</td>\n      <td>114613</td>\n      <td>114613</td>\n      <td>...</td>\n      <td>666</td>\n      <td>1111</td>\n      <td>114613</td>\n      <td>114613</td>\n      <td>232</td>\n      <td>230</td>\n      <td>230</td>\n      <td>0</td>\n      <td>46620</td>\n      <td>114613</td>\n    </tr>\n    <tr>\n      <th>unique</th>\n      <td>114613</td>\n      <td>114613</td>\n      <td>6</td>\n      <td>2</td>\n      <td>1316</td>\n      <td>1344</td>\n      <td>105857</td>\n      <td>1243</td>\n      <td>9</td>\n      <td>1</td>\n      <td>...</td>\n      <td>572</td>\n      <td>1051</td>\n      <td>1328</td>\n      <td>1</td>\n      <td>231</td>\n      <td>1</td>\n      <td>129</td>\n      <td>0</td>\n      <td>41339</td>\n      <td>2</td>\n    </tr>\n    <tr>\n      <th>top</th>\n      <td>1</td>\n      <td>1000013040008</td>\n      <td>01</td>\n      <td>0</td>\n      <td>2015-11-13</td>\n      <td>2015-10-05</td>\n      <td>八幡神社</td>\n      <td>00067214</td>\n      <td>301</td>\n      <td>静岡県</td>\n      <td>...</td>\n      <td>8080001004480</td>\n      <td>平成２９年１２月１日静岡市駿河区富士見台一丁目２１番２２号富士見工業株式会社（8080001...</td>\n      <td>2015-10-05</td>\n      <td>1</td>\n      <td>Kamiide financial ward</td>\n      <td>Shizuoka</td>\n      <td>2-1-1,oohara, Ito shi</td>\n      <td>NaN</td>\n      <td>ハチマングウ</td>\n      <td>0</td>\n    </tr>\n    <tr>\n      <th>freq</th>\n      <td>1</td>\n      <td>1</td>\n      <td>94126</td>\n      <td>80704</td>\n      <td>55969</td>\n      <td>83291</td>\n      <td>171</td>\n      <td>1</td>\n      <td>51229</td>\n      <td>114613</td>\n      <td>...</td>\n      <td>12</td>\n      <td>12</td>\n      <td>101316</td>\n      <td>114613</td>\n      <td>2</td>\n      <td>230</td>\n      <td>10</td>\n      <td>NaN</td>\n      <td>30</td>\n      <td>114388</td>\n    </tr>\n  </tbody>\n</table>\n<p>4 rows × 30 columns</p>\n</div>"
     },
     "execution_count": 20,
     "metadata": {},
     "output_type": "execute_result"
    }
   ],
   "source": [
    "data.describe()"
   ],
   "metadata": {
    "collapsed": false,
    "pycharm": {
     "name": "#%%\n"
    }
   }
  },
  {
   "cell_type": "markdown",
   "source": [
    "Data が全て Object型で定義しているため、数値の集計ではなく、Data の個数が数えられている。\n",
    "- count: 要素の個数\n",
    "- unique: unique な要素の個数\n",
    "- top: 最頻値\n",
    "- freq: 最頻値の出現回数\n",
    "\n",
    "####### 観点\n",
    "- Unique であるべき Data が、実際にそうなっているか（重複がないか）\n",
    "- 除外されるべき Data が含まれていないか（静岡県以外の Data がないか）\n",
    "- Master で定義されている Code値の種類（unique）が妥当か。\n",
    "\n",
    "###### Data の所感\n",
    "- 重複した Data はない: 「sequenceNumber」, 「corporateNumber」の count と unique が同数。\n",
    "- 静岡県の Data だけ: Master の Code値の種類は未確認だが process や correct の unique数を見る限り妥当と判断。"
   ],
   "metadata": {
    "collapsed": false,
    "pycharm": {
     "name": "#%% md\n"
    }
   }
  },
  {
   "cell_type": "code",
   "execution_count": 21,
   "outputs": [
    {
     "data": {
      "text/plain": "        sequenceNumber  corporateNumber  process  correct  updateDate  \\\n0                False            False    False    False       False   \n1                False            False    False    False       False   \n2                False            False    False    False       False   \n3                False            False    False    False       False   \n4                False            False    False    False       False   \n...                ...              ...      ...      ...         ...   \n114608           False            False    False    False       False   \n114609           False            False    False    False       False   \n114610           False            False    False    False       False   \n114611           False            False    False    False       False   \n114612           False            False    False    False       False   \n\n        changeDate   name  nameImageId   kind  prefectureName  ...  \\\n0            False  False         True  False           False  ...   \n1            False  False         True  False           False  ...   \n2            False  False         True  False           False  ...   \n3            False  False         True  False           False  ...   \n4            False  False         True  False           False  ...   \n...            ...    ...          ...    ...             ...  ...   \n114608       False  False         True  False           False  ...   \n114609       False  False         True  False           False  ...   \n114610       False  False         True  False           False  ...   \n114611       False  False         True  False           False  ...   \n114612       False  False         True  False           False  ...   \n\n        successorCorporateNumber  changeCause  assignmentDate  latest  enName  \\\n0                           True         True           False   False   False   \n1                           True         True           False   False   False   \n2                           True         True           False   False   False   \n3                           True         True           False   False   False   \n4                           True         True           False   False   False   \n...                          ...          ...             ...     ...     ...   \n114608                      True         True           False   False    True   \n114609                      True         True           False   False    True   \n114610                      True         True           False   False    True   \n114611                      True         True           False   False    True   \n114612                      True         True           False   False    True   \n\n        enPrefectureName  enCityName  enAddressOutside  furigana  hihyoji  \n0                  False       False              True     False    False  \n1                  False       False              True     False    False  \n2                  False       False              True     False    False  \n3                  False       False              True     False    False  \n4                  False       False              True     False    False  \n...                  ...         ...               ...       ...      ...  \n114608              True        True              True     False    False  \n114609              True        True              True     False    False  \n114610              True        True              True     False    False  \n114611              True        True              True     False    False  \n114612              True        True              True     False    False  \n\n[114613 rows x 30 columns]",
      "text/html": "<div>\n<style scoped>\n    .dataframe tbody tr th:only-of-type {\n        vertical-align: middle;\n    }\n\n    .dataframe tbody tr th {\n        vertical-align: top;\n    }\n\n    .dataframe thead th {\n        text-align: right;\n    }\n</style>\n<table border=\"1\" class=\"dataframe\">\n  <thead>\n    <tr style=\"text-align: right;\">\n      <th></th>\n      <th>sequenceNumber</th>\n      <th>corporateNumber</th>\n      <th>process</th>\n      <th>correct</th>\n      <th>updateDate</th>\n      <th>changeDate</th>\n      <th>name</th>\n      <th>nameImageId</th>\n      <th>kind</th>\n      <th>prefectureName</th>\n      <th>...</th>\n      <th>successorCorporateNumber</th>\n      <th>changeCause</th>\n      <th>assignmentDate</th>\n      <th>latest</th>\n      <th>enName</th>\n      <th>enPrefectureName</th>\n      <th>enCityName</th>\n      <th>enAddressOutside</th>\n      <th>furigana</th>\n      <th>hihyoji</th>\n    </tr>\n  </thead>\n  <tbody>\n    <tr>\n      <th>0</th>\n      <td>False</td>\n      <td>False</td>\n      <td>False</td>\n      <td>False</td>\n      <td>False</td>\n      <td>False</td>\n      <td>False</td>\n      <td>True</td>\n      <td>False</td>\n      <td>False</td>\n      <td>...</td>\n      <td>True</td>\n      <td>True</td>\n      <td>False</td>\n      <td>False</td>\n      <td>False</td>\n      <td>False</td>\n      <td>False</td>\n      <td>True</td>\n      <td>False</td>\n      <td>False</td>\n    </tr>\n    <tr>\n      <th>1</th>\n      <td>False</td>\n      <td>False</td>\n      <td>False</td>\n      <td>False</td>\n      <td>False</td>\n      <td>False</td>\n      <td>False</td>\n      <td>True</td>\n      <td>False</td>\n      <td>False</td>\n      <td>...</td>\n      <td>True</td>\n      <td>True</td>\n      <td>False</td>\n      <td>False</td>\n      <td>False</td>\n      <td>False</td>\n      <td>False</td>\n      <td>True</td>\n      <td>False</td>\n      <td>False</td>\n    </tr>\n    <tr>\n      <th>2</th>\n      <td>False</td>\n      <td>False</td>\n      <td>False</td>\n      <td>False</td>\n      <td>False</td>\n      <td>False</td>\n      <td>False</td>\n      <td>True</td>\n      <td>False</td>\n      <td>False</td>\n      <td>...</td>\n      <td>True</td>\n      <td>True</td>\n      <td>False</td>\n      <td>False</td>\n      <td>False</td>\n      <td>False</td>\n      <td>False</td>\n      <td>True</td>\n      <td>False</td>\n      <td>False</td>\n    </tr>\n    <tr>\n      <th>3</th>\n      <td>False</td>\n      <td>False</td>\n      <td>False</td>\n      <td>False</td>\n      <td>False</td>\n      <td>False</td>\n      <td>False</td>\n      <td>True</td>\n      <td>False</td>\n      <td>False</td>\n      <td>...</td>\n      <td>True</td>\n      <td>True</td>\n      <td>False</td>\n      <td>False</td>\n      <td>False</td>\n      <td>False</td>\n      <td>False</td>\n      <td>True</td>\n      <td>False</td>\n      <td>False</td>\n    </tr>\n    <tr>\n      <th>4</th>\n      <td>False</td>\n      <td>False</td>\n      <td>False</td>\n      <td>False</td>\n      <td>False</td>\n      <td>False</td>\n      <td>False</td>\n      <td>True</td>\n      <td>False</td>\n      <td>False</td>\n      <td>...</td>\n      <td>True</td>\n      <td>True</td>\n      <td>False</td>\n      <td>False</td>\n      <td>False</td>\n      <td>False</td>\n      <td>False</td>\n      <td>True</td>\n      <td>False</td>\n      <td>False</td>\n    </tr>\n    <tr>\n      <th>...</th>\n      <td>...</td>\n      <td>...</td>\n      <td>...</td>\n      <td>...</td>\n      <td>...</td>\n      <td>...</td>\n      <td>...</td>\n      <td>...</td>\n      <td>...</td>\n      <td>...</td>\n      <td>...</td>\n      <td>...</td>\n      <td>...</td>\n      <td>...</td>\n      <td>...</td>\n      <td>...</td>\n      <td>...</td>\n      <td>...</td>\n      <td>...</td>\n      <td>...</td>\n      <td>...</td>\n    </tr>\n    <tr>\n      <th>114608</th>\n      <td>False</td>\n      <td>False</td>\n      <td>False</td>\n      <td>False</td>\n      <td>False</td>\n      <td>False</td>\n      <td>False</td>\n      <td>True</td>\n      <td>False</td>\n      <td>False</td>\n      <td>...</td>\n      <td>True</td>\n      <td>True</td>\n      <td>False</td>\n      <td>False</td>\n      <td>True</td>\n      <td>True</td>\n      <td>True</td>\n      <td>True</td>\n      <td>False</td>\n      <td>False</td>\n    </tr>\n    <tr>\n      <th>114609</th>\n      <td>False</td>\n      <td>False</td>\n      <td>False</td>\n      <td>False</td>\n      <td>False</td>\n      <td>False</td>\n      <td>False</td>\n      <td>True</td>\n      <td>False</td>\n      <td>False</td>\n      <td>...</td>\n      <td>True</td>\n      <td>True</td>\n      <td>False</td>\n      <td>False</td>\n      <td>True</td>\n      <td>True</td>\n      <td>True</td>\n      <td>True</td>\n      <td>False</td>\n      <td>False</td>\n    </tr>\n    <tr>\n      <th>114610</th>\n      <td>False</td>\n      <td>False</td>\n      <td>False</td>\n      <td>False</td>\n      <td>False</td>\n      <td>False</td>\n      <td>False</td>\n      <td>True</td>\n      <td>False</td>\n      <td>False</td>\n      <td>...</td>\n      <td>True</td>\n      <td>True</td>\n      <td>False</td>\n      <td>False</td>\n      <td>True</td>\n      <td>True</td>\n      <td>True</td>\n      <td>True</td>\n      <td>False</td>\n      <td>False</td>\n    </tr>\n    <tr>\n      <th>114611</th>\n      <td>False</td>\n      <td>False</td>\n      <td>False</td>\n      <td>False</td>\n      <td>False</td>\n      <td>False</td>\n      <td>False</td>\n      <td>True</td>\n      <td>False</td>\n      <td>False</td>\n      <td>...</td>\n      <td>True</td>\n      <td>True</td>\n      <td>False</td>\n      <td>False</td>\n      <td>True</td>\n      <td>True</td>\n      <td>True</td>\n      <td>True</td>\n      <td>False</td>\n      <td>False</td>\n    </tr>\n    <tr>\n      <th>114612</th>\n      <td>False</td>\n      <td>False</td>\n      <td>False</td>\n      <td>False</td>\n      <td>False</td>\n      <td>False</td>\n      <td>False</td>\n      <td>True</td>\n      <td>False</td>\n      <td>False</td>\n      <td>...</td>\n      <td>True</td>\n      <td>True</td>\n      <td>False</td>\n      <td>False</td>\n      <td>True</td>\n      <td>True</td>\n      <td>True</td>\n      <td>True</td>\n      <td>False</td>\n      <td>False</td>\n    </tr>\n  </tbody>\n</table>\n<p>114613 rows × 30 columns</p>\n</div>"
     },
     "execution_count": 21,
     "metadata": {},
     "output_type": "execute_result"
    }
   ],
   "source": [
    "# 欠損値の確認\n",
    "data.isna()"
   ],
   "metadata": {
    "collapsed": false,
    "pycharm": {
     "name": "#%%\n"
    }
   }
  },
  {
   "cell_type": "code",
   "source": [
    "# 欠損値の数を項目ごとに集計\n",
    "print(data.isna().sum())"
   ],
   "metadata": {
    "collapsed": false,
    "pycharm": {
     "name": "#%%\n"
    }
   },
   "execution_count": 22,
   "outputs": [
    {
     "name": "stdout",
     "output_type": "stream",
     "text": [
      "sequenceNumber                   0\n",
      "corporateNumber                  0\n",
      "process                          0\n",
      "correct                          0\n",
      "updateDate                       0\n",
      "changeDate                       0\n",
      "name                             0\n",
      "nameImageId                 113370\n",
      "kind                             0\n",
      "prefectureName                   0\n",
      "cityName                         0\n",
      "streetNumber                    17\n",
      "addressImageId              113418\n",
      "prefectureCode                   0\n",
      "cityCode                         0\n",
      "postCode                       173\n",
      "addressOutside              114613\n",
      "addressOutsideImageId       114613\n",
      "closeDate                   104536\n",
      "closeCause                  104536\n",
      "successorCorporateNumber    113947\n",
      "changeCause                 113502\n",
      "assignmentDate                   0\n",
      "latest                           0\n",
      "enName                      114381\n",
      "enPrefectureName            114383\n",
      "enCityName                  114383\n",
      "enAddressOutside            114613\n",
      "furigana                     67993\n",
      "hihyoji                          0\n",
      "dtype: int64\n"
     ]
    }
   ]
  },
  {
   "cell_type": "markdown",
   "source": [
    "郵便番号（postCode）に欠損値が存在しているため、今回の Data から住所録を作成する場合、注意する。"
   ],
   "metadata": {
    "collapsed": false,
    "pycharm": {
     "name": "#%% md\n"
    }
   }
  },
  {
   "cell_type": "markdown",
   "source": [
    "## 繰り返し処理で新しい Data を追加しよう"
   ],
   "metadata": {
    "collapsed": false,
    "pycharm": {
     "name": "#%% md\n"
    }
   }
  },
  {
   "cell_type": "code",
   "execution_count": 26,
   "outputs": [
    {
     "data": {
      "text/plain": "['mst_correct_kbn.csv',\n '22_shizuoka_all_20210331.csv',\n 'diff_20210408.csv',\n 'mst_closeCause.csv',\n 'mst_column_name.txt',\n 'diff_20210401.csv',\n 'diff_20210409.csv',\n 'diff_20210407.csv',\n 'mst_latest.csv',\n 'mst_corp_kind.csv',\n 'diff_20210406.csv',\n 'diff_20210405.csv',\n 'mst_hihyoji.csv',\n 'mst_process_kbn.csv']"
     },
     "execution_count": 26,
     "metadata": {},
     "output_type": "execute_result"
    }
   ],
   "source": [
    "import os\n",
    "data_url = './sample_file/100knock-process-visualization/chapter-1/data'\n",
    "os.listdir(data_url)"
   ],
   "metadata": {
    "collapsed": false,
    "pycharm": {
     "name": "#%%\n"
    }
   }
  },
  {
   "cell_type": "code",
   "execution_count": 28,
   "outputs": [
    {
     "data": {
      "text/plain": "['./sample_file/100knock-process-visualization/chapter-1/data/diff_20210408.csv',\n './sample_file/100knock-process-visualization/chapter-1/data/diff_20210401.csv',\n './sample_file/100knock-process-visualization/chapter-1/data/diff_20210409.csv',\n './sample_file/100knock-process-visualization/chapter-1/data/diff_20210407.csv',\n './sample_file/100knock-process-visualization/chapter-1/data/diff_20210406.csv',\n './sample_file/100knock-process-visualization/chapter-1/data/diff_20210405.csv']"
     },
     "execution_count": 28,
     "metadata": {},
     "output_type": "execute_result"
    }
   ],
   "source": [
    "from glob import glob  # `glab`: ある Pattern に match するかたまりを取得する Library\n",
    "diff_files = glob(f'{data_url}/diff*.csv')\n",
    "diff_files"
   ],
   "metadata": {
    "collapsed": false,
    "pycharm": {
     "name": "#%%\n"
    }
   }
  },
  {
   "cell_type": "code",
   "execution_count": 31,
   "outputs": [
    {
     "data": {
      "text/plain": "(2316, 30)"
     },
     "metadata": {},
     "output_type": "display_data"
    },
    {
     "data": {
      "text/plain": "  0              1   2  3           4           5                   6    7   \\\n0  1  1010001016019  71  0  2021-04-01  2021-03-01         株式会社国際漢方研究所  NaN   \n1  2  1010001092869  01  1  2021-04-01  2020-06-11  あさひ銀リテールファイナンス株式会社  NaN   \n2  3  1010001092869  21  0  2021-04-01  2021-03-22  あさひ銀リテールファイナンス株式会社  NaN   \n\n    8    9   ...   20                                                 21  \\\n0  301  東京都  ...  NaN  令和３年３月１日東京都渋谷区千駄ヶ谷五丁目２９番１１号ナカニシビル６０２号室株式会社Ｉｎｔｅ...   \n1  301  東京都  ...  NaN                                                NaN   \n2  301  東京都  ...  NaN                                                NaN   \n\n           22 23   24   25   26   27               28 29  \n0  2015-10-05  1  NaN  NaN  NaN  NaN  コクサイカンポウケンキュウショ  0  \n1  2020-06-11  0  NaN  NaN  NaN  NaN  アサヒギンリテールファイナンス  0  \n2  2020-06-11  1  NaN  NaN  NaN  NaN  アサヒギンリテールファイナンス  0  \n\n[3 rows x 30 columns]",
      "text/html": "<div>\n<style scoped>\n    .dataframe tbody tr th:only-of-type {\n        vertical-align: middle;\n    }\n\n    .dataframe tbody tr th {\n        vertical-align: top;\n    }\n\n    .dataframe thead th {\n        text-align: right;\n    }\n</style>\n<table border=\"1\" class=\"dataframe\">\n  <thead>\n    <tr style=\"text-align: right;\">\n      <th></th>\n      <th>0</th>\n      <th>1</th>\n      <th>2</th>\n      <th>3</th>\n      <th>4</th>\n      <th>5</th>\n      <th>6</th>\n      <th>7</th>\n      <th>8</th>\n      <th>9</th>\n      <th>...</th>\n      <th>20</th>\n      <th>21</th>\n      <th>22</th>\n      <th>23</th>\n      <th>24</th>\n      <th>25</th>\n      <th>26</th>\n      <th>27</th>\n      <th>28</th>\n      <th>29</th>\n    </tr>\n  </thead>\n  <tbody>\n    <tr>\n      <th>0</th>\n      <td>1</td>\n      <td>1010001016019</td>\n      <td>71</td>\n      <td>0</td>\n      <td>2021-04-01</td>\n      <td>2021-03-01</td>\n      <td>株式会社国際漢方研究所</td>\n      <td>NaN</td>\n      <td>301</td>\n      <td>東京都</td>\n      <td>...</td>\n      <td>NaN</td>\n      <td>令和３年３月１日東京都渋谷区千駄ヶ谷五丁目２９番１１号ナカニシビル６０２号室株式会社Ｉｎｔｅ...</td>\n      <td>2015-10-05</td>\n      <td>1</td>\n      <td>NaN</td>\n      <td>NaN</td>\n      <td>NaN</td>\n      <td>NaN</td>\n      <td>コクサイカンポウケンキュウショ</td>\n      <td>0</td>\n    </tr>\n    <tr>\n      <th>1</th>\n      <td>2</td>\n      <td>1010001092869</td>\n      <td>01</td>\n      <td>1</td>\n      <td>2021-04-01</td>\n      <td>2020-06-11</td>\n      <td>あさひ銀リテールファイナンス株式会社</td>\n      <td>NaN</td>\n      <td>301</td>\n      <td>東京都</td>\n      <td>...</td>\n      <td>NaN</td>\n      <td>NaN</td>\n      <td>2020-06-11</td>\n      <td>0</td>\n      <td>NaN</td>\n      <td>NaN</td>\n      <td>NaN</td>\n      <td>NaN</td>\n      <td>アサヒギンリテールファイナンス</td>\n      <td>0</td>\n    </tr>\n    <tr>\n      <th>2</th>\n      <td>3</td>\n      <td>1010001092869</td>\n      <td>21</td>\n      <td>0</td>\n      <td>2021-04-01</td>\n      <td>2021-03-22</td>\n      <td>あさひ銀リテールファイナンス株式会社</td>\n      <td>NaN</td>\n      <td>301</td>\n      <td>東京都</td>\n      <td>...</td>\n      <td>NaN</td>\n      <td>NaN</td>\n      <td>2020-06-11</td>\n      <td>1</td>\n      <td>NaN</td>\n      <td>NaN</td>\n      <td>NaN</td>\n      <td>NaN</td>\n      <td>アサヒギンリテールファイナンス</td>\n      <td>0</td>\n    </tr>\n  </tbody>\n</table>\n<p>3 rows × 30 columns</p>\n</div>"
     },
     "execution_count": 31,
     "metadata": {},
     "output_type": "execute_result"
    }
   ],
   "source": [
    "diff_files.sort()\n",
    "diff = pd.read_csv(diff_files[0], encoding='shift-jis', header=None, dtype=object)\n",
    "display(diff.shape)\n",
    "diff.head(3)"
   ],
   "metadata": {
    "collapsed": false,
    "pycharm": {
     "name": "#%%\n"
    }
   }
  },
  {
   "cell_type": "code",
   "execution_count": 38,
   "outputs": [
    {
     "data": {
      "text/plain": "(43, 30)"
     },
     "metadata": {},
     "output_type": "display_data"
    },
    {
     "data": {
      "text/plain": "    sequenceNumber corporateNumber process correct  updateDate  changeDate  \\\n107            108   1080001015906      01       1  2021-04-01  2015-10-05   \n108            109   1080001015906      12       1  2021-04-01  2021-03-30   \n109            110   1080002015434      01       1  2021-04-01  2015-10-05   \n\n            name nameImageId kind prefectureName  ...  \\\n107  株式会社エムケイテック         NaN  301            静岡県  ...   \n108  株式会社エムケイテック         NaN  301            静岡県  ...   \n109   有限会社ハイナンＤＣ         NaN  302            静岡県  ...   \n\n    successorCorporateNumber changeCause assignmentDate latest enName  \\\n107                      NaN         NaN     2015-10-05      0    NaN   \n108                      NaN         NaN     2015-10-05      1    NaN   \n109                      NaN         NaN     2015-10-05      1    NaN   \n\n    enPrefectureName enCityName enAddressOutside   furigana hihyoji  \n107              NaN        NaN              NaN    エムケイテック       0  \n108              NaN        NaN              NaN    エムケイテック       0  \n109              NaN        NaN              NaN  ハイナンディーシー       0  \n\n[3 rows x 30 columns]",
      "text/html": "<div>\n<style scoped>\n    .dataframe tbody tr th:only-of-type {\n        vertical-align: middle;\n    }\n\n    .dataframe tbody tr th {\n        vertical-align: top;\n    }\n\n    .dataframe thead th {\n        text-align: right;\n    }\n</style>\n<table border=\"1\" class=\"dataframe\">\n  <thead>\n    <tr style=\"text-align: right;\">\n      <th></th>\n      <th>sequenceNumber</th>\n      <th>corporateNumber</th>\n      <th>process</th>\n      <th>correct</th>\n      <th>updateDate</th>\n      <th>changeDate</th>\n      <th>name</th>\n      <th>nameImageId</th>\n      <th>kind</th>\n      <th>prefectureName</th>\n      <th>...</th>\n      <th>successorCorporateNumber</th>\n      <th>changeCause</th>\n      <th>assignmentDate</th>\n      <th>latest</th>\n      <th>enName</th>\n      <th>enPrefectureName</th>\n      <th>enCityName</th>\n      <th>enAddressOutside</th>\n      <th>furigana</th>\n      <th>hihyoji</th>\n    </tr>\n  </thead>\n  <tbody>\n    <tr>\n      <th>107</th>\n      <td>108</td>\n      <td>1080001015906</td>\n      <td>01</td>\n      <td>1</td>\n      <td>2021-04-01</td>\n      <td>2015-10-05</td>\n      <td>株式会社エムケイテック</td>\n      <td>NaN</td>\n      <td>301</td>\n      <td>静岡県</td>\n      <td>...</td>\n      <td>NaN</td>\n      <td>NaN</td>\n      <td>2015-10-05</td>\n      <td>0</td>\n      <td>NaN</td>\n      <td>NaN</td>\n      <td>NaN</td>\n      <td>NaN</td>\n      <td>エムケイテック</td>\n      <td>0</td>\n    </tr>\n    <tr>\n      <th>108</th>\n      <td>109</td>\n      <td>1080001015906</td>\n      <td>12</td>\n      <td>1</td>\n      <td>2021-04-01</td>\n      <td>2021-03-30</td>\n      <td>株式会社エムケイテック</td>\n      <td>NaN</td>\n      <td>301</td>\n      <td>静岡県</td>\n      <td>...</td>\n      <td>NaN</td>\n      <td>NaN</td>\n      <td>2015-10-05</td>\n      <td>1</td>\n      <td>NaN</td>\n      <td>NaN</td>\n      <td>NaN</td>\n      <td>NaN</td>\n      <td>エムケイテック</td>\n      <td>0</td>\n    </tr>\n    <tr>\n      <th>109</th>\n      <td>110</td>\n      <td>1080002015434</td>\n      <td>01</td>\n      <td>1</td>\n      <td>2021-04-01</td>\n      <td>2015-10-05</td>\n      <td>有限会社ハイナンＤＣ</td>\n      <td>NaN</td>\n      <td>302</td>\n      <td>静岡県</td>\n      <td>...</td>\n      <td>NaN</td>\n      <td>NaN</td>\n      <td>2015-10-05</td>\n      <td>1</td>\n      <td>NaN</td>\n      <td>NaN</td>\n      <td>NaN</td>\n      <td>NaN</td>\n      <td>ハイナンディーシー</td>\n      <td>0</td>\n    </tr>\n  </tbody>\n</table>\n<p>3 rows × 30 columns</p>\n</div>"
     },
     "execution_count": 38,
     "metadata": {},
     "output_type": "execute_result"
    }
   ],
   "source": [
    "# 静岡県の Data に絞り込む\n",
    "diff.columns = columns\n",
    "diff = diff.loc[diff['prefectureName'] == '静岡県']\n",
    "display(diff.shape)\n",
    "diff.head(3)"
   ],
   "metadata": {
    "collapsed": false,
    "pycharm": {
     "name": "#%%\n"
    }
   }
  },
  {
   "cell_type": "code",
   "execution_count": 48,
   "outputs": [
    {
     "name": "stdout",
     "output_type": "stream",
     "text": [
      "114613\n",
      "True\n",
      "43\n",
      "114656\n"
     ]
    },
    {
     "data": {
      "text/plain": "     sequenceNumber corporateNumber process correct  updateDate  changeDate  \\\n2159           2160   9080401024929      01       0  2021-04-01  2021-04-01   \n2160           2161   9080402007726      01       1  2021-04-01  2015-10-05   \n2161           2162   9080402021917      21       0  2021-04-01  2021-03-30   \n\n          name nameImageId kind prefectureName  ... successorCorporateNumber  \\\n2159  株式会社リガーレ         NaN  301            静岡県  ...                      NaN   \n2160  有限会社丸信商店         NaN  302            静岡県  ...                      NaN   \n2161  有限会社岡本商会         NaN  302            静岡県  ...                      NaN   \n\n     changeCause assignmentDate latest enName enPrefectureName enCityName  \\\n2159         NaN     2021-04-01      1    NaN              NaN        NaN   \n2160         NaN     2015-10-05      1    NaN              NaN        NaN   \n2161         NaN     2015-10-05      1    NaN              NaN        NaN   \n\n     enAddressOutside   furigana hihyoji  \n2159              NaN       リガーレ       0  \n2160              NaN  マルシンショウテン       0  \n2161              NaN  オカモトショウカイ       0  \n\n[3 rows x 30 columns]",
      "text/html": "<div>\n<style scoped>\n    .dataframe tbody tr th:only-of-type {\n        vertical-align: middle;\n    }\n\n    .dataframe tbody tr th {\n        vertical-align: top;\n    }\n\n    .dataframe thead th {\n        text-align: right;\n    }\n</style>\n<table border=\"1\" class=\"dataframe\">\n  <thead>\n    <tr style=\"text-align: right;\">\n      <th></th>\n      <th>sequenceNumber</th>\n      <th>corporateNumber</th>\n      <th>process</th>\n      <th>correct</th>\n      <th>updateDate</th>\n      <th>changeDate</th>\n      <th>name</th>\n      <th>nameImageId</th>\n      <th>kind</th>\n      <th>prefectureName</th>\n      <th>...</th>\n      <th>successorCorporateNumber</th>\n      <th>changeCause</th>\n      <th>assignmentDate</th>\n      <th>latest</th>\n      <th>enName</th>\n      <th>enPrefectureName</th>\n      <th>enCityName</th>\n      <th>enAddressOutside</th>\n      <th>furigana</th>\n      <th>hihyoji</th>\n    </tr>\n  </thead>\n  <tbody>\n    <tr>\n      <th>2159</th>\n      <td>2160</td>\n      <td>9080401024929</td>\n      <td>01</td>\n      <td>0</td>\n      <td>2021-04-01</td>\n      <td>2021-04-01</td>\n      <td>株式会社リガーレ</td>\n      <td>NaN</td>\n      <td>301</td>\n      <td>静岡県</td>\n      <td>...</td>\n      <td>NaN</td>\n      <td>NaN</td>\n      <td>2021-04-01</td>\n      <td>1</td>\n      <td>NaN</td>\n      <td>NaN</td>\n      <td>NaN</td>\n      <td>NaN</td>\n      <td>リガーレ</td>\n      <td>0</td>\n    </tr>\n    <tr>\n      <th>2160</th>\n      <td>2161</td>\n      <td>9080402007726</td>\n      <td>01</td>\n      <td>1</td>\n      <td>2021-04-01</td>\n      <td>2015-10-05</td>\n      <td>有限会社丸信商店</td>\n      <td>NaN</td>\n      <td>302</td>\n      <td>静岡県</td>\n      <td>...</td>\n      <td>NaN</td>\n      <td>NaN</td>\n      <td>2015-10-05</td>\n      <td>1</td>\n      <td>NaN</td>\n      <td>NaN</td>\n      <td>NaN</td>\n      <td>NaN</td>\n      <td>マルシンショウテン</td>\n      <td>0</td>\n    </tr>\n    <tr>\n      <th>2161</th>\n      <td>2162</td>\n      <td>9080402021917</td>\n      <td>21</td>\n      <td>0</td>\n      <td>2021-04-01</td>\n      <td>2021-03-30</td>\n      <td>有限会社岡本商会</td>\n      <td>NaN</td>\n      <td>302</td>\n      <td>静岡県</td>\n      <td>...</td>\n      <td>NaN</td>\n      <td>NaN</td>\n      <td>2015-10-05</td>\n      <td>1</td>\n      <td>NaN</td>\n      <td>NaN</td>\n      <td>NaN</td>\n      <td>NaN</td>\n      <td>オカモトショウカイ</td>\n      <td>0</td>\n    </tr>\n  </tbody>\n</table>\n<p>3 rows × 30 columns</p>\n</div>"
     },
     "execution_count": 48,
     "metadata": {},
     "output_type": "execute_result"
    }
   ],
   "source": [
    "# Data を結合する\n",
    "data_test = data  # Test用の変数に data を copy\n",
    "print(data_test.shape[0])  # 既存の件数を確認\n",
    "print(data_test.shape[0] == data.shape[0])  # 既存の件数が正しいことを確認\n",
    "print(diff.shape[0])  # 差分の件数を確認\n",
    "data_test = data_test.append(diff)  # Test用の変数に差分Data を追加\n",
    "print(data_test.shape[0])  # 追加後の件数を確認\n",
    "data_test.tail(3)"
   ],
   "metadata": {
    "collapsed": false,
    "pycharm": {
     "name": "#%%\n"
    }
   }
  },
  {
   "cell_type": "markdown",
   "source": [
    "結合前後の件数表示は、正しさの検証。\n",
    "件数の証明はどこにいっても求められるので、確認する癖をつける"
   ],
   "metadata": {
    "collapsed": false,
    "pycharm": {
     "name": "#%% md\n"
    }
   }
  },
  {
   "cell_type": "code",
   "execution_count": 49,
   "outputs": [
    {
     "data": {
      "text/plain": "     sequenceNumber corporateNumber process correct  updateDate  changeDate  \\\n0                 1   1000013040008      01       1  2018-04-02  2015-10-05   \n1                 2   1000013050072      01       1  2018-04-02  2015-10-05   \n2                 3   1000013050080      01       1  2018-04-02  2015-10-05   \n3                 4   1000020222119      01       1  2018-04-05  2015-10-05   \n4                 5   1000020222127      01       1  2018-04-05  2015-10-05   \n...             ...             ...     ...     ...         ...         ...   \n3194           3195   9080001021673      01       1  2021-04-09  2017-07-07   \n3195           3196   9080101022431      01       0  2021-04-09  2021-04-09   \n3196           3197   9080102008933      01       1  2021-04-09  2015-10-05   \n3197           3198   9080402002859      21       0  2021-04-09  2021-04-01   \n3198           3199   9080402015836      12       0  2021-04-09  2021-04-01   \n\n            name nameImageId kind prefectureName  ...  \\\n0        静岡家庭裁判所         NaN  101            静岡県  ...   \n1        清水簡易裁判所         NaN  101            静岡県  ...   \n2        浜松簡易裁判所         NaN  101            静岡県  ...   \n3            磐田市         NaN  201            静岡県  ...   \n4            焼津市         NaN  201            静岡県  ...   \n...          ...         ...  ...            ...  ...   \n3194     株式会社ＡＣＴ         NaN  301            静岡県  ...   \n3195  株式会社ＬＥＳＱＵＡ         NaN  301            静岡県  ...   \n3196   有限会社サクラ急送         NaN  302            静岡県  ...   \n3197      有限会社弘法         NaN  302            静岡県  ...   \n3198  有限会社エコワークス         NaN  302            静岡県  ...   \n\n     successorCorporateNumber  \\\n0                         NaN   \n1                         NaN   \n2                         NaN   \n3                         NaN   \n4                         NaN   \n...                       ...   \n3194                      NaN   \n3195                      NaN   \n3196                      NaN   \n3197            8080401016019   \n3198                      NaN   \n\n                                            changeCause assignmentDate latest  \\\n0                                                   NaN     2015-10-05      1   \n1                                                   NaN     2015-10-05      1   \n2                                                   NaN     2015-10-05      1   \n3                                                   NaN     2015-10-05      1   \n4                                                   NaN     2015-10-05      1   \n...                                                 ...            ...    ...   \n3194                                                NaN     2017-07-07      1   \n3195                                                NaN     2021-04-09      1   \n3196                                                NaN     2015-10-05      1   \n3197  令和３年４月１日静岡県磐田市安久路二丁目２番地の２まごころ株式会社（808040101601...     2015-10-05      1   \n3198                                                NaN     2015-10-05      1   \n\n                       enName enPrefectureName  \\\n0       Shizuoka Family Court         Shizuoka   \n1       Shimizu Summary Court         Shizuoka   \n2     Hamamatsu Summary Court         Shizuoka   \n3                  Iwata City         Shizuoka   \n4                  Yaizu city         Shizuoka   \n...                       ...              ...   \n3194                      NaN              NaN   \n3195                      NaN              NaN   \n3196                      NaN              NaN   \n3197                      NaN              NaN   \n3198                      NaN              NaN   \n\n                                    enCityName enAddressOutside  \\\n0         1-20, Jonaicho, Aoi ku, Shizuoka shi              NaN   \n1     1-6-15, Tenjin, Shimizu ku, Shizuoka shi              NaN   \n2         1-12-5, Chuo, Naka ku, Hamamatsu shi              NaN   \n3                      3-1,Kounodai, Iwata shi              NaN   \n4                  2-16-32 Honmachi, Yaizu shi              NaN   \n...                                        ...              ...   \n3194                                       NaN              NaN   \n3195                                       NaN              NaN   \n3196                                       NaN              NaN   \n3197                                       NaN              NaN   \n3198                                       NaN              NaN   \n\n           furigana hihyoji  \n0     シズオカカテイサイバンショ       0  \n1      シミズカンイサイバンショ       0  \n2     ハママツカンイサイバンショ       0  \n3              イワタシ       0  \n4              ヤイヅシ       0  \n...             ...     ...  \n3194            アクト       0  \n3195            レスカ       0  \n3196       サクラキュウソウ       0  \n3197           コウボウ       0  \n3198         エコワークス       0  \n\n[115020 rows x 30 columns]",
      "text/html": "<div>\n<style scoped>\n    .dataframe tbody tr th:only-of-type {\n        vertical-align: middle;\n    }\n\n    .dataframe tbody tr th {\n        vertical-align: top;\n    }\n\n    .dataframe thead th {\n        text-align: right;\n    }\n</style>\n<table border=\"1\" class=\"dataframe\">\n  <thead>\n    <tr style=\"text-align: right;\">\n      <th></th>\n      <th>sequenceNumber</th>\n      <th>corporateNumber</th>\n      <th>process</th>\n      <th>correct</th>\n      <th>updateDate</th>\n      <th>changeDate</th>\n      <th>name</th>\n      <th>nameImageId</th>\n      <th>kind</th>\n      <th>prefectureName</th>\n      <th>...</th>\n      <th>successorCorporateNumber</th>\n      <th>changeCause</th>\n      <th>assignmentDate</th>\n      <th>latest</th>\n      <th>enName</th>\n      <th>enPrefectureName</th>\n      <th>enCityName</th>\n      <th>enAddressOutside</th>\n      <th>furigana</th>\n      <th>hihyoji</th>\n    </tr>\n  </thead>\n  <tbody>\n    <tr>\n      <th>0</th>\n      <td>1</td>\n      <td>1000013040008</td>\n      <td>01</td>\n      <td>1</td>\n      <td>2018-04-02</td>\n      <td>2015-10-05</td>\n      <td>静岡家庭裁判所</td>\n      <td>NaN</td>\n      <td>101</td>\n      <td>静岡県</td>\n      <td>...</td>\n      <td>NaN</td>\n      <td>NaN</td>\n      <td>2015-10-05</td>\n      <td>1</td>\n      <td>Shizuoka Family Court</td>\n      <td>Shizuoka</td>\n      <td>1-20, Jonaicho, Aoi ku, Shizuoka shi</td>\n      <td>NaN</td>\n      <td>シズオカカテイサイバンショ</td>\n      <td>0</td>\n    </tr>\n    <tr>\n      <th>1</th>\n      <td>2</td>\n      <td>1000013050072</td>\n      <td>01</td>\n      <td>1</td>\n      <td>2018-04-02</td>\n      <td>2015-10-05</td>\n      <td>清水簡易裁判所</td>\n      <td>NaN</td>\n      <td>101</td>\n      <td>静岡県</td>\n      <td>...</td>\n      <td>NaN</td>\n      <td>NaN</td>\n      <td>2015-10-05</td>\n      <td>1</td>\n      <td>Shimizu Summary Court</td>\n      <td>Shizuoka</td>\n      <td>1-6-15, Tenjin, Shimizu ku, Shizuoka shi</td>\n      <td>NaN</td>\n      <td>シミズカンイサイバンショ</td>\n      <td>0</td>\n    </tr>\n    <tr>\n      <th>2</th>\n      <td>3</td>\n      <td>1000013050080</td>\n      <td>01</td>\n      <td>1</td>\n      <td>2018-04-02</td>\n      <td>2015-10-05</td>\n      <td>浜松簡易裁判所</td>\n      <td>NaN</td>\n      <td>101</td>\n      <td>静岡県</td>\n      <td>...</td>\n      <td>NaN</td>\n      <td>NaN</td>\n      <td>2015-10-05</td>\n      <td>1</td>\n      <td>Hamamatsu Summary Court</td>\n      <td>Shizuoka</td>\n      <td>1-12-5, Chuo, Naka ku, Hamamatsu shi</td>\n      <td>NaN</td>\n      <td>ハママツカンイサイバンショ</td>\n      <td>0</td>\n    </tr>\n    <tr>\n      <th>3</th>\n      <td>4</td>\n      <td>1000020222119</td>\n      <td>01</td>\n      <td>1</td>\n      <td>2018-04-05</td>\n      <td>2015-10-05</td>\n      <td>磐田市</td>\n      <td>NaN</td>\n      <td>201</td>\n      <td>静岡県</td>\n      <td>...</td>\n      <td>NaN</td>\n      <td>NaN</td>\n      <td>2015-10-05</td>\n      <td>1</td>\n      <td>Iwata City</td>\n      <td>Shizuoka</td>\n      <td>3-1,Kounodai, Iwata shi</td>\n      <td>NaN</td>\n      <td>イワタシ</td>\n      <td>0</td>\n    </tr>\n    <tr>\n      <th>4</th>\n      <td>5</td>\n      <td>1000020222127</td>\n      <td>01</td>\n      <td>1</td>\n      <td>2018-04-05</td>\n      <td>2015-10-05</td>\n      <td>焼津市</td>\n      <td>NaN</td>\n      <td>201</td>\n      <td>静岡県</td>\n      <td>...</td>\n      <td>NaN</td>\n      <td>NaN</td>\n      <td>2015-10-05</td>\n      <td>1</td>\n      <td>Yaizu city</td>\n      <td>Shizuoka</td>\n      <td>2-16-32 Honmachi, Yaizu shi</td>\n      <td>NaN</td>\n      <td>ヤイヅシ</td>\n      <td>0</td>\n    </tr>\n    <tr>\n      <th>...</th>\n      <td>...</td>\n      <td>...</td>\n      <td>...</td>\n      <td>...</td>\n      <td>...</td>\n      <td>...</td>\n      <td>...</td>\n      <td>...</td>\n      <td>...</td>\n      <td>...</td>\n      <td>...</td>\n      <td>...</td>\n      <td>...</td>\n      <td>...</td>\n      <td>...</td>\n      <td>...</td>\n      <td>...</td>\n      <td>...</td>\n      <td>...</td>\n      <td>...</td>\n      <td>...</td>\n    </tr>\n    <tr>\n      <th>3194</th>\n      <td>3195</td>\n      <td>9080001021673</td>\n      <td>01</td>\n      <td>1</td>\n      <td>2021-04-09</td>\n      <td>2017-07-07</td>\n      <td>株式会社ＡＣＴ</td>\n      <td>NaN</td>\n      <td>301</td>\n      <td>静岡県</td>\n      <td>...</td>\n      <td>NaN</td>\n      <td>NaN</td>\n      <td>2017-07-07</td>\n      <td>1</td>\n      <td>NaN</td>\n      <td>NaN</td>\n      <td>NaN</td>\n      <td>NaN</td>\n      <td>アクト</td>\n      <td>0</td>\n    </tr>\n    <tr>\n      <th>3195</th>\n      <td>3196</td>\n      <td>9080101022431</td>\n      <td>01</td>\n      <td>0</td>\n      <td>2021-04-09</td>\n      <td>2021-04-09</td>\n      <td>株式会社ＬＥＳＱＵＡ</td>\n      <td>NaN</td>\n      <td>301</td>\n      <td>静岡県</td>\n      <td>...</td>\n      <td>NaN</td>\n      <td>NaN</td>\n      <td>2021-04-09</td>\n      <td>1</td>\n      <td>NaN</td>\n      <td>NaN</td>\n      <td>NaN</td>\n      <td>NaN</td>\n      <td>レスカ</td>\n      <td>0</td>\n    </tr>\n    <tr>\n      <th>3196</th>\n      <td>3197</td>\n      <td>9080102008933</td>\n      <td>01</td>\n      <td>1</td>\n      <td>2021-04-09</td>\n      <td>2015-10-05</td>\n      <td>有限会社サクラ急送</td>\n      <td>NaN</td>\n      <td>302</td>\n      <td>静岡県</td>\n      <td>...</td>\n      <td>NaN</td>\n      <td>NaN</td>\n      <td>2015-10-05</td>\n      <td>1</td>\n      <td>NaN</td>\n      <td>NaN</td>\n      <td>NaN</td>\n      <td>NaN</td>\n      <td>サクラキュウソウ</td>\n      <td>0</td>\n    </tr>\n    <tr>\n      <th>3197</th>\n      <td>3198</td>\n      <td>9080402002859</td>\n      <td>21</td>\n      <td>0</td>\n      <td>2021-04-09</td>\n      <td>2021-04-01</td>\n      <td>有限会社弘法</td>\n      <td>NaN</td>\n      <td>302</td>\n      <td>静岡県</td>\n      <td>...</td>\n      <td>8080401016019</td>\n      <td>令和３年４月１日静岡県磐田市安久路二丁目２番地の２まごころ株式会社（808040101601...</td>\n      <td>2015-10-05</td>\n      <td>1</td>\n      <td>NaN</td>\n      <td>NaN</td>\n      <td>NaN</td>\n      <td>NaN</td>\n      <td>コウボウ</td>\n      <td>0</td>\n    </tr>\n    <tr>\n      <th>3198</th>\n      <td>3199</td>\n      <td>9080402015836</td>\n      <td>12</td>\n      <td>0</td>\n      <td>2021-04-09</td>\n      <td>2021-04-01</td>\n      <td>有限会社エコワークス</td>\n      <td>NaN</td>\n      <td>302</td>\n      <td>静岡県</td>\n      <td>...</td>\n      <td>NaN</td>\n      <td>NaN</td>\n      <td>2015-10-05</td>\n      <td>1</td>\n      <td>NaN</td>\n      <td>NaN</td>\n      <td>NaN</td>\n      <td>NaN</td>\n      <td>エコワークス</td>\n      <td>0</td>\n    </tr>\n  </tbody>\n</table>\n<p>115020 rows × 30 columns</p>\n</div>"
     },
     "execution_count": 49,
     "metadata": {},
     "output_type": "execute_result"
    }
   ],
   "source": [
    "# 繰り返し処理する\n",
    "for f in diff_files:\n",
    "    diff = pd.read_csv(f, encoding='shift-jis', header=None, dtype=object)\n",
    "    diff.columns = columns\n",
    "    diff = diff.loc[diff['prefectureName'] == '静岡県']\n",
    "    data = data.append(diff)\n",
    "\n",
    "data"
   ],
   "metadata": {
    "collapsed": false,
    "pycharm": {
     "name": "#%%\n"
    }
   }
  },
  {
   "cell_type": "code",
   "source": [
    "# 改めて統計量と欠損値を確認する\n",
    "data.describe()"
   ],
   "metadata": {
    "collapsed": false,
    "pycharm": {
     "name": "#%%\n"
    }
   },
   "execution_count": 51,
   "outputs": [
    {
     "data": {
      "text/plain": "       sequenceNumber corporateNumber process correct  updateDate  changeDate  \\\ncount          115020          115020  115020  115020      115020      115020   \nunique         114613          114758       6       2        1322        1351   \ntop              3032   7080402010509      01       0  2015-11-13  2015-10-05   \nfreq                4               5   94398   80949       55969       83411   \n\n          name nameImageId    kind prefectureName  ...  \\\ncount   115020        1246  115020         115020  ...   \nunique  106019        1245       9              1  ...   \ntop       八幡神社    00067824     301            静岡県  ...   \nfreq       171           2   51474         115020  ...   \n\n       successorCorporateNumber  \\\ncount                       678   \nunique                      581   \ntop               8080001004480   \nfreq                         12   \n\n                                              changeCause assignmentDate  \\\ncount                                                1130         115020   \nunique                                               1067           1334   \ntop     平成２９年１２月１日静岡市駿河区富士見台一丁目２１番２２号富士見工業株式会社（8080001...     2015-10-05   \nfreq                                                   12         101546   \n\n        latest                  enName enPrefectureName  \\\ncount   115020                     233              231   \nunique       2                     232                1   \ntop          1  Kamiide financial ward         Shizuoka   \nfreq    114985                       2              231   \n\n                   enCityName enAddressOutside furigana hihyoji  \ncount                     231                0    47018  115020  \nunique                    130                0    41577       2  \ntop     2-1-1,oohara, Ito shi              NaN   ハチマングウ       0  \nfreq                       10              NaN       30  114795  \n\n[4 rows x 30 columns]",
      "text/html": "<div>\n<style scoped>\n    .dataframe tbody tr th:only-of-type {\n        vertical-align: middle;\n    }\n\n    .dataframe tbody tr th {\n        vertical-align: top;\n    }\n\n    .dataframe thead th {\n        text-align: right;\n    }\n</style>\n<table border=\"1\" class=\"dataframe\">\n  <thead>\n    <tr style=\"text-align: right;\">\n      <th></th>\n      <th>sequenceNumber</th>\n      <th>corporateNumber</th>\n      <th>process</th>\n      <th>correct</th>\n      <th>updateDate</th>\n      <th>changeDate</th>\n      <th>name</th>\n      <th>nameImageId</th>\n      <th>kind</th>\n      <th>prefectureName</th>\n      <th>...</th>\n      <th>successorCorporateNumber</th>\n      <th>changeCause</th>\n      <th>assignmentDate</th>\n      <th>latest</th>\n      <th>enName</th>\n      <th>enPrefectureName</th>\n      <th>enCityName</th>\n      <th>enAddressOutside</th>\n      <th>furigana</th>\n      <th>hihyoji</th>\n    </tr>\n  </thead>\n  <tbody>\n    <tr>\n      <th>count</th>\n      <td>115020</td>\n      <td>115020</td>\n      <td>115020</td>\n      <td>115020</td>\n      <td>115020</td>\n      <td>115020</td>\n      <td>115020</td>\n      <td>1246</td>\n      <td>115020</td>\n      <td>115020</td>\n      <td>...</td>\n      <td>678</td>\n      <td>1130</td>\n      <td>115020</td>\n      <td>115020</td>\n      <td>233</td>\n      <td>231</td>\n      <td>231</td>\n      <td>0</td>\n      <td>47018</td>\n      <td>115020</td>\n    </tr>\n    <tr>\n      <th>unique</th>\n      <td>114613</td>\n      <td>114758</td>\n      <td>6</td>\n      <td>2</td>\n      <td>1322</td>\n      <td>1351</td>\n      <td>106019</td>\n      <td>1245</td>\n      <td>9</td>\n      <td>1</td>\n      <td>...</td>\n      <td>581</td>\n      <td>1067</td>\n      <td>1334</td>\n      <td>2</td>\n      <td>232</td>\n      <td>1</td>\n      <td>130</td>\n      <td>0</td>\n      <td>41577</td>\n      <td>2</td>\n    </tr>\n    <tr>\n      <th>top</th>\n      <td>3032</td>\n      <td>7080402010509</td>\n      <td>01</td>\n      <td>0</td>\n      <td>2015-11-13</td>\n      <td>2015-10-05</td>\n      <td>八幡神社</td>\n      <td>00067824</td>\n      <td>301</td>\n      <td>静岡県</td>\n      <td>...</td>\n      <td>8080001004480</td>\n      <td>平成２９年１２月１日静岡市駿河区富士見台一丁目２１番２２号富士見工業株式会社（8080001...</td>\n      <td>2015-10-05</td>\n      <td>1</td>\n      <td>Kamiide financial ward</td>\n      <td>Shizuoka</td>\n      <td>2-1-1,oohara, Ito shi</td>\n      <td>NaN</td>\n      <td>ハチマングウ</td>\n      <td>0</td>\n    </tr>\n    <tr>\n      <th>freq</th>\n      <td>4</td>\n      <td>5</td>\n      <td>94398</td>\n      <td>80949</td>\n      <td>55969</td>\n      <td>83411</td>\n      <td>171</td>\n      <td>2</td>\n      <td>51474</td>\n      <td>115020</td>\n      <td>...</td>\n      <td>12</td>\n      <td>12</td>\n      <td>101546</td>\n      <td>114985</td>\n      <td>2</td>\n      <td>231</td>\n      <td>10</td>\n      <td>NaN</td>\n      <td>30</td>\n      <td>114795</td>\n    </tr>\n  </tbody>\n</table>\n<p>4 rows × 30 columns</p>\n</div>"
     },
     "execution_count": 51,
     "metadata": {},
     "output_type": "execute_result"
    }
   ]
  },
  {
   "cell_type": "markdown",
   "source": [
    "sequenceNumber と corporateNumber の count と unique が一致しなくなった。\n",
    "corporateNumber は法人番号なので、既存の法人に何かしらの変更が加わり、差分Data として情報が追加されたと推測される。"
   ],
   "metadata": {
    "collapsed": false,
    "pycharm": {
     "name": "#%% md\n"
    }
   }
  },
  {
   "cell_type": "code",
   "execution_count": 55,
   "outputs": [
    {
     "data": {
      "text/plain": "     sequenceNumber corporateNumber process correct  updateDate  changeDate  \\\n107             108   1080001015906      01       1  2021-04-01  2015-10-05   \n108             109   1080001015906      12       1  2021-04-01  2021-03-30   \n109             110   1080002015434      01       1  2021-04-01  2015-10-05   \n110             111   1080105005588      12       0  2021-04-01  2021-03-25   \n113             114   1080403003401      21       0  2021-04-01  2021-03-02   \n...             ...             ...     ...     ...         ...         ...   \n3193           3194   9080001004208      01       1  2021-04-09  2015-10-05   \n3194           3195   9080001021673      01       1  2021-04-09  2017-07-07   \n3196           3197   9080102008933      01       1  2021-04-09  2015-10-05   \n3197           3198   9080402002859      21       0  2021-04-09  2021-04-01   \n3198           3199   9080402015836      12       0  2021-04-09  2021-04-01   \n\n                        name nameImageId kind prefectureName  ...  \\\n107              株式会社エムケイテック         NaN  301            静岡県  ...   \n108              株式会社エムケイテック         NaN  301            静岡県  ...   \n109               有限会社ハイナンＤＣ         NaN  302            静岡県  ...   \n110   認定特定非営利活動法人ＲＥＡＬＥ　ＷＯＲＬＤ         NaN  399            静岡県  ...   \n113          合同会社ポップスターインポート         NaN  305            静岡県  ...   \n...                      ...         ...  ...            ...  ...   \n3193                  株式会社葉桐         NaN  301            静岡県  ...   \n3194                 株式会社ＡＣＴ         NaN  301            静岡県  ...   \n3196               有限会社サクラ急送         NaN  302            静岡県  ...   \n3197                  有限会社弘法         NaN  302            静岡県  ...   \n3198              有限会社エコワークス         NaN  302            静岡県  ...   \n\n     successorCorporateNumber  \\\n107                       NaN   \n108                       NaN   \n109                       NaN   \n110                       NaN   \n113             2080401020653   \n...                       ...   \n3193                      NaN   \n3194                      NaN   \n3196                      NaN   \n3197            8080401016019   \n3198                      NaN   \n\n                                            changeCause assignmentDate latest  \\\n107                                                 NaN     2015-10-05      0   \n108                                                 NaN     2015-10-05      1   \n109                                                 NaN     2015-10-05      1   \n110                                                 NaN     2015-12-11      1   \n113   令和３年３月２日浜松市中区元浜町３２番地の１株式会社ポップスタージャパン（208040102...     2017-02-17      1   \n...                                                 ...            ...    ...   \n3193                                                NaN     2015-10-05      1   \n3194                                                NaN     2017-07-07      1   \n3196                                                NaN     2015-10-05      1   \n3197  令和３年４月１日静岡県磐田市安久路二丁目２番地の２まごころ株式会社（808040101601...     2015-10-05      1   \n3198                                                NaN     2015-10-05      1   \n\n     enName enPrefectureName enCityName enAddressOutside     furigana hihyoji  \n107     NaN              NaN        NaN              NaN      エムケイテック       0  \n108     NaN              NaN        NaN              NaN      エムケイテック       0  \n109     NaN              NaN        NaN              NaN    ハイナンディーシー       0  \n110     NaN              NaN        NaN              NaN     レアーレワールド       0  \n113     NaN              NaN        NaN              NaN  ポップスターインポート       0  \n...     ...              ...        ...              ...          ...     ...  \n3193    NaN              NaN        NaN              NaN          ハギリ       0  \n3194    NaN              NaN        NaN              NaN          アクト       0  \n3196    NaN              NaN        NaN              NaN     サクラキュウソウ       0  \n3197    NaN              NaN        NaN              NaN         コウボウ       0  \n3198    NaN              NaN        NaN              NaN       エコワークス       0  \n\n[262 rows x 30 columns]",
      "text/html": "<div>\n<style scoped>\n    .dataframe tbody tr th:only-of-type {\n        vertical-align: middle;\n    }\n\n    .dataframe tbody tr th {\n        vertical-align: top;\n    }\n\n    .dataframe thead th {\n        text-align: right;\n    }\n</style>\n<table border=\"1\" class=\"dataframe\">\n  <thead>\n    <tr style=\"text-align: right;\">\n      <th></th>\n      <th>sequenceNumber</th>\n      <th>corporateNumber</th>\n      <th>process</th>\n      <th>correct</th>\n      <th>updateDate</th>\n      <th>changeDate</th>\n      <th>name</th>\n      <th>nameImageId</th>\n      <th>kind</th>\n      <th>prefectureName</th>\n      <th>...</th>\n      <th>successorCorporateNumber</th>\n      <th>changeCause</th>\n      <th>assignmentDate</th>\n      <th>latest</th>\n      <th>enName</th>\n      <th>enPrefectureName</th>\n      <th>enCityName</th>\n      <th>enAddressOutside</th>\n      <th>furigana</th>\n      <th>hihyoji</th>\n    </tr>\n  </thead>\n  <tbody>\n    <tr>\n      <th>107</th>\n      <td>108</td>\n      <td>1080001015906</td>\n      <td>01</td>\n      <td>1</td>\n      <td>2021-04-01</td>\n      <td>2015-10-05</td>\n      <td>株式会社エムケイテック</td>\n      <td>NaN</td>\n      <td>301</td>\n      <td>静岡県</td>\n      <td>...</td>\n      <td>NaN</td>\n      <td>NaN</td>\n      <td>2015-10-05</td>\n      <td>0</td>\n      <td>NaN</td>\n      <td>NaN</td>\n      <td>NaN</td>\n      <td>NaN</td>\n      <td>エムケイテック</td>\n      <td>0</td>\n    </tr>\n    <tr>\n      <th>108</th>\n      <td>109</td>\n      <td>1080001015906</td>\n      <td>12</td>\n      <td>1</td>\n      <td>2021-04-01</td>\n      <td>2021-03-30</td>\n      <td>株式会社エムケイテック</td>\n      <td>NaN</td>\n      <td>301</td>\n      <td>静岡県</td>\n      <td>...</td>\n      <td>NaN</td>\n      <td>NaN</td>\n      <td>2015-10-05</td>\n      <td>1</td>\n      <td>NaN</td>\n      <td>NaN</td>\n      <td>NaN</td>\n      <td>NaN</td>\n      <td>エムケイテック</td>\n      <td>0</td>\n    </tr>\n    <tr>\n      <th>109</th>\n      <td>110</td>\n      <td>1080002015434</td>\n      <td>01</td>\n      <td>1</td>\n      <td>2021-04-01</td>\n      <td>2015-10-05</td>\n      <td>有限会社ハイナンＤＣ</td>\n      <td>NaN</td>\n      <td>302</td>\n      <td>静岡県</td>\n      <td>...</td>\n      <td>NaN</td>\n      <td>NaN</td>\n      <td>2015-10-05</td>\n      <td>1</td>\n      <td>NaN</td>\n      <td>NaN</td>\n      <td>NaN</td>\n      <td>NaN</td>\n      <td>ハイナンディーシー</td>\n      <td>0</td>\n    </tr>\n    <tr>\n      <th>110</th>\n      <td>111</td>\n      <td>1080105005588</td>\n      <td>12</td>\n      <td>0</td>\n      <td>2021-04-01</td>\n      <td>2021-03-25</td>\n      <td>認定特定非営利活動法人ＲＥＡＬＥ　ＷＯＲＬＤ</td>\n      <td>NaN</td>\n      <td>399</td>\n      <td>静岡県</td>\n      <td>...</td>\n      <td>NaN</td>\n      <td>NaN</td>\n      <td>2015-12-11</td>\n      <td>1</td>\n      <td>NaN</td>\n      <td>NaN</td>\n      <td>NaN</td>\n      <td>NaN</td>\n      <td>レアーレワールド</td>\n      <td>0</td>\n    </tr>\n    <tr>\n      <th>113</th>\n      <td>114</td>\n      <td>1080403003401</td>\n      <td>21</td>\n      <td>0</td>\n      <td>2021-04-01</td>\n      <td>2021-03-02</td>\n      <td>合同会社ポップスターインポート</td>\n      <td>NaN</td>\n      <td>305</td>\n      <td>静岡県</td>\n      <td>...</td>\n      <td>2080401020653</td>\n      <td>令和３年３月２日浜松市中区元浜町３２番地の１株式会社ポップスタージャパン（208040102...</td>\n      <td>2017-02-17</td>\n      <td>1</td>\n      <td>NaN</td>\n      <td>NaN</td>\n      <td>NaN</td>\n      <td>NaN</td>\n      <td>ポップスターインポート</td>\n      <td>0</td>\n    </tr>\n    <tr>\n      <th>...</th>\n      <td>...</td>\n      <td>...</td>\n      <td>...</td>\n      <td>...</td>\n      <td>...</td>\n      <td>...</td>\n      <td>...</td>\n      <td>...</td>\n      <td>...</td>\n      <td>...</td>\n      <td>...</td>\n      <td>...</td>\n      <td>...</td>\n      <td>...</td>\n      <td>...</td>\n      <td>...</td>\n      <td>...</td>\n      <td>...</td>\n      <td>...</td>\n      <td>...</td>\n      <td>...</td>\n    </tr>\n    <tr>\n      <th>3193</th>\n      <td>3194</td>\n      <td>9080001004208</td>\n      <td>01</td>\n      <td>1</td>\n      <td>2021-04-09</td>\n      <td>2015-10-05</td>\n      <td>株式会社葉桐</td>\n      <td>NaN</td>\n      <td>301</td>\n      <td>静岡県</td>\n      <td>...</td>\n      <td>NaN</td>\n      <td>NaN</td>\n      <td>2015-10-05</td>\n      <td>1</td>\n      <td>NaN</td>\n      <td>NaN</td>\n      <td>NaN</td>\n      <td>NaN</td>\n      <td>ハギリ</td>\n      <td>0</td>\n    </tr>\n    <tr>\n      <th>3194</th>\n      <td>3195</td>\n      <td>9080001021673</td>\n      <td>01</td>\n      <td>1</td>\n      <td>2021-04-09</td>\n      <td>2017-07-07</td>\n      <td>株式会社ＡＣＴ</td>\n      <td>NaN</td>\n      <td>301</td>\n      <td>静岡県</td>\n      <td>...</td>\n      <td>NaN</td>\n      <td>NaN</td>\n      <td>2017-07-07</td>\n      <td>1</td>\n      <td>NaN</td>\n      <td>NaN</td>\n      <td>NaN</td>\n      <td>NaN</td>\n      <td>アクト</td>\n      <td>0</td>\n    </tr>\n    <tr>\n      <th>3196</th>\n      <td>3197</td>\n      <td>9080102008933</td>\n      <td>01</td>\n      <td>1</td>\n      <td>2021-04-09</td>\n      <td>2015-10-05</td>\n      <td>有限会社サクラ急送</td>\n      <td>NaN</td>\n      <td>302</td>\n      <td>静岡県</td>\n      <td>...</td>\n      <td>NaN</td>\n      <td>NaN</td>\n      <td>2015-10-05</td>\n      <td>1</td>\n      <td>NaN</td>\n      <td>NaN</td>\n      <td>NaN</td>\n      <td>NaN</td>\n      <td>サクラキュウソウ</td>\n      <td>0</td>\n    </tr>\n    <tr>\n      <th>3197</th>\n      <td>3198</td>\n      <td>9080402002859</td>\n      <td>21</td>\n      <td>0</td>\n      <td>2021-04-09</td>\n      <td>2021-04-01</td>\n      <td>有限会社弘法</td>\n      <td>NaN</td>\n      <td>302</td>\n      <td>静岡県</td>\n      <td>...</td>\n      <td>8080401016019</td>\n      <td>令和３年４月１日静岡県磐田市安久路二丁目２番地の２まごころ株式会社（808040101601...</td>\n      <td>2015-10-05</td>\n      <td>1</td>\n      <td>NaN</td>\n      <td>NaN</td>\n      <td>NaN</td>\n      <td>NaN</td>\n      <td>コウボウ</td>\n      <td>0</td>\n    </tr>\n    <tr>\n      <th>3198</th>\n      <td>3199</td>\n      <td>9080402015836</td>\n      <td>12</td>\n      <td>0</td>\n      <td>2021-04-09</td>\n      <td>2021-04-01</td>\n      <td>有限会社エコワークス</td>\n      <td>NaN</td>\n      <td>302</td>\n      <td>静岡県</td>\n      <td>...</td>\n      <td>NaN</td>\n      <td>NaN</td>\n      <td>2015-10-05</td>\n      <td>1</td>\n      <td>NaN</td>\n      <td>NaN</td>\n      <td>NaN</td>\n      <td>NaN</td>\n      <td>エコワークス</td>\n      <td>0</td>\n    </tr>\n  </tbody>\n</table>\n<p>262 rows × 30 columns</p>\n</div>"
     },
     "metadata": {},
     "output_type": "display_data"
    }
   ],
   "source": [
    "# 重複した Data を具体的に確認する\n",
    "display(data[data['corporateNumber'].duplicated()])  # .duplicated()関数で重複Data を取得"
   ],
   "metadata": {
    "collapsed": false,
    "pycharm": {
     "name": "#%%\n"
    }
   }
  },
  {
   "cell_type": "markdown",
   "source": [
    "表示された件数を見ると count と unique の数の差と一致している。"
   ],
   "metadata": {
    "collapsed": false,
    "pycharm": {
     "name": "#%% md\n"
    }
   }
  },
  {
   "cell_type": "code",
   "execution_count": 57,
   "outputs": [],
   "source": [
    "# 重複Data を削除する。差分Data の方が新しいため、既存Data を削除して差分Data を残す。\n",
    "data.drop_duplicates(subset='corporateNumber', keep='last', inplace=True)\n",
    "# drop_duplicates()関数で重複削除できる\n",
    "# 引数 keep='last' で重複した場合に最終行を残すという指示ができる\n",
    "# 引数 inplace=True を指定することで破壊的処理を行なえる"
   ],
   "metadata": {
    "collapsed": false,
    "pycharm": {
     "name": "#%%\n"
    }
   }
  },
  {
   "cell_type": "code",
   "execution_count": 59,
   "outputs": [
    {
     "data": {
      "text/plain": "       sequenceNumber corporateNumber process correct  updateDate  changeDate  \\\ncount          114758          114758  114758  114758      114758      114758   \nunique         114388          114758       6       2        1322        1351   \ntop              3032   1000013040008      01       0  2015-11-13  2015-10-05   \nfreq                4               1   94176   80781       55849       83217   \n\n          name nameImageId    kind prefectureName  ...  \\\ncount   114758        1245  114758         114758  ...   \nunique  105992        1245       9              1  ...   \ntop       八幡神社    00067214     301            静岡県  ...   \nfreq       171           1   51331         114758  ...   \n\n       successorCorporateNumber  \\\ncount                       678   \nunique                      581   \ntop               8080001004480   \nfreq                         12   \n\n                                              changeCause assignmentDate  \\\ncount                                                1129         114758   \nunique                                               1066           1334   \ntop     平成２９年１２月１日静岡市駿河区富士見台一丁目２１番２２号富士見工業株式会社（8080001...     2015-10-05   \nfreq                                                   12         101319   \n\n        latest                  enName enPrefectureName  \\\ncount   114758                     233              231   \nunique       2                     232                1   \ntop          1  Kamiide financial ward         Shizuoka   \nfreq    114757                       2              231   \n\n                   enCityName enAddressOutside furigana hihyoji  \ncount                     231                0    46900  114758  \nunique                    130                0    41559       2  \ntop     2-1-1,oohara, Ito shi              NaN   ハチマングウ       0  \nfreq                       10              NaN       30  114533  \n\n[4 rows x 30 columns]",
      "text/html": "<div>\n<style scoped>\n    .dataframe tbody tr th:only-of-type {\n        vertical-align: middle;\n    }\n\n    .dataframe tbody tr th {\n        vertical-align: top;\n    }\n\n    .dataframe thead th {\n        text-align: right;\n    }\n</style>\n<table border=\"1\" class=\"dataframe\">\n  <thead>\n    <tr style=\"text-align: right;\">\n      <th></th>\n      <th>sequenceNumber</th>\n      <th>corporateNumber</th>\n      <th>process</th>\n      <th>correct</th>\n      <th>updateDate</th>\n      <th>changeDate</th>\n      <th>name</th>\n      <th>nameImageId</th>\n      <th>kind</th>\n      <th>prefectureName</th>\n      <th>...</th>\n      <th>successorCorporateNumber</th>\n      <th>changeCause</th>\n      <th>assignmentDate</th>\n      <th>latest</th>\n      <th>enName</th>\n      <th>enPrefectureName</th>\n      <th>enCityName</th>\n      <th>enAddressOutside</th>\n      <th>furigana</th>\n      <th>hihyoji</th>\n    </tr>\n  </thead>\n  <tbody>\n    <tr>\n      <th>count</th>\n      <td>114758</td>\n      <td>114758</td>\n      <td>114758</td>\n      <td>114758</td>\n      <td>114758</td>\n      <td>114758</td>\n      <td>114758</td>\n      <td>1245</td>\n      <td>114758</td>\n      <td>114758</td>\n      <td>...</td>\n      <td>678</td>\n      <td>1129</td>\n      <td>114758</td>\n      <td>114758</td>\n      <td>233</td>\n      <td>231</td>\n      <td>231</td>\n      <td>0</td>\n      <td>46900</td>\n      <td>114758</td>\n    </tr>\n    <tr>\n      <th>unique</th>\n      <td>114388</td>\n      <td>114758</td>\n      <td>6</td>\n      <td>2</td>\n      <td>1322</td>\n      <td>1351</td>\n      <td>105992</td>\n      <td>1245</td>\n      <td>9</td>\n      <td>1</td>\n      <td>...</td>\n      <td>581</td>\n      <td>1066</td>\n      <td>1334</td>\n      <td>2</td>\n      <td>232</td>\n      <td>1</td>\n      <td>130</td>\n      <td>0</td>\n      <td>41559</td>\n      <td>2</td>\n    </tr>\n    <tr>\n      <th>top</th>\n      <td>3032</td>\n      <td>1000013040008</td>\n      <td>01</td>\n      <td>0</td>\n      <td>2015-11-13</td>\n      <td>2015-10-05</td>\n      <td>八幡神社</td>\n      <td>00067214</td>\n      <td>301</td>\n      <td>静岡県</td>\n      <td>...</td>\n      <td>8080001004480</td>\n      <td>平成２９年１２月１日静岡市駿河区富士見台一丁目２１番２２号富士見工業株式会社（8080001...</td>\n      <td>2015-10-05</td>\n      <td>1</td>\n      <td>Kamiide financial ward</td>\n      <td>Shizuoka</td>\n      <td>2-1-1,oohara, Ito shi</td>\n      <td>NaN</td>\n      <td>ハチマングウ</td>\n      <td>0</td>\n    </tr>\n    <tr>\n      <th>freq</th>\n      <td>4</td>\n      <td>1</td>\n      <td>94176</td>\n      <td>80781</td>\n      <td>55849</td>\n      <td>83217</td>\n      <td>171</td>\n      <td>1</td>\n      <td>51331</td>\n      <td>114758</td>\n      <td>...</td>\n      <td>12</td>\n      <td>12</td>\n      <td>101319</td>\n      <td>114757</td>\n      <td>2</td>\n      <td>231</td>\n      <td>10</td>\n      <td>NaN</td>\n      <td>30</td>\n      <td>114533</td>\n    </tr>\n  </tbody>\n</table>\n<p>4 rows × 30 columns</p>\n</div>"
     },
     "execution_count": 59,
     "metadata": {},
     "output_type": "execute_result"
    }
   ],
   "source": [
    "# 再度統計量を確認する\n",
    "data.describe()"
   ],
   "metadata": {
    "collapsed": false,
    "pycharm": {
     "name": "#%%\n"
    }
   }
  },
  {
   "cell_type": "markdown",
   "source": [
    "corporateNumber の count と unique の数が一致し、重複がなくなったことが確認できた。"
   ],
   "metadata": {
    "collapsed": false,
    "pycharm": {
     "name": "#%% md\n"
    }
   }
  },
  {
   "cell_type": "code",
   "execution_count": 61,
   "outputs": [
    {
     "data": {
      "text/plain": "sequenceNumber                   0\ncorporateNumber                  0\nprocess                          0\ncorrect                          0\nupdateDate                       0\nchangeDate                       0\nname                             0\nnameImageId                 113513\nkind                             0\nprefectureName                   0\ncityName                         0\nstreetNumber                    17\naddressImageId              113563\nprefectureCode                   0\ncityCode                         0\npostCode                       173\naddressOutside              114758\naddressOutsideImageId       114758\ncloseDate                   104650\ncloseCause                  104650\nsuccessorCorporateNumber    114080\nchangeCause                 113629\nassignmentDate                   0\nlatest                           0\nenName                      114525\nenPrefectureName            114527\nenCityName                  114527\nenAddressOutside            114758\nfurigana                     67858\nhihyoji                          0\ndtype: int64"
     },
     "metadata": {},
     "output_type": "display_data"
    }
   ],
   "source": [
    "# 欠損値の確認\n",
    "display(data.isna().sum())"
   ],
   "metadata": {
    "collapsed": false,
    "pycharm": {
     "name": "#%%\n"
    }
   }
  },
  {
   "cell_type": "markdown",
   "source": [
    "欠損値の項目はあるものの、特に問題のないものである。"
   ],
   "metadata": {
    "collapsed": false,
    "pycharm": {
     "name": "#%% md\n"
    }
   }
  },
  {
   "cell_type": "code",
   "execution_count": null,
   "outputs": [],
   "source": [],
   "metadata": {
    "collapsed": false,
    "pycharm": {
     "name": "#%%\n"
    }
   }
  }
 ],
 "metadata": {
  "kernelspec": {
   "display_name": "Python 3",
   "language": "python",
   "name": "python3"
  },
  "language_info": {
   "codemirror_mode": {
    "name": "ipython",
    "version": 2
   },
   "file_extension": ".py",
   "mimetype": "text/x-python",
   "name": "python",
   "nbconvert_exporter": "python",
   "pygments_lexer": "ipython2",
   "version": "2.7.6"
  }
 },
 "nbformat": 4,
 "nbformat_minor": 0
}