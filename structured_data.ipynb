{
 "cells": [
  {
   "cell_type": "markdown",
   "metadata": {
    "collapsed": true,
    "pycharm": {
     "name": "#%% md\n"
    }
   },
   "source": [
    "# 構造化 Data"
   ]
  },
  {
   "cell_type": "markdown",
   "source": [
    "#### Master data\n",
    "System 上で固定する Data.\n",
    "#### Transaction data\n",
    "中身が一定でない Data."
   ],
   "metadata": {
    "collapsed": false,
    "pycharm": {
     "name": "#%% md\n"
    }
   }
  },
  {
   "cell_type": "markdown",
   "source": [
    "## 法人情報 Data を読み込んでみよう"
   ],
   "metadata": {
    "collapsed": false,
    "pycharm": {
     "name": "#%% md\n"
    }
   }
  },
  {
   "cell_type": "code",
   "execution_count": 1,
   "outputs": [],
   "source": [
    "import pandas as pd"
   ],
   "metadata": {
    "collapsed": false,
    "pycharm": {
     "name": "#%%\n"
    }
   }
  },
  {
   "cell_type": "code",
   "execution_count": 2,
   "outputs": [],
   "source": [
    "data = pd.read_csv('sample_file/100knock-process-visualization/chapter-1/data/22_shizuoka_all_20210331.csv', encoding='shift-jis', header=None)"
   ],
   "metadata": {
    "collapsed": false,
    "pycharm": {
     "name": "#%%\n"
    }
   }
  },
  {
   "cell_type": "code",
   "execution_count": 3,
   "outputs": [
    {
     "data": {
      "text/plain": "   0              1   2   3           4           5        6   7    8    9   \\\n0   1  1000013040008   1   1  2018-04-02  2015-10-05  静岡家庭裁判所 NaN  101  静岡県   \n1   2  1000013050072   1   1  2018-04-02  2015-10-05  清水簡易裁判所 NaN  101  静岡県   \n2   3  1000013050080   1   1  2018-04-02  2015-10-05  浜松簡易裁判所 NaN  101  静岡県   \n3   4  1000020222119   1   1  2018-04-05  2015-10-05      磐田市 NaN  201  静岡県   \n4   5  1000020222127   1   1  2018-04-05  2015-10-05      焼津市 NaN  201  静岡県   \n\n   ...  20   21          22  23                       24        25  \\\n0  ... NaN  NaN  2015-10-05   1    Shizuoka Family Court  Shizuoka   \n1  ... NaN  NaN  2015-10-05   1    Shimizu Summary Court  Shizuoka   \n2  ... NaN  NaN  2015-10-05   1  Hamamatsu Summary Court  Shizuoka   \n3  ... NaN  NaN  2015-10-05   1               Iwata City  Shizuoka   \n4  ... NaN  NaN  2015-10-05   1               Yaizu city  Shizuoka   \n\n                                         26  27             28  29  \n0      1-20, Jonaicho, Aoi ku, Shizuoka shi NaN  シズオカカテイサイバンショ   0  \n1  1-6-15, Tenjin, Shimizu ku, Shizuoka shi NaN   シミズカンイサイバンショ   0  \n2      1-12-5, Chuo, Naka ku, Hamamatsu shi NaN  ハママツカンイサイバンショ   0  \n3                   3-1,Kounodai, Iwata shi NaN           イワタシ   0  \n4               2-16-32 Honmachi, Yaizu shi NaN           ヤイヅシ   0  \n\n[5 rows x 30 columns]",
      "text/html": "<div>\n<style scoped>\n    .dataframe tbody tr th:only-of-type {\n        vertical-align: middle;\n    }\n\n    .dataframe tbody tr th {\n        vertical-align: top;\n    }\n\n    .dataframe thead th {\n        text-align: right;\n    }\n</style>\n<table border=\"1\" class=\"dataframe\">\n  <thead>\n    <tr style=\"text-align: right;\">\n      <th></th>\n      <th>0</th>\n      <th>1</th>\n      <th>2</th>\n      <th>3</th>\n      <th>4</th>\n      <th>5</th>\n      <th>6</th>\n      <th>7</th>\n      <th>8</th>\n      <th>9</th>\n      <th>...</th>\n      <th>20</th>\n      <th>21</th>\n      <th>22</th>\n      <th>23</th>\n      <th>24</th>\n      <th>25</th>\n      <th>26</th>\n      <th>27</th>\n      <th>28</th>\n      <th>29</th>\n    </tr>\n  </thead>\n  <tbody>\n    <tr>\n      <th>0</th>\n      <td>1</td>\n      <td>1000013040008</td>\n      <td>1</td>\n      <td>1</td>\n      <td>2018-04-02</td>\n      <td>2015-10-05</td>\n      <td>静岡家庭裁判所</td>\n      <td>NaN</td>\n      <td>101</td>\n      <td>静岡県</td>\n      <td>...</td>\n      <td>NaN</td>\n      <td>NaN</td>\n      <td>2015-10-05</td>\n      <td>1</td>\n      <td>Shizuoka Family Court</td>\n      <td>Shizuoka</td>\n      <td>1-20, Jonaicho, Aoi ku, Shizuoka shi</td>\n      <td>NaN</td>\n      <td>シズオカカテイサイバンショ</td>\n      <td>0</td>\n    </tr>\n    <tr>\n      <th>1</th>\n      <td>2</td>\n      <td>1000013050072</td>\n      <td>1</td>\n      <td>1</td>\n      <td>2018-04-02</td>\n      <td>2015-10-05</td>\n      <td>清水簡易裁判所</td>\n      <td>NaN</td>\n      <td>101</td>\n      <td>静岡県</td>\n      <td>...</td>\n      <td>NaN</td>\n      <td>NaN</td>\n      <td>2015-10-05</td>\n      <td>1</td>\n      <td>Shimizu Summary Court</td>\n      <td>Shizuoka</td>\n      <td>1-6-15, Tenjin, Shimizu ku, Shizuoka shi</td>\n      <td>NaN</td>\n      <td>シミズカンイサイバンショ</td>\n      <td>0</td>\n    </tr>\n    <tr>\n      <th>2</th>\n      <td>3</td>\n      <td>1000013050080</td>\n      <td>1</td>\n      <td>1</td>\n      <td>2018-04-02</td>\n      <td>2015-10-05</td>\n      <td>浜松簡易裁判所</td>\n      <td>NaN</td>\n      <td>101</td>\n      <td>静岡県</td>\n      <td>...</td>\n      <td>NaN</td>\n      <td>NaN</td>\n      <td>2015-10-05</td>\n      <td>1</td>\n      <td>Hamamatsu Summary Court</td>\n      <td>Shizuoka</td>\n      <td>1-12-5, Chuo, Naka ku, Hamamatsu shi</td>\n      <td>NaN</td>\n      <td>ハママツカンイサイバンショ</td>\n      <td>0</td>\n    </tr>\n    <tr>\n      <th>3</th>\n      <td>4</td>\n      <td>1000020222119</td>\n      <td>1</td>\n      <td>1</td>\n      <td>2018-04-05</td>\n      <td>2015-10-05</td>\n      <td>磐田市</td>\n      <td>NaN</td>\n      <td>201</td>\n      <td>静岡県</td>\n      <td>...</td>\n      <td>NaN</td>\n      <td>NaN</td>\n      <td>2015-10-05</td>\n      <td>1</td>\n      <td>Iwata City</td>\n      <td>Shizuoka</td>\n      <td>3-1,Kounodai, Iwata shi</td>\n      <td>NaN</td>\n      <td>イワタシ</td>\n      <td>0</td>\n    </tr>\n    <tr>\n      <th>4</th>\n      <td>5</td>\n      <td>1000020222127</td>\n      <td>1</td>\n      <td>1</td>\n      <td>2018-04-05</td>\n      <td>2015-10-05</td>\n      <td>焼津市</td>\n      <td>NaN</td>\n      <td>201</td>\n      <td>静岡県</td>\n      <td>...</td>\n      <td>NaN</td>\n      <td>NaN</td>\n      <td>2015-10-05</td>\n      <td>1</td>\n      <td>Yaizu city</td>\n      <td>Shizuoka</td>\n      <td>2-16-32 Honmachi, Yaizu shi</td>\n      <td>NaN</td>\n      <td>ヤイヅシ</td>\n      <td>0</td>\n    </tr>\n  </tbody>\n</table>\n<p>5 rows × 30 columns</p>\n</div>"
     },
     "execution_count": 3,
     "metadata": {},
     "output_type": "execute_result"
    }
   ],
   "source": [
    "data.head()"
   ],
   "metadata": {
    "collapsed": false,
    "pycharm": {
     "name": "#%%\n"
    }
   }
  },
  {
   "cell_type": "code",
   "execution_count": 4,
   "outputs": [
    {
     "data": {
      "text/plain": "114613"
     },
     "execution_count": 4,
     "metadata": {},
     "output_type": "execute_result"
    }
   ],
   "source": [
    "len(data)"
   ],
   "metadata": {
    "collapsed": false,
    "pycharm": {
     "name": "#%%\n"
    }
   }
  },
  {
   "cell_type": "code",
   "execution_count": 5,
   "outputs": [
    {
     "data": {
      "text/plain": "114613"
     },
     "execution_count": 5,
     "metadata": {},
     "output_type": "execute_result"
    }
   ],
   "source": [
    "len(data)"
   ],
   "metadata": {
    "collapsed": false,
    "pycharm": {
     "name": "#%%\n"
    }
   }
  },
  {
   "cell_type": "markdown",
   "source": [
    "## 読み込んだ Data を確認しよう"
   ],
   "metadata": {
    "collapsed": false,
    "pycharm": {
     "name": "#%% md\n"
    }
   }
  },
  {
   "cell_type": "code",
   "execution_count": 6,
   "outputs": [
    {
     "data": {
      "text/plain": "Int64Index([ 0,  1,  2,  3,  4,  5,  6,  7,  8,  9, 10, 11, 12, 13, 14, 15, 16,\n            17, 18, 19, 20, 21, 22, 23, 24, 25, 26, 27, 28, 29],\n           dtype='int64')"
     },
     "execution_count": 6,
     "metadata": {},
     "output_type": "execute_result"
    }
   ],
   "source": [
    "data.columns\n",
    "# columns は属性。関数や Method ではないので .columns()のように () はつけない。"
   ],
   "metadata": {
    "collapsed": false,
    "pycharm": {
     "name": "#%%\n"
    }
   }
  },
  {
   "cell_type": "code",
   "execution_count": 7,
   "outputs": [
    {
     "data": {
      "text/plain": "30"
     },
     "execution_count": 7,
     "metadata": {},
     "output_type": "execute_result"
    }
   ],
   "source": [
    "len(data.columns)"
   ],
   "metadata": {
    "collapsed": false,
    "pycharm": {
     "name": "#%%\n"
    }
   }
  },
  {
   "cell_type": "code",
   "execution_count": 9,
   "outputs": [
    {
     "name": "stdout",
     "output_type": "stream",
     "text": [
      "0       int64\n",
      "1       int64\n",
      "2       int64\n",
      "3       int64\n",
      "4      object\n",
      "5      object\n",
      "6      object\n",
      "7     float64\n",
      "8       int64\n",
      "9      object\n",
      "10     object\n",
      "11     object\n",
      "12    float64\n",
      "13      int64\n",
      "14      int64\n",
      "15    float64\n",
      "16    float64\n",
      "17    float64\n",
      "18     object\n",
      "19    float64\n",
      "20    float64\n",
      "21     object\n",
      "22     object\n",
      "23      int64\n",
      "24     object\n",
      "25     object\n",
      "26     object\n",
      "27    float64\n",
      "28     object\n",
      "29      int64\n",
      "dtype: object\n"
     ]
    }
   ],
   "source": [
    "print(data.dtypes)"
   ],
   "metadata": {
    "collapsed": false,
    "pycharm": {
     "name": "#%%\n"
    }
   }
  },
  {
   "cell_type": "code",
   "execution_count": 11,
   "outputs": [],
   "source": [
    "data = pd.read_csv('sample_file/100knock-process-visualization/chapter-1/data/22_shizuoka_all_20210331.csv',\n",
    "                   encoding='shift-jis', header=None, dtype=object)"
   ],
   "metadata": {
    "collapsed": false,
    "pycharm": {
     "name": "#%%\n"
    }
   }
  },
  {
   "cell_type": "code",
   "execution_count": 12,
   "outputs": [
    {
     "data": {
      "text/plain": "  0              1   2  3           4           5        6    7    8    9   \\\n0  1  1000013040008  01  1  2018-04-02  2015-10-05  静岡家庭裁判所  NaN  101  静岡県   \n1  2  1000013050072  01  1  2018-04-02  2015-10-05  清水簡易裁判所  NaN  101  静岡県   \n2  3  1000013050080  01  1  2018-04-02  2015-10-05  浜松簡易裁判所  NaN  101  静岡県   \n3  4  1000020222119  01  1  2018-04-05  2015-10-05      磐田市  NaN  201  静岡県   \n4  5  1000020222127  01  1  2018-04-05  2015-10-05      焼津市  NaN  201  静岡県   \n\n   ...   20   21          22 23                       24        25  \\\n0  ...  NaN  NaN  2015-10-05  1    Shizuoka Family Court  Shizuoka   \n1  ...  NaN  NaN  2015-10-05  1    Shimizu Summary Court  Shizuoka   \n2  ...  NaN  NaN  2015-10-05  1  Hamamatsu Summary Court  Shizuoka   \n3  ...  NaN  NaN  2015-10-05  1               Iwata City  Shizuoka   \n4  ...  NaN  NaN  2015-10-05  1               Yaizu city  Shizuoka   \n\n                                         26   27             28 29  \n0      1-20, Jonaicho, Aoi ku, Shizuoka shi  NaN  シズオカカテイサイバンショ  0  \n1  1-6-15, Tenjin, Shimizu ku, Shizuoka shi  NaN   シミズカンイサイバンショ  0  \n2      1-12-5, Chuo, Naka ku, Hamamatsu shi  NaN  ハママツカンイサイバンショ  0  \n3                   3-1,Kounodai, Iwata shi  NaN           イワタシ  0  \n4               2-16-32 Honmachi, Yaizu shi  NaN           ヤイヅシ  0  \n\n[5 rows x 30 columns]",
      "text/html": "<div>\n<style scoped>\n    .dataframe tbody tr th:only-of-type {\n        vertical-align: middle;\n    }\n\n    .dataframe tbody tr th {\n        vertical-align: top;\n    }\n\n    .dataframe thead th {\n        text-align: right;\n    }\n</style>\n<table border=\"1\" class=\"dataframe\">\n  <thead>\n    <tr style=\"text-align: right;\">\n      <th></th>\n      <th>0</th>\n      <th>1</th>\n      <th>2</th>\n      <th>3</th>\n      <th>4</th>\n      <th>5</th>\n      <th>6</th>\n      <th>7</th>\n      <th>8</th>\n      <th>9</th>\n      <th>...</th>\n      <th>20</th>\n      <th>21</th>\n      <th>22</th>\n      <th>23</th>\n      <th>24</th>\n      <th>25</th>\n      <th>26</th>\n      <th>27</th>\n      <th>28</th>\n      <th>29</th>\n    </tr>\n  </thead>\n  <tbody>\n    <tr>\n      <th>0</th>\n      <td>1</td>\n      <td>1000013040008</td>\n      <td>01</td>\n      <td>1</td>\n      <td>2018-04-02</td>\n      <td>2015-10-05</td>\n      <td>静岡家庭裁判所</td>\n      <td>NaN</td>\n      <td>101</td>\n      <td>静岡県</td>\n      <td>...</td>\n      <td>NaN</td>\n      <td>NaN</td>\n      <td>2015-10-05</td>\n      <td>1</td>\n      <td>Shizuoka Family Court</td>\n      <td>Shizuoka</td>\n      <td>1-20, Jonaicho, Aoi ku, Shizuoka shi</td>\n      <td>NaN</td>\n      <td>シズオカカテイサイバンショ</td>\n      <td>0</td>\n    </tr>\n    <tr>\n      <th>1</th>\n      <td>2</td>\n      <td>1000013050072</td>\n      <td>01</td>\n      <td>1</td>\n      <td>2018-04-02</td>\n      <td>2015-10-05</td>\n      <td>清水簡易裁判所</td>\n      <td>NaN</td>\n      <td>101</td>\n      <td>静岡県</td>\n      <td>...</td>\n      <td>NaN</td>\n      <td>NaN</td>\n      <td>2015-10-05</td>\n      <td>1</td>\n      <td>Shimizu Summary Court</td>\n      <td>Shizuoka</td>\n      <td>1-6-15, Tenjin, Shimizu ku, Shizuoka shi</td>\n      <td>NaN</td>\n      <td>シミズカンイサイバンショ</td>\n      <td>0</td>\n    </tr>\n    <tr>\n      <th>2</th>\n      <td>3</td>\n      <td>1000013050080</td>\n      <td>01</td>\n      <td>1</td>\n      <td>2018-04-02</td>\n      <td>2015-10-05</td>\n      <td>浜松簡易裁判所</td>\n      <td>NaN</td>\n      <td>101</td>\n      <td>静岡県</td>\n      <td>...</td>\n      <td>NaN</td>\n      <td>NaN</td>\n      <td>2015-10-05</td>\n      <td>1</td>\n      <td>Hamamatsu Summary Court</td>\n      <td>Shizuoka</td>\n      <td>1-12-5, Chuo, Naka ku, Hamamatsu shi</td>\n      <td>NaN</td>\n      <td>ハママツカンイサイバンショ</td>\n      <td>0</td>\n    </tr>\n    <tr>\n      <th>3</th>\n      <td>4</td>\n      <td>1000020222119</td>\n      <td>01</td>\n      <td>1</td>\n      <td>2018-04-05</td>\n      <td>2015-10-05</td>\n      <td>磐田市</td>\n      <td>NaN</td>\n      <td>201</td>\n      <td>静岡県</td>\n      <td>...</td>\n      <td>NaN</td>\n      <td>NaN</td>\n      <td>2015-10-05</td>\n      <td>1</td>\n      <td>Iwata City</td>\n      <td>Shizuoka</td>\n      <td>3-1,Kounodai, Iwata shi</td>\n      <td>NaN</td>\n      <td>イワタシ</td>\n      <td>0</td>\n    </tr>\n    <tr>\n      <th>4</th>\n      <td>5</td>\n      <td>1000020222127</td>\n      <td>01</td>\n      <td>1</td>\n      <td>2018-04-05</td>\n      <td>2015-10-05</td>\n      <td>焼津市</td>\n      <td>NaN</td>\n      <td>201</td>\n      <td>静岡県</td>\n      <td>...</td>\n      <td>NaN</td>\n      <td>NaN</td>\n      <td>2015-10-05</td>\n      <td>1</td>\n      <td>Yaizu city</td>\n      <td>Shizuoka</td>\n      <td>2-16-32 Honmachi, Yaizu shi</td>\n      <td>NaN</td>\n      <td>ヤイヅシ</td>\n      <td>0</td>\n    </tr>\n  </tbody>\n</table>\n<p>5 rows × 30 columns</p>\n</div>"
     },
     "execution_count": 12,
     "metadata": {},
     "output_type": "execute_result"
    }
   ],
   "source": [
    "data.head()"
   ],
   "metadata": {
    "collapsed": false,
    "pycharm": {
     "name": "#%%\n"
    }
   }
  },
  {
   "cell_type": "code",
   "execution_count": 14,
   "outputs": [
    {
     "name": "stdout",
     "output_type": "stream",
     "text": [
      "0     object\n",
      "1     object\n",
      "2     object\n",
      "3     object\n",
      "4     object\n",
      "5     object\n",
      "6     object\n",
      "7     object\n",
      "8     object\n",
      "9     object\n",
      "10    object\n",
      "11    object\n",
      "12    object\n",
      "13    object\n",
      "14    object\n",
      "15    object\n",
      "16    object\n",
      "17    object\n",
      "18    object\n",
      "19    object\n",
      "20    object\n",
      "21    object\n",
      "22    object\n",
      "23    object\n",
      "24    object\n",
      "25    object\n",
      "26    object\n",
      "27    object\n",
      "28    object\n",
      "29    object\n",
      "dtype: object\n"
     ]
    }
   ],
   "source": [
    "print(data.dtypes)"
   ],
   "metadata": {
    "collapsed": false,
    "pycharm": {
     "name": "#%%\n"
    }
   }
  },
  {
   "cell_type": "code",
   "execution_count": null,
   "outputs": [],
   "source": [],
   "metadata": {
    "collapsed": false,
    "pycharm": {
     "name": "#%%\n"
    }
   }
  }
 ],
 "metadata": {
  "kernelspec": {
   "display_name": "Python 3",
   "language": "python",
   "name": "python3"
  },
  "language_info": {
   "codemirror_mode": {
    "name": "ipython",
    "version": 2
   },
   "file_extension": ".py",
   "mimetype": "text/x-python",
   "name": "python",
   "nbconvert_exporter": "python",
   "pygments_lexer": "ipython2",
   "version": "2.7.6"
  }
 },
 "nbformat": 4,
 "nbformat_minor": 0
}