{
 "cells": [
  {
   "cell_type": "markdown",
   "source": [
    "## 時系列Data を読み込んでみよう"
   ],
   "metadata": {
    "collapsed": false,
    "pycharm": {
     "name": "#%% md\n"
    }
   }
  },
  {
   "cell_type": "code",
   "execution_count": 3,
   "outputs": [
    {
     "data": {
      "text/plain": "['data/person_count_1sec/out_0001\\\\person_count_out_0001_2021011509.csv',\n 'data/person_count_1sec/out_0001\\\\person_count_out_0001_2021011510.csv',\n 'data/person_count_1sec/out_0001\\\\person_count_out_0001_2021011511.csv',\n 'data/person_count_1sec/out_0001\\\\person_count_out_0001_2021011512.csv',\n 'data/person_count_1sec/out_0001\\\\person_count_out_0001_2021011513.csv']"
     },
     "execution_count": 3,
     "metadata": {},
     "output_type": "execute_result"
    }
   ],
   "source": [
    "# File一覧の取得\n",
    "from glob import glob  # glob を import\n",
    "\n",
    "import pandas as pd\n",
    "\n",
    "files = glob('data/person_count_1sec/out_0001/*.csv')  # Data一覧を取得\n",
    "files.sort()  # Data一覧を Sort\n",
    "files[:5]  # 先頭５行を確認"
   ],
   "metadata": {
    "collapsed": false,
    "pycharm": {
     "name": "#%%\n"
    }
   }
  },
  {
   "cell_type": "markdown",
   "source": [
    "File名が「person_count_out_0001」までが共通で、その後ろは、「2021011509」となっており、2021年１月15日の９時代の Data であると考えられる。\n",
    "まずは、最初の File だけを読み込んでみる"
   ],
   "metadata": {
    "collapsed": false,
    "pycharm": {
     "name": "#%% md\n"
    }
   }
  },
  {
   "cell_type": "code",
   "execution_count": 5,
   "outputs": [
    {
     "data": {
      "text/plain": "   id  place             receive_time  sensor_num  in1  out1  state1  in2  \\\n0   0      1  2021-01-15 09:00:00.144           2  508    73       0   73   \n1   1      1  2021-01-15 09:00:01.146           2  508    73       0   73   \n2   2      1  2021-01-15 09:00:02.161           2  508    73       0   73   \n3   3      1  2021-01-15 09:00:03.176           2  508    73       0   73   \n4   4      1  2021-01-15 09:00:04.192           2  508    73       0   73   \n\n   out2  state2  \n0   508       0  \n1   508       0  \n2   508       0  \n3   508       0  \n4   508       0  ",
      "text/html": "<div>\n<style scoped>\n    .dataframe tbody tr th:only-of-type {\n        vertical-align: middle;\n    }\n\n    .dataframe tbody tr th {\n        vertical-align: top;\n    }\n\n    .dataframe thead th {\n        text-align: right;\n    }\n</style>\n<table border=\"1\" class=\"dataframe\">\n  <thead>\n    <tr style=\"text-align: right;\">\n      <th></th>\n      <th>id</th>\n      <th>place</th>\n      <th>receive_time</th>\n      <th>sensor_num</th>\n      <th>in1</th>\n      <th>out1</th>\n      <th>state1</th>\n      <th>in2</th>\n      <th>out2</th>\n      <th>state2</th>\n    </tr>\n  </thead>\n  <tbody>\n    <tr>\n      <th>0</th>\n      <td>0</td>\n      <td>1</td>\n      <td>2021-01-15 09:00:00.144</td>\n      <td>2</td>\n      <td>508</td>\n      <td>73</td>\n      <td>0</td>\n      <td>73</td>\n      <td>508</td>\n      <td>0</td>\n    </tr>\n    <tr>\n      <th>1</th>\n      <td>1</td>\n      <td>1</td>\n      <td>2021-01-15 09:00:01.146</td>\n      <td>2</td>\n      <td>508</td>\n      <td>73</td>\n      <td>0</td>\n      <td>73</td>\n      <td>508</td>\n      <td>0</td>\n    </tr>\n    <tr>\n      <th>2</th>\n      <td>2</td>\n      <td>1</td>\n      <td>2021-01-15 09:00:02.161</td>\n      <td>2</td>\n      <td>508</td>\n      <td>73</td>\n      <td>0</td>\n      <td>73</td>\n      <td>508</td>\n      <td>0</td>\n    </tr>\n    <tr>\n      <th>3</th>\n      <td>3</td>\n      <td>1</td>\n      <td>2021-01-15 09:00:03.176</td>\n      <td>2</td>\n      <td>508</td>\n      <td>73</td>\n      <td>0</td>\n      <td>73</td>\n      <td>508</td>\n      <td>0</td>\n    </tr>\n    <tr>\n      <th>4</th>\n      <td>4</td>\n      <td>1</td>\n      <td>2021-01-15 09:00:04.192</td>\n      <td>2</td>\n      <td>508</td>\n      <td>73</td>\n      <td>0</td>\n      <td>73</td>\n      <td>508</td>\n      <td>0</td>\n    </tr>\n  </tbody>\n</table>\n</div>"
     },
     "metadata": {},
     "output_type": "display_data"
    },
    {
     "name": "stdout",
     "output_type": "stream",
     "text": [
      "id               int64\n",
      "place            int64\n",
      "receive_time    object\n",
      "sensor_num       int64\n",
      "in1              int64\n",
      "out1             int64\n",
      "state1           int64\n",
      "in2              int64\n",
      "out2             int64\n",
      "state2           int64\n",
      "dtype: object\n"
     ]
    }
   ],
   "source": [
    "# 先頭Data の読み込み\n",
    "import pandas as pd\n",
    "from IPython.display import display\n",
    "data = pd.read_csv(files[0])  # 先頭の File のみ読み込み\n",
    "display(data.head(5))  # Data の先頭５行のみ表示\n",
    "print(data.dtypes)  # 各列の Data型を表示"
   ],
   "metadata": {
    "collapsed": false,
    "pycharm": {
     "name": "#%%\n"
    }
   }
  },
  {
   "cell_type": "markdown",
   "source": [
    "receive_time に milli秒単位まで入っている。\n",
    "※ IoT等の sensor data では milli秒単位まで出てくることが多い。\n",
    "Data型が object型になっており、このままでは文字列情報としてか使用できないので datetime型に変換していく。"
   ],
   "metadata": {
    "collapsed": false,
    "pycharm": {
     "name": "#%% md\n"
    }
   }
  },
  {
   "cell_type": "code",
   "execution_count": 7,
   "outputs": [
    {
     "data": {
      "text/plain": "   id  place            receive_time  sensor_num  in1  out1  state1  in2  \\\n0   0      1 2021-01-15 09:00:00.144           2  508    73       0   73   \n1   1      1 2021-01-15 09:00:01.146           2  508    73       0   73   \n2   2      1 2021-01-15 09:00:02.161           2  508    73       0   73   \n3   3      1 2021-01-15 09:00:03.176           2  508    73       0   73   \n4   4      1 2021-01-15 09:00:04.192           2  508    73       0   73   \n\n   out2  state2  \n0   508       0  \n1   508       0  \n2   508       0  \n3   508       0  \n4   508       0  ",
      "text/html": "<div>\n<style scoped>\n    .dataframe tbody tr th:only-of-type {\n        vertical-align: middle;\n    }\n\n    .dataframe tbody tr th {\n        vertical-align: top;\n    }\n\n    .dataframe thead th {\n        text-align: right;\n    }\n</style>\n<table border=\"1\" class=\"dataframe\">\n  <thead>\n    <tr style=\"text-align: right;\">\n      <th></th>\n      <th>id</th>\n      <th>place</th>\n      <th>receive_time</th>\n      <th>sensor_num</th>\n      <th>in1</th>\n      <th>out1</th>\n      <th>state1</th>\n      <th>in2</th>\n      <th>out2</th>\n      <th>state2</th>\n    </tr>\n  </thead>\n  <tbody>\n    <tr>\n      <th>0</th>\n      <td>0</td>\n      <td>1</td>\n      <td>2021-01-15 09:00:00.144</td>\n      <td>2</td>\n      <td>508</td>\n      <td>73</td>\n      <td>0</td>\n      <td>73</td>\n      <td>508</td>\n      <td>0</td>\n    </tr>\n    <tr>\n      <th>1</th>\n      <td>1</td>\n      <td>1</td>\n      <td>2021-01-15 09:00:01.146</td>\n      <td>2</td>\n      <td>508</td>\n      <td>73</td>\n      <td>0</td>\n      <td>73</td>\n      <td>508</td>\n      <td>0</td>\n    </tr>\n    <tr>\n      <th>2</th>\n      <td>2</td>\n      <td>1</td>\n      <td>2021-01-15 09:00:02.161</td>\n      <td>2</td>\n      <td>508</td>\n      <td>73</td>\n      <td>0</td>\n      <td>73</td>\n      <td>508</td>\n      <td>0</td>\n    </tr>\n    <tr>\n      <th>3</th>\n      <td>3</td>\n      <td>1</td>\n      <td>2021-01-15 09:00:03.176</td>\n      <td>2</td>\n      <td>508</td>\n      <td>73</td>\n      <td>0</td>\n      <td>73</td>\n      <td>508</td>\n      <td>0</td>\n    </tr>\n    <tr>\n      <th>4</th>\n      <td>4</td>\n      <td>1</td>\n      <td>2021-01-15 09:00:04.192</td>\n      <td>2</td>\n      <td>508</td>\n      <td>73</td>\n      <td>0</td>\n      <td>73</td>\n      <td>508</td>\n      <td>0</td>\n    </tr>\n  </tbody>\n</table>\n</div>"
     },
     "metadata": {},
     "output_type": "display_data"
    },
    {
     "name": "stdout",
     "output_type": "stream",
     "text": [
      "id                       int64\n",
      "place                    int64\n",
      "receive_time    datetime64[ns]\n",
      "sensor_num               int64\n",
      "in1                      int64\n",
      "out1                     int64\n",
      "state1                   int64\n",
      "in2                      int64\n",
      "out2                     int64\n",
      "state2                   int64\n",
      "dtype: object\n"
     ]
    }
   ],
   "source": [
    "# datetime型への変換\n",
    "data['receive_time'] = pd.to_datetime(data['receive_time'])\n",
    "display(data.head())\n",
    "print(data.dtypes)"
   ],
   "metadata": {
    "collapsed": false,
    "pycharm": {
     "name": "#%%\n"
    }
   }
  },
  {
   "cell_type": "markdown",
   "source": [
    "datetime型は読み込み時にも指定できる。あらかしめ Data を確認し、datetime型で読み込みたい Column が決まっている場合は、読み込み時に指定するのが良い。"
   ],
   "metadata": {
    "collapsed": false,
    "pycharm": {
     "name": "#%% md\n"
    }
   }
  },
  {
   "cell_type": "code",
   "execution_count": 8,
   "outputs": [
    {
     "data": {
      "text/plain": "   id  place            receive_time  sensor_num  in1  out1  state1  in2  \\\n0   0      1 2021-01-15 09:00:00.144           2  508    73       0   73   \n1   1      1 2021-01-15 09:00:01.146           2  508    73       0   73   \n2   2      1 2021-01-15 09:00:02.161           2  508    73       0   73   \n3   3      1 2021-01-15 09:00:03.176           2  508    73       0   73   \n4   4      1 2021-01-15 09:00:04.192           2  508    73       0   73   \n\n   out2  state2  \n0   508       0  \n1   508       0  \n2   508       0  \n3   508       0  \n4   508       0  ",
      "text/html": "<div>\n<style scoped>\n    .dataframe tbody tr th:only-of-type {\n        vertical-align: middle;\n    }\n\n    .dataframe tbody tr th {\n        vertical-align: top;\n    }\n\n    .dataframe thead th {\n        text-align: right;\n    }\n</style>\n<table border=\"1\" class=\"dataframe\">\n  <thead>\n    <tr style=\"text-align: right;\">\n      <th></th>\n      <th>id</th>\n      <th>place</th>\n      <th>receive_time</th>\n      <th>sensor_num</th>\n      <th>in1</th>\n      <th>out1</th>\n      <th>state1</th>\n      <th>in2</th>\n      <th>out2</th>\n      <th>state2</th>\n    </tr>\n  </thead>\n  <tbody>\n    <tr>\n      <th>0</th>\n      <td>0</td>\n      <td>1</td>\n      <td>2021-01-15 09:00:00.144</td>\n      <td>2</td>\n      <td>508</td>\n      <td>73</td>\n      <td>0</td>\n      <td>73</td>\n      <td>508</td>\n      <td>0</td>\n    </tr>\n    <tr>\n      <th>1</th>\n      <td>1</td>\n      <td>1</td>\n      <td>2021-01-15 09:00:01.146</td>\n      <td>2</td>\n      <td>508</td>\n      <td>73</td>\n      <td>0</td>\n      <td>73</td>\n      <td>508</td>\n      <td>0</td>\n    </tr>\n    <tr>\n      <th>2</th>\n      <td>2</td>\n      <td>1</td>\n      <td>2021-01-15 09:00:02.161</td>\n      <td>2</td>\n      <td>508</td>\n      <td>73</td>\n      <td>0</td>\n      <td>73</td>\n      <td>508</td>\n      <td>0</td>\n    </tr>\n    <tr>\n      <th>3</th>\n      <td>3</td>\n      <td>1</td>\n      <td>2021-01-15 09:00:03.176</td>\n      <td>2</td>\n      <td>508</td>\n      <td>73</td>\n      <td>0</td>\n      <td>73</td>\n      <td>508</td>\n      <td>0</td>\n    </tr>\n    <tr>\n      <th>4</th>\n      <td>4</td>\n      <td>1</td>\n      <td>2021-01-15 09:00:04.192</td>\n      <td>2</td>\n      <td>508</td>\n      <td>73</td>\n      <td>0</td>\n      <td>73</td>\n      <td>508</td>\n      <td>0</td>\n    </tr>\n  </tbody>\n</table>\n</div>"
     },
     "metadata": {},
     "output_type": "display_data"
    },
    {
     "name": "stdout",
     "output_type": "stream",
     "text": [
      "id                       int64\n",
      "place                    int64\n",
      "receive_time    datetime64[ns]\n",
      "sensor_num               int64\n",
      "in1                      int64\n",
      "out1                     int64\n",
      "state1                   int64\n",
      "in2                      int64\n",
      "out2                     int64\n",
      "state2                   int64\n",
      "dtype: object\n"
     ]
    }
   ],
   "source": [
    "# datetime型を指定して読み込み\n",
    "data = pd.read_csv(files[0], parse_dates=['receive_time'])  # datetime型で読み込む列を指定して読み込み\n",
    "display(data.head())  # 先頭５行を表示\n",
    "print(data.dtypes)  # 各列の Data型を確認"
   ],
   "metadata": {
    "collapsed": false,
    "pycharm": {
     "name": "#%%\n"
    }
   }
  },
  {
   "cell_type": "markdown",
   "source": [
    "読み込み時に、receive_time列にdatetime型を指定して全File を読み込んでいく"
   ],
   "metadata": {
    "collapsed": false,
    "pycharm": {
     "name": "#%% md\n"
    }
   }
  },
  {
   "cell_type": "code",
   "execution_count": 9,
   "outputs": [
    {
     "data": {
      "text/plain": "   id  place            receive_time  sensor_num  in1  out1  state1  in2  \\\n0   0      1 2021-01-15 09:00:00.144           2  508    73       0   73   \n1   1      1 2021-01-15 09:00:01.146           2  508    73       0   73   \n2   2      1 2021-01-15 09:00:02.161           2  508    73       0   73   \n3   3      1 2021-01-15 09:00:03.176           2  508    73       0   73   \n4   4      1 2021-01-15 09:00:04.192           2  508    73       0   73   \n\n   out2  state2  \n0   508       0  \n1   508       0  \n2   508       0  \n3   508       0  \n4   508       0  ",
      "text/html": "<div>\n<style scoped>\n    .dataframe tbody tr th:only-of-type {\n        vertical-align: middle;\n    }\n\n    .dataframe tbody tr th {\n        vertical-align: top;\n    }\n\n    .dataframe thead th {\n        text-align: right;\n    }\n</style>\n<table border=\"1\" class=\"dataframe\">\n  <thead>\n    <tr style=\"text-align: right;\">\n      <th></th>\n      <th>id</th>\n      <th>place</th>\n      <th>receive_time</th>\n      <th>sensor_num</th>\n      <th>in1</th>\n      <th>out1</th>\n      <th>state1</th>\n      <th>in2</th>\n      <th>out2</th>\n      <th>state2</th>\n    </tr>\n  </thead>\n  <tbody>\n    <tr>\n      <th>0</th>\n      <td>0</td>\n      <td>1</td>\n      <td>2021-01-15 09:00:00.144</td>\n      <td>2</td>\n      <td>508</td>\n      <td>73</td>\n      <td>0</td>\n      <td>73</td>\n      <td>508</td>\n      <td>0</td>\n    </tr>\n    <tr>\n      <th>1</th>\n      <td>1</td>\n      <td>1</td>\n      <td>2021-01-15 09:00:01.146</td>\n      <td>2</td>\n      <td>508</td>\n      <td>73</td>\n      <td>0</td>\n      <td>73</td>\n      <td>508</td>\n      <td>0</td>\n    </tr>\n    <tr>\n      <th>2</th>\n      <td>2</td>\n      <td>1</td>\n      <td>2021-01-15 09:00:02.161</td>\n      <td>2</td>\n      <td>508</td>\n      <td>73</td>\n      <td>0</td>\n      <td>73</td>\n      <td>508</td>\n      <td>0</td>\n    </tr>\n    <tr>\n      <th>3</th>\n      <td>3</td>\n      <td>1</td>\n      <td>2021-01-15 09:00:03.176</td>\n      <td>2</td>\n      <td>508</td>\n      <td>73</td>\n      <td>0</td>\n      <td>73</td>\n      <td>508</td>\n      <td>0</td>\n    </tr>\n    <tr>\n      <th>4</th>\n      <td>4</td>\n      <td>1</td>\n      <td>2021-01-15 09:00:04.192</td>\n      <td>2</td>\n      <td>508</td>\n      <td>73</td>\n      <td>0</td>\n      <td>73</td>\n      <td>508</td>\n      <td>0</td>\n    </tr>\n  </tbody>\n</table>\n</div>"
     },
     "metadata": {},
     "output_type": "display_data"
    },
    {
     "data": {
      "text/plain": "2346162"
     },
     "execution_count": 9,
     "metadata": {},
     "output_type": "execute_result"
    }
   ],
   "source": [
    "# 全Data の読み込み\n",
    "data = []  # List を準備\n",
    "for f in files:\n",
    "    tmp = pd.read_csv(f, parse_dates=['receive_time'])  # receive_time を datetime型で指定して読み込み\n",
    "    data.append(tmp)  # List に Data を追加\n",
    "data = pd.concat(data, ignore_index=True)  # Data を結合。ignore_index=True で index は結合毎にふりなおす\n",
    "display(data.head())  # 先頭５行を表示\n",
    "len(data)  # Data件数を表示"
   ],
   "metadata": {
    "collapsed": false,
    "pycharm": {
     "name": "#%%\n"
    }
   }
  },
  {
   "cell_type": "markdown",
   "source": [
    "## 日付の範囲を確認しよう"
   ],
   "metadata": {
    "collapsed": false,
    "pycharm": {
     "name": "#%% md\n"
    }
   }
  },
  {
   "cell_type": "markdown",
   "source": [
    "いつからいつの Data なのか開始日と終了日を取得して出力してみる。\n",
    "分析対象がどの日付の範囲で、何日間の Data なのかを把握する必要がある"
   ],
   "metadata": {
    "collapsed": false,
    "pycharm": {
     "name": "#%% md\n"
    }
   }
  },
  {
   "cell_type": "code",
   "execution_count": 11,
   "outputs": [
    {
     "name": "stdout",
     "output_type": "stream",
     "text": [
      "2021-01-15 09:00:00.144000\n",
      "2021-02-14 17:59:59.956000\n"
     ]
    }
   ],
   "source": [
    "# 開始日、終了日の表示\n",
    "min_receive_time = data['receive_time'].min()  # receive_time列の最小値を取得\n",
    "max_receive_time = data['receive_time'].max()  # receive_time列の最大値を取得\n",
    "print(min_receive_time)  # 最小値を表示\n",
    "print(max_receive_time)  # 最大値を表示"
   ],
   "metadata": {
    "collapsed": false,
    "pycharm": {
     "name": "#%%\n"
    }
   }
  },
  {
   "cell_type": "code",
   "execution_count": 12,
   "outputs": [
    {
     "name": "stdout",
     "output_type": "stream",
     "text": [
      "30 days 08:59:59.812000\n"
     ]
    }
   ],
   "source": [
    "# 期間の表示\n",
    "print(data['receive_time'].max() - data['receive_time'].min())"
   ],
   "metadata": {
    "collapsed": false,
    "pycharm": {
     "name": "#%%\n"
    }
   }
  },
  {
   "cell_type": "code",
   "execution_count": null,
   "outputs": [],
   "source": [],
   "metadata": {
    "collapsed": false,
    "pycharm": {
     "name": "#%%\n"
    }
   }
  }
 ],
 "metadata": {
  "kernelspec": {
   "display_name": "Python 3",
   "language": "python",
   "name": "python3"
  },
  "language_info": {
   "codemirror_mode": {
    "name": "ipython",
    "version": 2
   },
   "file_extension": ".py",
   "mimetype": "text/x-python",
   "name": "python",
   "nbconvert_exporter": "python",
   "pygments_lexer": "ipython2",
   "version": "2.7.6"
  }
 },
 "nbformat": 4,
 "nbformat_minor": 0
}