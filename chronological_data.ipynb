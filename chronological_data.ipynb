{
 "cells": [
  {
   "cell_type": "markdown",
   "source": [
    "## 時系列Data を読み込んでみよう"
   ],
   "metadata": {
    "collapsed": false,
    "pycharm": {
     "name": "#%% md\n"
    }
   }
  },
  {
   "cell_type": "code",
   "execution_count": 18,
   "outputs": [
    {
     "data": {
      "text/plain": "['data/person_count_1sec/out_0001\\\\person_count_out_0001_2021011509.csv',\n 'data/person_count_1sec/out_0001\\\\person_count_out_0001_2021011510.csv',\n 'data/person_count_1sec/out_0001\\\\person_count_out_0001_2021011511.csv',\n 'data/person_count_1sec/out_0001\\\\person_count_out_0001_2021011512.csv',\n 'data/person_count_1sec/out_0001\\\\person_count_out_0001_2021011513.csv']"
     },
     "execution_count": 18,
     "metadata": {},
     "output_type": "execute_result"
    }
   ],
   "source": [
    "# File一覧の取得\n",
    "from glob import glob  # glob を import\n",
    "\n",
    "files = glob('data/person_count_1sec/out_0001/*.csv')  # Data一覧を取得\n",
    "files.sort()  # Data一覧を Sort\n",
    "files[:5]  # 先頭５行を確認"
   ],
   "metadata": {
    "collapsed": false,
    "pycharm": {
     "name": "#%%\n"
    }
   }
  },
  {
   "cell_type": "markdown",
   "source": [
    "File名が「person_count_out_0001」までが共通で、その後ろは、「2021011509」となっており、2021年１月15日の９時代の Data であると考えられる。\n",
    "まずは、最初の File だけを読み込んでみる"
   ],
   "metadata": {
    "collapsed": false,
    "pycharm": {
     "name": "#%% md\n"
    }
   }
  },
  {
   "cell_type": "code",
   "execution_count": 2,
   "outputs": [
    {
     "data": {
      "text/plain": "   id  place             receive_time  sensor_num  in1  out1  state1  in2  \\\n0   0      1  2021-01-15 09:00:00.144           2  508    73       0   73   \n1   1      1  2021-01-15 09:00:01.146           2  508    73       0   73   \n2   2      1  2021-01-15 09:00:02.161           2  508    73       0   73   \n3   3      1  2021-01-15 09:00:03.176           2  508    73       0   73   \n4   4      1  2021-01-15 09:00:04.192           2  508    73       0   73   \n\n   out2  state2  \n0   508       0  \n1   508       0  \n2   508       0  \n3   508       0  \n4   508       0  ",
      "text/html": "<div>\n<style scoped>\n    .dataframe tbody tr th:only-of-type {\n        vertical-align: middle;\n    }\n\n    .dataframe tbody tr th {\n        vertical-align: top;\n    }\n\n    .dataframe thead th {\n        text-align: right;\n    }\n</style>\n<table border=\"1\" class=\"dataframe\">\n  <thead>\n    <tr style=\"text-align: right;\">\n      <th></th>\n      <th>id</th>\n      <th>place</th>\n      <th>receive_time</th>\n      <th>sensor_num</th>\n      <th>in1</th>\n      <th>out1</th>\n      <th>state1</th>\n      <th>in2</th>\n      <th>out2</th>\n      <th>state2</th>\n    </tr>\n  </thead>\n  <tbody>\n    <tr>\n      <th>0</th>\n      <td>0</td>\n      <td>1</td>\n      <td>2021-01-15 09:00:00.144</td>\n      <td>2</td>\n      <td>508</td>\n      <td>73</td>\n      <td>0</td>\n      <td>73</td>\n      <td>508</td>\n      <td>0</td>\n    </tr>\n    <tr>\n      <th>1</th>\n      <td>1</td>\n      <td>1</td>\n      <td>2021-01-15 09:00:01.146</td>\n      <td>2</td>\n      <td>508</td>\n      <td>73</td>\n      <td>0</td>\n      <td>73</td>\n      <td>508</td>\n      <td>0</td>\n    </tr>\n    <tr>\n      <th>2</th>\n      <td>2</td>\n      <td>1</td>\n      <td>2021-01-15 09:00:02.161</td>\n      <td>2</td>\n      <td>508</td>\n      <td>73</td>\n      <td>0</td>\n      <td>73</td>\n      <td>508</td>\n      <td>0</td>\n    </tr>\n    <tr>\n      <th>3</th>\n      <td>3</td>\n      <td>1</td>\n      <td>2021-01-15 09:00:03.176</td>\n      <td>2</td>\n      <td>508</td>\n      <td>73</td>\n      <td>0</td>\n      <td>73</td>\n      <td>508</td>\n      <td>0</td>\n    </tr>\n    <tr>\n      <th>4</th>\n      <td>4</td>\n      <td>1</td>\n      <td>2021-01-15 09:00:04.192</td>\n      <td>2</td>\n      <td>508</td>\n      <td>73</td>\n      <td>0</td>\n      <td>73</td>\n      <td>508</td>\n      <td>0</td>\n    </tr>\n  </tbody>\n</table>\n</div>"
     },
     "metadata": {},
     "output_type": "display_data"
    },
    {
     "name": "stdout",
     "output_type": "stream",
     "text": [
      "id               int64\n",
      "place            int64\n",
      "receive_time    object\n",
      "sensor_num       int64\n",
      "in1              int64\n",
      "out1             int64\n",
      "state1           int64\n",
      "in2              int64\n",
      "out2             int64\n",
      "state2           int64\n",
      "dtype: object\n"
     ]
    }
   ],
   "source": [
    "# 先頭Data の読み込み\n",
    "import pandas as pd\n",
    "from IPython.display import display\n",
    "\n",
    "data = pd.read_csv(files[0])  # 先頭の File のみ読み込み\n",
    "display(data.head(5))  # Data の先頭５行のみ表示\n",
    "print(data.dtypes)  # 各列の Data型を表示"
   ],
   "metadata": {
    "collapsed": false,
    "pycharm": {
     "name": "#%%\n"
    }
   }
  },
  {
   "cell_type": "markdown",
   "source": [
    "receive_time に milli秒単位まで入っている。\n",
    "※ IoT等の sensor data では milli秒単位まで出てくることが多い。\n",
    "Data型が object型になっており、このままでは文字列情報としてか使用できないので datetime型に変換していく。"
   ],
   "metadata": {
    "collapsed": false,
    "pycharm": {
     "name": "#%% md\n"
    }
   }
  },
  {
   "cell_type": "code",
   "execution_count": 3,
   "outputs": [
    {
     "data": {
      "text/plain": "   id  place            receive_time  sensor_num  in1  out1  state1  in2  \\\n0   0      1 2021-01-15 09:00:00.144           2  508    73       0   73   \n1   1      1 2021-01-15 09:00:01.146           2  508    73       0   73   \n2   2      1 2021-01-15 09:00:02.161           2  508    73       0   73   \n3   3      1 2021-01-15 09:00:03.176           2  508    73       0   73   \n4   4      1 2021-01-15 09:00:04.192           2  508    73       0   73   \n\n   out2  state2  \n0   508       0  \n1   508       0  \n2   508       0  \n3   508       0  \n4   508       0  ",
      "text/html": "<div>\n<style scoped>\n    .dataframe tbody tr th:only-of-type {\n        vertical-align: middle;\n    }\n\n    .dataframe tbody tr th {\n        vertical-align: top;\n    }\n\n    .dataframe thead th {\n        text-align: right;\n    }\n</style>\n<table border=\"1\" class=\"dataframe\">\n  <thead>\n    <tr style=\"text-align: right;\">\n      <th></th>\n      <th>id</th>\n      <th>place</th>\n      <th>receive_time</th>\n      <th>sensor_num</th>\n      <th>in1</th>\n      <th>out1</th>\n      <th>state1</th>\n      <th>in2</th>\n      <th>out2</th>\n      <th>state2</th>\n    </tr>\n  </thead>\n  <tbody>\n    <tr>\n      <th>0</th>\n      <td>0</td>\n      <td>1</td>\n      <td>2021-01-15 09:00:00.144</td>\n      <td>2</td>\n      <td>508</td>\n      <td>73</td>\n      <td>0</td>\n      <td>73</td>\n      <td>508</td>\n      <td>0</td>\n    </tr>\n    <tr>\n      <th>1</th>\n      <td>1</td>\n      <td>1</td>\n      <td>2021-01-15 09:00:01.146</td>\n      <td>2</td>\n      <td>508</td>\n      <td>73</td>\n      <td>0</td>\n      <td>73</td>\n      <td>508</td>\n      <td>0</td>\n    </tr>\n    <tr>\n      <th>2</th>\n      <td>2</td>\n      <td>1</td>\n      <td>2021-01-15 09:00:02.161</td>\n      <td>2</td>\n      <td>508</td>\n      <td>73</td>\n      <td>0</td>\n      <td>73</td>\n      <td>508</td>\n      <td>0</td>\n    </tr>\n    <tr>\n      <th>3</th>\n      <td>3</td>\n      <td>1</td>\n      <td>2021-01-15 09:00:03.176</td>\n      <td>2</td>\n      <td>508</td>\n      <td>73</td>\n      <td>0</td>\n      <td>73</td>\n      <td>508</td>\n      <td>0</td>\n    </tr>\n    <tr>\n      <th>4</th>\n      <td>4</td>\n      <td>1</td>\n      <td>2021-01-15 09:00:04.192</td>\n      <td>2</td>\n      <td>508</td>\n      <td>73</td>\n      <td>0</td>\n      <td>73</td>\n      <td>508</td>\n      <td>0</td>\n    </tr>\n  </tbody>\n</table>\n</div>"
     },
     "metadata": {},
     "output_type": "display_data"
    },
    {
     "name": "stdout",
     "output_type": "stream",
     "text": [
      "id                       int64\n",
      "place                    int64\n",
      "receive_time    datetime64[ns]\n",
      "sensor_num               int64\n",
      "in1                      int64\n",
      "out1                     int64\n",
      "state1                   int64\n",
      "in2                      int64\n",
      "out2                     int64\n",
      "state2                   int64\n",
      "dtype: object\n"
     ]
    }
   ],
   "source": [
    "# datetime型への変換\n",
    "data['receive_time'] = pd.to_datetime(data['receive_time'])\n",
    "display(data.head())\n",
    "print(data.dtypes)"
   ],
   "metadata": {
    "collapsed": false,
    "pycharm": {
     "name": "#%%\n"
    }
   }
  },
  {
   "cell_type": "markdown",
   "source": [
    "datetime型は読み込み時にも指定できる。あらかしめ Data を確認し、datetime型で読み込みたい Column が決まっている場合は、読み込み時に指定するのが良い。"
   ],
   "metadata": {
    "collapsed": false,
    "pycharm": {
     "name": "#%% md\n"
    }
   }
  },
  {
   "cell_type": "code",
   "execution_count": 4,
   "outputs": [
    {
     "data": {
      "text/plain": "   id  place            receive_time  sensor_num  in1  out1  state1  in2  \\\n0   0      1 2021-01-15 09:00:00.144           2  508    73       0   73   \n1   1      1 2021-01-15 09:00:01.146           2  508    73       0   73   \n2   2      1 2021-01-15 09:00:02.161           2  508    73       0   73   \n3   3      1 2021-01-15 09:00:03.176           2  508    73       0   73   \n4   4      1 2021-01-15 09:00:04.192           2  508    73       0   73   \n\n   out2  state2  \n0   508       0  \n1   508       0  \n2   508       0  \n3   508       0  \n4   508       0  ",
      "text/html": "<div>\n<style scoped>\n    .dataframe tbody tr th:only-of-type {\n        vertical-align: middle;\n    }\n\n    .dataframe tbody tr th {\n        vertical-align: top;\n    }\n\n    .dataframe thead th {\n        text-align: right;\n    }\n</style>\n<table border=\"1\" class=\"dataframe\">\n  <thead>\n    <tr style=\"text-align: right;\">\n      <th></th>\n      <th>id</th>\n      <th>place</th>\n      <th>receive_time</th>\n      <th>sensor_num</th>\n      <th>in1</th>\n      <th>out1</th>\n      <th>state1</th>\n      <th>in2</th>\n      <th>out2</th>\n      <th>state2</th>\n    </tr>\n  </thead>\n  <tbody>\n    <tr>\n      <th>0</th>\n      <td>0</td>\n      <td>1</td>\n      <td>2021-01-15 09:00:00.144</td>\n      <td>2</td>\n      <td>508</td>\n      <td>73</td>\n      <td>0</td>\n      <td>73</td>\n      <td>508</td>\n      <td>0</td>\n    </tr>\n    <tr>\n      <th>1</th>\n      <td>1</td>\n      <td>1</td>\n      <td>2021-01-15 09:00:01.146</td>\n      <td>2</td>\n      <td>508</td>\n      <td>73</td>\n      <td>0</td>\n      <td>73</td>\n      <td>508</td>\n      <td>0</td>\n    </tr>\n    <tr>\n      <th>2</th>\n      <td>2</td>\n      <td>1</td>\n      <td>2021-01-15 09:00:02.161</td>\n      <td>2</td>\n      <td>508</td>\n      <td>73</td>\n      <td>0</td>\n      <td>73</td>\n      <td>508</td>\n      <td>0</td>\n    </tr>\n    <tr>\n      <th>3</th>\n      <td>3</td>\n      <td>1</td>\n      <td>2021-01-15 09:00:03.176</td>\n      <td>2</td>\n      <td>508</td>\n      <td>73</td>\n      <td>0</td>\n      <td>73</td>\n      <td>508</td>\n      <td>0</td>\n    </tr>\n    <tr>\n      <th>4</th>\n      <td>4</td>\n      <td>1</td>\n      <td>2021-01-15 09:00:04.192</td>\n      <td>2</td>\n      <td>508</td>\n      <td>73</td>\n      <td>0</td>\n      <td>73</td>\n      <td>508</td>\n      <td>0</td>\n    </tr>\n  </tbody>\n</table>\n</div>"
     },
     "metadata": {},
     "output_type": "display_data"
    },
    {
     "name": "stdout",
     "output_type": "stream",
     "text": [
      "id                       int64\n",
      "place                    int64\n",
      "receive_time    datetime64[ns]\n",
      "sensor_num               int64\n",
      "in1                      int64\n",
      "out1                     int64\n",
      "state1                   int64\n",
      "in2                      int64\n",
      "out2                     int64\n",
      "state2                   int64\n",
      "dtype: object\n"
     ]
    }
   ],
   "source": [
    "# datetime型を指定して読み込み\n",
    "data = pd.read_csv(files[0], parse_dates=['receive_time'])  # datetime型で読み込む列を指定して読み込み\n",
    "display(data.head())  # 先頭５行を表示\n",
    "print(data.dtypes)  # 各列の Data型を確認"
   ],
   "metadata": {
    "collapsed": false,
    "pycharm": {
     "name": "#%%\n"
    }
   }
  },
  {
   "cell_type": "markdown",
   "source": [
    "読み込み時に、receive_time列にdatetime型を指定して全File を読み込んでいく"
   ],
   "metadata": {
    "collapsed": false,
    "pycharm": {
     "name": "#%% md\n"
    }
   }
  },
  {
   "cell_type": "code",
   "execution_count": 5,
   "outputs": [
    {
     "data": {
      "text/plain": "   id  place            receive_time  sensor_num  in1  out1  state1  in2  \\\n0   0      1 2021-01-15 09:00:00.144           2  508    73       0   73   \n1   1      1 2021-01-15 09:00:01.146           2  508    73       0   73   \n2   2      1 2021-01-15 09:00:02.161           2  508    73       0   73   \n3   3      1 2021-01-15 09:00:03.176           2  508    73       0   73   \n4   4      1 2021-01-15 09:00:04.192           2  508    73       0   73   \n\n   out2  state2  \n0   508       0  \n1   508       0  \n2   508       0  \n3   508       0  \n4   508       0  ",
      "text/html": "<div>\n<style scoped>\n    .dataframe tbody tr th:only-of-type {\n        vertical-align: middle;\n    }\n\n    .dataframe tbody tr th {\n        vertical-align: top;\n    }\n\n    .dataframe thead th {\n        text-align: right;\n    }\n</style>\n<table border=\"1\" class=\"dataframe\">\n  <thead>\n    <tr style=\"text-align: right;\">\n      <th></th>\n      <th>id</th>\n      <th>place</th>\n      <th>receive_time</th>\n      <th>sensor_num</th>\n      <th>in1</th>\n      <th>out1</th>\n      <th>state1</th>\n      <th>in2</th>\n      <th>out2</th>\n      <th>state2</th>\n    </tr>\n  </thead>\n  <tbody>\n    <tr>\n      <th>0</th>\n      <td>0</td>\n      <td>1</td>\n      <td>2021-01-15 09:00:00.144</td>\n      <td>2</td>\n      <td>508</td>\n      <td>73</td>\n      <td>0</td>\n      <td>73</td>\n      <td>508</td>\n      <td>0</td>\n    </tr>\n    <tr>\n      <th>1</th>\n      <td>1</td>\n      <td>1</td>\n      <td>2021-01-15 09:00:01.146</td>\n      <td>2</td>\n      <td>508</td>\n      <td>73</td>\n      <td>0</td>\n      <td>73</td>\n      <td>508</td>\n      <td>0</td>\n    </tr>\n    <tr>\n      <th>2</th>\n      <td>2</td>\n      <td>1</td>\n      <td>2021-01-15 09:00:02.161</td>\n      <td>2</td>\n      <td>508</td>\n      <td>73</td>\n      <td>0</td>\n      <td>73</td>\n      <td>508</td>\n      <td>0</td>\n    </tr>\n    <tr>\n      <th>3</th>\n      <td>3</td>\n      <td>1</td>\n      <td>2021-01-15 09:00:03.176</td>\n      <td>2</td>\n      <td>508</td>\n      <td>73</td>\n      <td>0</td>\n      <td>73</td>\n      <td>508</td>\n      <td>0</td>\n    </tr>\n    <tr>\n      <th>4</th>\n      <td>4</td>\n      <td>1</td>\n      <td>2021-01-15 09:00:04.192</td>\n      <td>2</td>\n      <td>508</td>\n      <td>73</td>\n      <td>0</td>\n      <td>73</td>\n      <td>508</td>\n      <td>0</td>\n    </tr>\n  </tbody>\n</table>\n</div>"
     },
     "metadata": {},
     "output_type": "display_data"
    },
    {
     "data": {
      "text/plain": "2346162"
     },
     "execution_count": 5,
     "metadata": {},
     "output_type": "execute_result"
    }
   ],
   "source": [
    "# 全Data の読み込み\n",
    "data = []  # List を準備\n",
    "for f in files:\n",
    "    tmp = pd.read_csv(f, parse_dates=['receive_time'])  # receive_time を datetime型で指定して読み込み\n",
    "    data.append(tmp)  # List に Data を追加\n",
    "data = pd.concat(data, ignore_index=True)  # Data を結合。ignore_index=True で index は結合毎にふりなおす\n",
    "display(data.head())  # 先頭５行を表示\n",
    "len(data)  # Data件数を表示"
   ],
   "metadata": {
    "collapsed": false,
    "pycharm": {
     "name": "#%%\n"
    }
   }
  },
  {
   "cell_type": "markdown",
   "source": [
    "## 日付の範囲を確認しよう"
   ],
   "metadata": {
    "collapsed": false,
    "pycharm": {
     "name": "#%% md\n"
    }
   }
  },
  {
   "cell_type": "markdown",
   "source": [
    "いつからいつの Data なのか開始日と終了日を取得して出力してみる。\n",
    "分析対象がどの日付の範囲で、何日間の Data なのかを把握する必要がある"
   ],
   "metadata": {
    "collapsed": false,
    "pycharm": {
     "name": "#%% md\n"
    }
   }
  },
  {
   "cell_type": "code",
   "execution_count": 6,
   "outputs": [
    {
     "name": "stdout",
     "output_type": "stream",
     "text": [
      "2021-01-15 09:00:00.144000\n",
      "2021-02-14 17:59:59.956000\n"
     ]
    }
   ],
   "source": [
    "# 開始日、終了日の表示\n",
    "min_receive_time = data['receive_time'].min()  # receive_time列の最小値を取得\n",
    "max_receive_time = data['receive_time'].max()  # receive_time列の最大値を取得\n",
    "print(min_receive_time)  # 最小値を表示\n",
    "print(max_receive_time)  # 最大値を表示"
   ],
   "metadata": {
    "collapsed": false,
    "pycharm": {
     "name": "#%%\n"
    }
   }
  },
  {
   "cell_type": "code",
   "execution_count": 7,
   "outputs": [
    {
     "name": "stdout",
     "output_type": "stream",
     "text": [
      "30 days 08:59:59.812000\n"
     ]
    }
   ],
   "source": [
    "# 期間の表示\n",
    "print(data['receive_time'].max() - data['receive_time'].min())"
   ],
   "metadata": {
    "collapsed": false,
    "pycharm": {
     "name": "#%%\n"
    }
   }
  },
  {
   "cell_type": "markdown",
   "source": [
    "## 日毎の Data件数を確認しよう"
   ],
   "metadata": {
    "collapsed": false,
    "pycharm": {
     "name": "#%% md\n"
    }
   }
  },
  {
   "cell_type": "markdown",
   "source": [
    "日毎の Data件数を各員していく。\n",
    "Sensor data のような場合\n",
    "- 仕様的には１秒ごとに Data を取得している場合でも、ブレが生じることが多々ある。\n",
    "- Sensor の故障等で、Data が欠損している場合がある。\n",
    "\n",
    "上記の観点から、日単位程度でしっかりと把握しておく"
   ],
   "metadata": {
    "collapsed": false,
    "pycharm": {
     "name": "#%% md\n"
    }
   }
  },
  {
   "cell_type": "code",
   "execution_count": 8,
   "outputs": [
    {
     "data": {
      "text/plain": "   id  place            receive_time  sensor_num  in1  out1  state1  in2  \\\n0   0      1 2021-01-15 09:00:00.144           2  508    73       0   73   \n1   1      1 2021-01-15 09:00:01.146           2  508    73       0   73   \n2   2      1 2021-01-15 09:00:02.161           2  508    73       0   73   \n3   3      1 2021-01-15 09:00:03.176           2  508    73       0   73   \n4   4      1 2021-01-15 09:00:04.192           2  508    73       0   73   \n\n   out2  state2 receive_date  \n0   508       0   2021-01-15  \n1   508       0   2021-01-15  \n2   508       0   2021-01-15  \n3   508       0   2021-01-15  \n4   508       0   2021-01-15  ",
      "text/html": "<div>\n<style scoped>\n    .dataframe tbody tr th:only-of-type {\n        vertical-align: middle;\n    }\n\n    .dataframe tbody tr th {\n        vertical-align: top;\n    }\n\n    .dataframe thead th {\n        text-align: right;\n    }\n</style>\n<table border=\"1\" class=\"dataframe\">\n  <thead>\n    <tr style=\"text-align: right;\">\n      <th></th>\n      <th>id</th>\n      <th>place</th>\n      <th>receive_time</th>\n      <th>sensor_num</th>\n      <th>in1</th>\n      <th>out1</th>\n      <th>state1</th>\n      <th>in2</th>\n      <th>out2</th>\n      <th>state2</th>\n      <th>receive_date</th>\n    </tr>\n  </thead>\n  <tbody>\n    <tr>\n      <th>0</th>\n      <td>0</td>\n      <td>1</td>\n      <td>2021-01-15 09:00:00.144</td>\n      <td>2</td>\n      <td>508</td>\n      <td>73</td>\n      <td>0</td>\n      <td>73</td>\n      <td>508</td>\n      <td>0</td>\n      <td>2021-01-15</td>\n    </tr>\n    <tr>\n      <th>1</th>\n      <td>1</td>\n      <td>1</td>\n      <td>2021-01-15 09:00:01.146</td>\n      <td>2</td>\n      <td>508</td>\n      <td>73</td>\n      <td>0</td>\n      <td>73</td>\n      <td>508</td>\n      <td>0</td>\n      <td>2021-01-15</td>\n    </tr>\n    <tr>\n      <th>2</th>\n      <td>2</td>\n      <td>1</td>\n      <td>2021-01-15 09:00:02.161</td>\n      <td>2</td>\n      <td>508</td>\n      <td>73</td>\n      <td>0</td>\n      <td>73</td>\n      <td>508</td>\n      <td>0</td>\n      <td>2021-01-15</td>\n    </tr>\n    <tr>\n      <th>3</th>\n      <td>3</td>\n      <td>1</td>\n      <td>2021-01-15 09:00:03.176</td>\n      <td>2</td>\n      <td>508</td>\n      <td>73</td>\n      <td>0</td>\n      <td>73</td>\n      <td>508</td>\n      <td>0</td>\n      <td>2021-01-15</td>\n    </tr>\n    <tr>\n      <th>4</th>\n      <td>4</td>\n      <td>1</td>\n      <td>2021-01-15 09:00:04.192</td>\n      <td>2</td>\n      <td>508</td>\n      <td>73</td>\n      <td>0</td>\n      <td>73</td>\n      <td>508</td>\n      <td>0</td>\n      <td>2021-01-15</td>\n    </tr>\n  </tbody>\n</table>\n</div>"
     },
     "execution_count": 8,
     "metadata": {},
     "output_type": "execute_result"
    }
   ],
   "source": [
    "# 日単位への変換\n",
    "data['receive_date'] = data['receive_time'].dt.date  # Milli秒数単位の receive_time を日単位の Data に変換する\n",
    "data.head()  # 先頭５行を表示"
   ],
   "metadata": {
    "collapsed": false,
    "pycharm": {
     "name": "#%%\n"
    }
   }
  },
  {
   "cell_type": "code",
   "execution_count": 9,
   "outputs": [
    {
     "data": {
      "text/plain": "  receive_date     id\n0   2021-01-15  50166\n1   2021-01-16  75699\n2   2021-01-17  73198\n3   2021-01-18  78365\n4   2021-01-19  78348",
      "text/html": "<div>\n<style scoped>\n    .dataframe tbody tr th:only-of-type {\n        vertical-align: middle;\n    }\n\n    .dataframe tbody tr th {\n        vertical-align: top;\n    }\n\n    .dataframe thead th {\n        text-align: right;\n    }\n</style>\n<table border=\"1\" class=\"dataframe\">\n  <thead>\n    <tr style=\"text-align: right;\">\n      <th></th>\n      <th>receive_date</th>\n      <th>id</th>\n    </tr>\n  </thead>\n  <tbody>\n    <tr>\n      <th>0</th>\n      <td>2021-01-15</td>\n      <td>50166</td>\n    </tr>\n    <tr>\n      <th>1</th>\n      <td>2021-01-16</td>\n      <td>75699</td>\n    </tr>\n    <tr>\n      <th>2</th>\n      <td>2021-01-17</td>\n      <td>73198</td>\n    </tr>\n    <tr>\n      <th>3</th>\n      <td>2021-01-18</td>\n      <td>78365</td>\n    </tr>\n    <tr>\n      <th>4</th>\n      <td>2021-01-19</td>\n      <td>78348</td>\n    </tr>\n  </tbody>\n</table>\n</div>"
     },
     "execution_count": 9,
     "metadata": {},
     "output_type": "execute_result"
    }
   ],
   "source": [
    "# 日別Data の集計\n",
    "daily_count = data[['receive_date', 'id']].groupby('receive_date',\n",
    "                                                   as_index=False).count()  # receive_date と id に絞り込み receive_date毎で集計\n",
    "daily_count.head()  # 先頭５行を表示"
   ],
   "metadata": {
    "collapsed": false,
    "pycharm": {
     "name": "#%%\n"
    }
   }
  },
  {
   "cell_type": "markdown",
   "source": [
    "2021年１月15日は、Data件数が少ない。おそらく開始時間が９時からであるのが影響していると思われる。\n",
    "30日分を数字で見ていくのは厳しいため、棒Graph で可視化してみる"
   ],
   "metadata": {
    "collapsed": false,
    "pycharm": {
     "name": "#%% md\n"
    }
   }
  },
  {
   "cell_type": "code",
   "execution_count": 10,
   "outputs": [
    {
     "data": {
      "text/plain": "<AxesSubplot:xlabel='receive_date', ylabel='id'>"
     },
     "execution_count": 10,
     "metadata": {},
     "output_type": "execute_result"
    },
    {
     "data": {
      "text/plain": "<Figure size 1080x360 with 1 Axes>",
      "image/png": "[encoded data removed]"
     },
     "metadata": {},
     "output_type": "display_data"
    }
   ],
   "source": [
    "# 日別Data の棒Graph\n",
    "import seaborn as sns\n",
    "import matplotlib.pyplot as plt\n",
    "\n",
    "plt.figure(figsize=(15, 5))  # Graph size を設定\n",
    "plt.xticks(rotation=90)  # X軸の Label text を90度回転\n",
    "sns.barplot(x=daily_count['receive_date'], y=daily_count['id'])  # 棒Graph を描画"
   ],
   "metadata": {
    "collapsed": false,
    "pycharm": {
     "name": "#%%\n"
    }
   }
  },
  {
   "cell_type": "markdown",
   "source": [
    "基本的には７万件程度だが、１月23日、24日のように時々 Data件数が下がっている。\n",
    "５日間７万件、２日間は下がるという規則性から曜日が関係しているのではないかと想像できる。曜日を取得してみる"
   ],
   "metadata": {
    "collapsed": false,
    "pycharm": {
     "name": "#%% md\n"
    }
   }
  },
  {
   "cell_type": "markdown",
   "source": [
    "## 日付から曜日を算出してみよう"
   ],
   "metadata": {
    "collapsed": false,
    "pycharm": {
     "name": "#%% md\n"
    }
   }
  },
  {
   "cell_type": "code",
   "execution_count": 11,
   "outputs": [
    {
     "data": {
      "text/plain": "   id  place            receive_time  sensor_num  in1  out1  state1  in2  \\\n0   0      1 2021-01-15 09:00:00.144           2  508    73       0   73   \n1   1      1 2021-01-15 09:00:01.146           2  508    73       0   73   \n2   2      1 2021-01-15 09:00:02.161           2  508    73       0   73   \n3   3      1 2021-01-15 09:00:03.176           2  508    73       0   73   \n4   4      1 2021-01-15 09:00:04.192           2  508    73       0   73   \n\n   out2  state2 receive_date  dayofweek day_name  \n0   508       0   2021-01-15          4   Friday  \n1   508       0   2021-01-15          4   Friday  \n2   508       0   2021-01-15          4   Friday  \n3   508       0   2021-01-15          4   Friday  \n4   508       0   2021-01-15          4   Friday  ",
      "text/html": "<div>\n<style scoped>\n    .dataframe tbody tr th:only-of-type {\n        vertical-align: middle;\n    }\n\n    .dataframe tbody tr th {\n        vertical-align: top;\n    }\n\n    .dataframe thead th {\n        text-align: right;\n    }\n</style>\n<table border=\"1\" class=\"dataframe\">\n  <thead>\n    <tr style=\"text-align: right;\">\n      <th></th>\n      <th>id</th>\n      <th>place</th>\n      <th>receive_time</th>\n      <th>sensor_num</th>\n      <th>in1</th>\n      <th>out1</th>\n      <th>state1</th>\n      <th>in2</th>\n      <th>out2</th>\n      <th>state2</th>\n      <th>receive_date</th>\n      <th>dayofweek</th>\n      <th>day_name</th>\n    </tr>\n  </thead>\n  <tbody>\n    <tr>\n      <th>0</th>\n      <td>0</td>\n      <td>1</td>\n      <td>2021-01-15 09:00:00.144</td>\n      <td>2</td>\n      <td>508</td>\n      <td>73</td>\n      <td>0</td>\n      <td>73</td>\n      <td>508</td>\n      <td>0</td>\n      <td>2021-01-15</td>\n      <td>4</td>\n      <td>Friday</td>\n    </tr>\n    <tr>\n      <th>1</th>\n      <td>1</td>\n      <td>1</td>\n      <td>2021-01-15 09:00:01.146</td>\n      <td>2</td>\n      <td>508</td>\n      <td>73</td>\n      <td>0</td>\n      <td>73</td>\n      <td>508</td>\n      <td>0</td>\n      <td>2021-01-15</td>\n      <td>4</td>\n      <td>Friday</td>\n    </tr>\n    <tr>\n      <th>2</th>\n      <td>2</td>\n      <td>1</td>\n      <td>2021-01-15 09:00:02.161</td>\n      <td>2</td>\n      <td>508</td>\n      <td>73</td>\n      <td>0</td>\n      <td>73</td>\n      <td>508</td>\n      <td>0</td>\n      <td>2021-01-15</td>\n      <td>4</td>\n      <td>Friday</td>\n    </tr>\n    <tr>\n      <th>3</th>\n      <td>3</td>\n      <td>1</td>\n      <td>2021-01-15 09:00:03.176</td>\n      <td>2</td>\n      <td>508</td>\n      <td>73</td>\n      <td>0</td>\n      <td>73</td>\n      <td>508</td>\n      <td>0</td>\n      <td>2021-01-15</td>\n      <td>4</td>\n      <td>Friday</td>\n    </tr>\n    <tr>\n      <th>4</th>\n      <td>4</td>\n      <td>1</td>\n      <td>2021-01-15 09:00:04.192</td>\n      <td>2</td>\n      <td>508</td>\n      <td>73</td>\n      <td>0</td>\n      <td>73</td>\n      <td>508</td>\n      <td>0</td>\n      <td>2021-01-15</td>\n      <td>4</td>\n      <td>Friday</td>\n    </tr>\n  </tbody>\n</table>\n</div>"
     },
     "execution_count": 11,
     "metadata": {},
     "output_type": "execute_result"
    }
   ],
   "source": [
    "# 曜日情報の取得\n",
    "data['dayofweek'] = data['receive_time'].dt.dayofweek\n",
    "data['day_name'] = data['receive_time'].dt.day_name()\n",
    "data.head()"
   ],
   "metadata": {
    "collapsed": false,
    "pycharm": {
     "name": "#%%\n"
    }
   }
  },
  {
   "cell_type": "markdown",
   "source": [
    "dt を利用して曜日を取得。\n",
    "曜日を数字でとるか英語名でとるかは Case by case.\n",
    "- 数字: Data が軽い。何番がどの曜日か不明。\n",
    "- 英語名: 曜日が分かる。Data が重い\n",
    "\n",
    "０番目が月曜日で、１番火曜日と増えていき、６番目が日曜日になる\n",
    "\n",
    "どの日付が何曜日なのか確認しやすくするために日付単位の Data にしていく。\n",
    "※ 集計すると英語名が対応できない為、重複削除することで対応する。"
   ],
   "metadata": {
    "collapsed": false,
    "pycharm": {
     "name": "#%% md\n"
    }
   }
  },
  {
   "cell_type": "code",
   "execution_count": 12,
   "outputs": [
    {
     "data": {
      "text/plain": "       receive_date  dayofweek   day_name\n0        2021-01-15          4     Friday\n50166    2021-01-16          5   Saturday\n125865   2021-01-17          6     Sunday\n199063   2021-01-18          0     Monday\n277428   2021-01-19          1    Tuesday\n355776   2021-01-20          2  Wednesday\n434668   2021-01-21          3   Thursday\n513010   2021-01-22          4     Friday\n593585   2021-01-23          5   Saturday\n668686   2021-01-24          6     Sunday",
      "text/html": "<div>\n<style scoped>\n    .dataframe tbody tr th:only-of-type {\n        vertical-align: middle;\n    }\n\n    .dataframe tbody tr th {\n        vertical-align: top;\n    }\n\n    .dataframe thead th {\n        text-align: right;\n    }\n</style>\n<table border=\"1\" class=\"dataframe\">\n  <thead>\n    <tr style=\"text-align: right;\">\n      <th></th>\n      <th>receive_date</th>\n      <th>dayofweek</th>\n      <th>day_name</th>\n    </tr>\n  </thead>\n  <tbody>\n    <tr>\n      <th>0</th>\n      <td>2021-01-15</td>\n      <td>4</td>\n      <td>Friday</td>\n    </tr>\n    <tr>\n      <th>50166</th>\n      <td>2021-01-16</td>\n      <td>5</td>\n      <td>Saturday</td>\n    </tr>\n    <tr>\n      <th>125865</th>\n      <td>2021-01-17</td>\n      <td>6</td>\n      <td>Sunday</td>\n    </tr>\n    <tr>\n      <th>199063</th>\n      <td>2021-01-18</td>\n      <td>0</td>\n      <td>Monday</td>\n    </tr>\n    <tr>\n      <th>277428</th>\n      <td>2021-01-19</td>\n      <td>1</td>\n      <td>Tuesday</td>\n    </tr>\n    <tr>\n      <th>355776</th>\n      <td>2021-01-20</td>\n      <td>2</td>\n      <td>Wednesday</td>\n    </tr>\n    <tr>\n      <th>434668</th>\n      <td>2021-01-21</td>\n      <td>3</td>\n      <td>Thursday</td>\n    </tr>\n    <tr>\n      <th>513010</th>\n      <td>2021-01-22</td>\n      <td>4</td>\n      <td>Friday</td>\n    </tr>\n    <tr>\n      <th>593585</th>\n      <td>2021-01-23</td>\n      <td>5</td>\n      <td>Saturday</td>\n    </tr>\n    <tr>\n      <th>668686</th>\n      <td>2021-01-24</td>\n      <td>6</td>\n      <td>Sunday</td>\n    </tr>\n  </tbody>\n</table>\n</div>"
     },
     "execution_count": 12,
     "metadata": {},
     "output_type": "execute_result"
    }
   ],
   "source": [
    "# 日単位での曜日表示\n",
    "data[['receive_date', 'dayofweek', 'day_name']].drop_duplicates(subset='receive_date').head(\n",
    "    10)  # drop_duplicates()で receive_date毎に unique になるように重複を削除し、Data の先頭10件を表示"
   ],
   "metadata": {
    "collapsed": false,
    "pycharm": {
     "name": "#%%\n"
    }
   }
  },
  {
   "cell_type": "markdown",
   "source": [
    "前述の Data件数が下がっていた23日が土曜日、24日が日曜日であることがわかる。\n",
    "細かい Data は Sensor の仕様等にもよるが、この Data は土日の Data件数が少なくなるということを頭にいれておく。\n",
    "\n",
    "比較的 Data件数が近い値である１月20、21、22日の Data に絞り込んでいく"
   ],
   "metadata": {
    "collapsed": false,
    "pycharm": {
     "name": "#%% md\n"
    }
   }
  },
  {
   "cell_type": "markdown",
   "source": [
    "## 特定範囲の Dataに絞り込もう"
   ],
   "metadata": {
    "collapsed": false,
    "pycharm": {
     "name": "#%% md\n"
    }
   }
  },
  {
   "cell_type": "code",
   "execution_count": 13,
   "outputs": [
    {
     "data": {
      "text/plain": "        id  place            receive_time  sensor_num    in1   out1  state1  \\\n355776   0      1 2021-01-20 00:00:40.839           2  12109  11302       0   \n355777   1      1 2021-01-20 00:00:41.854           2  12109  11302       0   \n355778   2      1 2021-01-20 00:00:56.055           2  12109  11302       0   \n355779   3      1 2021-01-20 00:00:57.071           2  12109  11302       0   \n355780   4      1 2021-01-20 00:00:58.086           2  12109  11302       0   \n\n          in2   out2  state2 receive_date  dayofweek   day_name  \n355776  11318  12080       0   2021-01-20          2  Wednesday  \n355777  11318  12080       0   2021-01-20          2  Wednesday  \n355778  11318  12080       0   2021-01-20          2  Wednesday  \n355779  11318  12080       0   2021-01-20          2  Wednesday  \n355780  11318  12080       0   2021-01-20          2  Wednesday  ",
      "text/html": "<div>\n<style scoped>\n    .dataframe tbody tr th:only-of-type {\n        vertical-align: middle;\n    }\n\n    .dataframe tbody tr th {\n        vertical-align: top;\n    }\n\n    .dataframe thead th {\n        text-align: right;\n    }\n</style>\n<table border=\"1\" class=\"dataframe\">\n  <thead>\n    <tr style=\"text-align: right;\">\n      <th></th>\n      <th>id</th>\n      <th>place</th>\n      <th>receive_time</th>\n      <th>sensor_num</th>\n      <th>in1</th>\n      <th>out1</th>\n      <th>state1</th>\n      <th>in2</th>\n      <th>out2</th>\n      <th>state2</th>\n      <th>receive_date</th>\n      <th>dayofweek</th>\n      <th>day_name</th>\n    </tr>\n  </thead>\n  <tbody>\n    <tr>\n      <th>355776</th>\n      <td>0</td>\n      <td>1</td>\n      <td>2021-01-20 00:00:40.839</td>\n      <td>2</td>\n      <td>12109</td>\n      <td>11302</td>\n      <td>0</td>\n      <td>11318</td>\n      <td>12080</td>\n      <td>0</td>\n      <td>2021-01-20</td>\n      <td>2</td>\n      <td>Wednesday</td>\n    </tr>\n    <tr>\n      <th>355777</th>\n      <td>1</td>\n      <td>1</td>\n      <td>2021-01-20 00:00:41.854</td>\n      <td>2</td>\n      <td>12109</td>\n      <td>11302</td>\n      <td>0</td>\n      <td>11318</td>\n      <td>12080</td>\n      <td>0</td>\n      <td>2021-01-20</td>\n      <td>2</td>\n      <td>Wednesday</td>\n    </tr>\n    <tr>\n      <th>355778</th>\n      <td>2</td>\n      <td>1</td>\n      <td>2021-01-20 00:00:56.055</td>\n      <td>2</td>\n      <td>12109</td>\n      <td>11302</td>\n      <td>0</td>\n      <td>11318</td>\n      <td>12080</td>\n      <td>0</td>\n      <td>2021-01-20</td>\n      <td>2</td>\n      <td>Wednesday</td>\n    </tr>\n    <tr>\n      <th>355779</th>\n      <td>3</td>\n      <td>1</td>\n      <td>2021-01-20 00:00:57.071</td>\n      <td>2</td>\n      <td>12109</td>\n      <td>11302</td>\n      <td>0</td>\n      <td>11318</td>\n      <td>12080</td>\n      <td>0</td>\n      <td>2021-01-20</td>\n      <td>2</td>\n      <td>Wednesday</td>\n    </tr>\n    <tr>\n      <th>355780</th>\n      <td>4</td>\n      <td>1</td>\n      <td>2021-01-20 00:00:58.086</td>\n      <td>2</td>\n      <td>12109</td>\n      <td>11302</td>\n      <td>0</td>\n      <td>11318</td>\n      <td>12080</td>\n      <td>0</td>\n      <td>2021-01-20</td>\n      <td>2</td>\n      <td>Wednesday</td>\n    </tr>\n  </tbody>\n</table>\n</div>"
     },
     "metadata": {},
     "output_type": "display_data"
    },
    {
     "data": {
      "text/plain": "          id  place            receive_time  sensor_num    in1   out1  state1  \\\n593580  2620      1 2021-01-22 23:58:32.865           2  21150  19675       0   \n593581  2621      1 2021-01-22 23:58:33.881           2  21150  19675       0   \n593582  2622      1 2021-01-22 23:58:34.896           2  21150  19675       0   \n593583  2623      1 2021-01-22 23:58:35.912           2  21150  19675       0   \n593584  2624      1 2021-01-22 23:58:36.927           2  21150  19675       0   \n\n          in2   out2  state2 receive_date  dayofweek day_name  \n593580  19701  21107       0   2021-01-22          4   Friday  \n593581  19701  21107       0   2021-01-22          4   Friday  \n593582  19701  21107       0   2021-01-22          4   Friday  \n593583  19701  21107       0   2021-01-22          4   Friday  \n593584  19701  21107       0   2021-01-22          4   Friday  ",
      "text/html": "<div>\n<style scoped>\n    .dataframe tbody tr th:only-of-type {\n        vertical-align: middle;\n    }\n\n    .dataframe tbody tr th {\n        vertical-align: top;\n    }\n\n    .dataframe thead th {\n        text-align: right;\n    }\n</style>\n<table border=\"1\" class=\"dataframe\">\n  <thead>\n    <tr style=\"text-align: right;\">\n      <th></th>\n      <th>id</th>\n      <th>place</th>\n      <th>receive_time</th>\n      <th>sensor_num</th>\n      <th>in1</th>\n      <th>out1</th>\n      <th>state1</th>\n      <th>in2</th>\n      <th>out2</th>\n      <th>state2</th>\n      <th>receive_date</th>\n      <th>dayofweek</th>\n      <th>day_name</th>\n    </tr>\n  </thead>\n  <tbody>\n    <tr>\n      <th>593580</th>\n      <td>2620</td>\n      <td>1</td>\n      <td>2021-01-22 23:58:32.865</td>\n      <td>2</td>\n      <td>21150</td>\n      <td>19675</td>\n      <td>0</td>\n      <td>19701</td>\n      <td>21107</td>\n      <td>0</td>\n      <td>2021-01-22</td>\n      <td>4</td>\n      <td>Friday</td>\n    </tr>\n    <tr>\n      <th>593581</th>\n      <td>2621</td>\n      <td>1</td>\n      <td>2021-01-22 23:58:33.881</td>\n      <td>2</td>\n      <td>21150</td>\n      <td>19675</td>\n      <td>0</td>\n      <td>19701</td>\n      <td>21107</td>\n      <td>0</td>\n      <td>2021-01-22</td>\n      <td>4</td>\n      <td>Friday</td>\n    </tr>\n    <tr>\n      <th>593582</th>\n      <td>2622</td>\n      <td>1</td>\n      <td>2021-01-22 23:58:34.896</td>\n      <td>2</td>\n      <td>21150</td>\n      <td>19675</td>\n      <td>0</td>\n      <td>19701</td>\n      <td>21107</td>\n      <td>0</td>\n      <td>2021-01-22</td>\n      <td>4</td>\n      <td>Friday</td>\n    </tr>\n    <tr>\n      <th>593583</th>\n      <td>2623</td>\n      <td>1</td>\n      <td>2021-01-22 23:58:35.912</td>\n      <td>2</td>\n      <td>21150</td>\n      <td>19675</td>\n      <td>0</td>\n      <td>19701</td>\n      <td>21107</td>\n      <td>0</td>\n      <td>2021-01-22</td>\n      <td>4</td>\n      <td>Friday</td>\n    </tr>\n    <tr>\n      <th>593584</th>\n      <td>2624</td>\n      <td>1</td>\n      <td>2021-01-22 23:58:36.927</td>\n      <td>2</td>\n      <td>21150</td>\n      <td>19675</td>\n      <td>0</td>\n      <td>19701</td>\n      <td>21107</td>\n      <td>0</td>\n      <td>2021-01-22</td>\n      <td>4</td>\n      <td>Friday</td>\n    </tr>\n  </tbody>\n</table>\n</div>"
     },
     "metadata": {},
     "output_type": "display_data"
    }
   ],
   "source": [
    "# 日付による　Data の絞り込み\n",
    "import datetime as dt\n",
    "\n",
    "data_extract = data.loc[\n",
    "    (data['receive_time'] >= dt.datetime(2021, 1, 20)) & (\n",
    "            data['receive_time'] < dt.datetime(2021, 1, 23))].copy()  # 2021年1月20日から22日までの　Data を絞り込み\n",
    "\n",
    "display(data_extract.head())  # 先頭５行を表示\n",
    "display(data_extract.tail())  # 末尾５行を表示"
   ],
   "metadata": {
    "collapsed": false,
    "pycharm": {
     "name": "#%%\n"
    }
   }
  },
  {
   "cell_type": "markdown",
   "source": [
    "## 秒単位の Data を作成しよう\n",
    "Milli秒単位の Data を秒単位の Data に変えていく"
   ],
   "metadata": {
    "collapsed": false,
    "pycharm": {
     "name": "#%% md\n"
    }
   }
  },
  {
   "cell_type": "code",
   "execution_count": 14,
   "outputs": [
    {
     "data": {
      "text/plain": "          id  place            receive_time  sensor_num    in1   out1  state1  \\\n355776     0      1 2021-01-20 00:00:40.839           2  12109  11302       0   \n355777     1      1 2021-01-20 00:00:41.854           2  12109  11302       0   \n355778     2      1 2021-01-20 00:00:56.055           2  12109  11302       0   \n355779     3      1 2021-01-20 00:00:57.071           2  12109  11302       0   \n355780     4      1 2021-01-20 00:00:58.086           2  12109  11302       0   \n...      ...    ...                     ...         ...    ...    ...     ...   \n593580  2620      1 2021-01-22 23:58:32.865           2  21150  19675       0   \n593581  2621      1 2021-01-22 23:58:33.881           2  21150  19675       0   \n593582  2622      1 2021-01-22 23:58:34.896           2  21150  19675       0   \n593583  2623      1 2021-01-22 23:58:35.912           2  21150  19675       0   \n593584  2624      1 2021-01-22 23:58:36.927           2  21150  19675       0   \n\n          in2   out2  state2 receive_date  dayofweek   day_name  \\\n355776  11318  12080       0   2021-01-20          2  Wednesday   \n355777  11318  12080       0   2021-01-20          2  Wednesday   \n355778  11318  12080       0   2021-01-20          2  Wednesday   \n355779  11318  12080       0   2021-01-20          2  Wednesday   \n355780  11318  12080       0   2021-01-20          2  Wednesday   \n...       ...    ...     ...          ...        ...        ...   \n593580  19701  21107       0   2021-01-22          4     Friday   \n593581  19701  21107       0   2021-01-22          4     Friday   \n593582  19701  21107       0   2021-01-22          4     Friday   \n593583  19701  21107       0   2021-01-22          4     Friday   \n593584  19701  21107       0   2021-01-22          4     Friday   \n\n          receive_time_sec  \n355776 2021-01-20 00:00:41  \n355777 2021-01-20 00:00:42  \n355778 2021-01-20 00:00:56  \n355779 2021-01-20 00:00:57  \n355780 2021-01-20 00:00:58  \n...                    ...  \n593580 2021-01-22 23:58:33  \n593581 2021-01-22 23:58:34  \n593582 2021-01-22 23:58:35  \n593583 2021-01-22 23:58:36  \n593584 2021-01-22 23:58:37  \n\n[237809 rows x 14 columns]",
      "text/html": "<div>\n<style scoped>\n    .dataframe tbody tr th:only-of-type {\n        vertical-align: middle;\n    }\n\n    .dataframe tbody tr th {\n        vertical-align: top;\n    }\n\n    .dataframe thead th {\n        text-align: right;\n    }\n</style>\n<table border=\"1\" class=\"dataframe\">\n  <thead>\n    <tr style=\"text-align: right;\">\n      <th></th>\n      <th>id</th>\n      <th>place</th>\n      <th>receive_time</th>\n      <th>sensor_num</th>\n      <th>in1</th>\n      <th>out1</th>\n      <th>state1</th>\n      <th>in2</th>\n      <th>out2</th>\n      <th>state2</th>\n      <th>receive_date</th>\n      <th>dayofweek</th>\n      <th>day_name</th>\n      <th>receive_time_sec</th>\n    </tr>\n  </thead>\n  <tbody>\n    <tr>\n      <th>355776</th>\n      <td>0</td>\n      <td>1</td>\n      <td>2021-01-20 00:00:40.839</td>\n      <td>2</td>\n      <td>12109</td>\n      <td>11302</td>\n      <td>0</td>\n      <td>11318</td>\n      <td>12080</td>\n      <td>0</td>\n      <td>2021-01-20</td>\n      <td>2</td>\n      <td>Wednesday</td>\n      <td>2021-01-20 00:00:41</td>\n    </tr>\n    <tr>\n      <th>355777</th>\n      <td>1</td>\n      <td>1</td>\n      <td>2021-01-20 00:00:41.854</td>\n      <td>2</td>\n      <td>12109</td>\n      <td>11302</td>\n      <td>0</td>\n      <td>11318</td>\n      <td>12080</td>\n      <td>0</td>\n      <td>2021-01-20</td>\n      <td>2</td>\n      <td>Wednesday</td>\n      <td>2021-01-20 00:00:42</td>\n    </tr>\n    <tr>\n      <th>355778</th>\n      <td>2</td>\n      <td>1</td>\n      <td>2021-01-20 00:00:56.055</td>\n      <td>2</td>\n      <td>12109</td>\n      <td>11302</td>\n      <td>0</td>\n      <td>11318</td>\n      <td>12080</td>\n      <td>0</td>\n      <td>2021-01-20</td>\n      <td>2</td>\n      <td>Wednesday</td>\n      <td>2021-01-20 00:00:56</td>\n    </tr>\n    <tr>\n      <th>355779</th>\n      <td>3</td>\n      <td>1</td>\n      <td>2021-01-20 00:00:57.071</td>\n      <td>2</td>\n      <td>12109</td>\n      <td>11302</td>\n      <td>0</td>\n      <td>11318</td>\n      <td>12080</td>\n      <td>0</td>\n      <td>2021-01-20</td>\n      <td>2</td>\n      <td>Wednesday</td>\n      <td>2021-01-20 00:00:57</td>\n    </tr>\n    <tr>\n      <th>355780</th>\n      <td>4</td>\n      <td>1</td>\n      <td>2021-01-20 00:00:58.086</td>\n      <td>2</td>\n      <td>12109</td>\n      <td>11302</td>\n      <td>0</td>\n      <td>11318</td>\n      <td>12080</td>\n      <td>0</td>\n      <td>2021-01-20</td>\n      <td>2</td>\n      <td>Wednesday</td>\n      <td>2021-01-20 00:00:58</td>\n    </tr>\n    <tr>\n      <th>...</th>\n      <td>...</td>\n      <td>...</td>\n      <td>...</td>\n      <td>...</td>\n      <td>...</td>\n      <td>...</td>\n      <td>...</td>\n      <td>...</td>\n      <td>...</td>\n      <td>...</td>\n      <td>...</td>\n      <td>...</td>\n      <td>...</td>\n      <td>...</td>\n    </tr>\n    <tr>\n      <th>593580</th>\n      <td>2620</td>\n      <td>1</td>\n      <td>2021-01-22 23:58:32.865</td>\n      <td>2</td>\n      <td>21150</td>\n      <td>19675</td>\n      <td>0</td>\n      <td>19701</td>\n      <td>21107</td>\n      <td>0</td>\n      <td>2021-01-22</td>\n      <td>4</td>\n      <td>Friday</td>\n      <td>2021-01-22 23:58:33</td>\n    </tr>\n    <tr>\n      <th>593581</th>\n      <td>2621</td>\n      <td>1</td>\n      <td>2021-01-22 23:58:33.881</td>\n      <td>2</td>\n      <td>21150</td>\n      <td>19675</td>\n      <td>0</td>\n      <td>19701</td>\n      <td>21107</td>\n      <td>0</td>\n      <td>2021-01-22</td>\n      <td>4</td>\n      <td>Friday</td>\n      <td>2021-01-22 23:58:34</td>\n    </tr>\n    <tr>\n      <th>593582</th>\n      <td>2622</td>\n      <td>1</td>\n      <td>2021-01-22 23:58:34.896</td>\n      <td>2</td>\n      <td>21150</td>\n      <td>19675</td>\n      <td>0</td>\n      <td>19701</td>\n      <td>21107</td>\n      <td>0</td>\n      <td>2021-01-22</td>\n      <td>4</td>\n      <td>Friday</td>\n      <td>2021-01-22 23:58:35</td>\n    </tr>\n    <tr>\n      <th>593583</th>\n      <td>2623</td>\n      <td>1</td>\n      <td>2021-01-22 23:58:35.912</td>\n      <td>2</td>\n      <td>21150</td>\n      <td>19675</td>\n      <td>0</td>\n      <td>19701</td>\n      <td>21107</td>\n      <td>0</td>\n      <td>2021-01-22</td>\n      <td>4</td>\n      <td>Friday</td>\n      <td>2021-01-22 23:58:36</td>\n    </tr>\n    <tr>\n      <th>593584</th>\n      <td>2624</td>\n      <td>1</td>\n      <td>2021-01-22 23:58:36.927</td>\n      <td>2</td>\n      <td>21150</td>\n      <td>19675</td>\n      <td>0</td>\n      <td>19701</td>\n      <td>21107</td>\n      <td>0</td>\n      <td>2021-01-22</td>\n      <td>4</td>\n      <td>Friday</td>\n      <td>2021-01-22 23:58:37</td>\n    </tr>\n  </tbody>\n</table>\n<p>237809 rows × 14 columns</p>\n</div>"
     },
     "execution_count": 14,
     "metadata": {},
     "output_type": "execute_result"
    }
   ],
   "source": [
    "# round による秒単位 Data の作成\n",
    "data_extract['receive_time_sec'] = data_extract['receive_time'].dt.round('S')  # round()の中に秒単位で丸めるということで 'S' を指定\n",
    "data_extract  # 表示する"
   ],
   "metadata": {
    "collapsed": false,
    "pycharm": {
     "name": "#%%\n"
    }
   }
  },
  {
   "cell_type": "markdown",
   "source": [
    "秒単位に丸めた際に、必ず重複がないか確認するべきである。"
   ],
   "metadata": {
    "collapsed": false,
    "pycharm": {
     "name": "#%% md\n"
    }
   }
  },
  {
   "cell_type": "code",
   "execution_count": 15,
   "outputs": [
    {
     "name": "stdout",
     "output_type": "stream",
     "text": [
      "237809\n",
      "237807\n"
     ]
    }
   ],
   "source": [
    "## 重複の確認\n",
    "print(len(data_extract))\n",
    "print(len(data_extract['receive_time_sec'].unique()))"
   ],
   "metadata": {
    "collapsed": false,
    "pycharm": {
     "name": "#%%\n"
    }
   }
  },
  {
   "cell_type": "markdown",
   "source": [
    "２件 Data がズレているため、重複Data を確認していく。"
   ],
   "metadata": {
    "collapsed": false,
    "pycharm": {
     "name": "#%% md\n"
    }
   }
  },
  {
   "cell_type": "code",
   "execution_count": 16,
   "outputs": [
    {
     "data": {
      "text/plain": "         id  place            receive_time  sensor_num    in1   out1  state1  \\\n578874  887      1 2021-01-22 19:15:06.530           2  20968  18976       1   \n578875  888      1 2021-01-22 19:15:07.409           2  20968  18976       1   \n578876  889      1 2021-01-22 19:15:07.546           2  20968  18976       1   \n578877  890      1 2021-01-22 19:15:08.424           2  20968  18976       1   \n\n          in2   out2  state2 receive_date  dayofweek day_name  \\\n578874  19002  20925       1   2021-01-22          4   Friday   \n578875  19002  20925       1   2021-01-22          4   Friday   \n578876  19002  20925       1   2021-01-22          4   Friday   \n578877  19002  20925       1   2021-01-22          4   Friday   \n\n          receive_time_sec  \n578874 2021-01-22 19:15:07  \n578875 2021-01-22 19:15:07  \n578876 2021-01-22 19:15:08  \n578877 2021-01-22 19:15:08  ",
      "text/html": "<div>\n<style scoped>\n    .dataframe tbody tr th:only-of-type {\n        vertical-align: middle;\n    }\n\n    .dataframe tbody tr th {\n        vertical-align: top;\n    }\n\n    .dataframe thead th {\n        text-align: right;\n    }\n</style>\n<table border=\"1\" class=\"dataframe\">\n  <thead>\n    <tr style=\"text-align: right;\">\n      <th></th>\n      <th>id</th>\n      <th>place</th>\n      <th>receive_time</th>\n      <th>sensor_num</th>\n      <th>in1</th>\n      <th>out1</th>\n      <th>state1</th>\n      <th>in2</th>\n      <th>out2</th>\n      <th>state2</th>\n      <th>receive_date</th>\n      <th>dayofweek</th>\n      <th>day_name</th>\n      <th>receive_time_sec</th>\n    </tr>\n  </thead>\n  <tbody>\n    <tr>\n      <th>578874</th>\n      <td>887</td>\n      <td>1</td>\n      <td>2021-01-22 19:15:06.530</td>\n      <td>2</td>\n      <td>20968</td>\n      <td>18976</td>\n      <td>1</td>\n      <td>19002</td>\n      <td>20925</td>\n      <td>1</td>\n      <td>2021-01-22</td>\n      <td>4</td>\n      <td>Friday</td>\n      <td>2021-01-22 19:15:07</td>\n    </tr>\n    <tr>\n      <th>578875</th>\n      <td>888</td>\n      <td>1</td>\n      <td>2021-01-22 19:15:07.409</td>\n      <td>2</td>\n      <td>20968</td>\n      <td>18976</td>\n      <td>1</td>\n      <td>19002</td>\n      <td>20925</td>\n      <td>1</td>\n      <td>2021-01-22</td>\n      <td>4</td>\n      <td>Friday</td>\n      <td>2021-01-22 19:15:07</td>\n    </tr>\n    <tr>\n      <th>578876</th>\n      <td>889</td>\n      <td>1</td>\n      <td>2021-01-22 19:15:07.546</td>\n      <td>2</td>\n      <td>20968</td>\n      <td>18976</td>\n      <td>1</td>\n      <td>19002</td>\n      <td>20925</td>\n      <td>1</td>\n      <td>2021-01-22</td>\n      <td>4</td>\n      <td>Friday</td>\n      <td>2021-01-22 19:15:08</td>\n    </tr>\n    <tr>\n      <th>578877</th>\n      <td>890</td>\n      <td>1</td>\n      <td>2021-01-22 19:15:08.424</td>\n      <td>2</td>\n      <td>20968</td>\n      <td>18976</td>\n      <td>1</td>\n      <td>19002</td>\n      <td>20925</td>\n      <td>1</td>\n      <td>2021-01-22</td>\n      <td>4</td>\n      <td>Friday</td>\n      <td>2021-01-22 19:15:08</td>\n    </tr>\n  </tbody>\n</table>\n</div>"
     },
     "execution_count": 16,
     "metadata": {},
     "output_type": "execute_result"
    }
   ],
   "source": [
    "# 重複Data の表示\n",
    "data_extract[data_extract['receive_time_sec'].duplicated(\n",
    "    keep=False)].head()  # duplicated()で重複しているかの　True | False を取得。keep=False を指定しないと重複Data の片方しか False にならない"
   ],
   "metadata": {
    "collapsed": false,
    "pycharm": {
     "name": "#%%\n"
    }
   }
  },
  {
   "cell_type": "markdown",
   "source": [
    "重複Data は、四捨五入していることに起因している様子。\n",
    "そこで、 floor()で切り捨ても行なってみる。（※ 合わせて重複件数の Check も行なう。）"
   ],
   "metadata": {
    "collapsed": false,
    "pycharm": {
     "name": "#%% md\n"
    }
   }
  },
  {
   "cell_type": "code",
   "execution_count": 20,
   "outputs": [
    {
     "data": {
      "text/plain": "        id  place            receive_time  sensor_num    in1   out1  state1  \\\n355776   0      1 2021-01-20 00:00:40.839           2  12109  11302       0   \n355777   1      1 2021-01-20 00:00:41.854           2  12109  11302       0   \n355778   2      1 2021-01-20 00:00:56.055           2  12109  11302       0   \n355779   3      1 2021-01-20 00:00:57.071           2  12109  11302       0   \n355780   4      1 2021-01-20 00:00:58.086           2  12109  11302       0   \n\n          in2   out2  state2 receive_date  dayofweek   day_name  \\\n355776  11318  12080       0   2021-01-20          2  Wednesday   \n355777  11318  12080       0   2021-01-20          2  Wednesday   \n355778  11318  12080       0   2021-01-20          2  Wednesday   \n355779  11318  12080       0   2021-01-20          2  Wednesday   \n355780  11318  12080       0   2021-01-20          2  Wednesday   \n\n          receive_time_sec  \n355776 2021-01-20 00:00:40  \n355777 2021-01-20 00:00:41  \n355778 2021-01-20 00:00:56  \n355779 2021-01-20 00:00:57  \n355780 2021-01-20 00:00:58  ",
      "text/html": "<div>\n<style scoped>\n    .dataframe tbody tr th:only-of-type {\n        vertical-align: middle;\n    }\n\n    .dataframe tbody tr th {\n        vertical-align: top;\n    }\n\n    .dataframe thead th {\n        text-align: right;\n    }\n</style>\n<table border=\"1\" class=\"dataframe\">\n  <thead>\n    <tr style=\"text-align: right;\">\n      <th></th>\n      <th>id</th>\n      <th>place</th>\n      <th>receive_time</th>\n      <th>sensor_num</th>\n      <th>in1</th>\n      <th>out1</th>\n      <th>state1</th>\n      <th>in2</th>\n      <th>out2</th>\n      <th>state2</th>\n      <th>receive_date</th>\n      <th>dayofweek</th>\n      <th>day_name</th>\n      <th>receive_time_sec</th>\n    </tr>\n  </thead>\n  <tbody>\n    <tr>\n      <th>355776</th>\n      <td>0</td>\n      <td>1</td>\n      <td>2021-01-20 00:00:40.839</td>\n      <td>2</td>\n      <td>12109</td>\n      <td>11302</td>\n      <td>0</td>\n      <td>11318</td>\n      <td>12080</td>\n      <td>0</td>\n      <td>2021-01-20</td>\n      <td>2</td>\n      <td>Wednesday</td>\n      <td>2021-01-20 00:00:40</td>\n    </tr>\n    <tr>\n      <th>355777</th>\n      <td>1</td>\n      <td>1</td>\n      <td>2021-01-20 00:00:41.854</td>\n      <td>2</td>\n      <td>12109</td>\n      <td>11302</td>\n      <td>0</td>\n      <td>11318</td>\n      <td>12080</td>\n      <td>0</td>\n      <td>2021-01-20</td>\n      <td>2</td>\n      <td>Wednesday</td>\n      <td>2021-01-20 00:00:41</td>\n    </tr>\n    <tr>\n      <th>355778</th>\n      <td>2</td>\n      <td>1</td>\n      <td>2021-01-20 00:00:56.055</td>\n      <td>2</td>\n      <td>12109</td>\n      <td>11302</td>\n      <td>0</td>\n      <td>11318</td>\n      <td>12080</td>\n      <td>0</td>\n      <td>2021-01-20</td>\n      <td>2</td>\n      <td>Wednesday</td>\n      <td>2021-01-20 00:00:56</td>\n    </tr>\n    <tr>\n      <th>355779</th>\n      <td>3</td>\n      <td>1</td>\n      <td>2021-01-20 00:00:57.071</td>\n      <td>2</td>\n      <td>12109</td>\n      <td>11302</td>\n      <td>0</td>\n      <td>11318</td>\n      <td>12080</td>\n      <td>0</td>\n      <td>2021-01-20</td>\n      <td>2</td>\n      <td>Wednesday</td>\n      <td>2021-01-20 00:00:57</td>\n    </tr>\n    <tr>\n      <th>355780</th>\n      <td>4</td>\n      <td>1</td>\n      <td>2021-01-20 00:00:58.086</td>\n      <td>2</td>\n      <td>12109</td>\n      <td>11302</td>\n      <td>0</td>\n      <td>11318</td>\n      <td>12080</td>\n      <td>0</td>\n      <td>2021-01-20</td>\n      <td>2</td>\n      <td>Wednesday</td>\n      <td>2021-01-20 00:00:58</td>\n    </tr>\n  </tbody>\n</table>\n</div>"
     },
     "metadata": {},
     "output_type": "display_data"
    },
    {
     "name": "stdout",
     "output_type": "stream",
     "text": [
      "237809\n",
      "237808\n"
     ]
    }
   ],
   "source": [
    "# floor による秒単位Data の作成\n",
    "data_extract['receive_time_sec'] = data_extract['receive_time'].dt.floor('S')  # dt.floor() で切り捨てを行なう\n",
    "display(data_extract.head())  # 先頭５行の表示\n",
    "print(len(data_extract))  # Data 件数を表示\n",
    "print(len(data_extract['receive_time_sec'].unique()))  # receive_time_sec の一意性のある Data 件数を表示"
   ],
   "metadata": {
    "collapsed": false,
    "pycharm": {
     "name": "#%%\n"
    }
   }
  },
  {
   "cell_type": "markdown",
   "source": [
    "重複件数は１件になった。\n",
    "重複Data を確認していく。"
   ],
   "metadata": {
    "collapsed": false,
    "pycharm": {
     "name": "#%% md\n"
    }
   }
  },
  {
   "cell_type": "code",
   "execution_count": 21,
   "outputs": [
    {
     "data": {
      "text/plain": "         id  place            receive_time  sensor_num    in1   out1  state1  \\\n578875  888      1 2021-01-22 19:15:07.409           2  20968  18976       1   \n578876  889      1 2021-01-22 19:15:07.546           2  20968  18976       1   \n\n          in2   out2  state2 receive_date  dayofweek day_name  \\\n578875  19002  20925       1   2021-01-22          4   Friday   \n578876  19002  20925       1   2021-01-22          4   Friday   \n\n          receive_time_sec  \n578875 2021-01-22 19:15:07  \n578876 2021-01-22 19:15:07  ",
      "text/html": "<div>\n<style scoped>\n    .dataframe tbody tr th:only-of-type {\n        vertical-align: middle;\n    }\n\n    .dataframe tbody tr th {\n        vertical-align: top;\n    }\n\n    .dataframe thead th {\n        text-align: right;\n    }\n</style>\n<table border=\"1\" class=\"dataframe\">\n  <thead>\n    <tr style=\"text-align: right;\">\n      <th></th>\n      <th>id</th>\n      <th>place</th>\n      <th>receive_time</th>\n      <th>sensor_num</th>\n      <th>in1</th>\n      <th>out1</th>\n      <th>state1</th>\n      <th>in2</th>\n      <th>out2</th>\n      <th>state2</th>\n      <th>receive_date</th>\n      <th>dayofweek</th>\n      <th>day_name</th>\n      <th>receive_time_sec</th>\n    </tr>\n  </thead>\n  <tbody>\n    <tr>\n      <th>578875</th>\n      <td>888</td>\n      <td>1</td>\n      <td>2021-01-22 19:15:07.409</td>\n      <td>2</td>\n      <td>20968</td>\n      <td>18976</td>\n      <td>1</td>\n      <td>19002</td>\n      <td>20925</td>\n      <td>1</td>\n      <td>2021-01-22</td>\n      <td>4</td>\n      <td>Friday</td>\n      <td>2021-01-22 19:15:07</td>\n    </tr>\n    <tr>\n      <th>578876</th>\n      <td>889</td>\n      <td>1</td>\n      <td>2021-01-22 19:15:07.546</td>\n      <td>2</td>\n      <td>20968</td>\n      <td>18976</td>\n      <td>1</td>\n      <td>19002</td>\n      <td>20925</td>\n      <td>1</td>\n      <td>2021-01-22</td>\n      <td>4</td>\n      <td>Friday</td>\n      <td>2021-01-22 19:15:07</td>\n    </tr>\n  </tbody>\n</table>\n</div>"
     },
     "execution_count": 21,
     "metadata": {},
     "output_type": "execute_result"
    }
   ],
   "source": [
    "# 重複Data の確認\n",
    "data_extract[data_extract['receive_time_sec'].duplicated(\n",
    "    keep=False)].head()  # duplicated()で重複しているかの　True | False を取得。keep=False を指定しないと重複Data の片方しか False にならない"
   ],
   "metadata": {
    "collapsed": false,
    "pycharm": {
     "name": "#%%\n"
    }
   }
  },
  {
   "cell_type": "markdown",
   "source": [
    "Sensor がおよそ100milli秒後に測定していることに起因して重複している。（※ Sensor data ではこういった Data が頻出する。）\n",
    "\n",
    "- 秒単位の Sensor data は大量に Data が存在するため、あまり大きな問題にはならない。\n",
    "- 全体の件数Impact としても240万件弱のうち１件もしくは２件のレベルの重複。\n",
    "\n",
    "上記の観点から、今回は、このまま floor()　で丸めた Data で重複削除を行ない進んでいくとする。\n",
    "（※合わせて、開始から終了の日付を取得しておく。）"
   ],
   "metadata": {
    "collapsed": false,
    "pycharm": {
     "name": "#%% md\n"
    }
   }
  },
  {
   "cell_type": "code",
   "execution_count": 22,
   "outputs": [
    {
     "name": "stdout",
     "output_type": "stream",
     "text": [
      "237808\n",
      "2021-01-20 00:00:40から2021-01-22 23:58:36\n"
     ]
    }
   ],
   "source": [
    "# 重複Data の削除\n",
    "data_extract = data_extract.drop_duplicates(subset=['receive_time_sec'])  # receive_time_sec で重複している行を削除\n",
    "min_receive_time = data_extract['receive_time_sec'].min()  # 最小値(開始の日付)を取得\n",
    "max_receive_time = data_extract['receive_time_sec'].max()  # 最大値(終了の日付)を取得\n",
    "print(len(data_extract))  # Data件数を表示\n",
    "print(f\"{min_receive_time}から{max_receive_time}\")  #  開始日から終了日を表示"
   ],
   "metadata": {
    "collapsed": false,
    "pycharm": {
     "name": "#%%\n"
    }
   }
  },
  {
   "cell_type": "code",
   "execution_count": null,
   "outputs": [],
   "source": [],
   "metadata": {
    "collapsed": false,
    "pycharm": {
     "name": "#%%\n"
    }
   }
  }
 ],
 "metadata": {
  "kernelspec": {
   "display_name": "Python 3",
   "language": "python",
   "name": "python3"
  },
  "language_info": {
   "codemirror_mode": {
    "name": "ipython",
    "version": 2
   },
   "file_extension": ".py",
   "mimetype": "text/x-python",
   "name": "python",
   "nbconvert_exporter": "python",
   "pygments_lexer": "ipython2",
   "version": "2.7.6"
  }
 },
 "nbformat": 4,
 "nbformat_minor": 0
}