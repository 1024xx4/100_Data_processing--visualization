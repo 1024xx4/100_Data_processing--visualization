{
 "cells": [
  {
   "cell_type": "code",
   "execution_count": 1,
   "outputs": [],
   "source": [
    "import pandas as pd\n",
    "\n",
    "pd.set_option('display.max_columns', None)"
   ],
   "metadata": {
    "collapsed": false,
    "pycharm": {
     "name": "#%%\n"
    }
   }
  },
  {
   "cell_type": "markdown",
   "metadata": {
    "collapsed": true,
    "pycharm": {
     "name": "#%% md\n"
    }
   },
   "source": [
    "## Excel Data を読み込んでみよう"
   ]
  },
  {
   "cell_type": "code",
   "execution_count": 2,
   "outputs": [
    {
     "data": {
      "text/plain": "  １－（２）．都道府県別発電所数、出力数　（２０２０年４月） Unnamed: 1 Unnamed: 2 Unnamed: 3 Unnamed: 4  \\\n0                          都道府県      水力発電所        NaN      火力発電所        NaN   \n1                           NaN        NaN        NaN        NaN        NaN   \n2                           NaN       発電所数      最大出力計       発電所数      最大出力計   \n3                           北海道         98  2032077.6         32    6176880   \n4                           青森県         19     128750         10     655750   \n\n  Unnamed: 5 Unnamed: 6  Unnamed: 7 Unnamed: 8 Unnamed: 9 Unnamed: 10  \\\n0     原子力発電所        NaN  新エネルギー等発電所        NaN        NaN         NaN   \n1        NaN        NaN          風力        NaN        太陽光         NaN   \n2       発電所数      最大出力計        発電所数      最大出力計       発電所数       最大出力計   \n3          1    2070000          56     428134        127    675751.1   \n4          1    1100000          24     593870         35      399997   \n\n  Unnamed: 11 Unnamed: 12 Unnamed: 13 Unnamed: 14 Unnamed: 15 Unnamed: 16  \\\n0         NaN         NaN         NaN         NaN         NaN         NaN   \n1          地熱         NaN     〔バイオマス〕         NaN       〔廃棄物〕         NaN   \n2        発電所数       最大出力計        発電所数       最大出力計        発電所数       最大出力計   \n3           1       25000           3       96650           3       49920   \n4           0           0           4      134850           1       18800   \n\n  Unnamed: 17 Unnamed: 18 Unnamed: 19 ２０２０年　８月３日公表時点 Unnamed: 21     （単位：kW）  \n0         NaN         NaN         その他            NaN          合計         NaN  \n1           計         NaN         NaN            NaN         NaN         NaN  \n2        発電所数       最大出力計        発電所数          最大出力計        発電所数       最大出力計  \n3         184   1128885.1           0              0         315  11407842.7  \n4          59      993867           0              0          89     2878367  ",
      "text/html": "<div>\n<style scoped>\n    .dataframe tbody tr th:only-of-type {\n        vertical-align: middle;\n    }\n\n    .dataframe tbody tr th {\n        vertical-align: top;\n    }\n\n    .dataframe thead th {\n        text-align: right;\n    }\n</style>\n<table border=\"1\" class=\"dataframe\">\n  <thead>\n    <tr style=\"text-align: right;\">\n      <th></th>\n      <th>１－（２）．都道府県別発電所数、出力数　（２０２０年４月）</th>\n      <th>Unnamed: 1</th>\n      <th>Unnamed: 2</th>\n      <th>Unnamed: 3</th>\n      <th>Unnamed: 4</th>\n      <th>Unnamed: 5</th>\n      <th>Unnamed: 6</th>\n      <th>Unnamed: 7</th>\n      <th>Unnamed: 8</th>\n      <th>Unnamed: 9</th>\n      <th>Unnamed: 10</th>\n      <th>Unnamed: 11</th>\n      <th>Unnamed: 12</th>\n      <th>Unnamed: 13</th>\n      <th>Unnamed: 14</th>\n      <th>Unnamed: 15</th>\n      <th>Unnamed: 16</th>\n      <th>Unnamed: 17</th>\n      <th>Unnamed: 18</th>\n      <th>Unnamed: 19</th>\n      <th>２０２０年　８月３日公表時点</th>\n      <th>Unnamed: 21</th>\n      <th>（単位：kW）</th>\n    </tr>\n  </thead>\n  <tbody>\n    <tr>\n      <th>0</th>\n      <td>都道府県</td>\n      <td>水力発電所</td>\n      <td>NaN</td>\n      <td>火力発電所</td>\n      <td>NaN</td>\n      <td>原子力発電所</td>\n      <td>NaN</td>\n      <td>新エネルギー等発電所</td>\n      <td>NaN</td>\n      <td>NaN</td>\n      <td>NaN</td>\n      <td>NaN</td>\n      <td>NaN</td>\n      <td>NaN</td>\n      <td>NaN</td>\n      <td>NaN</td>\n      <td>NaN</td>\n      <td>NaN</td>\n      <td>NaN</td>\n      <td>その他</td>\n      <td>NaN</td>\n      <td>合計</td>\n      <td>NaN</td>\n    </tr>\n    <tr>\n      <th>1</th>\n      <td>NaN</td>\n      <td>NaN</td>\n      <td>NaN</td>\n      <td>NaN</td>\n      <td>NaN</td>\n      <td>NaN</td>\n      <td>NaN</td>\n      <td>風力</td>\n      <td>NaN</td>\n      <td>太陽光</td>\n      <td>NaN</td>\n      <td>地熱</td>\n      <td>NaN</td>\n      <td>〔バイオマス〕</td>\n      <td>NaN</td>\n      <td>〔廃棄物〕</td>\n      <td>NaN</td>\n      <td>計</td>\n      <td>NaN</td>\n      <td>NaN</td>\n      <td>NaN</td>\n      <td>NaN</td>\n      <td>NaN</td>\n    </tr>\n    <tr>\n      <th>2</th>\n      <td>NaN</td>\n      <td>発電所数</td>\n      <td>最大出力計</td>\n      <td>発電所数</td>\n      <td>最大出力計</td>\n      <td>発電所数</td>\n      <td>最大出力計</td>\n      <td>発電所数</td>\n      <td>最大出力計</td>\n      <td>発電所数</td>\n      <td>最大出力計</td>\n      <td>発電所数</td>\n      <td>最大出力計</td>\n      <td>発電所数</td>\n      <td>最大出力計</td>\n      <td>発電所数</td>\n      <td>最大出力計</td>\n      <td>発電所数</td>\n      <td>最大出力計</td>\n      <td>発電所数</td>\n      <td>最大出力計</td>\n      <td>発電所数</td>\n      <td>最大出力計</td>\n    </tr>\n    <tr>\n      <th>3</th>\n      <td>北海道</td>\n      <td>98</td>\n      <td>2032077.6</td>\n      <td>32</td>\n      <td>6176880</td>\n      <td>1</td>\n      <td>2070000</td>\n      <td>56</td>\n      <td>428134</td>\n      <td>127</td>\n      <td>675751.1</td>\n      <td>1</td>\n      <td>25000</td>\n      <td>3</td>\n      <td>96650</td>\n      <td>3</td>\n      <td>49920</td>\n      <td>184</td>\n      <td>1128885.1</td>\n      <td>0</td>\n      <td>0</td>\n      <td>315</td>\n      <td>11407842.7</td>\n    </tr>\n    <tr>\n      <th>4</th>\n      <td>青森県</td>\n      <td>19</td>\n      <td>128750</td>\n      <td>10</td>\n      <td>655750</td>\n      <td>1</td>\n      <td>1100000</td>\n      <td>24</td>\n      <td>593870</td>\n      <td>35</td>\n      <td>399997</td>\n      <td>0</td>\n      <td>0</td>\n      <td>4</td>\n      <td>134850</td>\n      <td>1</td>\n      <td>18800</td>\n      <td>59</td>\n      <td>993867</td>\n      <td>0</td>\n      <td>0</td>\n      <td>89</td>\n      <td>2878367</td>\n    </tr>\n  </tbody>\n</table>\n</div>"
     },
     "execution_count": 2,
     "metadata": {},
     "output_type": "execute_result"
    }
   ],
   "source": [
    "data = pd.read_excel('sample_file/100knock-process-visualization/chapter-2/data/1-2-2020.xlsx')  # Excel file は、read_excel()関数で読み込み可能\n",
    "data.head()  # 先頭５行を表示"
   ],
   "metadata": {
    "collapsed": false,
    "pycharm": {
     "name": "#%%\n"
    }
   }
  },
  {
   "cell_type": "markdown",
   "source": [
    "- Unnamed のような列や上部の Record に NaN が多く散見される。\n",
    "- ０～２行までの Data が列名を表し、３行目から実際の Data となっている様子。"
   ],
   "metadata": {
    "collapsed": false,
    "pycharm": {
     "name": "#%% md\n"
    }
   }
  },
  {
   "cell_type": "code",
   "execution_count": 3,
   "outputs": [
    {
     "data": {
      "text/plain": "   １－（２）．都道府県別発電所数、出力数　（２０２０年４月）  \\\n49                           沖縄県   \n50                           合　計   \n51                           NaN   \n52                         　備考     \n53                           NaN   \n\n                                           Unnamed: 1  Unnamed: 2 Unnamed: 3  \\\n49                                                  0           0         26   \n50                                               1748  49638035.6        461   \n51                                                NaN         NaN        NaN   \n52  １　バイオマスまたは廃棄物の欄には、専ら又は主として使用する燃料がバイオマス又は廃棄物の場合...         NaN        NaN   \n53  ２　一つの発電所内に複数の発電機が存在し、電源種別が異なる場合には、発電所数は最大出力が最大...         NaN        NaN   \n\n   Unnamed: 4 Unnamed: 5 Unnamed: 6 Unnamed: 7 Unnamed: 8 Unnamed: 9  \\\n49    2470080          0          0         13      18130          1   \n50  169249967         15   33083000        315  3647239.2       2562   \n51        NaN        NaN        NaN        NaN        NaN        NaN   \n52        NaN        NaN        NaN        NaN        NaN        NaN   \n53        NaN        NaN        NaN        NaN        NaN        NaN   \n\n   Unnamed: 10 Unnamed: 11 Unnamed: 12 Unnamed: 13 Unnamed: 14 Unnamed: 15  \\\n49       12000           0           0           0           0           0   \n50  10755126.4          16    462689.6          78     2483852          61   \n51         NaN         NaN         NaN         NaN         NaN         NaN   \n52         NaN         NaN         NaN         NaN         NaN         NaN   \n53         NaN         NaN         NaN         NaN         NaN         NaN   \n\n   Unnamed: 16 Unnamed: 17 Unnamed: 18 Unnamed: 19 ２０２０年　８月３日公表時点 Unnamed: 21  \\\n49           0          14       30130           0              0          40   \n50      971126        2893  14865055.2           2          42910        5119   \n51         NaN         NaN         NaN         NaN            NaN         NaN   \n52         NaN         NaN         NaN         NaN            NaN         NaN   \n53         NaN         NaN         NaN         NaN            NaN         NaN   \n\n        （単位：kW）  \n49      2500210  \n50  266878967.8  \n51          NaN  \n52          NaN  \n53          NaN  ",
      "text/html": "<div>\n<style scoped>\n    .dataframe tbody tr th:only-of-type {\n        vertical-align: middle;\n    }\n\n    .dataframe tbody tr th {\n        vertical-align: top;\n    }\n\n    .dataframe thead th {\n        text-align: right;\n    }\n</style>\n<table border=\"1\" class=\"dataframe\">\n  <thead>\n    <tr style=\"text-align: right;\">\n      <th></th>\n      <th>１－（２）．都道府県別発電所数、出力数　（２０２０年４月）</th>\n      <th>Unnamed: 1</th>\n      <th>Unnamed: 2</th>\n      <th>Unnamed: 3</th>\n      <th>Unnamed: 4</th>\n      <th>Unnamed: 5</th>\n      <th>Unnamed: 6</th>\n      <th>Unnamed: 7</th>\n      <th>Unnamed: 8</th>\n      <th>Unnamed: 9</th>\n      <th>Unnamed: 10</th>\n      <th>Unnamed: 11</th>\n      <th>Unnamed: 12</th>\n      <th>Unnamed: 13</th>\n      <th>Unnamed: 14</th>\n      <th>Unnamed: 15</th>\n      <th>Unnamed: 16</th>\n      <th>Unnamed: 17</th>\n      <th>Unnamed: 18</th>\n      <th>Unnamed: 19</th>\n      <th>２０２０年　８月３日公表時点</th>\n      <th>Unnamed: 21</th>\n      <th>（単位：kW）</th>\n    </tr>\n  </thead>\n  <tbody>\n    <tr>\n      <th>49</th>\n      <td>沖縄県</td>\n      <td>0</td>\n      <td>0</td>\n      <td>26</td>\n      <td>2470080</td>\n      <td>0</td>\n      <td>0</td>\n      <td>13</td>\n      <td>18130</td>\n      <td>1</td>\n      <td>12000</td>\n      <td>0</td>\n      <td>0</td>\n      <td>0</td>\n      <td>0</td>\n      <td>0</td>\n      <td>0</td>\n      <td>14</td>\n      <td>30130</td>\n      <td>0</td>\n      <td>0</td>\n      <td>40</td>\n      <td>2500210</td>\n    </tr>\n    <tr>\n      <th>50</th>\n      <td>合　計</td>\n      <td>1748</td>\n      <td>49638035.6</td>\n      <td>461</td>\n      <td>169249967</td>\n      <td>15</td>\n      <td>33083000</td>\n      <td>315</td>\n      <td>3647239.2</td>\n      <td>2562</td>\n      <td>10755126.4</td>\n      <td>16</td>\n      <td>462689.6</td>\n      <td>78</td>\n      <td>2483852</td>\n      <td>61</td>\n      <td>971126</td>\n      <td>2893</td>\n      <td>14865055.2</td>\n      <td>2</td>\n      <td>42910</td>\n      <td>5119</td>\n      <td>266878967.8</td>\n    </tr>\n    <tr>\n      <th>51</th>\n      <td>NaN</td>\n      <td>NaN</td>\n      <td>NaN</td>\n      <td>NaN</td>\n      <td>NaN</td>\n      <td>NaN</td>\n      <td>NaN</td>\n      <td>NaN</td>\n      <td>NaN</td>\n      <td>NaN</td>\n      <td>NaN</td>\n      <td>NaN</td>\n      <td>NaN</td>\n      <td>NaN</td>\n      <td>NaN</td>\n      <td>NaN</td>\n      <td>NaN</td>\n      <td>NaN</td>\n      <td>NaN</td>\n      <td>NaN</td>\n      <td>NaN</td>\n      <td>NaN</td>\n      <td>NaN</td>\n    </tr>\n    <tr>\n      <th>52</th>\n      <td>備考</td>\n      <td>１　バイオマスまたは廃棄物の欄には、専ら又は主として使用する燃料がバイオマス又は廃棄物の場合...</td>\n      <td>NaN</td>\n      <td>NaN</td>\n      <td>NaN</td>\n      <td>NaN</td>\n      <td>NaN</td>\n      <td>NaN</td>\n      <td>NaN</td>\n      <td>NaN</td>\n      <td>NaN</td>\n      <td>NaN</td>\n      <td>NaN</td>\n      <td>NaN</td>\n      <td>NaN</td>\n      <td>NaN</td>\n      <td>NaN</td>\n      <td>NaN</td>\n      <td>NaN</td>\n      <td>NaN</td>\n      <td>NaN</td>\n      <td>NaN</td>\n      <td>NaN</td>\n    </tr>\n    <tr>\n      <th>53</th>\n      <td>NaN</td>\n      <td>２　一つの発電所内に複数の発電機が存在し、電源種別が異なる場合には、発電所数は最大出力が最大...</td>\n      <td>NaN</td>\n      <td>NaN</td>\n      <td>NaN</td>\n      <td>NaN</td>\n      <td>NaN</td>\n      <td>NaN</td>\n      <td>NaN</td>\n      <td>NaN</td>\n      <td>NaN</td>\n      <td>NaN</td>\n      <td>NaN</td>\n      <td>NaN</td>\n      <td>NaN</td>\n      <td>NaN</td>\n      <td>NaN</td>\n      <td>NaN</td>\n      <td>NaN</td>\n      <td>NaN</td>\n      <td>NaN</td>\n      <td>NaN</td>\n      <td>NaN</td>\n    </tr>\n  </tbody>\n</table>\n</div>"
     },
     "execution_count": 3,
     "metadata": {},
     "output_type": "execute_result"
    }
   ],
   "source": [
    "data.tail()  # 末尾５行を表示"
   ],
   "metadata": {
    "collapsed": false,
    "pycharm": {
     "name": "#%%\n"
    }
   }
  },
  {
   "cell_type": "markdown",
   "source": [
    "- 沖縄県までは問題ないが、合計行や備考行が含まれてしまっている。\n",
    "\n",
    "沖縄県までの Data があれば合計値は計算可能なので、削除する方針をとる。"
   ],
   "metadata": {
    "collapsed": false,
    "pycharm": {
     "name": "#%% md\n"
    }
   }
  },
  {
   "cell_type": "markdown",
   "source": [
    "- 先頭は、実際に Data が始まる４行目から Data 取得。\n",
    "- 列名はないもの。\n",
    "- 末尾は、合計から下の Data を削除\n",
    "\n",
    "として Data を再取得する"
   ],
   "metadata": {
    "collapsed": false,
    "pycharm": {
     "name": "#%% md\n"
    }
   }
  },
  {
   "cell_type": "code",
   "execution_count": 4,
   "outputs": [
    {
     "data": {
      "text/plain": "    0   1          2     3          4    5          6     7         8      9   \\\n0  北海道  98  2032077.6  32.0  6176880.0  1.0  2070000.0  56.0  428134.0  127.0   \n1  青森県  19   128750.0  10.0   655750.0  1.0  1100000.0  24.0  593870.0   35.0   \n2  岩手県  40   274661.0   3.0   238000.0  0.0        0.0   5.0  109180.0   27.0   \n3  宮城県  22    63915.0  10.0  2211050.0  1.0  1650000.0   1.0   20400.0   75.0   \n4  秋田県  42   287863.0   4.0  2497550.0  0.0        0.0  24.0  422518.6   24.0   \n\n         10   11        12   13        14   15       16     17         18  \\\n0  675751.1  1.0   25000.0  3.0   96650.0  3.0  49920.0  184.0  1128885.1   \n1  399997.0  0.0       0.0  4.0  134850.0  1.0  18800.0   59.0   993867.0   \n2  238433.4  2.0  103500.0  2.0   89000.0  0.0      0.0   34.0   451113.4   \n3  434412.0  0.0       0.0  0.0   12900.0  4.0  35850.0   76.0   454812.0   \n4  117121.0  3.0   88300.0  1.0   20500.0  0.0  15000.0   51.0   627939.2   \n\n    19   20     21          22  \n0  0.0  0.0  315.0  11407842.7  \n1  0.0  0.0   89.0   2878367.0  \n2  0.0  0.0   77.0    963774.4  \n3  0.0  0.0  109.0   4379777.0  \n4  0.0  0.0   97.0   3413352.2  ",
      "text/html": "<div>\n<style scoped>\n    .dataframe tbody tr th:only-of-type {\n        vertical-align: middle;\n    }\n\n    .dataframe tbody tr th {\n        vertical-align: top;\n    }\n\n    .dataframe thead th {\n        text-align: right;\n    }\n</style>\n<table border=\"1\" class=\"dataframe\">\n  <thead>\n    <tr style=\"text-align: right;\">\n      <th></th>\n      <th>0</th>\n      <th>1</th>\n      <th>2</th>\n      <th>3</th>\n      <th>4</th>\n      <th>5</th>\n      <th>6</th>\n      <th>7</th>\n      <th>8</th>\n      <th>9</th>\n      <th>10</th>\n      <th>11</th>\n      <th>12</th>\n      <th>13</th>\n      <th>14</th>\n      <th>15</th>\n      <th>16</th>\n      <th>17</th>\n      <th>18</th>\n      <th>19</th>\n      <th>20</th>\n      <th>21</th>\n      <th>22</th>\n    </tr>\n  </thead>\n  <tbody>\n    <tr>\n      <th>0</th>\n      <td>北海道</td>\n      <td>98</td>\n      <td>2032077.6</td>\n      <td>32.0</td>\n      <td>6176880.0</td>\n      <td>1.0</td>\n      <td>2070000.0</td>\n      <td>56.0</td>\n      <td>428134.0</td>\n      <td>127.0</td>\n      <td>675751.1</td>\n      <td>1.0</td>\n      <td>25000.0</td>\n      <td>3.0</td>\n      <td>96650.0</td>\n      <td>3.0</td>\n      <td>49920.0</td>\n      <td>184.0</td>\n      <td>1128885.1</td>\n      <td>0.0</td>\n      <td>0.0</td>\n      <td>315.0</td>\n      <td>11407842.7</td>\n    </tr>\n    <tr>\n      <th>1</th>\n      <td>青森県</td>\n      <td>19</td>\n      <td>128750.0</td>\n      <td>10.0</td>\n      <td>655750.0</td>\n      <td>1.0</td>\n      <td>1100000.0</td>\n      <td>24.0</td>\n      <td>593870.0</td>\n      <td>35.0</td>\n      <td>399997.0</td>\n      <td>0.0</td>\n      <td>0.0</td>\n      <td>4.0</td>\n      <td>134850.0</td>\n      <td>1.0</td>\n      <td>18800.0</td>\n      <td>59.0</td>\n      <td>993867.0</td>\n      <td>0.0</td>\n      <td>0.0</td>\n      <td>89.0</td>\n      <td>2878367.0</td>\n    </tr>\n    <tr>\n      <th>2</th>\n      <td>岩手県</td>\n      <td>40</td>\n      <td>274661.0</td>\n      <td>3.0</td>\n      <td>238000.0</td>\n      <td>0.0</td>\n      <td>0.0</td>\n      <td>5.0</td>\n      <td>109180.0</td>\n      <td>27.0</td>\n      <td>238433.4</td>\n      <td>2.0</td>\n      <td>103500.0</td>\n      <td>2.0</td>\n      <td>89000.0</td>\n      <td>0.0</td>\n      <td>0.0</td>\n      <td>34.0</td>\n      <td>451113.4</td>\n      <td>0.0</td>\n      <td>0.0</td>\n      <td>77.0</td>\n      <td>963774.4</td>\n    </tr>\n    <tr>\n      <th>3</th>\n      <td>宮城県</td>\n      <td>22</td>\n      <td>63915.0</td>\n      <td>10.0</td>\n      <td>2211050.0</td>\n      <td>1.0</td>\n      <td>1650000.0</td>\n      <td>1.0</td>\n      <td>20400.0</td>\n      <td>75.0</td>\n      <td>434412.0</td>\n      <td>0.0</td>\n      <td>0.0</td>\n      <td>0.0</td>\n      <td>12900.0</td>\n      <td>4.0</td>\n      <td>35850.0</td>\n      <td>76.0</td>\n      <td>454812.0</td>\n      <td>0.0</td>\n      <td>0.0</td>\n      <td>109.0</td>\n      <td>4379777.0</td>\n    </tr>\n    <tr>\n      <th>4</th>\n      <td>秋田県</td>\n      <td>42</td>\n      <td>287863.0</td>\n      <td>4.0</td>\n      <td>2497550.0</td>\n      <td>0.0</td>\n      <td>0.0</td>\n      <td>24.0</td>\n      <td>422518.6</td>\n      <td>24.0</td>\n      <td>117121.0</td>\n      <td>3.0</td>\n      <td>88300.0</td>\n      <td>1.0</td>\n      <td>20500.0</td>\n      <td>0.0</td>\n      <td>15000.0</td>\n      <td>51.0</td>\n      <td>627939.2</td>\n      <td>0.0</td>\n      <td>0.0</td>\n      <td>97.0</td>\n      <td>3413352.2</td>\n    </tr>\n  </tbody>\n</table>\n</div>"
     },
     "execution_count": 4,
     "metadata": {},
     "output_type": "execute_result"
    }
   ],
   "source": [
    "data = pd.read_excel('sample_file/100knock-process-visualization/chapter-2/data/1-2-2020.xlsx', skiprows=4, header=None)  # skiprows=4 でData の取得開始行を４行目からに指定。header=None で列名なし、に設定。\n",
    "data.head()  # 先頭５行を表示"
   ],
   "metadata": {
    "collapsed": false,
    "pycharm": {
     "name": "#%%\n"
    }
   }
  },
  {
   "cell_type": "code",
   "execution_count": 5,
   "outputs": [
    {
     "data": {
      "text/plain": "      0   1          2     3          4    5          6     7         8   \\\n42   熊本県  49   803395.0   5.0  1562280.0  0.0        0.0   2.0   26000.0   \n43   大分県  38   300520.0   9.0  4111600.0  0.0        0.0   1.0   11000.0   \n44   宮崎県  48  2158730.0   4.0   204940.0  0.0        0.0   1.0   16000.0   \n45  鹿児島県  35   195808.0  30.0  1307600.0  1.0  1780000.0  18.0  225470.0   \n46   沖縄県   0        0.0  26.0  2470080.0  0.0        0.0  13.0   18130.0   \n\n       9         10   11        12   13        14   15       16     17  \\\n42   81.0  232540.0  0.0       0.0  1.0   76780.0  2.0  10500.0   83.0   \n43   53.0  392595.0  6.0  155099.6  4.0  118200.0  0.0      0.0   60.0   \n44   35.0  248774.5  0.0       0.0  3.0   76700.0  0.0      0.0   36.0   \n45  143.0  591693.0  3.0   60790.0  2.0   72700.0  0.0      0.0  164.0   \n46    1.0   12000.0  0.0       0.0  0.0       0.0  0.0      0.0   14.0   \n\n          18   19   20     21         22  \n42  258540.0  0.0  0.0  137.0  2624215.0  \n43  558694.6  0.0  0.0  107.0  4970814.6  \n44  264774.5  0.0  0.0   88.0  2628444.5  \n45  877953.0  0.0  0.0  230.0  4161361.0  \n46   30130.0  0.0  0.0   40.0  2500210.0  ",
      "text/html": "<div>\n<style scoped>\n    .dataframe tbody tr th:only-of-type {\n        vertical-align: middle;\n    }\n\n    .dataframe tbody tr th {\n        vertical-align: top;\n    }\n\n    .dataframe thead th {\n        text-align: right;\n    }\n</style>\n<table border=\"1\" class=\"dataframe\">\n  <thead>\n    <tr style=\"text-align: right;\">\n      <th></th>\n      <th>0</th>\n      <th>1</th>\n      <th>2</th>\n      <th>3</th>\n      <th>4</th>\n      <th>5</th>\n      <th>6</th>\n      <th>7</th>\n      <th>8</th>\n      <th>9</th>\n      <th>10</th>\n      <th>11</th>\n      <th>12</th>\n      <th>13</th>\n      <th>14</th>\n      <th>15</th>\n      <th>16</th>\n      <th>17</th>\n      <th>18</th>\n      <th>19</th>\n      <th>20</th>\n      <th>21</th>\n      <th>22</th>\n    </tr>\n  </thead>\n  <tbody>\n    <tr>\n      <th>42</th>\n      <td>熊本県</td>\n      <td>49</td>\n      <td>803395.0</td>\n      <td>5.0</td>\n      <td>1562280.0</td>\n      <td>0.0</td>\n      <td>0.0</td>\n      <td>2.0</td>\n      <td>26000.0</td>\n      <td>81.0</td>\n      <td>232540.0</td>\n      <td>0.0</td>\n      <td>0.0</td>\n      <td>1.0</td>\n      <td>76780.0</td>\n      <td>2.0</td>\n      <td>10500.0</td>\n      <td>83.0</td>\n      <td>258540.0</td>\n      <td>0.0</td>\n      <td>0.0</td>\n      <td>137.0</td>\n      <td>2624215.0</td>\n    </tr>\n    <tr>\n      <th>43</th>\n      <td>大分県</td>\n      <td>38</td>\n      <td>300520.0</td>\n      <td>9.0</td>\n      <td>4111600.0</td>\n      <td>0.0</td>\n      <td>0.0</td>\n      <td>1.0</td>\n      <td>11000.0</td>\n      <td>53.0</td>\n      <td>392595.0</td>\n      <td>6.0</td>\n      <td>155099.6</td>\n      <td>4.0</td>\n      <td>118200.0</td>\n      <td>0.0</td>\n      <td>0.0</td>\n      <td>60.0</td>\n      <td>558694.6</td>\n      <td>0.0</td>\n      <td>0.0</td>\n      <td>107.0</td>\n      <td>4970814.6</td>\n    </tr>\n    <tr>\n      <th>44</th>\n      <td>宮崎県</td>\n      <td>48</td>\n      <td>2158730.0</td>\n      <td>4.0</td>\n      <td>204940.0</td>\n      <td>0.0</td>\n      <td>0.0</td>\n      <td>1.0</td>\n      <td>16000.0</td>\n      <td>35.0</td>\n      <td>248774.5</td>\n      <td>0.0</td>\n      <td>0.0</td>\n      <td>3.0</td>\n      <td>76700.0</td>\n      <td>0.0</td>\n      <td>0.0</td>\n      <td>36.0</td>\n      <td>264774.5</td>\n      <td>0.0</td>\n      <td>0.0</td>\n      <td>88.0</td>\n      <td>2628444.5</td>\n    </tr>\n    <tr>\n      <th>45</th>\n      <td>鹿児島県</td>\n      <td>35</td>\n      <td>195808.0</td>\n      <td>30.0</td>\n      <td>1307600.0</td>\n      <td>1.0</td>\n      <td>1780000.0</td>\n      <td>18.0</td>\n      <td>225470.0</td>\n      <td>143.0</td>\n      <td>591693.0</td>\n      <td>3.0</td>\n      <td>60790.0</td>\n      <td>2.0</td>\n      <td>72700.0</td>\n      <td>0.0</td>\n      <td>0.0</td>\n      <td>164.0</td>\n      <td>877953.0</td>\n      <td>0.0</td>\n      <td>0.0</td>\n      <td>230.0</td>\n      <td>4161361.0</td>\n    </tr>\n    <tr>\n      <th>46</th>\n      <td>沖縄県</td>\n      <td>0</td>\n      <td>0.0</td>\n      <td>26.0</td>\n      <td>2470080.0</td>\n      <td>0.0</td>\n      <td>0.0</td>\n      <td>13.0</td>\n      <td>18130.0</td>\n      <td>1.0</td>\n      <td>12000.0</td>\n      <td>0.0</td>\n      <td>0.0</td>\n      <td>0.0</td>\n      <td>0.0</td>\n      <td>0.0</td>\n      <td>0.0</td>\n      <td>14.0</td>\n      <td>30130.0</td>\n      <td>0.0</td>\n      <td>0.0</td>\n      <td>40.0</td>\n      <td>2500210.0</td>\n    </tr>\n  </tbody>\n</table>\n</div>"
     },
     "execution_count": 5,
     "metadata": {},
     "output_type": "execute_result"
    }
   ],
   "source": [
    "data.drop(data.tail(4).index, inplace=True)  # .drop() に data.tail(4).index で取得した末尾４行の index を渡し、inplace=True で破壊的に削除。\n",
    "data.tail()  # 末尾５行を表示"
   ],
   "metadata": {
    "collapsed": false,
    "pycharm": {
     "name": "#%%\n"
    }
   }
  },
  {
   "cell_type": "markdown",
   "source": [
    "- 今回は Data を確認せずに読み込みを実施したが、実際には大容量File でない限りは、一度中身を確認してから加工を行なう。\n",
    "- pandas はあくまで表形式の Data を前提に読み込みを行なうため、表形式までの加工が必要になる。"
   ],
   "metadata": {
    "collapsed": false,
    "pycharm": {
     "name": "#%% md\n"
    }
   }
  },
  {
   "cell_type": "markdown",
   "source": [
    "## Column を抽出して付与してみよう\n",
    "Data を扱いやすくするために、Column名の抽出・整形を行ない、Data に付与していく。"
   ],
   "metadata": {
    "collapsed": false,
    "pycharm": {
     "name": "#%% md\n"
    }
   }
  },
  {
   "cell_type": "code",
   "execution_count": 6,
   "outputs": [
    {
     "data": {
      "text/plain": "     0      1      2      3      4       5      6           7      8     9   \\\n0  都道府県  水力発電所    NaN  火力発電所    NaN  原子力発電所    NaN  新エネルギー等発電所    NaN   NaN   \n1   NaN    NaN    NaN    NaN    NaN     NaN    NaN          風力    NaN   太陽光   \n2   NaN   発電所数  最大出力計   発電所数  最大出力計    発電所数  最大出力計        発電所数  最大出力計  発電所数   \n\n      10    11     12       13     14     15     16    17     18    19     20  \\\n0    NaN   NaN    NaN      NaN    NaN    NaN    NaN   NaN    NaN   その他    NaN   \n1    NaN    地熱    NaN  〔バイオマス〕    NaN  〔廃棄物〕    NaN     計    NaN   NaN    NaN   \n2  最大出力計  発電所数  最大出力計     発電所数  最大出力計   発電所数  最大出力計  発電所数  最大出力計  発電所数  最大出力計   \n\n     21     22  \n0    合計    NaN  \n1   NaN    NaN  \n2  発電所数  最大出力計  ",
      "text/html": "<div>\n<style scoped>\n    .dataframe tbody tr th:only-of-type {\n        vertical-align: middle;\n    }\n\n    .dataframe tbody tr th {\n        vertical-align: top;\n    }\n\n    .dataframe thead th {\n        text-align: right;\n    }\n</style>\n<table border=\"1\" class=\"dataframe\">\n  <thead>\n    <tr style=\"text-align: right;\">\n      <th></th>\n      <th>0</th>\n      <th>1</th>\n      <th>2</th>\n      <th>3</th>\n      <th>4</th>\n      <th>5</th>\n      <th>6</th>\n      <th>7</th>\n      <th>8</th>\n      <th>9</th>\n      <th>10</th>\n      <th>11</th>\n      <th>12</th>\n      <th>13</th>\n      <th>14</th>\n      <th>15</th>\n      <th>16</th>\n      <th>17</th>\n      <th>18</th>\n      <th>19</th>\n      <th>20</th>\n      <th>21</th>\n      <th>22</th>\n    </tr>\n  </thead>\n  <tbody>\n    <tr>\n      <th>0</th>\n      <td>都道府県</td>\n      <td>水力発電所</td>\n      <td>NaN</td>\n      <td>火力発電所</td>\n      <td>NaN</td>\n      <td>原子力発電所</td>\n      <td>NaN</td>\n      <td>新エネルギー等発電所</td>\n      <td>NaN</td>\n      <td>NaN</td>\n      <td>NaN</td>\n      <td>NaN</td>\n      <td>NaN</td>\n      <td>NaN</td>\n      <td>NaN</td>\n      <td>NaN</td>\n      <td>NaN</td>\n      <td>NaN</td>\n      <td>NaN</td>\n      <td>その他</td>\n      <td>NaN</td>\n      <td>合計</td>\n      <td>NaN</td>\n    </tr>\n    <tr>\n      <th>1</th>\n      <td>NaN</td>\n      <td>NaN</td>\n      <td>NaN</td>\n      <td>NaN</td>\n      <td>NaN</td>\n      <td>NaN</td>\n      <td>NaN</td>\n      <td>風力</td>\n      <td>NaN</td>\n      <td>太陽光</td>\n      <td>NaN</td>\n      <td>地熱</td>\n      <td>NaN</td>\n      <td>〔バイオマス〕</td>\n      <td>NaN</td>\n      <td>〔廃棄物〕</td>\n      <td>NaN</td>\n      <td>計</td>\n      <td>NaN</td>\n      <td>NaN</td>\n      <td>NaN</td>\n      <td>NaN</td>\n      <td>NaN</td>\n    </tr>\n    <tr>\n      <th>2</th>\n      <td>NaN</td>\n      <td>発電所数</td>\n      <td>最大出力計</td>\n      <td>発電所数</td>\n      <td>最大出力計</td>\n      <td>発電所数</td>\n      <td>最大出力計</td>\n      <td>発電所数</td>\n      <td>最大出力計</td>\n      <td>発電所数</td>\n      <td>最大出力計</td>\n      <td>発電所数</td>\n      <td>最大出力計</td>\n      <td>発電所数</td>\n      <td>最大出力計</td>\n      <td>発電所数</td>\n      <td>最大出力計</td>\n      <td>発電所数</td>\n      <td>最大出力計</td>\n      <td>発電所数</td>\n      <td>最大出力計</td>\n      <td>発電所数</td>\n      <td>最大出力計</td>\n    </tr>\n  </tbody>\n</table>\n</div>"
     },
     "execution_count": 6,
     "metadata": {},
     "output_type": "execute_result"
    }
   ],
   "source": [
    "col_data = pd.read_excel('sample_file/100knock-process-visualization/chapter-2/data/1-2-2020.xlsx', skiprows=1, header=None)  # sikprows=1 で１行目を飛ばして２行目から取得。header=None で列名は取得しないよう設定。\n",
    "col_data = col_data.head(3)  # 先頭３行のみ自己代入\n",
    "col_data  # Data を表示"
   ],
   "metadata": {
    "collapsed": false,
    "pycharm": {
     "name": "#%%\n"
    }
   }
  },
  {
   "cell_type": "markdown",
   "source": [
    "NaN の部分は、Cell結合の影響だとわかる\n",
    "- 行方向の影響: 新エネルギー等発電所は、詳細の発電種類として風力や太陽光などがあるのに対して水力、火力発電所等は結合されている\n",
    "- 列方向の影響: 水力発電所に対して、発電所数、最大出力計が本来であれば２つあるが、Cell結合によって、最大出力計の部分が欠損している"
   ],
   "metadata": {
    "collapsed": false,
    "pycharm": {
     "name": "#%% md\n"
    }
   }
  },
  {
   "cell_type": "markdown",
   "source": [
    "まず行方向の処理を行なう。\n",
    "\n",
    "加工指針:\n",
    "1. １行目の欠損値に０行目の値を入れる。\n",
    "2. 1 実施後に１行目に関しては「発電所」という文字列を除外しておく"
   ],
   "metadata": {
    "collapsed": false,
    "pycharm": {
     "name": "#%% md\n"
    }
   }
  },
  {
   "cell_type": "code",
   "execution_count": 8,
   "outputs": [
    {
     "data": {
      "text/plain": "     0      1      2      3      4       5      6           7      8     9   \\\n0  都道府県  水力発電所    NaN  火力発電所    NaN  原子力発電所    NaN  新エネルギー等発電所    NaN   NaN   \n1   NaN     水力    NaN     火力    NaN     原子力    NaN          風力    NaN   太陽光   \n2   NaN   発電所数  最大出力計   発電所数  最大出力計    発電所数  最大出力計        発電所数  最大出力計  発電所数   \n\n      10    11     12       13     14     15     16    17     18    19     20  \\\n0    NaN   NaN    NaN      NaN    NaN    NaN    NaN   NaN    NaN   その他    NaN   \n1    NaN    地熱    NaN  〔バイオマス〕    NaN  〔廃棄物〕    NaN     計    NaN   その他    NaN   \n2  最大出力計  発電所数  最大出力計     発電所数  最大出力計   発電所数  最大出力計  発電所数  最大出力計  発電所数  最大出力計   \n\n     21     22  \n0    合計    NaN  \n1    合計    NaN  \n2  発電所数  最大出力計  ",
      "text/html": "<div>\n<style scoped>\n    .dataframe tbody tr th:only-of-type {\n        vertical-align: middle;\n    }\n\n    .dataframe tbody tr th {\n        vertical-align: top;\n    }\n\n    .dataframe thead th {\n        text-align: right;\n    }\n</style>\n<table border=\"1\" class=\"dataframe\">\n  <thead>\n    <tr style=\"text-align: right;\">\n      <th></th>\n      <th>0</th>\n      <th>1</th>\n      <th>2</th>\n      <th>3</th>\n      <th>4</th>\n      <th>5</th>\n      <th>6</th>\n      <th>7</th>\n      <th>8</th>\n      <th>9</th>\n      <th>10</th>\n      <th>11</th>\n      <th>12</th>\n      <th>13</th>\n      <th>14</th>\n      <th>15</th>\n      <th>16</th>\n      <th>17</th>\n      <th>18</th>\n      <th>19</th>\n      <th>20</th>\n      <th>21</th>\n      <th>22</th>\n    </tr>\n  </thead>\n  <tbody>\n    <tr>\n      <th>0</th>\n      <td>都道府県</td>\n      <td>水力発電所</td>\n      <td>NaN</td>\n      <td>火力発電所</td>\n      <td>NaN</td>\n      <td>原子力発電所</td>\n      <td>NaN</td>\n      <td>新エネルギー等発電所</td>\n      <td>NaN</td>\n      <td>NaN</td>\n      <td>NaN</td>\n      <td>NaN</td>\n      <td>NaN</td>\n      <td>NaN</td>\n      <td>NaN</td>\n      <td>NaN</td>\n      <td>NaN</td>\n      <td>NaN</td>\n      <td>NaN</td>\n      <td>その他</td>\n      <td>NaN</td>\n      <td>合計</td>\n      <td>NaN</td>\n    </tr>\n    <tr>\n      <th>1</th>\n      <td>NaN</td>\n      <td>水力</td>\n      <td>NaN</td>\n      <td>火力</td>\n      <td>NaN</td>\n      <td>原子力</td>\n      <td>NaN</td>\n      <td>風力</td>\n      <td>NaN</td>\n      <td>太陽光</td>\n      <td>NaN</td>\n      <td>地熱</td>\n      <td>NaN</td>\n      <td>〔バイオマス〕</td>\n      <td>NaN</td>\n      <td>〔廃棄物〕</td>\n      <td>NaN</td>\n      <td>計</td>\n      <td>NaN</td>\n      <td>その他</td>\n      <td>NaN</td>\n      <td>合計</td>\n      <td>NaN</td>\n    </tr>\n    <tr>\n      <th>2</th>\n      <td>NaN</td>\n      <td>発電所数</td>\n      <td>最大出力計</td>\n      <td>発電所数</td>\n      <td>最大出力計</td>\n      <td>発電所数</td>\n      <td>最大出力計</td>\n      <td>発電所数</td>\n      <td>最大出力計</td>\n      <td>発電所数</td>\n      <td>最大出力計</td>\n      <td>発電所数</td>\n      <td>最大出力計</td>\n      <td>発電所数</td>\n      <td>最大出力計</td>\n      <td>発電所数</td>\n      <td>最大出力計</td>\n      <td>発電所数</td>\n      <td>最大出力計</td>\n      <td>発電所数</td>\n      <td>最大出力計</td>\n      <td>発電所数</td>\n      <td>最大出力計</td>\n    </tr>\n  </tbody>\n</table>\n</div>"
     },
     "execution_count": 8,
     "metadata": {},
     "output_type": "execute_result"
    }
   ],
   "source": [
    "col_data.iloc[1, 1:].fillna(col_data.iloc[0, 1:], inplace=True)  # １行目の１列以降の欠損値へ０行目１列目以降の Data を代入\n",
    "col_data.iloc[1, 1:] = col_data.iloc[1, 1:].str.replace('発電所', '')  # １行目１列目以降の Data から「発電所」という文字列を除去\n",
    "col_data  # Data を表示"
   ],
   "metadata": {
    "collapsed": false,
    "pycharm": {
     "name": "#%%\n"
    }
   }
  },
  {
   "cell_type": "code",
   "execution_count": 9,
   "outputs": [
    {
     "data": {
      "text/plain": "     0      1      2      3      4       5       6           7           8   \\\n0  都道府県  水力発電所  水力発電所  火力発電所  火力発電所  原子力発電所  原子力発電所  新エネルギー等発電所  新エネルギー等発電所   \n1   NaN     水力     水力     火力     火力     原子力     原子力          風力          風力   \n2   NaN   発電所数  最大出力計   発電所数  最大出力計    発電所数   最大出力計        発電所数       最大出力計   \n\n           9           10          11          12          13          14  \\\n0  新エネルギー等発電所  新エネルギー等発電所  新エネルギー等発電所  新エネルギー等発電所  新エネルギー等発電所  新エネルギー等発電所   \n1         太陽光         太陽光          地熱          地熱     〔バイオマス〕     〔バイオマス〕   \n2        発電所数       最大出力計        発電所数       最大出力計        発電所数       最大出力計   \n\n           15          16          17          18    19     20    21     22  \n0  新エネルギー等発電所  新エネルギー等発電所  新エネルギー等発電所  新エネルギー等発電所   その他    その他    合計     合計  \n1       〔廃棄物〕       〔廃棄物〕           計           計   その他    その他    合計     合計  \n2        発電所数       最大出力計        発電所数       最大出力計  発電所数  最大出力計  発電所数  最大出力計  ",
      "text/html": "<div>\n<style scoped>\n    .dataframe tbody tr th:only-of-type {\n        vertical-align: middle;\n    }\n\n    .dataframe tbody tr th {\n        vertical-align: top;\n    }\n\n    .dataframe thead th {\n        text-align: right;\n    }\n</style>\n<table border=\"1\" class=\"dataframe\">\n  <thead>\n    <tr style=\"text-align: right;\">\n      <th></th>\n      <th>0</th>\n      <th>1</th>\n      <th>2</th>\n      <th>3</th>\n      <th>4</th>\n      <th>5</th>\n      <th>6</th>\n      <th>7</th>\n      <th>8</th>\n      <th>9</th>\n      <th>10</th>\n      <th>11</th>\n      <th>12</th>\n      <th>13</th>\n      <th>14</th>\n      <th>15</th>\n      <th>16</th>\n      <th>17</th>\n      <th>18</th>\n      <th>19</th>\n      <th>20</th>\n      <th>21</th>\n      <th>22</th>\n    </tr>\n  </thead>\n  <tbody>\n    <tr>\n      <th>0</th>\n      <td>都道府県</td>\n      <td>水力発電所</td>\n      <td>水力発電所</td>\n      <td>火力発電所</td>\n      <td>火力発電所</td>\n      <td>原子力発電所</td>\n      <td>原子力発電所</td>\n      <td>新エネルギー等発電所</td>\n      <td>新エネルギー等発電所</td>\n      <td>新エネルギー等発電所</td>\n      <td>新エネルギー等発電所</td>\n      <td>新エネルギー等発電所</td>\n      <td>新エネルギー等発電所</td>\n      <td>新エネルギー等発電所</td>\n      <td>新エネルギー等発電所</td>\n      <td>新エネルギー等発電所</td>\n      <td>新エネルギー等発電所</td>\n      <td>新エネルギー等発電所</td>\n      <td>新エネルギー等発電所</td>\n      <td>その他</td>\n      <td>その他</td>\n      <td>合計</td>\n      <td>合計</td>\n    </tr>\n    <tr>\n      <th>1</th>\n      <td>NaN</td>\n      <td>水力</td>\n      <td>水力</td>\n      <td>火力</td>\n      <td>火力</td>\n      <td>原子力</td>\n      <td>原子力</td>\n      <td>風力</td>\n      <td>風力</td>\n      <td>太陽光</td>\n      <td>太陽光</td>\n      <td>地熱</td>\n      <td>地熱</td>\n      <td>〔バイオマス〕</td>\n      <td>〔バイオマス〕</td>\n      <td>〔廃棄物〕</td>\n      <td>〔廃棄物〕</td>\n      <td>計</td>\n      <td>計</td>\n      <td>その他</td>\n      <td>その他</td>\n      <td>合計</td>\n      <td>合計</td>\n    </tr>\n    <tr>\n      <th>2</th>\n      <td>NaN</td>\n      <td>発電所数</td>\n      <td>最大出力計</td>\n      <td>発電所数</td>\n      <td>最大出力計</td>\n      <td>発電所数</td>\n      <td>最大出力計</td>\n      <td>発電所数</td>\n      <td>最大出力計</td>\n      <td>発電所数</td>\n      <td>最大出力計</td>\n      <td>発電所数</td>\n      <td>最大出力計</td>\n      <td>発電所数</td>\n      <td>最大出力計</td>\n      <td>発電所数</td>\n      <td>最大出力計</td>\n      <td>発電所数</td>\n      <td>最大出力計</td>\n      <td>発電所数</td>\n      <td>最大出力計</td>\n      <td>発電所数</td>\n      <td>最大出力計</td>\n    </tr>\n  </tbody>\n</table>\n</div>"
     },
     "execution_count": 9,
     "metadata": {},
     "output_type": "execute_result"
    }
   ],
   "source": [
    "for i in col_data.columns:\n",
    "    if i < col_data.columns.max():  # 最終行で Error が起こさない対策\n",
    "        col_data[i + 1].fillna(col_data[i], inplace=True)  # 自身の列に対して、右隣の列が欠損していたら、自身の列を代入する\n",
    "col_data"
   ],
   "metadata": {
    "collapsed": false,
    "pycharm": {
     "name": "#%%\n"
    }
   }
  },
  {
   "cell_type": "code",
   "execution_count": 10,
   "outputs": [
    {
     "data": {
      "text/plain": "     0      1      2      3      4       5       6           7           8   \\\n0  都道府県  水力発電所  水力発電所  火力発電所  火力発電所  原子力発電所  原子力発電所  新エネルギー等発電所  新エネルギー等発電所   \n1   NaN     水力     水力     火力     火力     原子力     原子力          風力          風力   \n2   NaN   発電所数  最大出力計   発電所数  最大出力計    発電所数   最大出力計        発電所数       最大出力計   \n\n           9           10          11          12          13          14  \\\n0  新エネルギー等発電所  新エネルギー等発電所  新エネルギー等発電所  新エネルギー等発電所  新エネルギー等発電所  新エネルギー等発電所   \n1         太陽光         太陽光          地熱          地熱       バイオマス       バイオマス   \n2        発電所数       最大出力計        発電所数       最大出力計        発電所数       最大出力計   \n\n           15          16          17          18    19     20    21     22  \n0  新エネルギー等発電所  新エネルギー等発電所  新エネルギー等発電所  新エネルギー等発電所   その他    その他    合計     合計  \n1         廃棄物         廃棄物           計           計   その他    その他    合計     合計  \n2        発電所数       最大出力計        発電所数       最大出力計  発電所数  最大出力計  発電所数  最大出力計  ",
      "text/html": "<div>\n<style scoped>\n    .dataframe tbody tr th:only-of-type {\n        vertical-align: middle;\n    }\n\n    .dataframe tbody tr th {\n        vertical-align: top;\n    }\n\n    .dataframe thead th {\n        text-align: right;\n    }\n</style>\n<table border=\"1\" class=\"dataframe\">\n  <thead>\n    <tr style=\"text-align: right;\">\n      <th></th>\n      <th>0</th>\n      <th>1</th>\n      <th>2</th>\n      <th>3</th>\n      <th>4</th>\n      <th>5</th>\n      <th>6</th>\n      <th>7</th>\n      <th>8</th>\n      <th>9</th>\n      <th>10</th>\n      <th>11</th>\n      <th>12</th>\n      <th>13</th>\n      <th>14</th>\n      <th>15</th>\n      <th>16</th>\n      <th>17</th>\n      <th>18</th>\n      <th>19</th>\n      <th>20</th>\n      <th>21</th>\n      <th>22</th>\n    </tr>\n  </thead>\n  <tbody>\n    <tr>\n      <th>0</th>\n      <td>都道府県</td>\n      <td>水力発電所</td>\n      <td>水力発電所</td>\n      <td>火力発電所</td>\n      <td>火力発電所</td>\n      <td>原子力発電所</td>\n      <td>原子力発電所</td>\n      <td>新エネルギー等発電所</td>\n      <td>新エネルギー等発電所</td>\n      <td>新エネルギー等発電所</td>\n      <td>新エネルギー等発電所</td>\n      <td>新エネルギー等発電所</td>\n      <td>新エネルギー等発電所</td>\n      <td>新エネルギー等発電所</td>\n      <td>新エネルギー等発電所</td>\n      <td>新エネルギー等発電所</td>\n      <td>新エネルギー等発電所</td>\n      <td>新エネルギー等発電所</td>\n      <td>新エネルギー等発電所</td>\n      <td>その他</td>\n      <td>その他</td>\n      <td>合計</td>\n      <td>合計</td>\n    </tr>\n    <tr>\n      <th>1</th>\n      <td>NaN</td>\n      <td>水力</td>\n      <td>水力</td>\n      <td>火力</td>\n      <td>火力</td>\n      <td>原子力</td>\n      <td>原子力</td>\n      <td>風力</td>\n      <td>風力</td>\n      <td>太陽光</td>\n      <td>太陽光</td>\n      <td>地熱</td>\n      <td>地熱</td>\n      <td>バイオマス</td>\n      <td>バイオマス</td>\n      <td>廃棄物</td>\n      <td>廃棄物</td>\n      <td>計</td>\n      <td>計</td>\n      <td>その他</td>\n      <td>その他</td>\n      <td>合計</td>\n      <td>合計</td>\n    </tr>\n    <tr>\n      <th>2</th>\n      <td>NaN</td>\n      <td>発電所数</td>\n      <td>最大出力計</td>\n      <td>発電所数</td>\n      <td>最大出力計</td>\n      <td>発電所数</td>\n      <td>最大出力計</td>\n      <td>発電所数</td>\n      <td>最大出力計</td>\n      <td>発電所数</td>\n      <td>最大出力計</td>\n      <td>発電所数</td>\n      <td>最大出力計</td>\n      <td>発電所数</td>\n      <td>最大出力計</td>\n      <td>発電所数</td>\n      <td>最大出力計</td>\n      <td>発電所数</td>\n      <td>最大出力計</td>\n      <td>発電所数</td>\n      <td>最大出力計</td>\n      <td>発電所数</td>\n      <td>最大出力計</td>\n    </tr>\n  </tbody>\n</table>\n</div>"
     },
     "execution_count": 10,
     "metadata": {},
     "output_type": "execute_result"
    }
   ],
   "source": [
    "col_data.replace('〔バイオマス〕', 'バイオマス', inplace=True)  # 〔〕を削除\n",
    "col_data.replace('〔廃棄物〕', '廃棄物', inplace=True)  # 〔〕を削除\n",
    "col_data"
   ],
   "metadata": {
    "collapsed": false,
    "pycharm": {
     "name": "#%%\n"
    }
   }
  },
  {
   "cell_type": "code",
   "execution_count": 12,
   "outputs": [
    {
     "name": "stdout",
     "output_type": "stream",
     "text": [
      "都道府県\n",
      "水力発電所_水力_発電所数\n"
     ]
    }
   ],
   "source": [
    "tg_col = '_'.join(list(col_data[0].dropna()))  # 該当の列を指定して Data を取得し、欠損値を除去した上で List型に変換。\n",
    "print(tg_col)\n",
    "tg_col = '_'.join(list(col_data[1].dropna()))  # 該当の列を指定して Data を取得し、欠損値を除去した上で List型に変換。\n",
    "print(tg_col)"
   ],
   "metadata": {
    "collapsed": false,
    "pycharm": {
     "name": "#%%\n"
    }
   }
  },
  {
   "cell_type": "code",
   "execution_count": 13,
   "outputs": [
    {
     "data": {
      "text/plain": "['都道府県',\n '水力発電所_水力_発電所数',\n '水力発電所_水力_最大出力計',\n '火力発電所_火力_発電所数',\n '火力発電所_火力_最大出力計',\n '原子力発電所_原子力_発電所数',\n '原子力発電所_原子力_最大出力計',\n '新エネルギー等発電所_風力_発電所数',\n '新エネルギー等発電所_風力_最大出力計',\n '新エネルギー等発電所_太陽光_発電所数',\n '新エネルギー等発電所_太陽光_最大出力計',\n '新エネルギー等発電所_地熱_発電所数',\n '新エネルギー等発電所_地熱_最大出力計',\n '新エネルギー等発電所_バイオマス_発電所数',\n '新エネルギー等発電所_バイオマス_最大出力計',\n '新エネルギー等発電所_廃棄物_発電所数',\n '新エネルギー等発電所_廃棄物_最大出力計',\n '新エネルギー等発電所_計_発電所数',\n '新エネルギー等発電所_計_最大出力計',\n 'その他_その他_発電所数',\n 'その他_その他_最大出力計',\n '合計_合計_発電所数',\n '合計_合計_最大出力計']"
     },
     "execution_count": 13,
     "metadata": {},
     "output_type": "execute_result"
    }
   ],
   "source": [
    "# 全列に対しての Column名整形\n",
    "cols = []\n",
    "for i in col_data.columns:\n",
    "    tg_col = '_'.join(list(col_data[i].dropna()))\n",
    "    cols.append(tg_col)\n",
    "cols"
   ],
   "metadata": {
    "collapsed": false,
    "pycharm": {
     "name": "#%%\n"
    }
   }
  },
  {
   "cell_type": "code",
   "execution_count": 14,
   "outputs": [
    {
     "data": {
      "text/plain": "  都道府県 水力発電所_水力_発電所数  水力発電所_水力_最大出力計  火力発電所_火力_発電所数  火力発電所_火力_最大出力計  \\\n0  北海道            98       2032077.6           32.0       6176880.0   \n1  青森県            19        128750.0           10.0        655750.0   \n2  岩手県            40        274661.0            3.0        238000.0   \n3  宮城県            22         63915.0           10.0       2211050.0   \n4  秋田県            42        287863.0            4.0       2497550.0   \n\n   原子力発電所_原子力_発電所数  原子力発電所_原子力_最大出力計  新エネルギー等発電所_風力_発電所数  新エネルギー等発電所_風力_最大出力計  \\\n0              1.0         2070000.0                56.0             428134.0   \n1              1.0         1100000.0                24.0             593870.0   \n2              0.0               0.0                 5.0             109180.0   \n3              1.0         1650000.0                 1.0              20400.0   \n4              0.0               0.0                24.0             422518.6   \n\n   新エネルギー等発電所_太陽光_発電所数  新エネルギー等発電所_太陽光_最大出力計  新エネルギー等発電所_地熱_発電所数  \\\n0                127.0              675751.1                 1.0   \n1                 35.0              399997.0                 0.0   \n2                 27.0              238433.4                 2.0   \n3                 75.0              434412.0                 0.0   \n4                 24.0              117121.0                 3.0   \n\n   新エネルギー等発電所_地熱_最大出力計  新エネルギー等発電所_バイオマス_発電所数  新エネルギー等発電所_バイオマス_最大出力計  \\\n0              25000.0                    3.0                 96650.0   \n1                  0.0                    4.0                134850.0   \n2             103500.0                    2.0                 89000.0   \n3                  0.0                    0.0                 12900.0   \n4              88300.0                    1.0                 20500.0   \n\n   新エネルギー等発電所_廃棄物_発電所数  新エネルギー等発電所_廃棄物_最大出力計  新エネルギー等発電所_計_発電所数  \\\n0                  3.0               49920.0              184.0   \n1                  1.0               18800.0               59.0   \n2                  0.0                   0.0               34.0   \n3                  4.0               35850.0               76.0   \n4                  0.0               15000.0               51.0   \n\n   新エネルギー等発電所_計_最大出力計  その他_その他_発電所数  その他_その他_最大出力計  合計_合計_発電所数  合計_合計_最大出力計  \n0           1128885.1           0.0            0.0       315.0   11407842.7  \n1            993867.0           0.0            0.0        89.0    2878367.0  \n2            451113.4           0.0            0.0        77.0     963774.4  \n3            454812.0           0.0            0.0       109.0    4379777.0  \n4            627939.2           0.0            0.0        97.0    3413352.2  ",
      "text/html": "<div>\n<style scoped>\n    .dataframe tbody tr th:only-of-type {\n        vertical-align: middle;\n    }\n\n    .dataframe tbody tr th {\n        vertical-align: top;\n    }\n\n    .dataframe thead th {\n        text-align: right;\n    }\n</style>\n<table border=\"1\" class=\"dataframe\">\n  <thead>\n    <tr style=\"text-align: right;\">\n      <th></th>\n      <th>都道府県</th>\n      <th>水力発電所_水力_発電所数</th>\n      <th>水力発電所_水力_最大出力計</th>\n      <th>火力発電所_火力_発電所数</th>\n      <th>火力発電所_火力_最大出力計</th>\n      <th>原子力発電所_原子力_発電所数</th>\n      <th>原子力発電所_原子力_最大出力計</th>\n      <th>新エネルギー等発電所_風力_発電所数</th>\n      <th>新エネルギー等発電所_風力_最大出力計</th>\n      <th>新エネルギー等発電所_太陽光_発電所数</th>\n      <th>新エネルギー等発電所_太陽光_最大出力計</th>\n      <th>新エネルギー等発電所_地熱_発電所数</th>\n      <th>新エネルギー等発電所_地熱_最大出力計</th>\n      <th>新エネルギー等発電所_バイオマス_発電所数</th>\n      <th>新エネルギー等発電所_バイオマス_最大出力計</th>\n      <th>新エネルギー等発電所_廃棄物_発電所数</th>\n      <th>新エネルギー等発電所_廃棄物_最大出力計</th>\n      <th>新エネルギー等発電所_計_発電所数</th>\n      <th>新エネルギー等発電所_計_最大出力計</th>\n      <th>その他_その他_発電所数</th>\n      <th>その他_その他_最大出力計</th>\n      <th>合計_合計_発電所数</th>\n      <th>合計_合計_最大出力計</th>\n    </tr>\n  </thead>\n  <tbody>\n    <tr>\n      <th>0</th>\n      <td>北海道</td>\n      <td>98</td>\n      <td>2032077.6</td>\n      <td>32.0</td>\n      <td>6176880.0</td>\n      <td>1.0</td>\n      <td>2070000.0</td>\n      <td>56.0</td>\n      <td>428134.0</td>\n      <td>127.0</td>\n      <td>675751.1</td>\n      <td>1.0</td>\n      <td>25000.0</td>\n      <td>3.0</td>\n      <td>96650.0</td>\n      <td>3.0</td>\n      <td>49920.0</td>\n      <td>184.0</td>\n      <td>1128885.1</td>\n      <td>0.0</td>\n      <td>0.0</td>\n      <td>315.0</td>\n      <td>11407842.7</td>\n    </tr>\n    <tr>\n      <th>1</th>\n      <td>青森県</td>\n      <td>19</td>\n      <td>128750.0</td>\n      <td>10.0</td>\n      <td>655750.0</td>\n      <td>1.0</td>\n      <td>1100000.0</td>\n      <td>24.0</td>\n      <td>593870.0</td>\n      <td>35.0</td>\n      <td>399997.0</td>\n      <td>0.0</td>\n      <td>0.0</td>\n      <td>4.0</td>\n      <td>134850.0</td>\n      <td>1.0</td>\n      <td>18800.0</td>\n      <td>59.0</td>\n      <td>993867.0</td>\n      <td>0.0</td>\n      <td>0.0</td>\n      <td>89.0</td>\n      <td>2878367.0</td>\n    </tr>\n    <tr>\n      <th>2</th>\n      <td>岩手県</td>\n      <td>40</td>\n      <td>274661.0</td>\n      <td>3.0</td>\n      <td>238000.0</td>\n      <td>0.0</td>\n      <td>0.0</td>\n      <td>5.0</td>\n      <td>109180.0</td>\n      <td>27.0</td>\n      <td>238433.4</td>\n      <td>2.0</td>\n      <td>103500.0</td>\n      <td>2.0</td>\n      <td>89000.0</td>\n      <td>0.0</td>\n      <td>0.0</td>\n      <td>34.0</td>\n      <td>451113.4</td>\n      <td>0.0</td>\n      <td>0.0</td>\n      <td>77.0</td>\n      <td>963774.4</td>\n    </tr>\n    <tr>\n      <th>3</th>\n      <td>宮城県</td>\n      <td>22</td>\n      <td>63915.0</td>\n      <td>10.0</td>\n      <td>2211050.0</td>\n      <td>1.0</td>\n      <td>1650000.0</td>\n      <td>1.0</td>\n      <td>20400.0</td>\n      <td>75.0</td>\n      <td>434412.0</td>\n      <td>0.0</td>\n      <td>0.0</td>\n      <td>0.0</td>\n      <td>12900.0</td>\n      <td>4.0</td>\n      <td>35850.0</td>\n      <td>76.0</td>\n      <td>454812.0</td>\n      <td>0.0</td>\n      <td>0.0</td>\n      <td>109.0</td>\n      <td>4379777.0</td>\n    </tr>\n    <tr>\n      <th>4</th>\n      <td>秋田県</td>\n      <td>42</td>\n      <td>287863.0</td>\n      <td>4.0</td>\n      <td>2497550.0</td>\n      <td>0.0</td>\n      <td>0.0</td>\n      <td>24.0</td>\n      <td>422518.6</td>\n      <td>24.0</td>\n      <td>117121.0</td>\n      <td>3.0</td>\n      <td>88300.0</td>\n      <td>1.0</td>\n      <td>20500.0</td>\n      <td>0.0</td>\n      <td>15000.0</td>\n      <td>51.0</td>\n      <td>627939.2</td>\n      <td>0.0</td>\n      <td>0.0</td>\n      <td>97.0</td>\n      <td>3413352.2</td>\n    </tr>\n  </tbody>\n</table>\n</div>"
     },
     "execution_count": 14,
     "metadata": {},
     "output_type": "execute_result"
    }
   ],
   "source": [
    "data.columns = cols  # 作成した Column を Data に代入\n",
    "data.head()"
   ],
   "metadata": {
    "collapsed": false,
    "pycharm": {
     "name": "#%%\n"
    }
   }
  },
  {
   "cell_type": "markdown",
   "source": [
    "- 特に Sheet名を指定しない場合、１番左の Sheet を読み込む仕様になっている\n",
    "- 一般的には、Sheet をいろいろ作成して利用するのが Excel の利点の為、Sheet が１つしかない場合は少ない"
   ],
   "metadata": {
    "collapsed": false,
    "pycharm": {
     "name": "#%% md\n"
    }
   }
  },
  {
   "cell_type": "code",
   "execution_count": null,
   "outputs": [],
   "source": [],
   "metadata": {
    "collapsed": false,
    "pycharm": {
     "name": "#%%\n"
    }
   }
  }
 ],
 "metadata": {
  "kernelspec": {
   "display_name": "Python 3",
   "language": "python",
   "name": "python3"
  },
  "language_info": {
   "codemirror_mode": {
    "name": "ipython",
    "version": 2
   },
   "file_extension": ".py",
   "mimetype": "text/x-python",
   "name": "python",
   "nbconvert_exporter": "python",
   "pygments_lexer": "ipython2",
   "version": "2.7.6"
  }
 },
 "nbformat": 4,
 "nbformat_minor": 0
}