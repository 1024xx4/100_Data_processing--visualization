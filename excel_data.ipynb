{
 "cells": [
  {
   "cell_type": "markdown",
   "metadata": {
    "collapsed": true,
    "pycharm": {
     "name": "#%% md\n"
    }
   },
   "source": [
    "## Excel Data を読み込んでみよう"
   ]
  },
  {
   "cell_type": "code",
   "execution_count": 2,
   "outputs": [
    {
     "data": {
      "text/plain": "  １－（２）．都道府県別発電所数、出力数　（２０２０年４月） Unnamed: 1 Unnamed: 2 Unnamed: 3 Unnamed: 4  \\\n0                          都道府県      水力発電所        NaN      火力発電所        NaN   \n1                           NaN        NaN        NaN        NaN        NaN   \n2                           NaN       発電所数      最大出力計       発電所数      最大出力計   \n3                           北海道         98  2032077.6         32    6176880   \n4                           青森県         19     128750         10     655750   \n\n  Unnamed: 5 Unnamed: 6  Unnamed: 7 Unnamed: 8 Unnamed: 9  ... Unnamed: 13  \\\n0     原子力発電所        NaN  新エネルギー等発電所        NaN        NaN  ...         NaN   \n1        NaN        NaN          風力        NaN        太陽光  ...     〔バイオマス〕   \n2       発電所数      最大出力計        発電所数      最大出力計       発電所数  ...        発電所数   \n3          1    2070000          56     428134        127  ...           3   \n4          1    1100000          24     593870         35  ...           4   \n\n  Unnamed: 14 Unnamed: 15 Unnamed: 16 Unnamed: 17 Unnamed: 18 Unnamed: 19  \\\n0         NaN         NaN         NaN         NaN         NaN         その他   \n1         NaN       〔廃棄物〕         NaN           計         NaN         NaN   \n2       最大出力計        発電所数       最大出力計        発電所数       最大出力計        発電所数   \n3       96650           3       49920         184   1128885.1           0   \n4      134850           1       18800          59      993867           0   \n\n  ２０２０年　８月３日公表時点 Unnamed: 21     （単位：kW）  \n0            NaN          合計         NaN  \n1            NaN         NaN         NaN  \n2          最大出力計        発電所数       最大出力計  \n3              0         315  11407842.7  \n4              0          89     2878367  \n\n[5 rows x 23 columns]",
      "text/html": "<div>\n<style scoped>\n    .dataframe tbody tr th:only-of-type {\n        vertical-align: middle;\n    }\n\n    .dataframe tbody tr th {\n        vertical-align: top;\n    }\n\n    .dataframe thead th {\n        text-align: right;\n    }\n</style>\n<table border=\"1\" class=\"dataframe\">\n  <thead>\n    <tr style=\"text-align: right;\">\n      <th></th>\n      <th>１－（２）．都道府県別発電所数、出力数　（２０２０年４月）</th>\n      <th>Unnamed: 1</th>\n      <th>Unnamed: 2</th>\n      <th>Unnamed: 3</th>\n      <th>Unnamed: 4</th>\n      <th>Unnamed: 5</th>\n      <th>Unnamed: 6</th>\n      <th>Unnamed: 7</th>\n      <th>Unnamed: 8</th>\n      <th>Unnamed: 9</th>\n      <th>...</th>\n      <th>Unnamed: 13</th>\n      <th>Unnamed: 14</th>\n      <th>Unnamed: 15</th>\n      <th>Unnamed: 16</th>\n      <th>Unnamed: 17</th>\n      <th>Unnamed: 18</th>\n      <th>Unnamed: 19</th>\n      <th>２０２０年　８月３日公表時点</th>\n      <th>Unnamed: 21</th>\n      <th>（単位：kW）</th>\n    </tr>\n  </thead>\n  <tbody>\n    <tr>\n      <th>0</th>\n      <td>都道府県</td>\n      <td>水力発電所</td>\n      <td>NaN</td>\n      <td>火力発電所</td>\n      <td>NaN</td>\n      <td>原子力発電所</td>\n      <td>NaN</td>\n      <td>新エネルギー等発電所</td>\n      <td>NaN</td>\n      <td>NaN</td>\n      <td>...</td>\n      <td>NaN</td>\n      <td>NaN</td>\n      <td>NaN</td>\n      <td>NaN</td>\n      <td>NaN</td>\n      <td>NaN</td>\n      <td>その他</td>\n      <td>NaN</td>\n      <td>合計</td>\n      <td>NaN</td>\n    </tr>\n    <tr>\n      <th>1</th>\n      <td>NaN</td>\n      <td>NaN</td>\n      <td>NaN</td>\n      <td>NaN</td>\n      <td>NaN</td>\n      <td>NaN</td>\n      <td>NaN</td>\n      <td>風力</td>\n      <td>NaN</td>\n      <td>太陽光</td>\n      <td>...</td>\n      <td>〔バイオマス〕</td>\n      <td>NaN</td>\n      <td>〔廃棄物〕</td>\n      <td>NaN</td>\n      <td>計</td>\n      <td>NaN</td>\n      <td>NaN</td>\n      <td>NaN</td>\n      <td>NaN</td>\n      <td>NaN</td>\n    </tr>\n    <tr>\n      <th>2</th>\n      <td>NaN</td>\n      <td>発電所数</td>\n      <td>最大出力計</td>\n      <td>発電所数</td>\n      <td>最大出力計</td>\n      <td>発電所数</td>\n      <td>最大出力計</td>\n      <td>発電所数</td>\n      <td>最大出力計</td>\n      <td>発電所数</td>\n      <td>...</td>\n      <td>発電所数</td>\n      <td>最大出力計</td>\n      <td>発電所数</td>\n      <td>最大出力計</td>\n      <td>発電所数</td>\n      <td>最大出力計</td>\n      <td>発電所数</td>\n      <td>最大出力計</td>\n      <td>発電所数</td>\n      <td>最大出力計</td>\n    </tr>\n    <tr>\n      <th>3</th>\n      <td>北海道</td>\n      <td>98</td>\n      <td>2032077.6</td>\n      <td>32</td>\n      <td>6176880</td>\n      <td>1</td>\n      <td>2070000</td>\n      <td>56</td>\n      <td>428134</td>\n      <td>127</td>\n      <td>...</td>\n      <td>3</td>\n      <td>96650</td>\n      <td>3</td>\n      <td>49920</td>\n      <td>184</td>\n      <td>1128885.1</td>\n      <td>0</td>\n      <td>0</td>\n      <td>315</td>\n      <td>11407842.7</td>\n    </tr>\n    <tr>\n      <th>4</th>\n      <td>青森県</td>\n      <td>19</td>\n      <td>128750</td>\n      <td>10</td>\n      <td>655750</td>\n      <td>1</td>\n      <td>1100000</td>\n      <td>24</td>\n      <td>593870</td>\n      <td>35</td>\n      <td>...</td>\n      <td>4</td>\n      <td>134850</td>\n      <td>1</td>\n      <td>18800</td>\n      <td>59</td>\n      <td>993867</td>\n      <td>0</td>\n      <td>0</td>\n      <td>89</td>\n      <td>2878367</td>\n    </tr>\n  </tbody>\n</table>\n<p>5 rows × 23 columns</p>\n</div>"
     },
     "execution_count": 2,
     "metadata": {},
     "output_type": "execute_result"
    }
   ],
   "source": [
    "import pandas as pd\n",
    "data = pd.read_excel('sample_file/100knock-process-visualization/chapter-2/data/1-2-2020.xlsx')  # Excel file は、read_excel()関数で読み込み可能\n",
    "data.head()  # 先頭５行を表示"
   ],
   "metadata": {
    "collapsed": false,
    "pycharm": {
     "name": "#%%\n"
    }
   }
  },
  {
   "cell_type": "markdown",
   "source": [
    "- Unnamed のような列や上部の Record に NaN が多く散見される。\n",
    "- ０～２行までの Data が列名を表し、３行目から実際の Data となっている様子。"
   ],
   "metadata": {
    "collapsed": false,
    "pycharm": {
     "name": "#%% md\n"
    }
   }
  },
  {
   "cell_type": "code",
   "execution_count": 3,
   "outputs": [
    {
     "data": {
      "text/plain": "   １－（２）．都道府県別発電所数、出力数　（２０２０年４月）  \\\n49                           沖縄県   \n50                           合　計   \n51                           NaN   \n52                         　備考     \n53                           NaN   \n\n                                           Unnamed: 1  Unnamed: 2 Unnamed: 3  \\\n49                                                  0           0         26   \n50                                               1748  49638035.6        461   \n51                                                NaN         NaN        NaN   \n52  １　バイオマスまたは廃棄物の欄には、専ら又は主として使用する燃料がバイオマス又は廃棄物の場合...         NaN        NaN   \n53  ２　一つの発電所内に複数の発電機が存在し、電源種別が異なる場合には、発電所数は最大出力が最大...         NaN        NaN   \n\n   Unnamed: 4 Unnamed: 5 Unnamed: 6 Unnamed: 7 Unnamed: 8 Unnamed: 9  ...  \\\n49    2470080          0          0         13      18130          1  ...   \n50  169249967         15   33083000        315  3647239.2       2562  ...   \n51        NaN        NaN        NaN        NaN        NaN        NaN  ...   \n52        NaN        NaN        NaN        NaN        NaN        NaN  ...   \n53        NaN        NaN        NaN        NaN        NaN        NaN  ...   \n\n   Unnamed: 13 Unnamed: 14 Unnamed: 15 Unnamed: 16 Unnamed: 17 Unnamed: 18  \\\n49           0           0           0           0          14       30130   \n50          78     2483852          61      971126        2893  14865055.2   \n51         NaN         NaN         NaN         NaN         NaN         NaN   \n52         NaN         NaN         NaN         NaN         NaN         NaN   \n53         NaN         NaN         NaN         NaN         NaN         NaN   \n\n   Unnamed: 19 ２０２０年　８月３日公表時点 Unnamed: 21      （単位：kW）  \n49           0              0          40      2500210  \n50           2          42910        5119  266878967.8  \n51         NaN            NaN         NaN          NaN  \n52         NaN            NaN         NaN          NaN  \n53         NaN            NaN         NaN          NaN  \n\n[5 rows x 23 columns]",
      "text/html": "<div>\n<style scoped>\n    .dataframe tbody tr th:only-of-type {\n        vertical-align: middle;\n    }\n\n    .dataframe tbody tr th {\n        vertical-align: top;\n    }\n\n    .dataframe thead th {\n        text-align: right;\n    }\n</style>\n<table border=\"1\" class=\"dataframe\">\n  <thead>\n    <tr style=\"text-align: right;\">\n      <th></th>\n      <th>１－（２）．都道府県別発電所数、出力数　（２０２０年４月）</th>\n      <th>Unnamed: 1</th>\n      <th>Unnamed: 2</th>\n      <th>Unnamed: 3</th>\n      <th>Unnamed: 4</th>\n      <th>Unnamed: 5</th>\n      <th>Unnamed: 6</th>\n      <th>Unnamed: 7</th>\n      <th>Unnamed: 8</th>\n      <th>Unnamed: 9</th>\n      <th>...</th>\n      <th>Unnamed: 13</th>\n      <th>Unnamed: 14</th>\n      <th>Unnamed: 15</th>\n      <th>Unnamed: 16</th>\n      <th>Unnamed: 17</th>\n      <th>Unnamed: 18</th>\n      <th>Unnamed: 19</th>\n      <th>２０２０年　８月３日公表時点</th>\n      <th>Unnamed: 21</th>\n      <th>（単位：kW）</th>\n    </tr>\n  </thead>\n  <tbody>\n    <tr>\n      <th>49</th>\n      <td>沖縄県</td>\n      <td>0</td>\n      <td>0</td>\n      <td>26</td>\n      <td>2470080</td>\n      <td>0</td>\n      <td>0</td>\n      <td>13</td>\n      <td>18130</td>\n      <td>1</td>\n      <td>...</td>\n      <td>0</td>\n      <td>0</td>\n      <td>0</td>\n      <td>0</td>\n      <td>14</td>\n      <td>30130</td>\n      <td>0</td>\n      <td>0</td>\n      <td>40</td>\n      <td>2500210</td>\n    </tr>\n    <tr>\n      <th>50</th>\n      <td>合　計</td>\n      <td>1748</td>\n      <td>49638035.6</td>\n      <td>461</td>\n      <td>169249967</td>\n      <td>15</td>\n      <td>33083000</td>\n      <td>315</td>\n      <td>3647239.2</td>\n      <td>2562</td>\n      <td>...</td>\n      <td>78</td>\n      <td>2483852</td>\n      <td>61</td>\n      <td>971126</td>\n      <td>2893</td>\n      <td>14865055.2</td>\n      <td>2</td>\n      <td>42910</td>\n      <td>5119</td>\n      <td>266878967.8</td>\n    </tr>\n    <tr>\n      <th>51</th>\n      <td>NaN</td>\n      <td>NaN</td>\n      <td>NaN</td>\n      <td>NaN</td>\n      <td>NaN</td>\n      <td>NaN</td>\n      <td>NaN</td>\n      <td>NaN</td>\n      <td>NaN</td>\n      <td>NaN</td>\n      <td>...</td>\n      <td>NaN</td>\n      <td>NaN</td>\n      <td>NaN</td>\n      <td>NaN</td>\n      <td>NaN</td>\n      <td>NaN</td>\n      <td>NaN</td>\n      <td>NaN</td>\n      <td>NaN</td>\n      <td>NaN</td>\n    </tr>\n    <tr>\n      <th>52</th>\n      <td>備考</td>\n      <td>１　バイオマスまたは廃棄物の欄には、専ら又は主として使用する燃料がバイオマス又は廃棄物の場合...</td>\n      <td>NaN</td>\n      <td>NaN</td>\n      <td>NaN</td>\n      <td>NaN</td>\n      <td>NaN</td>\n      <td>NaN</td>\n      <td>NaN</td>\n      <td>NaN</td>\n      <td>...</td>\n      <td>NaN</td>\n      <td>NaN</td>\n      <td>NaN</td>\n      <td>NaN</td>\n      <td>NaN</td>\n      <td>NaN</td>\n      <td>NaN</td>\n      <td>NaN</td>\n      <td>NaN</td>\n      <td>NaN</td>\n    </tr>\n    <tr>\n      <th>53</th>\n      <td>NaN</td>\n      <td>２　一つの発電所内に複数の発電機が存在し、電源種別が異なる場合には、発電所数は最大出力が最大...</td>\n      <td>NaN</td>\n      <td>NaN</td>\n      <td>NaN</td>\n      <td>NaN</td>\n      <td>NaN</td>\n      <td>NaN</td>\n      <td>NaN</td>\n      <td>NaN</td>\n      <td>...</td>\n      <td>NaN</td>\n      <td>NaN</td>\n      <td>NaN</td>\n      <td>NaN</td>\n      <td>NaN</td>\n      <td>NaN</td>\n      <td>NaN</td>\n      <td>NaN</td>\n      <td>NaN</td>\n      <td>NaN</td>\n    </tr>\n  </tbody>\n</table>\n<p>5 rows × 23 columns</p>\n</div>"
     },
     "execution_count": 3,
     "metadata": {},
     "output_type": "execute_result"
    }
   ],
   "source": [
    "data.tail()  # 末尾５行を表示"
   ],
   "metadata": {
    "collapsed": false,
    "pycharm": {
     "name": "#%%\n"
    }
   }
  },
  {
   "cell_type": "markdown",
   "source": [
    "- 沖縄県までは問題ないが、合計行や備考行が含まれてしまっている。\n",
    "\n",
    "沖縄県までの Data があれば合計値は計算可能なので、削除する方針をとる。"
   ],
   "metadata": {
    "collapsed": false,
    "pycharm": {
     "name": "#%% md\n"
    }
   }
  },
  {
   "cell_type": "markdown",
   "source": [
    "- 先頭は、実際に Data が始まる４行目から Data 取得。\n",
    "- 列名はないもの。\n",
    "- 末尾は、合計から下の Data を削除\n",
    "\n",
    "として Data を再取得する"
   ],
   "metadata": {
    "collapsed": false,
    "pycharm": {
     "name": "#%% md\n"
    }
   }
  },
  {
   "cell_type": "code",
   "execution_count": 4,
   "outputs": [
    {
     "data": {
      "text/plain": "    0   1          2     3          4    5          6     7         8      9   \\\n0  北海道  98  2032077.6  32.0  6176880.0  1.0  2070000.0  56.0  428134.0  127.0   \n1  青森県  19   128750.0  10.0   655750.0  1.0  1100000.0  24.0  593870.0   35.0   \n2  岩手県  40   274661.0   3.0   238000.0  0.0        0.0   5.0  109180.0   27.0   \n3  宮城県  22    63915.0  10.0  2211050.0  1.0  1650000.0   1.0   20400.0   75.0   \n4  秋田県  42   287863.0   4.0  2497550.0  0.0        0.0  24.0  422518.6   24.0   \n\n   ...   13        14   15       16     17         18   19   20     21  \\\n0  ...  3.0   96650.0  3.0  49920.0  184.0  1128885.1  0.0  0.0  315.0   \n1  ...  4.0  134850.0  1.0  18800.0   59.0   993867.0  0.0  0.0   89.0   \n2  ...  2.0   89000.0  0.0      0.0   34.0   451113.4  0.0  0.0   77.0   \n3  ...  0.0   12900.0  4.0  35850.0   76.0   454812.0  0.0  0.0  109.0   \n4  ...  1.0   20500.0  0.0  15000.0   51.0   627939.2  0.0  0.0   97.0   \n\n           22  \n0  11407842.7  \n1   2878367.0  \n2    963774.4  \n3   4379777.0  \n4   3413352.2  \n\n[5 rows x 23 columns]",
      "text/html": "<div>\n<style scoped>\n    .dataframe tbody tr th:only-of-type {\n        vertical-align: middle;\n    }\n\n    .dataframe tbody tr th {\n        vertical-align: top;\n    }\n\n    .dataframe thead th {\n        text-align: right;\n    }\n</style>\n<table border=\"1\" class=\"dataframe\">\n  <thead>\n    <tr style=\"text-align: right;\">\n      <th></th>\n      <th>0</th>\n      <th>1</th>\n      <th>2</th>\n      <th>3</th>\n      <th>4</th>\n      <th>5</th>\n      <th>6</th>\n      <th>7</th>\n      <th>8</th>\n      <th>9</th>\n      <th>...</th>\n      <th>13</th>\n      <th>14</th>\n      <th>15</th>\n      <th>16</th>\n      <th>17</th>\n      <th>18</th>\n      <th>19</th>\n      <th>20</th>\n      <th>21</th>\n      <th>22</th>\n    </tr>\n  </thead>\n  <tbody>\n    <tr>\n      <th>0</th>\n      <td>北海道</td>\n      <td>98</td>\n      <td>2032077.6</td>\n      <td>32.0</td>\n      <td>6176880.0</td>\n      <td>1.0</td>\n      <td>2070000.0</td>\n      <td>56.0</td>\n      <td>428134.0</td>\n      <td>127.0</td>\n      <td>...</td>\n      <td>3.0</td>\n      <td>96650.0</td>\n      <td>3.0</td>\n      <td>49920.0</td>\n      <td>184.0</td>\n      <td>1128885.1</td>\n      <td>0.0</td>\n      <td>0.0</td>\n      <td>315.0</td>\n      <td>11407842.7</td>\n    </tr>\n    <tr>\n      <th>1</th>\n      <td>青森県</td>\n      <td>19</td>\n      <td>128750.0</td>\n      <td>10.0</td>\n      <td>655750.0</td>\n      <td>1.0</td>\n      <td>1100000.0</td>\n      <td>24.0</td>\n      <td>593870.0</td>\n      <td>35.0</td>\n      <td>...</td>\n      <td>4.0</td>\n      <td>134850.0</td>\n      <td>1.0</td>\n      <td>18800.0</td>\n      <td>59.0</td>\n      <td>993867.0</td>\n      <td>0.0</td>\n      <td>0.0</td>\n      <td>89.0</td>\n      <td>2878367.0</td>\n    </tr>\n    <tr>\n      <th>2</th>\n      <td>岩手県</td>\n      <td>40</td>\n      <td>274661.0</td>\n      <td>3.0</td>\n      <td>238000.0</td>\n      <td>0.0</td>\n      <td>0.0</td>\n      <td>5.0</td>\n      <td>109180.0</td>\n      <td>27.0</td>\n      <td>...</td>\n      <td>2.0</td>\n      <td>89000.0</td>\n      <td>0.0</td>\n      <td>0.0</td>\n      <td>34.0</td>\n      <td>451113.4</td>\n      <td>0.0</td>\n      <td>0.0</td>\n      <td>77.0</td>\n      <td>963774.4</td>\n    </tr>\n    <tr>\n      <th>3</th>\n      <td>宮城県</td>\n      <td>22</td>\n      <td>63915.0</td>\n      <td>10.0</td>\n      <td>2211050.0</td>\n      <td>1.0</td>\n      <td>1650000.0</td>\n      <td>1.0</td>\n      <td>20400.0</td>\n      <td>75.0</td>\n      <td>...</td>\n      <td>0.0</td>\n      <td>12900.0</td>\n      <td>4.0</td>\n      <td>35850.0</td>\n      <td>76.0</td>\n      <td>454812.0</td>\n      <td>0.0</td>\n      <td>0.0</td>\n      <td>109.0</td>\n      <td>4379777.0</td>\n    </tr>\n    <tr>\n      <th>4</th>\n      <td>秋田県</td>\n      <td>42</td>\n      <td>287863.0</td>\n      <td>4.0</td>\n      <td>2497550.0</td>\n      <td>0.0</td>\n      <td>0.0</td>\n      <td>24.0</td>\n      <td>422518.6</td>\n      <td>24.0</td>\n      <td>...</td>\n      <td>1.0</td>\n      <td>20500.0</td>\n      <td>0.0</td>\n      <td>15000.0</td>\n      <td>51.0</td>\n      <td>627939.2</td>\n      <td>0.0</td>\n      <td>0.0</td>\n      <td>97.0</td>\n      <td>3413352.2</td>\n    </tr>\n  </tbody>\n</table>\n<p>5 rows × 23 columns</p>\n</div>"
     },
     "execution_count": 4,
     "metadata": {},
     "output_type": "execute_result"
    }
   ],
   "source": [
    "data = pd.read_excel('sample_file/100knock-process-visualization/chapter-2/data/1-2-2020.xlsx', skiprows=4, header=None)  # skiprows=4 でData の取得開始行を４行目からに指定。header=None で列名なし、に設定。\n",
    "data.head()  # 先頭５行を表示"
   ],
   "metadata": {
    "collapsed": false,
    "pycharm": {
     "name": "#%%\n"
    }
   }
  },
  {
   "cell_type": "code",
   "execution_count": 5,
   "outputs": [
    {
     "data": {
      "text/plain": "      0   1          2     3          4    5          6     7         8   \\\n42   熊本県  49   803395.0   5.0  1562280.0  0.0        0.0   2.0   26000.0   \n43   大分県  38   300520.0   9.0  4111600.0  0.0        0.0   1.0   11000.0   \n44   宮崎県  48  2158730.0   4.0   204940.0  0.0        0.0   1.0   16000.0   \n45  鹿児島県  35   195808.0  30.0  1307600.0  1.0  1780000.0  18.0  225470.0   \n46   沖縄県   0        0.0  26.0  2470080.0  0.0        0.0  13.0   18130.0   \n\n       9   ...   13        14   15       16     17        18   19   20     21  \\\n42   81.0  ...  1.0   76780.0  2.0  10500.0   83.0  258540.0  0.0  0.0  137.0   \n43   53.0  ...  4.0  118200.0  0.0      0.0   60.0  558694.6  0.0  0.0  107.0   \n44   35.0  ...  3.0   76700.0  0.0      0.0   36.0  264774.5  0.0  0.0   88.0   \n45  143.0  ...  2.0   72700.0  0.0      0.0  164.0  877953.0  0.0  0.0  230.0   \n46    1.0  ...  0.0       0.0  0.0      0.0   14.0   30130.0  0.0  0.0   40.0   \n\n           22  \n42  2624215.0  \n43  4970814.6  \n44  2628444.5  \n45  4161361.0  \n46  2500210.0  \n\n[5 rows x 23 columns]",
      "text/html": "<div>\n<style scoped>\n    .dataframe tbody tr th:only-of-type {\n        vertical-align: middle;\n    }\n\n    .dataframe tbody tr th {\n        vertical-align: top;\n    }\n\n    .dataframe thead th {\n        text-align: right;\n    }\n</style>\n<table border=\"1\" class=\"dataframe\">\n  <thead>\n    <tr style=\"text-align: right;\">\n      <th></th>\n      <th>0</th>\n      <th>1</th>\n      <th>2</th>\n      <th>3</th>\n      <th>4</th>\n      <th>5</th>\n      <th>6</th>\n      <th>7</th>\n      <th>8</th>\n      <th>9</th>\n      <th>...</th>\n      <th>13</th>\n      <th>14</th>\n      <th>15</th>\n      <th>16</th>\n      <th>17</th>\n      <th>18</th>\n      <th>19</th>\n      <th>20</th>\n      <th>21</th>\n      <th>22</th>\n    </tr>\n  </thead>\n  <tbody>\n    <tr>\n      <th>42</th>\n      <td>熊本県</td>\n      <td>49</td>\n      <td>803395.0</td>\n      <td>5.0</td>\n      <td>1562280.0</td>\n      <td>0.0</td>\n      <td>0.0</td>\n      <td>2.0</td>\n      <td>26000.0</td>\n      <td>81.0</td>\n      <td>...</td>\n      <td>1.0</td>\n      <td>76780.0</td>\n      <td>2.0</td>\n      <td>10500.0</td>\n      <td>83.0</td>\n      <td>258540.0</td>\n      <td>0.0</td>\n      <td>0.0</td>\n      <td>137.0</td>\n      <td>2624215.0</td>\n    </tr>\n    <tr>\n      <th>43</th>\n      <td>大分県</td>\n      <td>38</td>\n      <td>300520.0</td>\n      <td>9.0</td>\n      <td>4111600.0</td>\n      <td>0.0</td>\n      <td>0.0</td>\n      <td>1.0</td>\n      <td>11000.0</td>\n      <td>53.0</td>\n      <td>...</td>\n      <td>4.0</td>\n      <td>118200.0</td>\n      <td>0.0</td>\n      <td>0.0</td>\n      <td>60.0</td>\n      <td>558694.6</td>\n      <td>0.0</td>\n      <td>0.0</td>\n      <td>107.0</td>\n      <td>4970814.6</td>\n    </tr>\n    <tr>\n      <th>44</th>\n      <td>宮崎県</td>\n      <td>48</td>\n      <td>2158730.0</td>\n      <td>4.0</td>\n      <td>204940.0</td>\n      <td>0.0</td>\n      <td>0.0</td>\n      <td>1.0</td>\n      <td>16000.0</td>\n      <td>35.0</td>\n      <td>...</td>\n      <td>3.0</td>\n      <td>76700.0</td>\n      <td>0.0</td>\n      <td>0.0</td>\n      <td>36.0</td>\n      <td>264774.5</td>\n      <td>0.0</td>\n      <td>0.0</td>\n      <td>88.0</td>\n      <td>2628444.5</td>\n    </tr>\n    <tr>\n      <th>45</th>\n      <td>鹿児島県</td>\n      <td>35</td>\n      <td>195808.0</td>\n      <td>30.0</td>\n      <td>1307600.0</td>\n      <td>1.0</td>\n      <td>1780000.0</td>\n      <td>18.0</td>\n      <td>225470.0</td>\n      <td>143.0</td>\n      <td>...</td>\n      <td>2.0</td>\n      <td>72700.0</td>\n      <td>0.0</td>\n      <td>0.0</td>\n      <td>164.0</td>\n      <td>877953.0</td>\n      <td>0.0</td>\n      <td>0.0</td>\n      <td>230.0</td>\n      <td>4161361.0</td>\n    </tr>\n    <tr>\n      <th>46</th>\n      <td>沖縄県</td>\n      <td>0</td>\n      <td>0.0</td>\n      <td>26.0</td>\n      <td>2470080.0</td>\n      <td>0.0</td>\n      <td>0.0</td>\n      <td>13.0</td>\n      <td>18130.0</td>\n      <td>1.0</td>\n      <td>...</td>\n      <td>0.0</td>\n      <td>0.0</td>\n      <td>0.0</td>\n      <td>0.0</td>\n      <td>14.0</td>\n      <td>30130.0</td>\n      <td>0.0</td>\n      <td>0.0</td>\n      <td>40.0</td>\n      <td>2500210.0</td>\n    </tr>\n  </tbody>\n</table>\n<p>5 rows × 23 columns</p>\n</div>"
     },
     "execution_count": 5,
     "metadata": {},
     "output_type": "execute_result"
    }
   ],
   "source": [
    "data.drop(data.tail(4).index, inplace=True)  # .drop() に data.tail(4).index で取得した末尾４行の index を渡し、inplace=True で破壊的に削除。\n",
    "data.tail()  # 末尾５行を表示"
   ],
   "metadata": {
    "collapsed": false,
    "pycharm": {
     "name": "#%%\n"
    }
   }
  },
  {
   "cell_type": "markdown",
   "source": [
    "- 今回は Data を確認せずに読み込みを実施したが、実際には大容量File でない限りは、一度中身を確認してから加工を行なう。\n",
    "- pandas はあくまで表形式の Data を前提に読み込みを行なうため、表形式までの加工が必要になる。"
   ],
   "metadata": {
    "collapsed": false,
    "pycharm": {
     "name": "#%% md\n"
    }
   }
  }
 ],
 "metadata": {
  "kernelspec": {
   "display_name": "Python 3",
   "language": "python",
   "name": "python3"
  },
  "language_info": {
   "codemirror_mode": {
    "name": "ipython",
    "version": 2
   },
   "file_extension": ".py",
   "mimetype": "text/x-python",
   "name": "python",
   "nbconvert_exporter": "python",
   "pygments_lexer": "ipython2",
   "version": "2.7.6"
  }
 },
 "nbformat": 4,
 "nbformat_minor": 0
}