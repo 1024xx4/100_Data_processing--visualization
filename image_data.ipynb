{
 "cells": [
  {
   "cell_type": "markdown",
   "source": [
    "# 画像Data の加工・可視化\n",
    "#### 利用Sean\n",
    "- 画像認識による AI Model 開発\n",
    "- 物体検知\n",
    "- Motion Capture"
   ],
   "metadata": {
    "collapsed": false,
    "pycharm": {
     "name": "#%% md\n"
    }
   }
  }
 ],
 "metadata": {
  "kernelspec": {
   "display_name": "Python 3",
   "language": "python",
   "name": "python3"
  },
  "language_info": {
   "codemirror_mode": {
    "name": "ipython",
    "version": 2
   },
   "file_extension": ".py",
   "mimetype": "text/x-python",
   "name": "python",
   "nbconvert_exporter": "python",
   "pygments_lexer": "ipython2",
   "version": "2.7.6"
  }
 },
 "nbformat": 4,
 "nbformat_minor": 0
}