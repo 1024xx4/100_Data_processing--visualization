{
 "cells": [
  {
   "cell_type": "markdown",
   "source": [
    "# 画像Data の加工・可視化\n",
    "#### 利用Sean\n",
    "- 画像認識による AI Model 開発\n",
    "- 物体検知\n",
    "- Motion Capture"
   ],
   "metadata": {
    "collapsed": false,
    "pycharm": {
     "name": "#%% md\n"
    }
   }
  },
  {
   "cell_type": "markdown",
   "source": [
    "## 画像File を読み込んで表示してみよう"
   ],
   "metadata": {
    "collapsed": false,
    "pycharm": {
     "name": "#%% md\n"
    }
   }
  },
  {
   "cell_type": "code",
   "execution_count": 10,
   "outputs": [
    {
     "data": {
      "text/plain": "array([[[ 8, 10,  4],\n        [ 8, 10,  4],\n        [ 8, 10,  4],\n        ...,\n        [47, 69, 45],\n        [46, 66, 47],\n        [45, 65, 46]],\n\n       [[ 8, 10,  4],\n        [ 8, 10,  4],\n        [ 8, 10,  4],\n        ...,\n        [50, 72, 48],\n        [49, 70, 48],\n        [48, 69, 47]],\n\n       [[ 9, 12,  3],\n        [ 9, 12,  3],\n        [ 9, 12,  3],\n        ...,\n        [52, 74, 49],\n        [50, 72, 48],\n        [48, 70, 46]],\n\n       ...,\n\n       [[20, 48,  5],\n        [17, 47,  4],\n        [15, 46,  1],\n        ...,\n        [27, 32, 31],\n        [21, 21, 27],\n        [15, 14, 23]],\n\n       [[18, 49,  4],\n        [17, 48,  3],\n        [15, 47,  0],\n        ...,\n        [27, 31, 25],\n        [20, 22, 22],\n        [17, 16, 18]],\n\n       [[18, 50,  3],\n        [16, 48,  1],\n        [12, 46,  0],\n        ...,\n        [26, 32, 21],\n        [21, 22, 18],\n        [17, 17, 17]]], dtype=uint8)"
     },
     "execution_count": 10,
     "metadata": {},
     "output_type": "execute_result"
    }
   ],
   "source": [
    "from cv2 import cv2\n",
    "\n",
    "img = cv2.imread('data/chapter5/sample.jpg')  # Image data の読み込み\n",
    "img"
   ],
   "metadata": {
    "collapsed": false,
    "pycharm": {
     "name": "#%%\n"
    }
   }
  },
  {
   "cell_type": "markdown",
   "source": [
    "単純に img を出力しただけでは、数字の羅列が出力される。\n",
    "> 読み込みを行なうことで、Computer が扱える形の数字Data に変換されているため。"
   ],
   "metadata": {
    "collapsed": false,
    "pycharm": {
     "name": "#%% md\n"
    }
   }
  },
  {
   "cell_type": "code",
   "execution_count": 11,
   "outputs": [
    {
     "data": {
      "text/plain": "-1"
     },
     "execution_count": 11,
     "metadata": {},
     "output_type": "execute_result"
    }
   ],
   "source": [
    "# 画像を表示してみる\n",
    "cv2.imshow('sample', img)\n",
    "cv2.waitKey(0)"
   ],
   "metadata": {
    "collapsed": false,
    "pycharm": {
     "name": "#%%\n"
    }
   }
  },
  {
   "cell_type": "markdown",
   "source": [
    "## 画像Data の中身を確認しよう"
   ],
   "metadata": {
    "collapsed": false,
    "pycharm": {
     "name": "#%% md\n"
    }
   }
  },
  {
   "cell_type": "code",
   "execution_count": 12,
   "outputs": [
    {
     "data": {
      "text/plain": "(3456, 5184, 3)"
     },
     "execution_count": 12,
     "metadata": {},
     "output_type": "execute_result"
    }
   ],
   "source": [
    "img.shape"
   ],
   "metadata": {
    "collapsed": false,
    "pycharm": {
     "name": "#%%\n"
    }
   }
  },
  {
   "cell_type": "markdown",
   "source": [
    "- 3456, 5184 は解像度（画像の大きさ、高さ x 横幅）を表す。\n",
    "  > 一般的には、「横幅 x 高さ」表記が多いので要注意。\n",
    "- 3 は色の数が赤、青、緑の３色で表現されているため、３チャンネルという意味になる。\n",
    "  > Monochrome の場合は、1 になる。\n",
    "  > 一般的には RGB という順番だが、OpenCV は、BGR の逆順になっている。"
   ],
   "metadata": {
    "collapsed": false,
    "pycharm": {
     "name": "#%% md\n"
    }
   }
  },
  {
   "cell_type": "markdown",
   "source": [
    "もう少し細かく Data を見るため、０番目の Data を指定する。"
   ],
   "metadata": {
    "collapsed": false,
    "pycharm": {
     "name": "#%% md\n"
    }
   }
  },
  {
   "cell_type": "code",
   "execution_count": 13,
   "outputs": [
    {
     "name": "stdout",
     "output_type": "stream",
     "text": [
      "[[ 8 10  4]\n",
      " [ 8 10  4]\n",
      " [ 8 10  4]\n",
      " ...\n",
      " [47 69 45]\n",
      " [46 66 47]\n",
      " [45 65 46]]\n",
      "(5184, 3)\n"
     ]
    }
   ],
   "source": [
    "print(img[0])\n",
    "print(img[0].shape)"
   ],
   "metadata": {
    "collapsed": false,
    "pycharm": {
     "name": "#%%\n"
    }
   }
  },
  {
   "cell_type": "markdown",
   "source": [
    "Data形状は、5184 x 3 となっていて、つまり０番目の高さの Data を取得しており、最初の\\[8 10 14] はそれぞれ BGR の色情報を示している。"
   ],
   "metadata": {
    "collapsed": false,
    "pycharm": {
     "name": "#%% md\n"
    }
   }
  },
  {
   "cell_type": "markdown",
   "source": [
    "２つ目の横幅を 0 に指定してみる"
   ],
   "metadata": {
    "collapsed": false,
    "pycharm": {
     "name": "#%% md\n"
    }
   }
  },
  {
   "cell_type": "code",
   "execution_count": 14,
   "outputs": [
    {
     "name": "stdout",
     "output_type": "stream",
     "text": [
      "[[ 8 10  4]\n",
      " [ 8 10  4]\n",
      " [ 9 12  3]\n",
      " ...\n",
      " [20 48  5]\n",
      " [18 49  4]\n",
      " [18 50  3]]\n",
      "(3456, 3)\n"
     ]
    }
   ],
   "source": [
    "print(img[:, 0])\n",
    "print(img[:, 0].shape)"
   ],
   "metadata": {
    "collapsed": false,
    "pycharm": {
     "name": "#%%\n"
    }
   }
  },
  {
   "cell_type": "markdown",
   "source": [
    "前述と同様に \\[8 10 4] のように BGR の Data が確認できる。\n",
    "Data 形状は 3456 x 3 となっており、高さ x 色情報になっている。"
   ],
   "metadata": {
    "collapsed": false,
    "pycharm": {
     "name": "#%% md\n"
    }
   }
  },
  {
   "cell_type": "markdown",
   "source": [
    "色情報を固定してみる"
   ],
   "metadata": {
    "collapsed": false,
    "pycharm": {
     "name": "#%% md\n"
    }
   }
  },
  {
   "cell_type": "code",
   "execution_count": 15,
   "outputs": [
    {
     "name": "stdout",
     "output_type": "stream",
     "text": [
      "[[ 8  8  8 ... 47 46 45]\n",
      " [ 8  8  8 ... 50 49 48]\n",
      " [ 9  9  9 ... 52 50 48]\n",
      " ...\n",
      " [20 17 15 ... 27 21 15]\n",
      " [18 17 15 ... 27 20 17]\n",
      " [18 16 12 ... 26 21 17]]\n",
      "(3456, 5184)\n"
     ]
    }
   ],
   "source": [
    "print(img[:,:,0])  # 最後の Data のみ 0 にして、今回でいうと青色の Data のみ取得\n",
    "print(img[:,:,0].shape)"
   ],
   "metadata": {
    "collapsed": false,
    "pycharm": {
     "name": "#%%\n"
    }
   }
  },
  {
   "cell_type": "markdown",
   "source": [
    "- \\[8 8 8 ... 47 46 45] の部分が5184個になり横幅方向の Data.\n",
    "- [] で囲われた array が34356個ある。\n",
    "\n",
    "画像Data は非構造Data ではあるが読み込んでしまえば、numpy の array として使用でき、数字Data として扱える。"
   ],
   "metadata": {
    "collapsed": false,
    "pycharm": {
     "name": "#%% md\n"
    }
   }
  },
  {
   "cell_type": "markdown",
   "source": [
    "## 画像Data を切り出してみよう"
   ],
   "metadata": {
    "collapsed": false,
    "pycharm": {
     "name": "#%% md\n"
    }
   }
  },
  {
   "cell_type": "code",
   "execution_count": 16,
   "outputs": [
    {
     "data": {
      "text/plain": "-1"
     },
     "execution_count": 16,
     "metadata": {},
     "output_type": "execute_result"
    }
   ],
   "source": [
    "img_extract = img[700:1200, 300:800, :]  # 700~1199までの500個、300~799までの500個の 500x500　Data で Slice\n",
    "cv2.imshow('Img Extract', img_extract)\n",
    "cv2.waitKey(0)"
   ],
   "metadata": {
    "collapsed": false,
    "pycharm": {
     "name": "#%%\n"
    }
   }
  },
  {
   "cell_type": "markdown",
   "source": [
    "画像全体の左上の数字８が取得できている。"
   ],
   "metadata": {
    "collapsed": false,
    "pycharm": {
     "name": "#%% md\n"
    }
   }
  },
  {
   "cell_type": "markdown",
   "source": [
    "Color 指定をしてみる"
   ],
   "metadata": {
    "collapsed": false,
    "pycharm": {
     "name": "#%% md\n"
    }
   }
  },
  {
   "cell_type": "code",
   "execution_count": 17,
   "outputs": [
    {
     "data": {
      "text/plain": "-1"
     },
     "execution_count": 17,
     "metadata": {},
     "output_type": "execute_result"
    }
   ],
   "source": [
    "cv2.imshow('Img Extract Blue', img_extract[:, :, 0])  # 青色読み込み\n",
    "cv2.waitKey(0)"
   ],
   "metadata": {
    "collapsed": false,
    "pycharm": {
     "name": "#%%\n"
    }
   }
  },
  {
   "cell_type": "markdown",
   "source": [
    "全体的に黒色で画像が表示され、特に芝生の部分も黒く塗られてしまっている印象。"
   ],
   "metadata": {
    "collapsed": false,
    "pycharm": {
     "name": "#%% md\n"
    }
   }
  },
  {
   "cell_type": "code",
   "execution_count": 18,
   "outputs": [
    {
     "data": {
      "text/plain": "-1"
     },
     "execution_count": 18,
     "metadata": {},
     "output_type": "execute_result"
    }
   ],
   "source": [
    "cv2.imshow('Img Extract Green', img_extract[:, :, 1])  # 緑色読み込み\n",
    "cv2.waitKey(0)"
   ],
   "metadata": {
    "collapsed": false,
    "pycharm": {
     "name": "#%%\n"
    }
   }
  },
  {
   "cell_type": "markdown",
   "source": [
    "芝生の部分がかなり白色で表現されている。\n",
    "Monochrome の場合、大きいほ値ほど白色になるため、今回は、緑色の要素が強い芝生が白くなっている。"
   ],
   "metadata": {
    "collapsed": false,
    "pycharm": {
     "name": "#%% md\n"
    }
   }
  },
  {
   "cell_type": "code",
   "execution_count": null,
   "outputs": [],
   "source": [],
   "metadata": {
    "collapsed": false,
    "pycharm": {
     "name": "#%%\n"
    }
   }
  }
 ],
 "metadata": {
  "kernelspec": {
   "display_name": "Python 3",
   "language": "python",
   "name": "python3"
  },
  "language_info": {
   "codemirror_mode": {
    "name": "ipython",
    "version": 2
   },
   "file_extension": ".py",
   "mimetype": "text/x-python",
   "name": "python",
   "nbconvert_exporter": "python",
   "pygments_lexer": "ipython2",
   "version": "2.7.6"
  }
 },
 "nbformat": 4,
 "nbformat_minor": 0
}