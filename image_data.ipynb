{
 "cells": [
  {
   "cell_type": "markdown",
   "source": [
    "# 画像Data の加工・可視化\n",
    "#### 利用Sean\n",
    "- 画像認識による AI Model 開発\n",
    "- 物体検知\n",
    "- Motion Capture"
   ],
   "metadata": {
    "collapsed": false,
    "pycharm": {
     "name": "#%% md\n"
    }
   }
  },
  {
   "cell_type": "markdown",
   "source": [
    "## 画像File を読み込んで表示してみよう"
   ],
   "metadata": {
    "collapsed": false,
    "pycharm": {
     "name": "#%% md\n"
    }
   }
  },
  {
   "cell_type": "code",
   "execution_count": 2,
   "outputs": [
    {
     "data": {
      "text/plain": "array([[[ 8, 10,  4],\n        [ 8, 10,  4],\n        [ 8, 10,  4],\n        ...,\n        [47, 69, 45],\n        [46, 66, 47],\n        [45, 65, 46]],\n\n       [[ 8, 10,  4],\n        [ 8, 10,  4],\n        [ 8, 10,  4],\n        ...,\n        [50, 72, 48],\n        [49, 70, 48],\n        [48, 69, 47]],\n\n       [[ 9, 12,  3],\n        [ 9, 12,  3],\n        [ 9, 12,  3],\n        ...,\n        [52, 74, 49],\n        [50, 72, 48],\n        [48, 70, 46]],\n\n       ...,\n\n       [[20, 48,  5],\n        [17, 47,  4],\n        [15, 46,  1],\n        ...,\n        [27, 32, 31],\n        [21, 21, 27],\n        [15, 14, 23]],\n\n       [[18, 49,  4],\n        [17, 48,  3],\n        [15, 47,  0],\n        ...,\n        [27, 31, 25],\n        [20, 22, 22],\n        [17, 16, 18]],\n\n       [[18, 50,  3],\n        [16, 48,  1],\n        [12, 46,  0],\n        ...,\n        [26, 32, 21],\n        [21, 22, 18],\n        [17, 17, 17]]], dtype=uint8)"
     },
     "execution_count": 2,
     "metadata": {},
     "output_type": "execute_result"
    }
   ],
   "source": [
    "import cv2\n",
    "img = cv2.imread('data/chapter5/sample.jpg')  # Image data の読み込み\n",
    "img"
   ],
   "metadata": {
    "collapsed": false,
    "pycharm": {
     "name": "#%%\n"
    }
   }
  },
  {
   "cell_type": "markdown",
   "source": [
    "単純に img を出力しただけでは、数字の羅列が出力される。\n",
    "> 読み込みを行なうことで、Computer が扱える形の数字Data に変換されているため。"
   ],
   "metadata": {
    "collapsed": false,
    "pycharm": {
     "name": "#%% md\n"
    }
   }
  },
  {
   "cell_type": "code",
   "execution_count": 3,
   "outputs": [
    {
     "data": {
      "text/plain": "-1"
     },
     "execution_count": 3,
     "metadata": {},
     "output_type": "execute_result"
    }
   ],
   "source": [
    "# 画像を表示してみる\n",
    "cv2.imshow('sample', img)\n",
    "cv2.waitKey(0)"
   ],
   "metadata": {
    "collapsed": false,
    "pycharm": {
     "name": "#%%\n"
    }
   }
  }
 ],
 "metadata": {
  "kernelspec": {
   "display_name": "Python 3",
   "language": "python",
   "name": "python3"
  },
  "language_info": {
   "codemirror_mode": {
    "name": "ipython",
    "version": 2
   },
   "file_extension": ".py",
   "mimetype": "text/x-python",
   "name": "python",
   "nbconvert_exporter": "python",
   "pygments_lexer": "ipython2",
   "version": "2.7.6"
  }
 },
 "nbformat": 4,
 "nbformat_minor": 0
}